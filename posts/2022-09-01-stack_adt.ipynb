{
 "cells": [
  {
   "cell_type": "raw",
   "metadata": {},
   "source": [
    "---\n",
    "title: Stack ADT\n",
    "date: 2022-09-01\n",
    "categories: [AbstractDataType, Algorithm]\n",
    "draft: false\n",
    "---"
   ]
  },
  {
   "cell_type": "markdown",
   "metadata": {},
   "source": [
    "## Summary notes\n",
    "\n",
    "Implementation of the Stack ADT using a `deque`.\n",
    "\n",
    "### What is a stack?\n",
    "\n",
    "A stack is....\n",
    "\n",
    "> [A]n ordered collection of items where the addition of new items and the removal of existing items always takes place at the same end.\n",
    "> This end is commonly referred to as the “top.”\n",
    "> The end opposite the top is known as the “base.”\n",
    ">\n",
    "> The base of the stack is significant since items stored in the stack that are closer to the base represent those that have been in the stack the longest.\n",
    "> The most recently added item is the one that is in position to be removed first. This ordering principle is sometimes called LIFO, last-in first-out.\n",
    "> It provides an ordering based on length of time in the collection. Newer items are near the top, while older items are near the base.\n",
    ">\n",
    "> [What is a Stack?](https://runestone.academy/ns/books/published/pythonds/BasicDS/WhatisaStack.html) (Problem Solving with Algorithms and Data Structures using Python)\n",
    "\n",
    "### Stack ADT\n",
    "\n",
    "| operation  | description                                   | python                      |\n",
    "| ---------- | ----------------------------------------------| --------------------------- |\n",
    "| *new*      | Initialise an empty stack                     | `s = deque()` *or* `s = []` |\n",
    "| *is empty* | Return true if the stack contains no items    | `len(s) == 0`               |\n",
    "| *push*     | Add `x` to the top of the stack               | `s.append(x)`               |\n",
    "| *peek*     | Return the top item of the stack              | `s[-1]`                     |\n",
    "| *pop*      | Remove and return the top item from the stack | `s.pop()`                   |\n",
    "\n",
    "### Example use\n",
    "\n",
    "We showed one (classic) example of how a *Stack* can be used:\n",
    "How we can use a *Stack* to check if a given expression has balanced brackets.[^1]\n",
    "\n",
    "We took the following approach:\n",
    "Let *stack* be an empty stack.\n",
    "Iterate over *expression*.\n",
    "For each *char* in *expression*, if it is a left opening bracket, then push it in *stack*.\n",
    "Otherwise if it is a right closing bracket, then we check if it is the expected closing bracket, given the top of *stack*.\n",
    "If it is not the expected closing bracket, then *expression* is unbalanced.\n",
    "Otherwise, pop from *stack*.\n",
    "\n",
    "After the iteration is complete, we perfrom a final check that *stack* is empty.\n",
    "If *stack* is empty, then *expression* is balanced.\n",
    "Otherwise, *expression* is unbalanced.\n",
    "\n",
    "Below is the algorithm we used to implement the approach.[^2]\n",
    "\n",
    "1. Let *stack* be an empty `stack`\n",
    "2. Let *matching* be an empty `map`\n",
    "3. Populate *matching*, associating each right closing bracket with its partner left opening bracket\n",
    "   - Example *matching*(>) = <\n",
    "4. Let *left* be values(*matching*) as a `set`\n",
    "5. Let *right* be keys(*matching*)\n",
    "6. For *char* ∈ *expression*\n",
    "   1. If *char* ∈ *left*\n",
    "      1. **push**(*stack*, *char*)\n",
    "   2. Otherwise if *char* ∈ *right*\n",
    "      1. If **is_empty**(*stack*) or **peek**(*stack*) ≠ *matching*(*char*)\n",
    "         1. Let *is_balanced* = false\n",
    "      2. **pop**(*stack*)\n",
    "7. Let *is_balanced* = **is_empty**(*stack*)"
   ]
  },
  {
   "cell_type": "markdown",
   "metadata": {},
   "source": [
    "## Dependencies"
   ]
  },
  {
   "cell_type": "code",
   "execution_count": 1,
   "metadata": {},
   "outputs": [],
   "source": [
    "from collections import deque"
   ]
  },
  {
   "cell_type": "markdown",
   "metadata": {},
   "source": [
    "## Function\n",
    "\n",
    "We used a `deque` for the *Stack* in this implementation of `has_balanced_brackets`."
   ]
  },
  {
   "cell_type": "code",
   "execution_count": 2,
   "metadata": {},
   "outputs": [],
   "source": [
    "def has_balanced_brackets(expression: str) -> bool:\n",
    "    \"\"\"Return true if the given expression has balanced brackets.\n",
    "    \"\"\"\n",
    "    stack = deque()\n",
    "    matching = {')': '(', '}': '{', ']': '[', '>': '<'}\n",
    "    left, right = set(matching.values()), matching.keys()\n",
    "    for char in expression:\n",
    "        if char in left:\n",
    "            stack.append(char)\n",
    "        elif char in right:\n",
    "            if len(stack) == 0 or stack[-1] != matching[char]:\n",
    "                return False\n",
    "            stack.pop()\n",
    "    return len(stack) == 0"
   ]
  },
  {
   "cell_type": "markdown",
   "metadata": {},
   "source": [
    "## Main"
   ]
  },
  {
   "cell_type": "markdown",
   "metadata": {},
   "source": [
    "### Testing\n",
    "\n",
    "*(Apologies for the non-standard table representation!)*"
   ]
  },
  {
   "cell_type": "code",
   "execution_count": 3,
   "metadata": {},
   "outputs": [
    {
     "name": "stdout",
     "output_type": "stream",
     "text": [
      "Testing complete.\n"
     ]
    }
   ],
   "source": [
    "#| code-summary: 'Testing: is_balanced()'\n",
    "#         desc           expression                          exp result   \n",
    "cases = [['no text',     '',                                 True],\n",
    "         ['no brackets', 'brackets are like Russian dolls',  True],\n",
    "         ['matched',     '(3 + 4)',                          True],\n",
    "         ['mismatched',  '(3 + 4]',                          False],\n",
    "         ['not opened',  '3 + 4]',                           False],\n",
    "         ['not closed',  '(3 + 4',                           False],\n",
    "         ['wrong order', 'close ) before open (',            False],\n",
    "         ['no nesting',  '()[]\\{\\}<>',                       True],\n",
    "         ['nested',      '([{(<[{}]>)}])',                   True],\n",
    "         ['nested pair', 'items[(i - 1):(i + 1)]',           True]]\n",
    "\n",
    "for (test, expr, exp_res) in cases:\n",
    "    assert has_balanced_brackets(expr) == exp_res, f'Test {test} failed'\n",
    "print('Testing complete.')"
   ]
  },
  {
   "cell_type": "markdown",
   "metadata": {},
   "source": [
    "### Performance\n",
    "\n",
    "The performance tests show a doubling in `has_balanced_brackets`'s time-to-run, as the |*expression*| doubles.\n",
    "It has a linear complexity."
   ]
  },
  {
   "cell_type": "code",
   "execution_count": 4,
   "metadata": {},
   "outputs": [
    {
     "name": "stdout",
     "output_type": "stream",
     "text": [
      "Test 1 (n=100) =\n",
      "21.8 µs ± 917 ns per loop (mean ± std. dev. of 3 runs, 5,000 loops each)\n",
      "Test 2 (n=200) =\n",
      "41.7 µs ± 166 ns per loop (mean ± std. dev. of 3 runs, 5,000 loops each)\n",
      "Test 3 (n=400) =\n",
      "84 µs ± 795 ns per loop (mean ± std. dev. of 3 runs, 5,000 loops each)\n",
      "Test 4 (n=800) =\n",
      "158 µs ± 996 ns per loop (mean ± std. dev. of 3 runs, 5,000 loops each)\n"
     ]
    }
   ],
   "source": [
    "#| code-summary: 'Performance as |expression |'\n",
    "brackets = \"()\"\n",
    "sizes = [100, 200, 400, 800]\n",
    "for i, n in enumerate(sizes):\n",
    "    print(f'Test {i+1} (n={n}) =')\n",
    "    expr = brackets * n\n",
    "    %timeit -r 3 -n 5000 has_balanced_brackets(expr)"
   ]
  },
  {
   "cell_type": "markdown",
   "metadata": {},
   "source": [
    "[^1]: See [Check for balanced parentheses in Python](https://www.geeksforgeeks.org/check-for-balanced-parentheses-in-python/) (GeeksForGeeks).\n",
    "[^2]: All *Stack* operations are **bolded**, so they are easily picked out."
   ]
  },
  {
   "cell_type": "code",
   "execution_count": 5,
   "metadata": {},
   "outputs": [
    {
     "name": "stdout",
     "output_type": "stream",
     "text": [
      "sys: 3.10.6 (tags/v3.10.6:9c7b4bd, Aug  1 2022, 21:53:49) [MSC v.1932 64 bit (AMD64)]\n",
      "\n"
     ]
    }
   ],
   "source": [
    "%load_ext watermark\n",
    "%watermark --iv"
   ]
  }
 ],
 "metadata": {
  "kernelspec": {
   "display_name": "lr_compsci",
   "language": "python",
   "name": "lr_compsci"
  },
  "language_info": {
   "codemirror_mode": {
    "name": "ipython",
    "version": 3
   },
   "file_extension": ".py",
   "mimetype": "text/x-python",
   "name": "python",
   "nbconvert_exporter": "python",
   "pygments_lexer": "ipython3",
   "version": "3.10.6"
  },
  "vscode": {
   "interpreter": {
    "hash": "a68adfb4704822cfa48b801e8085761e09ea1bdf6f9740ae22fa7c3a7495d3d0"
   }
  }
 },
 "nbformat": 4,
 "nbformat_minor": 4
}
