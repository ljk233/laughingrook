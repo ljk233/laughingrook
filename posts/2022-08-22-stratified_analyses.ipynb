{
 "cells": [
  {
   "cell_type": "raw",
   "metadata": {},
   "source": [
    "---\n",
    "title: Stratified Analyses\n",
    "date: 2022-08-22\n",
    "categories: [M249, Statistics]\n",
    "draft: false\n",
    "---"
   ]
  },
  {
   "cell_type": "markdown",
   "metadata": {},
   "source": [
    "## Summary notes\n",
    "\n",
    "Perform a stratified analyses on the results of a stratified case-control study.\n",
    "\n",
    "Data were taken from investigating the possible association between alcohol consumption and fatal car accidents in New York (J.R. McCarroll and W. Haddon Jr, 1962).\n",
    "The data were stratified by marital status, which was believed to be a possible confounder.\n",
    "The *exposure* was blood alcohol level of 100mg% or greater;\n",
    "*Cases* were drivers who were killed in car accidents for which they were considered to be responsible;\n",
    "and *controls* were selected drivers passing the locations where the accidents of the cases occurred, at the same time of day and on the same day of the week.\n",
    "\n",
    "The results were as follows.\n",
    "\n",
    "Level: *Married*\n",
    "\n",
    "|                      | fatality (+)   | no fatality (-) |\n",
    "| -------------------- | -------------: | --------------: |\n",
    "| **over 100mg% (+)**  | 4              | 5               |\n",
    "| **under 100mg% (-)** | 5              | 103             |\n",
    "\n",
    "Level: *Not married*\n",
    "\n",
    "|                      | fatality (+)    | no fatality (-) |\n",
    "| -------------------- | --------------: | --------------: |\n",
    "| **over 100mg% (+)**  | 10              | 3               |\n",
    "| **under 100mg% (-)** | 5               | 43              |\n",
    "\n",
    "The analysis was undertaken using StatsModels.\n",
    "\n",
    "The data was stored on remotely, so we defined a function `cache_file` to handle the retrieval of the file.\n",
    "\n",
    "The main difficulty with a stratified analysis is that we need to deal with the data in many different shapes, so we defined two functions that return the data in the needed shapes.\n",
    "Two further functions were defined to handle a pieces of analysis.[^1]\n",
    "\n",
    "The level, exposure, and case-control labels were stored as three `list`s, with variables named *levels*,[^6] *exposures*, and *casecons*.\n",
    "The order of the elements in *exposures* and *diseases* lists is important:\n",
    "`Table2x2`[^2] requires the data to be some sequence with shape `(2, 2)`:\n",
    "\n",
    "|                     | disease (+) | no diease (-) |\n",
    "| --------------------| ----------: | ------------: |\n",
    "| **exposed (+)**     | *a*         | *b*           |\n",
    "| **not exposed (-)** | *c*         | *d*           |\n",
    "\n",
    "And `StratifiedTable`[^3] requires the data to be some sequence with shape `(2, 2, 2)`:\n",
    "\n",
    "| level   | exposure           | disease (+) | no diease (-) |\n",
    "| ------- |--------------------| ----------: | ------------: |\n",
    "| **one** | **exposed (+)**    | *a*         | *b*           |\n",
    "|         |**not exposed (-)** | *c*         | *d*           |\n",
    "| **two** | **exposed (+)**    | *e*         | *f*           |\n",
    "|         |**not exposed (-)** | *g*         | *h*           |\n",
    "\n",
    "As such, the labels should be ordered:\n",
    "\n",
    "- *exposures* = (*exposed*, *not exposed*)\n",
    "- *casecons* = (*case*, *control*)\n",
    "\n",
    "The data were cached and used to a initialise a Pandas `DataFrame`.\n",
    "\n",
    "The main difficulty with a stratified analysis is that we need to deal with the data in many different shapes.\n",
    "Three variables were initialised to hold the different views of the data.\n",
    "These were:\n",
    "\n",
    "- *level_tables*, a collection of `Table2x2` instances, where each instance represents a contingency table for a specific level\n",
    "- *aggregated_table*, an instance of `Table2x2` using the aggregated data\n",
    "  - Aggregated by *exposure*, *casecon*\n",
    "- *strat_table*, an instance of `StratifiedTable`\n",
    "\n",
    "Measures of association were calculated:\n",
    "\n",
    "- Level-specific odds ratios\n",
    "- Unadjusted odds ratios[^4]\n",
    "- Adjusted odds ratios[^5]\n",
    "  \n",
    "And two hypothesis tets were performed:\n",
    "\n",
    "- Test of no association\n",
    "- Test of homogeneity\n",
    "\n",
    "These topics are covered in M249, Book 1, Part 2."
   ]
  },
  {
   "cell_type": "markdown",
   "metadata": {},
   "source": [
    "## Dependencies"
   ]
  },
  {
   "cell_type": "code",
   "execution_count": 18,
   "metadata": {},
   "outputs": [],
   "source": [
    "import os\n",
    "import requests\n",
    "from dataclasses import dataclass\n",
    "import numpy as np\n",
    "import pandas as pd\n",
    "from statsmodels import api as sm"
   ]
  },
  {
   "cell_type": "markdown",
   "metadata": {},
   "source": [
    "## Functions"
   ]
  },
  {
   "cell_type": "code",
   "execution_count": 19,
   "metadata": {},
   "outputs": [],
   "source": [
    "def cache_file(url: str, fname: str, dir_: str = './__cache') -> str:\n",
    "    \"\"\"Cache the file at given url in the given dir_ with the given\n",
    "    fname and return the local path.\n",
    "\n",
    "    Preconditions:\n",
    "    - dir_ exists\n",
    "    \"\"\"\n",
    "    local_path = f'{dir_}/{fname}'\n",
    "    if fname not in os.listdir(dir_):\n",
    "        r = requests.get(url, allow_redirects=True)\n",
    "        open(local_path, 'wb').write(r.content)\n",
    "    return local_path"
   ]
  },
  {
   "cell_type": "markdown",
   "metadata": {},
   "source": [
    "## Main"
   ]
  },
  {
   "cell_type": "markdown",
   "metadata": {},
   "source": [
    "### Initialise the labels"
   ]
  },
  {
   "cell_type": "code",
   "execution_count": 20,
   "metadata": {},
   "outputs": [],
   "source": [
    "levels = np.array(['married', 'not married'])\n",
    "exposures = np.array(['over 100mg', 'under 100mg'])\n",
    "casecons = np.array(['fatality', 'no fatality'])"
   ]
  },
  {
   "cell_type": "markdown",
   "metadata": {},
   "source": [
    "### Cache the data"
   ]
  },
  {
   "cell_type": "code",
   "execution_count": 21,
   "metadata": {},
   "outputs": [],
   "source": [
    "path = cache_file(\n",
    "        url=('https://raw.githubusercontent.com/ljk233/laughingrook-datasets'\n",
    "             + '/main/m249/medical/drinkdriving.csv'),\n",
    "        fname='drinkdriving.csv'\n",
    ")"
   ]
  },
  {
   "cell_type": "markdown",
   "metadata": {},
   "source": [
    "### Load the data\n",
    "\n",
    "Use the cached file to initialise a `DataFrame`."
   ]
  },
  {
   "cell_type": "code",
   "execution_count": 22,
   "metadata": {},
   "outputs": [
    {
     "name": "stdout",
     "output_type": "stream",
     "text": [
      "<class 'pandas.core.frame.DataFrame'>\n",
      "RangeIndex: 8 entries, 0 to 7\n",
      "Data columns (total 4 columns):\n",
      " #   Column    Non-Null Count  Dtype \n",
      "---  ------    --------------  ----- \n",
      " 0   n         8 non-null      int64 \n",
      " 1   level     8 non-null      object\n",
      " 2   exposure  8 non-null      object\n",
      " 3   casecon   8 non-null      object\n",
      "dtypes: int64(1), object(3)\n",
      "memory usage: 384.0+ bytes\n"
     ]
    }
   ],
   "source": [
    "data = pd.read_csv(path)\n",
    "data.info()"
   ]
  },
  {
   "cell_type": "code",
   "execution_count": 23,
   "metadata": {},
   "outputs": [
    {
     "data": {
      "text/html": [
       "<div>\n",
       "<style scoped>\n",
       "    .dataframe tbody tr th:only-of-type {\n",
       "        vertical-align: middle;\n",
       "    }\n",
       "\n",
       "    .dataframe tbody tr th {\n",
       "        vertical-align: top;\n",
       "    }\n",
       "\n",
       "    .dataframe thead th {\n",
       "        text-align: right;\n",
       "    }\n",
       "</style>\n",
       "<table border=\"1\" class=\"dataframe\">\n",
       "  <thead>\n",
       "    <tr style=\"text-align: right;\">\n",
       "      <th></th>\n",
       "      <th>n</th>\n",
       "      <th>level</th>\n",
       "      <th>exposure</th>\n",
       "      <th>casecon</th>\n",
       "    </tr>\n",
       "  </thead>\n",
       "  <tbody>\n",
       "    <tr>\n",
       "      <th>0</th>\n",
       "      <td>4</td>\n",
       "      <td>married</td>\n",
       "      <td>over 100mg</td>\n",
       "      <td>fatality</td>\n",
       "    </tr>\n",
       "    <tr>\n",
       "      <th>1</th>\n",
       "      <td>5</td>\n",
       "      <td>married</td>\n",
       "      <td>over 100mg</td>\n",
       "      <td>no fatality</td>\n",
       "    </tr>\n",
       "    <tr>\n",
       "      <th>2</th>\n",
       "      <td>5</td>\n",
       "      <td>married</td>\n",
       "      <td>under 100mg</td>\n",
       "      <td>fatality</td>\n",
       "    </tr>\n",
       "    <tr>\n",
       "      <th>3</th>\n",
       "      <td>103</td>\n",
       "      <td>married</td>\n",
       "      <td>under 100mg</td>\n",
       "      <td>no fatality</td>\n",
       "    </tr>\n",
       "    <tr>\n",
       "      <th>4</th>\n",
       "      <td>10</td>\n",
       "      <td>not married</td>\n",
       "      <td>over 100mg</td>\n",
       "      <td>fatality</td>\n",
       "    </tr>\n",
       "    <tr>\n",
       "      <th>5</th>\n",
       "      <td>3</td>\n",
       "      <td>not married</td>\n",
       "      <td>over 100mg</td>\n",
       "      <td>no fatality</td>\n",
       "    </tr>\n",
       "    <tr>\n",
       "      <th>6</th>\n",
       "      <td>5</td>\n",
       "      <td>not married</td>\n",
       "      <td>under 100mg</td>\n",
       "      <td>fatality</td>\n",
       "    </tr>\n",
       "    <tr>\n",
       "      <th>7</th>\n",
       "      <td>43</td>\n",
       "      <td>not married</td>\n",
       "      <td>under 100mg</td>\n",
       "      <td>no fatality</td>\n",
       "    </tr>\n",
       "  </tbody>\n",
       "</table>\n",
       "</div>"
      ],
      "text/plain": [
       "     n        level     exposure      casecon\n",
       "0    4      married   over 100mg     fatality\n",
       "1    5      married   over 100mg  no fatality\n",
       "2    5      married  under 100mg     fatality\n",
       "3  103      married  under 100mg  no fatality\n",
       "4   10  not married   over 100mg     fatality\n",
       "5    3  not married   over 100mg  no fatality\n",
       "6    5  not married  under 100mg     fatality\n",
       "7   43  not married  under 100mg  no fatality"
      ]
     },
     "execution_count": 23,
     "metadata": {},
     "output_type": "execute_result"
    }
   ],
   "source": [
    "data"
   ]
  },
  {
   "cell_type": "markdown",
   "metadata": {},
   "source": [
    "### Prepare the data\n",
    "\n",
    "Initialise a new `DataFrame` using *data*, with the columns *level*, *exposure*, *disease* as ordered `Categorical` variables to ensure that the data will be sorted as expected."
   ]
  },
  {
   "cell_type": "code",
   "execution_count": 24,
   "metadata": {},
   "outputs": [
    {
     "name": "stdout",
     "output_type": "stream",
     "text": [
      "<class 'pandas.core.frame.DataFrame'>\n",
      "Int64Index: 8 entries, 0 to 7\n",
      "Data columns (total 4 columns):\n",
      " #   Column    Non-Null Count  Dtype   \n",
      "---  ------    --------------  -----   \n",
      " 0   n         8 non-null      int64   \n",
      " 1   level     8 non-null      category\n",
      " 2   exposure  8 non-null      category\n",
      " 3   casecon   8 non-null      category\n",
      "dtypes: category(3), int64(1)\n",
      "memory usage: 524.0 bytes\n"
     ]
    }
   ],
   "source": [
    "cat_data = pd.DataFrame().assign(\n",
    "    n=data['n'].to_numpy(),\n",
    "    level=pd.Categorical(data['level'], levels, ordered=True),\n",
    "    exposure=pd.Categorical(data['exposure'], exposures, ordered=True),\n",
    "    casecon=pd.Categorical(data['casecon'], casecons, ordered=True)\n",
    ").sort_values(\n",
    "    by=['level', 'exposure', 'casecon']\n",
    ")\n",
    "cat_data.info()"
   ]
  },
  {
   "cell_type": "markdown",
   "metadata": {},
   "source": [
    "Output pivot tables with marginal totals."
   ]
  },
  {
   "cell_type": "code",
   "execution_count": 25,
   "metadata": {},
   "outputs": [
    {
     "name": "stdout",
     "output_type": "stream",
     "text": [
      "casecon               fatality  no fatality  subtotal\n",
      "level    exposure                                    \n",
      "married  over 100mg          4            5       9.0\n",
      "         under 100mg         5          103     108.0\n",
      "subtotal                     9          108     117.0 \n",
      "\n",
      "casecon                  fatality  no fatality  subtotal\n",
      "level       exposure                                    \n",
      "not married over 100mg         10            3      13.0\n",
      "            under 100mg         5           43      48.0\n",
      "subtotal                       15           46      61.0 \n",
      "\n"
     ]
    }
   ],
   "source": [
    "for level in levels:\n",
    "    print(\n",
    "        cat_data.query(\n",
    "            'level == @level'\n",
    "        ).pivot_table(\n",
    "            values='n',\n",
    "            index=['level', 'exposure'],\n",
    "            columns='casecon',\n",
    "            aggfunc='sum',\n",
    "            margins=True,\n",
    "            margins_name='subtotal'\n",
    "        ).query(\n",
    "            \"level in [@level, 'subtotal']\"\n",
    "        ),\n",
    "        '\\n'\n",
    "    )"
   ]
  },
  {
   "cell_type": "markdown",
   "metadata": {
    "tags": []
   },
   "source": [
    "### Initialise the contingency tables\n",
    "\n",
    "Initialise contingency tables for different views of the data."
   ]
  },
  {
   "cell_type": "markdown",
   "metadata": {},
   "source": [
    "Variable *level_tables* is collection of level-specific 2x2 contingency tables."
   ]
  },
  {
   "cell_type": "code",
   "execution_count": 26,
   "metadata": {},
   "outputs": [
    {
     "name": "stdout",
     "output_type": "stream",
     "text": [
      "level=married\n",
      "A 2x2 contingency table with counts:\n",
      "[[  4.   5.]\n",
      " [  5. 103.]]\n",
      "\n",
      "level=not married\n",
      "A 2x2 contingency table with counts:\n",
      "[[10.  3.]\n",
      " [ 5. 43.]]\n",
      "\n"
     ]
    }
   ],
   "source": [
    "_get_table = lambda df, level: (\n",
    "    sm.stats.Table2x2(\n",
    "        df.query('level == @level')['n'].to_numpy().reshape((2, 2))\n",
    "    )\n",
    ")\n",
    "level_tables = [_get_table(cat_data, level) for level in levels]\n",
    "for table, level in zip(level_tables, levels):\n",
    "    print(f'level={level}\\n{table}\\n')"
   ]
  },
  {
   "cell_type": "markdown",
   "metadata": {},
   "source": [
    "Variable *aggregated_table* is a 2x2 contingency table of the aggregated data."
   ]
  },
  {
   "cell_type": "code",
   "execution_count": 27,
   "metadata": {},
   "outputs": [
    {
     "name": "stdout",
     "output_type": "stream",
     "text": [
      "A 2x2 contingency table with counts:\n",
      "[[ 14.   8.]\n",
      " [ 10. 146.]]\n"
     ]
    }
   ],
   "source": [
    "aggregated_table = sm.stats.Table2x2(\n",
    "    cat_data.groupby(['exposure', 'casecon'])\n",
    "            .sum()\n",
    "            .to_numpy()\n",
    "            .reshape((2, 2))\n",
    ")\n",
    "print(aggregated_table)"
   ]
  },
  {
   "cell_type": "markdown",
   "metadata": {},
   "source": [
    "Variable *strat_table* is a 2x2x2 contingency table that is stratified by level."
   ]
  },
  {
   "cell_type": "code",
   "execution_count": 28,
   "metadata": {},
   "outputs": [
    {
     "name": "stdout",
     "output_type": "stream",
     "text": [
      "[[[  4.  10.]\n",
      "  [  5.   3.]]\n",
      "\n",
      " [[  5.   5.]\n",
      "  [103.  43.]]]\n"
     ]
    }
   ],
   "source": [
    "strat_table = (\n",
    "    sm.stats.StratifiedTable(\n",
    "                data.sort_values(by=['exposure', 'casecon', 'level'])['n']\n",
    "                    .to_numpy()\n",
    "                    .reshape((2, 2, 2))\n",
    "    )\n",
    ")\n",
    "print(strat_table.table)"
   ]
  },
  {
   "cell_type": "markdown",
   "metadata": {},
   "source": [
    "### Odds ratios\n",
    "\n",
    "Return point and interval estimates of the level-specific, unadjusted, and adjusted odds ratios."
   ]
  },
  {
   "cell_type": "markdown",
   "metadata": {},
   "source": [
    "Return the level-specific odds ratios."
   ]
  },
  {
   "cell_type": "code",
   "execution_count": 29,
   "metadata": {},
   "outputs": [
    {
     "data": {
      "text/html": [
       "<div>\n",
       "<style scoped>\n",
       "    .dataframe tbody tr th:only-of-type {\n",
       "        vertical-align: middle;\n",
       "    }\n",
       "\n",
       "    .dataframe tbody tr th {\n",
       "        vertical-align: top;\n",
       "    }\n",
       "\n",
       "    .dataframe thead th {\n",
       "        text-align: right;\n",
       "    }\n",
       "</style>\n",
       "<table border=\"1\" class=\"dataframe\">\n",
       "  <thead>\n",
       "    <tr style=\"text-align: right;\">\n",
       "      <th></th>\n",
       "      <th>point</th>\n",
       "      <th>lcb</th>\n",
       "      <th>ucb</th>\n",
       "    </tr>\n",
       "    <tr>\n",
       "      <th>level</th>\n",
       "      <th></th>\n",
       "      <th></th>\n",
       "      <th></th>\n",
       "    </tr>\n",
       "  </thead>\n",
       "  <tbody>\n",
       "    <tr>\n",
       "      <th>married</th>\n",
       "      <td>16.48000</td>\n",
       "      <td>3.35421</td>\n",
       "      <td>80.96998</td>\n",
       "    </tr>\n",
       "    <tr>\n",
       "      <th>not married</th>\n",
       "      <td>28.66667</td>\n",
       "      <td>5.85662</td>\n",
       "      <td>140.31607</td>\n",
       "    </tr>\n",
       "  </tbody>\n",
       "</table>\n",
       "</div>"
      ],
      "text/plain": [
       "                point      lcb        ucb\n",
       "level                                    \n",
       "married      16.48000  3.35421   80.96998\n",
       "not married  28.66667  5.85662  140.31607"
      ]
     },
     "execution_count": 29,
     "metadata": {},
     "output_type": "execute_result"
    }
   ],
   "source": [
    "_get_measure = lambda table: (\n",
    "    np.array([table.oddsratio,\n",
    "              table.oddsratio_confint()[0],\n",
    "              table.oddsratio_confint()[1]]\n",
    "    )\n",
    ")\n",
    "pd.DataFrame(\n",
    "    data=[_get_measure(table).round(5) for table in level_tables],\n",
    "    columns=['point', 'lcb', 'ucb'],\n",
    "    index=pd.Index(levels, name='level')\n",
    ")"
   ]
  },
  {
   "cell_type": "markdown",
   "metadata": {},
   "source": [
    "Return the unadjusted odds ratio."
   ]
  },
  {
   "cell_type": "code",
   "execution_count": 30,
   "metadata": {},
   "outputs": [
    {
     "data": {
      "text/plain": [
       "point    25.55000\n",
       "lcb       8.68217\n",
       "ucb      75.18883\n",
       "Name: unadjusted odds ratio, dtype: float64"
      ]
     },
     "execution_count": 30,
     "metadata": {},
     "output_type": "execute_result"
    }
   ],
   "source": [
    "pd.Series(\n",
    "    data=[aggregated_table.oddsratio,\n",
    "          aggregated_table.oddsratio_confint()[0],\n",
    "          aggregated_table.oddsratio_confint()[1]],\n",
    "    index=['point', 'lcb', 'ucb'],\n",
    "    name='unadjusted odds ratio'\n",
    ").round(\n",
    "    5\n",
    ")"
   ]
  },
  {
   "cell_type": "markdown",
   "metadata": {},
   "source": [
    "Return the adjusted odds ratio."
   ]
  },
  {
   "cell_type": "code",
   "execution_count": 31,
   "metadata": {},
   "outputs": [
    {
     "data": {
      "text/plain": [
       "point    23.001\n",
       "lcb       7.465\n",
       "ucb      70.866\n",
       "Name: adjusted odds ratio, dtype: float64"
      ]
     },
     "execution_count": 31,
     "metadata": {},
     "output_type": "execute_result"
    }
   ],
   "source": [
    "pd.Series(\n",
    "    data=[strat_table.oddsratio_pooled,\n",
    "           strat_table.oddsratio_pooled_confint()[0],\n",
    "           strat_table.oddsratio_pooled_confint()[1]],\n",
    "    index=['point', 'lcb', 'ucb'],\n",
    "    name='adjusted odds ratio'\n",
    ").round(\n",
    "    3\n",
    ")"
   ]
  },
  {
   "cell_type": "markdown",
   "metadata": {},
   "source": [
    "### Hypothesis testing\n",
    "\n",
    "Return the results of a test of no association and test of homogeneity."
   ]
  },
  {
   "cell_type": "code",
   "execution_count": 32,
   "metadata": {},
   "outputs": [
    {
     "data": {
      "text/plain": [
       "statistic    36.604\n",
       "pvalue        0.000\n",
       "Name: test of no association, dtype: float64"
      ]
     },
     "execution_count": 32,
     "metadata": {},
     "output_type": "execute_result"
    }
   ],
   "source": [
    "_r = strat_table.test_null_odds(correction=True)\n",
    "pd.Series(\n",
    "    data=[_r.statistic, _r.pvalue],\n",
    "    index=['statistic', 'pvalue'],\n",
    "    name='test of no association'\n",
    ").round(\n",
    "    3\n",
    ")"
   ]
  },
  {
   "cell_type": "code",
   "execution_count": 33,
   "metadata": {},
   "outputs": [
    {
     "data": {
      "text/plain": [
       "statistic    0.236\n",
       "pvalue       0.627\n",
       "Name: test of homogeneity, dtype: float64"
      ]
     },
     "execution_count": 33,
     "metadata": {},
     "output_type": "execute_result"
    }
   ],
   "source": [
    "_r = strat_table.test_equal_odds(adjust=True)\n",
    "pd.Series(\n",
    "    data=[_r.statistic, _r.pvalue],\n",
    "    index=['statistic', 'pvalue'],\n",
    "    name='test of homogeneity'\n",
    ").round(\n",
    "    3\n",
    ")"
   ]
  },
  {
   "cell_type": "markdown",
   "metadata": {},
   "source": [
    "## References\n",
    "\n",
    "McCarroll, J.R. and Haddon Jr, W., 1962. A controlled study of fatal automobile accidents in New York City. Journal of chronic diseases, 15(8), pp.811-826."
   ]
  },
  {
   "cell_type": "code",
   "execution_count": 34,
   "metadata": {},
   "outputs": [
    {
     "name": "stdout",
     "output_type": "stream",
     "text": [
      "The watermark extension is already loaded. To reload it, use:\n",
      "  %reload_ext watermark\n",
      "sys        : 3.10.6 (tags/v3.10.6:9c7b4bd, Aug  1 2022, 21:53:49) [MSC v.1932 64 bit (AMD64)]\n",
      "requests   : 2.28.1\n",
      "statsmodels: 0.13.2\n",
      "numpy      : 1.23.2\n",
      "pandas     : 1.4.3\n",
      "\n"
     ]
    }
   ],
   "source": [
    "%load_ext watermark\n",
    "%watermark --iv"
   ]
  },
  {
   "cell_type": "markdown",
   "metadata": {},
   "source": [
    "[^1]: These are convenience functions to prevent repetition of complicated `DataFrame` constructions\n",
    "[^2]: See [statsmodels.stats.contingency_tables.Table2x2](https://www.statsmodels.org/v0.13.0/generated/statsmodels.stats.contingency_tables.Table2x2.html)\n",
    "[^3]: See [statsmodels.stats.contingency_tables.StratifiedTable](https://www.statsmodels.org/v0.13.0/generated/statsmodels.stats.contingency_tables.StratifiedTable.html)\n",
    "[^4]: This is the crude odds ratio\n",
    "[^5]: This is the Mantel-Haenszel odds ratio\n",
    "[^6]: The order of the levels array is not particularly important, but we left it here to be consistent throughout"
   ]
  }
 ],
 "metadata": {
  "interpreter": {
   "hash": "e3664f357c2b2734ea2c6777198af464a1d586bce7a4eafd7e49c68ceedc6949"
  },
  "kernelspec": {
   "display_name": "lr_stats",
   "language": "python",
   "name": "lr_stats"
  },
  "language_info": {
   "codemirror_mode": {
    "name": "ipython",
    "version": 3
   },
   "file_extension": ".py",
   "mimetype": "text/x-python",
   "name": "python",
   "nbconvert_exporter": "python",
   "pygments_lexer": "ipython3",
   "version": "3.10.6"
  }
 },
 "nbformat": 4,
 "nbformat_minor": 4
}
