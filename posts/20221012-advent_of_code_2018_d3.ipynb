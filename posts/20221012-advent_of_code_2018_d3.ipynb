{
 "cells": [
  {
   "cell_type": "raw",
   "id": "518c8408-a3c3-40c9-933b-b448dd930f89",
   "metadata": {},
   "source": [
    "---\n",
    "title: Advent of Code Day 3, 2018\n",
    "date: 2022-10-12\n",
    "category: AdentOfCode\n",
    "draft: false\n",
    "---"
   ]
  },
  {
   "cell_type": "markdown",
   "id": "e1d7458b-6962-4f87-842c-5a7e6f5c8f08",
   "metadata": {},
   "source": [
    "## Summary\n",
    "\n",
    "[--- Day 3: No Matter How You Slice It ---](https://adventofcode.com/2018/day/3)"
   ]
  },
  {
   "cell_type": "markdown",
   "id": "1764efa2-bc1d-4391-a0bb-3b088c5b2c23",
   "metadata": {},
   "source": [
    "## Dependencies"
   ]
  },
  {
   "cell_type": "code",
   "execution_count": 1,
   "id": "160e9f56-43e9-4d4b-8f45-1f796b94c901",
   "metadata": {},
   "outputs": [],
   "source": [
    "import itertools as it\n",
    "import numpy as np\n",
    "from collections import Counter\n",
    "import re\n",
    "import laughingrook as lr"
   ]
  },
  {
   "cell_type": "markdown",
   "id": "996262b3-2332-49c3-8727-7176af29bcf0",
   "metadata": {},
   "source": [
    "## Solution"
   ]
  },
  {
   "cell_type": "markdown",
   "id": "1d1ae827-43a8-4c35-be94-5af543e44c16",
   "metadata": {},
   "source": [
    "### Get input"
   ]
  },
  {
   "cell_type": "markdown",
   "id": "3681b4f5-07bd-434b-8207-0ac09f713ac3",
   "metadata": {},
   "source": [
    "`_parse_line` was taken from\n",
    "[mjpieters/adventofcode/2018/Day 03](https://github.com/mjpieters/adventofcode/blob/master/2018/Day%2003.ipynb)."
   ]
  },
  {
   "cell_type": "code",
   "execution_count": 2,
   "id": "88ca7366-f939-4e7c-b32f-49363bd34ced",
   "metadata": {},
   "outputs": [
    {
     "data": {
      "text/plain": [
       "['#1 @ 861,330: 20x10', '#2 @ 491,428: 28x23', '#3 @ 64,746: 20x27']"
      ]
     },
     "execution_count": 2,
     "metadata": {},
     "output_type": "execute_result"
    }
   ],
   "source": [
    "lines = lr.dataio.get_advent_input(2018, 3)\n",
    "lines[:3]"
   ]
  },
  {
   "cell_type": "code",
   "execution_count": 3,
   "id": "c367aa2d-79b5-43e0-875b-1e7f43a400d8",
   "metadata": {},
   "outputs": [
    {
     "data": {
      "text/plain": [
       "(1317, range(382, 410), range(340, 369))"
      ]
     },
     "execution_count": 3,
     "metadata": {},
     "output_type": "execute_result"
    }
   ],
   "source": [
    "_parse_line = re.compile(r'#(\\d+)\\s*@\\s*(\\d+),(\\d+):\\s*(\\d+)x(\\d+)').search\n",
    "def proc_claim(line):\n",
    "    match = _parse_line(line)\n",
    "    assert match is not None\n",
    "    id_, left, top, width, height = map(int, match.groups())\n",
    "    return id_, range(left, left + width), range(top, top + height)\n",
    "\n",
    "\n",
    "claims = [proc_claim(line) for line in lines]\n",
    "claims[-1]"
   ]
  },
  {
   "cell_type": "markdown",
   "id": "decd6644-4d54-41b4-89aa-2be73d3d474b",
   "metadata": {},
   "source": [
    "### Get shared input\n",
    "\n",
    "Parts 1 and 2 both use a shared count of claimed squares."
   ]
  },
  {
   "cell_type": "code",
   "execution_count": 4,
   "id": "e683985e-3e78-47db-92f4-8be71b74d943",
   "metadata": {},
   "outputs": [],
   "source": [
    "claimed_squares = Counter([sq for claim in claims\n",
    "                           for sq in it.product(claim[1], claim[2])])"
   ]
  },
  {
   "cell_type": "markdown",
   "id": "8be4f1c7-7be2-49d7-a179-f4b6ca5064b1",
   "metadata": {},
   "source": [
    "### Part 1"
   ]
  },
  {
   "cell_type": "code",
   "execution_count": 5,
   "id": "341f06dd-780d-44d4-999b-45b11d3a9fad",
   "metadata": {},
   "outputs": [
    {
     "name": "stdout",
     "output_type": "stream",
     "text": [
      "Part 1 = 104439\n"
     ]
    }
   ],
   "source": [
    "print(\n",
    "    'Part 1 ='\n",
    "    + f' {sum([1 for cl in filter(lambda x: x>=2, claimed_squares.values())])}'\n",
    ")"
   ]
  },
  {
   "cell_type": "markdown",
   "id": "822fa3ee-3d11-4926-9c8f-6813cafc8e2e",
   "metadata": {},
   "source": [
    "### Part 2\n",
    "\n",
    "Nice solution to this using a `trie`:"
   ]
  },
  {
   "cell_type": "code",
   "execution_count": 8,
   "id": "d44357a8-14c8-44df-b907-996fe426f973",
   "metadata": {},
   "outputs": [
    {
     "name": "stdout",
     "output_type": "stream",
     "text": [
      "Part 2 = 701\n"
     ]
    }
   ],
   "source": [
    "def find_unique_claim(claims, claimed_squares):\n",
    "    for claim in claims:\n",
    "        overlapping = False\n",
    "        for square in it.product(claim[1], claim[2]):\n",
    "            if claimed_squares[square] >= 2:\n",
    "                overlapping = True\n",
    "                break\n",
    "        if not overlapping:\n",
    "            return claim[0]\n",
    "\n",
    "\n",
    "print(f'Part 2 = {find_unique_claim(claims, claimed_squares)}')"
   ]
  }
 ],
 "metadata": {
  "kernelspec": {
   "display_name": "aoc",
   "language": "python",
   "name": "aoc"
  },
  "language_info": {
   "codemirror_mode": {
    "name": "ipython",
    "version": 3
   },
   "file_extension": ".py",
   "mimetype": "text/x-python",
   "name": "python",
   "nbconvert_exporter": "python",
   "pygments_lexer": "ipython3",
   "version": "3.10.7"
  }
 },
 "nbformat": 4,
 "nbformat_minor": 5
}
