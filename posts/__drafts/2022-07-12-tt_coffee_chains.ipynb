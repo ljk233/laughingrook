{
 "cells": [
  {
   "cell_type": "raw",
   "id": "0104a8e6-e667-44d9-a2e3-3899bbf3cbf7",
   "metadata": {},
   "source": [
    "---\n",
    "title: \"Top 15 European Cities by Number of Starbucks\"\n",
    "author: \"LaughingRook\"\n",
    "date: \"2022-07-05\"\n",
    "categories: [TidyTuesday]\n",
    "draft: true\n",
    "format:\n",
    "  html:\n",
    "    code-fold: false\n",
    "    code-tools: true\n",
    "---"
   ]
  },
  {
   "cell_type": "markdown",
   "id": "c6025a30-df35-4d4b-8bd3-38886a38c0a2",
   "metadata": {},
   "source": [
    "## Summary notes\n",
    "\n",
    "This **#TidyTuesday** project was posted back on 7th May, 2018.\n",
    "Here's the motivating tweet from [@thomas_mock](https://twitter.com/thomas_mock):\n",
    "\n",
    "> twitter: https://twitter.com/thomas_mock/status/993475998791405569\n",
    "\n",
    "This week the data showed the global locations for various coffee chain shops.\n",
    "Source data was taken from [flowingdata.com](https://flowingdata.com/2014/03/18/coffee-place-geography/).\n"
   ]
  },
  {
   "cell_type": "markdown",
   "id": "33f5a82c-fe3d-4d71-8f8e-22a5afc14e91",
   "metadata": {
    "tags": []
   },
   "source": [
    "## Dependencies"
   ]
  },
  {
   "cell_type": "code",
   "execution_count": 1,
   "id": "98b09c2b-1ba5-4044-8400-f5cfcffe0204",
   "metadata": {},
   "outputs": [],
   "source": [
    "import pandas as pd\n",
    "import altair as alt"
   ]
  },
  {
   "cell_type": "markdown",
   "id": "89f4475d-0e0a-4099-9451-70917a3b06ac",
   "metadata": {
    "tags": []
   },
   "source": [
    "## Constants"
   ]
  },
  {
   "cell_type": "code",
   "execution_count": 2,
   "id": "de97eaea-b0cc-451f-9ab9-9e792c0362c1",
   "metadata": {},
   "outputs": [],
   "source": [
    "COFFEE_URL = ('https://github.com/rfordatascience/tidytuesday/blob/master/'\n",
    "              + 'data/2018/2018-05-07/week6_coffee_chains.xlsx?raw=true')"
   ]
  },
  {
   "cell_type": "code",
   "execution_count": 3,
   "id": "b69d4292",
   "metadata": {},
   "outputs": [],
   "source": [
    "ISO_URL = ('https://raw.githubusercontent.com/lukes/'\n",
    "           + 'ISO-3166-Countries-with-Regional-Codes/master/all/all.csv')"
   ]
  },
  {
   "cell_type": "markdown",
   "id": "e7df29be-c708-41ad-aeb7-6547930be901",
   "metadata": {
    "tags": []
   },
   "source": [
    "## Main"
   ]
  },
  {
   "cell_type": "markdown",
   "id": "b573e37d-903d-4216-9c95-d1cfe610dffc",
   "metadata": {
    "tags": []
   },
   "source": [
    "### Load the data"
   ]
  },
  {
   "cell_type": "code",
   "execution_count": 4,
   "id": "3a90952a-2e86-45ea-92d7-aa4c3d117edb",
   "metadata": {},
   "outputs": [],
   "source": [
    "coffee = pd.read_excel(COFFEE_URL)"
   ]
  },
  {
   "cell_type": "code",
   "execution_count": 1,
   "id": "9fd4d8c0",
   "metadata": {},
   "outputs": [
    {
     "ename": "NameError",
     "evalue": "name 'pd' is not defined",
     "output_type": "error",
     "traceback": [
      "\u001b[1;31m---------------------------------------------------------------------------\u001b[0m",
      "\u001b[1;31mNameError\u001b[0m                                 Traceback (most recent call last)",
      "\u001b[1;32md:\\GitHub\\laughingrook\\posts\\2022-07-12-tt_coffee_chains.ipynb Cell 4'\u001b[0m in \u001b[0;36m<cell line: 1>\u001b[1;34m()\u001b[0m\n\u001b[1;32m----> <a href='vscode-notebook-cell:/d%3A/GitHub/laughingrook/posts/2022-07-12-tt_coffee_chains.ipynb#ch0000003?line=0'>1</a>\u001b[0m iso \u001b[39m=\u001b[39m pd\u001b[39m.\u001b[39mread_csv(ISO_URL)\n",
      "\u001b[1;31mNameError\u001b[0m: name 'pd' is not defined"
     ]
    }
   ],
   "source": [
    "iso = pd.read_csv(ISO_URL)"
   ]
  },
  {
   "cell_type": "markdown",
   "id": "7be51fcb-3d06-407f-8f43-69fe22893c67",
   "metadata": {
    "tags": []
   },
   "source": [
    "### Process the data"
   ]
  },
  {
   "cell_type": "code",
   "execution_count": 31,
   "id": "e60f82f6",
   "metadata": {},
   "outputs": [
    {
     "data": {
      "text/html": [
       "<div>\n",
       "<style scoped>\n",
       "    .dataframe tbody tr th:only-of-type {\n",
       "        vertical-align: middle;\n",
       "    }\n",
       "\n",
       "    .dataframe tbody tr th {\n",
       "        vertical-align: top;\n",
       "    }\n",
       "\n",
       "    .dataframe thead th {\n",
       "        text-align: right;\n",
       "    }\n",
       "</style>\n",
       "<table border=\"1\" class=\"dataframe\">\n",
       "  <thead>\n",
       "    <tr style=\"text-align: right;\">\n",
       "      <th></th>\n",
       "      <th>Country</th>\n",
       "      <th>City</th>\n",
       "      <th>n_starbucks</th>\n",
       "    </tr>\n",
       "  </thead>\n",
       "  <tbody>\n",
       "    <tr>\n",
       "      <th>0</th>\n",
       "      <td>GB</td>\n",
       "      <td>London</td>\n",
       "      <td>195</td>\n",
       "    </tr>\n",
       "    <tr>\n",
       "      <th>1</th>\n",
       "      <td>RU</td>\n",
       "      <td>Moscow</td>\n",
       "      <td>74</td>\n",
       "    </tr>\n",
       "    <tr>\n",
       "      <th>2</th>\n",
       "      <td>FR</td>\n",
       "      <td>Paris</td>\n",
       "      <td>60</td>\n",
       "    </tr>\n",
       "    <tr>\n",
       "      <th>3</th>\n",
       "      <td>ES</td>\n",
       "      <td>Madrid</td>\n",
       "      <td>47</td>\n",
       "    </tr>\n",
       "    <tr>\n",
       "      <th>4</th>\n",
       "      <td>IE</td>\n",
       "      <td>Dublin</td>\n",
       "      <td>46</td>\n",
       "    </tr>\n",
       "    <tr>\n",
       "      <th>...</th>\n",
       "      <td>...</td>\n",
       "      <td>...</td>\n",
       "      <td>...</td>\n",
       "    </tr>\n",
       "    <tr>\n",
       "      <th>681</th>\n",
       "      <td>GB</td>\n",
       "      <td>Crewe</td>\n",
       "      <td>1</td>\n",
       "    </tr>\n",
       "    <tr>\n",
       "      <th>682</th>\n",
       "      <td>GB</td>\n",
       "      <td>Craigavon</td>\n",
       "      <td>1</td>\n",
       "    </tr>\n",
       "    <tr>\n",
       "      <th>683</th>\n",
       "      <td>GB</td>\n",
       "      <td>Corley</td>\n",
       "      <td>1</td>\n",
       "    </tr>\n",
       "    <tr>\n",
       "      <th>684</th>\n",
       "      <td>GB</td>\n",
       "      <td>Coleraine</td>\n",
       "      <td>1</td>\n",
       "    </tr>\n",
       "    <tr>\n",
       "      <th>685</th>\n",
       "      <td>GB</td>\n",
       "      <td>Hereford</td>\n",
       "      <td>1</td>\n",
       "    </tr>\n",
       "  </tbody>\n",
       "</table>\n",
       "<p>686 rows × 3 columns</p>\n",
       "</div>"
      ],
      "text/plain": [
       "    Country       City  n_starbucks\n",
       "0        GB     London          195\n",
       "1        RU     Moscow           74\n",
       "2        FR      Paris           60\n",
       "3        ES     Madrid           47\n",
       "4        IE     Dublin           46\n",
       "..      ...        ...          ...\n",
       "681      GB      Crewe            1\n",
       "682      GB  Craigavon            1\n",
       "683      GB     Corley            1\n",
       "684      GB  Coleraine            1\n",
       "685      GB   Hereford            1\n",
       "\n",
       "[686 rows x 3 columns]"
      ]
     },
     "execution_count": 31,
     "metadata": {},
     "output_type": "execute_result"
    }
   ],
   "source": [
    "#| code-summary: 'Get N Starbucks per city'\n",
    "v_euro_starbucks = (\n",
    "    coffee\n",
    "    .merge(iso, left_on='Country', right_on='alpha-2', how='inner')\n",
    "    .query(\"Brand == 'Starbucks' and region in 'Europe'\")\n",
    "    .groupby(['Country', 'City'])['City']\n",
    "    .count()\n",
    "    .rename('n_starbucks')\n",
    "    .sort_values(ascending=False)\n",
    "    .to_frame()\n",
    "    .reset_index()\n",
    ")"
   ]
  },
  {
   "cell_type": "markdown",
   "id": "362c9462",
   "metadata": {},
   "source": [
    "### Visualise the data"
   ]
  },
  {
   "cell_type": "code",
   "execution_count": 36,
   "id": "5c9d3247",
   "metadata": {},
   "outputs": [
    {
     "data": {
      "text/html": [
       "\n",
       "<div id=\"altair-viz-300e03a0f4d84ed88e27f6b1aa5a4953\"></div>\n",
       "<script type=\"text/javascript\">\n",
       "  var VEGA_DEBUG = (typeof VEGA_DEBUG == \"undefined\") ? {} : VEGA_DEBUG;\n",
       "  (function(spec, embedOpt){\n",
       "    let outputDiv = document.currentScript.previousElementSibling;\n",
       "    if (outputDiv.id !== \"altair-viz-300e03a0f4d84ed88e27f6b1aa5a4953\") {\n",
       "      outputDiv = document.getElementById(\"altair-viz-300e03a0f4d84ed88e27f6b1aa5a4953\");\n",
       "    }\n",
       "    const paths = {\n",
       "      \"vega\": \"https://cdn.jsdelivr.net/npm//vega@5?noext\",\n",
       "      \"vega-lib\": \"https://cdn.jsdelivr.net/npm//vega-lib?noext\",\n",
       "      \"vega-lite\": \"https://cdn.jsdelivr.net/npm//vega-lite@4.17.0?noext\",\n",
       "      \"vega-embed\": \"https://cdn.jsdelivr.net/npm//vega-embed@6?noext\",\n",
       "    };\n",
       "\n",
       "    function maybeLoadScript(lib, version) {\n",
       "      var key = `${lib.replace(\"-\", \"\")}_version`;\n",
       "      return (VEGA_DEBUG[key] == version) ?\n",
       "        Promise.resolve(paths[lib]) :\n",
       "        new Promise(function(resolve, reject) {\n",
       "          var s = document.createElement('script');\n",
       "          document.getElementsByTagName(\"head\")[0].appendChild(s);\n",
       "          s.async = true;\n",
       "          s.onload = () => {\n",
       "            VEGA_DEBUG[key] = version;\n",
       "            return resolve(paths[lib]);\n",
       "          };\n",
       "          s.onerror = () => reject(`Error loading script: ${paths[lib]}`);\n",
       "          s.src = paths[lib];\n",
       "        });\n",
       "    }\n",
       "\n",
       "    function showError(err) {\n",
       "      outputDiv.innerHTML = `<div class=\"error\" style=\"color:red;\">${err}</div>`;\n",
       "      throw err;\n",
       "    }\n",
       "\n",
       "    function displayChart(vegaEmbed) {\n",
       "      vegaEmbed(outputDiv, spec, embedOpt)\n",
       "        .catch(err => showError(`Javascript Error: ${err.message}<br>This usually means there's a typo in your chart specification. See the javascript console for the full traceback.`));\n",
       "    }\n",
       "\n",
       "    if(typeof define === \"function\" && define.amd) {\n",
       "      requirejs.config({paths});\n",
       "      require([\"vega-embed\"], displayChart, err => showError(`Error loading script: ${err.message}`));\n",
       "    } else {\n",
       "      maybeLoadScript(\"vega\", \"5\")\n",
       "        .then(() => maybeLoadScript(\"vega-lite\", \"4.17.0\"))\n",
       "        .then(() => maybeLoadScript(\"vega-embed\", \"6\"))\n",
       "        .catch(showError)\n",
       "        .then(() => displayChart(vegaEmbed));\n",
       "    }\n",
       "  })({\"config\": {\"view\": {\"continuousWidth\": 400, \"continuousHeight\": 300}}, \"data\": {\"name\": \"data-db21bfb4c5b97c721cc12fec33833f28\"}, \"mark\": \"bar\", \"encoding\": {\"color\": {\"field\": \"Country\", \"legend\": null, \"type\": \"nominal\"}, \"x\": {\"field\": \"n_starbucks\", \"type\": \"quantitative\"}, \"y\": {\"field\": \"City\", \"sort\": \"-x\", \"type\": \"nominal\"}}, \"height\": 600, \"title\": \"Top 15 European Cities by Number of Starbucks\", \"width\": 400, \"$schema\": \"https://vega.github.io/schema/vega-lite/v4.17.0.json\", \"datasets\": {\"data-db21bfb4c5b97c721cc12fec33833f28\": [{\"Country\": \"GB\", \"City\": \"London\", \"n_starbucks\": 195}, {\"Country\": \"RU\", \"City\": \"Moscow\", \"n_starbucks\": 74}, {\"Country\": \"FR\", \"City\": \"Paris\", \"n_starbucks\": 60}, {\"Country\": \"ES\", \"City\": \"Madrid\", \"n_starbucks\": 47}, {\"Country\": \"IE\", \"City\": \"Dublin\", \"n_starbucks\": 46}, {\"Country\": \"GB\", \"City\": \"Manchester\", \"n_starbucks\": 25}, {\"Country\": \"CH\", \"City\": \"Zurich\", \"n_starbucks\": 21}, {\"Country\": \"GB\", \"City\": \"Edinburgh\", \"n_starbucks\": 20}, {\"Country\": \"ES\", \"City\": \"Barcelona\", \"n_starbucks\": 20}, {\"Country\": \"CZ\", \"City\": \"Praha\", \"n_starbucks\": 18}, {\"Country\": \"GB\", \"City\": \"Glasgow\", \"n_starbucks\": 17}, {\"Country\": \"GB\", \"City\": \"Birmingham\", \"n_starbucks\": 17}, {\"Country\": \"HU\", \"City\": \"Budapest\", \"n_starbucks\": 16}, {\"Country\": \"RO\", \"City\": \"Bucharest\", \"n_starbucks\": 15}, {\"Country\": \"NL\", \"City\": \"Amsterdam\", \"n_starbucks\": 15}]}}, {\"mode\": \"vega-lite\"});\n",
       "</script>"
      ],
      "text/plain": [
       "alt.Chart(...)"
      ]
     },
     "execution_count": 36,
     "metadata": {},
     "output_type": "execute_result"
    }
   ],
   "source": [
    "#| code-summary: 'Top 15 european cities by n_starbucks'\n",
    "alt.Chart(v_euro_starbucks.head(15)).mark_bar().encode(\n",
    "    x=alt.X('n_starbucks'),\n",
    "    y=alt.Y('City', sort='-x'),\n",
    "    color=alt.Color('Country', legend=None)\n",
    ").properties(\n",
    "    width=400,\n",
    "    height=600,\n",
    "    title='Top 15 European Cities by Number of Starbucks'\n",
    ")"
   ]
  }
 ],
 "metadata": {
  "kernelspec": {
   "display_name": "tidytuesday",
   "language": "python",
   "name": "tidytuesday"
  },
  "language_info": {
   "codemirror_mode": {
    "name": "ipython",
    "version": 3
   },
   "file_extension": ".py",
   "mimetype": "text/x-python",
   "name": "python",
   "nbconvert_exporter": "python",
   "pygments_lexer": "ipython3",
   "version": "3.10.4"
  }
 },
 "nbformat": 4,
 "nbformat_minor": 5
}
