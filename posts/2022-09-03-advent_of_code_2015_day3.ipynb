{
 "cells": [
  {
   "cell_type": "raw",
   "id": "07073f00",
   "metadata": {},
   "source": [
    "---\n",
    "title: Advent of Code 2015, Day 3\n",
    "date: 2022-05-28\n",
    "categories: [AdventOfCode]\n",
    "draft: true\n",
    "---"
   ]
  },
  {
   "cell_type": "markdown",
   "id": "73adbfaf",
   "metadata": {},
   "source": [
    "## Summary notes\n",
    "\n",
    "This is my solution to Advent of Code 2015, Day 3: *Perfectly Spherical Houses in a Vacuum*."
   ]
  },
  {
   "cell_type": "markdown",
   "id": "ec3862e7",
   "metadata": {},
   "source": [
    "## Dependencies"
   ]
  },
  {
   "cell_type": "code",
   "execution_count": 1,
   "id": "5ae2d97f",
   "metadata": {},
   "outputs": [],
   "source": [
    "import laughingrook as lr"
   ]
  },
  {
   "cell_type": "markdown",
   "id": "75ada2d1",
   "metadata": {},
   "source": [
    "## Functions"
   ]
  },
  {
   "cell_type": "code",
   "execution_count": 2,
   "id": "52478b74",
   "metadata": {},
   "outputs": [],
   "source": [
    "def get_next(position, direction) -> tuple:\n",
    "    \"\"\"Return the next position based on the given direction.\n",
    "    \"\"\"\n",
    "    x, y = position\n",
    "    if direction == '>':\n",
    "        return (x+1, y)\n",
    "    elif direction == '<':\n",
    "        return (x-1, y)\n",
    "    elif direction == '^':\n",
    "        return (x, y+1)\n",
    "    else:\n",
    "        return (x, y-1)"
   ]
  },
  {
   "cell_type": "code",
   "execution_count": 3,
   "id": "e8fa702c-1caf-4f39-ba13-b2120a691196",
   "metadata": {},
   "outputs": [],
   "source": [
    "def deliver_presents(directions: str) -> set:\n",
    "    \"\"\"Return a set of tuples representing the positions of houses where\n",
    "    presents were delivered.\n",
    "    \"\"\"\n",
    "    houses = set()\n",
    "    position = (0, 0)\n",
    "    houses.add(position)\n",
    "    for direction in directions:\n",
    "        next_position = get_next(position, direction)\n",
    "        houses.add(next_position)\n",
    "        position = next_position\n",
    "    return houses"
   ]
  },
  {
   "cell_type": "markdown",
   "id": "8aace522",
   "metadata": {},
   "source": [
    "## Main"
   ]
  },
  {
   "cell_type": "markdown",
   "id": "1e9b2b08",
   "metadata": {},
   "source": [
    "### Load the input"
   ]
  },
  {
   "cell_type": "code",
   "execution_count": 4,
   "id": "31e4e535",
   "metadata": {},
   "outputs": [
    {
     "name": "stdout",
     "output_type": "stream",
     "text": [
      "file was cached.\n",
      "line = '^^<<v'\n"
     ]
    }
   ],
   "source": [
    "line = lr.datasets.get_advent_input(2015, 3)\n",
    "print(f\"line = '{line[:5]}'\")"
   ]
  },
  {
   "cell_type": "markdown",
   "id": "244926a9",
   "metadata": {},
   "source": [
    "### Part 1"
   ]
  },
  {
   "cell_type": "code",
   "execution_count": 5,
   "id": "6a75c2a4",
   "metadata": {},
   "outputs": [
    {
     "name": "stdout",
     "output_type": "stream",
     "text": [
      "Solution = 2565\n"
     ]
    }
   ],
   "source": [
    "print(f'Solution = {len(deliver_presents(line))}')"
   ]
  },
  {
   "cell_type": "markdown",
   "id": "c2613773-bf81-4ae6-835a-68b4c79092da",
   "metadata": {},
   "source": [
    "### Part 2"
   ]
  },
  {
   "cell_type": "code",
   "execution_count": 6,
   "id": "80f6d7a7",
   "metadata": {},
   "outputs": [
    {
     "name": "stdout",
     "output_type": "stream",
     "text": [
      "Solution = 2639\n"
     ]
    }
   ],
   "source": [
    "santa_houses = deliver_presents(line[::2])\n",
    "robot_houses = deliver_presents(line[1::2])\n",
    "print(f'Solution = {len(santa_houses.union(robot_houses))}')"
   ]
  },
  {
   "cell_type": "markdown",
   "id": "341869b5",
   "metadata": {},
   "source": [
    "### Performance"
   ]
  },
  {
   "cell_type": "code",
   "execution_count": 7,
   "id": "d781c69a",
   "metadata": {},
   "outputs": [
    {
     "name": "stdout",
     "output_type": "stream",
     "text": [
      "Part 1 =\n",
      "2.18 ms ± 37.2 µs per loop (mean ± std. dev. of 7 runs, 100 loops each)\n",
      "Part 2 =\n",
      "2.15 ms ± 27.2 µs per loop (mean ± std. dev. of 7 runs, 100 loops each)\n"
     ]
    }
   ],
   "source": [
    "print('Part 1 =')\n",
    "%timeit len(deliver_presents(line))\n",
    "print('Part 2 =')\n",
    "%timeit len(deliver_presents(line[::2]).union(deliver_presents(line[1::2])))"
   ]
  }
 ],
 "metadata": {
  "kernelspec": {
   "display_name": "Python 3.10.4 ('laughingrook')",
   "language": "python",
   "name": "python3"
  },
  "language_info": {
   "codemirror_mode": {
    "name": "ipython",
    "version": 3
   },
   "file_extension": ".py",
   "mimetype": "text/x-python",
   "name": "python",
   "nbconvert_exporter": "python",
   "pygments_lexer": "ipython3",
   "version": "3.10.4"
  },
  "vscode": {
   "interpreter": {
    "hash": "a68adfb4704822cfa48b801e8085761e09ea1bdf6f9740ae22fa7c3a7495d3d0"
   }
  }
 },
 "nbformat": 4,
 "nbformat_minor": 5
}
