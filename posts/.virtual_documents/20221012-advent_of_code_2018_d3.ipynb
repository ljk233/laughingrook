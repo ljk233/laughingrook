import itertools as it
import numpy as np
from collections import Counter
import re
import laughingrook as lr


lines = lr.dataio.get_advent_input(2018, 3)
lines[:3]


_parse_line = re.compile(r'#(\d+)\s*@\s*(\d+),(\d+):\s*(\d+)x(\d+)').search
def proc_claim(line):
    match = _parse_line(line)
    assert match is not None
    id_, left, top, width, height = map(int, match.groups())
    return id_, range(left, left + width), range(top, top + height)


claims = [proc_claim(line) for line in lines]
claims[-1]


claimed_squares = Counter([sq for claim in claims
                           for sq in it.product(claim[1], claim[2])])


print(
    'Part 1 ='
    + f' {sum([1 for cl in filter(lambda x: x>=2, claimed_squares.values())])}'
)


def find_unique_claim(claims, claimed_squares):
    for claim in claims:
        overlapping = False
        for square in it.product(claim[1], claim[2]):
            if claimed_squares[square] >= 2:
                overlapping = True
                break
        if not overlapping:
            return claim[0]


print(f'Part 2 = {find_unique_claim(claims, claimed_squares)}')
