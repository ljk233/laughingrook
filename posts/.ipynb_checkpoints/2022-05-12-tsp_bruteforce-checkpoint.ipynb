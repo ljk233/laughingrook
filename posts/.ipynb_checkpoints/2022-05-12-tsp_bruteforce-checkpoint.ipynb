{
 "cells": [
  {
   "cell_type": "raw",
   "metadata": {},
   "source": [
    "---\n",
    "title: \"Travelling Salesperson Problem (Brute-force Search)\"\n",
    "author: \"LaughingRook\"\n",
    "date: \"2022-05-12\"\n",
    "categories: [Algorithm, Graph]\n",
    "format:\n",
    "  html:\n",
    "    code-fold: false\n",
    "---"
   ]
  },
  {
   "cell_type": "markdown",
   "metadata": {},
   "source": [
    "## Summary notes\n",
    "\n",
    "A solution to the travelling salesperson problem using a brute-force search.\n",
    "\n",
    "The **Travelling Salesperson Problem** is defined as:\n",
    "\n",
    "> *Given a set of cities and distances between every pair of cities, the [***Travelling Salesperson***] problem is to find the shortest possible route that visits every city exactly once and returns to the starting point.*\n",
    ">\n",
    "> [Traveling Salesman Problem (TSP) Implementation](https://www.geeksforgeeks.org/traveling-salesman-problem-tsp-implementation/) (GeeksForGeeks)\n",
    "\n",
    "We use a complete undirected graph, with each edge being assigned a random weight (representing the distance).\n",
    "\n",
    "In this implementation, we generate permutations and check if the |*path*| < |*min path*|.\n",
    "\n",
    "Whilst the function works, it is unusuable when |nodes(*g*)| ≥ 11, given **P**(11, 11) = 36720000 permutations to check!"
   ]
  },
  {
   "cell_type": "markdown",
   "metadata": {},
   "source": [
    "## Dependencies"
   ]
  },
  {
   "cell_type": "code",
   "execution_count": 1,
   "metadata": {},
   "outputs": [],
   "source": [
    "import random as rand\n",
    "import math\n",
    "import itertools as it\n",
    "import networkx as nx"
   ]
  },
  {
   "cell_type": "markdown",
   "metadata": {},
   "source": [
    "## Function"
   ]
  },
  {
   "cell_type": "code",
   "execution_count": 2,
   "metadata": {},
   "outputs": [],
   "source": [
    "def bruteforce_tsp(G: nx.Graph, start: object) -> float | int:\n",
    "    \"\"\"Return the shortest route that visits every city exactly once and\n",
    "    ends back at the start.\n",
    "\n",
    "    Solves the travelling salesperson with a brute-force search using\n",
    "    permutations.\n",
    "\n",
    "    Preconditions:\n",
    "    - G is a complete weighted graph\n",
    "    - start in G\n",
    "    - WG[u, v]['weight'] is the distance u -> v\n",
    "    \"\"\"\n",
    "    neighbours = set((node for node in G.nodes if node != start))\n",
    "    min_dist = math.inf\n",
    "    for path in it.permutations(neighbours):\n",
    "        u, dist = start, 0\n",
    "        for v in path:\n",
    "            dist += G.edges[u, v]['weight']\n",
    "            u = v\n",
    "        min_dist = min(min_dist, dist + G.edges[u, start]['weight'])\n",
    "\n",
    "    return min_dist"
   ]
  },
  {
   "cell_type": "markdown",
   "metadata": {},
   "source": [
    "## Main\n",
    "\n",
    "### Initialise the graph\n",
    "\n",
    "We initialise a complete weighted undirected graph with 5 nodes."
   ]
  },
  {
   "cell_type": "code",
   "execution_count": 6,
   "metadata": {},
   "outputs": [
    {
     "name": "stdout",
     "output_type": "stream",
     "text": [
      "g = Graph with 5 nodes and 10 edges\n"
     ]
    }
   ],
   "source": [
    "cg = nx.complete_graph(['origin', 'a', 'b', 'c', 'd'])\n",
    "g = nx.Graph((u, v, {'weight': rand.randint(1, 10)}) for u, v in cg.edges)\n",
    "print(f\"g = {g}\")"
   ]
  },
  {
   "cell_type": "markdown",
   "metadata": {},
   "source": [
    "### Find the shortest path from the origin"
   ]
  },
  {
   "cell_type": "code",
   "execution_count": 4,
   "metadata": {},
   "outputs": [
    {
     "name": "stdout",
     "output_type": "stream",
     "text": [
      "Shortest path from the origin = 18\n"
     ]
    }
   ],
   "source": [
    "print(f\"Shortest path from the origin = {bruteforce_tsp(g, 'origin')}\")"
   ]
  },
  {
   "cell_type": "markdown",
   "metadata": {},
   "source": [
    "### Check the performance"
   ]
  },
  {
   "cell_type": "code",
   "execution_count": 5,
   "metadata": {},
   "outputs": [
    {
     "name": "stdout",
     "output_type": "stream",
     "text": [
      "|nodes(g)| = 4\n",
      "16.6 µs ± 50.9 ns per loop (mean ± std. dev. of 7 runs, 100,000 loops each)\n",
      "|nodes(g)| = 6\n",
      "444 µs ± 2.77 µs per loop (mean ± std. dev. of 7 runs, 1,000 loops each)\n",
      "|nodes(g)| = 8\n",
      "24.4 ms ± 14 µs per loop (mean ± std. dev. of 7 runs, 10 loops each)\n",
      "|nodes(g)| = 10\n",
      "2.18 s ± 8.88 ms per loop (mean ± std. dev. of 7 runs, 1 loop each)\n"
     ]
    }
   ],
   "source": [
    "for n in [4, 6, 8, 10]:\n",
    "    print(f\"|nodes(g)| = {n}\")\n",
    "    cg = nx.complete_graph(n)\n",
    "    g = nx.Graph((u, v, {'weight': rand.randint(1, 10)}) for u, v in cg.edges)\n",
    "    %timeit bruteforce_tsp(g, 1)"
   ]
  }
 ],
 "metadata": {
  "interpreter": {
   "hash": "a68adfb4704822cfa48b801e8085761e09ea1bdf6f9740ae22fa7c3a7495d3d0"
  },
  "kernelspec": {
   "display_name": "Python 3 (ipykernel)",
   "language": "python",
   "name": "python3"
  },
  "language_info": {
   "codemirror_mode": {
    "name": "ipython",
    "version": 3
   },
   "file_extension": ".py",
   "mimetype": "text/x-python",
   "name": "python",
   "nbconvert_exporter": "python",
   "pygments_lexer": "ipython3",
   "version": "3.9.10"
  }
 },
 "nbformat": 4,
 "nbformat_minor": 4
}
