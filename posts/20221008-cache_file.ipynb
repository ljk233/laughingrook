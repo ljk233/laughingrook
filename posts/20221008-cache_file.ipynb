{
 "cells": [
  {
   "cell_type": "raw",
   "id": "13b2184c-7228-4ea7-9917-845318e54b26",
   "metadata": {},
   "source": [
    "---\n",
    "title: Cache a remote file\n",
    "date: 2022-10-08\n",
    "categories: [DataHandling, Recipe]\n",
    "---"
   ]
  },
  {
   "cell_type": "markdown",
   "id": "c36e77e9-3471-42db-b362-3c12a23c7564",
   "metadata": {},
   "source": [
    "## Summary\n",
    "\n",
    "Download a file to a cache folder and return the cached path."
   ]
  },
  {
   "cell_type": "markdown",
   "id": "ae54a7b0-f591-41d9-bd4e-d7bfc27ea6b4",
   "metadata": {},
   "source": [
    "## Dependencies"
   ]
  },
  {
   "cell_type": "code",
   "execution_count": 1,
   "id": "3475c9c3-7c1a-4483-9b0f-4ba274a7ad2c",
   "metadata": {},
   "outputs": [],
   "source": [
    "import os\n",
    "import requests"
   ]
  },
  {
   "cell_type": "code",
   "execution_count": 2,
   "id": "cbac0134-9eee-4c63-815d-664ba9ef581a",
   "metadata": {},
   "outputs": [
    {
     "name": "stdout",
     "output_type": "stream",
     "text": [
      "requests: 2.28.1\n",
      "\n"
     ]
    }
   ],
   "source": [
    "%load_ext watermark\n",
    "%watermark --iv"
   ]
  },
  {
   "cell_type": "markdown",
   "id": "a445bfff-3cd9-4588-b3bf-6ac42ee5d651",
   "metadata": {},
   "source": [
    "## Function"
   ]
  },
  {
   "cell_type": "code",
   "execution_count": 3,
   "id": "ab22a206-ea32-41d1-80a9-61bcfad2d42b",
   "metadata": {},
   "outputs": [],
   "source": [
    "def cache_file(url: str, fname, dir_: str = '__cache') -> str:\n",
    "    \"\"\"Cache the file at given url in the given dir_ with the given\n",
    "    fname and return the local path.\n",
    "\n",
    "    If fname not in dir_, then the file is downloaded.\n",
    "    Otherwise, the file at url is downloaded to dir_ with file name\n",
    "    dir_.\n",
    "\n",
    "    Preconditions:\n",
    "    - url is a valid url\n",
    "    - dir_ exists\n",
    "    \"\"\"\n",
    "    local_path = f'{dir_}/{fname}'\n",
    "    if fname not in os.listdir(dir_):\n",
    "        r = requests.get(url, allow_redirects=True)\n",
    "        open(local_path, 'wb').write(r.content)\n",
    "    return local_path"
   ]
  },
  {
   "cell_type": "markdown",
   "id": "dd643da8-0fe9-4315-a4d4-96d975f7a1a4",
   "metadata": {},
   "source": [
    "## Example\n",
    "\n",
    "We use an example from the `rfordatascience/tidytuesday` GitHub library."
   ]
  },
  {
   "cell_type": "code",
   "execution_count": 4,
   "id": "c2ed591c-0a4c-4ae6-8cae-895b851a5335",
   "metadata": {},
   "outputs": [
    {
     "data": {
      "text/plain": [
       "'__cache/combo_df.csv'"
      ]
     },
     "execution_count": 4,
     "metadata": {},
     "output_type": "execute_result"
    }
   ],
   "source": [
    "url = ('https://raw.githubusercontent.com/rfordatascience/tidytuesday/master'\n",
    "       + '/data/2021/2021-09-28/combo_df.csv')\n",
    "cache_file(url, url.split('/')[-1])"
   ]
  }
 ],
 "metadata": {
  "kernelspec": {
   "display_name": "lr_stats",
   "language": "python",
   "name": "lr_stats"
  },
  "language_info": {
   "codemirror_mode": {
    "name": "ipython",
    "version": 3
   },
   "file_extension": ".py",
   "mimetype": "text/x-python",
   "name": "python",
   "nbconvert_exporter": "python",
   "pygments_lexer": "ipython3",
   "version": "3.10.7"
  }
 },
 "nbformat": 4,
 "nbformat_minor": 5
}
