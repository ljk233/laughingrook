{
 "cells": [
  {
   "cell_type": "raw",
   "id": "518c8408-a3c3-40c9-933b-b448dd930f89",
   "metadata": {},
   "source": [
    "---\n",
    "title: Advent of Code Day 2, 2018\n",
    "date: 2022-10-11\n",
    "category: AdentOfCode\n",
    "draft: false\n",
    "---"
   ]
  },
  {
   "cell_type": "markdown",
   "id": "e1d7458b-6962-4f87-842c-5a7e6f5c8f08",
   "metadata": {},
   "source": [
    "## Summary\n",
    "\n",
    "[--- Day 2: Inventory Management System ---](https://adventofcode.com/2018/day/2)"
   ]
  },
  {
   "cell_type": "markdown",
   "id": "1764efa2-bc1d-4391-a0bb-3b088c5b2c23",
   "metadata": {},
   "source": [
    "## Dependencies"
   ]
  },
  {
   "cell_type": "code",
   "execution_count": 1,
   "id": "160e9f56-43e9-4d4b-8f45-1f796b94c901",
   "metadata": {},
   "outputs": [],
   "source": [
    "from collections import Counter\n",
    "import itertools as it\n",
    "import laughingrook as lr"
   ]
  },
  {
   "cell_type": "markdown",
   "id": "996262b3-2332-49c3-8727-7176af29bcf0",
   "metadata": {},
   "source": [
    "## Solution"
   ]
  },
  {
   "cell_type": "markdown",
   "id": "1d1ae827-43a8-4c35-be94-5af543e44c16",
   "metadata": {},
   "source": [
    "### Get input"
   ]
  },
  {
   "cell_type": "code",
   "execution_count": 2,
   "id": "88ca7366-f939-4e7c-b32f-49363bd34ced",
   "metadata": {},
   "outputs": [
    {
     "data": {
      "text/plain": [
       "['rvefnvyxzbodgpnpkumawhijsc',\n",
       " 'rvefqtyxzsddglnppumawhijsc',\n",
       " 'rvefqtywzbodglnkkubawhijsc',\n",
       " 'rvefqpyxzbozglnpkumawhiqsc',\n",
       " 'rvefqtyxzbotgenpkuyawhijsc']"
      ]
     },
     "execution_count": 2,
     "metadata": {},
     "output_type": "execute_result"
    }
   ],
   "source": [
    "data = lr.dataio.get_advent_input(2018, 2)\n",
    "data[:5]"
   ]
  },
  {
   "cell_type": "markdown",
   "id": "8be4f1c7-7be2-49d7-a179-f4b6ca5064b1",
   "metadata": {},
   "source": [
    "### Part 1"
   ]
  },
  {
   "cell_type": "code",
   "execution_count": 3,
   "id": "57a79489-a26d-46a0-8d5f-ed7e26ec152b",
   "metadata": {},
   "outputs": [
    {
     "name": "stdout",
     "output_type": "stream",
     "text": [
      "Part 2 = 6150\n"
     ]
    }
   ],
   "source": [
    "def checksum(boxes: list) -> int:\n",
    "    box_counters = [Counter(box) for box in boxes]\n",
    "    char_sets = [set(box_counter.values()) for box_counter in box_counters]\n",
    "    char_counts = Counter([char_count for char_set in char_sets\n",
    "                           for char_count in char_set])\n",
    "    return char_counts[2] * char_counts[3]\n",
    "\n",
    "\n",
    "print(f'Part 1 = {checksum(data)}')"
   ]
  },
  {
   "cell_type": "markdown",
   "id": "822fa3ee-3d11-4926-9c8f-6813cafc8e2e",
   "metadata": {},
   "source": [
    "### Part 2\n",
    "\n",
    "I went for a fairly brute-force approach.\n",
    "A more elegant solution using a `trie` was posted by [mjpieters](https://github.com/mjpieters/adventofcode/blob/master/2018/Day%2002.ipynb)."
   ]
  },
  {
   "cell_type": "code",
   "execution_count": 5,
   "id": "d44357a8-14c8-44df-b907-996fe426f973",
   "metadata": {},
   "outputs": [
    {
     "name": "stdout",
     "output_type": "stream",
     "text": [
      "Part 2 = rteotyxzbodglnpkudawhijsc\n"
     ]
    }
   ],
   "source": [
    "def find_matching_pattern(boxes: list[str]):\n",
    "    n_chars = len(boxes[0])\n",
    "    for idx in range(len(boxes)):\n",
    "        ibox = boxes[idx]\n",
    "        for jbox in boxes[idx+1:]:\n",
    "            common_chars = ''\n",
    "            for ichar, jchar in zip(ibox, jbox):\n",
    "                if ichar == jchar:\n",
    "                    common_chars += ichar\n",
    "            if len(common_chars) == n_chars - 1:\n",
    "                return common_chars\n",
    "\n",
    "\n",
    "print(f'Part 2 = {find_matching_pattern(data)}')"
   ]
  }
 ],
 "metadata": {
  "kernelspec": {
   "display_name": "aoc",
   "language": "python",
   "name": "aoc"
  },
  "language_info": {
   "codemirror_mode": {
    "name": "ipython",
    "version": 3
   },
   "file_extension": ".py",
   "mimetype": "text/x-python",
   "name": "python",
   "nbconvert_exporter": "python",
   "pygments_lexer": "ipython3",
   "version": "3.10.7"
  }
 },
 "nbformat": 4,
 "nbformat_minor": 5
}
