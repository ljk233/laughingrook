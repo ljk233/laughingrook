import ibis
from sqlalchemy import create_engine
import pandas as pd
from matplotlib import pyplot as plt
import seaborn as sns
from seaborn import objects as so
import laughingrook as lr
from sqlalchemy.engine.base import Engine  # for function typing


get_ipython().run_line_magic("load_ext", " watermark")
get_ipython().run_line_magic("watermark", " --iv")


get_ipython().run_line_magic("precision", " 3")
ibis.options.interactive = True
sns.set_theme()


url = ('https://raw.githubusercontent.com/rfordatascience/tidytuesday/'
       + 'master/data/2021/2021-09-28/combo_df.csv')
dbname = 'nber'  # no need for .db
table = 'paper'

# construct the path
dbpath = f'__cache/{dbname}.db'
# spin up a local db (or connect to it if it already exists)
engine = create_engine(f'sqlite:///{dbpath}', echo=False)
# cache the csv file
local_path = lr.dataio.cache_url(url)
# read the file into the database
try:
    (pd.read_csv(local_path)  # barebones read_csv call, may need other args
     .to_sql(table, engine, if_exists='fail', index=False)
    )
except ValueError:
    print(f'No data written because {table} exists in {dbname}')


nber = ibis.sqlite.connect(dbpath)
paper = nber.table('paper')


paper.limit(8)


paper.count(), len(paper.columns)


paper.schema()


paper.info()


# nunique values by column
{col: paper[col].nunique().execute()
 for col in paper.columns}


# %unique vals by column
{col: (paper[col].nunique() / paper.count()).mul(100).round(1)
 for col in paper.columns}


def preprocess(tbl):
    decade = (
            ibis.case()
            .when(tbl['year'] <= 1979, '1970s')
            .when(tbl['year'] <= 1989, '1980s')
            .when(tbl['year'] <= 1999, '1990s')
            .when(tbl['year'] <= 2009, '2000s')
            .when(tbl['year'] <= 2019, '2010s')
            .else_('2020s')
            .end()
            .name('decade')
    )

    return tbl[tbl.columns + [decade]]


proc_paper = paper.pipe(preprocess)


unique_papers = paper['paper'].nunique()
(proc_paper.group_by('decade')
 .aggregate(
     [proc_paper['paper'].nunique().name('#papers'),
      proc_paper['author'].nunique().name('#authors'),
      (proc_paper['paper'].nunique() / unique_papers).name('%papers')]
 )
)



