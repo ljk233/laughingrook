{
 "cells": [
  {
   "cell_type": "raw",
   "id": "8fc10b81-573e-40b6-b3e2-c7b860a63af4",
   "metadata": {},
   "source": [
    "---\n",
    "title: Add title\n",
    "date: Add date\n",
    "categories: [TidyTuesday]\n",
    "draft: true\n",
    "---"
   ]
  },
  {
   "cell_type": "markdown",
   "id": "da66d388-08d5-436f-b9ec-93ee7e195138",
   "metadata": {},
   "source": [
    "## Summary\n",
    "\n",
    "Analyzing data for [#TidyTuesday](https://twitter.com/hashtag/TidyTuesday) week of ..."
   ]
  },
  {
   "cell_type": "markdown",
   "id": "ebe57c05-00cf-4792-85e1-0960c8fe5fd5",
   "metadata": {},
   "source": [
    "## Dependencies"
   ]
  },
  {
   "cell_type": "code",
   "execution_count": null,
   "id": "3fcc756e-1240-41fe-9694-b4560e511930",
   "metadata": {},
   "outputs": [],
   "source": [
    "import pandas as pd\n",
    "import seaborn as sns\n",
    "from seaborn import objects as so"
   ]
  },
  {
   "cell_type": "markdown",
   "id": "4fb148a1-dbcc-4f5b-ab35-c004e88b67f1",
   "metadata": {},
   "source": [
    "## Functions"
   ]
  },
  {
   "cell_type": "code",
   "execution_count": null,
   "id": "6582a1ae-f9ed-4a99-8600-6a0e8ce6299d",
   "metadata": {},
   "outputs": [],
   "source": [
    "def cache_url(url: str, dir_: str = '../__cache') -> str:\n",
    "    \"\"\"Cache the file at given url in the given dir_ return the\n",
    "    local path.\n",
    "\n",
    "    Preconditions:\n",
    "    - dir_ exists\n",
    "    \"\"\"\n",
    "    import os\n",
    "    import requests\n",
    "\n",
    "    f_name = url.split('/')[-1]\n",
    "    f_path = f'{cache_dir}/{fname}'\n",
    "\n",
    "    if f_name in os.listdir(cache_dir):\n",
    "        return path\n",
    "\n",
    "    r = requests.get(url, allow_redirects=True)\n",
    "    with open(f_path, 'wb') as f:\n",
    "        f.write(r.content)\n",
    "\n",
    "    return local_path"
   ]
  },
  {
   "cell_type": "markdown",
   "id": "4f85b14e-1084-4dbd-801a-a236a7be3d23",
   "metadata": {},
   "source": [
    "## Main"
   ]
  },
  {
   "cell_type": "markdown",
   "id": "ac8f7455-89fe-4488-9a71-a532232d3f26",
   "metadata": {
    "tags": []
   },
   "source": [
    "### DataIO"
   ]
  },
  {
   "cell_type": "code",
   "execution_count": null,
   "id": "8c2e27f2-1cf7-42af-bfc1-51ad737dc92c",
   "metadata": {},
   "outputs": [],
   "source": []
  },
  {
   "cell_type": "markdown",
   "id": "80f0ba62-2b26-4fa2-842a-6d83a61bda19",
   "metadata": {},
   "source": [
    "### Tidy the data"
   ]
  },
  {
   "cell_type": "code",
   "execution_count": null,
   "id": "b7f27115-4b4f-429d-b798-e0357887dd0f",
   "metadata": {},
   "outputs": [],
   "source": []
  },
  {
   "cell_type": "markdown",
   "id": "387d9a2a-0388-4013-b3e1-77f5db835cbf",
   "metadata": {
    "tags": []
   },
   "source": [
    "### Visualise the data"
   ]
  },
  {
   "cell_type": "code",
   "execution_count": null,
   "id": "ab6b0727-f077-4d84-8b99-93f2e0e66b11",
   "metadata": {},
   "outputs": [],
   "source": []
  }
 ],
 "metadata": {
  "kernelspec": {
   "display_name": "data visualisations",
   "language": "python",
   "name": "lrdatavis"
  },
  "language_info": {
   "codemirror_mode": {
    "name": "ipython",
    "version": 3
   },
   "file_extension": ".py",
   "mimetype": "text/x-python",
   "name": "python",
   "nbconvert_exporter": "python",
   "pygments_lexer": "ipython3",
   "version": "3.10.7"
  },
  "vscode": {
   "interpreter": {
    "hash": "303f9db850557970fc81ae8f0eb9bcd5f7660ed42110334f3f51564b82247190"
   }
  }
 },
 "nbformat": 4,
 "nbformat_minor": 5
}
