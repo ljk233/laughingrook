{
 "cells": [
  {
   "cell_type": "raw",
   "id": "518c8408-a3c3-40c9-933b-b448dd930f89",
   "metadata": {},
   "source": [
    "---\n",
    "title: Advent of Code Day 1, 2018\n",
    "date: 2022-10-11\n",
    "category: AdentOfCode\n",
    "draft: false\n",
    "---"
   ]
  },
  {
   "cell_type": "markdown",
   "id": "e1d7458b-6962-4f87-842c-5a7e6f5c8f08",
   "metadata": {},
   "source": [
    "## Summary\n",
    "\n",
    "Source:\n",
    "[--- Day 1: Chronal Calibration ---](https://adventofcode.com/2018/day/1)"
   ]
  },
  {
   "cell_type": "markdown",
   "id": "1764efa2-bc1d-4391-a0bb-3b088c5b2c23",
   "metadata": {},
   "source": [
    "## Dependencies"
   ]
  },
  {
   "cell_type": "code",
   "execution_count": 1,
   "id": "160e9f56-43e9-4d4b-8f45-1f796b94c901",
   "metadata": {},
   "outputs": [],
   "source": [
    "import itertools as it\n",
    "import laughingrook as lr"
   ]
  },
  {
   "cell_type": "markdown",
   "id": "996262b3-2332-49c3-8727-7176af29bcf0",
   "metadata": {},
   "source": [
    "## Solution"
   ]
  },
  {
   "cell_type": "markdown",
   "id": "1d1ae827-43a8-4c35-be94-5af543e44c16",
   "metadata": {},
   "source": [
    "### Get data"
   ]
  },
  {
   "cell_type": "code",
   "execution_count": 2,
   "id": "fbf40fb9-b037-400d-94d6-50182ebfdcf4",
   "metadata": {},
   "outputs": [
    {
     "data": {
      "text/plain": [
       "[-7, -19, 18, 19, -10]"
      ]
     },
     "execution_count": 2,
     "metadata": {},
     "output_type": "execute_result"
    }
   ],
   "source": [
    "data = lr.dataio.get_advent_input(2018, 1)\n",
    "freq_changes = [int(x) for x in data]\n",
    "freq_changes[:5]"
   ]
  },
  {
   "cell_type": "markdown",
   "id": "8be4f1c7-7be2-49d7-a179-f4b6ca5064b1",
   "metadata": {},
   "source": [
    "### Part 1"
   ]
  },
  {
   "cell_type": "code",
   "execution_count": 3,
   "id": "57a79489-a26d-46a0-8d5f-ed7e26ec152b",
   "metadata": {},
   "outputs": [
    {
     "name": "stdout",
     "output_type": "stream",
     "text": [
      "Part 1 = 518\n"
     ]
    }
   ],
   "source": [
    "print(f'Part 1 = {sum(freq_changes)}')"
   ]
  },
  {
   "cell_type": "markdown",
   "id": "822fa3ee-3d11-4926-9c8f-6813cafc8e2e",
   "metadata": {},
   "source": [
    "### Part 2"
   ]
  },
  {
   "cell_type": "code",
   "execution_count": 4,
   "id": "3a5c592f-f33c-41fb-888c-c4b2f6526980",
   "metadata": {},
   "outputs": [
    {
     "name": "stdout",
     "output_type": "stream",
     "text": [
      "Part 2 = 72889\n"
     ]
    }
   ],
   "source": [
    "def find_first_repeat(freqs: list) -> int:\n",
    "    f, visited = 0, set([0])\n",
    "    for df in it.cycle(freqs):\n",
    "        f += df\n",
    "        if f in visited:\n",
    "            return f\n",
    "        visited.add(f)\n",
    "\n",
    "\n",
    "print(f'Part 2 = {find_first_repeat(freq_changes)}')"
   ]
  }
 ],
 "metadata": {
  "kernelspec": {
   "display_name": "lr_stats",
   "language": "python",
   "name": "lr_stats"
  },
  "language_info": {
   "codemirror_mode": {
    "name": "ipython",
    "version": 3
   },
   "file_extension": ".py",
   "mimetype": "text/x-python",
   "name": "python",
   "nbconvert_exporter": "python",
   "pygments_lexer": "ipython3",
   "version": "3.10.7"
  }
 },
 "nbformat": 4,
 "nbformat_minor": 5
}
