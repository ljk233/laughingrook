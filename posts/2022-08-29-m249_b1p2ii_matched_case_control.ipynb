{
 "cells": [
  {
   "cell_type": "raw",
   "metadata": {},
   "source": [
    "---\n",
    "title: Matched Case-Control Studies\n",
    "date: 2022-08-29\n",
    "categories: [M249, Statistics]\n",
    "draft: false\n",
    "---"
   ]
  },
  {
   "cell_type": "markdown",
   "metadata": {},
   "source": [
    "## Summary notes\n",
    "\n",
    "Perform an epidemiological study on the results of a 1-1 matched case-control study.\n",
    "\n",
    "Data was taken from a case-control study undertaken to identify some of the riskfactors associated with death during heatwave in Chicago that occured from 12 July 1995 to 16 July 1995.\n",
    "Cases were persons aged 24+ years who died between 14-17 July 1995, with a cause mentioned on the death certificate that was possibly heat related. For each case, a matched control was selected of the same age and living in the same neighbourhood.\n",
    "The risk factor of interest was participation in group activities involving social interactions.\n",
    "(Semenza, Rubin, Falter, *et al* (1996))\n",
    "\n",
    "The results were as follows.\n",
    "\n",
    "| Cases / Controls            | Participated (+) | Did not participate (-) |\n",
    "| --------------------------- | ---------------: | ----------------------: |\n",
    "| **Participated (+)**        | 77               | 63                      |\n",
    "| **Did not participate (-)** | 90               | 74                      |\n",
    "\n",
    "The analysis was undertaken using StatsModels[^3] and a user-defined function.[^4]\n",
    "The results were initialised as a NumPy `array`.[^2]\n",
    "\n",
    "The data was stored on remotely, so we defined a function `cache_file` to handle the retrieval of the file.\n",
    "\n",
    "We initialised a single `list`, *casecons*, which held the labels for the specific cases and controls.\n",
    "\n",
    "The data were cached and used to a initialise a Pandas `DataFrame`.\n",
    "\n",
    "We casted the *cases* and *controls* columns to ordered `Categorical` data, to ensure the data would appear as expected.[^5]\n",
    "\n",
    "A Mantel-Haenszel odds ratio for the association between participation in group activities and dying of heat-related disease was calculated, including a 95% confidence interval estimate.\n",
    "Finally, McNemar's test[^1] was performed to test the null hypothesis of no association between participation in group activities and dying of heat-related disease.\n",
    "\n",
    "These topics are covered by M249 Book 1, Part 2."
   ]
  },
  {
   "cell_type": "markdown",
   "metadata": {},
   "source": [
    "## Dependencies"
   ]
  },
  {
   "cell_type": "code",
   "execution_count": 1,
   "metadata": {},
   "outputs": [],
   "source": [
    "import os\n",
    "import requests\n",
    "import numpy as np\n",
    "import pandas as pd\n",
    "from scipy import stats as st\n",
    "from statsmodels import api as sm\n",
    "from numpy.typing import ArrayLike"
   ]
  },
  {
   "cell_type": "markdown",
   "metadata": {},
   "source": [
    "## Functions"
   ]
  },
  {
   "cell_type": "code",
   "execution_count": 2,
   "metadata": {},
   "outputs": [],
   "source": [
    "def cache_file(url: str, fname: str, dir_: str = './__cache') -> str:\n",
    "    \"\"\"Cache the file at given url in the given dir_ with the given\n",
    "    fname and return the local path.\n",
    "\n",
    "    Preconditions:\n",
    "    - dir_ exists\n",
    "    \"\"\"\n",
    "    local_path = f'{dir_}/{fname}'\n",
    "    if fname not in os.listdir(dir_):\n",
    "        r = requests.get(url, allow_redirects=True)\n",
    "        open(local_path, 'wb').write(r.content)\n",
    "    return local_path"
   ]
  },
  {
   "cell_type": "code",
   "execution_count": 3,
   "metadata": {},
   "outputs": [],
   "source": [
    "def mh_odds_ratio(ctable: ArrayLike, alpha: float = 0.05) -> tuple:\n",
    "    \"\"\"Return point and 100(1-alpha)% intervel estimates of the\n",
    "    Mantel-Haenszel odds ratio.\n",
    "\n",
    "    Pre-conditions:\n",
    "    - arr represents the results of a 1-1 matched case-control study\n",
    "        - shape(arr) = 2, 2\n",
    "        - rows represent cases, columns represent controls\n",
    "        - row 0, col 0 represent (+)\n",
    "        - row 1, col 1 represent (-)\n",
    "    - 0 < alpha < 1\n",
    "\n",
    "    Post-conditions:\n",
    "    - tuple of float estimates, (point, lcb, ucb)\n",
    "    \"\"\"\n",
    "\n",
    "    f, g = ctable[0, 1], ctable[1, 0]\n",
    "    ste = (st.norm.ppf(1 - (alpha/2)) * np.sqrt(1/f + 1/g))\n",
    "    return f / g, f / g * np.exp(-ste), f / g * np.exp(ste)"
   ]
  },
  {
   "cell_type": "markdown",
   "metadata": {},
   "source": [
    "## Main"
   ]
  },
  {
   "cell_type": "markdown",
   "metadata": {},
   "source": [
    "### Initialise the labels"
   ]
  },
  {
   "cell_type": "code",
   "execution_count": 4,
   "metadata": {},
   "outputs": [],
   "source": [
    "casecons = ['participated', 'not participated']"
   ]
  },
  {
   "cell_type": "markdown",
   "metadata": {},
   "source": [
    "### Cache the data"
   ]
  },
  {
   "cell_type": "code",
   "execution_count": 5,
   "metadata": {},
   "outputs": [],
   "source": [
    "local_path = cache_file(\n",
    "    url=('https://raw.githubusercontent.com/ljk233/laughingrook-datasets'\n",
    "         + '/main/m249/medical/heat_deaths.csv'),\n",
    "    fname='heat_deaths.csv'\n",
    ")"
   ]
  },
  {
   "cell_type": "markdown",
   "metadata": {},
   "source": [
    "### Load the data\n",
    "\n",
    "Use the cached file to initialise a `DataFrame`."
   ]
  },
  {
   "cell_type": "code",
   "execution_count": 6,
   "metadata": {},
   "outputs": [
    {
     "name": "stdout",
     "output_type": "stream",
     "text": [
      "<class 'pandas.core.frame.DataFrame'>\n",
      "RangeIndex: 4 entries, 0 to 3\n",
      "Data columns (total 3 columns):\n",
      " #   Column    Non-Null Count  Dtype \n",
      "---  ------    --------------  ----- \n",
      " 0   n         4 non-null      int64 \n",
      " 1   cases     4 non-null      object\n",
      " 2   controls  4 non-null      object\n",
      "dtypes: int64(1), object(2)\n",
      "memory usage: 224.0+ bytes\n"
     ]
    }
   ],
   "source": [
    "data = pd.read_csv(local_path)\n",
    "data.info()"
   ]
  },
  {
   "cell_type": "code",
   "execution_count": 7,
   "metadata": {},
   "outputs": [
    {
     "data": {
      "text/html": [
       "<div>\n",
       "<style scoped>\n",
       "    .dataframe tbody tr th:only-of-type {\n",
       "        vertical-align: middle;\n",
       "    }\n",
       "\n",
       "    .dataframe tbody tr th {\n",
       "        vertical-align: top;\n",
       "    }\n",
       "\n",
       "    .dataframe thead th {\n",
       "        text-align: right;\n",
       "    }\n",
       "</style>\n",
       "<table border=\"1\" class=\"dataframe\">\n",
       "  <thead>\n",
       "    <tr style=\"text-align: right;\">\n",
       "      <th></th>\n",
       "      <th>n</th>\n",
       "      <th>cases</th>\n",
       "      <th>controls</th>\n",
       "    </tr>\n",
       "  </thead>\n",
       "  <tbody>\n",
       "    <tr>\n",
       "      <th>0</th>\n",
       "      <td>77</td>\n",
       "      <td>participated</td>\n",
       "      <td>participated</td>\n",
       "    </tr>\n",
       "    <tr>\n",
       "      <th>1</th>\n",
       "      <td>63</td>\n",
       "      <td>participated</td>\n",
       "      <td>not participated</td>\n",
       "    </tr>\n",
       "    <tr>\n",
       "      <th>2</th>\n",
       "      <td>90</td>\n",
       "      <td>not participated</td>\n",
       "      <td>participated</td>\n",
       "    </tr>\n",
       "    <tr>\n",
       "      <th>3</th>\n",
       "      <td>74</td>\n",
       "      <td>not participated</td>\n",
       "      <td>not participated</td>\n",
       "    </tr>\n",
       "  </tbody>\n",
       "</table>\n",
       "</div>"
      ],
      "text/plain": [
       "    n             cases          controls\n",
       "0  77      participated      participated\n",
       "1  63      participated  not participated\n",
       "2  90  not participated      participated\n",
       "3  74  not participated  not participated"
      ]
     },
     "execution_count": 7,
     "metadata": {},
     "output_type": "execute_result"
    }
   ],
   "source": [
    "data"
   ]
  },
  {
   "cell_type": "markdown",
   "metadata": {},
   "source": [
    "### Prepare the data\n",
    "\n",
    "Initialise a new `DataFrame` using *data*, with the columns *cases*, *controls* as ordered `Categorical` variables."
   ]
  },
  {
   "cell_type": "code",
   "execution_count": 8,
   "metadata": {},
   "outputs": [
    {
     "name": "stdout",
     "output_type": "stream",
     "text": [
      "<class 'pandas.core.frame.DataFrame'>\n",
      "Int64Index: 4 entries, 0 to 3\n",
      "Data columns (total 3 columns):\n",
      " #   Column    Non-Null Count  Dtype   \n",
      "---  ------    --------------  -----   \n",
      " 0   n         4 non-null      int64   \n",
      " 1   cases     4 non-null      category\n",
      " 2   controls  4 non-null      category\n",
      "dtypes: category(2), int64(1)\n",
      "memory usage: 320.0 bytes\n"
     ]
    }
   ],
   "source": [
    "cat_data = pd.DataFrame().assign(\n",
    "    n=data['n'].to_numpy(),\n",
    "    cases=pd.Categorical(data['cases'], casecons, ordered=True),\n",
    "    controls=pd.Categorical(data['controls'], casecons, ordered=True)\n",
    ").sort_values(\n",
    "    by=['cases', 'controls']\n",
    ")\n",
    "cat_data.info()"
   ]
  },
  {
   "cell_type": "markdown",
   "metadata": {},
   "source": [
    "Output pivot tables with marginal totals."
   ]
  },
  {
   "cell_type": "code",
   "execution_count": 9,
   "metadata": {},
   "outputs": [
    {
     "data": {
      "text/html": [
       "<div>\n",
       "<style scoped>\n",
       "    .dataframe tbody tr th:only-of-type {\n",
       "        vertical-align: middle;\n",
       "    }\n",
       "\n",
       "    .dataframe tbody tr th {\n",
       "        vertical-align: top;\n",
       "    }\n",
       "\n",
       "    .dataframe thead th {\n",
       "        text-align: right;\n",
       "    }\n",
       "</style>\n",
       "<table border=\"1\" class=\"dataframe\">\n",
       "  <thead>\n",
       "    <tr style=\"text-align: right;\">\n",
       "      <th>controls</th>\n",
       "      <th>participated</th>\n",
       "      <th>not participated</th>\n",
       "      <th>subtotal</th>\n",
       "    </tr>\n",
       "    <tr>\n",
       "      <th>cases</th>\n",
       "      <th></th>\n",
       "      <th></th>\n",
       "      <th></th>\n",
       "    </tr>\n",
       "  </thead>\n",
       "  <tbody>\n",
       "    <tr>\n",
       "      <th>participated</th>\n",
       "      <td>77</td>\n",
       "      <td>63</td>\n",
       "      <td>140</td>\n",
       "    </tr>\n",
       "    <tr>\n",
       "      <th>not participated</th>\n",
       "      <td>90</td>\n",
       "      <td>74</td>\n",
       "      <td>164</td>\n",
       "    </tr>\n",
       "    <tr>\n",
       "      <th>subtotal</th>\n",
       "      <td>167</td>\n",
       "      <td>137</td>\n",
       "      <td>304</td>\n",
       "    </tr>\n",
       "  </tbody>\n",
       "</table>\n",
       "</div>"
      ],
      "text/plain": [
       "controls          participated  not participated  subtotal\n",
       "cases                                                     \n",
       "participated                77                63       140\n",
       "not participated            90                74       164\n",
       "subtotal                   167               137       304"
      ]
     },
     "execution_count": 9,
     "metadata": {},
     "output_type": "execute_result"
    }
   ],
   "source": [
    "cat_data.pivot_table(\n",
    "    values='n',\n",
    "    index='cases',\n",
    "    columns='controls',\n",
    "    aggfunc='sum',\n",
    "    margins=True,\n",
    "    margins_name='subtotal'\n",
    ")"
   ]
  },
  {
   "cell_type": "code",
   "execution_count": 10,
   "metadata": {},
   "outputs": [
    {
     "data": {
      "text/plain": [
       "array([[77, 63],\n",
       "       [90, 74]], dtype=int64)"
      ]
     },
     "execution_count": 10,
     "metadata": {},
     "output_type": "execute_result"
    }
   ],
   "source": [
    "data_arr = cat_data['n'].to_numpy().reshape(2, 2)\n",
    "data_arr"
   ]
  },
  {
   "cell_type": "markdown",
   "metadata": {},
   "source": [
    "### Matel-Haenszel odds ratio"
   ]
  },
  {
   "cell_type": "code",
   "execution_count": 11,
   "metadata": {},
   "outputs": [
    {
     "data": {
      "text/plain": [
       "point    0.700000\n",
       "lcb      0.507309\n",
       "ucb      0.965881\n",
       "Name: mantel-haenszel odds ratio, dtype: float64"
      ]
     },
     "execution_count": 11,
     "metadata": {},
     "output_type": "execute_result"
    }
   ],
   "source": [
    "_point, _lcb, _ucb = mh_odds_ratio(data_arr)\n",
    "pd.Series(\n",
    "    data=[_point, _lcb, _ucb],\n",
    "    index=['point', 'lcb', 'ucb'],\n",
    "    name='mantel-haenszel odds ratio'\n",
    ")"
   ]
  },
  {
   "cell_type": "markdown",
   "metadata": {},
   "source": [
    "### McNemar's test"
   ]
  },
  {
   "cell_type": "code",
   "execution_count": 12,
   "metadata": {},
   "outputs": [
    {
     "data": {
      "text/plain": [
       "statistc    4.418301\n",
       "pvalue      0.035555\n",
       "Name: mcnemars test, dtype: float64"
      ]
     },
     "execution_count": 12,
     "metadata": {},
     "output_type": "execute_result"
    }
   ],
   "source": [
    "_r = sm.stats.mcnemar(data_arr, exact=False)\n",
    "pd.Series(\n",
    "    data=[_r.statistic, _r.pvalue],\n",
    "    index=['statistc', 'pvalue'],\n",
    "    name='mcnemar''s test'\n",
    ")"
   ]
  },
  {
   "cell_type": "markdown",
   "metadata": {},
   "source": [
    "## References\n",
    "\n",
    "Semenza, J. C., Rubin, C. H., Falter, K. H., Selanikio, J. D., Flanders, W. D., Howe, H. L., & Wilhelm, J. L. (1996). Heat-related deaths during the July 1995 heat wave in Chicago. New England journal of medicine, **335**, 84-90.\n",
    "[https://doi.org/10.1056/NEJM199607113350203](https://doi.org/10.1056/NEJM199607113350203)."
   ]
  },
  {
   "cell_type": "code",
   "execution_count": 13,
   "metadata": {},
   "outputs": [
    {
     "name": "stdout",
     "output_type": "stream",
     "text": [
      "requests   : 2.28.1\n",
      "scipy      : 1.9.0\n",
      "statsmodels: 0.13.2\n",
      "numpy      : 1.23.2\n",
      "pandas     : 1.4.3\n",
      "sys        : 3.10.6 (tags/v3.10.6:9c7b4bd, Aug  1 2022, 21:53:49) [MSC v.1932 64 bit (AMD64)]\n",
      "\n"
     ]
    }
   ],
   "source": [
    "%load_ext watermark\n",
    "%watermark --iv"
   ]
  },
  {
   "cell_type": "markdown",
   "metadata": {},
   "source": [
    "[^1]: See [statsmodels.stats.contingency_tables.mcnemar](https://www.statsmodels.org/dev/generated/statsmodels.stats.contingency_tables.mcnemar.html)\n",
    "[^2]: We did try to represent the data using StatsModels's `Table2x2` class, but unfortunately the `mcnemar` function does not support an instance of `Table2x2`\n",
    "[^3]: [statsmodels.stats.contingency_tables.mcnemar](https://www.statsmodels.org/dev/generated/statsmodels.stats.contingency_tables.mcnemar.html)\n",
    "[^4]: Calculate the Mantel-Haenszel odds ratio\n",
    "[^5]: [pandas.Categorical](https://pandas.pydata.org/docs/reference/api/pandas.Categorical.html)"
   ]
  }
 ],
 "metadata": {
  "kernelspec": {
   "display_name": "lr_stats",
   "language": "python",
   "name": "lr_stats"
  },
  "language_info": {
   "codemirror_mode": {
    "name": "ipython",
    "version": 3
   },
   "file_extension": ".py",
   "mimetype": "text/x-python",
   "name": "python",
   "nbconvert_exporter": "python",
   "pygments_lexer": "ipython3",
   "version": "3.10.6"
  },
  "toc-autonumbering": false,
  "vscode": {
   "interpreter": {
    "hash": "1f255b0907b4f1c138efb54996736946dba3a3dfe1a00c362b874b4f63d8edc0"
   }
  }
 },
 "nbformat": 4,
 "nbformat_minor": 4
}
