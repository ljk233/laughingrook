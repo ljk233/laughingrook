{
 "cells": [
  {
   "cell_type": "raw",
   "id": "412c281c",
   "metadata": {},
   "source": [
    "---\n",
    "title: Global Causes of Mortality\n",
    "date: 2022-09-13\n",
    "categories: [TidyTuesday]\n",
    "draft: false\n",
    "---"
   ]
  },
  {
   "cell_type": "markdown",
   "id": "c6025a30-df35-4d4b-8bd3-38886a38c0a2",
   "metadata": {},
   "source": [
    "## Summary notes\n",
    "\n",
    "Visualising the share of deaths by different causes by country.\n",
    "\n",
    "<blockquote class=\"twitter-tweet\"><p lang=\"en\" dir=\"ltr\"><a href=\"https://twitter.com/hashtag/r4ds?src=hash&amp;ref_src=twsrc%5Etfw\">#r4ds</a> presents Week 3 of <a href=\"https://twitter.com/hashtag/TidyTuesday?src=hash&amp;ref_src=twsrc%5Etfw\">#TidyTuesday</a>! Let&#39;s explore global causes of mortality!<br><br>Make a meaningful graphic, and post your code!<br><br>Data: <a href=\"https://t.co/ygKv8PqOfI\">https://t.co/ygKv8PqOfI</a><br>Article: <a href=\"https://t.co/MOnlCBzdaL\">https://t.co/MOnlCBzdaL</a><br>Blog: <a href=\"https://t.co/cZJ94Hhz7U\">https://t.co/cZJ94Hhz7U</a> <a href=\"https://twitter.com/hashtag/tidyverse?src=hash&amp;ref_src=twsrc%5Etfw\">#tidyverse</a> <a href=\"https://twitter.com/hashtag/rstats?src=hash&amp;ref_src=twsrc%5Etfw\">#rstats</a> <a href=\"https://twitter.com/hashtag/dataviz?src=hash&amp;ref_src=twsrc%5Etfw\">#dataviz</a> <a href=\"https://twitter.com/hashtag/ggplot2?src=hash&amp;ref_src=twsrc%5Etfw\">#ggplot2</a> <a href=\"https://twitter.com/R4DScommunity?ref_src=twsrc%5Etfw\">@R4DScommunity</a> <a href=\"https://t.co/52rktsOcSQ\">pic.twitter.com/52rktsOcSQ</a></p>&mdash; Tom Mock ❤️ Quarto (@thomas_mock) <a href=\"https://twitter.com/thomas_mock/status/985864534832402432?ref_src=twsrc%5Etfw\">April 16, 2018</a></blockquote> <script async src=\"https://platform.twitter.com/widgets.js\" charset=\"utf-8\"></script>"
   ]
  },
  {
   "cell_type": "markdown",
   "id": "33f5a82c-fe3d-4d71-8f8e-22a5afc14e91",
   "metadata": {
    "tags": []
   },
   "source": [
    "## Dependencies"
   ]
  },
  {
   "cell_type": "code",
   "execution_count": 1,
   "id": "98b09c2b-1ba5-4044-8400-f5cfcffe0204",
   "metadata": {},
   "outputs": [],
   "source": [
    "import os\n",
    "import requests\n",
    "import polars as pl\n",
    "import pandas as pd\n",
    "import altair as alt\n",
    "from vega_datasets import data as vdata"
   ]
  },
  {
   "cell_type": "markdown",
   "id": "be45a421-7735-4d21-bf2f-615906a040df",
   "metadata": {
    "jp-MarkdownHeadingCollapsed": true,
    "tags": []
   },
   "source": [
    "## Functions"
   ]
  },
  {
   "cell_type": "code",
   "execution_count": 2,
   "id": "828c3391-95e1-4d98-8e20-82040e4d2f2f",
   "metadata": {},
   "outputs": [],
   "source": [
    "def cache_file(url: str, fname: str, dir_: str = './__cache') -> str:\n",
    "    \"\"\"Cache the file at given url in the given dir_ with the given\n",
    "    fname and return the local path.\n",
    "\n",
    "    Preconditions:\n",
    "    - dir_ exists\n",
    "    \"\"\"\n",
    "    local_path = f'{dir_}/{fname}'\n",
    "    if fname not in os.listdir(dir_):\n",
    "        r = requests.get(url, allow_redirects=True)\n",
    "        open(local_path, 'wb').write(r.content)\n",
    "    return local_path"
   ]
  },
  {
   "cell_type": "markdown",
   "id": "e7df29be-c708-41ad-aeb7-6547930be901",
   "metadata": {
    "tags": []
   },
   "source": [
    "## Main"
   ]
  },
  {
   "cell_type": "markdown",
   "id": "d38a0bd7-fd22-418f-8646-237c5bd37bbf",
   "metadata": {
    "tags": []
   },
   "source": [
    "### Set theme"
   ]
  },
  {
   "cell_type": "code",
   "execution_count": 3,
   "id": "4e9590fe",
   "metadata": {},
   "outputs": [
    {
     "data": {
      "text/plain": [
       "ThemeRegistry.enable('latimes')"
      ]
     },
     "execution_count": 3,
     "metadata": {},
     "output_type": "execute_result"
    }
   ],
   "source": [
    "alt.themes.enable('latimes')"
   ]
  },
  {
   "cell_type": "markdown",
   "id": "b573e37d-903d-4216-9c95-d1cfe610dffc",
   "metadata": {
    "jp-MarkdownHeadingCollapsed": true,
    "tags": []
   },
   "source": [
    "### Cache the data"
   ]
  },
  {
   "cell_type": "code",
   "execution_count": 4,
   "id": "3a90952a-2e86-45ea-92d7-aa4c3d117edb",
   "metadata": {},
   "outputs": [],
   "source": [
    "gmortality_path = cache_file(\n",
    "    url=('https://github.com/rfordatascience/tidytuesday/blob/master'\n",
    "         + '/data/2018/2018-04-16/global_mortality.xlsx?raw=true'),\n",
    "    fname='global_mortality.xlsx'\n",
    ")"
   ]
  },
  {
   "cell_type": "code",
   "execution_count": 5,
   "id": "f3b8eae2",
   "metadata": {},
   "outputs": [],
   "source": [
    "iso_path = cache_file(\n",
    "    url=('https://raw.githubusercontent.com/lukes/'\n",
    "         + 'ISO-3166-Countries-with-Regional-Codes/master/all/all.csv'),\n",
    "    fname='iso_3166.csv'\n",
    ")"
   ]
  },
  {
   "cell_type": "markdown",
   "id": "b573e37d-903d-4216-9c95-d1cfe610dffc",
   "metadata": {
    "tags": []
   },
   "source": [
    "### Load the data"
   ]
  },
  {
   "cell_type": "code",
   "execution_count": 6,
   "id": "3a90952a-2e86-45ea-92d7-aa4c3d117edb",
   "metadata": {},
   "outputs": [
    {
     "data": {
      "text/plain": [
       "{'country': polars.datatypes.Utf8,\n",
       " 'country_code': polars.datatypes.Utf8,\n",
       " 'year': polars.datatypes.Int64,\n",
       " 'Cardiovascular diseases (%)': polars.datatypes.Float64,\n",
       " 'Cancers (%)': polars.datatypes.Float64,\n",
       " 'Respiratory diseases (%)': polars.datatypes.Float64,\n",
       " 'Diabetes (%)': polars.datatypes.Float64,\n",
       " 'Dementia (%)': polars.datatypes.Float64,\n",
       " 'Lower respiratory infections (%)': polars.datatypes.Float64,\n",
       " 'Neonatal deaths (%)': polars.datatypes.Float64,\n",
       " 'Diarrheal diseases (%)': polars.datatypes.Float64,\n",
       " 'Road accidents (%)': polars.datatypes.Float64,\n",
       " 'Liver disease (%)': polars.datatypes.Float64,\n",
       " 'Tuberculosis (%)': polars.datatypes.Float64,\n",
       " 'Kidney disease (%)': polars.datatypes.Float64,\n",
       " 'Digestive diseases (%)': polars.datatypes.Float64,\n",
       " 'HIV/AIDS (%)': polars.datatypes.Float64,\n",
       " 'Suicide (%)': polars.datatypes.Float64,\n",
       " 'Malaria (%)': polars.datatypes.Float64,\n",
       " 'Homicide (%)': polars.datatypes.Float64,\n",
       " 'Nutritional deficiencies (%)': polars.datatypes.Float64,\n",
       " 'Meningitis (%)': polars.datatypes.Float64,\n",
       " 'Protein-energy malnutrition (%)': polars.datatypes.Float64,\n",
       " 'Drowning (%)': polars.datatypes.Float64,\n",
       " 'Maternal deaths (%)': polars.datatypes.Float64,\n",
       " 'Parkinson disease (%)': polars.datatypes.Float64,\n",
       " 'Alcohol disorders (%)': polars.datatypes.Float64,\n",
       " 'Intestinal infectious diseases (%)': polars.datatypes.Float64,\n",
       " 'Drug disorders (%)': polars.datatypes.Float64,\n",
       " 'Hepatitis (%)': polars.datatypes.Float64,\n",
       " 'Fire (%)': polars.datatypes.Float64,\n",
       " 'Heat-related (hot and cold exposure) (%)': polars.datatypes.Float64,\n",
       " 'Natural disasters (%)': polars.datatypes.Float64,\n",
       " 'Conflict (%)': polars.datatypes.Float64,\n",
       " 'Terrorism (%)': polars.datatypes.Float64}"
      ]
     },
     "execution_count": 6,
     "metadata": {},
     "output_type": "execute_result"
    }
   ],
   "source": [
    "mortality = pl.DataFrame(pd.read_excel(gmortality_path)).lazy()\n",
    "mortality.schema"
   ]
  },
  {
   "cell_type": "code",
   "execution_count": 7,
   "id": "19f4a3e0",
   "metadata": {},
   "outputs": [
    {
     "data": {
      "text/plain": [
       "{'name': polars.datatypes.Utf8,\n",
       " 'alpha-2': polars.datatypes.Utf8,\n",
       " 'alpha-3': polars.datatypes.Utf8,\n",
       " 'country-code': polars.datatypes.Int64,\n",
       " 'iso_3166-2': polars.datatypes.Utf8,\n",
       " 'region': polars.datatypes.Utf8,\n",
       " 'sub-region': polars.datatypes.Utf8,\n",
       " 'intermediate-region': polars.datatypes.Utf8,\n",
       " 'region-code': polars.datatypes.Float64,\n",
       " 'sub-region-code': polars.datatypes.Float64,\n",
       " 'intermediate-region-code': polars.datatypes.Float64}"
      ]
     },
     "execution_count": 7,
     "metadata": {},
     "output_type": "execute_result"
    }
   ],
   "source": [
    "iso = pl.DataFrame(pd.read_csv(iso_path)).lazy()\n",
    "iso.schema"
   ]
  },
  {
   "cell_type": "code",
   "execution_count": 8,
   "id": "4005c34a",
   "metadata": {},
   "outputs": [],
   "source": [
    "countries = alt.topo_feature(vdata.world_110m.url, 'countries')"
   ]
  },
  {
   "cell_type": "markdown",
   "id": "779abfa5",
   "metadata": {
    "tags": []
   },
   "source": [
    "### Visualise the data"
   ]
  },
  {
   "cell_type": "code",
   "execution_count": 9,
   "id": "af09db03",
   "metadata": {},
   "outputs": [
    {
     "data": {
      "text/html": [
       "\n",
       "<div id=\"altair-viz-611f0cf113644d5993ea084edb1f4569\"></div>\n",
       "<script type=\"text/javascript\">\n",
       "  var VEGA_DEBUG = (typeof VEGA_DEBUG == \"undefined\") ? {} : VEGA_DEBUG;\n",
       "  (function(spec, embedOpt){\n",
       "    let outputDiv = document.currentScript.previousElementSibling;\n",
       "    if (outputDiv.id !== \"altair-viz-611f0cf113644d5993ea084edb1f4569\") {\n",
       "      outputDiv = document.getElementById(\"altair-viz-611f0cf113644d5993ea084edb1f4569\");\n",
       "    }\n",
       "    const paths = {\n",
       "      \"vega\": \"https://cdn.jsdelivr.net/npm//vega@5?noext\",\n",
       "      \"vega-lib\": \"https://cdn.jsdelivr.net/npm//vega-lib?noext\",\n",
       "      \"vega-lite\": \"https://cdn.jsdelivr.net/npm//vega-lite@4.17.0?noext\",\n",
       "      \"vega-embed\": \"https://cdn.jsdelivr.net/npm//vega-embed@6?noext\",\n",
       "    };\n",
       "\n",
       "    function maybeLoadScript(lib, version) {\n",
       "      var key = `${lib.replace(\"-\", \"\")}_version`;\n",
       "      return (VEGA_DEBUG[key] == version) ?\n",
       "        Promise.resolve(paths[lib]) :\n",
       "        new Promise(function(resolve, reject) {\n",
       "          var s = document.createElement('script');\n",
       "          document.getElementsByTagName(\"head\")[0].appendChild(s);\n",
       "          s.async = true;\n",
       "          s.onload = () => {\n",
       "            VEGA_DEBUG[key] = version;\n",
       "            return resolve(paths[lib]);\n",
       "          };\n",
       "          s.onerror = () => reject(`Error loading script: ${paths[lib]}`);\n",
       "          s.src = paths[lib];\n",
       "        });\n",
       "    }\n",
       "\n",
       "    function showError(err) {\n",
       "      outputDiv.innerHTML = `<div class=\"error\" style=\"color:red;\">${err}</div>`;\n",
       "      throw err;\n",
       "    }\n",
       "\n",
       "    function displayChart(vegaEmbed) {\n",
       "      vegaEmbed(outputDiv, spec, embedOpt)\n",
       "        .catch(err => showError(`Javascript Error: ${err.message}<br>This usually means there's a typo in your chart specification. See the javascript console for the full traceback.`));\n",
       "    }\n",
       "\n",
       "    if(typeof define === \"function\" && define.amd) {\n",
       "      requirejs.config({paths});\n",
       "      require([\"vega-embed\"], displayChart, err => showError(`Error loading script: ${err.message}`));\n",
       "    } else {\n",
       "      maybeLoadScript(\"vega\", \"5\")\n",
       "        .then(() => maybeLoadScript(\"vega-lite\", \"4.17.0\"))\n",
       "        .then(() => maybeLoadScript(\"vega-embed\", \"6\"))\n",
       "        .catch(showError)\n",
       "        .then(() => displayChart(vegaEmbed));\n",
       "    }\n",
       "  })({\"usermeta\": {\"embedOptions\": {\"theme\": \"latimes\"}}, \"config\": {\"view\": {\"continuousWidth\": 400, \"continuousHeight\": 300}, \"title\": {\"anchor\": \"start\", \"fontSize\": 20}}, \"layer\": [{\"mark\": \"bar\", \"encoding\": {\"color\": {\"field\": \"cause\", \"legend\": null, \"type\": \"nominal\"}, \"x\": {\"field\": \"share (%)\", \"type\": \"quantitative\"}, \"y\": {\"field\": \"cause\", \"sort\": \"-x\", \"type\": \"nominal\"}}}, {\"mark\": {\"type\": \"text\", \"align\": \"left\", \"baseline\": \"middle\", \"dx\": 3}, \"encoding\": {\"text\": {\"field\": \"share (%)\", \"type\": \"quantitative\"}, \"x\": {\"field\": \"share (%)\", \"type\": \"quantitative\"}, \"y\": {\"field\": \"cause\", \"sort\": \"-x\", \"type\": \"nominal\"}}}], \"data\": {\"name\": \"data-30fae5d7d335442ceaf16f9195e9ceb8\"}, \"title\": \"Share of deaths by cause, Vanuatu, 2003\", \"width\": 500, \"$schema\": \"https://vega.github.io/schema/vega-lite/v4.17.0.json\", \"datasets\": {\"data-30fae5d7d335442ceaf16f9195e9ceb8\": [{\"country\": \"Vanuatu\", \"country_code\": \"VUT\", \"year\": 2003, \"cause\": \"Cardiovascular diseases\", \"share (%)\": 34.82}, {\"country\": \"Vanuatu\", \"country_code\": \"VUT\", \"year\": 2003, \"cause\": \"Cancers\", \"share (%)\": 7.29}, {\"country\": \"Vanuatu\", \"country_code\": \"VUT\", \"year\": 2003, \"cause\": \"Respiratory diseases\", \"share (%)\": 7.32}, {\"country\": \"Vanuatu\", \"country_code\": \"VUT\", \"year\": 2003, \"cause\": \"Diabetes\", \"share (%)\": 8.72}, {\"country\": \"Vanuatu\", \"country_code\": \"VUT\", \"year\": 2003, \"cause\": \"Dementia\", \"share (%)\": 1.33}, {\"country\": \"Vanuatu\", \"country_code\": \"VUT\", \"year\": 2003, \"cause\": \"Lower respiratory infections\", \"share (%)\": 7.17}, {\"country\": \"Vanuatu\", \"country_code\": \"VUT\", \"year\": 2003, \"cause\": \"Neonatal deaths\", \"share (%)\": 5.86}, {\"country\": \"Vanuatu\", \"country_code\": \"VUT\", \"year\": 2003, \"cause\": \"Diarrheal diseases\", \"share (%)\": 2.75}, {\"country\": \"Vanuatu\", \"country_code\": \"VUT\", \"year\": 2003, \"cause\": \"Road accidents\", \"share (%)\": 2.05}, {\"country\": \"Vanuatu\", \"country_code\": \"VUT\", \"year\": 2003, \"cause\": \"Liver disease\", \"share (%)\": 1.55}, {\"country\": \"Vanuatu\", \"country_code\": \"VUT\", \"year\": 2003, \"cause\": \"Tuberculosis\", \"share (%)\": 2.05}, {\"country\": \"Vanuatu\", \"country_code\": \"VUT\", \"year\": 2003, \"cause\": \"Kidney disease\", \"share (%)\": 3.18}, {\"country\": \"Vanuatu\", \"country_code\": \"VUT\", \"year\": 2003, \"cause\": \"Digestive diseases\", \"share (%)\": 2.23}, {\"country\": \"Vanuatu\", \"country_code\": \"VUT\", \"year\": 2003, \"cause\": \"HIV/AIDS\", \"share (%)\": 0.21}, {\"country\": \"Vanuatu\", \"country_code\": \"VUT\", \"year\": 2003, \"cause\": \"Suicide\", \"share (%)\": 1.83}, {\"country\": \"Vanuatu\", \"country_code\": \"VUT\", \"year\": 2003, \"cause\": \"Malaria\", \"share (%)\": 0.94}, {\"country\": \"Vanuatu\", \"country_code\": \"VUT\", \"year\": 2003, \"cause\": \"Homicide\", \"share (%)\": 0.16}, {\"country\": \"Vanuatu\", \"country_code\": \"VUT\", \"year\": 2003, \"cause\": \"Nutritional deficiencies\", \"share (%)\": 0.82}, {\"country\": \"Vanuatu\", \"country_code\": \"VUT\", \"year\": 2003, \"cause\": \"Meningitis\", \"share (%)\": 0.6}, {\"country\": \"Vanuatu\", \"country_code\": \"VUT\", \"year\": 2003, \"cause\": \"Protein-energy malnutrition\", \"share (%)\": 0.8}, {\"country\": \"Vanuatu\", \"country_code\": \"VUT\", \"year\": 2003, \"cause\": \"Drowning\", \"share (%)\": 1.47}, {\"country\": \"Vanuatu\", \"country_code\": \"VUT\", \"year\": 2003, \"cause\": \"Maternal deaths\", \"share (%)\": 0.69}, {\"country\": \"Vanuatu\", \"country_code\": \"VUT\", \"year\": 2003, \"cause\": \"Parkinson disease\", \"share (%)\": 0.08}, {\"country\": \"Vanuatu\", \"country_code\": \"VUT\", \"year\": 2003, \"cause\": \"Alcohol disorders\", \"share (%)\": 0.08}, {\"country\": \"Vanuatu\", \"country_code\": \"VUT\", \"year\": 2003, \"cause\": \"Intestinal infectious diseases\", \"share (%)\": 0.33}, {\"country\": \"Vanuatu\", \"country_code\": \"VUT\", \"year\": 2003, \"cause\": \"Drug disorders\", \"share (%)\": 0.06}, {\"country\": \"Vanuatu\", \"country_code\": \"VUT\", \"year\": 2003, \"cause\": \"Hepatitis\", \"share (%)\": 0.16}, {\"country\": \"Vanuatu\", \"country_code\": \"VUT\", \"year\": 2003, \"cause\": \"Fire\", \"share (%)\": 0.31}, {\"country\": \"Vanuatu\", \"country_code\": \"VUT\", \"year\": 2003, \"cause\": \"Heat-related (hot and cold exposure)\", \"share (%)\": 0.21}, {\"country\": \"Vanuatu\", \"country_code\": \"VUT\", \"year\": 2003, \"cause\": \"Natural disasters\", \"share (%)\": 0.0}, {\"country\": \"Vanuatu\", \"country_code\": \"VUT\", \"year\": 2003, \"cause\": \"Conflict\", \"share (%)\": 0.0}, {\"country\": \"Vanuatu\", \"country_code\": \"VUT\", \"year\": 2003, \"cause\": \"Terrorism\", \"share (%)\": 0.0}]}}, {\"mode\": \"vega-lite\"});\n",
       "</script>"
      ],
      "text/plain": [
       "alt.LayerChart(...)"
      ]
     },
     "execution_count": 9,
     "metadata": {},
     "output_type": "execute_result"
    }
   ],
   "source": [
    "_query = mortality.filter(\n",
    "    (pl.col('country') == 'Vanuatu')\n",
    "    & (pl.col('year') == 2003)\n",
    ").melt(\n",
    "    id_vars=['country', 'country_code', 'year'],\n",
    "    variable_name='cause',\n",
    "    value_name='share (%)'\n",
    ").with_columns(\n",
    "    [pl.col('cause').str.replace(r' (%)', '', literal=True),\n",
    "     pl.col('share (%)').round(2)]\n",
    ")\n",
    "\n",
    "_ch = alt.Chart(\n",
    "    _query.collect().to_pandas()\n",
    ").encode(\n",
    "    x='share (%):Q',\n",
    "    y=alt.Y('cause:N', sort='-x'),\n",
    ")\n",
    "_bars = _ch.mark_bar().encode(\n",
    "    color=alt.Color('cause:N', legend=None)\n",
    ")\n",
    "_text = _ch.mark_text(\n",
    "    align='left',\n",
    "    baseline='middle',\n",
    "    dx=3  # Nudges text to right so it doesn't appear on top of the bar\n",
    ").encode(\n",
    "    text='share (%):Q',\n",
    ")\n",
    "(_bars + _text).properties(\n",
    "    width=500,\n",
    "    title='Share of deaths by cause, Vanuatu, 2003'\n",
    ").configure_title(\n",
    "    fontSize=20,\n",
    "    anchor='start'\n",
    ")"
   ]
  },
  {
   "cell_type": "code",
   "execution_count": 10,
   "id": "a633dc3d-851c-4a03-a044-784afe6ae3b4",
   "metadata": {},
   "outputs": [
    {
     "data": {
      "text/html": [
       "\n",
       "<div id=\"altair-viz-aa818629040347839b8f195af2fb3142\"></div>\n",
       "<script type=\"text/javascript\">\n",
       "  var VEGA_DEBUG = (typeof VEGA_DEBUG == \"undefined\") ? {} : VEGA_DEBUG;\n",
       "  (function(spec, embedOpt){\n",
       "    let outputDiv = document.currentScript.previousElementSibling;\n",
       "    if (outputDiv.id !== \"altair-viz-aa818629040347839b8f195af2fb3142\") {\n",
       "      outputDiv = document.getElementById(\"altair-viz-aa818629040347839b8f195af2fb3142\");\n",
       "    }\n",
       "    const paths = {\n",
       "      \"vega\": \"https://cdn.jsdelivr.net/npm//vega@5?noext\",\n",
       "      \"vega-lib\": \"https://cdn.jsdelivr.net/npm//vega-lib?noext\",\n",
       "      \"vega-lite\": \"https://cdn.jsdelivr.net/npm//vega-lite@4.17.0?noext\",\n",
       "      \"vega-embed\": \"https://cdn.jsdelivr.net/npm//vega-embed@6?noext\",\n",
       "    };\n",
       "\n",
       "    function maybeLoadScript(lib, version) {\n",
       "      var key = `${lib.replace(\"-\", \"\")}_version`;\n",
       "      return (VEGA_DEBUG[key] == version) ?\n",
       "        Promise.resolve(paths[lib]) :\n",
       "        new Promise(function(resolve, reject) {\n",
       "          var s = document.createElement('script');\n",
       "          document.getElementsByTagName(\"head\")[0].appendChild(s);\n",
       "          s.async = true;\n",
       "          s.onload = () => {\n",
       "            VEGA_DEBUG[key] = version;\n",
       "            return resolve(paths[lib]);\n",
       "          };\n",
       "          s.onerror = () => reject(`Error loading script: ${paths[lib]}`);\n",
       "          s.src = paths[lib];\n",
       "        });\n",
       "    }\n",
       "\n",
       "    function showError(err) {\n",
       "      outputDiv.innerHTML = `<div class=\"error\" style=\"color:red;\">${err}</div>`;\n",
       "      throw err;\n",
       "    }\n",
       "\n",
       "    function displayChart(vegaEmbed) {\n",
       "      vegaEmbed(outputDiv, spec, embedOpt)\n",
       "        .catch(err => showError(`Javascript Error: ${err.message}<br>This usually means there's a typo in your chart specification. See the javascript console for the full traceback.`));\n",
       "    }\n",
       "\n",
       "    if(typeof define === \"function\" && define.amd) {\n",
       "      requirejs.config({paths});\n",
       "      require([\"vega-embed\"], displayChart, err => showError(`Error loading script: ${err.message}`));\n",
       "    } else {\n",
       "      maybeLoadScript(\"vega\", \"5\")\n",
       "        .then(() => maybeLoadScript(\"vega-lite\", \"4.17.0\"))\n",
       "        .then(() => maybeLoadScript(\"vega-embed\", \"6\"))\n",
       "        .catch(showError)\n",
       "        .then(() => displayChart(vegaEmbed));\n",
       "    }\n",
       "  })({\"usermeta\": {\"embedOptions\": {\"theme\": \"latimes\"}}, \"config\": {\"view\": {\"continuousWidth\": 400, \"continuousHeight\": 300}}, \"data\": {\"name\": \"data-c8978109e5b9cb45bcde508394044e9f\"}, \"mark\": {\"type\": \"geoshape\", \"stroke\": \"black\"}, \"encoding\": {\"color\": {\"field\": \"share (%)\", \"scale\": {\"scheme\": \"reds\"}, \"type\": \"quantitative\"}, \"shape\": {\"field\": \"geo\", \"type\": \"geojson\"}, \"tooltip\": [{\"field\": \"country\", \"type\": \"nominal\"}, {\"field\": \"share (%)\", \"type\": \"quantitative\"}]}, \"height\": 400, \"projection\": {\"center\": [15, 54], \"clipExtent\": [[0, 0], [600, 400]], \"scale\": 415, \"type\": \"mercator\"}, \"title\": \"Percentage share of deaths by Cardiovascular diseases in Europe, 2016\", \"transform\": [{\"lookup\": \"country_id\", \"as\": \"geo\", \"from\": {\"data\": {\"url\": \"https://cdn.jsdelivr.net/npm/vega-datasets@v1.29.0/data/world-110m.json\", \"format\": {\"feature\": \"countries\", \"type\": \"topojson\"}}, \"key\": \"id\"}}], \"width\": 650, \"$schema\": \"https://vega.github.io/schema/vega-lite/v4.17.0.json\", \"datasets\": {\"data-c8978109e5b9cb45bcde508394044e9f\": [{\"country\": \"Albania\", \"country_id\": 8, \"share (%)\": 58.04}, {\"country\": \"Andorra\", \"country_id\": 20, \"share (%)\": 32.53}, {\"country\": \"Austria\", \"country_id\": 40, \"share (%)\": 40.06}, {\"country\": \"Belarus\", \"country_id\": 112, \"share (%)\": 62.51}, {\"country\": \"Belgium\", \"country_id\": 56, \"share (%)\": 30.42}, {\"country\": \"Bosnia and Herzegovina\", \"country_id\": 70, \"share (%)\": 49.31}, {\"country\": \"Bulgaria\", \"country_id\": 100, \"share (%)\": 63.78}, {\"country\": \"Croatia\", \"country_id\": 191, \"share (%)\": 49.78}, {\"country\": \"Czech Republic\", \"country_id\": 203, \"share (%)\": 47.39}, {\"country\": \"Denmark\", \"country_id\": 208, \"share (%)\": 28.29}, {\"country\": \"Estonia\", \"country_id\": 233, \"share (%)\": 54.58}, {\"country\": \"Finland\", \"country_id\": 246, \"share (%)\": 40.75}, {\"country\": \"France\", \"country_id\": 250, \"share (%)\": 28.62}, {\"country\": \"Germany\", \"country_id\": 276, \"share (%)\": 39.22}, {\"country\": \"Greece\", \"country_id\": 300, \"share (%)\": 45.91}, {\"country\": \"Hungary\", \"country_id\": 348, \"share (%)\": 48.77}, {\"country\": \"Iceland\", \"country_id\": 352, \"share (%)\": 34.05}, {\"country\": \"Ireland\", \"country_id\": 372, \"share (%)\": 32.71}, {\"country\": \"Italy\", \"country_id\": 380, \"share (%)\": 35.48}, {\"country\": \"Latvia\", \"country_id\": 428, \"share (%)\": 58.27}, {\"country\": \"Lithuania\", \"country_id\": 440, \"share (%)\": 55.33}, {\"country\": \"Luxembourg\", \"country_id\": 442, \"share (%)\": 34.19}, {\"country\": \"Macedonia\", \"country_id\": 807, \"share (%)\": 59.55}, {\"country\": \"Malta\", \"country_id\": 470, \"share (%)\": 39.41}, {\"country\": \"Moldova\", \"country_id\": 498, \"share (%)\": 56.27}, {\"country\": \"Montenegro\", \"country_id\": 499, \"share (%)\": 58.98}, {\"country\": \"Netherlands\", \"country_id\": 528, \"share (%)\": 27.63}, {\"country\": \"Norway\", \"country_id\": 578, \"share (%)\": 31.95}, {\"country\": \"Poland\", \"country_id\": 616, \"share (%)\": 46.16}, {\"country\": \"Portugal\", \"country_id\": 620, \"share (%)\": 33.33}, {\"country\": \"Romania\", \"country_id\": 642, \"share (%)\": 58.36}, {\"country\": \"Russia\", \"country_id\": 643, \"share (%)\": 57.63}, {\"country\": \"Serbia\", \"country_id\": 688, \"share (%)\": 53.8}, {\"country\": \"Slovakia\", \"country_id\": 703, \"share (%)\": 50.2}, {\"country\": \"Slovenia\", \"country_id\": 705, \"share (%)\": 39.99}, {\"country\": \"Spain\", \"country_id\": 724, \"share (%)\": 30.31}, {\"country\": \"Sweden\", \"country_id\": 752, \"share (%)\": 38.28}, {\"country\": \"Switzerland\", \"country_id\": 756, \"share (%)\": 34.42}, {\"country\": \"Ukraine\", \"country_id\": 804, \"share (%)\": 65.19}, {\"country\": \"United Kingdom\", \"country_id\": 826, \"share (%)\": 30.15}]}}, {\"mode\": \"vega-lite\"});\n",
       "</script>"
      ],
      "text/plain": [
       "alt.Chart(...)"
      ]
     },
     "execution_count": 10,
     "metadata": {},
     "output_type": "execute_result"
    }
   ],
   "source": [
    "_query = mortality.join(\n",
    "    other=iso,\n",
    "    left_on='country_code',\n",
    "    right_on='alpha-3'\n",
    ").filter(\n",
    "    (pl.col('year') == 2016)\n",
    "    & (pl.col('region') == 'Europe')\n",
    ").select(\n",
    "    ['country',\n",
    "     pl.col('country-code').alias('country_id'),\n",
    "     pl.col('Cardiovascular diseases (%)').round(2).alias('share (%)')]\n",
    ").collect(\n",
    ").to_pandas(\n",
    ")\n",
    "\n",
    "alt.Chart(\n",
    "    _query\n",
    ").mark_geoshape(\n",
    "    stroke='black'  # adds country borders\n",
    ").encode(\n",
    "    shape='geo:G',\n",
    "    color=alt.Color('share (%):Q', scale=alt.Scale(scheme=\"reds\")),\n",
    "    tooltip=['country:N',\n",
    "             'share (%):Q']\n",
    ").transform_lookup(\n",
    "    lookup='country_id',\n",
    "    from_=alt.LookupData(data=countries, key='id'),\n",
    "    as_='geo'\n",
    ").project(\n",
    "    type='mercator',\n",
    "    scale=415,\n",
    "    center=[15, 54],\n",
    "    clipExtent=[[0, 0], [600, 400]],\n",
    ").properties(\n",
    "    width=650,\n",
    "    height=400,\n",
    "    title=('Percentage share of deaths by Cardiovascular diseases'\n",
    "           + ' in Europe, 2016')\n",
    ")"
   ]
  },
  {
   "cell_type": "markdown",
   "id": "eb0e9e62",
   "metadata": {},
   "source": [
    "Due to an issue with plotting world maps in Altair[^2], we used a different kernel to prevent conflicts with dependencies."
   ]
  },
  {
   "cell_type": "markdown",
   "id": "6bc19106-07c5-4f00-a960-ac0e5905924e",
   "metadata": {},
   "source": [
    "[^2]: See [Compatibility issues with Python 3.9.7 and altair 4.1.0?](https://github.com/altair-viz/altair/issues/2504)"
   ]
  }
 ],
 "metadata": {
  "kernelspec": {
   "display_name": "Python 3.10.6 ('lr_stats')",
   "language": "python",
   "name": "python3"
  },
  "language_info": {
   "codemirror_mode": {
    "name": "ipython",
    "version": 3
   },
   "file_extension": ".py",
   "mimetype": "text/x-python",
   "name": "python",
   "nbconvert_exporter": "python",
   "pygments_lexer": "ipython3",
   "version": "3.10.6"
  },
  "vscode": {
   "interpreter": {
    "hash": "403dd6e35f2b113beb65b473eee36629fc5fb8f0e21eca7155443fe11363e4ab"
   }
  }
 },
 "nbformat": 4,
 "nbformat_minor": 5
}
