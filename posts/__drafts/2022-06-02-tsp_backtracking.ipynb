{
 "cells": [
  {
   "cell_type": "markdown",
   "metadata": {},
   "source": [
    "# Travelling Salesperson Problem (Backtracking)\n",
    "> A solution to the travelling salesperson problem using backtracking.\n",
    "\n",
    "- toc: true\n",
    "- badges: true\n",
    "- comments: true\n",
    "- categories: [algorithm, graphs]\n",
    "- permalink: /2022/06/02/travelling_salesperson_problem_backtracking/"
   ]
  },
  {
   "cell_type": "markdown",
   "metadata": {},
   "source": [
    "## Dependencies"
   ]
  },
  {
   "cell_type": "code",
   "execution_count": 1,
   "metadata": {},
   "outputs": [],
   "source": [
    "import math\n",
    "import collections\n",
    "import random as rand\n",
    "import networkx as nx"
   ]
  },
  {
   "cell_type": "markdown",
   "metadata": {},
   "source": [
    "## Notes\n",
    "\n",
    "The **Travelling Salesperson Problem** is defined as:\n",
    "\n",
    "> *Given a set of cities and distances between every pair of cities, the [***Travelling Salesperson***] problem is to find the shortest possible route that visits every city exactly once and returns to the starting point.*\n",
    ">\n",
    "> *[Traveling Salesman Problem (TSP) Implementation](https://www.geeksforgeeks.org/traveling-salesman-problem-tsp-implementation/)* (GeeksForGeeks)\n",
    "\n",
    "In this implementation, we use recursiive backtracking, which is generally more efficient then generating permutations."
   ]
  },
  {
   "cell_type": "markdown",
   "metadata": {},
   "source": [
    "## Function"
   ]
  },
  {
   "cell_type": "code",
   "execution_count": 2,
   "metadata": {},
   "outputs": [],
   "source": [
    "def backtracking_tsp(G: nx.Graph, start: object) -> float | int:\n",
    "    \"\"\"Return the shortest route that visits every city exactly once and\n",
    "    ends back at the start.\n",
    "\n",
    "    Solves the travelling salesperson problem using backtracking.\n",
    "\n",
    "    Preconditions:\n",
    "    - G is a complete weighted graph\n",
    "    - 'start' in G\n",
    "    - G[u, v]['weight'] is the distance u -> v\n",
    "    \"\"\"\n",
    "    def _tsp(G, visited, u, dist, min_dist):\n",
    "        if visited.total() == (len(G.nodes) - 1):\n",
    "            min_dist = min(min_dist, dist + G.edges[u, start]['weight'])\n",
    "        else:\n",
    "            for v in G.nodes:\n",
    "                if visited[v] == 0 and v != start:\n",
    "                    visited[v] += 1\n",
    "                    next_dist = dist + G.edges[u, v]['weight']\n",
    "                    if next_dist < min_dist:\n",
    "                        min_dist = _tsp(G, visited, v, next_dist, min_dist)\n",
    "                    visited[v] -= 1\n",
    "        return min_dist\n",
    "\n",
    "    return _tsp(G, collections.Counter(), start, 0, math.inf)"
   ]
  },
  {
   "cell_type": "markdown",
   "metadata": {},
   "source": [
    "## Example usage\n",
    "\n",
    "### Initialise the graph"
   ]
  },
  {
   "cell_type": "code",
   "execution_count": 3,
   "metadata": {},
   "outputs": [
    {
     "name": "stdout",
     "output_type": "stream",
     "text": [
      "g = Graph with 5 nodes and 10 edges\n"
     ]
    }
   ],
   "source": [
    "cg = nx.complete_graph(['origin', 'a', 'b', 'c', 'd'])\n",
    "g = nx.Graph((u, v, {'weight': rand.randint(1, 10)}) for u, v in cg.edges)\n",
    "print(f\"g = {g}\")"
   ]
  },
  {
   "cell_type": "markdown",
   "metadata": {},
   "source": [
    "### Find the shortest path from the origin"
   ]
  },
  {
   "cell_type": "code",
   "execution_count": 4,
   "metadata": {},
   "outputs": [
    {
     "name": "stdout",
     "output_type": "stream",
     "text": [
      "Shortest path from the origin = 18\n"
     ]
    }
   ],
   "source": [
    "print(f\"Shortest path from the origin = {backtracking_tsp(g, 'origin')}\")"
   ]
  },
  {
   "cell_type": "markdown",
   "metadata": {},
   "source": [
    "## Performance"
   ]
  },
  {
   "cell_type": "code",
   "execution_count": 5,
   "metadata": {},
   "outputs": [
    {
     "name": "stdout",
     "output_type": "stream",
     "text": [
      "|nodes(g)| = 4\n",
      "24.1 µs ± 379 ns per loop (mean ± std. dev. of 7 runs, 10,000 loops each)\n",
      "|nodes(g)| = 6\n",
      "588 µs ± 2.06 µs per loop (mean ± std. dev. of 7 runs, 1,000 loops each)\n",
      "|nodes(g)| = 8\n",
      "6.23 ms ± 26.4 µs per loop (mean ± std. dev. of 7 runs, 100 loops each)\n",
      "|nodes(g)| = 10\n",
      "110 ms ± 1.5 ms per loop (mean ± std. dev. of 7 runs, 10 loops each)\n"
     ]
    }
   ],
   "source": [
    "for n in [4, 6, 8, 10]:\n",
    "    cg = nx.complete_graph(n)\n",
    "    g = nx.Graph((u, v, {'weight': rand.randint(1, 10)}) for u, v in cg.edges)\n",
    "    print(f\"|nodes(g)| = {n}\")\n",
    "    %timeit backtracking_tsp(g, 1)"
   ]
  }
 ],
 "metadata": {
  "interpreter": {
   "hash": "a68adfb4704822cfa48b801e8085761e09ea1bdf6f9740ae22fa7c3a7495d3d0"
  },
  "kernelspec": {
   "display_name": "Python 3.10.4 ('laughingrook')",
   "language": "python",
   "name": "python3"
  },
  "language_info": {
   "codemirror_mode": {
    "name": "ipython",
    "version": 3
   },
   "file_extension": ".py",
   "mimetype": "text/x-python",
   "name": "python",
   "nbconvert_exporter": "python",
   "pygments_lexer": "ipython3",
   "version": "3.10.4"
  }
 },
 "nbformat": 4,
 "nbformat_minor": 4
}
