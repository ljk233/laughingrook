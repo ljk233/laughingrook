{
 "cells": [
  {
   "cell_type": "raw",
   "id": "518c8408-a3c3-40c9-933b-b448dd930f89",
   "metadata": {},
   "source": [
    "---\n",
    "title: Advent of Code 2020\n",
    "date: 2022-11-05\n",
    "categories: [AdventOfCode]\n",
    "draft: false\n",
    "format:\n",
    "  html:\n",
    "    code-summary: Load the input\n",
    "---"
   ]
  },
  {
   "cell_type": "markdown",
   "id": "8961bc39-5efc-4510-80e1-7850332bd6a6",
   "metadata": {},
   "source": [
    "## Summary\n",
    "\n",
    "These are my solutions to the Advent of Code 2020 in Python.\n",
    "\n",
    "## History\n",
    "\n",
    "- **(2022-11-12)**\n",
    "Initialised the notebook, collecting the first 6 days"
   ]
  },
  {
   "cell_type": "markdown",
   "id": "a7c37b2b-d7d9-40e1-8131-9ad83b731be3",
   "metadata": {},
   "source": [
    "## Dependencies"
   ]
  },
  {
   "cell_type": "code",
   "execution_count": 1,
   "id": "3b4c4c74-0df7-4469-8b28-14a998dcbf24",
   "metadata": {},
   "outputs": [],
   "source": [
    "from __future__ import annotations\n",
    "import itertools as it\n",
    "import collections\n",
    "import dataclasses\n",
    "import math\n",
    "import numpy as np\n",
    "from parse import parse\n",
    "import lrdataio"
   ]
  },
  {
   "cell_type": "markdown",
   "id": "a75b5bb1-686e-4416-aaba-3193ea73f210",
   "metadata": {
    "jp-MarkdownHeadingCollapsed": true,
    "tags": []
   },
   "source": [
    "## Functions"
   ]
  },
  {
   "cell_type": "markdown",
   "id": "6f75f279-b777-4d0e-9dee-2af6a38d683d",
   "metadata": {},
   "source": [
    "`head(a: list) -> list`"
   ]
  },
  {
   "cell_type": "code",
   "execution_count": 2,
   "id": "b063f18b-bbd8-436f-87f3-70be48bb6117",
   "metadata": {},
   "outputs": [],
   "source": [
    "def head(a): return a[:3]"
   ]
  },
  {
   "cell_type": "markdown",
   "id": "4b14146a-e50d-43da-81db-3a47232a3419",
   "metadata": {},
   "source": [
    "## Puzzles"
   ]
  },
  {
   "cell_type": "markdown",
   "id": "e1d7458b-6962-4f87-842c-5a7e6f5c8f08",
   "metadata": {
    "jp-MarkdownHeadingCollapsed": true,
    "tags": []
   },
   "source": [
    "### Day 1\n",
    "\n",
    "[\\-\\-\\- Report Repair \\-\\-\\-](https://adventofcode.com/2020/day/1)"
   ]
  },
  {
   "cell_type": "code",
   "execution_count": 3,
   "id": "fc7ba4d2-8ce0-46a2-b37c-6f2908082567",
   "metadata": {},
   "outputs": [],
   "source": [
    "#| code-fold: true\n",
    "test1 = ['1721', '979', '366', '299', '675', '1456']\n",
    "input1 = lrdataio.cache_advent(2020, 1)"
   ]
  },
  {
   "cell_type": "markdown",
   "id": "1f852209-faa6-4df6-bd3f-9a053f56f28b",
   "metadata": {},
   "source": [
    "Prepare the input."
   ]
  },
  {
   "cell_type": "code",
   "execution_count": 4,
   "id": "6510873b-3ee0-497f-871e-081419b10ab8",
   "metadata": {},
   "outputs": [
    {
     "data": {
      "text/plain": [
       "[1287, 1366, 1669]"
      ]
     },
     "execution_count": 4,
     "metadata": {},
     "output_type": "execute_result"
    }
   ],
   "source": [
    "ereport = [int(x) for x in input1]\n",
    "head(ereport)"
   ]
  },
  {
   "cell_type": "markdown",
   "id": "1ad4303d-3c49-44ab-a73d-bbfd8427df84",
   "metadata": {},
   "source": [
    "`n_sum(nums: ndarray, n: int, target: int) -> int`"
   ]
  },
  {
   "cell_type": "code",
   "execution_count": 5,
   "id": "1a1b100c-a582-4f77-92e1-13ab3c5b71e6",
   "metadata": {
    "tags": []
   },
   "outputs": [],
   "source": [
    "def n_sum(nums, size, target):\n",
    "    for comb in it.combinations(nums, size):\n",
    "        if sum(comb) == target:\n",
    "            return math.prod(comb)"
   ]
  },
  {
   "cell_type": "markdown",
   "id": "8be4f1c7-7be2-49d7-a179-f4b6ca5064b1",
   "metadata": {
    "tags": []
   },
   "source": [
    "#### Part 1\n",
    "\n",
    "*Find the two entries that sum to 2020; what do you get if you multiply them together?*"
   ]
  },
  {
   "cell_type": "markdown",
   "id": "c599ef4b-09e0-46a9-b97c-4c278f83ac22",
   "metadata": {},
   "source": [
    "Solution ="
   ]
  },
  {
   "cell_type": "code",
   "execution_count": 6,
   "id": "6ed48f6b-c5ec-4a9b-9216-14bd0870b8ae",
   "metadata": {},
   "outputs": [
    {
     "data": {
      "text/plain": [
       "691771"
      ]
     },
     "execution_count": 6,
     "metadata": {},
     "output_type": "execute_result"
    }
   ],
   "source": [
    "n_sum(ereport, 2, 2020)"
   ]
  },
  {
   "cell_type": "markdown",
   "id": "822fa3ee-3d11-4926-9c8f-6813cafc8e2e",
   "metadata": {
    "tags": []
   },
   "source": [
    "#### Part 2"
   ]
  },
  {
   "cell_type": "markdown",
   "id": "f5718b66-4f6c-40e6-b4cb-87d648ee2a65",
   "metadata": {},
   "source": [
    "*In your expense report, what is the product of the three entries that sum to 2020?*"
   ]
  },
  {
   "cell_type": "markdown",
   "id": "3d58f9c1-5a84-4e5e-84ca-00519bcdebfc",
   "metadata": {},
   "source": [
    "Solution ="
   ]
  },
  {
   "cell_type": "code",
   "execution_count": 7,
   "id": "d44357a8-14c8-44df-b907-996fe426f973",
   "metadata": {},
   "outputs": [
    {
     "data": {
      "text/plain": [
       "232508760"
      ]
     },
     "execution_count": 7,
     "metadata": {},
     "output_type": "execute_result"
    }
   ],
   "source": [
    "n_sum(ereport, 3, 2020)"
   ]
  },
  {
   "cell_type": "markdown",
   "id": "17bdf9be-af1c-4f02-8c1f-790c54469733",
   "metadata": {
    "jp-MarkdownHeadingCollapsed": true,
    "tags": []
   },
   "source": [
    "### Day 2\n",
    "\n",
    "[\\-\\-\\- Password Philosophy \\-\\-\\-](https://adventofcode.com/2020/day/2)"
   ]
  },
  {
   "cell_type": "code",
   "execution_count": 8,
   "id": "5d77fa80-2bd3-4ee8-9668-f3d5a26185f3",
   "metadata": {},
   "outputs": [],
   "source": [
    "#| code-fold: true\n",
    "test2 = ['1-3 a: abcde',\n",
    "         '1-3 b: cdefg',\n",
    "         '2-9 c: ccccccccc']\n",
    "input2 = lrdataio.cache_advent(2020, 2)"
   ]
  },
  {
   "cell_type": "markdown",
   "id": "c7fe7675-2d4f-47f1-99f8-ee58771e614d",
   "metadata": {},
   "source": [
    "Prepare the input."
   ]
  },
  {
   "cell_type": "code",
   "execution_count": 9,
   "id": "52a01e52-9668-4105-9c5b-421b66521aae",
   "metadata": {},
   "outputs": [
    {
     "data": {
      "text/plain": [
       "['4-5 t: ftttttrvts', '7-8 k: kkkkkkkf', '4-6 k: gqjkkk']"
      ]
     },
     "execution_count": 9,
     "metadata": {},
     "output_type": "execute_result"
    }
   ],
   "source": [
    "passwords = input2\n",
    "head(passwords)"
   ]
  },
  {
   "cell_type": "markdown",
   "id": "ac4c3b1c-ce98-4970-84ed-7cbfdb1c1694",
   "metadata": {},
   "source": [
    "`n_valid_passwords(passwords: ndarray, cond: Callable) -> int`"
   ]
  },
  {
   "cell_type": "code",
   "execution_count": 10,
   "id": "7549a16e-3f1d-44c0-ba38-7ac2789a3ac4",
   "metadata": {},
   "outputs": [],
   "source": [
    "def n_valid_passwords(passwords, cond) -> int:\n",
    "    return sum(cond(password) for password in passwords)"
   ]
  },
  {
   "cell_type": "markdown",
   "id": "c69126ff-e42c-4039-aa34-9d2b1e955580",
   "metadata": {
    "tags": []
   },
   "source": [
    "#### Part 1\n",
    "\n",
    "*How many passwords are valid according to their policies?*"
   ]
  },
  {
   "cell_type": "markdown",
   "id": "d007989f-de19-41c9-9018-0084632f8ce9",
   "metadata": {},
   "source": [
    "`first_rule(s: str) -> bool`"
   ]
  },
  {
   "cell_type": "code",
   "execution_count": 11,
   "id": "99d42c1b-d7af-43d6-b43e-48a5e8aab110",
   "metadata": {
    "tags": []
   },
   "outputs": [],
   "source": [
    "def first_rule(s: str) -> bool:\n",
    "    r = parse('{min:d}-{max:d} {ch}: {pw}', s)\n",
    "    k = collections.Counter(r['pw'])\n",
    "    return r['min'] <= k[r['ch']] <= r['max']"
   ]
  },
  {
   "cell_type": "markdown",
   "id": "23a45d78-43cf-40dd-87d1-b9a1dc026c09",
   "metadata": {},
   "source": [
    "Solution ="
   ]
  },
  {
   "cell_type": "code",
   "execution_count": 12,
   "id": "a282e632-9e4d-4625-9084-dd40b556025a",
   "metadata": {
    "tags": []
   },
   "outputs": [
    {
     "data": {
      "text/plain": [
       "560"
      ]
     },
     "execution_count": 12,
     "metadata": {},
     "output_type": "execute_result"
    }
   ],
   "source": [
    "n_valid_passwords(passwords, first_rule)"
   ]
  },
  {
   "cell_type": "markdown",
   "id": "b5b1f94e-3d49-4300-aa18-b6e064b73f97",
   "metadata": {
    "tags": []
   },
   "source": [
    "#### Part 2"
   ]
  },
  {
   "cell_type": "markdown",
   "id": "372e6aac-6807-41c3-ba2a-a6c0e51940f9",
   "metadata": {},
   "source": [
    "*How many passwords are valid according to the new interpretation of the policies?*"
   ]
  },
  {
   "cell_type": "markdown",
   "id": "c2f63cc2-2711-4ffa-b66c-5f373758953d",
   "metadata": {},
   "source": [
    "`second_rule(s: str) -> bool`"
   ]
  },
  {
   "cell_type": "code",
   "execution_count": 13,
   "id": "10cd2327-d7a6-4bfb-908b-1b6ac92b90d9",
   "metadata": {
    "tags": []
   },
   "outputs": [],
   "source": [
    "def second_rule(s: str) -> bool:\n",
    "    r = parse('{i:d}-{j:d} {c}: {pw}', s)\n",
    "    i, j, ch, pw = r['i']-1, r['j']-1, r['c'], r['pw']\n",
    "    return ((pw[i] == ch and pw[j] != ch)\n",
    "            or (pw[j] == ch and pw[i] != ch))"
   ]
  },
  {
   "cell_type": "markdown",
   "id": "9fede13c-ccce-477b-9f7a-a9e0fc3697ea",
   "metadata": {},
   "source": [
    "Solution ="
   ]
  },
  {
   "cell_type": "code",
   "execution_count": 14,
   "id": "0d5a15b6-3847-4792-ab9b-89e12a0c8024",
   "metadata": {
    "tags": []
   },
   "outputs": [
    {
     "data": {
      "text/plain": [
       "303"
      ]
     },
     "execution_count": 14,
     "metadata": {},
     "output_type": "execute_result"
    }
   ],
   "source": [
    "n_valid_passwords(passwords, second_rule)"
   ]
  },
  {
   "cell_type": "markdown",
   "id": "65e4b98f-8945-46b5-8881-615a54661a8d",
   "metadata": {
    "jp-MarkdownHeadingCollapsed": true,
    "tags": []
   },
   "source": [
    "### Day 3\n",
    "\n",
    "[\\-\\-\\- Toboggan Trajectory \\-\\-\\-](https://adventofcode.com/2020/day/3)"
   ]
  },
  {
   "cell_type": "code",
   "execution_count": 15,
   "id": "f882019c-e523-4135-b33b-cb94187021bd",
   "metadata": {
    "tags": []
   },
   "outputs": [],
   "source": [
    "#| code-fold: true\n",
    "tinput3 = ['..##.......',\n",
    "           '#...#...#..',\n",
    "           '.#....#..#.',\n",
    "           '..#.#...#.#',\n",
    "           '.#...##..#.',\n",
    "           '..#.##.....',\n",
    "           '.#.#.#....#',\n",
    "           '.#........#',\n",
    "           '#.##...#...',\n",
    "           '#...##....#',\n",
    "           '.#..#...#.#']\n",
    "input3 = lrdataio.cache_advent(2020, 3)"
   ]
  },
  {
   "cell_type": "markdown",
   "id": "092b2a4a-371a-455b-83aa-ceb3ccdad8ec",
   "metadata": {},
   "source": [
    "Prepare the input."
   ]
  },
  {
   "cell_type": "code",
   "execution_count": 16,
   "id": "e1e349b4-7dd2-430e-9113-29a921174b54",
   "metadata": {},
   "outputs": [
    {
     "data": {
      "text/plain": [
       "['.........#..##..#..#........#..',\n",
       " '#...#..#..#...##.....##.##.#...',\n",
       " '....#..............#....#....#.']"
      ]
     },
     "execution_count": 16,
     "metadata": {},
     "output_type": "execute_result"
    }
   ],
   "source": [
    "tree_map = input3\n",
    "head(tree_map)"
   ]
  },
  {
   "cell_type": "markdown",
   "id": "8235e7b5-be34-46e3-ab5e-50fc11b59c62",
   "metadata": {},
   "source": [
    "`n_tree_collisions(tm: list[list], di: int, dj: int) -> int:`"
   ]
  },
  {
   "cell_type": "code",
   "execution_count": 17,
   "id": "92801246-b26a-4986-a330-b16101e14c1e",
   "metadata": {},
   "outputs": [],
   "source": [
    "def n_tree_collisions(tm, di, dj) -> int:\n",
    "    i, j, ii, jj = 0, 0, len(tm), len(tm[0])  # origin, boundary\n",
    "    n = 0\n",
    "    while i < ii:\n",
    "        n += (tm[i][j % jj] == '#')\n",
    "        i += di\n",
    "        j += dj\n",
    "\n",
    "    return n"
   ]
  },
  {
   "cell_type": "markdown",
   "id": "f2bcfcab-d046-4fef-8239-ea3950f711b3",
   "metadata": {},
   "source": [
    "#### Part 1\n",
    "\n",
    "*Starting at the top-left corner of your map and following a slope of right 3 and down 1, how many trees would you encounter?*\n",
    "\n",
    "Solution ="
   ]
  },
  {
   "cell_type": "code",
   "execution_count": 18,
   "id": "0c58a8ea-a9b2-4b3d-8768-a11dad0d6129",
   "metadata": {},
   "outputs": [
    {
     "data": {
      "text/plain": [
       "156"
      ]
     },
     "execution_count": 18,
     "metadata": {},
     "output_type": "execute_result"
    }
   ],
   "source": [
    "n_tree_collisions(tree_map, 1, 3)"
   ]
  },
  {
   "cell_type": "markdown",
   "id": "fd66e762-fc07-4e97-b7e5-334d9ae78831",
   "metadata": {},
   "source": [
    "#### Part 2\n",
    "\n",
    "*What do you get if you multiply together the number of trees encountered on each of the listed slopes?*\n",
    "\n",
    "Solution ="
   ]
  },
  {
   "cell_type": "code",
   "execution_count": 19,
   "id": "ce15d20f-95c3-489c-a226-12fe17d7efaf",
   "metadata": {},
   "outputs": [
    {
     "data": {
      "text/plain": [
       "3521829480"
      ]
     },
     "execution_count": 19,
     "metadata": {},
     "output_type": "execute_result"
    }
   ],
   "source": [
    "deltas = [[1, 1], [1, 3], [1, 5], [1, 7], [2, 1]]\n",
    "math.prod(n_tree_collisions(tree_map, di, dj) for di, dj in deltas)"
   ]
  },
  {
   "cell_type": "markdown",
   "id": "ea2740d1-c14c-4c8e-8a81-bb00f6d7e9c4",
   "metadata": {
    "jp-MarkdownHeadingCollapsed": true,
    "tags": []
   },
   "source": [
    "### Day 4\n",
    "\n",
    "[\\-\\-\\- Passport Processing \\-\\-\\-](https://adventofcode.com/2020/day/4)"
   ]
  },
  {
   "cell_type": "code",
   "execution_count": 20,
   "id": "3761db34-3133-4ce4-82e6-0d6bd38d0019",
   "metadata": {
    "tags": []
   },
   "outputs": [],
   "source": [
    "#| code-fold: true\n",
    "tinput4 = ['ecl:gry pid:860033327 eyr:2020 hcl:#fffffd',\n",
    "           'byr:1937 iyr:2017 cid:147 hgt:183cm',\n",
    "           '',\n",
    "           'iyr:2013 ecl:amb cid:350 eyr:2023 pid:028048884',\n",
    "           'hcl:#cfa07d byr:1929',\n",
    "           '',\n",
    "           'hcl:#ae17e1 iyr:2013',\n",
    "           'eyr:2024',\n",
    "           'ecl:brn pid:760753108 byr:1931',\n",
    "           'hgt:179cm',\n",
    "           '',\n",
    "           'hcl:#cfa07d eyr:2025 pid:166559648',\n",
    "           'iyr:2011 ecl:brn hgt:59in']\n",
    "input4 = lrdataio.cache_advent(2020, 4)"
   ]
  },
  {
   "cell_type": "markdown",
   "id": "bb0c9bc7-6905-417d-9283-4ab613468873",
   "metadata": {},
   "source": [
    "Prepare the input.\n",
    "\n",
    "`parse_batch_file(bf: list[str]) -> list[str]`"
   ]
  },
  {
   "cell_type": "code",
   "execution_count": 21,
   "id": "ea662e5d-87da-4d2c-a67d-680d1ca3445d",
   "metadata": {},
   "outputs": [
    {
     "data": {
      "text/plain": [
       "['byr:1983 iyr:2017 pid:796082981 cid:129 eyr:2030 ecl:oth hgt:182cm',\n",
       " 'iyr:2019 cid:314 eyr:2039 hcl:#cfa07d hgt:171cm ecl:#0180ce byr:2006 pid:8204115568',\n",
       " 'byr:1991 eyr:2022 hcl:#341e13 iyr:2016 pid:729933757 hgt:167cm ecl:gry']"
      ]
     },
     "execution_count": 21,
     "metadata": {},
     "output_type": "execute_result"
    }
   ],
   "source": [
    "def parse_batch_file(data: list[str]) -> list[str]:\n",
    "    def replace_empty_str(s): return '\\n' if len(s) == 0 else s\n",
    "\n",
    "    joined_line = ' '.join([replace_empty_str(s) for s in data]).lstrip(' ')\n",
    "    return joined_line.split(' \\n ')\n",
    "\n",
    "\n",
    "parsed_bf = parse_batch_file(input4)\n",
    "head(parsed_bf)"
   ]
  },
  {
   "cell_type": "markdown",
   "id": "a459e7cd-09f1-4086-85e5-17ed68dc960c",
   "metadata": {},
   "source": [
    "`Scanner`\n",
    "\n",
    "A class to model a passport scanner.\n",
    "Its interface is comprised of Boolean tests that checks each condition for a valid passport."
   ]
  },
  {
   "cell_type": "code",
   "execution_count": 22,
   "id": "6ee3743c-9f13-4b03-af57-bdeb3168a776",
   "metadata": {
    "tags": []
   },
   "outputs": [],
   "source": [
    "#| code-fold: true\n",
    "#| code-summary: Show class definition\n",
    "@dataclasses.dataclass\n",
    "class Scanner:\n",
    "    byr: str  # Birth Year\n",
    "    iyr: str  # Issue Year\n",
    "    eyr: str  # Expiration Year\n",
    "    hgt: str  # Height\n",
    "    hcl: str  # Hair Color\n",
    "    ecl: str  # Eye Color\n",
    "    pid: str  # Passport ID\n",
    "    cid: str  # Country ID\n",
    "\n",
    "    @classmethod\n",
    "    def from_str(cls, s: str) -> Scanner:\n",
    "        seq = s.split(' ')\n",
    "        r = collections.defaultdict(lambda: '')\n",
    "        for item in seq:\n",
    "            k, v = item.split(':')\n",
    "            r[k] = v\n",
    "        ks = ['byr', 'iyr', 'eyr', 'hgt', 'hcl', 'ecl', 'pid', 'cid']\n",
    "        return cls(*[r[k] for k in ks])\n",
    "\n",
    "    @staticmethod\n",
    "    def is_valid_year(y: str, lower: int, upper: int) -> bool:\n",
    "        return (len(y) == 4\n",
    "                and y.isnumeric()\n",
    "                and lower <= int(y) <= upper)\n",
    "\n",
    "    def __len__(self) -> int:\n",
    "        # return the number of completed required fields\n",
    "        return sum(1 if k != 'cid' and v != '' else 0\n",
    "                   for k, v in self.__dict__.items())\n",
    "\n",
    "    def has_valid_byr(self) -> bool:\n",
    "        return Scanner.is_valid_year(self.byr, 1920, 2002)\n",
    "\n",
    "    def has_valid_iyr(self) -> bool:\n",
    "        return Scanner.is_valid_year(self.iyr, 2010, 2020)\n",
    "\n",
    "    def has_valid_eyr(self) -> bool:\n",
    "        return Scanner.is_valid_year(self.eyr, 2020, 2030)\n",
    "\n",
    "    def has_valid_hgt(self) -> bool:\n",
    "        if len(self.hgt) <= 3:  # guard\n",
    "            return False\n",
    "        h, unit = self.hgt[:-2], self.hgt[-2:]\n",
    "        if h.isnumeric():\n",
    "            if unit == 'cm':\n",
    "                return 150 <= int(h) <= 193\n",
    "            elif unit == 'in':\n",
    "                return 59 <= int(h) <= 76\n",
    "            else:  # not a recognised unit\n",
    "                return False\n",
    "        return False\n",
    "\n",
    "    def has_valid_hcl(self) -> bool:\n",
    "        if self.hcl[0] != '#':  # guard\n",
    "            return False\n",
    "        try:\n",
    "            int(self.hcl[1:], base=16)\n",
    "        except ValueError:\n",
    "            return False\n",
    "        return True\n",
    "\n",
    "    def has_valid_ecl(self) -> bool:\n",
    "        return self.ecl in ['amb', 'blu', 'brn', 'gry', 'grn', 'hzl', 'oth']\n",
    "\n",
    "    def has_valid_pid(self) -> bool:\n",
    "        try:\n",
    "            num = int(self.pid)\n",
    "        except ValueError:\n",
    "            return False\n",
    "        return str(num).rjust(9, '0') == self.pid\n",
    "\n",
    "    def passes_first_stage(self) -> bool:\n",
    "        # return true if all 7 required fields are complete\n",
    "        return len(self) == 7\n",
    "\n",
    "    def passes_second_stage(self) -> bool:\n",
    "        return all([self.has_valid_byr(),\n",
    "                    self.has_valid_iyr(),\n",
    "                    self.has_valid_eyr(),\n",
    "                    self.has_valid_hgt(),\n",
    "                    self.has_valid_hcl(),\n",
    "                    self.has_valid_ecl(),\n",
    "                    self.has_valid_pid()])\n",
    "\n",
    "    def passes_both_stages(self) -> bool:\n",
    "        return self.passes_first_stage() and self.passes_second_stage()"
   ]
  },
  {
   "cell_type": "markdown",
   "id": "6b0133ff-3899-400a-945d-dc277be77860",
   "metadata": {},
   "source": [
    "#### Part 1\n",
    "\n",
    "*Count the number of valid passports - those that have all required fields.*\n",
    "**Treat cid as optional.**\n",
    "*In your batch file, how many passports are valid?*\n",
    "\n",
    "Solution ="
   ]
  },
  {
   "cell_type": "code",
   "execution_count": 23,
   "id": "a54278e0-22ed-4f04-a9a7-06bd98a1017e",
   "metadata": {},
   "outputs": [
    {
     "data": {
      "text/plain": [
       "239"
      ]
     },
     "execution_count": 23,
     "metadata": {},
     "output_type": "execute_result"
    }
   ],
   "source": [
    "scanners = [Scanner.from_str(line) for line in parsed_bf]\n",
    "len([scanner for scanner in scanners if scanner.passes_first_stage()])"
   ]
  },
  {
   "cell_type": "markdown",
   "id": "2604a1ab-1973-4bb1-a05d-9f68f7867e3a",
   "metadata": {},
   "source": [
    "#### Part 2\n",
    "\n",
    "*Count the number of valid passports - those that have all required fields and valid values.*\n",
    "*Continue to treat cid as optional.*\n",
    "*In your batch file, how many passports are valid?*\n",
    "\n",
    "Solution ="
   ]
  },
  {
   "cell_type": "code",
   "execution_count": 24,
   "id": "e5f465e7-72c8-48d0-9238-2aea99f37bb0",
   "metadata": {},
   "outputs": [
    {
     "data": {
      "text/plain": [
       "188"
      ]
     },
     "execution_count": 24,
     "metadata": {},
     "output_type": "execute_result"
    }
   ],
   "source": [
    "scanners = [Scanner.from_str(line) for line in parsed_bf]\n",
    "len([scanner for scanner in scanners if scanner.passes_both_stages()])"
   ]
  },
  {
   "cell_type": "markdown",
   "id": "b5a3da31-5b10-4d02-ab62-434ac4a94f20",
   "metadata": {
    "jp-MarkdownHeadingCollapsed": true,
    "tags": []
   },
   "source": [
    "### Day 5\n",
    "\n",
    "[\\-\\-\\- Binary Boarding \\-\\-\\-](https://adventofcode.com/2020/day/5)"
   ]
  },
  {
   "cell_type": "code",
   "execution_count": 25,
   "id": "d7944fc6-d2cf-41c2-877c-3aa54390ac32",
   "metadata": {
    "tags": []
   },
   "outputs": [],
   "source": [
    "#| code-fold: true\n",
    "tinput5 = ['FBFBBFFRLR',\n",
    "           'BFFFBBFRRR',\n",
    "           'FFFBBBFRRR',\n",
    "           'BBFFBBFRLL']\n",
    "input5 = lrdataio.cache_advent(2020, 5)"
   ]
  },
  {
   "cell_type": "markdown",
   "id": "7ba85015-ef21-4156-bfbb-2db2aee23c94",
   "metadata": {},
   "source": [
    "Prepare the input."
   ]
  },
  {
   "cell_type": "markdown",
   "id": "783e4c60-1dda-45ad-aeb9-1ccbf8ed96eb",
   "metadata": {},
   "source": [
    "`bin_str(s: str) -> str`"
   ]
  },
  {
   "cell_type": "code",
   "execution_count": 26,
   "id": "6db7eabb-7dd6-4547-9075-677f16be9e73",
   "metadata": {},
   "outputs": [],
   "source": [
    "def bin_str(s: str) -> str:\n",
    "    return ''.join(['1' if x in ['B', 'R'] else '0' for x in s])"
   ]
  },
  {
   "cell_type": "markdown",
   "id": "09f88157-d921-4135-bf37-21a2d353a38b",
   "metadata": {},
   "source": [
    "`int_str(bin_str: str) -> int`"
   ]
  },
  {
   "cell_type": "code",
   "execution_count": 27,
   "id": "e8de7aa3-9c5c-4fdb-8a0d-e4ca49d1b087",
   "metadata": {},
   "outputs": [],
   "source": [
    "def int_str(bin_str: str) -> int: return int(bin_str, 2)"
   ]
  },
  {
   "cell_type": "code",
   "execution_count": 28,
   "id": "d3d7ce99-be3e-44e5-9916-2ce4eaae7e1b",
   "metadata": {},
   "outputs": [
    {
     "data": {
      "text/plain": [
       "[32, 33, 34]"
      ]
     },
     "execution_count": 28,
     "metadata": {},
     "output_type": "execute_result"
    }
   ],
   "source": [
    "seat_ids = sorted([int_str(bin_str(s)) for s in input5])\n",
    "head(seat_ids)"
   ]
  },
  {
   "cell_type": "markdown",
   "id": "970759db-0fac-4551-89ac-3ab5e10b561e",
   "metadata": {},
   "source": [
    "#### Part 1\n",
    "\n",
    "*As a sanity check, look through your list of boarding passes.*\n",
    "*What is the highest seat ID on a boarding pass?*\n",
    "\n",
    "Solution ="
   ]
  },
  {
   "cell_type": "code",
   "execution_count": 29,
   "id": "e58ec95d-12e6-4b05-a5ac-c7e9651cffd2",
   "metadata": {},
   "outputs": [
    {
     "data": {
      "text/plain": [
       "848"
      ]
     },
     "execution_count": 29,
     "metadata": {},
     "output_type": "execute_result"
    }
   ],
   "source": [
    "seat_ids[-1]"
   ]
  },
  {
   "cell_type": "markdown",
   "id": "89cbb099-2b9e-42fe-9c15-85a9df7ddaed",
   "metadata": {},
   "source": [
    "#### Part 2\n",
    "\n",
    "*What is the ID of your seat?*"
   ]
  },
  {
   "cell_type": "code",
   "execution_count": 30,
   "id": "6c8f15d6-0e15-41a9-aed9-91f74e7b8860",
   "metadata": {},
   "outputs": [],
   "source": [
    "def find_seat(seat_ids) -> int:\n",
    "    left, right = np.array(seat_ids[:-1]), np.array(seat_ids[1:])\n",
    "    for i, diff in enumerate(right - left):\n",
    "        if diff != 1:\n",
    "            return left[i] + 1"
   ]
  },
  {
   "cell_type": "markdown",
   "id": "669afc0a-6d38-4d99-84f2-1ab7bb98e971",
   "metadata": {},
   "source": [
    "Solution ="
   ]
  },
  {
   "cell_type": "code",
   "execution_count": 31,
   "id": "984ca88a-da16-4f23-b7f6-aa671fe35b88",
   "metadata": {},
   "outputs": [
    {
     "data": {
      "text/plain": [
       "682"
      ]
     },
     "execution_count": 31,
     "metadata": {},
     "output_type": "execute_result"
    }
   ],
   "source": [
    "find_seat(seat_ids)"
   ]
  },
  {
   "cell_type": "markdown",
   "id": "44cbf963-4040-4383-8eae-253adde06a28",
   "metadata": {
    "tags": []
   },
   "source": [
    "### Day 6\n",
    "\n",
    "[\\-\\-\\- Custom Customs \\-\\-\\-](https://adventofcode.com/2020/day/6)"
   ]
  },
  {
   "cell_type": "code",
   "execution_count": 32,
   "id": "48dc9425-43e1-4404-b180-b271e369d269",
   "metadata": {
    "tags": []
   },
   "outputs": [],
   "source": [
    "#| code-fold: true\n",
    "tinput6 = ['abc', '', 'a', 'b', 'c', '', 'ab', 'ac', '', 'a', 'a', 'a', 'a', '', 'b']  # noqa\n",
    "input6 = lrdataio.cache_advent(2020, 6)"
   ]
  },
  {
   "cell_type": "markdown",
   "id": "18d60348-6029-421a-8376-a23735b2822d",
   "metadata": {},
   "source": [
    "Prepare the input."
   ]
  },
  {
   "cell_type": "markdown",
   "id": "cb6c962b-eb90-460e-8d92-69996167ab45",
   "metadata": {},
   "source": [
    "`group_party_answers(a: list[str]) -> list[list[str]]`"
   ]
  },
  {
   "cell_type": "code",
   "execution_count": 33,
   "id": "6f4ee55a-f867-4690-bd1d-ad7b08fbb5a2",
   "metadata": {},
   "outputs": [],
   "source": [
    "def group_party_answers(a) -> list[list[str]]:\n",
    "    def replace_empty_str(s): return '\\n' if len(s) == 0 else s\n",
    "\n",
    "    joined = ' '.join([replace_empty_str(s) for s in a]).lstrip(' ')\n",
    "    groups = joined.split(' \\n ')\n",
    "    return [group.split(' ') for group in groups]"
   ]
  },
  {
   "cell_type": "code",
   "execution_count": 34,
   "id": "c097fc67-ad57-401d-b089-b9d0506a781b",
   "metadata": {},
   "outputs": [
    {
     "data": {
      "text/plain": [
       "[['we', 'euw', 'we'],\n",
       " ['czaxvodqbsjeytwhurpg', 'gclajqykpmxfbohvtedzwrus'],\n",
       " ['dxoznjqhwuvblprgekyfcm', 'ghbozdkxqjevwfrypcnul', 'rxpjtgwvuoeqfhlkncdbyz']]"
      ]
     },
     "execution_count": 34,
     "metadata": {},
     "output_type": "execute_result"
    }
   ],
   "source": [
    "parties_answers = group_party_answers(input6)\n",
    "head(parties_answers)"
   ]
  },
  {
   "cell_type": "markdown",
   "id": "3ac8c4d5-fcc5-434a-b08c-76b59eb495c2",
   "metadata": {},
   "source": [
    "#### Part 1\n",
    "\n",
    "*For each group, count the number of questions to which anyone answered \"yes\".*\n",
    "*What is the sum of those counts?*"
   ]
  },
  {
   "cell_type": "markdown",
   "id": "003b0e01-b0fc-4411-9c02-8fcf0db8fcc0",
   "metadata": {},
   "source": [
    "`n_unique(party_answers: list[str]) -> int`"
   ]
  },
  {
   "cell_type": "code",
   "execution_count": 35,
   "id": "79ba145e-7ddf-4c66-abf0-1b2e8376f23d",
   "metadata": {},
   "outputs": [],
   "source": [
    "def n_unique(party_answers: list[str]) -> int:\n",
    "    return len(set(''.join(party_answers)))"
   ]
  },
  {
   "cell_type": "markdown",
   "id": "deed5919-8611-43e8-a13d-a32684c68dbc",
   "metadata": {},
   "source": [
    "Solution ="
   ]
  },
  {
   "cell_type": "code",
   "execution_count": 36,
   "id": "55d1e267-2d50-4bac-89aa-2fcfb5e1477a",
   "metadata": {},
   "outputs": [
    {
     "data": {
      "text/plain": [
       "6763"
      ]
     },
     "execution_count": 36,
     "metadata": {},
     "output_type": "execute_result"
    }
   ],
   "source": [
    "sum(n_unique(party_answers) for party_answers in parties_answers)"
   ]
  },
  {
   "cell_type": "markdown",
   "id": "0247d126-f899-4c44-beec-a4673091adc1",
   "metadata": {},
   "source": [
    "#### Part 2\n",
    "\n",
    "*For each group, count the number of questions to which everyone answered \"yes\".*\n",
    "*What is the sum of those counts?*"
   ]
  },
  {
   "cell_type": "markdown",
   "id": "21ab4480-383b-4fd5-a52c-c06937116a31",
   "metadata": {},
   "source": [
    "`n_all_yes(party_answers: list[str]) -> int`"
   ]
  },
  {
   "cell_type": "code",
   "execution_count": 37,
   "id": "2ac0cdf0-7c43-45f3-84cd-b7c4306cc28f",
   "metadata": {},
   "outputs": [],
   "source": [
    "def n_all_yes(party_answers: list[str]) -> int:\n",
    "    n = len(party_answers)\n",
    "    q_counter = collections.Counter(''.join(party_answers))\n",
    "    return len([*filter(lambda q: q_counter[q] == n, q_counter.keys())])"
   ]
  },
  {
   "cell_type": "markdown",
   "id": "27d046d8-1858-4557-a30d-cd4594528c2c",
   "metadata": {},
   "source": [
    "Solution ="
   ]
  },
  {
   "cell_type": "code",
   "execution_count": 38,
   "id": "94ce2686-1266-4efa-8643-32015ba51df0",
   "metadata": {},
   "outputs": [
    {
     "data": {
      "text/plain": [
       "3512"
      ]
     },
     "execution_count": 38,
     "metadata": {},
     "output_type": "execute_result"
    }
   ],
   "source": [
    "sum([n_all_yes(party_answers) for party_answers in parties_answers])"
   ]
  }
 ],
 "metadata": {
  "kernelspec": {
   "display_name": "aoc",
   "language": "python",
   "name": "aoc"
  },
  "language_info": {
   "codemirror_mode": {
    "name": "ipython",
    "version": 3
   },
   "file_extension": ".py",
   "mimetype": "text/x-python",
   "name": "python",
   "nbconvert_exporter": "python",
   "pygments_lexer": "ipython3",
   "version": "3.10.7"
  },
  "vscode": {
   "interpreter": {
    "hash": "ee0634d781153be95ebf288c0c255a99ed16ebbc63cb15b4625f2c710e407a31"
   }
  }
 },
 "nbformat": 4,
 "nbformat_minor": 5
}
