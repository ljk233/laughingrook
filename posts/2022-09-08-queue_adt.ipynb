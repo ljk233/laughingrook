{
 "cells": [
  {
   "cell_type": "raw",
   "id": "a8394544-0b95-45ee-a62b-c8e92c022cf8",
   "metadata": {},
   "source": [
    "---\n",
    "title: Queue ADT\n",
    "date: 2022-09-08\n",
    "categories: [AbstractDataType]\n",
    "draft: false\n",
    "---"
   ]
  },
  {
   "cell_type": "markdown",
   "id": "3a0bc1bc-1a06-4e9e-95d2-542fb6f6e7e1",
   "metadata": {},
   "source": [
    "## Summary notes\n",
    "\n",
    "Using Python's `deque` class as an implementation of the Queue ADT.\n",
    "A queue is:\n",
    "\n",
    "> [A]n ordered collection of items where the addition of new items happens at one end, called the \"rear,\" and the removal of existing items occurs at the other end, commonly called the \"front.\"\n",
    "> As an element enters the queue it starts at the rear and makes its way toward the front, waiting until that time when it is the next element to be removed.\n",
    ">\n",
    "> The most recently added item in the queue must wait at the end of the collection.\n",
    "> The item that has been in the collection the longest is at the front.\n",
    "> This ordering principle is sometimes called **FIFO, first-in first-out.**\n",
    "> It is also known as “first-come first-served.”\n",
    ">\n",
    "> [What is a Queue?](https://runestone.academy/ns/books/published/pythonds/BasicDS/WhatIsaQueue.html) (Problem Solving with Algorithms and Data Structures using Python)\n",
    "\n",
    "In this example, we take the left-hand side of the `deque` as the *front* of the queue, and the right-hand side as the *back*.\n",
    "\n",
    "The table below shows the common operations of a queue.\n",
    "We take the left-hand side of the `deque` as the *front* of the queue, and the right-hand side as the *back*.\n",
    "\n",
    "| operation  | description                                          | python        |\n",
    "| ---------- | ---------------------------------------------------- | ------------- |\n",
    "| *new*      | Initialise an empty stack                            | `deque()`     |\n",
    "| *size*     | Return the number of items in the queue              | `len(q)`      |\n",
    "| *is empty* | Return if the queue contains no items                | `len(q) == 0` |\n",
    "| *enqueue*  | Add an item to the back of the queue                 | `q.append(x)` |\n",
    "| *front*    | Return the item at the front of the queue            | `q[0]`       |\n",
    "| *back*     | Return the item at the back of the queue             | `q[-1]`        |\n",
    "| *dequeue*  | Remove and return the item at the front of the queue | `q.popleft()` |\n",
    "\n",
    "We showed one example of how a *Queue* can be used:\n",
    "Perform a level-first traversal of a **binary tree.**[^1]\n",
    "\n",
    "The function `collect_by_level` returns the values of the nodes of a binary tree as a level-order `list`.\n",
    "\n",
    "Below is the algorithm we used to implement the level-first traveral.\n",
    "Queue operations are **emphasised** so they can be easily identified.\n",
    "\n",
    "1. let *q* be a **new** queue\n",
    "2. let *collection* be an empty `list`\n",
    "3. enqueue(*q*, *tree*)\n",
    "4. while not **is empty**(*q*)\n",
    "   1. let *node* = **front**(*q*)\n",
    "   2. if *node* is not an empty node:\n",
    "      1. append **value**(*node*) to *collection*\n",
    "      2. enqueue(*q*, left(*node*))\n",
    "      3. enqueue(*q*, right(*node*))\n",
    "   3. **dequeue**(*q*)"
   ]
  },
  {
   "cell_type": "markdown",
   "id": "ab39e9d2-c1c0-4e4c-a89d-25f57b9235a8",
   "metadata": {},
   "source": [
    "## Dependencies"
   ]
  },
  {
   "cell_type": "code",
   "execution_count": 1,
   "id": "c04f9ec6-f8a3-49f8-b864-78af9bd5d66a",
   "metadata": {},
   "outputs": [],
   "source": [
    "from collections import deque\n",
    "import binarytree as bt"
   ]
  },
  {
   "cell_type": "markdown",
   "id": "2b7cbe1a",
   "metadata": {},
   "source": [
    "## Functions"
   ]
  },
  {
   "cell_type": "code",
   "execution_count": 2,
   "id": "5cc6051f",
   "metadata": {},
   "outputs": [],
   "source": [
    "def collect_by_level(tree: bt.Node) -> list:\n",
    "    \"\"\"Return root and its descendant nodes as a list in a level-first\n",
    "    order.\n",
    "    \"\"\"\n",
    "    q = deque()\n",
    "    collection = []\n",
    "    q.append(tree)\n",
    "    while len(q) >= 1:\n",
    "        node = q[0]\n",
    "        if node is not None:\n",
    "            collection.append(node.val)\n",
    "            q.append(node.left)\n",
    "            q.append(node.right)\n",
    "        q.popleft()\n",
    "\n",
    "    return collection"
   ]
  },
  {
   "cell_type": "markdown",
   "id": "1a9d1167",
   "metadata": {},
   "source": [
    "## Main"
   ]
  },
  {
   "cell_type": "markdown",
   "id": "a81ce4d9",
   "metadata": {},
   "source": [
    "### Testing"
   ]
  },
  {
   "cell_type": "code",
   "execution_count": 3,
   "id": "f0db615c",
   "metadata": {},
   "outputs": [
    {
     "name": "stdout",
     "output_type": "stream",
     "text": [
      "Testing complete\n"
     ]
    }
   ],
   "source": [
    "N = 10\n",
    "arange = lambda n: [x for x in range(n)]\n",
    "assert all(\n",
    "    collect_by_level(bt.build2(list(range(n)))) == list(range(n))\n",
    "    for n in range(N)\n",
    ")\n",
    "print('Testing complete')"
   ]
  },
  {
   "cell_type": "markdown",
   "id": "3d28a7a9",
   "metadata": {},
   "source": [
    "### Example use\n",
    "\n",
    "Populate a `binary tree` with letters 'a' through 'g'."
   ]
  },
  {
   "cell_type": "code",
   "execution_count": 4,
   "id": "564fa1e5",
   "metadata": {},
   "outputs": [
    {
     "name": "stdout",
     "output_type": "stream",
     "text": [
      "\n",
      "    __a__\n",
      "   /     \\\n",
      "  b       c\n",
      " / \\     / \\\n",
      "d   e   f   g\n",
      "\n"
     ]
    }
   ],
   "source": [
    "letter_tree = bt.build2([chr(x) for x in range(97, 104)])\n",
    "print(letter_tree)"
   ]
  },
  {
   "cell_type": "markdown",
   "id": "53194b1a",
   "metadata": {},
   "source": [
    "Print *letter_tree* in level-first order."
   ]
  },
  {
   "cell_type": "code",
   "execution_count": 5,
   "id": "5a204ee0",
   "metadata": {},
   "outputs": [
    {
     "data": {
      "text/plain": [
       "['a', 'b', 'c', 'd', 'e', 'f', 'g']"
      ]
     },
     "execution_count": 5,
     "metadata": {},
     "output_type": "execute_result"
    }
   ],
   "source": [
    "collect_by_level(letter_tree)"
   ]
  },
  {
   "cell_type": "markdown",
   "id": "662f4eba",
   "metadata": {},
   "source": [
    "### Performance\n",
    "\n",
    "The performance tests show a doubling in `collect_by_level`'s time-to-run, as the |*tree*| doubles.\n",
    "It has a linear complexity."
   ]
  },
  {
   "cell_type": "code",
   "execution_count": 6,
   "id": "d14f1673",
   "metadata": {},
   "outputs": [
    {
     "name": "stdout",
     "output_type": "stream",
     "text": [
      "Test 1 (n=100) =\n",
      "30.7 µs ± 524 ns per loop (mean ± std. dev. of 3 runs, 3,000 loops each)\n",
      "Test 2 (n=200) =\n",
      "58.6 µs ± 564 ns per loop (mean ± std. dev. of 3 runs, 3,000 loops each)\n",
      "Test 3 (n=400) =\n",
      "120 µs ± 707 ns per loop (mean ± std. dev. of 3 runs, 3,000 loops each)\n",
      "Test 4 (n=800) =\n",
      "231 µs ± 1.16 µs per loop (mean ± std. dev. of 3 runs, 3,000 loops each)\n"
     ]
    }
   ],
   "source": [
    "sizes = [100, 200, 400, 800]\n",
    "for i, n in enumerate(sizes):\n",
    "    print(f'Test {i+1} (n={n}) =')\n",
    "    root = bt.build2(list(range(n)))\n",
    "    %timeit -r 3 -n 3000 collect_by_level(root)"
   ]
  },
  {
   "cell_type": "code",
   "execution_count": 7,
   "id": "be6b924d",
   "metadata": {},
   "outputs": [
    {
     "name": "stdout",
     "output_type": "stream",
     "text": [
      "binarytree: 6.5.1\n",
      "sys       : 3.10.6 (tags/v3.10.6:9c7b4bd, Aug  1 2022, 21:53:49) [MSC v.1932 64 bit (AMD64)]\n",
      "\n"
     ]
    }
   ],
   "source": [
    "%load_ext watermark\n",
    "%watermark --iv"
   ]
  }
 ],
 "metadata": {
  "kernelspec": {
   "display_name": "lr_compsci",
   "language": "python",
   "name": "lr_compsci"
  },
  "language_info": {
   "codemirror_mode": {
    "name": "ipython",
    "version": 3
   },
   "file_extension": ".py",
   "mimetype": "text/x-python",
   "name": "python",
   "nbconvert_exporter": "python",
   "pygments_lexer": "ipython3",
   "version": "3.10.6"
  }
 },
 "nbformat": 4,
 "nbformat_minor": 5
}
