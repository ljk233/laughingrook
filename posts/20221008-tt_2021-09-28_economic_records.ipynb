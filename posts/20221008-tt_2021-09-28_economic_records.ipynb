{
 "cells": [
  {
   "cell_type": "raw",
   "id": "412c281c",
   "metadata": {},
   "source": [
    "---\n",
    "title: Economic Papers\n",
    "date: 2022-10-08\n",
    "categories: [TidyTuesday]\n",
    "draft: true\n",
    "---"
   ]
  },
  {
   "cell_type": "markdown",
   "id": "c6025a30-df35-4d4b-8bd3-38886a38c0a2",
   "metadata": {
    "tags": []
   },
   "source": [
    "## Summary notes\n",
    "\n",
    "### About the project\n",
    "\n",
    "- TidyTuesday reference\n",
    "   - [2021-09-28, Economic records](https://github.com/rfordatascience/tidytuesday/tree/master/data/2021)\n",
    "- Data source\n",
    "   - [NBER](https://www2.nber.org/RePEc/nbr/nberwo/)\n",
    "- Website reference\n",
    "   - [Female representation and collaboration at the NBER](https://bldavies.com/blog/female-representation-collaboration-nber/)\n",
    "- Libraries used\n",
    "   - *Ibis* (*SQLite3*)\n",
    "   - *Seaborn*\n",
    "\n",
    "### To-do list\n",
    "\n",
    "- [X] DataIO\n",
    "   - temporary database name = *nber*\n",
    "   - data stored in *paper* table\n",
    "- [ ] Date exploration\n",
    "   - [X] preview\n",
    "   - [X] shape\n",
    "   - [X] info (col, dtype, *nmissing*, *%missing*)\n",
    "   - [X] *nunique*, *%missing*\n",
    "- [ ] Data preprocessing\n",
    "- [ ] Data transformation\n",
    "- [ ] Data visualisation\n",
    "\n",
    "### History\n",
    "\n",
    "- 2022-10-08\n",
    "   - Project chosen\n",
    "   - Initial exploration"
   ]
  },
  {
   "cell_type": "markdown",
   "id": "33f5a82c-fe3d-4d71-8f8e-22a5afc14e91",
   "metadata": {
    "tags": []
   },
   "source": [
    "## Dependencies"
   ]
  },
  {
   "cell_type": "code",
   "execution_count": 1,
   "id": "98b09c2b-1ba5-4044-8400-f5cfcffe0204",
   "metadata": {},
   "outputs": [],
   "source": [
    "import ibis\n",
    "from sqlalchemy import create_engine\n",
    "import pandas as pd\n",
    "from matplotlib import pyplot as plt\n",
    "import seaborn as sns\n",
    "from seaborn import objects as so\n",
    "import laughingrook as lr\n",
    "from sqlalchemy.engine.base import Engine  # for function typing"
   ]
  },
  {
   "cell_type": "code",
   "execution_count": 2,
   "id": "6390c4b0-4859-445d-8d87-5a89df9c34aa",
   "metadata": {},
   "outputs": [
    {
     "name": "stdout",
     "output_type": "stream",
     "text": [
      "pandas      : 1.5.0\n",
      "seaborn     : 0.12.0\n",
      "laughingrook: 0.2.0\n",
      "ibis        : 3.2.0\n",
      "matplotlib  : 3.6.1\n",
      "\n"
     ]
    }
   ],
   "source": [
    "%load_ext watermark\n",
    "%watermark --iv"
   ]
  },
  {
   "cell_type": "markdown",
   "id": "e7df29be-c708-41ad-aeb7-6547930be901",
   "metadata": {
    "tags": []
   },
   "source": [
    "## Main"
   ]
  },
  {
   "cell_type": "code",
   "execution_count": 3,
   "id": "dc0f9356-6b1d-446e-8f98-89a65f4ac15c",
   "metadata": {},
   "outputs": [],
   "source": [
    "%precision 3\n",
    "ibis.options.interactive = True\n",
    "sns.set_theme()"
   ]
  },
  {
   "cell_type": "markdown",
   "id": "54123abf",
   "metadata": {},
   "source": [
    "### DataIO"
   ]
  },
  {
   "cell_type": "code",
   "execution_count": 4,
   "id": "d0176e79-58dc-4e4c-9d64-4c6c5e4dd6f0",
   "metadata": {},
   "outputs": [
    {
     "name": "stdout",
     "output_type": "stream",
     "text": [
      "No data written because paper exists in nber\n"
     ]
    }
   ],
   "source": [
    "url = ('https://raw.githubusercontent.com/rfordatascience/tidytuesday/'\n",
    "       + 'master/data/2021/2021-09-28/combo_df.csv')\n",
    "dbname = 'nber'  # no need for .db\n",
    "table = 'paper'\n",
    "\n",
    "# construct the path\n",
    "dbpath = f'__cache/{dbname}.db'\n",
    "# spin up a local db (or connect to it if it already exists)\n",
    "engine = create_engine(f'sqlite:///{dbpath}', echo=False)\n",
    "# cache the csv file\n",
    "local_path = lr.dataio.cache_url(url)\n",
    "# read the file into the database\n",
    "try:\n",
    "    (pd.read_csv(local_path)  # barebones read_csv call, may need other args\n",
    "     .to_sql(table, engine, if_exists='fail', index=False)\n",
    "    )\n",
    "except ValueError:\n",
    "    print(f'No data written because {table} exists in {dbname}')"
   ]
  },
  {
   "cell_type": "markdown",
   "id": "f4e6d864-61ae-45ca-9d58-54faac3f6c2a",
   "metadata": {},
   "source": [
    "Initialise the *ibis* connection and get a direct reference to the *paper* table."
   ]
  },
  {
   "cell_type": "code",
   "execution_count": 5,
   "id": "33c51aaf-1630-4bb4-bc76-ba92eb57fa8a",
   "metadata": {},
   "outputs": [],
   "source": [
    "nber = ibis.sqlite.connect(dbpath)\n",
    "paper = nber.table('paper')"
   ]
  },
  {
   "cell_type": "markdown",
   "id": "b573e37d-903d-4216-9c95-d1cfe610dffc",
   "metadata": {
    "tags": []
   },
   "source": [
    "### Data exploration"
   ]
  },
  {
   "cell_type": "code",
   "execution_count": 6,
   "id": "19cc26d5-b7f2-45ea-ae3d-268a9d4894a1",
   "metadata": {
    "tags": []
   },
   "outputs": [
    {
     "data": {
      "text/html": [
       "<div>\n",
       "<style scoped>\n",
       "    .dataframe tbody tr th:only-of-type {\n",
       "        vertical-align: middle;\n",
       "    }\n",
       "\n",
       "    .dataframe tbody tr th {\n",
       "        vertical-align: top;\n",
       "    }\n",
       "\n",
       "    .dataframe thead th {\n",
       "        text-align: right;\n",
       "    }\n",
       "</style>\n",
       "<table border=\"1\" class=\"dataframe\">\n",
       "  <thead>\n",
       "    <tr style=\"text-align: right;\">\n",
       "      <th></th>\n",
       "      <th>paper</th>\n",
       "      <th>catalogue_group</th>\n",
       "      <th>year</th>\n",
       "      <th>month</th>\n",
       "      <th>title</th>\n",
       "      <th>author</th>\n",
       "      <th>name</th>\n",
       "      <th>user_nber</th>\n",
       "      <th>user_repec</th>\n",
       "      <th>program</th>\n",
       "      <th>program_desc</th>\n",
       "      <th>program_category</th>\n",
       "    </tr>\n",
       "  </thead>\n",
       "  <tbody>\n",
       "    <tr>\n",
       "      <th>0</th>\n",
       "      <td>w0001</td>\n",
       "      <td>General</td>\n",
       "      <td>1973</td>\n",
       "      <td>6</td>\n",
       "      <td>Education, Information, and Efficiency</td>\n",
       "      <td>w0001.1</td>\n",
       "      <td>Finis Welch</td>\n",
       "      <td>finis_welch</td>\n",
       "      <td>None</td>\n",
       "      <td>None</td>\n",
       "      <td>None</td>\n",
       "      <td>None</td>\n",
       "    </tr>\n",
       "    <tr>\n",
       "      <th>1</th>\n",
       "      <td>w0002</td>\n",
       "      <td>General</td>\n",
       "      <td>1973</td>\n",
       "      <td>6</td>\n",
       "      <td>Hospital Utilization: An Analysis of SMSA Diff...</td>\n",
       "      <td>w0002.1</td>\n",
       "      <td>Barry R Chiswick</td>\n",
       "      <td>barry_chiswick</td>\n",
       "      <td>pch425</td>\n",
       "      <td>None</td>\n",
       "      <td>None</td>\n",
       "      <td>None</td>\n",
       "    </tr>\n",
       "    <tr>\n",
       "      <th>2</th>\n",
       "      <td>w0003</td>\n",
       "      <td>General</td>\n",
       "      <td>1973</td>\n",
       "      <td>6</td>\n",
       "      <td>Error Components Regression Models and Their A...</td>\n",
       "      <td>w0003.1</td>\n",
       "      <td>Swarnjit S Arora</td>\n",
       "      <td>swarnjit_arora</td>\n",
       "      <td>None</td>\n",
       "      <td>None</td>\n",
       "      <td>None</td>\n",
       "      <td>None</td>\n",
       "    </tr>\n",
       "    <tr>\n",
       "      <th>3</th>\n",
       "      <td>w0004</td>\n",
       "      <td>General</td>\n",
       "      <td>1973</td>\n",
       "      <td>7</td>\n",
       "      <td>Human Capital Life Cycle of Earnings Models: A...</td>\n",
       "      <td>w0004.1</td>\n",
       "      <td>Lee A Lillard</td>\n",
       "      <td>None</td>\n",
       "      <td>pli669</td>\n",
       "      <td>None</td>\n",
       "      <td>None</td>\n",
       "      <td>None</td>\n",
       "    </tr>\n",
       "    <tr>\n",
       "      <th>4</th>\n",
       "      <td>w0005</td>\n",
       "      <td>General</td>\n",
       "      <td>1973</td>\n",
       "      <td>7</td>\n",
       "      <td>A Life Cycle Family Model</td>\n",
       "      <td>w0005.1</td>\n",
       "      <td>James P Smith</td>\n",
       "      <td>james_smith</td>\n",
       "      <td>psm28</td>\n",
       "      <td>None</td>\n",
       "      <td>None</td>\n",
       "      <td>None</td>\n",
       "    </tr>\n",
       "    <tr>\n",
       "      <th>5</th>\n",
       "      <td>w0006</td>\n",
       "      <td>General</td>\n",
       "      <td>1973</td>\n",
       "      <td>7</td>\n",
       "      <td>A Review of Cyclical Indicators for the United...</td>\n",
       "      <td>w0006.1</td>\n",
       "      <td>Victor Zarnowitz</td>\n",
       "      <td>victor_zarnowitz</td>\n",
       "      <td>None</td>\n",
       "      <td>None</td>\n",
       "      <td>None</td>\n",
       "      <td>None</td>\n",
       "    </tr>\n",
       "    <tr>\n",
       "      <th>6</th>\n",
       "      <td>w0007</td>\n",
       "      <td>General</td>\n",
       "      <td>1973</td>\n",
       "      <td>8</td>\n",
       "      <td>The Definition and Impact of College Quality</td>\n",
       "      <td>w0007.1</td>\n",
       "      <td>Lewis C Solmon</td>\n",
       "      <td>None</td>\n",
       "      <td>None</td>\n",
       "      <td>None</td>\n",
       "      <td>None</td>\n",
       "      <td>None</td>\n",
       "    </tr>\n",
       "    <tr>\n",
       "      <th>7</th>\n",
       "      <td>w0008</td>\n",
       "      <td>General</td>\n",
       "      <td>1973</td>\n",
       "      <td>9</td>\n",
       "      <td>Multinational Firms and the Factor Intensity o...</td>\n",
       "      <td>w0008.1</td>\n",
       "      <td>Merle Yahr Weiss</td>\n",
       "      <td>None</td>\n",
       "      <td>None</td>\n",
       "      <td>None</td>\n",
       "      <td>None</td>\n",
       "      <td>None</td>\n",
       "    </tr>\n",
       "  </tbody>\n",
       "</table>\n",
       "</div>"
      ],
      "text/plain": [
       "   paper catalogue_group  year  month  \\\n",
       "0  w0001         General  1973      6   \n",
       "1  w0002         General  1973      6   \n",
       "2  w0003         General  1973      6   \n",
       "3  w0004         General  1973      7   \n",
       "4  w0005         General  1973      7   \n",
       "5  w0006         General  1973      7   \n",
       "6  w0007         General  1973      8   \n",
       "7  w0008         General  1973      9   \n",
       "\n",
       "                                               title   author  \\\n",
       "0             Education, Information, and Efficiency  w0001.1   \n",
       "1  Hospital Utilization: An Analysis of SMSA Diff...  w0002.1   \n",
       "2  Error Components Regression Models and Their A...  w0003.1   \n",
       "3  Human Capital Life Cycle of Earnings Models: A...  w0004.1   \n",
       "4                          A Life Cycle Family Model  w0005.1   \n",
       "5  A Review of Cyclical Indicators for the United...  w0006.1   \n",
       "6       The Definition and Impact of College Quality  w0007.1   \n",
       "7  Multinational Firms and the Factor Intensity o...  w0008.1   \n",
       "\n",
       "               name         user_nber user_repec program program_desc  \\\n",
       "0       Finis Welch       finis_welch       None    None         None   \n",
       "1  Barry R Chiswick    barry_chiswick     pch425    None         None   \n",
       "2  Swarnjit S Arora    swarnjit_arora       None    None         None   \n",
       "3     Lee A Lillard              None     pli669    None         None   \n",
       "4     James P Smith       james_smith      psm28    None         None   \n",
       "5  Victor Zarnowitz  victor_zarnowitz       None    None         None   \n",
       "6    Lewis C Solmon              None       None    None         None   \n",
       "7  Merle Yahr Weiss              None       None    None         None   \n",
       "\n",
       "  program_category  \n",
       "0             None  \n",
       "1             None  \n",
       "2             None  \n",
       "3             None  \n",
       "4             None  \n",
       "5             None  \n",
       "6             None  \n",
       "7             None  "
      ]
     },
     "execution_count": 6,
     "metadata": {},
     "output_type": "execute_result"
    }
   ],
   "source": [
    "paper.limit(8)"
   ]
  },
  {
   "cell_type": "code",
   "execution_count": 7,
   "id": "83e70470-6ab8-46a1-9460-fd8ca2ce6204",
   "metadata": {},
   "outputs": [
    {
     "data": {
      "text/plain": [
       "(130081, 12)"
      ]
     },
     "execution_count": 7,
     "metadata": {},
     "output_type": "execute_result"
    }
   ],
   "source": [
    "paper.count(), len(paper.columns)"
   ]
  },
  {
   "cell_type": "code",
   "execution_count": 8,
   "id": "7a2b6c54-41df-4899-a139-44f78781d119",
   "metadata": {},
   "outputs": [
    {
     "data": {
      "text/plain": [
       "ibis.Schema {\n",
       "  paper             string\n",
       "  catalogue_group   string\n",
       "  year              int64\n",
       "  month             int64\n",
       "  title             string\n",
       "  author            string\n",
       "  name              string\n",
       "  user_nber         string\n",
       "  user_repec        string\n",
       "  program           string\n",
       "  program_desc      string\n",
       "  program_category  string\n",
       "}"
      ]
     },
     "execution_count": 8,
     "metadata": {},
     "output_type": "execute_result"
    }
   ],
   "source": [
    "paper.schema()"
   ]
  },
  {
   "cell_type": "code",
   "execution_count": 9,
   "id": "e4f4a471-5b85-4b12-97e9-8ca827e884c1",
   "metadata": {},
   "outputs": [
    {
     "data": {
      "text/html": [
       "<pre style=\"white-space:pre;overflow-x:auto;line-height:normal;font-family:Menlo,'DejaVu Sans Mono',consolas,'Courier New',monospace\"></pre>\n"
      ],
      "text/plain": []
     },
     "metadata": {},
     "output_type": "display_data"
    },
    {
     "name": "stdout",
     "output_type": "stream",
     "text": [
      "\u001b[3m                        Summary of paper                        \u001b[0m\n",
      "\u001b[3m                          130081 rows                           \u001b[0m\n",
      "┏━━━━━━━━━━━━━━━━━━┳━━━━━━━━━━━━━━━━━━━━━━━┳━━━━━━━━━┳━━━━━━━━━┓\n",
      "┃\u001b[1m \u001b[0m\u001b[1mName            \u001b[0m\u001b[1m \u001b[0m┃\u001b[1m \u001b[0m\u001b[1mType                 \u001b[0m\u001b[1m \u001b[0m┃\u001b[1m \u001b[0m\u001b[1m# Nulls\u001b[0m\u001b[1m \u001b[0m┃\u001b[1m \u001b[0m\u001b[1m% Nulls\u001b[0m\u001b[1m \u001b[0m┃\n",
      "┡━━━━━━━━━━━━━━━━━━╇━━━━━━━━━━━━━━━━━━━━━━━╇━━━━━━━━━╇━━━━━━━━━┩\n",
      "│ paper            │ \u001b[1;35mString\u001b[0m\u001b[1m(\u001b[0m\u001b[33mnullable\u001b[0m=\u001b[3;92mTrue\u001b[0m\u001b[1m)\u001b[0m │       0 │    0.00 │\n",
      "│ catalogue_group  │ \u001b[1;35mString\u001b[0m\u001b[1m(\u001b[0m\u001b[33mnullable\u001b[0m=\u001b[3;92mTrue\u001b[0m\u001b[1m)\u001b[0m │       0 │    0.00 │\n",
      "│ year             │ \u001b[1;35mInt64\u001b[0m\u001b[1m(\u001b[0m\u001b[33mnullable\u001b[0m=\u001b[3;92mTrue\u001b[0m\u001b[1m)\u001b[0m  │       0 │    0.00 │\n",
      "│ month            │ \u001b[1;35mInt64\u001b[0m\u001b[1m(\u001b[0m\u001b[33mnullable\u001b[0m=\u001b[3;92mTrue\u001b[0m\u001b[1m)\u001b[0m  │       0 │    0.00 │\n",
      "│ title            │ \u001b[1;35mString\u001b[0m\u001b[1m(\u001b[0m\u001b[33mnullable\u001b[0m=\u001b[3;92mTrue\u001b[0m\u001b[1m)\u001b[0m │       0 │    0.00 │\n",
      "│ author           │ \u001b[1;35mString\u001b[0m\u001b[1m(\u001b[0m\u001b[33mnullable\u001b[0m=\u001b[3;92mTrue\u001b[0m\u001b[1m)\u001b[0m │       0 │    0.00 │\n",
      "│ name             │ \u001b[1;35mString\u001b[0m\u001b[1m(\u001b[0m\u001b[33mnullable\u001b[0m=\u001b[3;92mTrue\u001b[0m\u001b[1m)\u001b[0m │       0 │    0.00 │\n",
      "│ user_nber        │ \u001b[1;35mString\u001b[0m\u001b[1m(\u001b[0m\u001b[33mnullable\u001b[0m=\u001b[3;92mTrue\u001b[0m\u001b[1m)\u001b[0m │    2112 │    1.62 │\n",
      "│ user_repec       │ \u001b[1;35mString\u001b[0m\u001b[1m(\u001b[0m\u001b[33mnullable\u001b[0m=\u001b[3;92mTrue\u001b[0m\u001b[1m)\u001b[0m │   47158 │   36.25 │\n",
      "│ program          │ \u001b[1;35mString\u001b[0m\u001b[1m(\u001b[0m\u001b[33mnullable\u001b[0m=\u001b[3;92mTrue\u001b[0m\u001b[1m)\u001b[0m │     530 │    0.41 │\n",
      "│ program_desc     │ \u001b[1;35mString\u001b[0m\u001b[1m(\u001b[0m\u001b[33mnullable\u001b[0m=\u001b[3;92mTrue\u001b[0m\u001b[1m)\u001b[0m │     530 │    0.41 │\n",
      "│ program_category │ \u001b[1;35mString\u001b[0m\u001b[1m(\u001b[0m\u001b[33mnullable\u001b[0m=\u001b[3;92mTrue\u001b[0m\u001b[1m)\u001b[0m │    1516 │    1.17 │\n",
      "└──────────────────┴───────────────────────┴─────────┴─────────┘\n"
     ]
    }
   ],
   "source": [
    "paper.info()"
   ]
  },
  {
   "cell_type": "markdown",
   "id": "aebc06f6-a8d9-4db6-8605-b82c26568d56",
   "metadata": {},
   "source": [
    ":::{.callout-note}\n",
    "Potential recipe\n",
    ":::"
   ]
  },
  {
   "cell_type": "code",
   "execution_count": 10,
   "id": "7405f41c-b11b-4559-82f1-bd8260170b87",
   "metadata": {},
   "outputs": [
    {
     "data": {
      "text/plain": [
       "{'paper': 29434,\n",
       " 'catalogue_group': 3,\n",
       " 'year': 49,\n",
       " 'month': 12,\n",
       " 'title': 29419,\n",
       " 'author': 15437,\n",
       " 'name': 15398,\n",
       " 'user_nber': 14246,\n",
       " 'user_repec': 5455,\n",
       " 'program': 21,\n",
       " 'program_desc': 21,\n",
       " 'program_category': 3}"
      ]
     },
     "execution_count": 10,
     "metadata": {},
     "output_type": "execute_result"
    }
   ],
   "source": [
    "# nunique values by column\n",
    "{col: paper[col].nunique().execute()\n",
    " for col in paper.columns}"
   ]
  },
  {
   "cell_type": "markdown",
   "id": "4653dbb4-fa69-4501-bab9-c0015946dd71",
   "metadata": {},
   "source": [
    ":::{.callout-note}\n",
    "Potential recipe\n",
    ":::"
   ]
  },
  {
   "cell_type": "code",
   "execution_count": 11,
   "id": "8aefe864-54ed-48d4-8f11-74c802eac30c",
   "metadata": {},
   "outputs": [
    {
     "data": {
      "text/plain": [
       "{'paper': 22.6,\n",
       " 'catalogue_group': 0.0,\n",
       " 'year': 0.0,\n",
       " 'month': 0.0,\n",
       " 'title': 22.6,\n",
       " 'author': 11.9,\n",
       " 'name': 11.8,\n",
       " 'user_nber': 11.0,\n",
       " 'user_repec': 4.2,\n",
       " 'program': 0.0,\n",
       " 'program_desc': 0.0,\n",
       " 'program_category': 0.0}"
      ]
     },
     "execution_count": 11,
     "metadata": {},
     "output_type": "execute_result"
    }
   ],
   "source": [
    "# %unique vals by column\n",
    "{col: (paper[col].nunique() / paper.count()).mul(100).round(1)\n",
    " for col in paper.columns}"
   ]
  },
  {
   "cell_type": "markdown",
   "id": "0226b327-e74c-4ebb-8179-f3118c630e3b",
   "metadata": {},
   "source": [
    "### Preprocessing"
   ]
  },
  {
   "cell_type": "code",
   "execution_count": 36,
   "id": "b4bb7a64-e88e-4a30-a93b-4369eaa5f6dc",
   "metadata": {},
   "outputs": [
    {
     "data": {
      "text/plain": [
       "29434"
      ]
     },
     "execution_count": 36,
     "metadata": {},
     "output_type": "execute_result"
    }
   ],
   "source": [
    "def preprocess(tbl):\n",
    "    decade = (\n",
    "            ibis.case()\n",
    "            .when(tbl['year'] <= 1979, '1970s')\n",
    "            .when(tbl['year'] <= 1989, '1980s')\n",
    "            .when(tbl['year'] <= 1999, '1990s')\n",
    "            .when(tbl['year'] <= 2009, '2000s')\n",
    "            .when(tbl['year'] <= 2019, '2010s')\n",
    "            .else_('2020s')\n",
    "            .end()\n",
    "            .name('decade')\n",
    "    )\n",
    "\n",
    "    return tbl[tbl.columns + [decade]]\n",
    "\n",
    "\n",
    "proc_paper = paper.pipe(preprocess)"
   ]
  },
  {
   "cell_type": "markdown",
   "id": "927f0296-b706-4f2b-b8eb-1386a800cf96",
   "metadata": {},
   "source": [
    "### Analysis"
   ]
  },
  {
   "cell_type": "code",
   "execution_count": 38,
   "id": "30800c7a-7fad-4d10-be38-d61db438014d",
   "metadata": {},
   "outputs": [
    {
     "ename": "AssertionError",
     "evalue": "num_froms == 2",
     "output_type": "error",
     "traceback": [
      "\u001b[1;31m---------------------------------------------------------------------------\u001b[0m",
      "\u001b[1;31mAssertionError\u001b[0m                            Traceback (most recent call last)",
      "File \u001b[1;32mD:\\GitHub\\laughingrook\\lr_datavis\\lib\\site-packages\\IPython\\core\\formatters.py:707\u001b[0m, in \u001b[0;36mPlainTextFormatter.__call__\u001b[1;34m(self, obj)\u001b[0m\n\u001b[0;32m    700\u001b[0m stream \u001b[38;5;241m=\u001b[39m StringIO()\n\u001b[0;32m    701\u001b[0m printer \u001b[38;5;241m=\u001b[39m pretty\u001b[38;5;241m.\u001b[39mRepresentationPrinter(stream, \u001b[38;5;28mself\u001b[39m\u001b[38;5;241m.\u001b[39mverbose,\n\u001b[0;32m    702\u001b[0m     \u001b[38;5;28mself\u001b[39m\u001b[38;5;241m.\u001b[39mmax_width, \u001b[38;5;28mself\u001b[39m\u001b[38;5;241m.\u001b[39mnewline,\n\u001b[0;32m    703\u001b[0m     max_seq_length\u001b[38;5;241m=\u001b[39m\u001b[38;5;28mself\u001b[39m\u001b[38;5;241m.\u001b[39mmax_seq_length,\n\u001b[0;32m    704\u001b[0m     singleton_pprinters\u001b[38;5;241m=\u001b[39m\u001b[38;5;28mself\u001b[39m\u001b[38;5;241m.\u001b[39msingleton_printers,\n\u001b[0;32m    705\u001b[0m     type_pprinters\u001b[38;5;241m=\u001b[39m\u001b[38;5;28mself\u001b[39m\u001b[38;5;241m.\u001b[39mtype_printers,\n\u001b[0;32m    706\u001b[0m     deferred_pprinters\u001b[38;5;241m=\u001b[39m\u001b[38;5;28mself\u001b[39m\u001b[38;5;241m.\u001b[39mdeferred_printers)\n\u001b[1;32m--> 707\u001b[0m \u001b[43mprinter\u001b[49m\u001b[38;5;241;43m.\u001b[39;49m\u001b[43mpretty\u001b[49m\u001b[43m(\u001b[49m\u001b[43mobj\u001b[49m\u001b[43m)\u001b[49m\n\u001b[0;32m    708\u001b[0m printer\u001b[38;5;241m.\u001b[39mflush()\n\u001b[0;32m    709\u001b[0m \u001b[38;5;28;01mreturn\u001b[39;00m stream\u001b[38;5;241m.\u001b[39mgetvalue()\n",
      "File \u001b[1;32mD:\\GitHub\\laughingrook\\lr_datavis\\lib\\site-packages\\IPython\\lib\\pretty.py:410\u001b[0m, in \u001b[0;36mRepresentationPrinter.pretty\u001b[1;34m(self, obj)\u001b[0m\n\u001b[0;32m    407\u001b[0m                         \u001b[38;5;28;01mreturn\u001b[39;00m meth(obj, \u001b[38;5;28mself\u001b[39m, cycle)\n\u001b[0;32m    408\u001b[0m                 \u001b[38;5;28;01mif\u001b[39;00m \u001b[38;5;28mcls\u001b[39m \u001b[38;5;129;01mis\u001b[39;00m \u001b[38;5;129;01mnot\u001b[39;00m \u001b[38;5;28mobject\u001b[39m \\\n\u001b[0;32m    409\u001b[0m                         \u001b[38;5;129;01mand\u001b[39;00m callable(\u001b[38;5;28mcls\u001b[39m\u001b[38;5;241m.\u001b[39m\u001b[38;5;18m__dict__\u001b[39m\u001b[38;5;241m.\u001b[39mget(\u001b[38;5;124m'\u001b[39m\u001b[38;5;124m__repr__\u001b[39m\u001b[38;5;124m'\u001b[39m)):\n\u001b[1;32m--> 410\u001b[0m                     \u001b[38;5;28;01mreturn\u001b[39;00m \u001b[43m_repr_pprint\u001b[49m\u001b[43m(\u001b[49m\u001b[43mobj\u001b[49m\u001b[43m,\u001b[49m\u001b[43m \u001b[49m\u001b[38;5;28;43mself\u001b[39;49m\u001b[43m,\u001b[49m\u001b[43m \u001b[49m\u001b[43mcycle\u001b[49m\u001b[43m)\u001b[49m\n\u001b[0;32m    412\u001b[0m     \u001b[38;5;28;01mreturn\u001b[39;00m _default_pprint(obj, \u001b[38;5;28mself\u001b[39m, cycle)\n\u001b[0;32m    413\u001b[0m \u001b[38;5;28;01mfinally\u001b[39;00m:\n",
      "File \u001b[1;32mD:\\GitHub\\laughingrook\\lr_datavis\\lib\\site-packages\\IPython\\lib\\pretty.py:778\u001b[0m, in \u001b[0;36m_repr_pprint\u001b[1;34m(obj, p, cycle)\u001b[0m\n\u001b[0;32m    776\u001b[0m \u001b[38;5;124;03m\"\"\"A pprint that just redirects to the normal repr function.\"\"\"\u001b[39;00m\n\u001b[0;32m    777\u001b[0m \u001b[38;5;66;03m# Find newlines and replace them with p.break_()\u001b[39;00m\n\u001b[1;32m--> 778\u001b[0m output \u001b[38;5;241m=\u001b[39m \u001b[38;5;28;43mrepr\u001b[39;49m\u001b[43m(\u001b[49m\u001b[43mobj\u001b[49m\u001b[43m)\u001b[49m\n\u001b[0;32m    779\u001b[0m lines \u001b[38;5;241m=\u001b[39m output\u001b[38;5;241m.\u001b[39msplitlines()\n\u001b[0;32m    780\u001b[0m \u001b[38;5;28;01mwith\u001b[39;00m p\u001b[38;5;241m.\u001b[39mgroup():\n",
      "File \u001b[1;32mD:\\GitHub\\laughingrook\\lr_datavis\\lib\\site-packages\\ibis\\expr\\types\\core.py:40\u001b[0m, in \u001b[0;36mExpr.__repr__\u001b[1;34m(self)\u001b[0m\n\u001b[0;32m     37\u001b[0m     \u001b[38;5;28;01mreturn\u001b[39;00m \u001b[38;5;28mself\u001b[39m\u001b[38;5;241m.\u001b[39m_repr()\n\u001b[0;32m     39\u001b[0m \u001b[38;5;28;01mtry\u001b[39;00m:\n\u001b[1;32m---> 40\u001b[0m     result \u001b[38;5;241m=\u001b[39m \u001b[38;5;28;43mself\u001b[39;49m\u001b[38;5;241;43m.\u001b[39;49m\u001b[43mexecute\u001b[49m\u001b[43m(\u001b[49m\u001b[43m)\u001b[49m\n\u001b[0;32m     41\u001b[0m \u001b[38;5;28;01mexcept\u001b[39;00m TranslationError \u001b[38;5;28;01mas\u001b[39;00m e:\n\u001b[0;32m     42\u001b[0m     lines \u001b[38;5;241m=\u001b[39m [\n\u001b[0;32m     43\u001b[0m         \u001b[38;5;124m\"\u001b[39m\u001b[38;5;124mTranslation to backend failed\u001b[39m\u001b[38;5;124m\"\u001b[39m,\n\u001b[0;32m     44\u001b[0m         \u001b[38;5;124mf\u001b[39m\u001b[38;5;124m\"\u001b[39m\u001b[38;5;124mError message: \u001b[39m\u001b[38;5;132;01m{\u001b[39;00me\u001b[38;5;241m.\u001b[39margs[\u001b[38;5;241m0\u001b[39m]\u001b[38;5;132;01m}\u001b[39;00m\u001b[38;5;124m\"\u001b[39m,\n\u001b[0;32m     45\u001b[0m         \u001b[38;5;124m\"\u001b[39m\u001b[38;5;124mExpression repr follows:\u001b[39m\u001b[38;5;124m\"\u001b[39m,\n\u001b[0;32m     46\u001b[0m         \u001b[38;5;28mself\u001b[39m\u001b[38;5;241m.\u001b[39m_repr(),\n\u001b[0;32m     47\u001b[0m     ]\n",
      "File \u001b[1;32mD:\\GitHub\\laughingrook\\lr_datavis\\lib\\site-packages\\ibis\\expr\\types\\core.py:291\u001b[0m, in \u001b[0;36mExpr.execute\u001b[1;34m(self, limit, timecontext, params, **kwargs)\u001b[0m\n\u001b[0;32m    266\u001b[0m \u001b[38;5;28;01mdef\u001b[39;00m \u001b[38;5;21mexecute\u001b[39m(\n\u001b[0;32m    267\u001b[0m     \u001b[38;5;28mself\u001b[39m,\n\u001b[0;32m    268\u001b[0m     limit: \u001b[38;5;28mint\u001b[39m \u001b[38;5;241m|\u001b[39m \u001b[38;5;28mstr\u001b[39m \u001b[38;5;241m|\u001b[39m \u001b[38;5;28;01mNone\u001b[39;00m \u001b[38;5;241m=\u001b[39m \u001b[38;5;124m'\u001b[39m\u001b[38;5;124mdefault\u001b[39m\u001b[38;5;124m'\u001b[39m,\n\u001b[1;32m   (...)\u001b[0m\n\u001b[0;32m    271\u001b[0m     \u001b[38;5;241m*\u001b[39m\u001b[38;5;241m*\u001b[39mkwargs: Any,\n\u001b[0;32m    272\u001b[0m ):\n\u001b[0;32m    273\u001b[0m     \u001b[38;5;124;03m\"\"\"Execute an expression against its backend if one exists.\u001b[39;00m\n\u001b[0;32m    274\u001b[0m \n\u001b[0;32m    275\u001b[0m \u001b[38;5;124;03m    Parameters\u001b[39;00m\n\u001b[1;32m   (...)\u001b[0m\n\u001b[0;32m    289\u001b[0m \u001b[38;5;124;03m        Mapping of scalar parameter expressions to value\u001b[39;00m\n\u001b[0;32m    290\u001b[0m \u001b[38;5;124;03m    \"\"\"\u001b[39;00m\n\u001b[1;32m--> 291\u001b[0m     \u001b[38;5;28;01mreturn\u001b[39;00m \u001b[38;5;28mself\u001b[39m\u001b[38;5;241m.\u001b[39m_find_backend(use_default\u001b[38;5;241m=\u001b[39m\u001b[38;5;28;01mTrue\u001b[39;00m)\u001b[38;5;241m.\u001b[39mexecute(\n\u001b[0;32m    292\u001b[0m         \u001b[38;5;28mself\u001b[39m, limit\u001b[38;5;241m=\u001b[39mlimit, timecontext\u001b[38;5;241m=\u001b[39mtimecontext, params\u001b[38;5;241m=\u001b[39mparams, \u001b[38;5;241m*\u001b[39m\u001b[38;5;241m*\u001b[39mkwargs\n\u001b[0;32m    293\u001b[0m     )\n",
      "File \u001b[1;32mD:\\GitHub\\laughingrook\\lr_datavis\\lib\\site-packages\\ibis\\backends\\base\\sql\\__init__.py:182\u001b[0m, in \u001b[0;36mBaseSQLBackend.execute\u001b[1;34m(self, expr, params, limit, **kwargs)\u001b[0m\n\u001b[0;32m    178\u001b[0m kwargs\u001b[38;5;241m.\u001b[39mpop(\u001b[38;5;124m'\u001b[39m\u001b[38;5;124mtimecontext\u001b[39m\u001b[38;5;124m'\u001b[39m, \u001b[38;5;28;01mNone\u001b[39;00m)\n\u001b[0;32m    179\u001b[0m query_ast \u001b[38;5;241m=\u001b[39m \u001b[38;5;28mself\u001b[39m\u001b[38;5;241m.\u001b[39mcompiler\u001b[38;5;241m.\u001b[39mto_ast_ensure_limit(\n\u001b[0;32m    180\u001b[0m     expr, limit, params\u001b[38;5;241m=\u001b[39mparams\n\u001b[0;32m    181\u001b[0m )\n\u001b[1;32m--> 182\u001b[0m sql \u001b[38;5;241m=\u001b[39m \u001b[43mquery_ast\u001b[49m\u001b[38;5;241;43m.\u001b[39;49m\u001b[43mcompile\u001b[49m\u001b[43m(\u001b[49m\u001b[43m)\u001b[49m\n\u001b[0;32m    183\u001b[0m \u001b[38;5;28mself\u001b[39m\u001b[38;5;241m.\u001b[39m_log(sql)\n\u001b[0;32m    185\u001b[0m schema \u001b[38;5;241m=\u001b[39m \u001b[38;5;28mself\u001b[39m\u001b[38;5;241m.\u001b[39mast_schema(query_ast, \u001b[38;5;241m*\u001b[39m\u001b[38;5;241m*\u001b[39mkwargs)\n",
      "File \u001b[1;32mD:\\GitHub\\laughingrook\\lr_datavis\\lib\\site-packages\\ibis\\backends\\base\\sql\\compiler\\base.py:40\u001b[0m, in \u001b[0;36mQueryAST.compile\u001b[1;34m(self)\u001b[0m\n\u001b[0;32m     38\u001b[0m \u001b[38;5;28;01mdef\u001b[39;00m \u001b[38;5;21mcompile\u001b[39m(\u001b[38;5;28mself\u001b[39m):\n\u001b[0;32m     39\u001b[0m     compiled_setup_queries \u001b[38;5;241m=\u001b[39m [q\u001b[38;5;241m.\u001b[39mcompile() \u001b[38;5;28;01mfor\u001b[39;00m q \u001b[38;5;129;01min\u001b[39;00m \u001b[38;5;28mself\u001b[39m\u001b[38;5;241m.\u001b[39msetup_queries]\n\u001b[1;32m---> 40\u001b[0m     compiled_queries \u001b[38;5;241m=\u001b[39m [q\u001b[38;5;241m.\u001b[39mcompile() \u001b[38;5;28;01mfor\u001b[39;00m q \u001b[38;5;129;01min\u001b[39;00m \u001b[38;5;28mself\u001b[39m\u001b[38;5;241m.\u001b[39mqueries]\n\u001b[0;32m     41\u001b[0m     compiled_teardown_queries \u001b[38;5;241m=\u001b[39m [\n\u001b[0;32m     42\u001b[0m         q\u001b[38;5;241m.\u001b[39mcompile() \u001b[38;5;28;01mfor\u001b[39;00m q \u001b[38;5;129;01min\u001b[39;00m \u001b[38;5;28mself\u001b[39m\u001b[38;5;241m.\u001b[39mteardown_queries\n\u001b[0;32m     43\u001b[0m     ]\n\u001b[0;32m     44\u001b[0m     \u001b[38;5;28;01mreturn\u001b[39;00m \u001b[38;5;28mself\u001b[39m\u001b[38;5;241m.\u001b[39mcontext\u001b[38;5;241m.\u001b[39mcollapse(\n\u001b[0;32m     45\u001b[0m         \u001b[38;5;28mlist\u001b[39m(\n\u001b[0;32m     46\u001b[0m             chain(\n\u001b[1;32m   (...)\u001b[0m\n\u001b[0;32m     51\u001b[0m         )\n\u001b[0;32m     52\u001b[0m     )\n",
      "File \u001b[1;32mD:\\GitHub\\laughingrook\\lr_datavis\\lib\\site-packages\\ibis\\backends\\base\\sql\\compiler\\base.py:40\u001b[0m, in \u001b[0;36m<listcomp>\u001b[1;34m(.0)\u001b[0m\n\u001b[0;32m     38\u001b[0m \u001b[38;5;28;01mdef\u001b[39;00m \u001b[38;5;21mcompile\u001b[39m(\u001b[38;5;28mself\u001b[39m):\n\u001b[0;32m     39\u001b[0m     compiled_setup_queries \u001b[38;5;241m=\u001b[39m [q\u001b[38;5;241m.\u001b[39mcompile() \u001b[38;5;28;01mfor\u001b[39;00m q \u001b[38;5;129;01min\u001b[39;00m \u001b[38;5;28mself\u001b[39m\u001b[38;5;241m.\u001b[39msetup_queries]\n\u001b[1;32m---> 40\u001b[0m     compiled_queries \u001b[38;5;241m=\u001b[39m [\u001b[43mq\u001b[49m\u001b[38;5;241;43m.\u001b[39;49m\u001b[43mcompile\u001b[49m\u001b[43m(\u001b[49m\u001b[43m)\u001b[49m \u001b[38;5;28;01mfor\u001b[39;00m q \u001b[38;5;129;01min\u001b[39;00m \u001b[38;5;28mself\u001b[39m\u001b[38;5;241m.\u001b[39mqueries]\n\u001b[0;32m     41\u001b[0m     compiled_teardown_queries \u001b[38;5;241m=\u001b[39m [\n\u001b[0;32m     42\u001b[0m         q\u001b[38;5;241m.\u001b[39mcompile() \u001b[38;5;28;01mfor\u001b[39;00m q \u001b[38;5;129;01min\u001b[39;00m \u001b[38;5;28mself\u001b[39m\u001b[38;5;241m.\u001b[39mteardown_queries\n\u001b[0;32m     43\u001b[0m     ]\n\u001b[0;32m     44\u001b[0m     \u001b[38;5;28;01mreturn\u001b[39;00m \u001b[38;5;28mself\u001b[39m\u001b[38;5;241m.\u001b[39mcontext\u001b[38;5;241m.\u001b[39mcollapse(\n\u001b[0;32m     45\u001b[0m         \u001b[38;5;28mlist\u001b[39m(\n\u001b[0;32m     46\u001b[0m             chain(\n\u001b[1;32m   (...)\u001b[0m\n\u001b[0;32m     51\u001b[0m         )\n\u001b[0;32m     52\u001b[0m     )\n",
      "File \u001b[1;32mD:\\GitHub\\laughingrook\\lr_datavis\\lib\\site-packages\\ibis\\backends\\base\\sql\\alchemy\\query_builder.py:193\u001b[0m, in \u001b[0;36mAlchemySelect.compile\u001b[1;34m(self)\u001b[0m\n\u001b[0;32m    184\u001b[0m steps \u001b[38;5;241m=\u001b[39m [\n\u001b[0;32m    185\u001b[0m     \u001b[38;5;28mself\u001b[39m\u001b[38;5;241m.\u001b[39m_add_select,\n\u001b[0;32m    186\u001b[0m     \u001b[38;5;28mself\u001b[39m\u001b[38;5;241m.\u001b[39m_add_groupby,\n\u001b[1;32m   (...)\u001b[0m\n\u001b[0;32m    189\u001b[0m     \u001b[38;5;28mself\u001b[39m\u001b[38;5;241m.\u001b[39m_add_limit,\n\u001b[0;32m    190\u001b[0m ]\n\u001b[0;32m    192\u001b[0m \u001b[38;5;28;01mfor\u001b[39;00m step \u001b[38;5;129;01min\u001b[39;00m steps:\n\u001b[1;32m--> 193\u001b[0m     frag \u001b[38;5;241m=\u001b[39m \u001b[43mstep\u001b[49m\u001b[43m(\u001b[49m\u001b[43mfrag\u001b[49m\u001b[43m)\u001b[49m\n\u001b[0;32m    195\u001b[0m \u001b[38;5;28;01mreturn\u001b[39;00m frag\n",
      "File \u001b[1;32mD:\\GitHub\\laughingrook\\lr_datavis\\lib\\site-packages\\ibis\\backends\\base\\sql\\alchemy\\query_builder.py:274\u001b[0m, in \u001b[0;36mAlchemySelect._add_select\u001b[1;34m(self, table_set)\u001b[0m\n\u001b[0;32m    271\u001b[0m     \u001b[38;5;28;01mreturn\u001b[39;00m result\u001b[38;5;241m.\u001b[39mselect_from(table_set)\n\u001b[0;32m    273\u001b[0m \u001b[38;5;66;03m# otherwise we expect a single FROM in `result`\u001b[39;00m\n\u001b[1;32m--> 274\u001b[0m \u001b[38;5;28;01massert\u001b[39;00m num_froms \u001b[38;5;241m==\u001b[39m \u001b[38;5;241m1\u001b[39m, \u001b[38;5;124mf\u001b[39m\u001b[38;5;124m\"\u001b[39m\u001b[38;5;124mnum_froms == \u001b[39m\u001b[38;5;132;01m{\u001b[39;00mnum_froms\u001b[38;5;132;01m:\u001b[39;00m\u001b[38;5;124md\u001b[39m\u001b[38;5;132;01m}\u001b[39;00m\u001b[38;5;124m\"\u001b[39m\n\u001b[0;32m    276\u001b[0m \u001b[38;5;66;03m# and then we need to replace every occurrence of `result`'s `FROM`\u001b[39;00m\n\u001b[0;32m    277\u001b[0m \u001b[38;5;66;03m# with `table_set` to handle correlated EXISTs coming from\u001b[39;00m\n\u001b[0;32m    278\u001b[0m \u001b[38;5;66;03m# semi/anti-join\u001b[39;00m\n\u001b[1;32m   (...)\u001b[0m\n\u001b[0;32m    283\u001b[0m \u001b[38;5;66;03m# sqlalchemy suggests using the functionality in sa.sql.visitors, but\u001b[39;00m\n\u001b[0;32m    284\u001b[0m \u001b[38;5;66;03m# that would effectively require reimplementing ClauseAdapter\u001b[39;00m\n\u001b[0;32m    285\u001b[0m \u001b[38;5;28;01mreturn\u001b[39;00m sa\u001b[38;5;241m.\u001b[39msql\u001b[38;5;241m.\u001b[39mutil\u001b[38;5;241m.\u001b[39mClauseAdapter(table_set)\u001b[38;5;241m.\u001b[39mtraverse(result)\n",
      "\u001b[1;31mAssertionError\u001b[0m: num_froms == 2"
     ]
    },
    {
     "ename": "AssertionError",
     "evalue": "num_froms == 2",
     "output_type": "error",
     "traceback": [
      "\u001b[1;31m---------------------------------------------------------------------------\u001b[0m",
      "\u001b[1;31mAssertionError\u001b[0m                            Traceback (most recent call last)",
      "File \u001b[1;32mD:\\GitHub\\laughingrook\\lr_datavis\\lib\\site-packages\\IPython\\core\\formatters.py:343\u001b[0m, in \u001b[0;36mBaseFormatter.__call__\u001b[1;34m(self, obj)\u001b[0m\n\u001b[0;32m    341\u001b[0m     method \u001b[38;5;241m=\u001b[39m get_real_method(obj, \u001b[38;5;28mself\u001b[39m\u001b[38;5;241m.\u001b[39mprint_method)\n\u001b[0;32m    342\u001b[0m     \u001b[38;5;28;01mif\u001b[39;00m method \u001b[38;5;129;01mis\u001b[39;00m \u001b[38;5;129;01mnot\u001b[39;00m \u001b[38;5;28;01mNone\u001b[39;00m:\n\u001b[1;32m--> 343\u001b[0m         \u001b[38;5;28;01mreturn\u001b[39;00m \u001b[43mmethod\u001b[49m\u001b[43m(\u001b[49m\u001b[43m)\u001b[49m\n\u001b[0;32m    344\u001b[0m     \u001b[38;5;28;01mreturn\u001b[39;00m \u001b[38;5;28;01mNone\u001b[39;00m\n\u001b[0;32m    345\u001b[0m \u001b[38;5;28;01melse\u001b[39;00m:\n",
      "File \u001b[1;32mD:\\GitHub\\laughingrook\\lr_datavis\\lib\\site-packages\\ibis\\expr\\types\\relations.py:107\u001b[0m, in \u001b[0;36mTable._repr_html_\u001b[1;34m(self)\u001b[0m\n\u001b[0;32m    104\u001b[0m \u001b[38;5;28;01mif\u001b[39;00m \u001b[38;5;129;01mnot\u001b[39;00m ibis\u001b[38;5;241m.\u001b[39moptions\u001b[38;5;241m.\u001b[39minteractive:\n\u001b[0;32m    105\u001b[0m     \u001b[38;5;28;01mreturn\u001b[39;00m \u001b[38;5;28;01mNone\u001b[39;00m\n\u001b[1;32m--> 107\u001b[0m \u001b[38;5;28;01mreturn\u001b[39;00m \u001b[38;5;28;43mself\u001b[39;49m\u001b[38;5;241;43m.\u001b[39;49m\u001b[43mexecute\u001b[49m\u001b[43m(\u001b[49m\u001b[43m)\u001b[49m\u001b[38;5;241m.\u001b[39m_repr_html_()\n",
      "File \u001b[1;32mD:\\GitHub\\laughingrook\\lr_datavis\\lib\\site-packages\\ibis\\expr\\types\\core.py:291\u001b[0m, in \u001b[0;36mExpr.execute\u001b[1;34m(self, limit, timecontext, params, **kwargs)\u001b[0m\n\u001b[0;32m    266\u001b[0m \u001b[38;5;28;01mdef\u001b[39;00m \u001b[38;5;21mexecute\u001b[39m(\n\u001b[0;32m    267\u001b[0m     \u001b[38;5;28mself\u001b[39m,\n\u001b[0;32m    268\u001b[0m     limit: \u001b[38;5;28mint\u001b[39m \u001b[38;5;241m|\u001b[39m \u001b[38;5;28mstr\u001b[39m \u001b[38;5;241m|\u001b[39m \u001b[38;5;28;01mNone\u001b[39;00m \u001b[38;5;241m=\u001b[39m \u001b[38;5;124m'\u001b[39m\u001b[38;5;124mdefault\u001b[39m\u001b[38;5;124m'\u001b[39m,\n\u001b[1;32m   (...)\u001b[0m\n\u001b[0;32m    271\u001b[0m     \u001b[38;5;241m*\u001b[39m\u001b[38;5;241m*\u001b[39mkwargs: Any,\n\u001b[0;32m    272\u001b[0m ):\n\u001b[0;32m    273\u001b[0m     \u001b[38;5;124;03m\"\"\"Execute an expression against its backend if one exists.\u001b[39;00m\n\u001b[0;32m    274\u001b[0m \n\u001b[0;32m    275\u001b[0m \u001b[38;5;124;03m    Parameters\u001b[39;00m\n\u001b[1;32m   (...)\u001b[0m\n\u001b[0;32m    289\u001b[0m \u001b[38;5;124;03m        Mapping of scalar parameter expressions to value\u001b[39;00m\n\u001b[0;32m    290\u001b[0m \u001b[38;5;124;03m    \"\"\"\u001b[39;00m\n\u001b[1;32m--> 291\u001b[0m     \u001b[38;5;28;01mreturn\u001b[39;00m \u001b[38;5;28mself\u001b[39m\u001b[38;5;241m.\u001b[39m_find_backend(use_default\u001b[38;5;241m=\u001b[39m\u001b[38;5;28;01mTrue\u001b[39;00m)\u001b[38;5;241m.\u001b[39mexecute(\n\u001b[0;32m    292\u001b[0m         \u001b[38;5;28mself\u001b[39m, limit\u001b[38;5;241m=\u001b[39mlimit, timecontext\u001b[38;5;241m=\u001b[39mtimecontext, params\u001b[38;5;241m=\u001b[39mparams, \u001b[38;5;241m*\u001b[39m\u001b[38;5;241m*\u001b[39mkwargs\n\u001b[0;32m    293\u001b[0m     )\n",
      "File \u001b[1;32mD:\\GitHub\\laughingrook\\lr_datavis\\lib\\site-packages\\ibis\\backends\\base\\sql\\__init__.py:182\u001b[0m, in \u001b[0;36mBaseSQLBackend.execute\u001b[1;34m(self, expr, params, limit, **kwargs)\u001b[0m\n\u001b[0;32m    178\u001b[0m kwargs\u001b[38;5;241m.\u001b[39mpop(\u001b[38;5;124m'\u001b[39m\u001b[38;5;124mtimecontext\u001b[39m\u001b[38;5;124m'\u001b[39m, \u001b[38;5;28;01mNone\u001b[39;00m)\n\u001b[0;32m    179\u001b[0m query_ast \u001b[38;5;241m=\u001b[39m \u001b[38;5;28mself\u001b[39m\u001b[38;5;241m.\u001b[39mcompiler\u001b[38;5;241m.\u001b[39mto_ast_ensure_limit(\n\u001b[0;32m    180\u001b[0m     expr, limit, params\u001b[38;5;241m=\u001b[39mparams\n\u001b[0;32m    181\u001b[0m )\n\u001b[1;32m--> 182\u001b[0m sql \u001b[38;5;241m=\u001b[39m \u001b[43mquery_ast\u001b[49m\u001b[38;5;241;43m.\u001b[39;49m\u001b[43mcompile\u001b[49m\u001b[43m(\u001b[49m\u001b[43m)\u001b[49m\n\u001b[0;32m    183\u001b[0m \u001b[38;5;28mself\u001b[39m\u001b[38;5;241m.\u001b[39m_log(sql)\n\u001b[0;32m    185\u001b[0m schema \u001b[38;5;241m=\u001b[39m \u001b[38;5;28mself\u001b[39m\u001b[38;5;241m.\u001b[39mast_schema(query_ast, \u001b[38;5;241m*\u001b[39m\u001b[38;5;241m*\u001b[39mkwargs)\n",
      "File \u001b[1;32mD:\\GitHub\\laughingrook\\lr_datavis\\lib\\site-packages\\ibis\\backends\\base\\sql\\compiler\\base.py:40\u001b[0m, in \u001b[0;36mQueryAST.compile\u001b[1;34m(self)\u001b[0m\n\u001b[0;32m     38\u001b[0m \u001b[38;5;28;01mdef\u001b[39;00m \u001b[38;5;21mcompile\u001b[39m(\u001b[38;5;28mself\u001b[39m):\n\u001b[0;32m     39\u001b[0m     compiled_setup_queries \u001b[38;5;241m=\u001b[39m [q\u001b[38;5;241m.\u001b[39mcompile() \u001b[38;5;28;01mfor\u001b[39;00m q \u001b[38;5;129;01min\u001b[39;00m \u001b[38;5;28mself\u001b[39m\u001b[38;5;241m.\u001b[39msetup_queries]\n\u001b[1;32m---> 40\u001b[0m     compiled_queries \u001b[38;5;241m=\u001b[39m [q\u001b[38;5;241m.\u001b[39mcompile() \u001b[38;5;28;01mfor\u001b[39;00m q \u001b[38;5;129;01min\u001b[39;00m \u001b[38;5;28mself\u001b[39m\u001b[38;5;241m.\u001b[39mqueries]\n\u001b[0;32m     41\u001b[0m     compiled_teardown_queries \u001b[38;5;241m=\u001b[39m [\n\u001b[0;32m     42\u001b[0m         q\u001b[38;5;241m.\u001b[39mcompile() \u001b[38;5;28;01mfor\u001b[39;00m q \u001b[38;5;129;01min\u001b[39;00m \u001b[38;5;28mself\u001b[39m\u001b[38;5;241m.\u001b[39mteardown_queries\n\u001b[0;32m     43\u001b[0m     ]\n\u001b[0;32m     44\u001b[0m     \u001b[38;5;28;01mreturn\u001b[39;00m \u001b[38;5;28mself\u001b[39m\u001b[38;5;241m.\u001b[39mcontext\u001b[38;5;241m.\u001b[39mcollapse(\n\u001b[0;32m     45\u001b[0m         \u001b[38;5;28mlist\u001b[39m(\n\u001b[0;32m     46\u001b[0m             chain(\n\u001b[1;32m   (...)\u001b[0m\n\u001b[0;32m     51\u001b[0m         )\n\u001b[0;32m     52\u001b[0m     )\n",
      "File \u001b[1;32mD:\\GitHub\\laughingrook\\lr_datavis\\lib\\site-packages\\ibis\\backends\\base\\sql\\compiler\\base.py:40\u001b[0m, in \u001b[0;36m<listcomp>\u001b[1;34m(.0)\u001b[0m\n\u001b[0;32m     38\u001b[0m \u001b[38;5;28;01mdef\u001b[39;00m \u001b[38;5;21mcompile\u001b[39m(\u001b[38;5;28mself\u001b[39m):\n\u001b[0;32m     39\u001b[0m     compiled_setup_queries \u001b[38;5;241m=\u001b[39m [q\u001b[38;5;241m.\u001b[39mcompile() \u001b[38;5;28;01mfor\u001b[39;00m q \u001b[38;5;129;01min\u001b[39;00m \u001b[38;5;28mself\u001b[39m\u001b[38;5;241m.\u001b[39msetup_queries]\n\u001b[1;32m---> 40\u001b[0m     compiled_queries \u001b[38;5;241m=\u001b[39m [\u001b[43mq\u001b[49m\u001b[38;5;241;43m.\u001b[39;49m\u001b[43mcompile\u001b[49m\u001b[43m(\u001b[49m\u001b[43m)\u001b[49m \u001b[38;5;28;01mfor\u001b[39;00m q \u001b[38;5;129;01min\u001b[39;00m \u001b[38;5;28mself\u001b[39m\u001b[38;5;241m.\u001b[39mqueries]\n\u001b[0;32m     41\u001b[0m     compiled_teardown_queries \u001b[38;5;241m=\u001b[39m [\n\u001b[0;32m     42\u001b[0m         q\u001b[38;5;241m.\u001b[39mcompile() \u001b[38;5;28;01mfor\u001b[39;00m q \u001b[38;5;129;01min\u001b[39;00m \u001b[38;5;28mself\u001b[39m\u001b[38;5;241m.\u001b[39mteardown_queries\n\u001b[0;32m     43\u001b[0m     ]\n\u001b[0;32m     44\u001b[0m     \u001b[38;5;28;01mreturn\u001b[39;00m \u001b[38;5;28mself\u001b[39m\u001b[38;5;241m.\u001b[39mcontext\u001b[38;5;241m.\u001b[39mcollapse(\n\u001b[0;32m     45\u001b[0m         \u001b[38;5;28mlist\u001b[39m(\n\u001b[0;32m     46\u001b[0m             chain(\n\u001b[1;32m   (...)\u001b[0m\n\u001b[0;32m     51\u001b[0m         )\n\u001b[0;32m     52\u001b[0m     )\n",
      "File \u001b[1;32mD:\\GitHub\\laughingrook\\lr_datavis\\lib\\site-packages\\ibis\\backends\\base\\sql\\alchemy\\query_builder.py:193\u001b[0m, in \u001b[0;36mAlchemySelect.compile\u001b[1;34m(self)\u001b[0m\n\u001b[0;32m    184\u001b[0m steps \u001b[38;5;241m=\u001b[39m [\n\u001b[0;32m    185\u001b[0m     \u001b[38;5;28mself\u001b[39m\u001b[38;5;241m.\u001b[39m_add_select,\n\u001b[0;32m    186\u001b[0m     \u001b[38;5;28mself\u001b[39m\u001b[38;5;241m.\u001b[39m_add_groupby,\n\u001b[1;32m   (...)\u001b[0m\n\u001b[0;32m    189\u001b[0m     \u001b[38;5;28mself\u001b[39m\u001b[38;5;241m.\u001b[39m_add_limit,\n\u001b[0;32m    190\u001b[0m ]\n\u001b[0;32m    192\u001b[0m \u001b[38;5;28;01mfor\u001b[39;00m step \u001b[38;5;129;01min\u001b[39;00m steps:\n\u001b[1;32m--> 193\u001b[0m     frag \u001b[38;5;241m=\u001b[39m \u001b[43mstep\u001b[49m\u001b[43m(\u001b[49m\u001b[43mfrag\u001b[49m\u001b[43m)\u001b[49m\n\u001b[0;32m    195\u001b[0m \u001b[38;5;28;01mreturn\u001b[39;00m frag\n",
      "File \u001b[1;32mD:\\GitHub\\laughingrook\\lr_datavis\\lib\\site-packages\\ibis\\backends\\base\\sql\\alchemy\\query_builder.py:274\u001b[0m, in \u001b[0;36mAlchemySelect._add_select\u001b[1;34m(self, table_set)\u001b[0m\n\u001b[0;32m    271\u001b[0m     \u001b[38;5;28;01mreturn\u001b[39;00m result\u001b[38;5;241m.\u001b[39mselect_from(table_set)\n\u001b[0;32m    273\u001b[0m \u001b[38;5;66;03m# otherwise we expect a single FROM in `result`\u001b[39;00m\n\u001b[1;32m--> 274\u001b[0m \u001b[38;5;28;01massert\u001b[39;00m num_froms \u001b[38;5;241m==\u001b[39m \u001b[38;5;241m1\u001b[39m, \u001b[38;5;124mf\u001b[39m\u001b[38;5;124m\"\u001b[39m\u001b[38;5;124mnum_froms == \u001b[39m\u001b[38;5;132;01m{\u001b[39;00mnum_froms\u001b[38;5;132;01m:\u001b[39;00m\u001b[38;5;124md\u001b[39m\u001b[38;5;132;01m}\u001b[39;00m\u001b[38;5;124m\"\u001b[39m\n\u001b[0;32m    276\u001b[0m \u001b[38;5;66;03m# and then we need to replace every occurrence of `result`'s `FROM`\u001b[39;00m\n\u001b[0;32m    277\u001b[0m \u001b[38;5;66;03m# with `table_set` to handle correlated EXISTs coming from\u001b[39;00m\n\u001b[0;32m    278\u001b[0m \u001b[38;5;66;03m# semi/anti-join\u001b[39;00m\n\u001b[1;32m   (...)\u001b[0m\n\u001b[0;32m    283\u001b[0m \u001b[38;5;66;03m# sqlalchemy suggests using the functionality in sa.sql.visitors, but\u001b[39;00m\n\u001b[0;32m    284\u001b[0m \u001b[38;5;66;03m# that would effectively require reimplementing ClauseAdapter\u001b[39;00m\n\u001b[0;32m    285\u001b[0m \u001b[38;5;28;01mreturn\u001b[39;00m sa\u001b[38;5;241m.\u001b[39msql\u001b[38;5;241m.\u001b[39mutil\u001b[38;5;241m.\u001b[39mClauseAdapter(table_set)\u001b[38;5;241m.\u001b[39mtraverse(result)\n",
      "\u001b[1;31mAssertionError\u001b[0m: num_froms == 2"
     ]
    }
   ],
   "source": [
    "unique_papers = paper['paper'].nunique()\n",
    "(proc_paper.group_by('decade')\n",
    " .aggregate(\n",
    "     [proc_paper['paper'].nunique().name('#papers'),\n",
    "      proc_paper['author'].nunique().name('#authors'),\n",
    "      (proc_paper['paper'].nunique() / unique_papers).name('%papers')]\n",
    " )\n",
    ")"
   ]
  },
  {
   "cell_type": "code",
   "execution_count": null,
   "id": "451b1b31-e055-42cf-bd0c-0a85bc9fdce8",
   "metadata": {},
   "outputs": [],
   "source": []
  }
 ],
 "metadata": {
  "kernelspec": {
   "display_name": "lr_stats",
   "language": "python",
   "name": "lr_stats"
  },
  "language_info": {
   "codemirror_mode": {
    "name": "ipython",
    "version": 3
   },
   "file_extension": ".py",
   "mimetype": "text/x-python",
   "name": "python",
   "nbconvert_exporter": "python",
   "pygments_lexer": "ipython3",
   "version": "3.10.7"
  }
 },
 "nbformat": 4,
 "nbformat_minor": 5
}
