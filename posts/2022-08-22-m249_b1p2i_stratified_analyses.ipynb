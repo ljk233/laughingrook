{
 "cells": [
  {
   "cell_type": "raw",
   "metadata": {},
   "source": [
    "---\n",
    "title: Stratified Analyses\n",
    "date: 2022-08-22\n",
    "categories: [M249, Statistics]\n",
    "draft: false\n",
    "---"
   ]
  },
  {
   "cell_type": "markdown",
   "metadata": {},
   "source": [
    "## Summary notes\n",
    "\n",
    "Perform a stratified analyses on the results of a stratified case-control study.\n",
    "\n",
    "This topic is covered in M249, Book 1, Part 2.\n",
    "\n",
    "### About the study\n",
    "\n",
    "Data were taken from investigating the possible association between alcohol consumption and fatal car accidents in New York (J.R. McCarroll and W. Haddon Jr, 1962).\n",
    "The data were stratified by marital status, which was believed to be a possible confounder.\n",
    "The *exposure* was blood alcohol level of 100mg% or greater;\n",
    "*Cases* were drivers who were killed in car accidents for which they were considered to be responsible;\n",
    "and *controls* were selected drivers passing the locations where the accidents of the cases occurred, at the same time of day and on the same day of the week.\n",
    "\n",
    "The results were as follows.\n",
    "\n",
    "Level: *Married*\n",
    "\n",
    "|                      | fatality (+)   | no fatality (-) |\n",
    "| -------------------- | -------------: | --------------: |\n",
    "| **over 100mg% (+)**  | 4              | 5               |\n",
    "| **under 100mg% (-)** | 5              | 103             |\n",
    "\n",
    "Level: *Not married*\n",
    "\n",
    "|                      | fatality (+)    | no fatality (-) |\n",
    "| -------------------- | --------------: | --------------: |\n",
    "| **over 100mg% (+)**  | 10              | 3               |\n",
    "| **under 100mg% (-)** | 5               | 43              |\n",
    "\n",
    "### Method\n",
    "\n",
    "The analysis was undertaken using StatsModels.\n",
    "\n",
    "The data was stored on remotely, so we defined the function `cache_file` to handle the retrieval of the file.\n",
    "The datay were stored in a CSV file with schema:\n",
    "\n",
    "| column     | dtype | description                                              |\n",
    "| ---------- | ----- | -------------------------------------------------------- |\n",
    "| *n*        | `int` | Number of observations                                   |\n",
    "| *level*    | `str` | Descriptive label indicating category of level           |\n",
    "| *exposure* | `str` | Descriptive label indicating category of exposure        |\n",
    "| *casecon*  | `str` | Descriptive label indicating category of case or control |\n",
    "\n",
    "The function `get_odds_ratio_arr` was defined to return a point and interval estimates of the odds ratio as a `list`.\n",
    "\n",
    "The exposure, and case-control labels were stored as two `list`s, with variables named *exposures*, and *casecons*.\n",
    "\n",
    "Note, the orders of *exposures, casesons* are important:\n",
    "`Table2x2`[^2] requires the data to be some sequence with shape `(2, 2)`:\n",
    "\n",
    "| exposure            | disease (+) | no diease (-) |\n",
    "| --------------------| ----------: | ------------: |\n",
    "| **exposed (+)**     | *a*         | *b*           |\n",
    "| **not exposed (-)** | *c*         | *d*           |\n",
    "\n",
    "And `StratifiedTable`[^3] requires the data to be some sequence with shape `(2, 2, n)`, where `n` is the number of levels in the data:\n",
    "\n",
    "| level   | exposure           | disease (+) | no diease (-) |\n",
    "| ------- |--------------------| ----------: | ------------: |\n",
    "| **one** | **exposed (+)**    | *a*         | *b*           |\n",
    "|         |**not exposed (-)** | *c*         | *d*           |\n",
    "| **two** | **exposed (+)**    | *e*         | *f*           |\n",
    "|         |**not exposed (-)** | *g*         | *h*           |\n",
    "\n",
    "As such, the labels should be ordered:\n",
    "\n",
    "- *exposures* = (*exposed*, *not exposed*)\n",
    "- *casecons* = (*case*, *control*)\n",
    "\n",
    "The data were cached and used to a initialise a Pandas `DataFrame`.\n",
    "\n",
    "A new `DataFrame` *cat_data* was initialised from *data*, with the *level* *exposure*, *casecon* columns as ordered `Categorical` data.\n",
    "We casted the *exposure* and *casecons* columns to ordered `Categorical` data, to ensure the data would appear as expected.[^7]\n",
    "The *level* columns was taken as *levels*, a NumPy `NDArray`.\n",
    "\n",
    "The main difficulty with a stratified analysis is that we need to deal with the data in many different shapes.\n",
    "Three variables were initialised to handle the different views of the data.\n",
    "These were:\n",
    "\n",
    "- *level_tables*, a collection of `Table2x2` instances, where each instance represents a contingency table for a specific level\n",
    "- *aggregated_table*, an instance of `Table2x2` using the aggregated data[^8]\n",
    "- *strat_table*, an instance of `StratifiedTable`\n",
    "\n",
    "The level-specific, unadjusted[^4] and adjusted[^5] odds ratios were calculated, including their confidence interval estimates.\n",
    "Two hypothesis tests were performed: a test of no association and a test of homogeneity."
   ]
  },
  {
   "cell_type": "markdown",
   "metadata": {},
   "source": [
    "## Dependencies"
   ]
  },
  {
   "cell_type": "code",
   "execution_count": null,
   "metadata": {},
   "outputs": [],
   "source": [
    "import os\n",
    "import requests\n",
    "from dataclasses import dataclass\n",
    "import numpy as np\n",
    "import pandas as pd\n",
    "from statsmodels import api as sm"
   ]
  },
  {
   "cell_type": "markdown",
   "metadata": {},
   "source": [
    "## Functions"
   ]
  },
  {
   "cell_type": "code",
   "execution_count": null,
   "metadata": {},
   "outputs": [],
   "source": [
    "def cache_file(url: str, fname: str, dir_: str = './__cache') -> str:\n",
    "    \"\"\"Cache the file at given url in the given dir_ with the given\n",
    "    fname and return the local path.\n",
    "\n",
    "    Preconditions:\n",
    "    - dir_ exists\n",
    "    \"\"\"\n",
    "    local_path = f'{dir_}/{fname}'\n",
    "    if fname not in os.listdir(dir_):\n",
    "        r = requests.get(url, allow_redirects=True)\n",
    "        open(local_path, 'wb').write(r.content)\n",
    "    return local_path"
   ]
  },
  {
   "cell_type": "code",
   "execution_count": null,
   "metadata": {},
   "outputs": [],
   "source": [
    "def get_odds_ratio_arr(table: sm.stats.Table2x2, alpha: float = 0.05) -> list:\n",
    "    \"\"\"Return the point and (100-alpha)% lower and upper confidence\n",
    "    boundaries.\n",
    "\n",
    "    Preconditions:\n",
    "    - 0 < alpha < 1\n",
    "    \"\"\"\n",
    "    return [table.oddsratio,\n",
    "            table.oddsratio_confint(alpha=alpha)[0],\n",
    "            table.oddsratio_confint(alpha=alpha)[1]]"
   ]
  },
  {
   "cell_type": "markdown",
   "metadata": {},
   "source": [
    "## Main"
   ]
  },
  {
   "cell_type": "markdown",
   "metadata": {},
   "source": [
    "### Initialise the labels"
   ]
  },
  {
   "cell_type": "code",
   "execution_count": null,
   "metadata": {},
   "outputs": [],
   "source": [
    "exposures = ['over 100mg', 'under 100mg']\n",
    "casecons = ['fatality', 'no fatality']"
   ]
  },
  {
   "cell_type": "markdown",
   "metadata": {},
   "source": [
    "### Cache the data"
   ]
  },
  {
   "cell_type": "code",
   "execution_count": null,
   "metadata": {},
   "outputs": [],
   "source": [
    "local_path = cache_file(\n",
    "        url=('https://raw.githubusercontent.com/ljk233/laughingrook-datasets'\n",
    "             + '/main/m249/medical/drinkdriving.csv'),\n",
    "        fname='drinkdriving.csv'\n",
    ")"
   ]
  },
  {
   "cell_type": "markdown",
   "metadata": {},
   "source": [
    "### Load the data\n",
    "\n",
    "Use the cached file to initialise a `DataFrame`."
   ]
  },
  {
   "cell_type": "code",
   "execution_count": null,
   "metadata": {},
   "outputs": [],
   "source": [
    "data = pd.read_csv(local_path)\n",
    "data.info()"
   ]
  },
  {
   "cell_type": "markdown",
   "metadata": {},
   "source": [
    "Output a view of *data*."
   ]
  },
  {
   "cell_type": "code",
   "execution_count": null,
   "metadata": {},
   "outputs": [],
   "source": [
    "data"
   ]
  },
  {
   "cell_type": "markdown",
   "metadata": {},
   "source": [
    "### Prepare the data\n",
    "\n",
    "Initialise a new `DataFrame` using *data*, with the columns *level* as a `Categorical` variable, and *exposure*, *casecon* as ordered `Categorical` variables."
   ]
  },
  {
   "cell_type": "code",
   "execution_count": null,
   "metadata": {},
   "outputs": [],
   "source": [
    "cat_data = pd.DataFrame().assign(\n",
    "    n=data['n'].to_numpy(),\n",
    "    level=pd.Categorical(data['level']),\n",
    "    exposure=pd.Categorical(data['exposure'], exposures, ordered=True),\n",
    "    casecon=pd.Categorical(data['casecon'], casecons, ordered=True)\n",
    ").sort_values(\n",
    "    by=['level', 'exposure', 'casecon']\n",
    ")\n",
    "cat_data.info()"
   ]
  },
  {
   "cell_type": "markdown",
   "metadata": {},
   "source": [
    "Get *level* as a NumPy `NDArray`."
   ]
  },
  {
   "cell_type": "code",
   "execution_count": null,
   "metadata": {},
   "outputs": [],
   "source": [
    "levels = np.unique(cat_data['level'])\n",
    "levels"
   ]
  },
  {
   "cell_type": "markdown",
   "metadata": {},
   "source": [
    "Output pivot tables with marginal totals."
   ]
  },
  {
   "cell_type": "code",
   "execution_count": null,
   "metadata": {},
   "outputs": [],
   "source": [
    "for level in levels:\n",
    "    print(\n",
    "        cat_data.query(\n",
    "            'level == @level'\n",
    "        ).pivot_table(\n",
    "            values='n',\n",
    "            index=['level', 'exposure'],\n",
    "            columns='casecon',\n",
    "            aggfunc='sum',\n",
    "            margins=True,\n",
    "            margins_name='subtotal'\n",
    "        ).query(\n",
    "            \"level in [@level, 'subtotal']\"\n",
    "        ),\n",
    "        '\\n'\n",
    "    )"
   ]
  },
  {
   "cell_type": "markdown",
   "metadata": {
    "tags": []
   },
   "source": [
    "### Initialise the contingency tables\n",
    "\n",
    "Initialise contingency tables for different views of the data."
   ]
  },
  {
   "cell_type": "code",
   "execution_count": null,
   "metadata": {},
   "outputs": [],
   "source": [
    "_make_table2x2 = lambda df, level: (\n",
    "    sm.stats.Table2x2(\n",
    "        df.query('level == @level')['n']\n",
    "          .to_numpy()\n",
    "          .reshape(2, 2)\n",
    "    )\n",
    ")\n",
    "level_tables = [_make_table2x2(cat_data, level) for level in levels]\n",
    "for table, level in zip(level_tables, levels):\n",
    "    print(f'level={level}\\n{table}\\n')"
   ]
  },
  {
   "cell_type": "code",
   "execution_count": null,
   "metadata": {},
   "outputs": [],
   "source": [
    "aggregated_table = sm.stats.Table2x2(\n",
    "    cat_data.groupby(['exposure', 'casecon'])\n",
    "            .sum()\n",
    "            .to_numpy()\n",
    "            .reshape((2, 2))\n",
    ")\n",
    "print(aggregated_table)"
   ]
  },
  {
   "cell_type": "code",
   "execution_count": null,
   "metadata": {},
   "outputs": [],
   "source": [
    "strat_table = (\n",
    "    sm.stats.StratifiedTable(\n",
    "                data.sort_values(by=['exposure', 'casecon', 'level'])['n']\n",
    "                    .to_numpy()\n",
    "                    .reshape((2, 2, 2))\n",
    "    )\n",
    ")\n",
    "print(strat_table.table)"
   ]
  },
  {
   "cell_type": "markdown",
   "metadata": {},
   "source": [
    "### Odds ratios\n",
    "\n",
    "Return point and interval estimates of the level-specific, unadjusted, and adjusted odds ratios."
   ]
  },
  {
   "cell_type": "markdown",
   "metadata": {},
   "source": [
    "Return the level-specific odds ratios."
   ]
  },
  {
   "cell_type": "code",
   "execution_count": null,
   "metadata": {},
   "outputs": [],
   "source": [
    "pd.DataFrame(\n",
    "    data=[get_odds_ratio_arr(table) for table in level_tables],\n",
    "    columns=['point', 'lcb', 'ucb'],\n",
    "    index=pd.Index(levels, name='level')\n",
    ").round(\n",
    "    5\n",
    ")"
   ]
  },
  {
   "cell_type": "markdown",
   "metadata": {},
   "source": [
    "Return the unadjusted odds ratio."
   ]
  },
  {
   "cell_type": "code",
   "execution_count": null,
   "metadata": {},
   "outputs": [],
   "source": [
    "pd.Series(\n",
    "    data=get_odds_ratio_arr(aggregated_table),\n",
    "    index=['point', 'lcb', 'ucb'],\n",
    "    name='unadjusted odds ratio'\n",
    ").round(\n",
    "    5\n",
    ")"
   ]
  },
  {
   "cell_type": "markdown",
   "metadata": {},
   "source": [
    "Return the adjusted odds ratio."
   ]
  },
  {
   "cell_type": "code",
   "execution_count": null,
   "metadata": {},
   "outputs": [],
   "source": [
    "pd.Series(\n",
    "    data=[strat_table.oddsratio_pooled,\n",
    "           strat_table.oddsratio_pooled_confint()[0],\n",
    "           strat_table.oddsratio_pooled_confint()[1]],\n",
    "    index=['point', 'lcb', 'ucb'],\n",
    "    name='adjusted odds ratio'\n",
    ").round(\n",
    "    3\n",
    ")"
   ]
  },
  {
   "cell_type": "markdown",
   "metadata": {},
   "source": [
    "### Hypothesis testing"
   ]
  },
  {
   "cell_type": "markdown",
   "metadata": {},
   "source": [
    "Return the result of a test of no association."
   ]
  },
  {
   "cell_type": "code",
   "execution_count": null,
   "metadata": {},
   "outputs": [],
   "source": [
    "_r = strat_table.test_null_odds(correction=True)\n",
    "pd.Series(\n",
    "    data=[_r.statistic, _r.pvalue],\n",
    "    index=['statistic', 'pvalue'],\n",
    "    name='test of no association'\n",
    ").round(\n",
    "    3\n",
    ")"
   ]
  },
  {
   "cell_type": "markdown",
   "metadata": {},
   "source": [
    "Return the result of a test of homogeneity."
   ]
  },
  {
   "cell_type": "code",
   "execution_count": null,
   "metadata": {},
   "outputs": [],
   "source": [
    "_r = strat_table.test_equal_odds(adjust=True)\n",
    "pd.Series(\n",
    "    data=[_r.statistic, _r.pvalue],\n",
    "    index=['statistic', 'pvalue'],\n",
    "    name='test of homogeneity'\n",
    ").round(\n",
    "    3\n",
    ")"
   ]
  },
  {
   "cell_type": "markdown",
   "metadata": {},
   "source": [
    "## References\n",
    "\n",
    "McCarroll, J.R. and Haddon Jr, W., 1962. A controlled study of fatal automobile accidents in New York City. Journal of chronic diseases, 15(8), pp.811-826."
   ]
  },
  {
   "cell_type": "code",
   "execution_count": null,
   "metadata": {},
   "outputs": [],
   "source": [
    "%load_ext watermark\n",
    "%watermark --iv"
   ]
  },
  {
   "cell_type": "markdown",
   "metadata": {},
   "source": [
    "[^2]: See [statsmodels.stats.contingency_tables.Table2x2](https://www.statsmodels.org/v0.13.0/generated/statsmodels.stats.contingency_tables.Table2x2.html)\n",
    "[^3]: See [statsmodels.stats.contingency_tables.StratifiedTable](https://www.statsmodels.org/v0.13.0/generated/statsmodels.stats.contingency_tables.StratifiedTable.html)\n",
    "[^4]: This is the crude odds ratio\n",
    "[^5]: This is the Mantel-Haenszel odds ratio\n",
    "[^7]: See [pandas.Categorical](https://pandas.pydata.org/docs/reference/api/pandas.Categorical.html)\n",
    "[^8]: Aggregated by *exposure*, *casecon*"
   ]
  }
 ],
 "metadata": {
  "interpreter": {
   "hash": "e3664f357c2b2734ea2c6777198af464a1d586bce7a4eafd7e49c68ceedc6949"
  },
  "kernelspec": {
   "display_name": "lr_stats",
   "language": "python",
   "name": "lr_stats"
  },
  "language_info": {
   "codemirror_mode": {
    "name": "ipython",
    "version": 3
   },
   "file_extension": ".py",
   "mimetype": "text/x-python",
   "name": "python",
   "nbconvert_exporter": "python",
   "pygments_lexer": "ipython3",
   "version": "3.10.6"
  }
 },
 "nbformat": 4,
 "nbformat_minor": 4
}
