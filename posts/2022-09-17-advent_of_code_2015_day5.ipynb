{
 "cells": [
  {
   "cell_type": "raw",
   "id": "9f1f9336",
   "metadata": {},
   "source": [
    "---\n",
    "title: Advent of Code 2015, Day 5\n",
    "date: 2022-09-17\n",
    "categories: [AdventOfCode]\n",
    "draft: true\n",
    "---"
   ]
  },
  {
   "cell_type": "markdown",
   "id": "3be8e14b",
   "metadata": {},
   "source": [
    "## Summary notes\n",
    "\n",
    "This is my solution to Advent of Code 2015, Day 5: *Doesn't He Have Intern-Elves For This?*"
   ]
  },
  {
   "cell_type": "markdown",
   "id": "ec3862e7",
   "metadata": {},
   "source": [
    "## Dependencies"
   ]
  },
  {
   "cell_type": "code",
   "execution_count": 1,
   "id": "5ae2d97f",
   "metadata": {},
   "outputs": [],
   "source": [
    "import laughingrook as lr"
   ]
  },
  {
   "cell_type": "markdown",
   "id": "e43433d6",
   "metadata": {},
   "source": [
    "## Constants"
   ]
  },
  {
   "cell_type": "code",
   "execution_count": 2,
   "id": "635a3a85",
   "metadata": {},
   "outputs": [],
   "source": [
    "BAD_PAIRS = set(['ab', 'cd', 'pq', 'xy'])\n",
    "VOWELS = set(['a', 'e', 'i', 'o', 'u'])"
   ]
  },
  {
   "cell_type": "markdown",
   "id": "75ada2d1",
   "metadata": {},
   "source": [
    "## Functions"
   ]
  },
  {
   "cell_type": "code",
   "execution_count": 3,
   "id": "4fda6c30",
   "metadata": {},
   "outputs": [],
   "source": [
    "def no_bad_pairs(line: str) -> bool:\n",
    "    \"\"\"Return true if a given line contains a bad pair\n",
    "    \"\"\"\n",
    "    for i in range(len(line) - 2):\n",
    "        pair = line[i:i+2]\n",
    "        if pair in BAD_PAIRS:\n",
    "            return False\n",
    "    return True"
   ]
  },
  {
   "cell_type": "code",
   "execution_count": 4,
   "id": "9764b304",
   "metadata": {},
   "outputs": [],
   "source": [
    "def three_vowels(line: str) -> bool:\n",
    "    \"\"\"Return true if a given line contains three vowels\n",
    "    \"\"\"\n",
    "    return sum(1 if x in VOWELS else 0 for x in line) >= 3"
   ]
  },
  {
   "cell_type": "code",
   "execution_count": 5,
   "id": "ba3a63eb",
   "metadata": {},
   "outputs": [],
   "source": [
    "def consecutive_chars(line: str) -> bool:\n",
    "    \"\"\"Return true if a given line contains consecutive letters which\n",
    "    are the same\n",
    "    \"\"\"\n",
    "    for i in range(1, len(line)):\n",
    "        if line[i] == line[i-1]:\n",
    "            return True\n",
    "    return False"
   ]
  },
  {
   "cell_type": "code",
   "execution_count": 6,
   "id": "9004618c",
   "metadata": {},
   "outputs": [],
   "source": [
    "def any_pairs(line: str) -> bool:\n",
    "    \"\"\"Return true if a given line contains pairs of any letters (not\n",
    "    overlapping)\n",
    "    \"\"\"\n",
    "    pairs = set()\n",
    "    for j in range(1, len(line) - 1):\n",
    "        if line[j] * 3 != line[j-1:j+2]:\n",
    "            pair = line[j-1:j+1]\n",
    "            if pair in pairs:\n",
    "                return True\n",
    "            else:\n",
    "                pairs.add(pair)\n",
    "\n",
    "    # check the final pair\n",
    "    if line[-1] * 3 != line[-3:]:\n",
    "        pair = line[-2:]\n",
    "        if pair in pairs:\n",
    "            return True\n",
    "        else:\n",
    "            return False"
   ]
  },
  {
   "cell_type": "code",
   "execution_count": 7,
   "id": "e343656f",
   "metadata": {},
   "outputs": [],
   "source": [
    "def hopped_repeat_letters(line: str) -> bool:\n",
    "    \"\"\"Return true if a character in the given line repeats with one\n",
    "    letter inbetween them\n",
    "    \"\"\"\n",
    "    for j in range(1, len(line) - 1):\n",
    "        if line[j-1] == line[j+1]:\n",
    "            return True\n",
    "    return False"
   ]
  },
  {
   "cell_type": "code",
   "execution_count": 8,
   "id": "d7a2b192",
   "metadata": {},
   "outputs": [],
   "source": [
    "def count_nice(lines: list[str], *tests) -> bool:\n",
    "    \"\"\"Return the total count of nice lines based on the given tests\n",
    "    \"\"\"\n",
    "    return sum(all(test(line) for test in tests) for line in lines)"
   ]
  },
  {
   "cell_type": "markdown",
   "id": "dbf9bce7",
   "metadata": {},
   "source": [
    "## Main"
   ]
  },
  {
   "cell_type": "markdown",
   "id": "316c8a99",
   "metadata": {},
   "source": [
    "### Load the input"
   ]
  },
  {
   "cell_type": "code",
   "execution_count": 9,
   "id": "57e812e4",
   "metadata": {},
   "outputs": [
    {
     "name": "stdout",
     "output_type": "stream",
     "text": [
      "file was cached.\n",
      "lines = '['rthkunfaakmwmush', 'qxlnvjguikqcyfzt', 'sleaoasjspnjctqt', 'lactpmehuhmzwfjl', 'bvggvrdgjcspkkyj']'\n"
     ]
    }
   ],
   "source": [
    "lines = lr.datasets.get_advent_input(2015, 5)\n",
    "print(f\"lines = '{lines[:5]}'\")"
   ]
  },
  {
   "cell_type": "markdown",
   "id": "60c38b34",
   "metadata": {},
   "source": [
    "### Part 1"
   ]
  },
  {
   "cell_type": "code",
   "execution_count": 10,
   "id": "6a75c2a4",
   "metadata": {},
   "outputs": [
    {
     "name": "stdout",
     "output_type": "stream",
     "text": [
      "Solution = 258\n"
     ]
    }
   ],
   "source": [
    "ans = count_nice(lines, no_bad_pairs, three_vowels, consecutive_chars)\n",
    "print(f'Solution = {ans}')"
   ]
  },
  {
   "cell_type": "markdown",
   "id": "2efc596d",
   "metadata": {},
   "source": [
    "### Part 2"
   ]
  },
  {
   "cell_type": "code",
   "execution_count": 11,
   "id": "80f6d7a7",
   "metadata": {},
   "outputs": [
    {
     "name": "stdout",
     "output_type": "stream",
     "text": [
      "Solution = 53\n"
     ]
    }
   ],
   "source": [
    "print(f'Solution = {count_nice(lines, any_pairs, hopped_repeat_letters)}')"
   ]
  },
  {
   "cell_type": "markdown",
   "id": "341869b5",
   "metadata": {},
   "source": [
    "### Performance"
   ]
  },
  {
   "cell_type": "code",
   "execution_count": 12,
   "id": "d781c69a",
   "metadata": {},
   "outputs": [
    {
     "name": "stdout",
     "output_type": "stream",
     "text": [
      "Part 1 =\n",
      "3.95 ms ± 19.3 µs per loop (mean ± std. dev. of 7 runs, 100 loops each)\n",
      "Part 2 =\n",
      "5.41 ms ± 11.5 µs per loop (mean ± std. dev. of 7 runs, 100 loops each)\n"
     ]
    }
   ],
   "source": [
    "print('Part 1 =')\n",
    "%timeit count_nice(lines, no_bad_pairs, three_vowels, consecutive_chars)\n",
    "print('Part 2 =')\n",
    "%timeit count_nice(lines, any_pairs, hopped_repeat_letters)"
   ]
  }
 ],
 "metadata": {
  "kernelspec": {
   "display_name": "laughingrook",
   "language": "python",
   "name": "laughingrook"
  },
  "language_info": {
   "codemirror_mode": {
    "name": "ipython",
    "version": 3
   },
   "file_extension": ".py",
   "mimetype": "text/x-python",
   "name": "python",
   "nbconvert_exporter": "python",
   "pygments_lexer": "ipython3",
   "version": "3.10.4"
  }
 },
 "nbformat": 4,
 "nbformat_minor": 5
}
