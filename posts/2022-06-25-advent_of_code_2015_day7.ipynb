{
 "cells": [
  {
   "cell_type": "raw",
   "id": "ca539b82",
   "metadata": {},
   "source": [
    "---\n",
    "title: Advent of Code 2015, Day 7\n",
    "author: LaughingRook\n",
    "date: 2022-06-25\n",
    "categories: [AdventOfCode]\n",
    "format:\n",
    "  html:\n",
    "    code-fold: false\n",
    "    code-tools: true\n",
    "---"
   ]
  },
  {
   "cell_type": "markdown",
   "id": "5ea1e265",
   "metadata": {},
   "source": [
    "## Summary notes\n",
    "\n",
    "This is my solution to Advent of Code 2015, Day 5: *Some Assembly Required*"
   ]
  },
  {
   "cell_type": "markdown",
   "id": "ec3862e7",
   "metadata": {},
   "source": [
    "## Dependencies"
   ]
  },
  {
   "cell_type": "code",
   "execution_count": 1,
   "id": "5ae2d97f",
   "metadata": {},
   "outputs": [],
   "source": [
    "import collections\n",
    "import dataclasses\n",
    "import laughingrook as lr"
   ]
  },
  {
   "cell_type": "markdown",
   "id": "75ada2d1",
   "metadata": {},
   "source": [
    "## Functions"
   ]
  },
  {
   "cell_type": "code",
   "execution_count": 2,
   "id": "bec01d23",
   "metadata": {},
   "outputs": [],
   "source": [
    "@dataclasses.dataclass\n",
    "class Wire:\n",
    "    line: list[str]\n",
    "    output: str = ''\n",
    "    op: str = 'ASSIGN'\n",
    "    inputs: list = dataclasses.field(default_factory=list)\n",
    "\n",
    "    def __post_init__(self):\n",
    "        self.parse_line()\n",
    "\n",
    "    def parse_line(self) -> None:\n",
    "        lline = self.line.split()\n",
    "        self.output = lline[-1]\n",
    "\n",
    "        left = lline[:-2]\n",
    "        for op in ['NOT', 'AND', 'OR', 'LSHIFT', 'RSHIFT']:\n",
    "            if op in left:\n",
    "                self.op = op\n",
    "                left.remove(op)\n",
    "        self.inputs = [int(i) if i.isdigit() else i for i in left]\n",
    "\n",
    "    def evaluate(self) -> None:\n",
    "        if self.op == 'ASSIGN':\n",
    "            return int(self.inputs[0])\n",
    "        elif self.op == 'NOT':\n",
    "            return int(65535 - self.inputs[0])\n",
    "        elif self.op == 'AND':\n",
    "            return int(self.inputs[0] & self.inputs[1])\n",
    "        elif self.op == 'OR':\n",
    "            return int(self.inputs[0] | self.inputs[1])\n",
    "        elif self.op == 'LSHIFT':\n",
    "            return int(self.inputs[0] << self.inputs[1])\n",
    "        elif self.op == 'RSHIFT':\n",
    "            return int(self.inputs[0] >> self.inputs[1])\n",
    "        else:\n",
    "            raise ValueError('invalid operator')\n",
    "\n",
    "    def update_input(self, signals: dict) -> None:\n",
    "        \"\"\"Replace any signal in wire's inputs with int value.\n",
    "        \n",
    "        Iterate over wire's inputs: For signal in inputs, if signal\n",
    "        in signals then add signals[signal] to inputs. Otherwise append\n",
    "        signal to inputs\n",
    "        \"\"\"\n",
    "        self.inputs = [signals[signal] if signal in signals else signal\n",
    "                       for signal in self.inputs]\n",
    "\n",
    "    def is_complete(self):\n",
    "        \"\"\"Return true if the wire's inputs are all of type int.\n",
    "        \"\"\"\n",
    "        return all(isinstance(signal, int) for signal in self.inputs)"
   ]
  },
  {
   "cell_type": "code",
   "execution_count": 3,
   "id": "a5ed9d96",
   "metadata": {},
   "outputs": [],
   "source": [
    "def evaluate(wires: list, override: tuple = None) -> dict:\n",
    "    if not override:\n",
    "        signals = {}\n",
    "    else:\n",
    "        signals = {override[0]: override[1]}\n",
    "    q = collections.deque(wires)\n",
    "    while len(q) >= 1:\n",
    "        wire = q.popleft()\n",
    "        if wire.is_complete():  # evaluate the string, add to signal map\n",
    "            signals[wire.output] = wire.evaluate()\n",
    "        else:                   # \n",
    "            wire.update_input(signals)\n",
    "            q.append(wire)\n",
    "    return signals"
   ]
  },
  {
   "cell_type": "markdown",
   "id": "1e1d19bf",
   "metadata": {},
   "source": [
    "## Main"
   ]
  },
  {
   "cell_type": "markdown",
   "id": "316c8a99",
   "metadata": {},
   "source": [
    "### Load the input"
   ]
  },
  {
   "cell_type": "code",
   "execution_count": 4,
   "id": "57e812e4",
   "metadata": {},
   "outputs": [
    {
     "name": "stdout",
     "output_type": "stream",
     "text": [
      "file was cached.\n"
     ]
    },
    {
     "data": {
      "text/plain": [
       "['bn RSHIFT 2 -> bo',\n",
       " 'lf RSHIFT 1 -> ly',\n",
       " 'fo RSHIFT 3 -> fq',\n",
       " 'cj OR cp -> cq',\n",
       " 'fo OR fz -> ga']"
      ]
     },
     "execution_count": 4,
     "metadata": {},
     "output_type": "execute_result"
    }
   ],
   "source": [
    "lines = lr.datasets.get_advent_input(2015, 7)\n",
    "lines[:5]"
   ]
  },
  {
   "cell_type": "markdown",
   "id": "adff03df",
   "metadata": {},
   "source": [
    "Examples of an instance of `Wire`."
   ]
  },
  {
   "cell_type": "code",
   "execution_count": 5,
   "id": "63214454",
   "metadata": {},
   "outputs": [
    {
     "name": "stdout",
     "output_type": "stream",
     "text": [
      "Wire(line='bn RSHIFT 2 -> bo', output='bo', op='RSHIFT', inputs=['bn', 2])\n",
      "Wire(line='lf RSHIFT 1 -> ly', output='ly', op='RSHIFT', inputs=['lf', 1])\n",
      "Wire(line='fo RSHIFT 3 -> fq', output='fq', op='RSHIFT', inputs=['fo', 3])\n"
     ]
    }
   ],
   "source": [
    "for w in [Wire(line) for line in lines[:3]]:\n",
    "    print(w)"
   ]
  },
  {
   "cell_type": "markdown",
   "id": "12c4fbd9",
   "metadata": {},
   "source": [
    "### Part 1"
   ]
  },
  {
   "cell_type": "code",
   "execution_count": 6,
   "id": "8316633b",
   "metadata": {},
   "outputs": [
    {
     "name": "stdout",
     "output_type": "stream",
     "text": [
      "Solution = 46065\n"
     ]
    }
   ],
   "source": [
    "print(f\"Solution = {evaluate([Wire(line) for line in lines])['a']}\")"
   ]
  },
  {
   "cell_type": "markdown",
   "id": "2efc596d",
   "metadata": {},
   "source": [
    "### Part 2"
   ]
  },
  {
   "cell_type": "code",
   "execution_count": 7,
   "id": "a87340da",
   "metadata": {},
   "outputs": [
    {
     "name": "stdout",
     "output_type": "stream",
     "text": [
      "Solution = 14134\n"
     ]
    }
   ],
   "source": [
    "a = evaluate([Wire(line) for line in lines])['a']\n",
    "wires = [wire for wire in [Wire(line) for line in lines]\n",
    "         if wire.output != 'b']\n",
    "print(f\"Solution = {evaluate(wires, override=('b', a))['a']}\")"
   ]
  },
  {
   "cell_type": "markdown",
   "id": "ff49061d",
   "metadata": {},
   "source": [
    "### Performance\n",
    "\n",
    "Part 1 ="
   ]
  },
  {
   "cell_type": "code",
   "execution_count": 8,
   "id": "e3ec1f75",
   "metadata": {},
   "outputs": [
    {
     "name": "stdout",
     "output_type": "stream",
     "text": [
      "47.3 ms ± 229 µs per loop (mean ± std. dev. of 7 runs, 10 loops each)\n"
     ]
    }
   ],
   "source": [
    "%timeit {evaluate([Wire(line) for line in lines])['a']}"
   ]
  },
  {
   "cell_type": "markdown",
   "id": "ec040d38",
   "metadata": {},
   "source": [
    "Part 2 ="
   ]
  },
  {
   "cell_type": "code",
   "execution_count": 9,
   "id": "c6c752dd",
   "metadata": {},
   "outputs": [
    {
     "name": "stdout",
     "output_type": "stream",
     "text": [
      "94.8 ms ± 291 µs per loop (mean ± std. dev. of 7 runs, 10 loops each)\n"
     ]
    }
   ],
   "source": [
    "%%timeit\n",
    "a = evaluate([Wire(line) for line in lines])['a']\n",
    "wires = [wire for wire in [Wire(line) for line in lines]\n",
    "         if wire.output != 'b']\n",
    "evaluate(wires, override=('b', a))['a']"
   ]
  }
 ],
 "metadata": {
  "kernelspec": {
   "display_name": "laughingrook",
   "language": "python",
   "name": "laughingrook"
  },
  "language_info": {
   "codemirror_mode": {
    "name": "ipython",
    "version": 3
   },
   "file_extension": ".py",
   "mimetype": "text/x-python",
   "name": "python",
   "nbconvert_exporter": "python",
   "pygments_lexer": "ipython3",
   "version": "3.10.4"
  }
 },
 "nbformat": 4,
 "nbformat_minor": 5
}
