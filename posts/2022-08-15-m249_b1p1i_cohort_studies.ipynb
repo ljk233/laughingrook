{
 "cells": [
  {
   "cell_type": "raw",
   "metadata": {},
   "source": [
    "---\n",
    "title: Cohort Studies\n",
    "date: 2022-08-15\n",
    "categories: [M249, Statistics]\n",
    "draft: false\n",
    "---"
   ]
  },
  {
   "cell_type": "markdown",
   "metadata": {},
   "source": [
    "## Summary notes\n",
    "\n",
    "Perform an epidemiological study on the results of a cohort study.\n",
    "\n",
    "This topics is covered by M249 Book 1, Part 1.\n",
    "\n",
    "### About the study\n",
    "\n",
    "Data on a cohort study analysing the possible association between compulsory redundancies and incidents of serious self-inflicted injury (SSI) (Keefe, V., et al (2002)) was sourced.\n",
    "The exposure is being made compulsorily redundant, and the disease is incidents of serious self-inflicted injury.\n",
    "\n",
    "The study results were as follows.\n",
    "\n",
    "|                            | SSI (+) | no SSI (-) |\n",
    "| -------------------------- | ------: | ---------: |\n",
    "| **made redundant (+)**     | 14      | 1931       |\n",
    "| **not made redundant (-)** | 4       | 1763       |\n",
    "\n",
    "### About the data\n",
    "\n",
    "The data were stored remotely as a CSV file in a tidy manner with the schema:\n",
    "\n",
    "| column     | dtype | description                                       |\n",
    "| ---------- | ----- | ------------------------------------------------- |\n",
    "| *n*        | `int` | Number of observations                            |\n",
    "| *exposure* | `str` | Descriptive label indicating category of exposure |\n",
    "| *disease*  | `str` | Descriptive label indicating category of disease  |\n",
    "\n",
    "### Method\n",
    "\n",
    "The analysis was undertaken using StatsModels and SciPy.\n",
    "\n",
    "We defined a function `cache_file` to handle the retrieval of the data.\n",
    "\n",
    "The exposure and disease labels were stored as two `list`s with variables named *exposures*, *diseases*.\n",
    "\n",
    ":::{.callout-note}\n",
    "Note that the orders of the two `list`s are important, and should correspond with:\n",
    "\n",
    "- *exposures* = (*exposed*, *not exposed*)\n",
    "- *diseases* = (*disease*, *no disease*)\n",
    ":::\n",
    "\n",
    "The data were cached and used to initialise *data*, a Pandas `DataFrame`.\n",
    "\n",
    "A new `DataFrame` *cat_data* was initialised from *data*, with the *exposure*, *disease* columns as ordered `Categorical`[^6] data types, and was sorted by (*exposure*, *disease*).\n",
    "\n",
    "We took column *cat_data*[*n*] as *data_arr*, a Numpy `NDArray` with shape `(2, 2)`, and used it to initialise *ctable*, an instance of `Table2x2`.[^1].\n",
    "\n",
    "Measures of association[^2] were calculated, including confidence interval estimates.\n",
    "A chi-squared test of no association was used to test the strength of evidence of an association.\n",
    "We rounded-off the analysis by performing Fisher's exact test.[^3] [^4]"
   ]
  },
  {
   "cell_type": "markdown",
   "metadata": {},
   "source": [
    "## Dependencies"
   ]
  },
  {
   "cell_type": "code",
   "execution_count": 1,
   "metadata": {},
   "outputs": [],
   "source": [
    "import os\n",
    "import requests\n",
    "import numpy as np\n",
    "import pandas as pd\n",
    "from scipy import stats as st\n",
    "from statsmodels import api as sm"
   ]
  },
  {
   "cell_type": "markdown",
   "metadata": {},
   "source": [
    "## Functions"
   ]
  },
  {
   "cell_type": "code",
   "execution_count": 2,
   "metadata": {},
   "outputs": [],
   "source": [
    "def cache_file(url: str, fname: str, dir_: str = './__cache') -> str:\n",
    "    \"\"\"Cache the file at given url in the given dir_ with the given\n",
    "    fname, and return the local path.\n",
    "\n",
    "    Preconditions:\n",
    "    - dir_ exists\n",
    "    \"\"\"\n",
    "    local_path = f'{dir_}/{fname}'\n",
    "    if fname not in os.listdir(dir_):\n",
    "        r = requests.get(url, allow_redirects=True)\n",
    "        open(local_path, 'wb').write(r.content)\n",
    "    return local_path"
   ]
  },
  {
   "cell_type": "markdown",
   "metadata": {},
   "source": [
    "## Main"
   ]
  },
  {
   "cell_type": "markdown",
   "metadata": {},
   "source": [
    "### Initialise the labels"
   ]
  },
  {
   "cell_type": "code",
   "execution_count": 3,
   "metadata": {},
   "outputs": [],
   "source": [
    "exposures = ['redundant', 'not redundant']\n",
    "diseases = ['ssi', 'no ssi']"
   ]
  },
  {
   "cell_type": "markdown",
   "metadata": {},
   "source": [
    "### Cache the data"
   ]
  },
  {
   "cell_type": "code",
   "execution_count": 4,
   "metadata": {},
   "outputs": [],
   "source": [
    "local_path = cache_file(\n",
    "    url=('https://raw.githubusercontent.com/ljk233/laughingrook-datasets'\n",
    "         + '/main/m249/medical/redundancy_ssi.csv'),\n",
    "    fname='redundancy_ssi.csv'\n",
    ")"
   ]
  },
  {
   "cell_type": "markdown",
   "metadata": {},
   "source": [
    "### Load the data\n",
    "\n",
    "Use the cached file to initialise a `DataFrame`."
   ]
  },
  {
   "cell_type": "code",
   "execution_count": 5,
   "metadata": {},
   "outputs": [
    {
     "name": "stdout",
     "output_type": "stream",
     "text": [
      "<class 'pandas.core.frame.DataFrame'>\n",
      "RangeIndex: 4 entries, 0 to 3\n",
      "Data columns (total 3 columns):\n",
      " #   Column    Non-Null Count  Dtype \n",
      "---  ------    --------------  ----- \n",
      " 0   n         4 non-null      int64 \n",
      " 1   exposure  4 non-null      object\n",
      " 2   disease   4 non-null      object\n",
      "dtypes: int64(1), object(2)\n",
      "memory usage: 224.0+ bytes\n"
     ]
    }
   ],
   "source": [
    "data = pd.read_csv(local_path)\n",
    "data.info()"
   ]
  },
  {
   "cell_type": "markdown",
   "metadata": {},
   "source": [
    "Output a view of *data*."
   ]
  },
  {
   "cell_type": "code",
   "execution_count": 6,
   "metadata": {},
   "outputs": [
    {
     "data": {
      "text/html": [
       "<div>\n",
       "<style scoped>\n",
       "    .dataframe tbody tr th:only-of-type {\n",
       "        vertical-align: middle;\n",
       "    }\n",
       "\n",
       "    .dataframe tbody tr th {\n",
       "        vertical-align: top;\n",
       "    }\n",
       "\n",
       "    .dataframe thead th {\n",
       "        text-align: right;\n",
       "    }\n",
       "</style>\n",
       "<table border=\"1\" class=\"dataframe\">\n",
       "  <thead>\n",
       "    <tr style=\"text-align: right;\">\n",
       "      <th></th>\n",
       "      <th>n</th>\n",
       "      <th>exposure</th>\n",
       "      <th>disease</th>\n",
       "    </tr>\n",
       "  </thead>\n",
       "  <tbody>\n",
       "    <tr>\n",
       "      <th>0</th>\n",
       "      <td>14</td>\n",
       "      <td>redundant</td>\n",
       "      <td>ssi</td>\n",
       "    </tr>\n",
       "    <tr>\n",
       "      <th>1</th>\n",
       "      <td>1931</td>\n",
       "      <td>redundant</td>\n",
       "      <td>no ssi</td>\n",
       "    </tr>\n",
       "    <tr>\n",
       "      <th>2</th>\n",
       "      <td>4</td>\n",
       "      <td>not redundant</td>\n",
       "      <td>ssi</td>\n",
       "    </tr>\n",
       "    <tr>\n",
       "      <th>3</th>\n",
       "      <td>1763</td>\n",
       "      <td>not redundant</td>\n",
       "      <td>no ssi</td>\n",
       "    </tr>\n",
       "  </tbody>\n",
       "</table>\n",
       "</div>"
      ],
      "text/plain": [
       "      n       exposure disease\n",
       "0    14      redundant     ssi\n",
       "1  1931      redundant  no ssi\n",
       "2     4  not redundant     ssi\n",
       "3  1763  not redundant  no ssi"
      ]
     },
     "execution_count": 6,
     "metadata": {},
     "output_type": "execute_result"
    }
   ],
   "source": [
    "data"
   ]
  },
  {
   "cell_type": "markdown",
   "metadata": {},
   "source": [
    "### Prepare the data\n",
    "\n",
    "Initialise a new `DataFrame` using *data*, with the columns *exposure*, *disease* as ordered `Categorical` variables."
   ]
  },
  {
   "cell_type": "code",
   "execution_count": 7,
   "metadata": {},
   "outputs": [
    {
     "name": "stdout",
     "output_type": "stream",
     "text": [
      "<class 'pandas.core.frame.DataFrame'>\n",
      "Int64Index: 4 entries, 0 to 3\n",
      "Data columns (total 3 columns):\n",
      " #   Column    Non-Null Count  Dtype   \n",
      "---  ------    --------------  -----   \n",
      " 0   n         4 non-null      int64   \n",
      " 1   exposure  4 non-null      category\n",
      " 2   disease   4 non-null      category\n",
      "dtypes: category(2), int64(1)\n",
      "memory usage: 320.0 bytes\n"
     ]
    }
   ],
   "source": [
    "cat_data = pd.DataFrame().assign(\n",
    "    n=data['n'].to_numpy(),\n",
    "    exposure=pd.Categorical(data['exposure'], exposures, ordered=True),\n",
    "    disease=pd.Categorical(data['disease'], diseases, ordered=True)\n",
    ").sort_values(\n",
    "    by=['exposure',\n",
    "        'disease']\n",
    ")\n",
    "cat_data.info()"
   ]
  },
  {
   "cell_type": "markdown",
   "metadata": {},
   "source": [
    "Output a pivot table with the marginal totals."
   ]
  },
  {
   "cell_type": "code",
   "execution_count": 8,
   "metadata": {},
   "outputs": [
    {
     "data": {
      "text/html": [
       "<div>\n",
       "<style scoped>\n",
       "    .dataframe tbody tr th:only-of-type {\n",
       "        vertical-align: middle;\n",
       "    }\n",
       "\n",
       "    .dataframe tbody tr th {\n",
       "        vertical-align: top;\n",
       "    }\n",
       "\n",
       "    .dataframe thead th {\n",
       "        text-align: right;\n",
       "    }\n",
       "</style>\n",
       "<table border=\"1\" class=\"dataframe\">\n",
       "  <thead>\n",
       "    <tr style=\"text-align: right;\">\n",
       "      <th>disease</th>\n",
       "      <th>ssi</th>\n",
       "      <th>no ssi</th>\n",
       "      <th>total</th>\n",
       "    </tr>\n",
       "    <tr>\n",
       "      <th>exposure</th>\n",
       "      <th></th>\n",
       "      <th></th>\n",
       "      <th></th>\n",
       "    </tr>\n",
       "  </thead>\n",
       "  <tbody>\n",
       "    <tr>\n",
       "      <th>redundant</th>\n",
       "      <td>14</td>\n",
       "      <td>1931</td>\n",
       "      <td>1945</td>\n",
       "    </tr>\n",
       "    <tr>\n",
       "      <th>not redundant</th>\n",
       "      <td>4</td>\n",
       "      <td>1763</td>\n",
       "      <td>1767</td>\n",
       "    </tr>\n",
       "  </tbody>\n",
       "</table>\n",
       "</div>"
      ],
      "text/plain": [
       "disease        ssi  no ssi  total\n",
       "exposure                         \n",
       "redundant       14    1931   1945\n",
       "not redundant    4    1763   1767"
      ]
     },
     "execution_count": 8,
     "metadata": {},
     "output_type": "execute_result"
    }
   ],
   "source": [
    "cat_data.pivot_table(\n",
    "    values='n',\n",
    "    index='exposure',\n",
    "    columns='disease',\n",
    "    aggfunc='sum',\n",
    "    margins=True,\n",
    "    margins_name='total'\n",
    ").query(\n",
    "    \"exposure != 'total'\"\n",
    ")"
   ]
  },
  {
   "cell_type": "markdown",
   "metadata": {},
   "source": [
    "### Initialise the contingency table"
   ]
  },
  {
   "cell_type": "markdown",
   "metadata": {},
   "source": [
    "Get *cat_data*[*n*] as a NumPy `NDArray` with shape `(2, 2)`."
   ]
  },
  {
   "cell_type": "code",
   "execution_count": 9,
   "metadata": {},
   "outputs": [],
   "source": [
    "data_arr = cat_data['n'].to_numpy().reshape(2, 2)"
   ]
  },
  {
   "cell_type": "markdown",
   "metadata": {},
   "source": [
    "Initialise an instance of `Table2x2` using *data_arr*."
   ]
  },
  {
   "cell_type": "code",
   "execution_count": 10,
   "metadata": {},
   "outputs": [
    {
     "name": "stdout",
     "output_type": "stream",
     "text": [
      "A 2x2 contingency table with counts:\n",
      "[[  14. 1931.]\n",
      " [   4. 1763.]]\n"
     ]
    }
   ],
   "source": [
    "ctable = sm.stats.Table2x2(data_arr)\n",
    "print(ctable)"
   ]
  },
  {
   "cell_type": "markdown",
   "metadata": {},
   "source": [
    "### Measures of association"
   ]
  },
  {
   "cell_type": "markdown",
   "metadata": {},
   "source": [
    "Return point and interval estimates of the odds ratio."
   ]
  },
  {
   "cell_type": "code",
   "execution_count": 11,
   "metadata": {},
   "outputs": [
    {
     "data": {
      "text/plain": [
       "point    3.195495\n",
       "lcb      1.049877\n",
       "ucb      9.726081\n",
       "Name: odds ratio, dtype: float64"
      ]
     },
     "execution_count": 11,
     "metadata": {},
     "output_type": "execute_result"
    }
   ],
   "source": [
    "pd.Series(\n",
    "    data=[ctable.oddsratio,\n",
    "          ctable.oddsratio_confint()[0],\n",
    "          ctable.oddsratio_confint()[1]],\n",
    "    index=['point', 'lcb', 'ucb'],\n",
    "    name='odds ratio'\n",
    ")"
   ]
  },
  {
   "cell_type": "markdown",
   "metadata": {},
   "source": [
    "Return point and interval estimates of the relative risk."
   ]
  },
  {
   "cell_type": "code",
   "execution_count": 12,
   "metadata": {},
   "outputs": [
    {
     "data": {
      "text/plain": [
       "point    3.179692\n",
       "lcb      1.048602\n",
       "ucb      9.641829\n",
       "Name: relative risk, dtype: float64"
      ]
     },
     "execution_count": 12,
     "metadata": {},
     "output_type": "execute_result"
    }
   ],
   "source": [
    "pd.Series(\n",
    "    data=[ctable.riskratio,\n",
    "          ctable.riskratio_confint()[0],\n",
    "          ctable.riskratio_confint()[1]],\n",
    "    index=['point', 'lcb', 'ucb'],\n",
    "    name='relative risk'\n",
    ")"
   ]
  },
  {
   "cell_type": "markdown",
   "metadata": {},
   "source": [
    "### Chi-squared test for no association"
   ]
  },
  {
   "cell_type": "markdown",
   "metadata": {},
   "source": [
    "Return the expected frequencies under the null hypothesis of no association."
   ]
  },
  {
   "cell_type": "code",
   "execution_count": 13,
   "metadata": {},
   "outputs": [
    {
     "data": {
      "text/plain": [
       "array([[   9.43157328, 1935.56842672],\n",
       "       [   8.56842672, 1758.43157328]])"
      ]
     },
     "execution_count": 13,
     "metadata": {},
     "output_type": "execute_result"
    }
   ],
   "source": [
    "ctable.fittedvalues"
   ]
  },
  {
   "cell_type": "markdown",
   "metadata": {},
   "source": [
    "Return the differences between the observed and expected frequencies."
   ]
  },
  {
   "cell_type": "code",
   "execution_count": 14,
   "metadata": {},
   "outputs": [
    {
     "data": {
      "text/plain": [
       "array([[ 4.56842672, -4.56842672],\n",
       "       [-4.56842672,  4.56842672]])"
      ]
     },
     "execution_count": 14,
     "metadata": {},
     "output_type": "execute_result"
    }
   ],
   "source": [
    "data_arr - ctable.fittedvalues"
   ]
  },
  {
   "cell_type": "markdown",
   "metadata": {},
   "source": [
    "Return the contributions to the chi-squared test statistic."
   ]
  },
  {
   "cell_type": "code",
   "execution_count": 15,
   "metadata": {},
   "outputs": [
    {
     "data": {
      "text/plain": [
       "array([[2.21283577, 0.01078263],\n",
       "       [2.43574736, 0.01186883]])"
      ]
     },
     "execution_count": 15,
     "metadata": {},
     "output_type": "execute_result"
    }
   ],
   "source": [
    "ctable.chi2_contribs"
   ]
  },
  {
   "cell_type": "markdown",
   "metadata": {},
   "source": [
    "Return the results of the chi-squared test.[^5]"
   ]
  },
  {
   "cell_type": "code",
   "execution_count": 16,
   "metadata": {},
   "outputs": [
    {
     "data": {
      "text/plain": [
       "statistc    4.671235\n",
       "pvalue      0.030672\n",
       "df                 1\n",
       "Name: chi-squared test, dtype: object"
      ]
     },
     "execution_count": 16,
     "metadata": {},
     "output_type": "execute_result"
    }
   ],
   "source": [
    "_res = ctable.test_nominal_association()\n",
    "pd.Series(\n",
    "    data=[_res.statistic, _res.pvalue, int(_res.df)],\n",
    "    index=['statistc', 'pvalue', 'df'],\n",
    "    name='chi-squared test',\n",
    "    dtype=object\n",
    ")"
   ]
  },
  {
   "cell_type": "markdown",
   "metadata": {},
   "source": [
    "### Fisher's exact test\n",
    "\n",
    "Return the results of Fisher's exact test."
   ]
  },
  {
   "cell_type": "code",
   "execution_count": 17,
   "metadata": {},
   "outputs": [
    {
     "data": {
      "text/plain": [
       "pvalue    0.033877\n",
       "Name: fishers exact, dtype: float64"
      ]
     },
     "execution_count": 17,
     "metadata": {},
     "output_type": "execute_result"
    }
   ],
   "source": [
    "_, _pvalue = st.fisher_exact(ctable.table)\n",
    "pd.Series(\n",
    "    data=_pvalue,\n",
    "    index=['pvalue'],\n",
    "    name='fisher''s exact'\n",
    ")"
   ]
  },
  {
   "cell_type": "markdown",
   "metadata": {},
   "source": [
    "## References\n",
    "\n",
    "Vera Keefe, Papaarangi Reid, Clint Ormsby, Bridget Robson, Gordon Purdie, Joanne Baxter, Ngäti Kahungunu Iwi Incorporated, Serious health events following involuntary job loss in New Zealand meat processing workers, *International Journal of Epidemiology*, Volume 31, Issue 6, December 2002, Pages 1155–1161, https://doi.org/10.1093/ije/31.6.1155"
   ]
  },
  {
   "cell_type": "code",
   "execution_count": 18,
   "metadata": {},
   "outputs": [
    {
     "name": "stdout",
     "output_type": "stream",
     "text": [
      "statsmodels: 0.13.2\n",
      "numpy      : 1.23.2\n",
      "requests   : 2.28.1\n",
      "scipy      : 1.9.0\n",
      "pandas     : 1.4.3\n",
      "sys        : 3.10.6 (tags/v3.10.6:9c7b4bd, Aug  1 2022, 21:53:49) [MSC v.1932 64 bit (AMD64)]\n",
      "\n"
     ]
    }
   ],
   "source": [
    "%load_ext watermark\n",
    "%watermark --iv"
   ]
  },
  {
   "cell_type": "markdown",
   "metadata": {},
   "source": [
    "[^1]: See [statsmodels.stats.contingency_tables.Table2x2](https://www.statsmodels.org/stable/generated/statsmodels.stats.contingency_tables.Table2x2.html)\n",
    "[^2]: Odds ratio and relative risk.\n",
    "[^3]: Technically this is not needed, given all expected values are greater than five, but we include it for completeness.\n",
    "[^4]: There is no version of Fisher's exact test in StatsModels, so we use SciPy instead. See [scipy.stats.fisher_exact](https://docs.scipy.org/doc/scipy/reference/generated/scipy.stats.fisher_exact.html)\n",
    "[^5]: We pass the argument `dtype=object`, so the `Series` can handle both `float` and `int` data types.\n",
    "[^6]: See [pandas.Categorical](https://pandas.pydata.org/docs/reference/api/pandas.Categorical.html)"
   ]
  }
 ],
 "metadata": {
  "kernelspec": {
   "display_name": "lr_stats",
   "language": "python",
   "name": "lr_stats"
  },
  "language_info": {
   "codemirror_mode": {
    "name": "ipython",
    "version": 3
   },
   "file_extension": ".py",
   "mimetype": "text/x-python",
   "name": "python",
   "nbconvert_exporter": "python",
   "pygments_lexer": "ipython3",
   "version": "3.10.6"
  },
  "toc-autonumbering": false,
  "vscode": {
   "interpreter": {
    "hash": "1f255b0907b4f1c138efb54996736946dba3a3dfe1a00c362b874b4f63d8edc0"
   }
  }
 },
 "nbformat": 4,
 "nbformat_minor": 4
}
