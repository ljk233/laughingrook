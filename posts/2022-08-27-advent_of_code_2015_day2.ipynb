{
 "cells": [
  {
   "cell_type": "raw",
   "id": "4367794d",
   "metadata": {},
   "source": [
    "---\n",
    "title: Advent of Code 2015, Day 2\n",
    "author: LaughingRook\n",
    "date: 2022-05-19\n",
    "categories: [AdventOfCode]\n",
    "draft: true\n",
    "format:\n",
    "  html:\n",
    "    code-fold: false\n",
    "    code-tools: true\n",
    "---"
   ]
  },
  {
   "cell_type": "markdown",
   "id": "a3f5b9c6-8bc1-4bbf-b23a-452b4d93cafd",
   "metadata": {},
   "source": [
    "## Summary notes\n",
    "\n",
    "This is my solution to Advent of Code 2015, Day 2: *I Was Told There Would Be No Math*."
   ]
  },
  {
   "cell_type": "markdown",
   "id": "ec3862e7",
   "metadata": {},
   "source": [
    "## Dependencies"
   ]
  },
  {
   "cell_type": "code",
   "execution_count": 1,
   "id": "5ae2d97f",
   "metadata": {},
   "outputs": [],
   "source": [
    "import laughingrook as lr"
   ]
  },
  {
   "cell_type": "markdown",
   "id": "75ada2d1",
   "metadata": {},
   "source": [
    "## Functions"
   ]
  },
  {
   "cell_type": "code",
   "execution_count": 2,
   "id": "15551683",
   "metadata": {},
   "outputs": [],
   "source": [
    "def paper_needed(length: int, width: int, height: int) -> int:\n",
    "    \"\"\"Return the wrapping paper needed for a present with dims (l, w, h).\n",
    "    \"\"\"\n",
    "    planes = [(length * width), (width * height), (height * length)]\n",
    "    return min(planes) + (2 * sum(planes))"
   ]
  },
  {
   "cell_type": "code",
   "execution_count": 3,
   "id": "a02b481e",
   "metadata": {},
   "outputs": [],
   "source": [
    "def ribbon_needed(length: int, width: int, height: int) -> int:\n",
    "    \"\"\"Return the ribbon needed to cover a present with dims (l, w, h).\n",
    "    \"\"\"\n",
    "    bow = length * width * height\n",
    "    ribbon = 2 * sum(sorted([length, width, height])[:2])\n",
    "    return bow + ribbon"
   ]
  },
  {
   "cell_type": "markdown",
   "id": "19ed37de",
   "metadata": {},
   "source": [
    "## Main"
   ]
  },
  {
   "cell_type": "markdown",
   "id": "cb8e0103-e47d-47a7-b439-80ff35fbaf34",
   "metadata": {},
   "source": [
    "### Load the input"
   ]
  },
  {
   "cell_type": "code",
   "execution_count": 4,
   "id": "57e812e4",
   "metadata": {},
   "outputs": [
    {
     "name": "stdout",
     "output_type": "stream",
     "text": [
      "file was cached.\n",
      "lines = ['4x23x21', '22x29x19', '11x4x11', '8x10x5', '24x18x16']\n"
     ]
    }
   ],
   "source": [
    "lines = lr.datasets.get_advent_input(2015, 2)\n",
    "print(f\"lines = {lines[:5]}\")"
   ]
  },
  {
   "cell_type": "markdown",
   "id": "993d24d9-eb02-422c-93b4-16c29f2dbb0f",
   "metadata": {},
   "source": [
    "### Transform the input"
   ]
  },
  {
   "cell_type": "code",
   "execution_count": 5,
   "id": "088d6768-d486-4535-b17b-327b156f876d",
   "metadata": {},
   "outputs": [
    {
     "name": "stdout",
     "output_type": "stream",
     "text": [
      "pdims = [[4, 23, 21], [22, 29, 19], [11, 4, 11], [8, 10, 5], [24, 18, 16]]\n"
     ]
    }
   ],
   "source": [
    "llines = (line.split('x') for line in lines)\n",
    "pdims = [[int(x) for x in lline] for lline in llines]\n",
    "print(f\"pdims = {pdims[:5]}\")"
   ]
  },
  {
   "cell_type": "markdown",
   "id": "316c8a99",
   "metadata": {},
   "source": [
    "### Part 1"
   ]
  },
  {
   "cell_type": "code",
   "execution_count": 6,
   "id": "6a75c2a4",
   "metadata": {},
   "outputs": [
    {
     "name": "stdout",
     "output_type": "stream",
     "text": [
      "Solution = 1598415\n"
     ]
    }
   ],
   "source": [
    "print(f\"Solution = {sum(paper_needed(l, w, h) for (l, w, h) in pdims)}\")"
   ]
  },
  {
   "cell_type": "markdown",
   "id": "2efc596d",
   "metadata": {},
   "source": [
    "### Part 2"
   ]
  },
  {
   "cell_type": "code",
   "execution_count": 7,
   "id": "79a94b1b",
   "metadata": {},
   "outputs": [
    {
     "name": "stdout",
     "output_type": "stream",
     "text": [
      "Solution = 3812909\n"
     ]
    }
   ],
   "source": [
    "print(f\"Solution = {sum(ribbon_needed(l, w, h) for (l, w, h) in pdims)}\")"
   ]
  },
  {
   "cell_type": "markdown",
   "id": "341869b5",
   "metadata": {},
   "source": [
    "### Performance"
   ]
  },
  {
   "cell_type": "code",
   "execution_count": 8,
   "id": "d781c69a",
   "metadata": {},
   "outputs": [
    {
     "name": "stdout",
     "output_type": "stream",
     "text": [
      "Part 1 =\n",
      "433 µs ± 2.7 µs per loop (mean ± std. dev. of 7 runs, 1,000 loops each)\n",
      "Part 2 =\n",
      "468 µs ± 2.19 µs per loop (mean ± std. dev. of 7 runs, 1,000 loops each)\n"
     ]
    }
   ],
   "source": [
    "print('Part 1 =')\n",
    "%timeit sum(paper_needed(l, w, h) for (l, w, h) in pdims)\n",
    "print('Part 2 =')\n",
    "%timeit sum(ribbon_needed(l, w, h) for (l, w, h) in pdims)"
   ]
  }
 ],
 "metadata": {
  "kernelspec": {
   "display_name": "laughingrook",
   "language": "python",
   "name": "laughingrook"
  },
  "language_info": {
   "codemirror_mode": {
    "name": "ipython",
    "version": 3
   },
   "file_extension": ".py",
   "mimetype": "text/x-python",
   "name": "python",
   "nbconvert_exporter": "python",
   "pygments_lexer": "ipython3",
   "version": "3.10.4"
  }
 },
 "nbformat": 4,
 "nbformat_minor": 5
}
