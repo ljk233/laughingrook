{
 "cells": [
  {
   "cell_type": "raw",
   "metadata": {},
   "source": [
    "---\n",
    "title: Travelling Salesperson Problem (Brute-force Search)\n",
    "author: LaughingRook\n",
    "date: 2022-08-25\n",
    "categories: [Algorithm, Graph]\n",
    "draft: true\n",
    "format:\n",
    "  html:\n",
    "    code-fold: false\n",
    "    code-tools: true\n",
    "---"
   ]
  },
  {
   "cell_type": "markdown",
   "metadata": {},
   "source": [
    "## Summary notes\n",
    "\n",
    "A solution to the **Travelling Salesperson Problem** using a brute-force search.\n",
    "\n",
    "The *Travelling Salesperson Problem* is defined as:\n",
    "\n",
    "> *Given a set of cities and distances between every pair of cities, the [***Travelling Salesperson***] problem is to find the shortest possible route that visits every city exactly once and returns to the starting point.*\n",
    ">\n",
    "> [Traveling Salesman Problem (TSP) Implementation](https://www.geeksforgeeks.org/traveling-salesman-problem-tsp-implementation/) (GeeksForGeeks)\n",
    "\n",
    "In this implementation, we generate permutations and check if the |*path*| < |*min path*|.\n",
    "\n",
    "We use a complete undirected graph, with each edge being assigned a random weight (representing the distance).\n",
    "\n",
    "Whilst the function works, it is unusuable when |nodes(*g*)| ≥ 11, given **P**(11, 11) = 36720000 permutations to check!"
   ]
  },
  {
   "cell_type": "markdown",
   "metadata": {},
   "source": [
    "## Dependencies"
   ]
  },
  {
   "cell_type": "code",
   "execution_count": 1,
   "metadata": {},
   "outputs": [],
   "source": [
    "import random as rand\n",
    "import math\n",
    "import itertools as it\n",
    "import networkx as nx\n",
    "%load_ext watermark"
   ]
  },
  {
   "cell_type": "markdown",
   "metadata": {},
   "source": [
    "## Function"
   ]
  },
  {
   "cell_type": "code",
   "execution_count": 2,
   "metadata": {},
   "outputs": [],
   "source": [
    "def bruteforce_tsp(G: nx.Graph, start: object) -> float | int:\n",
    "    \"\"\"Return the shortest route that visits every city exactly once and\n",
    "    ends back at the start.\n",
    "\n",
    "    Solves the travelling salesperson with a brute-force search using\n",
    "    permutations.\n",
    "\n",
    "    Preconditions:\n",
    "    - G is a complete weighted graph\n",
    "    - start in G\n",
    "    - WG[u, v]['weight'] is the distance u -> v\n",
    "    \"\"\"\n",
    "    neighbours = set((node for node in G.nodes if node != start))\n",
    "    min_dist = math.inf\n",
    "    for path in it.permutations(neighbours):\n",
    "        u, dist = start, 0\n",
    "        for v in path:\n",
    "            dist += G.edges[u, v]['weight']\n",
    "            u = v\n",
    "        min_dist = min(min_dist, dist + G.edges[u, start]['weight'])\n",
    "\n",
    "    return min_dist"
   ]
  },
  {
   "cell_type": "markdown",
   "metadata": {},
   "source": [
    "## Main\n",
    "\n",
    "### Initialise the graph\n",
    "\n",
    "We initialise a complete weighted undirected graph with 5 nodes."
   ]
  },
  {
   "cell_type": "code",
   "execution_count": 3,
   "metadata": {},
   "outputs": [
    {
     "name": "stdout",
     "output_type": "stream",
     "text": [
      "g = Graph with 5 nodes and 10 edges\n"
     ]
    }
   ],
   "source": [
    "cg = nx.complete_graph(['origin', 'a', 'b', 'c', 'd'])\n",
    "g = nx.Graph((u, v, {'weight': rand.randint(1, 10)}) for u, v in cg.edges)\n",
    "print(f\"g = {g}\")"
   ]
  },
  {
   "cell_type": "markdown",
   "metadata": {},
   "source": [
    "### Find the shortest path from the origin"
   ]
  },
  {
   "cell_type": "code",
   "execution_count": 4,
   "metadata": {},
   "outputs": [
    {
     "name": "stdout",
     "output_type": "stream",
     "text": [
      "Shortest path from the origin = 31\n"
     ]
    }
   ],
   "source": [
    "print(f\"Shortest path from the origin = {bruteforce_tsp(g, 'origin')}\")"
   ]
  },
  {
   "cell_type": "markdown",
   "metadata": {},
   "source": [
    "### Check the performance"
   ]
  },
  {
   "cell_type": "code",
   "execution_count": 5,
   "metadata": {},
   "outputs": [
    {
     "name": "stdout",
     "output_type": "stream",
     "text": [
      "|nodes(g)| = 4\n",
      "16.2 µs ± 86 ns per loop (mean ± std. dev. of 7 runs, 100,000 loops each)\n",
      "|nodes(g)| = 6\n",
      "442 µs ± 890 ns per loop (mean ± std. dev. of 7 runs, 1,000 loops each)\n",
      "|nodes(g)| = 8\n",
      "24.4 ms ± 126 µs per loop (mean ± std. dev. of 7 runs, 10 loops each)\n",
      "|nodes(g)| = 10\n",
      "2.18 s ± 18.1 ms per loop (mean ± std. dev. of 7 runs, 1 loop each)\n"
     ]
    }
   ],
   "source": [
    "for n in [4, 6, 8, 10]:\n",
    "    print(f\"|nodes(g)| = {n}\")\n",
    "    cg = nx.complete_graph(n)\n",
    "    g = nx.Graph((u, v, {'weight': rand.randint(1, 10)}) for u, v in cg.edges)\n",
    "    %timeit bruteforce_tsp(g, 1)"
   ]
  },
  {
   "cell_type": "code",
   "execution_count": 2,
   "metadata": {},
   "outputs": [
    {
     "name": "stdout",
     "output_type": "stream",
     "text": [
      "networkx: 2.8.6\n",
      "sys     : 3.10.6 (tags/v3.10.6:9c7b4bd, Aug  1 2022, 21:53:49) [MSC v.1932 64 bit (AMD64)]\n",
      "\n"
     ]
    }
   ],
   "source": [
    "%watermark --iversions"
   ]
  }
 ],
 "metadata": {
  "kernelspec": {
   "display_name": "lr_compsci",
   "language": "python",
   "name": "lr_compsci"
  },
  "language_info": {
   "codemirror_mode": {
    "name": "ipython",
    "version": 3
   },
   "file_extension": ".py",
   "mimetype": "text/x-python",
   "name": "python",
   "nbconvert_exporter": "python",
   "pygments_lexer": "ipython3",
   "version": "3.10.6"
  },
  "vscode": {
   "interpreter": {
    "hash": "a68adfb4704822cfa48b801e8085761e09ea1bdf6f9740ae22fa7c3a7495d3d0"
   }
  }
 },
 "nbformat": 4,
 "nbformat_minor": 4
}
