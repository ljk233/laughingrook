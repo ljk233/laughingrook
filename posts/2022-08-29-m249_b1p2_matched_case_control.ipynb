{
 "cells": [
  {
   "cell_type": "raw",
   "metadata": {},
   "source": [
    "---\n",
    "title: Matched Case-Control Studies\n",
    "date: 2022-08-29\n",
    "categories: [M249, Statistics]\n",
    "draft: false\n",
    "---"
   ]
  },
  {
   "cell_type": "markdown",
   "metadata": {},
   "source": [
    "## Summary notes\n",
    "\n",
    "Perform an epidemiological study on the results of a 1-1 matched case-control study.\n",
    "\n",
    "Data was taken from a case-control study undertaken to identify some of the riskfactors associated with death during heatwave in Chicago that occured from 12 July 1995 to 16 July 1995.\n",
    "Cases were persons aged 24+ years who died between 14-17 July 1995, with a cause mentioned on the death certificate that was possibly heat related. For each case, a matched control was selected of the same age and living in the same neighbourhood.\n",
    "The risk factor of interest was participation in group activities involving social interactions.\n",
    "(Semenza, Rubin, Falter, *et al* (1996))\n",
    "\n",
    "The results were as follows.\n",
    "\n",
    "| Cases / Control             | Participated (+) | Did not participate (-) |\n",
    "| --------------------------- | ---------------: | ----------------------: |\n",
    "| **Participated (+)**        | 77               | 63                      |\n",
    "| **Did not participate (-)** | 90               | 74                      |\n",
    "\n",
    "A function was defined to return the Mantel-Haenszel odds ratio.\n",
    "The results were initialised as a NumPy `array`.[^2]\n",
    "A Mantel-Haenszel odds ratio for the association between participation in group activities and dying of heat-related disease was calculated, including a 95% confidence interval estimate.\n",
    "Finally, McNemar's test[^1] was performed to test the null hypothesis of no association between participation in group activities and dying of heat-related disease.\n",
    "\n",
    "These topics are covered by M249 Book 1, Part 2."
   ]
  },
  {
   "cell_type": "markdown",
   "metadata": {},
   "source": [
    "## Dependencies"
   ]
  },
  {
   "cell_type": "code",
   "execution_count": 1,
   "metadata": {},
   "outputs": [],
   "source": [
    "import numpy as np\n",
    "import pandas as pd\n",
    "from scipy import stats as st\n",
    "from statsmodels import api as sm\n",
    "from numpy.typing import ArrayLike"
   ]
  },
  {
   "cell_type": "markdown",
   "metadata": {},
   "source": [
    "## Constants\n",
    "\n",
    "These are the results from the study."
   ]
  },
  {
   "cell_type": "code",
   "execution_count": 2,
   "metadata": {},
   "outputs": [],
   "source": [
    "OBS = np.array([[77, 63], [90, 74]])"
   ]
  },
  {
   "cell_type": "markdown",
   "metadata": {},
   "source": [
    "## Functions"
   ]
  },
  {
   "cell_type": "code",
   "execution_count": 3,
   "metadata": {},
   "outputs": [],
   "source": [
    "def mh_odds_ratio(ctable: ArrayLike, alpha: float = 0.05) -> tuple:\n",
    "    \"\"\"Return point and 100(1-alpha)% intervel estimates of the\n",
    "    Mantel-Haenszel odds ratio.\n",
    "\n",
    "    Pre-conditions:\n",
    "    - arr represents the results of a 1-1 matched case-control study\n",
    "        - shape(arr) = 2, 2\n",
    "        - rows represent cases, columns represent controls\n",
    "        - row 0, col 0 represent (+)\n",
    "        - row 1, col 1 represent (-)\n",
    "    - 0 < alpha < 1\n",
    "\n",
    "    Post-conditions:\n",
    "    - tuple of float estimates, (point, lcb, ucb)\n",
    "    \"\"\"\n",
    "\n",
    "    f, g = ctable[0, 1], ctable[1, 0]\n",
    "    ste = (st.norm.ppf(1 - (alpha/2)) * np.sqrt(1/f + 1/g))\n",
    "    return (\n",
    "        f / g,\n",
    "        f / g * np.exp(-ste),\n",
    "        f / g * np.exp(ste)\n",
    "    )"
   ]
  },
  {
   "cell_type": "markdown",
   "metadata": {},
   "source": [
    "## Main"
   ]
  },
  {
   "cell_type": "markdown",
   "metadata": {},
   "source": [
    "### Matel-Haenszel odds ratio"
   ]
  },
  {
   "cell_type": "code",
   "execution_count": 4,
   "metadata": {},
   "outputs": [
    {
     "data": {
      "text/plain": [
       "point    0.700000\n",
       "lcb      0.507309\n",
       "ucb      0.965881\n",
       "Name: mantel-haenszel odds ratio, dtype: float64"
      ]
     },
     "execution_count": 4,
     "metadata": {},
     "output_type": "execute_result"
    }
   ],
   "source": [
    "res = mh_odds_ratio(OBS)\n",
    "pd.Series(\n",
    "    data=[res[0], res[1], res[2]],\n",
    "    index=['point', 'lcb', 'ucb'],\n",
    "    name='mantel-haenszel odds ratio'\n",
    ")"
   ]
  },
  {
   "cell_type": "markdown",
   "metadata": {},
   "source": [
    "### McNemar's test"
   ]
  },
  {
   "cell_type": "code",
   "execution_count": 5,
   "metadata": {},
   "outputs": [
    {
     "data": {
      "text/plain": [
       "statistc    4.418301\n",
       "pvalue      0.035555\n",
       "Name: mcnemars test, dtype: float64"
      ]
     },
     "execution_count": 5,
     "metadata": {},
     "output_type": "execute_result"
    }
   ],
   "source": [
    "res = sm.stats.mcnemar(OBS, exact=False)\n",
    "pd.Series(\n",
    "    data=[res.statistic, res.pvalue],\n",
    "    index=['statistc', 'pvalue'],\n",
    "    name='mcnemar''s test'\n",
    ")"
   ]
  },
  {
   "cell_type": "markdown",
   "metadata": {},
   "source": [
    "## References\n",
    "\n",
    "Semenza, J. C., Rubin, C. H., Falter, K. H., Selanikio, J. D., Flanders, W. D., Howe, H. L., & Wilhelm, J. L. (1996). Heat-related deaths during the July 1995 heat wave in Chicago. New England journal of medicine, **335**, 84-90.\n",
    "[https://doi.org/10.1056/NEJM199607113350203](https://doi.org/10.1056/NEJM199607113350203)."
   ]
  },
  {
   "cell_type": "markdown",
   "metadata": {},
   "source": [
    "[^1]: See [statsmodels.stats.contingency_tables.mcnemar](https://www.statsmodels.org/dev/generated/statsmodels.stats.contingency_tables.mcnemar.html)\n",
    "[^2]: We did try to represent the data using StatsModels's `Table2x2` class, but unfortunately the `mcnemar` function does not support an instance of `Table2x2`"
   ]
  },
  {
   "cell_type": "code",
   "execution_count": 6,
   "metadata": {},
   "outputs": [
    {
     "name": "stdout",
     "output_type": "stream",
     "text": [
      "scipy      : 1.9.0\n",
      "pandas     : 1.4.3\n",
      "sys        : 3.10.6 (tags/v3.10.6:9c7b4bd, Aug  1 2022, 21:53:49) [MSC v.1932 64 bit (AMD64)]\n",
      "numpy      : 1.23.2\n",
      "statsmodels: 0.13.2\n",
      "\n"
     ]
    }
   ],
   "source": [
    "%load_ext watermark\n",
    "%watermark --iversions"
   ]
  }
 ],
 "metadata": {
  "kernelspec": {
   "display_name": "lr_stats",
   "language": "python",
   "name": "lr_stats"
  },
  "language_info": {
   "codemirror_mode": {
    "name": "ipython",
    "version": 3
   },
   "file_extension": ".py",
   "mimetype": "text/x-python",
   "name": "python",
   "nbconvert_exporter": "python",
   "pygments_lexer": "ipython3",
   "version": "3.10.6"
  },
  "toc-autonumbering": false,
  "vscode": {
   "interpreter": {
    "hash": "1f255b0907b4f1c138efb54996736946dba3a3dfe1a00c362b874b4f63d8edc0"
   }
  }
 },
 "nbformat": 4,
 "nbformat_minor": 4
}
