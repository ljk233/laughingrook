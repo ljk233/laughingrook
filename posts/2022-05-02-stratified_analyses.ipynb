{
 "cells": [
  {
   "cell_type": "raw",
   "metadata": {},
   "source": [
    "---\n",
    "title: \"Stratified Analyses\"\n",
    "author: \"LaughingRook\"\n",
    "date: \"2022-05-02\"\n",
    "categories: [M249, Statistics]\n",
    "format:\n",
    "  html:\n",
    "    code-fold: false\n",
    "---"
   ]
  },
  {
   "cell_type": "markdown",
   "metadata": {},
   "source": [
    "## Summary\n",
    "\n",
    "Perform a stratified analyses on the results of a stratified case-control study.\n",
    "\n",
    "Data was taken from investigating the possible association between alcohol consumption and fatal car accidents in New York (J.R. McCarroll and W. Haddon Jr, 1962).\n",
    "The data was stratified by marital status, which was believed to be a possible confounder.\n",
    "The exposure was blood alcohol level of 100mg% or greater.\n",
    "Cases were drivers who were killed in car accidents for which they were considered to be responsible, and controls were selected drivers passing the locations where the accidents of the cases occurred, at the same time of day and on the same day of the week.\n",
    "\n",
    "The results were as follows.\n",
    "\n",
    "| Married             | cases (+)   | controls (-) |\n",
    "| ------------------- | ----------: | -----------: |\n",
    "| **exposed (+)**     | 4           | 5            |\n",
    "| **not exposed (-)** | 5           | 103          |\n",
    "\n",
    "| Not married         | cases (+)   | controls (-) |\n",
    "| ------------------- | ----------: | -----------: |\n",
    "| **exposed (+)**     | 10          | 3            |\n",
    "| **not exposed (-)** | 5           | 43           |\n",
    "\n",
    "The tables were initialised as two NumPy `NDArrays`, one for each stratum/level.\n",
    "The analysis was performed using two classes from StatsModels: `StratifiedTable`[^1] and `Table2x2`.[^2]\n",
    "The results were outputted to either a Pandas `Series` or `DataFrame`, depending on the dimensionality of the result.\n",
    "(This is optional, and done so to provide a standardised output.)\n",
    "\n",
    "These topics are covered in M249, Book 1, Part 2."
   ]
  },
  {
   "cell_type": "markdown",
   "metadata": {},
   "source": [
    "## Dependencies"
   ]
  },
  {
   "cell_type": "code",
   "execution_count": 1,
   "metadata": {},
   "outputs": [],
   "source": [
    "import numpy as np\n",
    "import pandas as pd\n",
    "from statsmodels import api as sm"
   ]
  },
  {
   "cell_type": "markdown",
   "metadata": {},
   "source": [
    "## Global constants\n",
    "\n",
    "These are the results from the study."
   ]
  },
  {
   "cell_type": "code",
   "execution_count": 2,
   "metadata": {},
   "outputs": [],
   "source": [
    "MARRIED = np.array([[4, 5], [5, 103]])\n",
    "NOT_MARRIED = np.array([[10, 3], [5, 43]])"
   ]
  },
  {
   "cell_type": "markdown",
   "metadata": {},
   "source": [
    "## Main"
   ]
  },
  {
   "cell_type": "markdown",
   "metadata": {
    "tags": []
   },
   "source": [
    "### Initialise the contingency tables"
   ]
  },
  {
   "cell_type": "code",
   "execution_count": 3,
   "metadata": {},
   "outputs": [
    {
     "data": {
      "text/plain": [
       "array([[[  4.,  10.],\n",
       "        [  5.,   3.]],\n",
       "\n",
       "       [[  5.,   5.],\n",
       "        [103.,  43.]]])"
      ]
     },
     "execution_count": 3,
     "metadata": {},
     "output_type": "execute_result"
    }
   ],
   "source": [
    "ctables = sm.stats.StratifiedTable([MARRIED, NOT_MARRIED])\n",
    "ctables.table"
   ]
  },
  {
   "cell_type": "markdown",
   "metadata": {},
   "source": [
    "### Odds ratios"
   ]
  },
  {
   "cell_type": "markdown",
   "metadata": {
    "tags": []
   },
   "source": [
    "#### Stratum-specific odds ratios "
   ]
  },
  {
   "cell_type": "code",
   "execution_count": 4,
   "metadata": {},
   "outputs": [
    {
     "data": {
      "text/html": [
       "<div>\n",
       "<style scoped>\n",
       "    .dataframe tbody tr th:only-of-type {\n",
       "        vertical-align: middle;\n",
       "    }\n",
       "\n",
       "    .dataframe tbody tr th {\n",
       "        vertical-align: top;\n",
       "    }\n",
       "\n",
       "    .dataframe thead th {\n",
       "        text-align: right;\n",
       "    }\n",
       "</style>\n",
       "<table border=\"1\" class=\"dataframe\">\n",
       "  <thead>\n",
       "    <tr style=\"text-align: right;\">\n",
       "      <th></th>\n",
       "      <th>odds ratio</th>\n",
       "      <th>lcb</th>\n",
       "      <th>ucb</th>\n",
       "    </tr>\n",
       "  </thead>\n",
       "  <tbody>\n",
       "    <tr>\n",
       "      <th>married</th>\n",
       "      <td>16.480000</td>\n",
       "      <td>3.354211</td>\n",
       "      <td>80.969975</td>\n",
       "    </tr>\n",
       "    <tr>\n",
       "      <th>not married</th>\n",
       "      <td>28.666667</td>\n",
       "      <td>5.856619</td>\n",
       "      <td>140.316070</td>\n",
       "    </tr>\n",
       "  </tbody>\n",
       "</table>\n",
       "</div>"
      ],
      "text/plain": [
       "             odds ratio       lcb         ucb\n",
       "married       16.480000  3.354211   80.969975\n",
       "not married   28.666667  5.856619  140.316070"
      ]
     },
     "execution_count": 4,
     "metadata": {},
     "output_type": "execute_result"
    }
   ],
   "source": [
    "res = pd.DataFrame(index=['odds ratio', 'lcb', 'ucb'])\n",
    "for level, arr in zip(['married', 'not married'], [MARRIED, NOT_MARRIED]):\n",
    "    ctable = sm.stats.Table2x2(arr)\n",
    "    res[level] = (ctable.oddsratio,\n",
    "                  ctable.oddsratio_confint()[0],\n",
    "                  ctable.oddsratio_confint()[1])\n",
    "res.T"
   ]
  },
  {
   "cell_type": "markdown",
   "metadata": {
    "tags": []
   },
   "source": [
    "#### Crude odds ratio"
   ]
  },
  {
   "cell_type": "code",
   "execution_count": 5,
   "metadata": {},
   "outputs": [
    {
     "data": {
      "text/plain": [
       "point    25.550000\n",
       "lcb       8.682174\n",
       "ucb      75.188827\n",
       "Name: crude odds ratio, dtype: float64"
      ]
     },
     "execution_count": 5,
     "metadata": {},
     "output_type": "execute_result"
    }
   ],
   "source": [
    "ctable = sm.stats.Table2x2(MARRIED + NOT_MARRIED)\n",
    "pd.Series(\n",
    "    data={\n",
    "        'point': ctable.oddsratio,\n",
    "        'lcb': ctable.oddsratio_confint()[0],\n",
    "        'ucb': ctable.oddsratio_confint()[1]\n",
    "     },\n",
    "    name='crude odds ratio'\n",
    ")"
   ]
  },
  {
   "cell_type": "markdown",
   "metadata": {
    "tags": []
   },
   "source": [
    "#### Adjusted odds ratio (Mantel–Haenszel odds ratio)"
   ]
  },
  {
   "cell_type": "code",
   "execution_count": 6,
   "metadata": {},
   "outputs": [
    {
     "data": {
      "text/plain": [
       "point    23.000610\n",
       "lcb       7.465154\n",
       "ucb      70.866332\n",
       "Name: Mantel-Haeszel odds ratio, dtype: float64"
      ]
     },
     "execution_count": 6,
     "metadata": {},
     "output_type": "execute_result"
    }
   ],
   "source": [
    "pd.Series(\n",
    "    data={\n",
    "        'point': ctables.oddsratio_pooled,\n",
    "        'lcb': ctables.oddsratio_pooled_confint()[0],\n",
    "        'ucb': ctables.oddsratio_pooled_confint()[1]\n",
    "     },\n",
    "    name='Mantel-Haeszel odds ratio'\n",
    ")"
   ]
  },
  {
   "cell_type": "markdown",
   "metadata": {},
   "source": [
    "### Test for no association\n",
    "\n",
    "This is the Mantel–Haenszel test."
   ]
  },
  {
   "cell_type": "code",
   "execution_count": 7,
   "metadata": {},
   "outputs": [
    {
     "data": {
      "text/plain": [
       "statistic    36.60431\n",
       "pval          0.00000\n",
       "Name: test for no association, dtype: float64"
      ]
     },
     "execution_count": 7,
     "metadata": {},
     "output_type": "execute_result"
    }
   ],
   "source": [
    "res = ctables.test_null_odds(correction=True)\n",
    "pd.Series(\n",
    "    data={'statistic': res.statistic, 'pval': res.pvalue},\n",
    "    name='test for no association'\n",
    ").round(5)"
   ]
  },
  {
   "cell_type": "markdown",
   "metadata": {},
   "source": [
    "### Test for homogeneity\n",
    "\n",
    "This is Tarone's test."
   ]
  },
  {
   "cell_type": "code",
   "execution_count": 8,
   "metadata": {},
   "outputs": [
    {
     "data": {
      "text/plain": [
       "statistic    0.23557\n",
       "pval         0.62742\n",
       "Name: test for homogeneity, dtype: float64"
      ]
     },
     "execution_count": 8,
     "metadata": {},
     "output_type": "execute_result"
    }
   ],
   "source": [
    "res = ctables.test_equal_odds(adjust=True)\n",
    "pd.Series(\n",
    "    data={'statistic': res.statistic.round(5), 'pval': res.pvalue.round(5)},\n",
    "    name='test for homogeneity'\n",
    ")"
   ]
  },
  {
   "cell_type": "markdown",
   "metadata": {},
   "source": [
    "## References\n",
    "\n",
    "McCarroll, J.R. and Haddon Jr, W., 1962. A controlled study of fatal automobile accidents in New York City. Journal of chronic diseases, 15(8), pp.811-826."
   ]
  },
  {
   "cell_type": "markdown",
   "metadata": {},
   "source": [
    "## Footnotes\n",
    "\n",
    "[^1]: [statsmodels.stats.contingency_tables.StratifiedTable](https://www.statsmodels.org/v0.13.0/generated/statsmodels.stats.contingency_tables.StratifiedTable.html#statsmodels.stats.contingency_tables.StratifiedTable)\n",
    "\n",
    "[^2]: [statsmodels.stats.contingency_tables.Table2x2](https://www.statsmodels.org/v0.13.0/generated/statsmodels.stats.contingency_tables.Table2x2.html#statsmodels.stats.contingency_tables.Table2x2)"
   ]
  }
 ],
 "metadata": {
  "interpreter": {
   "hash": "e3664f357c2b2734ea2c6777198af464a1d586bce7a4eafd7e49c68ceedc6949"
  },
  "kernelspec": {
   "display_name": "laughingrook",
   "language": "python",
   "name": "laughingrook"
  },
  "language_info": {
   "codemirror_mode": {
    "name": "ipython",
    "version": 3
   },
   "file_extension": ".py",
   "mimetype": "text/x-python",
   "name": "python",
   "nbconvert_exporter": "python",
   "pygments_lexer": "ipython3",
   "version": "3.10.4"
  }
 },
 "nbformat": 4,
 "nbformat_minor": 4
}
