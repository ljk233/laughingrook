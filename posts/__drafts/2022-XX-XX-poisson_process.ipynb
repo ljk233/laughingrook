{
 "cells": [
  {
   "cell_type": "markdown",
   "id": "1e912399-aa97-4fe4-a09a-e56bc5c5c75d",
   "metadata": {},
   "source": [
    "# Poisson Processes"
   ]
  },
  {
   "cell_type": "markdown",
   "id": "049fe6df-bbcf-422d-8327-16bbc94bb869",
   "metadata": {},
   "source": [
    "## Summary\n",
    "\n",
    "The aim of this notebook is to explore if goal scoring in football can be modelled as a **Poisson process**.\n",
    "\n",
    "A *Poisson process* is....\n",
    "\n",
    "> *... [A] model for the occurrence of events in continuous time in which:*\n",
    ">\n",
    "> - *events occur singly*\n",
    "> - *the rate of occurrence of events remains constant*\n",
    "> - *the incidence of future events is independent of the past.*\n",
    ">\n",
    "> *For a Poisson process in with events occur at random rate λ:*\n",
    ">\n",
    "> - *the number of events that occur during a time interval of length **t** has a Poisson distribution with paramter λ**t***\n",
    "> - *the waiting time between successive events has an exponential distribution with parameter λ.*\n",
    ">\n",
    "> Events occurring at random and population quantiles (M248, Open University)\n"
   ]
  },
  {
   "cell_type": "markdown",
   "id": "d80a993f-28fb-455e-b33c-76ce8621aab5",
   "metadata": {},
   "source": [
    "## Dependencies"
   ]
  },
  {
   "cell_type": "code",
   "execution_count": 1,
   "id": "7d952404-41fc-4df5-95d4-4e51700b5b88",
   "metadata": {},
   "outputs": [],
   "source": [
    "import os\n",
    "import requests\n",
    "from dataclasses import dataclass\n",
    "import numpy as np\n",
    "from scipy import stats as st\n",
    "import pandas as pd\n",
    "from matplotlib import pyplot as plt\n",
    "import seaborn as sns"
   ]
  },
  {
   "cell_type": "code",
   "execution_count": 2,
   "id": "cdeda8fe",
   "metadata": {},
   "outputs": [],
   "source": [
    "sns.set_theme()"
   ]
  },
  {
   "cell_type": "markdown",
   "id": "38635f50-3b0e-465f-a42e-e5a7b9b943a2",
   "metadata": {},
   "source": [
    "## Classes"
   ]
  },
  {
   "cell_type": "code",
   "execution_count": 3,
   "id": "93ea758a-f907-49cb-9da3-6df05a1cc41c",
   "metadata": {},
   "outputs": [],
   "source": [
    "@dataclass(frozen=True)\n",
    "class Constants:\n",
    "    remote_path = ('https://raw.githubusercontent.com/ljk233/'\n",
    "                   + 'laughingrook-datasets/main/epl_goals/epl_1819.csv')\n",
    "    temp_dir = './__temp'\n",
    "    fname = 'epl_1819.csv'\n",
    "\n",
    "    @property\n",
    "    def local_path(self) -> str:\n",
    "        return self.temp_dir + '/' + self.fname"
   ]
  },
  {
   "cell_type": "markdown",
   "id": "05a9a8b4-cbd6-450d-9985-7f1815db568c",
   "metadata": {},
   "source": [
    "## Functions"
   ]
  },
  {
   "cell_type": "code",
   "execution_count": 4,
   "id": "84aafca6-55eb-43fc-a5a9-7873aeb36f3f",
   "metadata": {},
   "outputs": [],
   "source": [
    "def cache_data(c: Constants) -> pd.DataFrame:\n",
    "    if c.fname not in os.listdir(c.temp_dir):\n",
    "        r = requests.get(c.remote_path, allow_redirects=True)\n",
    "        open(c.local_path, 'wb').write(r.content)"
   ]
  },
  {
   "cell_type": "code",
   "execution_count": 5,
   "id": "deede712",
   "metadata": {},
   "outputs": [],
   "source": [
    "def collect_goal_timings(df: pd.DataFrame) -> pd.Series:\n",
    "    def _keep(x: str) -> bool:\n",
    "        return x != '' and \"'\" not in x and \"90\" not in x\n",
    "\n",
    "    s = df.melt(value_name='time', ignore_index=False).dropna()['time']\n",
    "    s = s.str.split(',').explode()\n",
    "    t = [idx*90 + int(t) for idx, t in zip(s.index, s.values) if _keep(t)]\n",
    "    return pd.Series(sorted(t))"
   ]
  },
  {
   "cell_type": "code",
   "execution_count": 6,
   "id": "0738648a",
   "metadata": {},
   "outputs": [],
   "source": [
    "def observed_freqs(s: pd.Series) -> pd.Series:\n",
    "    return s.to_frame().groupby(s.name).size().rename('frequency')"
   ]
  },
  {
   "cell_type": "markdown",
   "id": "1bfaa7b0-265b-4428-8384-33986ddf3414",
   "metadata": {},
   "source": [
    "## Main"
   ]
  },
  {
   "cell_type": "markdown",
   "id": "9d421fc4-67da-4271-a930-c7f37a4fda92",
   "metadata": {},
   "source": [
    "### Initialise the constants"
   ]
  },
  {
   "cell_type": "code",
   "execution_count": 7,
   "id": "4976b85e-9cea-41a1-916c-b83722d50a4f",
   "metadata": {},
   "outputs": [],
   "source": [
    "c = Constants()"
   ]
  },
  {
   "cell_type": "markdown",
   "id": "2f1f6551-f3f8-4d60-9883-073c9f6b6d42",
   "metadata": {},
   "source": [
    "### Cache data"
   ]
  },
  {
   "cell_type": "code",
   "execution_count": 8,
   "id": "b8898848-326c-41df-91aa-84ef1f37dc7d",
   "metadata": {},
   "outputs": [],
   "source": [
    "cache_data(c)"
   ]
  },
  {
   "cell_type": "markdown",
   "id": "9f53a84b-b864-48d7-a836-33af9b408eb5",
   "metadata": {},
   "source": [
    "### Initialise DataFrame"
   ]
  },
  {
   "cell_type": "code",
   "execution_count": 9,
   "id": "57115d8b-d9d7-469b-add2-ef2765c595c2",
   "metadata": {},
   "outputs": [
    {
     "name": "stdout",
     "output_type": "stream",
     "text": [
      "<class 'pandas.core.frame.DataFrame'>\n",
      "RangeIndex: 380 entries, 0 to 379\n",
      "Data columns (total 64 columns):\n",
      " #   Column                               Non-Null Count  Dtype  \n",
      "---  ------                               --------------  -----  \n",
      " 0   timestamp                            380 non-null    int64  \n",
      " 1   date_GMT                             380 non-null    object \n",
      " 2   status                               380 non-null    object \n",
      " 3   attendance                           380 non-null    int64  \n",
      " 4   home_team_name                       380 non-null    object \n",
      " 5   away_team_name                       380 non-null    object \n",
      " 6   referee                              380 non-null    object \n",
      " 7   Game Week                            380 non-null    int64  \n",
      " 8   Pre-Match PPG (Home)                 380 non-null    float64\n",
      " 9   Pre-Match PPG (Away)                 380 non-null    float64\n",
      " 10  home_ppg                             380 non-null    float64\n",
      " 11  away_ppg                             380 non-null    float64\n",
      " 12  home_team_goal_count                 380 non-null    int64  \n",
      " 13  away_team_goal_count                 380 non-null    int64  \n",
      " 14  total_goal_count                     380 non-null    int64  \n",
      " 15  total_goals_at_half_time             380 non-null    int64  \n",
      " 16  home_team_goal_count_half_time       380 non-null    int64  \n",
      " 17  away_team_goal_count_half_time       380 non-null    int64  \n",
      " 18  home_team_goal_timings               292 non-null    object \n",
      " 19  away_team_goal_timings               261 non-null    object \n",
      " 20  home_team_corner_count               380 non-null    int64  \n",
      " 21  away_team_corner_count               380 non-null    int64  \n",
      " 22  home_team_yellow_cards               380 non-null    int64  \n",
      " 23  home_team_red_cards                  380 non-null    int64  \n",
      " 24  away_team_yellow_cards               380 non-null    int64  \n",
      " 25  away_team_red_cards                  380 non-null    int64  \n",
      " 26  home_team_first_half_cards           380 non-null    int64  \n",
      " 27  home_team_second_half_cards          380 non-null    int64  \n",
      " 28  away_team_first_half_cards           380 non-null    int64  \n",
      " 29  away_team_second_half_cards          380 non-null    int64  \n",
      " 30  home_team_shots                      380 non-null    int64  \n",
      " 31  away_team_shots                      380 non-null    int64  \n",
      " 32  home_team_shots_on_target            380 non-null    int64  \n",
      " 33  away_team_shots_on_target            380 non-null    int64  \n",
      " 34  home_team_shots_off_target           380 non-null    int64  \n",
      " 35  away_team_shots_off_target           380 non-null    int64  \n",
      " 36  home_team_fouls                      380 non-null    int64  \n",
      " 37  away_team_fouls                      380 non-null    int64  \n",
      " 38  home_team_possession                 380 non-null    int64  \n",
      " 39  away_team_possession                 380 non-null    int64  \n",
      " 40  team_a_xg                            380 non-null    float64\n",
      " 41  team_b_xg                            380 non-null    float64\n",
      " 42  average_goals_per_match_pre_match    380 non-null    float64\n",
      " 43  btts_percentage_pre_match            380 non-null    int64  \n",
      " 44  over_15_percentage_pre_match         380 non-null    int64  \n",
      " 45  over_25_percentage_pre_match         380 non-null    int64  \n",
      " 46  over_35_percentage_pre_match         380 non-null    int64  \n",
      " 47  over_45_percentage_pre_match         380 non-null    int64  \n",
      " 48  over_15_HT_FHG_percentage_pre_match  380 non-null    int64  \n",
      " 49  over_05_HT_FHG_percentage_pre_match  380 non-null    int64  \n",
      " 50  over_15_2HG_percentage_pre_match     380 non-null    int64  \n",
      " 51  over_05_2HG_percentage_pre_match     380 non-null    int64  \n",
      " 52  average_corners_per_match_pre_match  380 non-null    float64\n",
      " 53  average_cards_per_match_pre_match    380 non-null    float64\n",
      " 54  odds_ft_home_team_win                380 non-null    float64\n",
      " 55  odds_ft_draw                         380 non-null    float64\n",
      " 56  odds_ft_away_team_win                380 non-null    float64\n",
      " 57  odds_ft_over15                       380 non-null    float64\n",
      " 58  odds_ft_over25                       380 non-null    float64\n",
      " 59  odds_ft_over35                       380 non-null    float64\n",
      " 60  odds_ft_over45                       380 non-null    float64\n",
      " 61  odds_btts_yes                        380 non-null    float64\n",
      " 62  odds_btts_no                         380 non-null    float64\n",
      " 63  stadium_name                         380 non-null    object \n",
      "dtypes: float64(18), int64(38), object(8)\n",
      "memory usage: 190.1+ KB\n"
     ]
    }
   ],
   "source": [
    "epl_1819 = pd.read_csv(c.local_path)\n",
    "epl_1819.info()"
   ]
  },
  {
   "cell_type": "code",
   "execution_count": 10,
   "id": "043a820d-c4be-4ca0-80b8-45bb97e32c8c",
   "metadata": {},
   "outputs": [
    {
     "data": {
      "text/html": [
       "<div>\n",
       "<style scoped>\n",
       "    .dataframe tbody tr th:only-of-type {\n",
       "        vertical-align: middle;\n",
       "    }\n",
       "\n",
       "    .dataframe tbody tr th {\n",
       "        vertical-align: top;\n",
       "    }\n",
       "\n",
       "    .dataframe thead th {\n",
       "        text-align: right;\n",
       "    }\n",
       "</style>\n",
       "<table border=\"1\" class=\"dataframe\">\n",
       "  <thead>\n",
       "    <tr style=\"text-align: right;\">\n",
       "      <th></th>\n",
       "      <th>timestamp</th>\n",
       "      <th>date_GMT</th>\n",
       "      <th>status</th>\n",
       "      <th>attendance</th>\n",
       "      <th>home_team_name</th>\n",
       "      <th>away_team_name</th>\n",
       "      <th>referee</th>\n",
       "      <th>Game Week</th>\n",
       "      <th>Pre-Match PPG (Home)</th>\n",
       "      <th>Pre-Match PPG (Away)</th>\n",
       "      <th>...</th>\n",
       "      <th>odds_ft_home_team_win</th>\n",
       "      <th>odds_ft_draw</th>\n",
       "      <th>odds_ft_away_team_win</th>\n",
       "      <th>odds_ft_over15</th>\n",
       "      <th>odds_ft_over25</th>\n",
       "      <th>odds_ft_over35</th>\n",
       "      <th>odds_ft_over45</th>\n",
       "      <th>odds_btts_yes</th>\n",
       "      <th>odds_btts_no</th>\n",
       "      <th>stadium_name</th>\n",
       "    </tr>\n",
       "  </thead>\n",
       "  <tbody>\n",
       "    <tr>\n",
       "      <th>0</th>\n",
       "      <td>1533927600</td>\n",
       "      <td>Aug 10 2018 - 7:00pm</td>\n",
       "      <td>complete</td>\n",
       "      <td>74439</td>\n",
       "      <td>Manchester United</td>\n",
       "      <td>Leicester City</td>\n",
       "      <td>Andre Marriner</td>\n",
       "      <td>1</td>\n",
       "      <td>0.0</td>\n",
       "      <td>0.0</td>\n",
       "      <td>...</td>\n",
       "      <td>1.37</td>\n",
       "      <td>4.98</td>\n",
       "      <td>9.81</td>\n",
       "      <td>1.33</td>\n",
       "      <td>2.00</td>\n",
       "      <td>3.60</td>\n",
       "      <td>7.50</td>\n",
       "      <td>2.05</td>\n",
       "      <td>1.69</td>\n",
       "      <td>Old Trafford (Manchester)</td>\n",
       "    </tr>\n",
       "    <tr>\n",
       "      <th>1</th>\n",
       "      <td>1533987000</td>\n",
       "      <td>Aug 11 2018 - 11:30am</td>\n",
       "      <td>complete</td>\n",
       "      <td>51749</td>\n",
       "      <td>Newcastle United</td>\n",
       "      <td>Tottenham Hotspur</td>\n",
       "      <td>Martin Atkinson</td>\n",
       "      <td>1</td>\n",
       "      <td>0.0</td>\n",
       "      <td>0.0</td>\n",
       "      <td>...</td>\n",
       "      <td>4.51</td>\n",
       "      <td>3.77</td>\n",
       "      <td>1.84</td>\n",
       "      <td>1.31</td>\n",
       "      <td>1.95</td>\n",
       "      <td>3.50</td>\n",
       "      <td>5.75</td>\n",
       "      <td>1.83</td>\n",
       "      <td>1.87</td>\n",
       "      <td>St. James' Park (Newcastle upon Tyne)</td>\n",
       "    </tr>\n",
       "    <tr>\n",
       "      <th>2</th>\n",
       "      <td>1533996000</td>\n",
       "      <td>Aug 11 2018 - 2:00pm</td>\n",
       "      <td>complete</td>\n",
       "      <td>10353</td>\n",
       "      <td>AFC Bournemouth</td>\n",
       "      <td>Cardiff City</td>\n",
       "      <td>Kevin Friend</td>\n",
       "      <td>1</td>\n",
       "      <td>0.0</td>\n",
       "      <td>0.0</td>\n",
       "      <td>...</td>\n",
       "      <td>2.03</td>\n",
       "      <td>3.51</td>\n",
       "      <td>3.96</td>\n",
       "      <td>1.31</td>\n",
       "      <td>1.95</td>\n",
       "      <td>3.45</td>\n",
       "      <td>6.70</td>\n",
       "      <td>1.83</td>\n",
       "      <td>1.83</td>\n",
       "      <td>Vitality Stadium (Bournemouth- Dorset)</td>\n",
       "    </tr>\n",
       "    <tr>\n",
       "      <th>3</th>\n",
       "      <td>1533996000</td>\n",
       "      <td>Aug 11 2018 - 2:00pm</td>\n",
       "      <td>complete</td>\n",
       "      <td>24821</td>\n",
       "      <td>Fulham</td>\n",
       "      <td>Crystal Palace</td>\n",
       "      <td>Mike Dean</td>\n",
       "      <td>1</td>\n",
       "      <td>0.0</td>\n",
       "      <td>0.0</td>\n",
       "      <td>...</td>\n",
       "      <td>2.31</td>\n",
       "      <td>3.44</td>\n",
       "      <td>3.26</td>\n",
       "      <td>1.28</td>\n",
       "      <td>1.87</td>\n",
       "      <td>3.20</td>\n",
       "      <td>7.00</td>\n",
       "      <td>1.71</td>\n",
       "      <td>2.00</td>\n",
       "      <td>Craven Cottage (London)</td>\n",
       "    </tr>\n",
       "    <tr>\n",
       "      <th>4</th>\n",
       "      <td>1533996000</td>\n",
       "      <td>Aug 11 2018 - 2:00pm</td>\n",
       "      <td>complete</td>\n",
       "      <td>24121</td>\n",
       "      <td>Huddersfield Town</td>\n",
       "      <td>Chelsea</td>\n",
       "      <td>Chris Kavanagh</td>\n",
       "      <td>1</td>\n",
       "      <td>0.0</td>\n",
       "      <td>0.0</td>\n",
       "      <td>...</td>\n",
       "      <td>7.47</td>\n",
       "      <td>4.27</td>\n",
       "      <td>1.51</td>\n",
       "      <td>1.29</td>\n",
       "      <td>1.91</td>\n",
       "      <td>3.30</td>\n",
       "      <td>6.95</td>\n",
       "      <td>2.00</td>\n",
       "      <td>1.71</td>\n",
       "      <td>John Smith's Stadium (Huddersfield- West Yorks...</td>\n",
       "    </tr>\n",
       "  </tbody>\n",
       "</table>\n",
       "<p>5 rows × 64 columns</p>\n",
       "</div>"
      ],
      "text/plain": [
       "    timestamp               date_GMT    status  attendance     home_team_name  \\\n",
       "0  1533927600   Aug 10 2018 - 7:00pm  complete       74439  Manchester United   \n",
       "1  1533987000  Aug 11 2018 - 11:30am  complete       51749   Newcastle United   \n",
       "2  1533996000   Aug 11 2018 - 2:00pm  complete       10353    AFC Bournemouth   \n",
       "3  1533996000   Aug 11 2018 - 2:00pm  complete       24821             Fulham   \n",
       "4  1533996000   Aug 11 2018 - 2:00pm  complete       24121  Huddersfield Town   \n",
       "\n",
       "      away_team_name          referee  Game Week  Pre-Match PPG (Home)  \\\n",
       "0     Leicester City   Andre Marriner          1                   0.0   \n",
       "1  Tottenham Hotspur  Martin Atkinson          1                   0.0   \n",
       "2       Cardiff City     Kevin Friend          1                   0.0   \n",
       "3     Crystal Palace        Mike Dean          1                   0.0   \n",
       "4            Chelsea   Chris Kavanagh          1                   0.0   \n",
       "\n",
       "   Pre-Match PPG (Away)  ...  odds_ft_home_team_win  odds_ft_draw  \\\n",
       "0                   0.0  ...                   1.37          4.98   \n",
       "1                   0.0  ...                   4.51          3.77   \n",
       "2                   0.0  ...                   2.03          3.51   \n",
       "3                   0.0  ...                   2.31          3.44   \n",
       "4                   0.0  ...                   7.47          4.27   \n",
       "\n",
       "   odds_ft_away_team_win  odds_ft_over15  odds_ft_over25  odds_ft_over35  \\\n",
       "0                   9.81            1.33            2.00            3.60   \n",
       "1                   1.84            1.31            1.95            3.50   \n",
       "2                   3.96            1.31            1.95            3.45   \n",
       "3                   3.26            1.28            1.87            3.20   \n",
       "4                   1.51            1.29            1.91            3.30   \n",
       "\n",
       "   odds_ft_over45  odds_btts_yes odds_btts_no  \\\n",
       "0            7.50           2.05         1.69   \n",
       "1            5.75           1.83         1.87   \n",
       "2            6.70           1.83         1.83   \n",
       "3            7.00           1.71         2.00   \n",
       "4            6.95           2.00         1.71   \n",
       "\n",
       "                                        stadium_name  \n",
       "0                          Old Trafford (Manchester)  \n",
       "1              St. James' Park (Newcastle upon Tyne)  \n",
       "2             Vitality Stadium (Bournemouth- Dorset)  \n",
       "3                            Craven Cottage (London)  \n",
       "4  John Smith's Stadium (Huddersfield- West Yorks...  \n",
       "\n",
       "[5 rows x 64 columns]"
      ]
     },
     "execution_count": 10,
     "metadata": {},
     "output_type": "execute_result"
    }
   ],
   "source": [
    "epl_1819.head()"
   ]
  },
  {
   "cell_type": "markdown",
   "id": "e290f5ac-5b6d-4bf5-9d09-a8c8b2bdf46c",
   "metadata": {},
   "source": [
    "### Get data of interest"
   ]
  },
  {
   "cell_type": "code",
   "execution_count": 11,
   "id": "55926647-0e89-4c3a-ac09-4e1c9ceb130b",
   "metadata": {},
   "outputs": [
    {
     "name": "stdout",
     "output_type": "stream",
     "text": [
      "<class 'pandas.core.frame.DataFrame'>\n",
      "RangeIndex: 380 entries, 0 to 379\n",
      "Data columns (total 3 columns):\n",
      " #   Column                  Non-Null Count  Dtype \n",
      "---  ------                  --------------  ----- \n",
      " 0   total_goal_count        380 non-null    int64 \n",
      " 1   home_team_goal_timings  292 non-null    object\n",
      " 2   away_team_goal_timings  261 non-null    object\n",
      "dtypes: int64(1), object(2)\n",
      "memory usage: 9.0+ KB\n"
     ]
    }
   ],
   "source": [
    "v_goals = (\n",
    "    epl_1819\n",
    "    .get(['total_goal_count',\n",
    "          'home_team_goal_timings',\n",
    "          'away_team_goal_timings'])\n",
    ")\n",
    "v_goals.info()"
   ]
  },
  {
   "cell_type": "markdown",
   "id": "990bc2cf-3725-43f3-9fba-0180c369809d",
   "metadata": {},
   "source": [
    "### Number of goals per game\n",
    "\n",
    "Can the number of goals per game be modelled by a Poisson distribution?"
   ]
  },
  {
   "cell_type": "code",
   "execution_count": 12,
   "id": "8f038c02-8bee-4898-bcdf-3f94e6fc0303",
   "metadata": {},
   "outputs": [
    {
     "name": "stdout",
     "output_type": "stream",
     "text": [
      "<class 'pandas.core.series.Series'>\n",
      "RangeIndex: 380 entries, 0 to 379\n",
      "Series name: total_goals\n",
      "Non-Null Count  Dtype\n",
      "--------------  -----\n",
      "380 non-null    int64\n",
      "dtypes: int64(1)\n",
      "memory usage: 3.1 KB\n"
     ]
    }
   ],
   "source": [
    "v_total_goals = v_goals['total_goal_count'].rename('total_goals')\n",
    "v_total_goals.info()"
   ]
  },
  {
   "cell_type": "markdown",
   "id": "720b37ee-2533-4232-ba5d-dc019dc615d2",
   "metadata": {},
   "source": [
    "Mean = Var?"
   ]
  },
  {
   "cell_type": "code",
   "execution_count": 13,
   "id": "57ba7048-4fd4-4f89-8169-b749620ab8d4",
   "metadata": {},
   "outputs": [
    {
     "data": {
      "text/plain": [
       "mean    2.821053\n",
       "var     2.564199\n",
       "dtype: float64"
      ]
     },
     "execution_count": 13,
     "metadata": {},
     "output_type": "execute_result"
    }
   ],
   "source": [
    "pd.Series(\n",
    "    data={\n",
    "        'mean': float(v_total_goals.mean()),\n",
    "        'var': float(v_total_goals.var()),\n",
    "    }\n",
    ")"
   ]
  },
  {
   "cell_type": "markdown",
   "id": "546d4a18-1db7-4bee-b6b5-ebe399523a90",
   "metadata": {},
   "source": [
    "Interval estimate for the λ."
   ]
  },
  {
   "cell_type": "code",
   "execution_count": 28,
   "id": "9cc2f443-21c0-400b-ad41-7275e8d3b328",
   "metadata": {},
   "outputs": [
    {
     "data": {
      "text/plain": [
       "point    2.821053\n",
       "lcb      2.679329\n",
       "ucb      2.962776\n",
       "Name: lamba, dtype: float64"
      ]
     },
     "execution_count": 28,
     "metadata": {},
     "output_type": "execute_result"
    }
   ],
   "source": [
    "_z, _n, _mu = st.norm.ppf(0.95), v_total_goals.size, v_total_goals.mean()\n",
    "pd.Series(\n",
    "    data={\n",
    "        'point': _mu,\n",
    "        'lcb': _mu - _z * np.sqrt(_mu / _n),\n",
    "        'ucb': _mu + _z * np.sqrt(_mu / _n),\n",
    "    },\n",
    "    name='lamba'\n",
    ")"
   ]
  },
  {
   "cell_type": "markdown",
   "id": "1e787a59-6d58-4dab-a84f-5ec5353aa2c5",
   "metadata": {},
   "source": [
    "How does this compare to a Poisson distribution?\n",
    "\n",
    "Contingency table: Observed vs Expected"
   ]
  },
  {
   "cell_type": "code",
   "execution_count": 14,
   "id": "eb4bdeab-7fa3-4f20-829f-cabcf9e80cd2",
   "metadata": {},
   "outputs": [
    {
     "data": {
      "text/html": [
       "<div>\n",
       "<style scoped>\n",
       "    .dataframe tbody tr th:only-of-type {\n",
       "        vertical-align: middle;\n",
       "    }\n",
       "\n",
       "    .dataframe tbody tr th {\n",
       "        vertical-align: top;\n",
       "    }\n",
       "\n",
       "    .dataframe thead th {\n",
       "        text-align: right;\n",
       "    }\n",
       "</style>\n",
       "<table border=\"1\" class=\"dataframe\">\n",
       "  <thead>\n",
       "    <tr style=\"text-align: right;\">\n",
       "      <th></th>\n",
       "      <th>observed</th>\n",
       "      <th>expected</th>\n",
       "    </tr>\n",
       "    <tr>\n",
       "      <th>total_goals</th>\n",
       "      <th></th>\n",
       "      <th></th>\n",
       "    </tr>\n",
       "  </thead>\n",
       "  <tbody>\n",
       "    <tr>\n",
       "      <th>0</th>\n",
       "      <td>22</td>\n",
       "      <td>22.626428</td>\n",
       "    </tr>\n",
       "    <tr>\n",
       "      <th>1</th>\n",
       "      <td>55</td>\n",
       "      <td>63.830345</td>\n",
       "    </tr>\n",
       "    <tr>\n",
       "      <th>2</th>\n",
       "      <td>99</td>\n",
       "      <td>90.034382</td>\n",
       "    </tr>\n",
       "    <tr>\n",
       "      <th>3</th>\n",
       "      <td>84</td>\n",
       "      <td>84.663910</td>\n",
       "    </tr>\n",
       "    <tr>\n",
       "      <th>4</th>\n",
       "      <td>65</td>\n",
       "      <td>59.710337</td>\n",
       "    </tr>\n",
       "    <tr>\n",
       "      <th>5</th>\n",
       "      <td>32</td>\n",
       "      <td>33.689200</td>\n",
       "    </tr>\n",
       "    <tr>\n",
       "      <th>6</th>\n",
       "      <td>16</td>\n",
       "      <td>15.839835</td>\n",
       "    </tr>\n",
       "    <tr>\n",
       "      <th>7</th>\n",
       "      <td>5</td>\n",
       "      <td>6.383572</td>\n",
       "    </tr>\n",
       "    <tr>\n",
       "      <th>8</th>\n",
       "      <td>2</td>\n",
       "      <td>2.251049</td>\n",
       "    </tr>\n",
       "  </tbody>\n",
       "</table>\n",
       "</div>"
      ],
      "text/plain": [
       "             observed   expected\n",
       "total_goals                     \n",
       "0                  22  22.626428\n",
       "1                  55  63.830345\n",
       "2                  99  90.034382\n",
       "3                  84  84.663910\n",
       "4                  65  59.710337\n",
       "5                  32  33.689200\n",
       "6                  16  15.839835\n",
       "7                   5   6.383572\n",
       "8                   2   2.251049"
      ]
     },
     "execution_count": 14,
     "metadata": {},
     "output_type": "execute_result"
    }
   ],
   "source": [
    "ctable_total_goals = pd.DataFrame()\n",
    "ctable_total_goals['observed'] = observed_freqs(v_total_goals).to_numpy()\n",
    "_pmf = st.poisson(v_total_goals.mean()).pmf(\n",
    "    [x for x in range(int(v_total_goals.max()+1))]\n",
    ")\n",
    "ctable_total_goals['expected'] = _pmf * v_total_goals.size\n",
    "ctable_total_goals = ctable_total_goals.rename_axis('total_goals')\n",
    "ctable_total_goals"
   ]
  },
  {
   "cell_type": "markdown",
   "id": "2374aa24-a529-4457-ab62-ac1232ab6b19",
   "metadata": {},
   "source": [
    "Plot: Observed vs Expected"
   ]
  },
  {
   "cell_type": "code",
   "execution_count": 15,
   "id": "46f92dc6-b98a-4237-b376-561efc2402ec",
   "metadata": {},
   "outputs": [
    {
     "data": {
      "image/png": "[encoded data removed]",
      "text/plain": [
       "<Figure size 732.975x360 with 1 Axes>"
      ]
     },
     "metadata": {},
     "output_type": "display_data"
    }
   ],
   "source": [
    "_gsource = ctable_total_goals.reset_index().melt(id_vars='total_goals')\n",
    "\n",
    "sns.catplot(\n",
    "        data=_gsource,\n",
    "        x='total_goals',\n",
    "        y='value',\n",
    "        hue='variable',\n",
    "        kind='bar',\n",
    "        aspect=1.8,\n",
    ")\n",
    "plt.title('Observed and expected frequencies of total goals scored')\n",
    "plt.ylabel('frequency')\n",
    "plt.show()"
   ]
  },
  {
   "cell_type": "markdown",
   "id": "61a8dcb5-7b19-41d3-8500-8f49f3391548",
   "metadata": {},
   "source": [
    "Goodness of Fit test"
   ]
  },
  {
   "cell_type": "code",
   "execution_count": 16,
   "id": "425eb91f-8028-4947-9b42-0cf75acd036a",
   "metadata": {},
   "outputs": [
    {
     "data": {
      "text/plain": [
       "stat      3.398638\n",
       "pvalue    0.845842\n",
       "Name: goodness of fit test, dtype: float64"
      ]
     },
     "execution_count": 16,
     "metadata": {},
     "output_type": "execute_result"
    }
   ],
   "source": [
    "_grouped = v_total_goals.map(lambda x: str(x) if x <= 6 else '7+')\n",
    "_obs = observed_freqs(_grouped)\n",
    "_model = st.poisson(v_total_goals.mean())\n",
    "_pmf = np.append(_model.pmf([x for x in range(7)]), [1 - _model.cdf(6)])\n",
    "_exp = _pmf * v_total_goals.size\n",
    "_res = st.chisquare(f_obs=_obs, f_exp=_exp)\n",
    "pd.Series(\n",
    "    data={'stat': _res.statistic, 'pvalue': _res.pvalue},\n",
    "    name='goodness of fit test'\n",
    ")"
   ]
  },
  {
   "cell_type": "markdown",
   "id": "d05f0c36",
   "metadata": {},
   "source": [
    "### Global goal timings"
   ]
  },
  {
   "cell_type": "code",
   "execution_count": 17,
   "id": "940f6f07",
   "metadata": {},
   "outputs": [
    {
     "data": {
      "image/png": "[encoded data removed]",
      "text/plain": [
       "<Figure size 648x360 with 1 Axes>"
      ]
     },
     "metadata": {},
     "output_type": "display_data"
    }
   ],
   "source": [
    "goal_timings = collect_goal_timings(\n",
    "    v_goals[['home_team_goal_timings', 'away_team_goal_timings']]\n",
    ")\n",
    "\n",
    "sns.relplot(\n",
    "        x=goal_timings.index,\n",
    "        y=goal_timings,\n",
    "        kind='line',\n",
    "        aspect=1.8\n",
    ")\n",
    "plt.title('Global time of each goal')\n",
    "plt.xlabel('goal')\n",
    "plt.ylabel('t (mins)')\n",
    "plt.show()"
   ]
  },
  {
   "cell_type": "markdown",
   "id": "539ae66f",
   "metadata": {},
   "source": [
    "### Waiting times between goals"
   ]
  },
  {
   "cell_type": "code",
   "execution_count": 18,
   "id": "a4b21948",
   "metadata": {},
   "outputs": [
    {
     "data": {
      "image/png": "[encoded data removed]",
      "text/plain": [
       "<Figure size 648x360 with 1 Axes>"
      ]
     },
     "metadata": {},
     "output_type": "display_data"
    }
   ],
   "source": [
    "waiting_times = goal_timings.rolling(window=2).apply(np.diff).dropna()\n",
    "sns.displot(\n",
    "        x=waiting_times,\n",
    "        kind='hist',\n",
    "        stat='probability',\n",
    "        binwidth=10,\n",
    "        aspect=1.8\n",
    ")\n",
    "\n",
    "_m = st.expon(scale=waiting_times.mean())\n",
    "_wt = np.arange(start=10, stop=waiting_times.max(), step=10)\n",
    "_cdf = _m.cdf(_wt)\n",
    "_diffs = np.ediff1d(_cdf, to_begin=_cdf[0])\n",
    "sns.lineplot(x=_wt - 5, y=_diffs, color='r', lw=3, label='expected')\n",
    "\n",
    "plt.title('Waiting time between goals')\n",
    "plt.xlabel('t (mins)')\n",
    "plt.ylabel('density')\n",
    "plt.show()"
   ]
  },
  {
   "cell_type": "markdown",
   "id": "9f9417b8-2966-4233-bdb8-57f4c98fefc5",
   "metadata": {},
   "source": [
    "Mean(wt) = SD(wt)?"
   ]
  },
  {
   "cell_type": "code",
   "execution_count": 19,
   "id": "715f7457-d083-4c26-9805-a0ee2ac38f45",
   "metadata": {},
   "outputs": [
    {
     "data": {
      "text/plain": [
       "mean    35.498442\n",
       "sd      33.922695\n",
       "dtype: float64"
      ]
     },
     "execution_count": 19,
     "metadata": {},
     "output_type": "execute_result"
    }
   ],
   "source": [
    "pd.Series(\n",
    "    data={\n",
    "        'mean': float(waiting_times.mean()),\n",
    "        'sd': float(waiting_times.std())\n",
    "    }\n",
    ")"
   ]
  }
 ],
 "metadata": {
  "kernelspec": {
   "display_name": "laughingrook",
   "language": "python",
   "name": "laughingrook"
  },
  "language_info": {
   "codemirror_mode": {
    "name": "ipython",
    "version": 3
   },
   "file_extension": ".py",
   "mimetype": "text/x-python",
   "name": "python",
   "nbconvert_exporter": "python",
   "pygments_lexer": "ipython3",
   "version": "3.10.4"
  }
 },
 "nbformat": 4,
 "nbformat_minor": 5
}
