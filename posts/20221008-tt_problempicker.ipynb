{
 "cells": [
  {
   "cell_type": "raw",
   "id": "13b2184c-7228-4ea7-9917-845318e54b26",
   "metadata": {},
   "source": [
    "---\n",
    "title: TidyTuesday Problem Picker\n",
    "date: 2022-10-08\n",
    "categories: [TidyTuesday, Recipe]\n",
    "draft: false\n",
    "---"
   ]
  },
  {
   "cell_type": "markdown",
   "id": "c36e77e9-3471-42db-b362-3c12a23c7564",
   "metadata": {},
   "source": [
    "## Summary\n",
    "\n",
    "Choose a random a problem for the **TidyTuesday** back catalogue, along with random data and graph libraries for a bit of spice."
   ]
  },
  {
   "cell_type": "markdown",
   "id": "ae54a7b0-f591-41d9-bd4e-d7bfc27ea6b4",
   "metadata": {},
   "source": [
    "## Dependencies"
   ]
  },
  {
   "cell_type": "code",
   "execution_count": 1,
   "id": "3475c9c3-7c1a-4483-9b0f-4ba274a7ad2c",
   "metadata": {},
   "outputs": [],
   "source": [
    "from random import choice\n",
    "import pandas as pd"
   ]
  },
  {
   "cell_type": "code",
   "execution_count": 2,
   "id": "cbac0134-9eee-4c63-815d-664ba9ef581a",
   "metadata": {},
   "outputs": [
    {
     "name": "stdout",
     "output_type": "stream",
     "text": [
      "pandas: 1.5.0\n",
      "\n"
     ]
    }
   ],
   "source": [
    "%load_ext watermark\n",
    "%watermark --iv"
   ]
  },
  {
   "cell_type": "markdown",
   "id": "a445bfff-3cd9-4588-b3bf-6ac42ee5d651",
   "metadata": {},
   "source": [
    "## Function"
   ]
  },
  {
   "cell_type": "code",
   "execution_count": 3,
   "id": "ab22a206-ea32-41d1-80a9-61bcfad2d42b",
   "metadata": {},
   "outputs": [],
   "source": [
    "def select_project() -> pd.Series:\n",
    "    def find_prev_tuesday(dt):\n",
    "        date = dt.copy()\n",
    "        while date.weekday != 2:\n",
    "            date = date - pd.Timedelta(days=1)\n",
    "        return date.date\n",
    "\n",
    "    def get_url(date):\n",
    "        url_str = ( 'https://github.com/rfordatascience/tidytuesday/blob/master'\n",
    "                   + f'/data/{date.year}')\n",
    "        print(url_str)\n",
    "        return url_str\n",
    "\n",
    "    return (\n",
    "        pd.DataFrame(\n",
    "                index=pd.date_range(\n",
    "                            start='2018-04-02',\n",
    "                            end=pd.to_datetime('today').normalize(),\n",
    "                            freq='W'\n",
    "                )\n",
    "        ).sample(1)\n",
    "        .assign(\n",
    "            #weekno=lambda df: [x + 1 for x in range(df.shape[0])],\n",
    "            date=lambda df: find_prev_tuesday(df.index),\n",
    "            url=lambda df: df.date.map(get_url),\n",
    "            datalib=choice(['pandas',\n",
    "                            'polars',\n",
    "                            'duckdb',\n",
    "                            'ibis',\n",
    "                            'sqlite3']),\n",
    "            graphlib=choice(['seaborn',\n",
    "                             'plotly',\n",
    "                             'altair'])\n",
    "        ).sample(1)\n",
    "    )"
   ]
  },
  {
   "cell_type": "markdown",
   "id": "e02b0b0f-dbdd-45d5-b9c3-a8ea9fb78455",
   "metadata": {},
   "source": [
    "## Main"
   ]
  },
  {
   "cell_type": "code",
   "execution_count": 4,
   "id": "9648fcec-6743-4afc-8f81-adc055731452",
   "metadata": {},
   "outputs": [
    {
     "name": "stdout",
     "output_type": "stream",
     "text": [
      "https://github.com/rfordatascience/tidytuesday/blob/master/data/2019\n"
     ]
    },
    {
     "data": {
      "text/html": [
       "<div>\n",
       "<style scoped>\n",
       "    .dataframe tbody tr th:only-of-type {\n",
       "        vertical-align: middle;\n",
       "    }\n",
       "\n",
       "    .dataframe tbody tr th {\n",
       "        vertical-align: top;\n",
       "    }\n",
       "\n",
       "    .dataframe thead th {\n",
       "        text-align: right;\n",
       "    }\n",
       "</style>\n",
       "<table border=\"1\" class=\"dataframe\">\n",
       "  <thead>\n",
       "    <tr style=\"text-align: right;\">\n",
       "      <th></th>\n",
       "      <th>date</th>\n",
       "      <th>url</th>\n",
       "      <th>datalib</th>\n",
       "      <th>graphlib</th>\n",
       "    </tr>\n",
       "  </thead>\n",
       "  <tbody>\n",
       "    <tr>\n",
       "      <th>2019-06-09</th>\n",
       "      <td>2019-06-05</td>\n",
       "      <td>https://github.com/rfordatascience/tidytuesday...</td>\n",
       "      <td>sqlite3</td>\n",
       "      <td>altair</td>\n",
       "    </tr>\n",
       "  </tbody>\n",
       "</table>\n",
       "</div>"
      ],
      "text/plain": [
       "                  date                                                url  \\\n",
       "2019-06-09  2019-06-05  https://github.com/rfordatascience/tidytuesday...   \n",
       "\n",
       "            datalib graphlib  \n",
       "2019-06-09  sqlite3   altair  "
      ]
     },
     "execution_count": 4,
     "metadata": {},
     "output_type": "execute_result"
    }
   ],
   "source": [
    "select_project()"
   ]
  },
  {
   "cell_type": "markdown",
   "id": "dd643da8-0fe9-4315-a4d4-96d975f7a1a4",
   "metadata": {},
   "source": [
    "## History\n",
    "\n",
    "1. 2021-09-28, Economic records > `Ibis, Seaborn`"
   ]
  }
 ],
 "metadata": {
  "kernelspec": {
   "display_name": "lr_stats",
   "language": "python",
   "name": "lr_stats"
  },
  "language_info": {
   "codemirror_mode": {
    "name": "ipython",
    "version": 3
   },
   "file_extension": ".py",
   "mimetype": "text/x-python",
   "name": "python",
   "nbconvert_exporter": "python",
   "pygments_lexer": "ipython3",
   "version": "3.10.7"
  }
 },
 "nbformat": 4,
 "nbformat_minor": 5
}
