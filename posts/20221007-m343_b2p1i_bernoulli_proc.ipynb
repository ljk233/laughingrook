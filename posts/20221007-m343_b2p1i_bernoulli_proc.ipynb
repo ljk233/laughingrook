{
 "cells": [
  {
   "cell_type": "raw",
   "metadata": {},
   "source": [
    "---\n",
    "title: Bernoulli Process\n",
    "date: 2022-10-05\n",
    "categories: [Statistics, M343, RandomEvents]\n",
    "draft: false\n",
    "---"
   ]
  },
  {
   "cell_type": "markdown",
   "metadata": {
    "jp-MarkdownHeadingCollapsed": true,
    "tags": []
   },
   "source": [
    "## Summary\n",
    "\n",
    "**What problem is addressed in the notebook?**\n",
    "\n",
    "\n",
    "\n",
    "**Is the problem solved in a single notebook?** \\\n",
    "*(If no, then where are the other notebooks?)*\n",
    "\n",
    "\n",
    "\n",
    "**Did you do anything novel in the notebook?** \\\n",
    "*(If yes, then what was the novel thing and should it be note for further use?)*\n",
    "\n",
    "\n",
    "\n",
    "**Is there anything you have done for the first time?** \\\n",
    "\n",
    "\n",
    "\n",
    "**References**\n",
    "\n",
    "- M343 Book 1, *Probability and random variables*\n",
    "- [SciPy, scipy.stats.rv_discrete](https://docs.scipy.org/doc/scipy/reference/generated/scipy.stats.rv_discrete.html)\n",
    "- [LaughingRook](https://github.com/ljk233/LaughingRook.py)"
   ]
  },
  {
   "cell_type": "markdown",
   "metadata": {},
   "source": [
    "## Dependencies"
   ]
  },
  {
   "cell_type": "code",
   "execution_count": 1,
   "metadata": {},
   "outputs": [],
   "source": [
    "import numpy as np                         # data structure\n",
    "import pandas as pd                        # data structure\n",
    "from scipy import stats as st              # data anslysis\n",
    "from matplotlib import pyplot as plt       # plotting package\n",
    "import seaborn as sns                      # advanced statistical visuals\n",
    "from laughingrook import graphics as gfx   # convenience plotting functions\n",
    "from laughingrook import rvhelpers as rvh  # convenience functions, scipy rv"
   ]
  },
  {
   "cell_type": "code",
   "execution_count": 2,
   "metadata": {},
   "outputs": [
    {
     "name": "stdout",
     "output_type": "stream",
     "text": [
      "laughingrook: 0.1.0\n",
      "scipy       : 1.9.1\n",
      "numpy       : 1.23.3\n",
      "seaborn     : 0.12.0\n",
      "matplotlib  : 3.6.0\n",
      "pandas      : 1.5.0\n",
      "\n"
     ]
    }
   ],
   "source": [
    "%load_ext watermark\n",
    "%watermark --iv"
   ]
  },
  {
   "cell_type": "markdown",
   "metadata": {},
   "source": [
    "## Main"
   ]
  },
  {
   "cell_type": "code",
   "execution_count": 4,
   "metadata": {},
   "outputs": [],
   "source": [
    "%precision 3\n",
    "sns.set_theme()"
   ]
  },
  {
   "cell_type": "markdown",
   "metadata": {},
   "source": [
    "### Initialise the model"
   ]
  },
  {
   "cell_type": "code",
   "execution_count": 8,
   "metadata": {},
   "outputs": [],
   "source": [
    "x = st.bernoulli(0.4)\n",
    "w = st.geom(0.4)"
   ]
  },
  {
   "cell_type": "markdown",
   "metadata": {},
   "source": [
    "### Describe the model"
   ]
  },
  {
   "cell_type": "code",
   "execution_count": 9,
   "metadata": {},
   "outputs": [
    {
     "ename": "AttributeError",
     "evalue": "'rv_discrete_frozen' object has no attribute 'name'",
     "output_type": "error",
     "traceback": [
      "\u001b[1;31m---------------------------------------------------------------------------\u001b[0m",
      "\u001b[1;31mAttributeError\u001b[0m                            Traceback (most recent call last)",
      "Input \u001b[1;32mIn [9]\u001b[0m, in \u001b[0;36m<cell line: 1>\u001b[1;34m()\u001b[0m\n\u001b[1;32m----> 1\u001b[0m \u001b[43mrvh\u001b[49m\u001b[38;5;241;43m.\u001b[39;49m\u001b[43mdescribe\u001b[49m\u001b[43m(\u001b[49m\u001b[43mx\u001b[49m\u001b[43m)\u001b[49m\n",
      "File \u001b[1;32mD:\\GitHub\\PyPackages\\LaughingRook.py\\src\\laughingrook\\rvhelpers.py:83\u001b[0m, in \u001b[0;36mdescribe\u001b[1;34m(rv, ret_dtype)\u001b[0m\n\u001b[0;32m     69\u001b[0m \u001b[38;5;124;03m\"\"\"Return a descriptive table for the given rv.\u001b[39;00m\n\u001b[0;32m     70\u001b[0m \n\u001b[0;32m     71\u001b[0m \u001b[38;5;124;03mTe return series has dtype=object by default.\u001b[39;00m\n\u001b[1;32m   (...)\u001b[0m\n\u001b[0;32m     74\u001b[0m \u001b[38;5;124;03mshould be a valid pandas dtype.\u001b[39;00m\n\u001b[0;32m     75\u001b[0m \u001b[38;5;124;03m\"\"\"\u001b[39;00m\n\u001b[0;32m     76\u001b[0m stats \u001b[38;5;241m=\u001b[39m {\u001b[38;5;124m'\u001b[39m\u001b[38;5;124mmean\u001b[39m\u001b[38;5;124m'\u001b[39m: rv\u001b[38;5;241m.\u001b[39mmean(),\n\u001b[0;32m     77\u001b[0m          \u001b[38;5;124m'\u001b[39m\u001b[38;5;124mvar\u001b[39m\u001b[38;5;124m'\u001b[39m: rv\u001b[38;5;241m.\u001b[39mvar(),\n\u001b[0;32m     78\u001b[0m          \u001b[38;5;124m'\u001b[39m\u001b[38;5;124mmin\u001b[39m\u001b[38;5;124m'\u001b[39m: rv\u001b[38;5;241m.\u001b[39ma,\n\u001b[1;32m   (...)\u001b[0m\n\u001b[0;32m     81\u001b[0m          \u001b[38;5;124m'\u001b[39m\u001b[38;5;124muq\u001b[39m\u001b[38;5;124m'\u001b[39m: rv\u001b[38;5;241m.\u001b[39mppf(\u001b[38;5;241m0.75\u001b[39m),\n\u001b[0;32m     82\u001b[0m          \u001b[38;5;124m'\u001b[39m\u001b[38;5;124mmax\u001b[39m\u001b[38;5;124m'\u001b[39m: rv\u001b[38;5;241m.\u001b[39mb}\n\u001b[1;32m---> 83\u001b[0m \u001b[38;5;28;01mreturn\u001b[39;00m pd\u001b[38;5;241m.\u001b[39mSeries(stats, name\u001b[38;5;241m=\u001b[39m\u001b[43mrv\u001b[49m\u001b[38;5;241;43m.\u001b[39;49m\u001b[43mname\u001b[49m, dtype\u001b[38;5;241m=\u001b[39mret_dtype)\n",
      "\u001b[1;31mAttributeError\u001b[0m: 'rv_discrete_frozen' object has no attribute 'name'"
     ]
    }
   ],
   "source": [
    "rvh.describe(x)"
   ]
  },
  {
   "cell_type": "markdown",
   "metadata": {},
   "source": []
  },
  {
   "cell_type": "code",
   "execution_count": null,
   "metadata": {},
   "outputs": [],
   "source": []
  },
  {
   "cell_type": "markdown",
   "metadata": {},
   "source": []
  },
  {
   "cell_type": "code",
   "execution_count": null,
   "metadata": {},
   "outputs": [],
   "source": []
  }
 ],
 "metadata": {
  "kernelspec": {
   "display_name": "lr_stats",
   "language": "python",
   "name": "lr_stats"
  },
  "language_info": {
   "codemirror_mode": {
    "name": "ipython",
    "version": 3
   },
   "file_extension": ".py",
   "mimetype": "text/x-python",
   "name": "python",
   "nbconvert_exporter": "python",
   "pygments_lexer": "ipython3",
   "version": "3.10.7"
  },
  "vscode": {
   "interpreter": {
    "hash": "403dd6e35f2b113beb65b473eee36629fc5fb8f0e21eca7155443fe11363e4ab"
   }
  }
 },
 "nbformat": 4,
 "nbformat_minor": 4
}
