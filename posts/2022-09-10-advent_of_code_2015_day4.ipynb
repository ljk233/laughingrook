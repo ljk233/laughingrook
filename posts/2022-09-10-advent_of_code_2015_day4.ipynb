{
 "cells": [
  {
   "cell_type": "raw",
   "id": "8177c1d9",
   "metadata": {},
   "source": [
    "---\n",
    "title: Advent of Code 2015, Day 4\n",
    "date: 2022-09-10\n",
    "categories: [AdventOfCode]\n",
    "draft: false\n",
    "---"
   ]
  },
  {
   "cell_type": "markdown",
   "id": "40e7cdd0",
   "metadata": {},
   "source": [
    "## Summary notes\n",
    "\n",
    "This is my solution to Advent of Code 2015, Day 4: *The Ideal Stocking Stuffer*."
   ]
  },
  {
   "cell_type": "markdown",
   "id": "ec3862e7",
   "metadata": {},
   "source": [
    "## Dependencies"
   ]
  },
  {
   "cell_type": "code",
   "execution_count": 1,
   "id": "5ae2d97f",
   "metadata": {},
   "outputs": [],
   "source": [
    "import hashlib"
   ]
  },
  {
   "cell_type": "markdown",
   "id": "75ada2d1",
   "metadata": {},
   "source": [
    "## Functions"
   ]
  },
  {
   "cell_type": "code",
   "execution_count": 2,
   "id": "b1850f3a",
   "metadata": {},
   "outputs": [],
   "source": [
    "def mine_advent_coins(key: str, n: int) -> int:\n",
    "    \"\"\"Return the suffix needed so md5(key + suffix).hex begins with\n",
    "    n_zeroes.\n",
    "    \"\"\"\n",
    "    def hex_prefix(suffix, n) -> str:\n",
    "        return hashlib.md5(f'{(key + str(suffix))}'.encode()).hexdigest()[:n]\n",
    "\n",
    "    suffix = 1\n",
    "    prefix, target_prefix =  hex_prefix(suffix, n), '0' * n\n",
    "    while prefix != target_prefix:\n",
    "        suffix += 1\n",
    "        prefix = hex_prefix(suffix, n)\n",
    "\n",
    "    return suffix"
   ]
  },
  {
   "cell_type": "markdown",
   "id": "244926a9",
   "metadata": {},
   "source": [
    "## Main"
   ]
  },
  {
   "cell_type": "markdown",
   "id": "316c8a99",
   "metadata": {},
   "source": [
    "### Initialise the input"
   ]
  },
  {
   "cell_type": "code",
   "execution_count": 3,
   "id": "57e812e4",
   "metadata": {},
   "outputs": [],
   "source": [
    "KEY = 'ckczppom'"
   ]
  },
  {
   "cell_type": "markdown",
   "id": "5d4e49db",
   "metadata": {},
   "source": [
    "### Part 1"
   ]
  },
  {
   "cell_type": "code",
   "execution_count": 4,
   "id": "6a75c2a4",
   "metadata": {},
   "outputs": [
    {
     "name": "stdout",
     "output_type": "stream",
     "text": [
      "Solution = 117946\n"
     ]
    }
   ],
   "source": [
    "print(f'Solution = {mine_advent_coins(KEY, 5)}')"
   ]
  },
  {
   "cell_type": "markdown",
   "id": "2efc596d",
   "metadata": {},
   "source": [
    "### Part 2"
   ]
  },
  {
   "cell_type": "code",
   "execution_count": 5,
   "id": "80f6d7a7",
   "metadata": {},
   "outputs": [
    {
     "name": "stdout",
     "output_type": "stream",
     "text": [
      "Solution = 3938038\n"
     ]
    }
   ],
   "source": [
    "print(f'Solution = {mine_advent_coins(KEY, 6)}')"
   ]
  },
  {
   "cell_type": "markdown",
   "id": "5b479647",
   "metadata": {},
   "source": [
    "### Performance"
   ]
  },
  {
   "cell_type": "code",
   "execution_count": 6,
   "id": "9e957bd7",
   "metadata": {},
   "outputs": [
    {
     "name": "stdout",
     "output_type": "stream",
     "text": [
      "Part 1 =\n",
      "145 ms ± 1.01 ms per loop (mean ± std. dev. of 7 runs, 10 loops each)\n",
      "Part 2 =\n",
      "4.91 s ± 34.7 ms per loop (mean ± std. dev. of 7 runs, 1 loop each)\n"
     ]
    }
   ],
   "source": [
    "print('Part 1 =')\n",
    "%timeit mine_advent_coins(KEY, 5)\n",
    "print('Part 2 =')\n",
    "%timeit mine_advent_coins(KEY, 6)"
   ]
  }
 ],
 "metadata": {
  "kernelspec": {
   "display_name": "laughingrook",
   "language": "python",
   "name": "laughingrook"
  },
  "language_info": {
   "codemirror_mode": {
    "name": "ipython",
    "version": 3
   },
   "file_extension": ".py",
   "mimetype": "text/x-python",
   "name": "python",
   "nbconvert_exporter": "python",
   "pygments_lexer": "ipython3",
   "version": "3.10.4"
  }
 },
 "nbformat": 4,
 "nbformat_minor": 5
}
