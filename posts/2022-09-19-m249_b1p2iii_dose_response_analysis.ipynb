{
 "cells": [
  {
   "cell_type": "raw",
   "metadata": {},
   "source": [
    "---\n",
    "title: Dose-Response Analysis\n",
    "date: 2022-09-05\n",
    "categories: [M249, Statistics]\n",
    "draft: true\n",
    "---"
   ]
  },
  {
   "cell_type": "markdown",
   "metadata": {},
   "source": [
    "## Summary notes\n",
    "\n",
    "*Add slug*"
   ]
  },
  {
   "cell_type": "markdown",
   "metadata": {},
   "source": [
    "## Dependencies"
   ]
  },
  {
   "cell_type": "code",
   "execution_count": 1,
   "metadata": {},
   "outputs": [],
   "source": [
    "import os\n",
    "import requests\n",
    "import numpy as np\n",
    "import pandas as pd\n",
    "from scipy import stats as st\n",
    "from matplotlib import pyplot as plt\n",
    "import seaborn as sns\n",
    "from numpy.typing import ArrayLike"
   ]
  },
  {
   "cell_type": "markdown",
   "metadata": {},
   "source": [
    "## Functions"
   ]
  },
  {
   "cell_type": "code",
   "execution_count": 2,
   "metadata": {},
   "outputs": [],
   "source": [
    "def cache_file(url: str, fname: str, dir_: str = './__cache') -> str:\n",
    "    \"\"\"Cache the file at given url in the given dir_ with the given\n",
    "    fname and return the local path.\n",
    "\n",
    "    Preconditions:\n",
    "    - dir_ exists\n",
    "    \"\"\"\n",
    "    local_path = f'{dir_}/{fname}'\n",
    "    if fname not in os.listdir(dir_):\n",
    "        r = requests.get(url, allow_redirects=True)\n",
    "        open(local_path, 'wb').write(r.content)\n",
    "    return local_path"
   ]
  },
  {
   "cell_type": "code",
   "execution_count": 3,
   "metadata": {},
   "outputs": [],
   "source": [
    "def get_odds_arr(df: pd.DataFrame) -> ArrayLike:\n",
    "    \"\"\"Return the dose-specific odds.\n",
    "\n",
    "    Pre-conditions:\n",
    "    - (dose, n_cases, n_controls) is a permutation of columns(df)\n",
    "    \"\"\"\n",
    "    return df['n_cases'].div(df['n_controls']).to_numpy()"
   ]
  },
  {
   "cell_type": "code",
   "execution_count": 4,
   "metadata": {},
   "outputs": [],
   "source": [
    "def get_dose_odds_ratios_arr(df: pd.DataFrame, ref_dose: str) -> ArrayLike:\n",
    "    \"\"\"Return the dose-specific odds ratios.\n",
    "\n",
    "    Pre-conditions:\n",
    "    - (dose, n_cases, n_controls) is a permutation of columns(df)\n",
    "    - ref_dose in df(dose)\n",
    "    \"\"\"\n",
    "    odds_arr = df.pipe(get_odds_arr)\n",
    "    idx_ref_odds = np.where(df['dose'].to_numpy() == ref_dose)[0][0]\n",
    "    ref_odds = odds_arr[idx_ref_odds]\n",
    "    return odds_arr / ref_odds"
   ]
  },
  {
   "cell_type": "markdown",
   "metadata": {},
   "source": [
    "## Main"
   ]
  },
  {
   "cell_type": "markdown",
   "metadata": {},
   "source": [
    "### Set theme"
   ]
  },
  {
   "cell_type": "code",
   "execution_count": 5,
   "metadata": {},
   "outputs": [],
   "source": [
    "sns.set_theme()"
   ]
  },
  {
   "cell_type": "markdown",
   "metadata": {},
   "source": [
    "### Initialise the labels"
   ]
  },
  {
   "cell_type": "code",
   "execution_count": 6,
   "metadata": {},
   "outputs": [],
   "source": [
    "doses = ['minimal', 'moderate', 'high', 'severe', 'very severe', 'extreme']\n",
    "ref_dose = 'minimal'"
   ]
  },
  {
   "cell_type": "markdown",
   "metadata": {},
   "source": [
    "### Cache the data"
   ]
  },
  {
   "cell_type": "code",
   "execution_count": 7,
   "metadata": {},
   "outputs": [],
   "source": [
    "local_path = cache_file(\n",
    "        url=('https://raw.githubusercontent.com/ljk233/laughingrook-datasets'\n",
    "             + '/main/m249/medical/ptsd.csv'),\n",
    "        fname='ptsd.csv'\n",
    ")"
   ]
  },
  {
   "cell_type": "markdown",
   "metadata": {},
   "source": [
    "### Load the data\n",
    "\n",
    "Use the cached file to initialise a `DataFrame`."
   ]
  },
  {
   "cell_type": "code",
   "execution_count": 8,
   "metadata": {},
   "outputs": [
    {
     "name": "stdout",
     "output_type": "stream",
     "text": [
      "<class 'pandas.core.frame.DataFrame'>\n",
      "RangeIndex: 6 entries, 0 to 5\n",
      "Data columns (total 3 columns):\n",
      " #   Column      Non-Null Count  Dtype \n",
      "---  ------      --------------  ----- \n",
      " 0   dose        6 non-null      object\n",
      " 1   n_cases     6 non-null      int64 \n",
      " 2   n_controls  6 non-null      int64 \n",
      "dtypes: int64(2), object(1)\n",
      "memory usage: 272.0+ bytes\n"
     ]
    }
   ],
   "source": [
    "data = pd.read_csv(local_path)\n",
    "data.info()"
   ]
  },
  {
   "cell_type": "markdown",
   "metadata": {},
   "source": [
    "Output a view of *data*."
   ]
  },
  {
   "cell_type": "code",
   "execution_count": 9,
   "metadata": {},
   "outputs": [
    {
     "data": {
      "text/html": [
       "<div>\n",
       "<style scoped>\n",
       "    .dataframe tbody tr th:only-of-type {\n",
       "        vertical-align: middle;\n",
       "    }\n",
       "\n",
       "    .dataframe tbody tr th {\n",
       "        vertical-align: top;\n",
       "    }\n",
       "\n",
       "    .dataframe thead th {\n",
       "        text-align: right;\n",
       "    }\n",
       "</style>\n",
       "<table border=\"1\" class=\"dataframe\">\n",
       "  <thead>\n",
       "    <tr style=\"text-align: right;\">\n",
       "      <th></th>\n",
       "      <th>dose</th>\n",
       "      <th>n_cases</th>\n",
       "      <th>n_controls</th>\n",
       "    </tr>\n",
       "  </thead>\n",
       "  <tbody>\n",
       "    <tr>\n",
       "      <th>0</th>\n",
       "      <td>extreme</td>\n",
       "      <td>174</td>\n",
       "      <td>595</td>\n",
       "    </tr>\n",
       "    <tr>\n",
       "      <th>1</th>\n",
       "      <td>very severe</td>\n",
       "      <td>260</td>\n",
       "      <td>1155</td>\n",
       "    </tr>\n",
       "    <tr>\n",
       "      <th>2</th>\n",
       "      <td>severe</td>\n",
       "      <td>362</td>\n",
       "      <td>2688</td>\n",
       "    </tr>\n",
       "    <tr>\n",
       "      <th>3</th>\n",
       "      <td>high</td>\n",
       "      <td>97</td>\n",
       "      <td>1286</td>\n",
       "    </tr>\n",
       "    <tr>\n",
       "      <th>4</th>\n",
       "      <td>moderate</td>\n",
       "      <td>180</td>\n",
       "      <td>2783</td>\n",
       "    </tr>\n",
       "    <tr>\n",
       "      <th>5</th>\n",
       "      <td>minimal</td>\n",
       "      <td>95</td>\n",
       "      <td>2749</td>\n",
       "    </tr>\n",
       "  </tbody>\n",
       "</table>\n",
       "</div>"
      ],
      "text/plain": [
       "          dose  n_cases  n_controls\n",
       "0      extreme      174         595\n",
       "1  very severe      260        1155\n",
       "2       severe      362        2688\n",
       "3         high       97        1286\n",
       "4     moderate      180        2783\n",
       "5      minimal       95        2749"
      ]
     },
     "execution_count": 9,
     "metadata": {},
     "output_type": "execute_result"
    }
   ],
   "source": [
    "data"
   ]
  },
  {
   "cell_type": "markdown",
   "metadata": {},
   "source": [
    "### Prepare the data\n",
    "\n",
    "Initialise a new `DataFrame` using *data*, with the column *dose* as an ordered `Categorical` index to ensure that the data will be sorted as expected.\n"
   ]
  },
  {
   "cell_type": "code",
   "execution_count": 10,
   "metadata": {},
   "outputs": [
    {
     "name": "stdout",
     "output_type": "stream",
     "text": [
      "<class 'pandas.core.frame.DataFrame'>\n",
      "Int64Index: 6 entries, 0 to 5\n",
      "Data columns (total 3 columns):\n",
      " #   Column      Non-Null Count  Dtype   \n",
      "---  ------      --------------  -----   \n",
      " 0   dose        6 non-null      category\n",
      " 1   n_cases     6 non-null      int64   \n",
      " 2   n_controls  6 non-null      int64   \n",
      "dtypes: category(1), int64(2)\n",
      "memory usage: 370.0 bytes\n"
     ]
    }
   ],
   "source": [
    "cat_data = pd.DataFrame().assign(\n",
    "    dose=pd.Categorical(data['dose'], doses, ordered=True),\n",
    "    n_cases=data['n_cases'].to_numpy(),\n",
    "    n_controls=data['n_controls'].to_numpy()\n",
    ").sort_values(\n",
    "    by=['dose'],\n",
    "    ascending=False\n",
    ")\n",
    "cat_data.info()"
   ]
  },
  {
   "cell_type": "markdown",
   "metadata": {},
   "source": [
    "Output data with marginal subtotals."
   ]
  },
  {
   "cell_type": "code",
   "execution_count": 11,
   "metadata": {},
   "outputs": [
    {
     "data": {
      "text/html": [
       "<div>\n",
       "<style scoped>\n",
       "    .dataframe tbody tr th:only-of-type {\n",
       "        vertical-align: middle;\n",
       "    }\n",
       "\n",
       "    .dataframe tbody tr th {\n",
       "        vertical-align: top;\n",
       "    }\n",
       "\n",
       "    .dataframe thead th {\n",
       "        text-align: right;\n",
       "    }\n",
       "</style>\n",
       "<table border=\"1\" class=\"dataframe\">\n",
       "  <thead>\n",
       "    <tr style=\"text-align: right;\">\n",
       "      <th>n_casecons</th>\n",
       "      <th>n_cases</th>\n",
       "      <th>n_controls</th>\n",
       "      <th>subtotal</th>\n",
       "    </tr>\n",
       "    <tr>\n",
       "      <th>dose</th>\n",
       "      <th></th>\n",
       "      <th></th>\n",
       "      <th></th>\n",
       "    </tr>\n",
       "  </thead>\n",
       "  <tbody>\n",
       "    <tr>\n",
       "      <th>minimal</th>\n",
       "      <td>95</td>\n",
       "      <td>2749</td>\n",
       "      <td>2844</td>\n",
       "    </tr>\n",
       "    <tr>\n",
       "      <th>moderate</th>\n",
       "      <td>180</td>\n",
       "      <td>2783</td>\n",
       "      <td>2963</td>\n",
       "    </tr>\n",
       "    <tr>\n",
       "      <th>high</th>\n",
       "      <td>97</td>\n",
       "      <td>1286</td>\n",
       "      <td>1383</td>\n",
       "    </tr>\n",
       "    <tr>\n",
       "      <th>severe</th>\n",
       "      <td>362</td>\n",
       "      <td>2688</td>\n",
       "      <td>3050</td>\n",
       "    </tr>\n",
       "    <tr>\n",
       "      <th>very severe</th>\n",
       "      <td>260</td>\n",
       "      <td>1155</td>\n",
       "      <td>1415</td>\n",
       "    </tr>\n",
       "    <tr>\n",
       "      <th>extreme</th>\n",
       "      <td>174</td>\n",
       "      <td>595</td>\n",
       "      <td>769</td>\n",
       "    </tr>\n",
       "    <tr>\n",
       "      <th>subtotal</th>\n",
       "      <td>1168</td>\n",
       "      <td>11256</td>\n",
       "      <td>12424</td>\n",
       "    </tr>\n",
       "  </tbody>\n",
       "</table>\n",
       "</div>"
      ],
      "text/plain": [
       "n_casecons   n_cases  n_controls  subtotal\n",
       "dose                                      \n",
       "minimal           95        2749      2844\n",
       "moderate         180        2783      2963\n",
       "high              97        1286      1383\n",
       "severe           362        2688      3050\n",
       "very severe      260        1155      1415\n",
       "extreme          174         595       769\n",
       "subtotal        1168       11256     12424"
      ]
     },
     "execution_count": 11,
     "metadata": {},
     "output_type": "execute_result"
    }
   ],
   "source": [
    "cat_data.melt(\n",
    "    id_vars='dose',\n",
    "    var_name='n_casecons'\n",
    ").pivot_table(\n",
    "    index='dose',\n",
    "    columns='n_casecons',\n",
    "    values='value',\n",
    "    aggfunc='sum',\n",
    "    margins=True,\n",
    "    margins_name='subtotal'\n",
    ")"
   ]
  },
  {
   "cell_type": "markdown",
   "metadata": {},
   "source": [
    "### Dose-specific odds and odds ratios\n",
    "\n",
    "Get data with the dose-specific odds, log(odds), and odds ratios."
   ]
  },
  {
   "cell_type": "code",
   "execution_count": 12,
   "metadata": {},
   "outputs": [
    {
     "data": {
      "text/html": [
       "<div>\n",
       "<style scoped>\n",
       "    .dataframe tbody tr th:only-of-type {\n",
       "        vertical-align: middle;\n",
       "    }\n",
       "\n",
       "    .dataframe tbody tr th {\n",
       "        vertical-align: top;\n",
       "    }\n",
       "\n",
       "    .dataframe thead th {\n",
       "        text-align: right;\n",
       "    }\n",
       "</style>\n",
       "<table border=\"1\" class=\"dataframe\">\n",
       "  <thead>\n",
       "    <tr style=\"text-align: right;\">\n",
       "      <th></th>\n",
       "      <th>dose</th>\n",
       "      <th>n_cases</th>\n",
       "      <th>n_controls</th>\n",
       "      <th>odds</th>\n",
       "      <th>log_odds</th>\n",
       "      <th>odds_ratio</th>\n",
       "    </tr>\n",
       "  </thead>\n",
       "  <tbody>\n",
       "    <tr>\n",
       "      <th>0</th>\n",
       "      <td>extreme</td>\n",
       "      <td>174</td>\n",
       "      <td>595</td>\n",
       "      <td>0.292437</td>\n",
       "      <td>-1.229506</td>\n",
       "      <td>8.462203</td>\n",
       "    </tr>\n",
       "    <tr>\n",
       "      <th>1</th>\n",
       "      <td>very severe</td>\n",
       "      <td>260</td>\n",
       "      <td>1155</td>\n",
       "      <td>0.225108</td>\n",
       "      <td>-1.491174</td>\n",
       "      <td>6.513921</td>\n",
       "    </tr>\n",
       "    <tr>\n",
       "      <th>2</th>\n",
       "      <td>severe</td>\n",
       "      <td>362</td>\n",
       "      <td>2688</td>\n",
       "      <td>0.134673</td>\n",
       "      <td>-2.004908</td>\n",
       "      <td>3.897000</td>\n",
       "    </tr>\n",
       "    <tr>\n",
       "      <th>3</th>\n",
       "      <td>high</td>\n",
       "      <td>97</td>\n",
       "      <td>1286</td>\n",
       "      <td>0.075428</td>\n",
       "      <td>-2.584581</td>\n",
       "      <td>2.182639</td>\n",
       "    </tr>\n",
       "    <tr>\n",
       "      <th>4</th>\n",
       "      <td>moderate</td>\n",
       "      <td>180</td>\n",
       "      <td>2783</td>\n",
       "      <td>0.064678</td>\n",
       "      <td>-2.738328</td>\n",
       "      <td>1.871589</td>\n",
       "    </tr>\n",
       "    <tr>\n",
       "      <th>5</th>\n",
       "      <td>minimal</td>\n",
       "      <td>95</td>\n",
       "      <td>2749</td>\n",
       "      <td>0.034558</td>\n",
       "      <td>-3.365116</td>\n",
       "      <td>1.000000</td>\n",
       "    </tr>\n",
       "  </tbody>\n",
       "</table>\n",
       "</div>"
      ],
      "text/plain": [
       "          dose  n_cases  n_controls      odds  log_odds  odds_ratio\n",
       "0      extreme      174         595  0.292437 -1.229506    8.462203\n",
       "1  very severe      260        1155  0.225108 -1.491174    6.513921\n",
       "2       severe      362        2688  0.134673 -2.004908    3.897000\n",
       "3         high       97        1286  0.075428 -2.584581    2.182639\n",
       "4     moderate      180        2783  0.064678 -2.738328    1.871589\n",
       "5      minimal       95        2749  0.034558 -3.365116    1.000000"
      ]
     },
     "execution_count": 12,
     "metadata": {},
     "output_type": "execute_result"
    }
   ],
   "source": [
    "cat_data.assign(\n",
    "    odds=cat_data.pipe(get_odds_arr),\n",
    "    log_odds=np.log(cat_data.pipe(get_odds_arr)),\n",
    "    odds_ratio=cat_data.pipe(get_dose_odds_ratios_arr, ref_dose)\n",
    ")"
   ]
  },
  {
   "cell_type": "markdown",
   "metadata": {},
   "source": [
    "### Test for no linear trend\n",
    "\n",
    "Get the dose-specific log(odds)."
   ]
  },
  {
   "cell_type": "code",
   "execution_count": 13,
   "metadata": {},
   "outputs": [],
   "source": [
    "log_odds = np.log(cat_data.pipe(get_odds_arr))"
   ]
  },
  {
   "cell_type": "markdown",
   "metadata": {},
   "source": [
    "Plot the dose-specific log(odds)."
   ]
  },
  {
   "cell_type": "code",
   "execution_count": 14,
   "metadata": {},
   "outputs": [
    {
     "data": {
      "image/png": "[encoded data removed]",
      "text/plain": [
       "<Figure size 600x400 with 1 Axes>"
      ]
     },
     "metadata": {},
     "output_type": "display_data"
    }
   ],
   "source": [
    "sns.relplot(\n",
    "        x=cat_data['dose'],\n",
    "        y=log_odds,\n",
    "        kind='scatter',\n",
    "        height=4,\n",
    "        aspect=1.5\n",
    ")\n",
    "plt.ylabel('log(odds)')\n",
    "plt.show()"
   ]
  },
  {
   "cell_type": "markdown",
   "metadata": {},
   "source": [
    "Return the result of a test of no linear trend."
   ]
  },
  {
   "cell_type": "code",
   "execution_count": 15,
   "metadata": {},
   "outputs": [
    {
     "data": {
      "text/plain": [
       "pvalue    0.000111\n",
       "Name: test for no linear trend, dtype: float64"
      ]
     },
     "execution_count": 15,
     "metadata": {},
     "output_type": "execute_result"
    }
   ],
   "source": [
    "_r = st.linregress(\n",
    "    x=log_odds,\n",
    "    y=np.arange(log_odds.shape[0])\n",
    ")\n",
    "pd.Series(\n",
    "    data=_r.pvalue,\n",
    "    index=['pvalue'],\n",
    "    name='test for no linear trend'\n",
    ").round(\n",
    "    6\n",
    ")"
   ]
  },
  {
   "cell_type": "markdown",
   "metadata": {},
   "source": [
    "## References"
   ]
  }
 ],
 "metadata": {
  "interpreter": {
   "hash": "e3664f357c2b2734ea2c6777198af464a1d586bce7a4eafd7e49c68ceedc6949"
  },
  "kernelspec": {
   "display_name": "lr_stats",
   "language": "python",
   "name": "lr_stats"
  },
  "language_info": {
   "codemirror_mode": {
    "name": "ipython",
    "version": 3
   },
   "file_extension": ".py",
   "mimetype": "text/x-python",
   "name": "python",
   "nbconvert_exporter": "python",
   "pygments_lexer": "ipython3",
   "version": "3.10.6"
  },
  "toc-autonumbering": false
 },
 "nbformat": 4,
 "nbformat_minor": 4
}
