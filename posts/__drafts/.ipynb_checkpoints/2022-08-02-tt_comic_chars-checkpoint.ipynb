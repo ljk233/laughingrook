{
 "cells": [
  {
   "cell_type": "raw",
   "id": "0104a8e6-e667-44d9-a2e3-3899bbf3cbf7",
   "metadata": {},
   "source": [
    "---\n",
    "title: \"Comic Book Characters\"\n",
    "author: \"LaughingRook\"\n",
    "date: \"2022-07-05\"\n",
    "categories: [TidyTuesday]\n",
    "draft: true\n",
    "format:\n",
    "  html:\n",
    "    code-fold: true\n",
    "    code-tools: true\n",
    "---"
   ]
  },
  {
   "cell_type": "markdown",
   "id": "c6025a30-df35-4d4b-8bd3-38886a38c0a2",
   "metadata": {},
   "source": [
    "## Summary notes\n",
    "\n",
    "This **#TidyTuesday** project was posted back on 28th May, 2018.\n",
    "Here's the motivating tweet from [@thomas_mock](https://twitter.com/thomas_mock):\n",
    "\n",
    "<blockquote class=\"twitter-tweet\"><p lang=\"en\" dir=\"ltr\">The <a href=\"https://twitter.com/R4DScommunity?ref_src=twsrc%5Etfw\">@R4DScommunity</a> welcomes you to week 9 of <a href=\"https://twitter.com/hashtag/tidytuesday?src=hash&amp;ref_src=twsrc%5Etfw\">#tidytuesday</a>! Let&#39;s explore the world of comic book characters! This rich dataset comes from the <a href=\"https://twitter.com/FiveThirtyEight?ref_src=twsrc%5Etfw\">@fivethirtyeight</a> package! <br>Data: <a href=\"https://t.co/sElb4fcv3u\">https://t.co/sElb4fcv3u</a> <br>Article: <a href=\"https://t.co/4QD3cpbKE9\">https://t.co/4QD3cpbKE9</a> <a href=\"https://twitter.com/hashtag/rstats?src=hash&amp;ref_src=twsrc%5Etfw\">#rstats</a> <a href=\"https://twitter.com/hashtag/tidyverse?src=hash&amp;ref_src=twsrc%5Etfw\">#tidyverse</a> <a href=\"https://twitter.com/hashtag/dataviz?src=hash&amp;ref_src=twsrc%5Etfw\">#dataviz</a> <a href=\"https://twitter.com/hashtag/r4ds?src=hash&amp;ref_src=twsrc%5Etfw\">#r4ds</a> <a href=\"https://twitter.com/hashtag/comics?src=hash&amp;ref_src=twsrc%5Etfw\">#comics</a> <a href=\"https://t.co/VRki5rkJkS\">pic.twitter.com/VRki5rkJkS</a></p>&mdash; Tom Mock (@thomas_mock) <a href=\"https://twitter.com/thomas_mock/status/1001451167547908096?ref_src=twsrc%5Etfw\">May 29, 2018</a></blockquote> <script async src=\"https://platform.twitter.com/widgets.js\" charset=\"utf-8\"></script>\n",
    "\n",
    "We defined a `dataclass`, *Constants*, to hold our `str` literals.\n",
    "\n"
   ]
  },
  {
   "cell_type": "markdown",
   "id": "33f5a82c-fe3d-4d71-8f8e-22a5afc14e91",
   "metadata": {
    "tags": []
   },
   "source": [
    "## Dependencies"
   ]
  },
  {
   "cell_type": "code",
   "execution_count": 1,
   "id": "98b09c2b-1ba5-4044-8400-f5cfcffe0204",
   "metadata": {},
   "outputs": [],
   "source": [
    "from dataclasses import dataclass\n",
    "import numpy as np\n",
    "import pandas as pd\n",
    "import altair as alt"
   ]
  },
  {
   "cell_type": "markdown",
   "id": "89f4475d-0e0a-4099-9451-70917a3b06ac",
   "metadata": {
    "tags": []
   },
   "source": [
    "## Classes"
   ]
  },
  {
   "cell_type": "code",
   "execution_count": 2,
   "id": "d0c75fa8",
   "metadata": {},
   "outputs": [],
   "source": [
    "@dataclass(frozen=True)\n",
    "class Constants:\n",
    "    remote = ('https://raw.githubusercontent.com/rfordatascience/tidytuesday/'\n",
    "              + 'master/data/2018/2018-05-29/week9_comic_characters.csv')"
   ]
  },
  {
   "cell_type": "markdown",
   "id": "01522fbf-0b12-4793-8077-507c3a04d6e5",
   "metadata": {},
   "source": [
    "## Functions"
   ]
  },
  {
   "cell_type": "code",
   "execution_count": 3,
   "id": "21a99594-a120-4668-839b-d29eaa00a780",
   "metadata": {},
   "outputs": [],
   "source": [
    "def get_continuity(x: str) -> str:\n",
    "    if 'New Earth' in x:\n",
    "        return 'DC, New Earth continuity'\n",
    "    elif 'Earth-616' in x:\n",
    "        return 'Marvel, Earth-616 continuity'\n",
    "    else:\n",
    "        return 'NA'"
   ]
  },
  {
   "cell_type": "code",
   "execution_count": 4,
   "id": "4b741fa8-251b-4e37-9987-9e55bc75e5d6",
   "metadata": {},
   "outputs": [],
   "source": [
    "def is_female(x: str) -> bool:\n",
    "    if x == 'Female Characters':\n",
    "        return True\n",
    "    return False"
   ]
  },
  {
   "cell_type": "code",
   "execution_count": 5,
   "id": "2f3ba2c6-f924-4139-a955-6782c6af18d4",
   "metadata": {},
   "outputs": [],
   "source": [
    "def prop_females_per_year_by_publisher(df: pd.DataFrame) -> pd.Series:\n",
    "    return (\n",
    "        gsource.groupby(['publisher', 'year'])['is_female'].sum().cumsum()\n",
    "        / gsource.groupby(['publisher', 'year']).size().cumsum()\n",
    "    )"
   ]
  },
  {
   "cell_type": "markdown",
   "id": "e7df29be-c708-41ad-aeb7-6547930be901",
   "metadata": {
    "tags": []
   },
   "source": [
    "## Main"
   ]
  },
  {
   "cell_type": "markdown",
   "id": "4d6de4bb",
   "metadata": {
    "tags": []
   },
   "source": [
    "### Initialise the constants"
   ]
  },
  {
   "cell_type": "code",
   "execution_count": 6,
   "id": "1f9fe27f",
   "metadata": {},
   "outputs": [],
   "source": [
    "constants = Constants()"
   ]
  },
  {
   "cell_type": "markdown",
   "id": "b573e37d-903d-4216-9c95-d1cfe610dffc",
   "metadata": {
    "tags": []
   },
   "source": [
    "### Load the data"
   ]
  },
  {
   "cell_type": "code",
   "execution_count": 7,
   "id": "8e7b9b23",
   "metadata": {},
   "outputs": [
    {
     "name": "stdout",
     "output_type": "stream",
     "text": [
      "<class 'pandas.core.frame.DataFrame'>\n",
      "Int64Index: 23272 entries, 1 to 23272\n",
      "Data columns (total 16 columns):\n",
      " #   Column            Non-Null Count  Dtype  \n",
      "---  ------            --------------  -----  \n",
      " 0   publisher         23272 non-null  object \n",
      " 1   page_id           23272 non-null  int64  \n",
      " 2   name              23272 non-null  object \n",
      " 3   urlslug           23272 non-null  object \n",
      " 4   id                17489 non-null  object \n",
      " 5   align             17086 non-null  object \n",
      " 6   eye               9877 non-null   object \n",
      " 7   hair              16734 non-null  object \n",
      " 8   sex               22293 non-null  object \n",
      " 9   gsm               154 non-null    object \n",
      " 10  alive             23266 non-null  object \n",
      " 11  appearances       21821 non-null  float64\n",
      " 12  first_appearance  23203 non-null  object \n",
      " 13  month             22457 non-null  object \n",
      " 14  year              22388 non-null  float64\n",
      " 15  date              22386 non-null  object \n",
      "dtypes: float64(2), int64(1), object(13)\n",
      "memory usage: 3.0+ MB\n"
     ]
    }
   ],
   "source": [
    "#| code-summary: 'Ready honeyprod into a DataFrame`\n",
    "comics = pd.read_csv(constants.remote, index_col=0)\n",
    "comics.info()"
   ]
  },
  {
   "cell_type": "markdown",
   "id": "ba0f20b3",
   "metadata": {},
   "source": [
    "### Process the data\n",
    "\n",
    "We add two columns to support the analysis: *is_female* amd *continuity*."
   ]
  },
  {
   "cell_type": "code",
   "execution_count": 12,
   "id": "3dd56f5e",
   "metadata": {},
   "outputs": [
    {
     "name": "stdout",
     "output_type": "stream",
     "text": [
      "<class 'pandas.core.frame.DataFrame'>\n",
      "Int64Index: 23272 entries, 1 to 23272\n",
      "Data columns (total 18 columns):\n",
      " #   Column            Non-Null Count  Dtype  \n",
      "---  ------            --------------  -----  \n",
      " 0   publisher         23272 non-null  object \n",
      " 1   page_id           23272 non-null  int64  \n",
      " 2   name              23272 non-null  object \n",
      " 3   urlslug           23272 non-null  object \n",
      " 4   id                17489 non-null  object \n",
      " 5   align             17086 non-null  object \n",
      " 6   eye               9877 non-null   object \n",
      " 7   hair              16734 non-null  object \n",
      " 8   sex               22293 non-null  object \n",
      " 9   gsm               154 non-null    object \n",
      " 10  alive             23266 non-null  object \n",
      " 11  appearances       21821 non-null  float64\n",
      " 12  first_appearance  23203 non-null  object \n",
      " 13  month             22457 non-null  object \n",
      " 14  year              22388 non-null  float64\n",
      " 15  date              22386 non-null  object \n",
      " 16  continuity        23272 non-null  object \n",
      " 17  is_female         23272 non-null  bool   \n",
      "dtypes: bool(1), float64(2), int64(1), object(14)\n",
      "memory usage: 3.2+ MB\n"
     ]
    }
   ],
   "source": [
    "#| code-summary: 'Take view of comics and add columns for analysis'\n",
    "v_comics = comics\n",
    "# identify continuity\n",
    "v_comics[['continuity']] = v_comics[['name']].applymap(get_continuity)\n",
    "# identify if female character\n",
    "v_comics[['is_female']] = v_comics[['sex']].applymap(is_female)\n",
    "v_comics.info()"
   ]
  },
  {
   "cell_type": "markdown",
   "id": "c9504cf0",
   "metadata": {},
   "source": [
    "### Visualise the data"
   ]
  },
  {
   "cell_type": "code",
   "execution_count": 15,
   "id": "ae3df266-50be-4c65-8cd8-97db9dbdab57",
   "metadata": {},
   "outputs": [
    {
     "data": {
      "text/html": [
       "\n",
       "<div id=\"altair-viz-809a98cebf3b4f6f8567f54aba4a9a7e\"></div>\n",
       "<script type=\"text/javascript\">\n",
       "  var VEGA_DEBUG = (typeof VEGA_DEBUG == \"undefined\") ? {} : VEGA_DEBUG;\n",
       "  (function(spec, embedOpt){\n",
       "    let outputDiv = document.currentScript.previousElementSibling;\n",
       "    if (outputDiv.id !== \"altair-viz-809a98cebf3b4f6f8567f54aba4a9a7e\") {\n",
       "      outputDiv = document.getElementById(\"altair-viz-809a98cebf3b4f6f8567f54aba4a9a7e\");\n",
       "    }\n",
       "    const paths = {\n",
       "      \"vega\": \"https://cdn.jsdelivr.net/npm//vega@5?noext\",\n",
       "      \"vega-lib\": \"https://cdn.jsdelivr.net/npm//vega-lib?noext\",\n",
       "      \"vega-lite\": \"https://cdn.jsdelivr.net/npm//vega-lite@4.17.0?noext\",\n",
       "      \"vega-embed\": \"https://cdn.jsdelivr.net/npm//vega-embed@6?noext\",\n",
       "    };\n",
       "\n",
       "    function maybeLoadScript(lib, version) {\n",
       "      var key = `${lib.replace(\"-\", \"\")}_version`;\n",
       "      return (VEGA_DEBUG[key] == version) ?\n",
       "        Promise.resolve(paths[lib]) :\n",
       "        new Promise(function(resolve, reject) {\n",
       "          var s = document.createElement('script');\n",
       "          document.getElementsByTagName(\"head\")[0].appendChild(s);\n",
       "          s.async = true;\n",
       "          s.onload = () => {\n",
       "            VEGA_DEBUG[key] = version;\n",
       "            return resolve(paths[lib]);\n",
       "          };\n",
       "          s.onerror = () => reject(`Error loading script: ${paths[lib]}`);\n",
       "          s.src = paths[lib];\n",
       "        });\n",
       "    }\n",
       "\n",
       "    function showError(err) {\n",
       "      outputDiv.innerHTML = `<div class=\"error\" style=\"color:red;\">${err}</div>`;\n",
       "      throw err;\n",
       "    }\n",
       "\n",
       "    function displayChart(vegaEmbed) {\n",
       "      vegaEmbed(outputDiv, spec, embedOpt)\n",
       "        .catch(err => showError(`Javascript Error: ${err.message}<br>This usually means there's a typo in your chart specification. See the javascript console for the full traceback.`));\n",
       "    }\n",
       "\n",
       "    if(typeof define === \"function\" && define.amd) {\n",
       "      requirejs.config({paths});\n",
       "      require([\"vega-embed\"], displayChart, err => showError(`Error loading script: ${err.message}`));\n",
       "    } else {\n",
       "      maybeLoadScript(\"vega\", \"5\")\n",
       "        .then(() => maybeLoadScript(\"vega-lite\", \"4.17.0\"))\n",
       "        .then(() => maybeLoadScript(\"vega-embed\", \"6\"))\n",
       "        .catch(showError)\n",
       "        .then(() => displayChart(vegaEmbed));\n",
       "    }\n",
       "  })({\"config\": {\"view\": {\"continuousWidth\": 400, \"continuousHeight\": 300}}, \"data\": {\"name\": \"data-025d59a788617cd9c3e39646e11565cc\"}, \"facet\": {\"field\": \"continuity\", \"type\": \"nominal\"}, \"spec\": {\"mark\": \"bar\", \"encoding\": {\"color\": {\"field\": \"continuity\", \"legend\": null, \"type\": \"nominal\"}, \"x\": {\"field\": \"year\", \"type\": \"temporal\"}, \"y\": {\"field\": \"new_chars\", \"type\": \"quantitative\"}}, \"width\": 300}, \"title\": \"New Comic Book Characters Introduced Per Year By Continuity\", \"$schema\": \"https://vega.github.io/schema/vega-lite/v4.17.0.json\", \"datasets\": {\"data-025d59a788617cd9c3e39646e11565cc\": [{\"continuity\": \"DC, New Earth continuity\", \"year\": \"1935-01-01T00:00:00\", \"new_chars\": 1}, {\"continuity\": \"DC, New Earth continuity\", \"year\": \"1936-01-01T00:00:00\", \"new_chars\": 9}, {\"continuity\": \"DC, New Earth continuity\", \"year\": \"1937-01-01T00:00:00\", \"new_chars\": 4}, {\"continuity\": \"DC, New Earth continuity\", \"year\": \"1938-01-01T00:00:00\", \"new_chars\": 10}, {\"continuity\": \"DC, New Earth continuity\", \"year\": \"1939-01-01T00:00:00\", \"new_chars\": 17}, {\"continuity\": \"DC, New Earth continuity\", \"year\": \"1940-01-01T00:00:00\", \"new_chars\": 60}, {\"continuity\": \"DC, New Earth continuity\", \"year\": \"1941-01-01T00:00:00\", \"new_chars\": 57}, {\"continuity\": \"DC, New Earth continuity\", \"year\": \"1942-01-01T00:00:00\", \"new_chars\": 51}, {\"continuity\": \"DC, New Earth continuity\", \"year\": \"1943-01-01T00:00:00\", \"new_chars\": 13}, {\"continuity\": \"DC, New Earth continuity\", \"year\": \"1944-01-01T00:00:00\", \"new_chars\": 15}, {\"continuity\": \"DC, New Earth continuity\", \"year\": \"1945-01-01T00:00:00\", \"new_chars\": 7}, {\"continuity\": \"DC, New Earth continuity\", \"year\": \"1946-01-01T00:00:00\", \"new_chars\": 8}, {\"continuity\": \"DC, New Earth continuity\", \"year\": \"1947-01-01T00:00:00\", \"new_chars\": 20}, {\"continuity\": \"DC, New Earth continuity\", \"year\": \"1948-01-01T00:00:00\", \"new_chars\": 20}, {\"continuity\": \"DC, New Earth continuity\", \"year\": \"1949-01-01T00:00:00\", \"new_chars\": 6}, {\"continuity\": \"DC, New Earth continuity\", \"year\": \"1950-01-01T00:00:00\", \"new_chars\": 9}, {\"continuity\": \"DC, New Earth continuity\", \"year\": \"1951-01-01T00:00:00\", \"new_chars\": 12}, {\"continuity\": \"DC, New Earth continuity\", \"year\": \"1952-01-01T00:00:00\", \"new_chars\": 5}, {\"continuity\": \"DC, New Earth continuity\", \"year\": \"1953-01-01T00:00:00\", \"new_chars\": 1}, {\"continuity\": \"DC, New Earth continuity\", \"year\": \"1954-01-01T00:00:00\", \"new_chars\": 6}, {\"continuity\": \"DC, New Earth continuity\", \"year\": \"1955-01-01T00:00:00\", \"new_chars\": 12}, {\"continuity\": \"DC, New Earth continuity\", \"year\": \"1956-01-01T00:00:00\", \"new_chars\": 10}, {\"continuity\": \"DC, New Earth continuity\", \"year\": \"1957-01-01T00:00:00\", \"new_chars\": 12}, {\"continuity\": \"DC, New Earth continuity\", \"year\": \"1958-01-01T00:00:00\", \"new_chars\": 15}, {\"continuity\": \"DC, New Earth continuity\", \"year\": \"1959-01-01T00:00:00\", \"new_chars\": 33}, {\"continuity\": \"DC, New Earth continuity\", \"year\": \"1960-01-01T00:00:00\", \"new_chars\": 36}, {\"continuity\": \"DC, New Earth continuity\", \"year\": \"1961-01-01T00:00:00\", \"new_chars\": 47}, {\"continuity\": \"DC, New Earth continuity\", \"year\": \"1962-01-01T00:00:00\", \"new_chars\": 41}, {\"continuity\": \"DC, New Earth continuity\", \"year\": \"1963-01-01T00:00:00\", \"new_chars\": 40}, {\"continuity\": \"DC, New Earth continuity\", \"year\": \"1964-01-01T00:00:00\", \"new_chars\": 31}, {\"continuity\": \"DC, New Earth continuity\", \"year\": \"1965-01-01T00:00:00\", \"new_chars\": 48}, {\"continuity\": \"DC, New Earth continuity\", \"year\": \"1966-01-01T00:00:00\", \"new_chars\": 59}, {\"continuity\": \"DC, New Earth continuity\", \"year\": \"1967-01-01T00:00:00\", \"new_chars\": 55}, {\"continuity\": \"DC, New Earth continuity\", \"year\": \"1968-01-01T00:00:00\", \"new_chars\": 60}, {\"continuity\": \"DC, New Earth continuity\", \"year\": \"1969-01-01T00:00:00\", \"new_chars\": 23}, {\"continuity\": \"DC, New Earth continuity\", \"year\": \"1970-01-01T00:00:00\", \"new_chars\": 28}, {\"continuity\": \"DC, New Earth continuity\", \"year\": \"1971-01-01T00:00:00\", \"new_chars\": 65}, {\"continuity\": \"DC, New Earth continuity\", \"year\": \"1972-01-01T00:00:00\", \"new_chars\": 60}, {\"continuity\": \"DC, New Earth continuity\", \"year\": \"1973-01-01T00:00:00\", \"new_chars\": 19}, {\"continuity\": \"DC, New Earth continuity\", \"year\": \"1974-01-01T00:00:00\", \"new_chars\": 17}, {\"continuity\": \"DC, New Earth continuity\", \"year\": \"1975-01-01T00:00:00\", \"new_chars\": 39}, {\"continuity\": \"DC, New Earth continuity\", \"year\": \"1976-01-01T00:00:00\", \"new_chars\": 41}, {\"continuity\": \"DC, New Earth continuity\", \"year\": \"1977-01-01T00:00:00\", \"new_chars\": 52}, {\"continuity\": \"DC, New Earth continuity\", \"year\": \"1978-01-01T00:00:00\", \"new_chars\": 58}, {\"continuity\": \"DC, New Earth continuity\", \"year\": \"1979-01-01T00:00:00\", \"new_chars\": 26}, {\"continuity\": \"DC, New Earth continuity\", \"year\": \"1980-01-01T00:00:00\", \"new_chars\": 35}, {\"continuity\": \"DC, New Earth continuity\", \"year\": \"1981-01-01T00:00:00\", \"new_chars\": 106}, {\"continuity\": \"DC, New Earth continuity\", \"year\": \"1982-01-01T00:00:00\", \"new_chars\": 102}, {\"continuity\": \"DC, New Earth continuity\", \"year\": \"1983-01-01T00:00:00\", \"new_chars\": 158}, {\"continuity\": \"DC, New Earth continuity\", \"year\": \"1984-01-01T00:00:00\", \"new_chars\": 137}, {\"continuity\": \"DC, New Earth continuity\", \"year\": \"1985-01-01T00:00:00\", \"new_chars\": 114}, {\"continuity\": \"DC, New Earth continuity\", \"year\": \"1986-01-01T00:00:00\", \"new_chars\": 130}, {\"continuity\": \"DC, New Earth continuity\", \"year\": \"1987-01-01T00:00:00\", \"new_chars\": 252}, {\"continuity\": \"DC, New Earth continuity\", \"year\": \"1988-01-01T00:00:00\", \"new_chars\": 285}, {\"continuity\": \"DC, New Earth continuity\", \"year\": \"1989-01-01T00:00:00\", \"new_chars\": 266}, {\"continuity\": \"DC, New Earth continuity\", \"year\": \"1990-01-01T00:00:00\", \"new_chars\": 174}, {\"continuity\": \"DC, New Earth continuity\", \"year\": \"1991-01-01T00:00:00\", \"new_chars\": 140}, {\"continuity\": \"DC, New Earth continuity\", \"year\": \"1992-01-01T00:00:00\", \"new_chars\": 178}, {\"continuity\": \"DC, New Earth continuity\", \"year\": \"1993-01-01T00:00:00\", \"new_chars\": 197}, {\"continuity\": \"DC, New Earth continuity\", \"year\": \"1994-01-01T00:00:00\", \"new_chars\": 219}, {\"continuity\": \"DC, New Earth continuity\", \"year\": \"1995-01-01T00:00:00\", \"new_chars\": 172}, {\"continuity\": \"DC, New Earth continuity\", \"year\": \"1996-01-01T00:00:00\", \"new_chars\": 188}, {\"continuity\": \"DC, New Earth continuity\", \"year\": \"1997-01-01T00:00:00\", \"new_chars\": 187}, {\"continuity\": \"DC, New Earth continuity\", \"year\": \"1998-01-01T00:00:00\", \"new_chars\": 139}, {\"continuity\": \"DC, New Earth continuity\", \"year\": \"1999-01-01T00:00:00\", \"new_chars\": 179}, {\"continuity\": \"DC, New Earth continuity\", \"year\": \"2000-01-01T00:00:00\", \"new_chars\": 152}, {\"continuity\": \"DC, New Earth continuity\", \"year\": \"2001-01-01T00:00:00\", \"new_chars\": 95}, {\"continuity\": \"DC, New Earth continuity\", \"year\": \"2002-01-01T00:00:00\", \"new_chars\": 115}, {\"continuity\": \"DC, New Earth continuity\", \"year\": \"2003-01-01T00:00:00\", \"new_chars\": 103}, {\"continuity\": \"DC, New Earth continuity\", \"year\": \"2004-01-01T00:00:00\", \"new_chars\": 102}, {\"continuity\": \"DC, New Earth continuity\", \"year\": \"2005-01-01T00:00:00\", \"new_chars\": 159}, {\"continuity\": \"DC, New Earth continuity\", \"year\": \"2006-01-01T00:00:00\", \"new_chars\": 302}, {\"continuity\": \"DC, New Earth continuity\", \"year\": \"2007-01-01T00:00:00\", \"new_chars\": 187}, {\"continuity\": \"DC, New Earth continuity\", \"year\": \"2008-01-01T00:00:00\", \"new_chars\": 211}, {\"continuity\": \"DC, New Earth continuity\", \"year\": \"2009-01-01T00:00:00\", \"new_chars\": 225}, {\"continuity\": \"DC, New Earth continuity\", \"year\": \"2010-01-01T00:00:00\", \"new_chars\": 278}, {\"continuity\": \"DC, New Earth continuity\", \"year\": \"2011-01-01T00:00:00\", \"new_chars\": 153}, {\"continuity\": \"Marvel, Earth-616 continuity\", \"year\": \"1939-01-01T00:00:00\", \"new_chars\": 69}, {\"continuity\": \"Marvel, Earth-616 continuity\", \"year\": \"1940-01-01T00:00:00\", \"new_chars\": 220}, {\"continuity\": \"Marvel, Earth-616 continuity\", \"year\": \"1941-01-01T00:00:00\", \"new_chars\": 206}, {\"continuity\": \"Marvel, Earth-616 continuity\", \"year\": \"1942-01-01T00:00:00\", \"new_chars\": 243}, {\"continuity\": \"Marvel, Earth-616 continuity\", \"year\": \"1943-01-01T00:00:00\", \"new_chars\": 198}, {\"continuity\": \"Marvel, Earth-616 continuity\", \"year\": \"1944-01-01T00:00:00\", \"new_chars\": 134}, {\"continuity\": \"Marvel, Earth-616 continuity\", \"year\": \"1945-01-01T00:00:00\", \"new_chars\": 97}, {\"continuity\": \"Marvel, Earth-616 continuity\", \"year\": \"1946-01-01T00:00:00\", \"new_chars\": 90}, {\"continuity\": \"Marvel, Earth-616 continuity\", \"year\": \"1947-01-01T00:00:00\", \"new_chars\": 72}, {\"continuity\": \"Marvel, Earth-616 continuity\", \"year\": \"1948-01-01T00:00:00\", \"new_chars\": 116}, {\"continuity\": \"Marvel, Earth-616 continuity\", \"year\": \"1949-01-01T00:00:00\", \"new_chars\": 62}, {\"continuity\": \"Marvel, Earth-616 continuity\", \"year\": \"1950-01-01T00:00:00\", \"new_chars\": 28}, {\"continuity\": \"Marvel, Earth-616 continuity\", \"year\": \"1951-01-01T00:00:00\", \"new_chars\": 54}, {\"continuity\": \"Marvel, Earth-616 continuity\", \"year\": \"1952-01-01T00:00:00\", \"new_chars\": 25}, {\"continuity\": \"Marvel, Earth-616 continuity\", \"year\": \"1953-01-01T00:00:00\", \"new_chars\": 39}, {\"continuity\": \"Marvel, Earth-616 continuity\", \"year\": \"1954-01-01T00:00:00\", \"new_chars\": 82}, {\"continuity\": \"Marvel, Earth-616 continuity\", \"year\": \"1955-01-01T00:00:00\", \"new_chars\": 43}, {\"continuity\": \"Marvel, Earth-616 continuity\", \"year\": \"1956-01-01T00:00:00\", \"new_chars\": 16}, {\"continuity\": \"Marvel, Earth-616 continuity\", \"year\": \"1957-01-01T00:00:00\", \"new_chars\": 7}, {\"continuity\": \"Marvel, Earth-616 continuity\", \"year\": \"1958-01-01T00:00:00\", \"new_chars\": 2}, {\"continuity\": \"Marvel, Earth-616 continuity\", \"year\": \"1959-01-01T00:00:00\", \"new_chars\": 4}, {\"continuity\": \"Marvel, Earth-616 continuity\", \"year\": \"1960-01-01T00:00:00\", \"new_chars\": 40}, {\"continuity\": \"Marvel, Earth-616 continuity\", \"year\": \"1961-01-01T00:00:00\", \"new_chars\": 84}, {\"continuity\": \"Marvel, Earth-616 continuity\", \"year\": \"1962-01-01T00:00:00\", \"new_chars\": 102}, {\"continuity\": \"Marvel, Earth-616 continuity\", \"year\": \"1963-01-01T00:00:00\", \"new_chars\": 182}, {\"continuity\": \"Marvel, Earth-616 continuity\", \"year\": \"1964-01-01T00:00:00\", \"new_chars\": 174}, {\"continuity\": \"Marvel, Earth-616 continuity\", \"year\": \"1965-01-01T00:00:00\", \"new_chars\": 180}, {\"continuity\": \"Marvel, Earth-616 continuity\", \"year\": \"1966-01-01T00:00:00\", \"new_chars\": 140}, {\"continuity\": \"Marvel, Earth-616 continuity\", \"year\": \"1967-01-01T00:00:00\", \"new_chars\": 124}, {\"continuity\": \"Marvel, Earth-616 continuity\", \"year\": \"1968-01-01T00:00:00\", \"new_chars\": 142}, {\"continuity\": \"Marvel, Earth-616 continuity\", \"year\": \"1969-01-01T00:00:00\", \"new_chars\": 134}, {\"continuity\": \"Marvel, Earth-616 continuity\", \"year\": \"1970-01-01T00:00:00\", \"new_chars\": 132}, {\"continuity\": \"Marvel, Earth-616 continuity\", \"year\": \"1971-01-01T00:00:00\", \"new_chars\": 113}, {\"continuity\": \"Marvel, Earth-616 continuity\", \"year\": \"1972-01-01T00:00:00\", \"new_chars\": 181}, {\"continuity\": \"Marvel, Earth-616 continuity\", \"year\": \"1973-01-01T00:00:00\", \"new_chars\": 243}, {\"continuity\": \"Marvel, Earth-616 continuity\", \"year\": \"1974-01-01T00:00:00\", \"new_chars\": 239}, {\"continuity\": \"Marvel, Earth-616 continuity\", \"year\": \"1975-01-01T00:00:00\", \"new_chars\": 287}, {\"continuity\": \"Marvel, Earth-616 continuity\", \"year\": \"1976-01-01T00:00:00\", \"new_chars\": 305}, {\"continuity\": \"Marvel, Earth-616 continuity\", \"year\": \"1977-01-01T00:00:00\", \"new_chars\": 289}, {\"continuity\": \"Marvel, Earth-616 continuity\", \"year\": \"1978-01-01T00:00:00\", \"new_chars\": 199}, {\"continuity\": \"Marvel, Earth-616 continuity\", \"year\": \"1979-01-01T00:00:00\", \"new_chars\": 234}, {\"continuity\": \"Marvel, Earth-616 continuity\", \"year\": \"1980-01-01T00:00:00\", \"new_chars\": 256}, {\"continuity\": \"Marvel, Earth-616 continuity\", \"year\": \"1981-01-01T00:00:00\", \"new_chars\": 226}, {\"continuity\": \"Marvel, Earth-616 continuity\", \"year\": \"1982-01-01T00:00:00\", \"new_chars\": 216}, {\"continuity\": \"Marvel, Earth-616 continuity\", \"year\": \"1983-01-01T00:00:00\", \"new_chars\": 193}, {\"continuity\": \"Marvel, Earth-616 continuity\", \"year\": \"1984-01-01T00:00:00\", \"new_chars\": 222}, {\"continuity\": \"Marvel, Earth-616 continuity\", \"year\": \"1985-01-01T00:00:00\", \"new_chars\": 253}, {\"continuity\": \"Marvel, Earth-616 continuity\", \"year\": \"1986-01-01T00:00:00\", \"new_chars\": 246}, {\"continuity\": \"Marvel, Earth-616 continuity\", \"year\": \"1987-01-01T00:00:00\", \"new_chars\": 181}, {\"continuity\": \"Marvel, Earth-616 continuity\", \"year\": \"1988-01-01T00:00:00\", \"new_chars\": 303}, {\"continuity\": \"Marvel, Earth-616 continuity\", \"year\": \"1989-01-01T00:00:00\", \"new_chars\": 321}, {\"continuity\": \"Marvel, Earth-616 continuity\", \"year\": \"1990-01-01T00:00:00\", \"new_chars\": 355}, {\"continuity\": \"Marvel, Earth-616 continuity\", \"year\": \"1991-01-01T00:00:00\", \"new_chars\": 359}, {\"continuity\": \"Marvel, Earth-616 continuity\", \"year\": \"1992-01-01T00:00:00\", \"new_chars\": 452}, {\"continuity\": \"Marvel, Earth-616 continuity\", \"year\": \"1993-01-01T00:00:00\", \"new_chars\": 551}, {\"continuity\": \"Marvel, Earth-616 continuity\", \"year\": \"1994-01-01T00:00:00\", \"new_chars\": 484}, {\"continuity\": \"Marvel, Earth-616 continuity\", \"year\": \"1995-01-01T00:00:00\", \"new_chars\": 300}, {\"continuity\": \"Marvel, Earth-616 continuity\", \"year\": \"1996-01-01T00:00:00\", \"new_chars\": 305}, {\"continuity\": \"Marvel, Earth-616 continuity\", \"year\": \"1997-01-01T00:00:00\", \"new_chars\": 334}, {\"continuity\": \"Marvel, Earth-616 continuity\", \"year\": \"1998-01-01T00:00:00\", \"new_chars\": 271}, {\"continuity\": \"Marvel, Earth-616 continuity\", \"year\": \"1999-01-01T00:00:00\", \"new_chars\": 226}, {\"continuity\": \"Marvel, Earth-616 continuity\", \"year\": \"2000-01-01T00:00:00\", \"new_chars\": 321}, {\"continuity\": \"Marvel, Earth-616 continuity\", \"year\": \"2001-01-01T00:00:00\", \"new_chars\": 225}, {\"continuity\": \"Marvel, Earth-616 continuity\", \"year\": \"2002-01-01T00:00:00\", \"new_chars\": 310}, {\"continuity\": \"Marvel, Earth-616 continuity\", \"year\": \"2003-01-01T00:00:00\", \"new_chars\": 256}, {\"continuity\": \"Marvel, Earth-616 continuity\", \"year\": \"2004-01-01T00:00:00\", \"new_chars\": 280}, {\"continuity\": \"Marvel, Earth-616 continuity\", \"year\": \"2005-01-01T00:00:00\", \"new_chars\": 333}, {\"continuity\": \"Marvel, Earth-616 continuity\", \"year\": \"2006-01-01T00:00:00\", \"new_chars\": 380}, {\"continuity\": \"Marvel, Earth-616 continuity\", \"year\": \"2007-01-01T00:00:00\", \"new_chars\": 307}, {\"continuity\": \"Marvel, Earth-616 continuity\", \"year\": \"2008-01-01T00:00:00\", \"new_chars\": 358}, {\"continuity\": \"Marvel, Earth-616 continuity\", \"year\": \"2009-01-01T00:00:00\", \"new_chars\": 301}, {\"continuity\": \"Marvel, Earth-616 continuity\", \"year\": \"2010-01-01T00:00:00\", \"new_chars\": 324}, {\"continuity\": \"Marvel, Earth-616 continuity\", \"year\": \"2011-01-01T00:00:00\", \"new_chars\": 348}]}}, {\"mode\": \"vega-lite\"});\n",
       "</script>"
      ],
      "text/plain": [
       "alt.FacetChart(...)"
      ]
     },
     "execution_count": 15,
     "metadata": {},
     "output_type": "execute_result"
    }
   ],
   "source": [
    "#| code-summary: 'New Comic Book Characters Introduced Per Year By Continuity'\n",
    "gsource = v_comics[['continuity', 'year']].dropna()\n",
    "gsource['year'] = pd.to_datetime(gsource['year'], format='%Y')\n",
    "gsource = (\n",
    "    gsource\n",
    "    .get(['continuity', 'year'])\n",
    "    .query(\"continuity != 'NA' and year < '2011-01-02'\")\n",
    "    .groupby(['continuity', 'year'])\n",
    "    .size()\n",
    "    .rename('new_chars')\n",
    "    .to_frame().reset_index()\n",
    ")\n",
    "\n",
    "alt.Chart(gsource).mark_bar().encode(\n",
    "    x='year',\n",
    "    y='new_chars',\n",
    "    color=alt.Color('continuity', legend=None)\n",
    ").properties(\n",
    "    width=300\n",
    ").facet(\n",
    "    facet='continuity',\n",
    "    title='New Comic Book Characters Introduced Per Year By Continuity'\n",
    ")"
   ]
  },
  {
   "cell_type": "code",
   "execution_count": 22,
   "id": "bd92ac49",
   "metadata": {},
   "outputs": [
    {
     "data": {
      "text/html": [
       "\n",
       "<div id=\"altair-viz-4d20b00d31884cc8ac20d35dae863b7e\"></div>\n",
       "<script type=\"text/javascript\">\n",
       "  var VEGA_DEBUG = (typeof VEGA_DEBUG == \"undefined\") ? {} : VEGA_DEBUG;\n",
       "  (function(spec, embedOpt){\n",
       "    let outputDiv = document.currentScript.previousElementSibling;\n",
       "    if (outputDiv.id !== \"altair-viz-4d20b00d31884cc8ac20d35dae863b7e\") {\n",
       "      outputDiv = document.getElementById(\"altair-viz-4d20b00d31884cc8ac20d35dae863b7e\");\n",
       "    }\n",
       "    const paths = {\n",
       "      \"vega\": \"https://cdn.jsdelivr.net/npm//vega@5?noext\",\n",
       "      \"vega-lib\": \"https://cdn.jsdelivr.net/npm//vega-lib?noext\",\n",
       "      \"vega-lite\": \"https://cdn.jsdelivr.net/npm//vega-lite@4.17.0?noext\",\n",
       "      \"vega-embed\": \"https://cdn.jsdelivr.net/npm//vega-embed@6?noext\",\n",
       "    };\n",
       "\n",
       "    function maybeLoadScript(lib, version) {\n",
       "      var key = `${lib.replace(\"-\", \"\")}_version`;\n",
       "      return (VEGA_DEBUG[key] == version) ?\n",
       "        Promise.resolve(paths[lib]) :\n",
       "        new Promise(function(resolve, reject) {\n",
       "          var s = document.createElement('script');\n",
       "          document.getElementsByTagName(\"head\")[0].appendChild(s);\n",
       "          s.async = true;\n",
       "          s.onload = () => {\n",
       "            VEGA_DEBUG[key] = version;\n",
       "            return resolve(paths[lib]);\n",
       "          };\n",
       "          s.onerror = () => reject(`Error loading script: ${paths[lib]}`);\n",
       "          s.src = paths[lib];\n",
       "        });\n",
       "    }\n",
       "\n",
       "    function showError(err) {\n",
       "      outputDiv.innerHTML = `<div class=\"error\" style=\"color:red;\">${err}</div>`;\n",
       "      throw err;\n",
       "    }\n",
       "\n",
       "    function displayChart(vegaEmbed) {\n",
       "      vegaEmbed(outputDiv, spec, embedOpt)\n",
       "        .catch(err => showError(`Javascript Error: ${err.message}<br>This usually means there's a typo in your chart specification. See the javascript console for the full traceback.`));\n",
       "    }\n",
       "\n",
       "    if(typeof define === \"function\" && define.amd) {\n",
       "      requirejs.config({paths});\n",
       "      require([\"vega-embed\"], displayChart, err => showError(`Error loading script: ${err.message}`));\n",
       "    } else {\n",
       "      maybeLoadScript(\"vega\", \"5\")\n",
       "        .then(() => maybeLoadScript(\"vega-lite\", \"4.17.0\"))\n",
       "        .then(() => maybeLoadScript(\"vega-embed\", \"6\"))\n",
       "        .catch(showError)\n",
       "        .then(() => displayChart(vegaEmbed));\n",
       "    }\n",
       "  })({\"config\": {\"view\": {\"continuousWidth\": 400, \"continuousHeight\": 300}}, \"data\": {\"name\": \"data-905c9160115a69f9356a2bd18d06ac8d\"}, \"mark\": \"line\", \"encoding\": {\"color\": {\"field\": \"continuity\", \"type\": \"nominal\"}, \"x\": {\"field\": \"year\", \"type\": \"temporal\"}, \"y\": {\"field\": \"pct_females\", \"type\": \"quantitative\"}}, \"width\": 600, \"$schema\": \"https://vega.github.io/schema/vega-lite/v4.17.0.json\", \"datasets\": {\"data-905c9160115a69f9356a2bd18d06ac8d\": [{\"continuity\": \"DC, New Earth continuity\", \"year\": \"1939-01-01T00:00:00\", \"pct_females\": 29.4}, {\"continuity\": \"DC, New Earth continuity\", \"year\": \"1940-01-01T00:00:00\", \"pct_females\": 18.2}, {\"continuity\": \"DC, New Earth continuity\", \"year\": \"1941-01-01T00:00:00\", \"pct_females\": 15.7}, {\"continuity\": \"DC, New Earth continuity\", \"year\": \"1942-01-01T00:00:00\", \"pct_females\": 14.1}, {\"continuity\": \"DC, New Earth continuity\", \"year\": \"1943-01-01T00:00:00\", \"pct_females\": 13.1}, {\"continuity\": \"DC, New Earth continuity\", \"year\": \"1944-01-01T00:00:00\", \"pct_females\": 13.6}, {\"continuity\": \"DC, New Earth continuity\", \"year\": \"1945-01-01T00:00:00\", \"pct_females\": 13.2}, {\"continuity\": \"DC, New Earth continuity\", \"year\": \"1946-01-01T00:00:00\", \"pct_females\": 13.2}, {\"continuity\": \"DC, New Earth continuity\", \"year\": \"1947-01-01T00:00:00\", \"pct_females\": 14.1}, {\"continuity\": \"DC, New Earth continuity\", \"year\": \"1948-01-01T00:00:00\", \"pct_females\": 14.6}, {\"continuity\": \"DC, New Earth continuity\", \"year\": \"1949-01-01T00:00:00\", \"pct_females\": 14.2}, {\"continuity\": \"DC, New Earth continuity\", \"year\": \"1950-01-01T00:00:00\", \"pct_females\": 13.8}, {\"continuity\": \"DC, New Earth continuity\", \"year\": \"1951-01-01T00:00:00\", \"pct_females\": 13.6}, {\"continuity\": \"DC, New Earth continuity\", \"year\": \"1952-01-01T00:00:00\", \"pct_females\": 13.3}, {\"continuity\": \"DC, New Earth continuity\", \"year\": \"1953-01-01T00:00:00\", \"pct_females\": 13.3}, {\"continuity\": \"DC, New Earth continuity\", \"year\": \"1954-01-01T00:00:00\", \"pct_females\": 13.0}, {\"continuity\": \"DC, New Earth continuity\", \"year\": \"1955-01-01T00:00:00\", \"pct_females\": 13.2}, {\"continuity\": \"DC, New Earth continuity\", \"year\": \"1956-01-01T00:00:00\", \"pct_females\": 13.1}, {\"continuity\": \"DC, New Earth continuity\", \"year\": \"1957-01-01T00:00:00\", \"pct_females\": 13.2}, {\"continuity\": \"DC, New Earth continuity\", \"year\": \"1958-01-01T00:00:00\", \"pct_females\": 13.2}, {\"continuity\": \"DC, New Earth continuity\", \"year\": \"1959-01-01T00:00:00\", \"pct_females\": 13.9}, {\"continuity\": \"DC, New Earth continuity\", \"year\": \"1960-01-01T00:00:00\", \"pct_females\": 13.6}, {\"continuity\": \"DC, New Earth continuity\", \"year\": \"1961-01-01T00:00:00\", \"pct_females\": 13.6}, {\"continuity\": \"DC, New Earth continuity\", \"year\": \"1962-01-01T00:00:00\", \"pct_females\": 13.5}, {\"continuity\": \"DC, New Earth continuity\", \"year\": \"1963-01-01T00:00:00\", \"pct_females\": 13.6}, {\"continuity\": \"DC, New Earth continuity\", \"year\": \"1964-01-01T00:00:00\", \"pct_females\": 13.9}, {\"continuity\": \"DC, New Earth continuity\", \"year\": \"1965-01-01T00:00:00\", \"pct_females\": 14.1}, {\"continuity\": \"DC, New Earth continuity\", \"year\": \"1966-01-01T00:00:00\", \"pct_females\": 14.5}, {\"continuity\": \"DC, New Earth continuity\", \"year\": \"1967-01-01T00:00:00\", \"pct_females\": 14.6}, {\"continuity\": \"DC, New Earth continuity\", \"year\": \"1968-01-01T00:00:00\", \"pct_females\": 15.8}, {\"continuity\": \"DC, New Earth continuity\", \"year\": \"1969-01-01T00:00:00\", \"pct_females\": 16.5}, {\"continuity\": \"DC, New Earth continuity\", \"year\": \"1970-01-01T00:00:00\", \"pct_females\": 16.3}, {\"continuity\": \"DC, New Earth continuity\", \"year\": \"1971-01-01T00:00:00\", \"pct_females\": 15.9}, {\"continuity\": \"DC, New Earth continuity\", \"year\": \"1972-01-01T00:00:00\", \"pct_females\": 16.8}, {\"continuity\": \"DC, New Earth continuity\", \"year\": \"1973-01-01T00:00:00\", \"pct_females\": 16.9}, {\"continuity\": \"DC, New Earth continuity\", \"year\": \"1974-01-01T00:00:00\", \"pct_females\": 16.6}, {\"continuity\": \"DC, New Earth continuity\", \"year\": \"1975-01-01T00:00:00\", \"pct_females\": 16.3}, {\"continuity\": \"DC, New Earth continuity\", \"year\": \"1976-01-01T00:00:00\", \"pct_females\": 16.6}, {\"continuity\": \"DC, New Earth continuity\", \"year\": \"1977-01-01T00:00:00\", \"pct_females\": 16.8}, {\"continuity\": \"DC, New Earth continuity\", \"year\": \"1978-01-01T00:00:00\", \"pct_females\": 17.6}, {\"continuity\": \"DC, New Earth continuity\", \"year\": \"1979-01-01T00:00:00\", \"pct_females\": 17.6}, {\"continuity\": \"DC, New Earth continuity\", \"year\": \"1980-01-01T00:00:00\", \"pct_females\": 17.9}, {\"continuity\": \"DC, New Earth continuity\", \"year\": \"1981-01-01T00:00:00\", \"pct_females\": 18.5}, {\"continuity\": \"DC, New Earth continuity\", \"year\": \"1982-01-01T00:00:00\", \"pct_females\": 19.2}, {\"continuity\": \"DC, New Earth continuity\", \"year\": \"1983-01-01T00:00:00\", \"pct_females\": 20.5}, {\"continuity\": \"DC, New Earth continuity\", \"year\": \"1984-01-01T00:00:00\", \"pct_females\": 21.2}, {\"continuity\": \"DC, New Earth continuity\", \"year\": \"1985-01-01T00:00:00\", \"pct_females\": 22.0}, {\"continuity\": \"DC, New Earth continuity\", \"year\": \"1986-01-01T00:00:00\", \"pct_females\": 22.4}, {\"continuity\": \"DC, New Earth continuity\", \"year\": \"1987-01-01T00:00:00\", \"pct_females\": 23.7}, {\"continuity\": \"DC, New Earth continuity\", \"year\": \"1988-01-01T00:00:00\", \"pct_females\": 24.5}, {\"continuity\": \"DC, New Earth continuity\", \"year\": \"1989-01-01T00:00:00\", \"pct_females\": 25.8}, {\"continuity\": \"DC, New Earth continuity\", \"year\": \"1990-01-01T00:00:00\", \"pct_females\": 26.1}, {\"continuity\": \"DC, New Earth continuity\", \"year\": \"1991-01-01T00:00:00\", \"pct_females\": 26.4}, {\"continuity\": \"DC, New Earth continuity\", \"year\": \"1992-01-01T00:00:00\", \"pct_females\": 26.2}, {\"continuity\": \"DC, New Earth continuity\", \"year\": \"1993-01-01T00:00:00\", \"pct_females\": 26.2}, {\"continuity\": \"DC, New Earth continuity\", \"year\": \"1994-01-01T00:00:00\", \"pct_females\": 26.4}, {\"continuity\": \"DC, New Earth continuity\", \"year\": \"1995-01-01T00:00:00\", \"pct_females\": 26.2}, {\"continuity\": \"DC, New Earth continuity\", \"year\": \"1996-01-01T00:00:00\", \"pct_females\": 26.5}, {\"continuity\": \"DC, New Earth continuity\", \"year\": \"1997-01-01T00:00:00\", \"pct_females\": 26.6}, {\"continuity\": \"DC, New Earth continuity\", \"year\": \"1998-01-01T00:00:00\", \"pct_females\": 26.7}, {\"continuity\": \"DC, New Earth continuity\", \"year\": \"1999-01-01T00:00:00\", \"pct_females\": 27.0}, {\"continuity\": \"DC, New Earth continuity\", \"year\": \"2000-01-01T00:00:00\", \"pct_females\": 27.1}, {\"continuity\": \"DC, New Earth continuity\", \"year\": \"2001-01-01T00:00:00\", \"pct_females\": 27.4}, {\"continuity\": \"DC, New Earth continuity\", \"year\": \"2002-01-01T00:00:00\", \"pct_females\": 27.6}, {\"continuity\": \"DC, New Earth continuity\", \"year\": \"2003-01-01T00:00:00\", \"pct_females\": 27.7}, {\"continuity\": \"DC, New Earth continuity\", \"year\": \"2004-01-01T00:00:00\", \"pct_females\": 27.7}, {\"continuity\": \"DC, New Earth continuity\", \"year\": \"2005-01-01T00:00:00\", \"pct_females\": 27.9}, {\"continuity\": \"DC, New Earth continuity\", \"year\": \"2006-01-01T00:00:00\", \"pct_females\": 28.1}, {\"continuity\": \"DC, New Earth continuity\", \"year\": \"2007-01-01T00:00:00\", \"pct_females\": 28.2}, {\"continuity\": \"DC, New Earth continuity\", \"year\": \"2008-01-01T00:00:00\", \"pct_females\": 28.4}, {\"continuity\": \"DC, New Earth continuity\", \"year\": \"2009-01-01T00:00:00\", \"pct_females\": 28.5}, {\"continuity\": \"DC, New Earth continuity\", \"year\": \"2010-01-01T00:00:00\", \"pct_females\": 28.5}, {\"continuity\": \"DC, New Earth continuity\", \"year\": \"2011-01-01T00:00:00\", \"pct_females\": 28.6}, {\"continuity\": \"Marvel, Earth-616 continuity\", \"year\": \"1939-01-01T00:00:00\", \"pct_females\": 28.4}, {\"continuity\": \"Marvel, Earth-616 continuity\", \"year\": \"1940-01-01T00:00:00\", \"pct_females\": 28.0}, {\"continuity\": \"Marvel, Earth-616 continuity\", \"year\": \"1941-01-01T00:00:00\", \"pct_females\": 27.4}, {\"continuity\": \"Marvel, Earth-616 continuity\", \"year\": \"1942-01-01T00:00:00\", \"pct_females\": 26.7}, {\"continuity\": \"Marvel, Earth-616 continuity\", \"year\": \"1943-01-01T00:00:00\", \"pct_females\": 26.2}, {\"continuity\": \"Marvel, Earth-616 continuity\", \"year\": \"1944-01-01T00:00:00\", \"pct_females\": 25.9}, {\"continuity\": \"Marvel, Earth-616 continuity\", \"year\": \"1945-01-01T00:00:00\", \"pct_females\": 25.7}, {\"continuity\": \"Marvel, Earth-616 continuity\", \"year\": \"1946-01-01T00:00:00\", \"pct_females\": 25.6}, {\"continuity\": \"Marvel, Earth-616 continuity\", \"year\": \"1947-01-01T00:00:00\", \"pct_females\": 25.5}, {\"continuity\": \"Marvel, Earth-616 continuity\", \"year\": \"1948-01-01T00:00:00\", \"pct_females\": 25.3}, {\"continuity\": \"Marvel, Earth-616 continuity\", \"year\": \"1949-01-01T00:00:00\", \"pct_females\": 25.2}, {\"continuity\": \"Marvel, Earth-616 continuity\", \"year\": \"1950-01-01T00:00:00\", \"pct_females\": 25.1}, {\"continuity\": \"Marvel, Earth-616 continuity\", \"year\": \"1951-01-01T00:00:00\", \"pct_females\": 25.1}, {\"continuity\": \"Marvel, Earth-616 continuity\", \"year\": \"1952-01-01T00:00:00\", \"pct_females\": 25.1}, {\"continuity\": \"Marvel, Earth-616 continuity\", \"year\": \"1953-01-01T00:00:00\", \"pct_females\": 25.1}, {\"continuity\": \"Marvel, Earth-616 continuity\", \"year\": \"1954-01-01T00:00:00\", \"pct_females\": 25.0}, {\"continuity\": \"Marvel, Earth-616 continuity\", \"year\": \"1955-01-01T00:00:00\", \"pct_females\": 25.0}, {\"continuity\": \"Marvel, Earth-616 continuity\", \"year\": \"1956-01-01T00:00:00\", \"pct_females\": 24.9}, {\"continuity\": \"Marvel, Earth-616 continuity\", \"year\": \"1957-01-01T00:00:00\", \"pct_females\": 24.9}, {\"continuity\": \"Marvel, Earth-616 continuity\", \"year\": \"1958-01-01T00:00:00\", \"pct_females\": 24.9}, {\"continuity\": \"Marvel, Earth-616 continuity\", \"year\": \"1959-01-01T00:00:00\", \"pct_females\": 24.9}, {\"continuity\": \"Marvel, Earth-616 continuity\", \"year\": \"1960-01-01T00:00:00\", \"pct_females\": 24.8}, {\"continuity\": \"Marvel, Earth-616 continuity\", \"year\": \"1961-01-01T00:00:00\", \"pct_females\": 24.6}, {\"continuity\": \"Marvel, Earth-616 continuity\", \"year\": \"1962-01-01T00:00:00\", \"pct_females\": 24.5}, {\"continuity\": \"Marvel, Earth-616 continuity\", \"year\": \"1963-01-01T00:00:00\", \"pct_females\": 24.3}, {\"continuity\": \"Marvel, Earth-616 continuity\", \"year\": \"1964-01-01T00:00:00\", \"pct_females\": 24.1}, {\"continuity\": \"Marvel, Earth-616 continuity\", \"year\": \"1965-01-01T00:00:00\", \"pct_females\": 23.8}, {\"continuity\": \"Marvel, Earth-616 continuity\", \"year\": \"1966-01-01T00:00:00\", \"pct_females\": 23.7}, {\"continuity\": \"Marvel, Earth-616 continuity\", \"year\": \"1967-01-01T00:00:00\", \"pct_females\": 23.5}, {\"continuity\": \"Marvel, Earth-616 continuity\", \"year\": \"1968-01-01T00:00:00\", \"pct_females\": 23.3}, {\"continuity\": \"Marvel, Earth-616 continuity\", \"year\": \"1969-01-01T00:00:00\", \"pct_females\": 23.2}, {\"continuity\": \"Marvel, Earth-616 continuity\", \"year\": \"1970-01-01T00:00:00\", \"pct_females\": 23.0}, {\"continuity\": \"Marvel, Earth-616 continuity\", \"year\": \"1971-01-01T00:00:00\", \"pct_females\": 22.9}, {\"continuity\": \"Marvel, Earth-616 continuity\", \"year\": \"1972-01-01T00:00:00\", \"pct_females\": 22.8}, {\"continuity\": \"Marvel, Earth-616 continuity\", \"year\": \"1973-01-01T00:00:00\", \"pct_females\": 22.8}, {\"continuity\": \"Marvel, Earth-616 continuity\", \"year\": \"1974-01-01T00:00:00\", \"pct_females\": 22.7}, {\"continuity\": \"Marvel, Earth-616 continuity\", \"year\": \"1975-01-01T00:00:00\", \"pct_females\": 22.8}, {\"continuity\": \"Marvel, Earth-616 continuity\", \"year\": \"1976-01-01T00:00:00\", \"pct_females\": 22.6}, {\"continuity\": \"Marvel, Earth-616 continuity\", \"year\": \"1977-01-01T00:00:00\", \"pct_females\": 22.5}, {\"continuity\": \"Marvel, Earth-616 continuity\", \"year\": \"1978-01-01T00:00:00\", \"pct_females\": 22.4}, {\"continuity\": \"Marvel, Earth-616 continuity\", \"year\": \"1979-01-01T00:00:00\", \"pct_females\": 22.5}, {\"continuity\": \"Marvel, Earth-616 continuity\", \"year\": \"1980-01-01T00:00:00\", \"pct_females\": 22.5}, {\"continuity\": \"Marvel, Earth-616 continuity\", \"year\": \"1981-01-01T00:00:00\", \"pct_females\": 22.6}, {\"continuity\": \"Marvel, Earth-616 continuity\", \"year\": \"1982-01-01T00:00:00\", \"pct_females\": 22.6}, {\"continuity\": \"Marvel, Earth-616 continuity\", \"year\": \"1983-01-01T00:00:00\", \"pct_females\": 22.8}, {\"continuity\": \"Marvel, Earth-616 continuity\", \"year\": \"1984-01-01T00:00:00\", \"pct_females\": 22.8}, {\"continuity\": \"Marvel, Earth-616 continuity\", \"year\": \"1985-01-01T00:00:00\", \"pct_females\": 22.9}, {\"continuity\": \"Marvel, Earth-616 continuity\", \"year\": \"1986-01-01T00:00:00\", \"pct_females\": 23.0}, {\"continuity\": \"Marvel, Earth-616 continuity\", \"year\": \"1987-01-01T00:00:00\", \"pct_females\": 23.0}, {\"continuity\": \"Marvel, Earth-616 continuity\", \"year\": \"1988-01-01T00:00:00\", \"pct_females\": 23.1}, {\"continuity\": \"Marvel, Earth-616 continuity\", \"year\": \"1989-01-01T00:00:00\", \"pct_females\": 23.1}, {\"continuity\": \"Marvel, Earth-616 continuity\", \"year\": \"1990-01-01T00:00:00\", \"pct_females\": 23.1}, {\"continuity\": \"Marvel, Earth-616 continuity\", \"year\": \"1991-01-01T00:00:00\", \"pct_females\": 23.2}, {\"continuity\": \"Marvel, Earth-616 continuity\", \"year\": \"1992-01-01T00:00:00\", \"pct_females\": 23.3}, {\"continuity\": \"Marvel, Earth-616 continuity\", \"year\": \"1993-01-01T00:00:00\", \"pct_females\": 23.3}, {\"continuity\": \"Marvel, Earth-616 continuity\", \"year\": \"1994-01-01T00:00:00\", \"pct_females\": 23.3}, {\"continuity\": \"Marvel, Earth-616 continuity\", \"year\": \"1995-01-01T00:00:00\", \"pct_females\": 23.3}, {\"continuity\": \"Marvel, Earth-616 continuity\", \"year\": \"1996-01-01T00:00:00\", \"pct_females\": 23.5}, {\"continuity\": \"Marvel, Earth-616 continuity\", \"year\": \"1997-01-01T00:00:00\", \"pct_females\": 23.6}, {\"continuity\": \"Marvel, Earth-616 continuity\", \"year\": \"1998-01-01T00:00:00\", \"pct_females\": 23.6}, {\"continuity\": \"Marvel, Earth-616 continuity\", \"year\": \"1999-01-01T00:00:00\", \"pct_females\": 23.7}, {\"continuity\": \"Marvel, Earth-616 continuity\", \"year\": \"2000-01-01T00:00:00\", \"pct_females\": 23.8}, {\"continuity\": \"Marvel, Earth-616 continuity\", \"year\": \"2001-01-01T00:00:00\", \"pct_females\": 23.9}, {\"continuity\": \"Marvel, Earth-616 continuity\", \"year\": \"2002-01-01T00:00:00\", \"pct_females\": 23.9}, {\"continuity\": \"Marvel, Earth-616 continuity\", \"year\": \"2003-01-01T00:00:00\", \"pct_females\": 24.1}, {\"continuity\": \"Marvel, Earth-616 continuity\", \"year\": \"2004-01-01T00:00:00\", \"pct_females\": 24.3}, {\"continuity\": \"Marvel, Earth-616 continuity\", \"year\": \"2005-01-01T00:00:00\", \"pct_females\": 24.4}, {\"continuity\": \"Marvel, Earth-616 continuity\", \"year\": \"2006-01-01T00:00:00\", \"pct_females\": 24.5}, {\"continuity\": \"Marvel, Earth-616 continuity\", \"year\": \"2007-01-01T00:00:00\", \"pct_females\": 24.5}, {\"continuity\": \"Marvel, Earth-616 continuity\", \"year\": \"2008-01-01T00:00:00\", \"pct_females\": 24.6}, {\"continuity\": \"Marvel, Earth-616 continuity\", \"year\": \"2009-01-01T00:00:00\", \"pct_females\": 24.6}, {\"continuity\": \"Marvel, Earth-616 continuity\", \"year\": \"2010-01-01T00:00:00\", \"pct_females\": 24.8}, {\"continuity\": \"Marvel, Earth-616 continuity\", \"year\": \"2011-01-01T00:00:00\", \"pct_females\": 24.8}]}}, {\"mode\": \"vega-lite\"});\n",
       "</script>"
      ],
      "text/plain": [
       "alt.Chart(...)"
      ]
     },
     "execution_count": 22,
     "metadata": {},
     "output_type": "execute_result"
    }
   ],
   "source": [
    "#| code-summary: 'Gender Ratio In Comic Books'\n",
    "gsource = v_comics[['continuity', 'year', 'is_female']].dropna()\n",
    "gsource['year'] = pd.to_datetime(gsource['year'], format='%Y')\n",
    "gsource = gsource.query(\n",
    "    \"continuity != 'NA' and ('1939-01-01' <= year <= '2011-01-02')\"\n",
    ")\n",
    "gsource = (\n",
    "    gsource.groupby(['continuity', 'year'])['is_female'].sum().cumsum()\n",
    "    / gsource.groupby(['continuity', 'year']).size().cumsum()\n",
    ")\n",
    "gsource = (\n",
    "    gsource\n",
    "    .mul(100).round(1)         # percentify\n",
    "    .rename('pct_females')\n",
    "    .to_frame().reset_index()  # altair needs a DF\n",
    ")\n",
    "\n",
    "alt.Chart(gsource).mark_line().encode(\n",
    "    x='year',\n",
    "    y='pct_females',\n",
    "    color=alt.Color('continuity')\n",
    ").properties(\n",
    "    width=600\n",
    ")"
   ]
  },
  {
   "cell_type": "code",
   "execution_count": 25,
   "id": "5f9f5849",
   "metadata": {},
   "outputs": [
    {
     "data": {
      "text/html": [
       "\n",
       "<div id=\"altair-viz-e63d9b62d81040098c04aaf8f4fd5534\"></div>\n",
       "<script type=\"text/javascript\">\n",
       "  var VEGA_DEBUG = (typeof VEGA_DEBUG == \"undefined\") ? {} : VEGA_DEBUG;\n",
       "  (function(spec, embedOpt){\n",
       "    let outputDiv = document.currentScript.previousElementSibling;\n",
       "    if (outputDiv.id !== \"altair-viz-e63d9b62d81040098c04aaf8f4fd5534\") {\n",
       "      outputDiv = document.getElementById(\"altair-viz-e63d9b62d81040098c04aaf8f4fd5534\");\n",
       "    }\n",
       "    const paths = {\n",
       "      \"vega\": \"https://cdn.jsdelivr.net/npm//vega@5?noext\",\n",
       "      \"vega-lib\": \"https://cdn.jsdelivr.net/npm//vega-lib?noext\",\n",
       "      \"vega-lite\": \"https://cdn.jsdelivr.net/npm//vega-lite@4.17.0?noext\",\n",
       "      \"vega-embed\": \"https://cdn.jsdelivr.net/npm//vega-embed@6?noext\",\n",
       "    };\n",
       "\n",
       "    function maybeLoadScript(lib, version) {\n",
       "      var key = `${lib.replace(\"-\", \"\")}_version`;\n",
       "      return (VEGA_DEBUG[key] == version) ?\n",
       "        Promise.resolve(paths[lib]) :\n",
       "        new Promise(function(resolve, reject) {\n",
       "          var s = document.createElement('script');\n",
       "          document.getElementsByTagName(\"head\")[0].appendChild(s);\n",
       "          s.async = true;\n",
       "          s.onload = () => {\n",
       "            VEGA_DEBUG[key] = version;\n",
       "            return resolve(paths[lib]);\n",
       "          };\n",
       "          s.onerror = () => reject(`Error loading script: ${paths[lib]}`);\n",
       "          s.src = paths[lib];\n",
       "        });\n",
       "    }\n",
       "\n",
       "    function showError(err) {\n",
       "      outputDiv.innerHTML = `<div class=\"error\" style=\"color:red;\">${err}</div>`;\n",
       "      throw err;\n",
       "    }\n",
       "\n",
       "    function displayChart(vegaEmbed) {\n",
       "      vegaEmbed(outputDiv, spec, embedOpt)\n",
       "        .catch(err => showError(`Javascript Error: ${err.message}<br>This usually means there's a typo in your chart specification. See the javascript console for the full traceback.`));\n",
       "    }\n",
       "\n",
       "    if(typeof define === \"function\" && define.amd) {\n",
       "      requirejs.config({paths});\n",
       "      require([\"vega-embed\"], displayChart, err => showError(`Error loading script: ${err.message}`));\n",
       "    } else {\n",
       "      maybeLoadScript(\"vega\", \"5\")\n",
       "        .then(() => maybeLoadScript(\"vega-lite\", \"4.17.0\"))\n",
       "        .then(() => maybeLoadScript(\"vega-embed\", \"6\"))\n",
       "        .catch(showError)\n",
       "        .then(() => displayChart(vegaEmbed));\n",
       "    }\n",
       "  })({\"config\": {\"view\": {\"continuousWidth\": 400, \"continuousHeight\": 300}}, \"data\": {\"name\": \"data-711feeabf574413e00f9fa049f74abad\"}, \"mark\": \"line\", \"encoding\": {\"color\": {\"field\": \"continuity\", \"type\": \"nominal\"}, \"x\": {\"field\": \"year\", \"type\": \"temporal\"}, \"y\": {\"field\": \"pct_females\", \"type\": \"quantitative\"}}, \"width\": 600, \"$schema\": \"https://vega.github.io/schema/vega-lite/v4.17.0.json\", \"datasets\": {\"data-711feeabf574413e00f9fa049f74abad\": [{\"continuity\": \"DC, New Earth continuity\", \"year\": \"1980-01-01T00:00:00\", \"pct_females\": 28.6}, {\"continuity\": \"DC, New Earth continuity\", \"year\": \"1981-01-01T00:00:00\", \"pct_females\": 26.4}, {\"continuity\": \"DC, New Earth continuity\", \"year\": \"1982-01-01T00:00:00\", \"pct_females\": 28.4}, {\"continuity\": \"DC, New Earth continuity\", \"year\": \"1983-01-01T00:00:00\", \"pct_females\": 32.3}, {\"continuity\": \"DC, New Earth continuity\", \"year\": \"1984-01-01T00:00:00\", \"pct_females\": 29.2}, {\"continuity\": \"DC, New Earth continuity\", \"year\": \"1985-01-01T00:00:00\", \"pct_females\": 34.2}, {\"continuity\": \"DC, New Earth continuity\", \"year\": \"1986-01-01T00:00:00\", \"pct_females\": 28.5}, {\"continuity\": \"DC, New Earth continuity\", \"year\": \"1987-01-01T00:00:00\", \"pct_females\": 34.5}, {\"continuity\": \"DC, New Earth continuity\", \"year\": \"1988-01-01T00:00:00\", \"pct_females\": 30.5}, {\"continuity\": \"DC, New Earth continuity\", \"year\": \"1989-01-01T00:00:00\", \"pct_females\": 38.7}, {\"continuity\": \"DC, New Earth continuity\", \"year\": \"1990-01-01T00:00:00\", \"pct_females\": 30.5}, {\"continuity\": \"DC, New Earth continuity\", \"year\": \"1991-01-01T00:00:00\", \"pct_females\": 33.6}, {\"continuity\": \"DC, New Earth continuity\", \"year\": \"1992-01-01T00:00:00\", \"pct_females\": 23.0}, {\"continuity\": \"DC, New Earth continuity\", \"year\": \"1993-01-01T00:00:00\", \"pct_females\": 25.9}, {\"continuity\": \"DC, New Earth continuity\", \"year\": \"1994-01-01T00:00:00\", \"pct_females\": 28.8}, {\"continuity\": \"DC, New Earth continuity\", \"year\": \"1995-01-01T00:00:00\", \"pct_females\": 23.3}, {\"continuity\": \"DC, New Earth continuity\", \"year\": \"1996-01-01T00:00:00\", \"pct_females\": 33.0}, {\"continuity\": \"DC, New Earth continuity\", \"year\": \"1997-01-01T00:00:00\", \"pct_females\": 27.3}, {\"continuity\": \"DC, New Earth continuity\", \"year\": \"1998-01-01T00:00:00\", \"pct_females\": 31.7}, {\"continuity\": \"DC, New Earth continuity\", \"year\": \"1999-01-01T00:00:00\", \"pct_females\": 34.1}, {\"continuity\": \"DC, New Earth continuity\", \"year\": \"2000-01-01T00:00:00\", \"pct_females\": 30.3}, {\"continuity\": \"DC, New Earth continuity\", \"year\": \"2001-01-01T00:00:00\", \"pct_females\": 41.1}, {\"continuity\": \"DC, New Earth continuity\", \"year\": \"2002-01-01T00:00:00\", \"pct_females\": 35.7}, {\"continuity\": \"DC, New Earth continuity\", \"year\": \"2003-01-01T00:00:00\", \"pct_females\": 31.1}, {\"continuity\": \"DC, New Earth continuity\", \"year\": \"2004-01-01T00:00:00\", \"pct_females\": 30.4}, {\"continuity\": \"DC, New Earth continuity\", \"year\": \"2005-01-01T00:00:00\", \"pct_females\": 34.0}, {\"continuity\": \"DC, New Earth continuity\", \"year\": \"2006-01-01T00:00:00\", \"pct_females\": 31.8}, {\"continuity\": \"DC, New Earth continuity\", \"year\": \"2007-01-01T00:00:00\", \"pct_females\": 31.0}, {\"continuity\": \"DC, New Earth continuity\", \"year\": \"2008-01-01T00:00:00\", \"pct_females\": 35.1}, {\"continuity\": \"DC, New Earth continuity\", \"year\": \"2009-01-01T00:00:00\", \"pct_females\": 31.1}, {\"continuity\": \"DC, New Earth continuity\", \"year\": \"2010-01-01T00:00:00\", \"pct_females\": 26.6}, {\"continuity\": \"DC, New Earth continuity\", \"year\": \"2011-01-01T00:00:00\", \"pct_females\": 32.7}, {\"continuity\": \"Marvel, Earth-616 continuity\", \"year\": \"1980-01-01T00:00:00\", \"pct_females\": 23.4}, {\"continuity\": \"Marvel, Earth-616 continuity\", \"year\": \"1981-01-01T00:00:00\", \"pct_females\": 25.2}, {\"continuity\": \"Marvel, Earth-616 continuity\", \"year\": \"1982-01-01T00:00:00\", \"pct_females\": 24.1}, {\"continuity\": \"Marvel, Earth-616 continuity\", \"year\": \"1983-01-01T00:00:00\", \"pct_females\": 33.7}, {\"continuity\": \"Marvel, Earth-616 continuity\", \"year\": \"1984-01-01T00:00:00\", \"pct_females\": 27.5}, {\"continuity\": \"Marvel, Earth-616 continuity\", \"year\": \"1985-01-01T00:00:00\", \"pct_females\": 27.3}, {\"continuity\": \"Marvel, Earth-616 continuity\", \"year\": \"1986-01-01T00:00:00\", \"pct_females\": 26.8}, {\"continuity\": \"Marvel, Earth-616 continuity\", \"year\": \"1987-01-01T00:00:00\", \"pct_females\": 24.9}, {\"continuity\": \"Marvel, Earth-616 continuity\", \"year\": \"1988-01-01T00:00:00\", \"pct_females\": 26.7}, {\"continuity\": \"Marvel, Earth-616 continuity\", \"year\": \"1989-01-01T00:00:00\", \"pct_females\": 22.1}, {\"continuity\": \"Marvel, Earth-616 continuity\", \"year\": \"1990-01-01T00:00:00\", \"pct_females\": 25.6}, {\"continuity\": \"Marvel, Earth-616 continuity\", \"year\": \"1991-01-01T00:00:00\", \"pct_females\": 25.6}, {\"continuity\": \"Marvel, Earth-616 continuity\", \"year\": \"1992-01-01T00:00:00\", \"pct_females\": 26.1}, {\"continuity\": \"Marvel, Earth-616 continuity\", \"year\": \"1993-01-01T00:00:00\", \"pct_females\": 22.7}, {\"continuity\": \"Marvel, Earth-616 continuity\", \"year\": \"1994-01-01T00:00:00\", \"pct_females\": 24.2}, {\"continuity\": \"Marvel, Earth-616 continuity\", \"year\": \"1995-01-01T00:00:00\", \"pct_females\": 26.3}, {\"continuity\": \"Marvel, Earth-616 continuity\", \"year\": \"1996-01-01T00:00:00\", \"pct_females\": 33.1}, {\"continuity\": \"Marvel, Earth-616 continuity\", \"year\": \"1997-01-01T00:00:00\", \"pct_females\": 27.2}, {\"continuity\": \"Marvel, Earth-616 continuity\", \"year\": \"1998-01-01T00:00:00\", \"pct_females\": 27.3}, {\"continuity\": \"Marvel, Earth-616 continuity\", \"year\": \"1999-01-01T00:00:00\", \"pct_females\": 31.0}, {\"continuity\": \"Marvel, Earth-616 continuity\", \"year\": \"2000-01-01T00:00:00\", \"pct_females\": 27.1}, {\"continuity\": \"Marvel, Earth-616 continuity\", \"year\": \"2001-01-01T00:00:00\", \"pct_females\": 32.4}, {\"continuity\": \"Marvel, Earth-616 continuity\", \"year\": \"2002-01-01T00:00:00\", \"pct_females\": 27.1}, {\"continuity\": \"Marvel, Earth-616 continuity\", \"year\": \"2003-01-01T00:00:00\", \"pct_females\": 32.8}, {\"continuity\": \"Marvel, Earth-616 continuity\", \"year\": \"2004-01-01T00:00:00\", \"pct_females\": 38.6}, {\"continuity\": \"Marvel, Earth-616 continuity\", \"year\": \"2005-01-01T00:00:00\", \"pct_females\": 33.3}, {\"continuity\": \"Marvel, Earth-616 continuity\", \"year\": \"2006-01-01T00:00:00\", \"pct_females\": 27.6}, {\"continuity\": \"Marvel, Earth-616 continuity\", \"year\": \"2007-01-01T00:00:00\", \"pct_females\": 26.7}, {\"continuity\": \"Marvel, Earth-616 continuity\", \"year\": \"2008-01-01T00:00:00\", \"pct_females\": 27.9}, {\"continuity\": \"Marvel, Earth-616 continuity\", \"year\": \"2009-01-01T00:00:00\", \"pct_females\": 28.2}, {\"continuity\": \"Marvel, Earth-616 continuity\", \"year\": \"2010-01-01T00:00:00\", \"pct_females\": 34.0}, {\"continuity\": \"Marvel, Earth-616 continuity\", \"year\": \"2011-01-01T00:00:00\", \"pct_females\": 28.2}]}}, {\"mode\": \"vega-lite\"});\n",
       "</script>"
      ],
      "text/plain": [
       "alt.Chart(...)"
      ]
     },
     "execution_count": 25,
     "metadata": {},
     "output_type": "execute_result"
    }
   ],
   "source": [
    "#| code-summary: 'Percentage new female character per year'\n",
    "gsource = v_comics[['continuity', 'year', 'is_female']].dropna()\n",
    "gsource['year'] = pd.to_datetime(gsource['year'], format='%Y')\n",
    "gsource = gsource.query(\n",
    "    \"continuity != 'NA' and ('1980-01-01' <= year <= '2011-01-01')\"\n",
    ")\n",
    "gsource = (\n",
    "    gsource.groupby(['continuity', 'year'])['is_female'].sum()\n",
    "    / gsource.groupby(['continuity', 'year']).size()\n",
    ")\n",
    "gsource = (\n",
    "    gsource\n",
    "    .mul(100).round(1)\n",
    "    .rename('pct_females')\n",
    "    .to_frame().reset_index()\n",
    ")\n",
    "\n",
    "alt.Chart(gsource).mark_line().encode(\n",
    "    x='year',\n",
    "    y='pct_females',\n",
    "    color=alt.Color('continuity')\n",
    ").properties(\n",
    "    width=600\n",
    ")"
   ]
  },
  {
   "cell_type": "code",
   "execution_count": null,
   "id": "06773bec-9d45-4f31-a5db-ae2577d6edab",
   "metadata": {},
   "outputs": [],
   "source": [
    "#| code-summary: 'Character alignment by sex and publisher'\n",
    "gsource = (\n",
    "    v_comic_chars\n",
    "    .get(['publisher', 'sex', 'id', 'align']).dropna()\n",
    "    .query(\"sex in ['Female Characters', 'Male Characters']\")\n",
    "    .query(\"id not in ['No Dual Identity', 'Identity Unknown']\")\n",
    "    .query(\"align != 'Reformed Criminals'\")\n",
    ")\n",
    "gsource = (\n",
    "    gsource.groupby(['publisher', 'sex', 'align']).size()\n",
    "    / gsource.groupby(['publisher', 'sex']).size()\n",
    ")\n",
    "gsource = (\n",
    "    gsource\n",
    "    .mul(100).round(1)\n",
    "    .rename('pct')\n",
    "    .to_frame().reset_index()\n",
    ")\n",
    "\n",
    "bars = alt.Chart(gsource).mark_bar().encode(\n",
    "    x=alt.X('pct', stack='zero'),\n",
    "    y=alt.Y('sex'),\n",
    "    color=alt.Color('align'),\n",
    "    facet=alt.Facet('publisher', columns=1)\n",
    ")\n",
    "\n",
    "bars"
   ]
  },
  {
   "cell_type": "code",
   "execution_count": null,
   "id": "ba94396a-1e32-4270-beba-e05db50ef961",
   "metadata": {},
   "outputs": [],
   "source": []
  }
 ],
 "metadata": {
  "kernelspec": {
   "display_name": "tidytuesday",
   "language": "python",
   "name": "tidytuesday"
  },
  "language_info": {
   "codemirror_mode": {
    "name": "ipython",
    "version": 3
   },
   "file_extension": ".py",
   "mimetype": "text/x-python",
   "name": "python",
   "nbconvert_exporter": "python",
   "pygments_lexer": "ipython3",
   "version": "3.10.4"
  }
 },
 "nbformat": 4,
 "nbformat_minor": 5
}
