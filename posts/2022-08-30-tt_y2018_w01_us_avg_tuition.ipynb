{
 "cells": [
  {
   "cell_type": "raw",
   "id": "412c281c",
   "metadata": {},
   "source": [
    "---\n",
    "title: College Tuition Fees in the USA\n",
    "date: 2022-08-30\n",
    "categories: [TidyTuesday]\n",
    "draft: true\n",
    "---"
   ]
  },
  {
   "cell_type": "markdown",
   "id": "c6025a30-df35-4d4b-8bd3-38886a38c0a2",
   "metadata": {
    "tags": []
   },
   "source": [
    "## Summary notes\n",
    "\n",
    "Visualising the average annual cost of College tuition fees in the USA."
   ]
  },
  {
   "cell_type": "markdown",
   "id": "e393f8be-a4ef-4e75-8bc4-11e3581d6001",
   "metadata": {
    "tags": []
   },
   "source": [
    "### About\n",
    "\n",
    "<blockquote class=\"twitter-tweet\"><p lang=\"en\" dir=\"ltr\">Happy to announce the newest <a href=\"https://twitter.com/hashtag/R4DS?src=hash&amp;ref_src=twsrc%5Etfw\">#R4DS</a> online learning community project! <a href=\"https://twitter.com/hashtag/TidyTuesday?src=hash&amp;ref_src=twsrc%5Etfw\">#TidyTuesday</a> is your weekly <a href=\"https://twitter.com/hashtag/tidyverse?src=hash&amp;ref_src=twsrc%5Etfw\">#tidyverse</a> practice!<br><br>Each week we&#39;ll post data and a plot at <a href=\"https://t.co/8NaXR93uIX\">https://t.co/8NaXR93uIX</a> under the datasets link.<br><br>You clean the data and tweak the plot in R!<a href=\"https://twitter.com/hashtag/rstats?src=hash&amp;ref_src=twsrc%5Etfw\">#rstats</a> <a href=\"https://twitter.com/hashtag/ggplot2?src=hash&amp;ref_src=twsrc%5Etfw\">#ggplot2</a> <a href=\"https://t.co/sDaHsB8uwL\">pic.twitter.com/sDaHsB8uwL</a></p>&mdash; Tom Mock ❤️ Quarto (@thomas_mock) <a href=\"https://twitter.com/thomas_mock/status/980921600429252608?ref_src=twsrc%5Etfw\">April 2, 2018</a></blockquote> <script async src=\"https://platform.twitter.com/widgets.js\" charset=\"utf-8\"></script>"
   ]
  },
  {
   "cell_type": "markdown",
   "id": "6b581418-b3ad-4ad6-8de1-3d63557e9f3f",
   "metadata": {
    "jp-MarkdownHeadingCollapsed": true,
    "tags": [],
    "toc-hr-collapsed": true
   },
   "source": [
    "### Data schemas"
   ]
  },
  {
   "cell_type": "markdown",
   "id": "126d3fa5-8fe4-4761-acf6-7bc7678ab41b",
   "metadata": {},
   "source": [
    "#### `us_avg_tuition`\n",
    "\n",
    "(Source: [http://trends.collegeboard.org](http://trends.collegeboard.org))\n",
    "\n",
    "| `#` | name        | type    | description                             |\n",
    "| --: | ----------- | ------- | --------------------------------------- |\n",
    "|   0 | State       | `str`   | state's full name (example `'Alabama'`) |\n",
    "|   1 | 2004-05     | `float` | average tuition cost in 2004-05         |\n",
    "|   2 | 2005-06     | `float` | average tuition cost in 2005-06         |\n",
    "|   3 | 2006-07     | `float` | average tuition cost in 2006-07         |\n",
    "|   4 | 2007-08[^4] | `float` | average tuition cost in 2007-08         |\n",
    "|   5 | 2008-09     | `float` | average tuition cost in 2008-09         |\n",
    "|   6 | 2009-10     | `float` | average tuition cost in 2009-10         |\n",
    "|   7 | 2010-11     | `float` | average tuition cost in 2010-11         |\n",
    "|   8 | 2011-12     | `float` | average tuition cost in 2011-12         |\n",
    "|   9 | 2012-13     | `float` | average tuition cost in 2012-13         |\n",
    "|  10 | 2013-14     | `float` | average tuition cost in 2013-14         |\n",
    "|  11 | 2014-15     | `float` | average tuition cost in 2014-15         |\n",
    "|  12 | 2015-16     | `float` | average tuition cost in 2015-16         |"
   ]
  },
  {
   "cell_type": "markdown",
   "id": "4bd98853-4dde-4ff0-b76d-b2a66e69c468",
   "metadata": {},
   "source": [
    "#### `melted_us_avg_tuition`\n",
    "\n",
    "| `#` | name    | type    | description                             |\n",
    "| --: | ------- | ------- | --------------------------------------- |\n",
    "|   0 | state   | `str`   | state's full name (example `'Alabama'`) |\n",
    "|   1 | year    | `str`   | calendar year (example `2004-05`)       |\n",
    "|   2 | tuition | `float` | average annual tuition cost             |"
   ]
  },
  {
   "cell_type": "markdown",
   "id": "753109d0-a2c7-45e6-beb3-fd21de227bc7",
   "metadata": {},
   "source": [
    "#### `ansi`\n",
    "\n",
    "(Source: [American National Standards Institute](https://www.ansi.org/) (ANSI)[^1])\n",
    "\n",
    "| `#` | name       | type  | description                             |\n",
    "| --: | ---------- | ----- | --------------------------------------- |\n",
    "|   0 | STATE      | `int` | unique identifier                       |\n",
    "|   1 | STUSAB     | `str` | state's abbreviation (example `'AL'`)   |\n",
    "|   2 | STATE_NAME | `str` | state's full name (example `'Alabama'`) |\n",
    "|   3 | STATENS    | `int` | state population (year unknown)         |"
   ]
  },
  {
   "cell_type": "markdown",
   "id": "7b155841-2caf-476d-a544-34c2eb157a7a",
   "metadata": {
    "tags": []
   },
   "source": [
    "### Plan"
   ]
  },
  {
   "cell_type": "markdown",
   "id": "a5ae865c-a497-4e8c-a3f6-1b10d623c5b2",
   "metadata": {},
   "source": [
    "#### Prepare the data\n",
    "\n",
    "Both visualisations require us to select specific years,[^2] so we melt the `LazyFrame`.\n",
    "This allows our queries to use the same pattern when selecting the years (`FILTER`).\n",
    "Otherwise, the two queries would use different patterns to select the data (`MELT -> FILTER` and `SELECT`).\n",
    "We removed the white space around the column headers in `us_avg_tution`[^3]\n",
    "\n",
    "Make `melted_us_avg_tuition`\n",
    "\n",
    "```\n",
    "CREATE melted_us_avg_tuition AS (\n",
    "    MELT\n",
    "        us_avg_tution.*\n",
    "    WITH INDEX\n",
    "        LOWER(STRIP(State)) AS state\n",
    "    EXPAND\n",
    "        variables AS year,\n",
    "        values    AS tuition\n",
    ")\n",
    "```"
   ]
  },
  {
   "cell_type": "markdown",
   "id": "3bda5a4b-a0c2-47a8-9ab1-7ab85c28809e",
   "metadata": {},
   "source": [
    "#### Visualise the data"
   ]
  },
  {
   "cell_type": "markdown",
   "id": "406cd0cb-69d3-4627-bece-91983e23c439",
   "metadata": {},
   "source": [
    "**[1]** Percentage change in college tuition costs from 2010 to 2015.\n",
    "(*Chloropleth heatmap*)\n",
    "\n",
    "```\n",
    "SELECT\n",
    "    m.*,\n",
    "    ansi.*,\n",
    "    PCT_CHANGE(m.tuition).OVER(m.state) AS pct_change\n",
    "FROM\n",
    "    melted_us_avg_tuition m,\n",
    "    ansi\n",
    "WHERE\n",
    "    ansi.STATE_NAME = m.state\n",
    "    AND m.year IN ( '2010-11', '2015-16' )\n",
    "```\n",
    "\n",
    "**[2]** College tuition costs in the USA in 2015\n",
    "(*vertical bar chart*)\n",
    "\n",
    "```\n",
    "SELECT\n",
    "    *\n",
    "FROM\n",
    "    melted_us_avg_tuition\n",
    "WHERE\n",
    "    year = '2015-16'\n",
    "```\n",
    "\n",
    "**[3]** Distribution of college tuition costs in the USA in 2015\n",
    "(*horizontal strip plot*)\n",
    "\n",
    "```\n",
    "<See College tuition costs in the USA in 2015>\n",
    "```"
   ]
  },
  {
   "cell_type": "markdown",
   "id": "33f5a82c-fe3d-4d71-8f8e-22a5afc14e91",
   "metadata": {
    "tags": []
   },
   "source": [
    "## Dependencies"
   ]
  },
  {
   "cell_type": "code",
   "execution_count": 1,
   "id": "98b09c2b-1ba5-4044-8400-f5cfcffe0204",
   "metadata": {},
   "outputs": [],
   "source": [
    "import pandas as pd\n",
    "import polars as pl\n",
    "import altair as alt\n",
    "from matplotlib import pyplot as plt\n",
    "import seaborn as sns\n",
    "from vega_datasets import data as vdata"
   ]
  },
  {
   "cell_type": "code",
   "execution_count": 2,
   "id": "82c853ce",
   "metadata": {},
   "outputs": [],
   "source": [
    "%load_ext watermark"
   ]
  },
  {
   "cell_type": "markdown",
   "id": "89f4475d-0e0a-4099-9451-70917a3b06ac",
   "metadata": {
    "tags": []
   },
   "source": [
    "## Constants"
   ]
  },
  {
   "cell_type": "code",
   "execution_count": 3,
   "id": "de97eaea-b0cc-451f-9ab9-9e792c0362c1",
   "metadata": {},
   "outputs": [],
   "source": [
    "FEE_URL = ('https://github.com/rfordatascience/tidytuesday/blob/master/'\n",
    "           + 'data/2018/2018-04-02/us_avg_tuition.xlsx?raw=true')"
   ]
  },
  {
   "cell_type": "code",
   "execution_count": 4,
   "id": "062336df-9824-4d49-b07e-7b3976471763",
   "metadata": {},
   "outputs": [],
   "source": [
    "ANSI_URL = 'https://www2.census.gov/geo/docs/reference/state.txt'"
   ]
  },
  {
   "cell_type": "markdown",
   "id": "e7df29be-c708-41ad-aeb7-6547930be901",
   "metadata": {
    "tags": []
   },
   "source": [
    "## Main"
   ]
  },
  {
   "cell_type": "markdown",
   "id": "d38a0bd7-fd22-418f-8646-237c5bd37bbf",
   "metadata": {
    "tags": []
   },
   "source": [
    "### Set themes"
   ]
  },
  {
   "cell_type": "code",
   "execution_count": 5,
   "id": "b1b22553-35c5-4ccb-9089-884210641e5e",
   "metadata": {},
   "outputs": [],
   "source": [
    "alt.themes.enable('latimes')\n",
    "sns.set_theme()"
   ]
  },
  {
   "cell_type": "markdown",
   "id": "b573e37d-903d-4216-9c95-d1cfe610dffc",
   "metadata": {
    "tags": []
   },
   "source": [
    "### Load the data"
   ]
  },
  {
   "cell_type": "code",
   "execution_count": 6,
   "id": "3a90952a-2e86-45ea-92d7-aa4c3d117edb",
   "metadata": {},
   "outputs": [],
   "source": [
    "us_avg_tuition = pl.DataFrame(pd.read_excel(FEE_URL)).lazy()\n",
    "ansi = pl.DataFrame(pd.read_csv(ANSI_URL, sep='|')).lazy()\n",
    "states = alt.topo_feature(vdata.us_10m.url, 'states')"
   ]
  },
  {
   "cell_type": "markdown",
   "id": "fc15f6d0-73c2-4019-b801-dc13a6e74b6b",
   "metadata": {
    "tags": []
   },
   "source": [
    "### Prepare the data"
   ]
  },
  {
   "cell_type": "code",
   "execution_count": 7,
   "id": "39d03b1a-f3db-4ae9-a072-396f09aac7fd",
   "metadata": {},
   "outputs": [],
   "source": [
    "#| code-summary: 'Make melted_us_avg_tuition'\n",
    "#| code-fold: true\n",
    "melted_us_avg_tuition = us_avg_tuition.rename(\n",
    "    {s: s.strip().lower() for s in us_avg_tuition.columns}\n",
    ").melt(\n",
    "    id_vars='state',\n",
    "    variable_name='year',\n",
    "    value_name='tuition'\n",
    ")"
   ]
  },
  {
   "cell_type": "markdown",
   "id": "65aa2a66-ccf8-4c2e-a9a6-da83f384e35f",
   "metadata": {},
   "source": [
    "### Visualise the data"
   ]
  },
  {
   "cell_type": "code",
   "execution_count": 8,
   "id": "4ce4ea08-7dfe-41bf-a5ae-991cb99f061b",
   "metadata": {
    "tags": []
   },
   "outputs": [
    {
     "data": {
      "text/html": [
       "\n",
       "<div id=\"altair-viz-1e99722ce8524b54bb0d4987572f2d3c\"></div>\n",
       "<script type=\"text/javascript\">\n",
       "  var VEGA_DEBUG = (typeof VEGA_DEBUG == \"undefined\") ? {} : VEGA_DEBUG;\n",
       "  (function(spec, embedOpt){\n",
       "    let outputDiv = document.currentScript.previousElementSibling;\n",
       "    if (outputDiv.id !== \"altair-viz-1e99722ce8524b54bb0d4987572f2d3c\") {\n",
       "      outputDiv = document.getElementById(\"altair-viz-1e99722ce8524b54bb0d4987572f2d3c\");\n",
       "    }\n",
       "    const paths = {\n",
       "      \"vega\": \"https://cdn.jsdelivr.net/npm//vega@5?noext\",\n",
       "      \"vega-lib\": \"https://cdn.jsdelivr.net/npm//vega-lib?noext\",\n",
       "      \"vega-lite\": \"https://cdn.jsdelivr.net/npm//vega-lite@4.17.0?noext\",\n",
       "      \"vega-embed\": \"https://cdn.jsdelivr.net/npm//vega-embed@6?noext\",\n",
       "    };\n",
       "\n",
       "    function maybeLoadScript(lib, version) {\n",
       "      var key = `${lib.replace(\"-\", \"\")}_version`;\n",
       "      return (VEGA_DEBUG[key] == version) ?\n",
       "        Promise.resolve(paths[lib]) :\n",
       "        new Promise(function(resolve, reject) {\n",
       "          var s = document.createElement('script');\n",
       "          document.getElementsByTagName(\"head\")[0].appendChild(s);\n",
       "          s.async = true;\n",
       "          s.onload = () => {\n",
       "            VEGA_DEBUG[key] = version;\n",
       "            return resolve(paths[lib]);\n",
       "          };\n",
       "          s.onerror = () => reject(`Error loading script: ${paths[lib]}`);\n",
       "          s.src = paths[lib];\n",
       "        });\n",
       "    }\n",
       "\n",
       "    function showError(err) {\n",
       "      outputDiv.innerHTML = `<div class=\"error\" style=\"color:red;\">${err}</div>`;\n",
       "      throw err;\n",
       "    }\n",
       "\n",
       "    function displayChart(vegaEmbed) {\n",
       "      vegaEmbed(outputDiv, spec, embedOpt)\n",
       "        .catch(err => showError(`Javascript Error: ${err.message}<br>This usually means there's a typo in your chart specification. See the javascript console for the full traceback.`));\n",
       "    }\n",
       "\n",
       "    if(typeof define === \"function\" && define.amd) {\n",
       "      requirejs.config({paths});\n",
       "      require([\"vega-embed\"], displayChart, err => showError(`Error loading script: ${err.message}`));\n",
       "    } else {\n",
       "      maybeLoadScript(\"vega\", \"5\")\n",
       "        .then(() => maybeLoadScript(\"vega-lite\", \"4.17.0\"))\n",
       "        .then(() => maybeLoadScript(\"vega-embed\", \"6\"))\n",
       "        .catch(showError)\n",
       "        .then(() => displayChart(vegaEmbed));\n",
       "    }\n",
       "  })({\"usermeta\": {\"embedOptions\": {\"theme\": \"latimes\"}}, \"config\": {\"view\": {\"continuousWidth\": 400, \"continuousHeight\": 300}}, \"data\": {\"name\": \"data-0caea4f6a4e7140fb196d48efe5e5d1f\"}, \"mark\": {\"type\": \"geoshape\", \"stroke\": \"black\"}, \"encoding\": {\"color\": {\"field\": \"pct_change\", \"scale\": {\"scheme\": \"oranges\"}, \"type\": \"quantitative\"}, \"shape\": {\"field\": \"geo\", \"type\": \"geojson\"}, \"tooltip\": [{\"field\": \"state\", \"title\": \"State\", \"type\": \"nominal\"}, {\"field\": \"pct_change\", \"title\": \"Change (%))\", \"type\": \"quantitative\"}]}, \"height\": 400, \"projection\": {\"type\": \"albersUsa\"}, \"title\": \"Percentage change in college tuition costs from 2010 to 2015\", \"transform\": [{\"lookup\": \"STATE\", \"as\": \"geo\", \"from\": {\"data\": {\"url\": \"https://cdn.jsdelivr.net/npm/vega-datasets@v1.29.0/data/us-10m.json\", \"format\": {\"feature\": \"states\", \"type\": \"topojson\"}}, \"key\": \"id\"}}], \"width\": 600, \"$schema\": \"https://vega.github.io/schema/vega-lite/v4.17.0.json\", \"datasets\": {\"data-0caea4f6a4e7140fb196d48efe5e5d1f\": [{\"state\": \"Alabama\", \"year\": \"2015-16\", \"tuition\": 9751.101349251952, \"pr_change\": 0.20814518010053887, \"pct_change\": 20.8, \"STATE\": 1, \"STUSAB\": \"AL\", \"STATENS\": 1779775}, {\"state\": \"Alaska\", \"year\": \"2015-16\", \"tuition\": 6571.340316948697, \"pr_change\": 0.1410254898352864, \"pct_change\": 14.1, \"STATE\": 2, \"STUSAB\": \"AK\", \"STATENS\": 1785533}, {\"state\": \"Arizona\", \"year\": \"2015-16\", \"tuition\": 10646.278351749399, \"pr_change\": 0.20438399336840024, \"pct_change\": 20.4, \"STATE\": 4, \"STUSAB\": \"AZ\", \"STATENS\": 1779777}, {\"state\": \"Arkansas\", \"year\": \"2015-16\", \"tuition\": 7867.29673593428, \"pr_change\": 0.14003718138527377, \"pct_change\": 14.0, \"STATE\": 5, \"STUSAB\": \"AR\", \"STATENS\": 68085}, {\"state\": \"California\", \"year\": \"2015-16\", \"tuition\": 9269.844227224636, \"pr_change\": 0.13133264936014827, \"pct_change\": 13.1, \"STATE\": 6, \"STUSAB\": \"CA\", \"STATENS\": 1779778}, {\"state\": \"Colorado\", \"year\": \"2015-16\", \"tuition\": 9748.187715504646, \"pr_change\": 0.2581227467479503, \"pct_change\": 25.8, \"STATE\": 8, \"STUSAB\": \"CO\", \"STATENS\": 1779779}, {\"state\": \"Connecticut\", \"year\": \"2015-16\", \"tuition\": 11397.336553140489, \"pr_change\": 0.15979661472554743, \"pct_change\": 16.0, \"STATE\": 9, \"STUSAB\": \"CT\", \"STATENS\": 1779780}, {\"state\": \"Delaware\", \"year\": \"2015-16\", \"tuition\": 11676.215597471757, \"pr_change\": 0.10841222951571186, \"pct_change\": 10.8, \"STATE\": 10, \"STUSAB\": \"DE\", \"STATENS\": 1779781}, {\"state\": \"Florida\", \"year\": \"2015-16\", \"tuition\": 6360.159309231394, \"pr_change\": 0.1541558891945086, \"pct_change\": 15.4, \"STATE\": 12, \"STUSAB\": \"FL\", \"STATENS\": 294478}, {\"state\": \"Georgia\", \"year\": \"2015-16\", \"tuition\": 8446.961426315582, \"pr_change\": 0.3140871037147777, \"pct_change\": 31.4, \"STATE\": 13, \"STUSAB\": \"GA\", \"STATENS\": 1705317}, {\"state\": \"Hawaii\", \"year\": \"2015-16\", \"tuition\": 10174.733720305641, \"pr_change\": 0.24626489640859592, \"pct_change\": 24.6, \"STATE\": 15, \"STUSAB\": \"HI\", \"STATENS\": 1779782}, {\"state\": \"Idaho\", \"year\": \"2015-16\", \"tuition\": 6818.470343746806, \"pr_change\": 0.16860956337394542, \"pct_change\": 16.9, \"STATE\": 16, \"STUSAB\": \"ID\", \"STATENS\": 1779783}, {\"state\": \"Illinois\", \"year\": \"2015-16\", \"tuition\": 13189.100826230002, \"pr_change\": 0.09839321367553834, \"pct_change\": 9.8, \"STATE\": 17, \"STUSAB\": \"IL\", \"STATENS\": 1779784}, {\"state\": \"Indiana\", \"year\": \"2015-16\", \"tuition\": 9119.648545884287, \"pr_change\": 0.04291697123189207, \"pct_change\": 4.3, \"STATE\": 18, \"STUSAB\": \"IN\", \"STATENS\": 448508}, {\"state\": \"Iowa\", \"year\": \"2015-16\", \"tuition\": 7877.344019168941, \"pr_change\": 0.005726430290231668, \"pct_change\": 0.6, \"STATE\": 19, \"STUSAB\": \"IA\", \"STATENS\": 1779785}, {\"state\": \"Kansas\", \"year\": \"2015-16\", \"tuition\": 8530.493830784435, \"pr_change\": 0.1758905272904568, \"pct_change\": 17.6, \"STATE\": 20, \"STUSAB\": \"KS\", \"STATENS\": 481813}, {\"state\": \"Kentucky\", \"year\": \"2015-16\", \"tuition\": 9566.67257334121, \"pr_change\": 0.16227933033984196, \"pct_change\": 16.2, \"STATE\": 21, \"STUSAB\": \"KY\", \"STATENS\": 1779786}, {\"state\": \"Louisiana\", \"year\": \"2015-16\", \"tuition\": 7870.959722650475, \"pr_change\": 0.519150758204525, \"pct_change\": 51.9, \"STATE\": 22, \"STUSAB\": \"LA\", \"STATENS\": 1629543}, {\"state\": \"Maine\", \"year\": \"2015-16\", \"tuition\": 9572.968444568556, \"pr_change\": -0.022366732447751808, \"pct_change\": -2.2, \"STATE\": 23, \"STUSAB\": \"ME\", \"STATENS\": 1779787}, {\"state\": \"Maryland\", \"year\": \"2015-16\", \"tuition\": 9163.29158226419, \"pr_change\": 0.08190368157594316, \"pct_change\": 8.2, \"STATE\": 24, \"STUSAB\": \"MD\", \"STATENS\": 1714934}, {\"state\": \"Massachusetts\", \"year\": \"2015-16\", \"tuition\": 11588.125344457978, \"pr_change\": 0.11570196329449647, \"pct_change\": 11.6, \"STATE\": 25, \"STUSAB\": \"MA\", \"STATENS\": 606926}, {\"state\": \"Michigan\", \"year\": \"2015-16\", \"tuition\": 11990.52822403027, \"pr_change\": 0.08074753044011806, \"pct_change\": 8.1, \"STATE\": 26, \"STUSAB\": \"MI\", \"STATENS\": 1779789}, {\"state\": \"Minnesota\", \"year\": \"2015-16\", \"tuition\": 10831.360471619942, \"pr_change\": 0.05406133011359252, \"pct_change\": 5.4, \"STATE\": 27, \"STUSAB\": \"MN\", \"STATENS\": 662849}, {\"state\": \"Mississippi\", \"year\": \"2015-16\", \"tuition\": 7147.2712342461355, \"pr_change\": 0.23329228805031588, \"pct_change\": 23.3, \"STATE\": 28, \"STUSAB\": \"MS\", \"STATENS\": 1779790}, {\"state\": \"Missouri\", \"year\": \"2015-16\", \"tuition\": 8564.109743438288, \"pr_change\": 0.07596406835264517, \"pct_change\": 7.6, \"STATE\": 29, \"STUSAB\": \"MO\", \"STATENS\": 1779791}, {\"state\": \"Montana\", \"year\": \"2015-16\", \"tuition\": 6351.076487252125, \"pr_change\": 0.03380676525225765, \"pct_change\": 3.4, \"STATE\": 30, \"STUSAB\": \"MT\", \"STATENS\": 767982}, {\"state\": \"Nebraska\", \"year\": \"2015-16\", \"tuition\": 7607.9658656882075, \"pr_change\": 0.053014397123001114, \"pct_change\": 5.3, \"STATE\": 31, \"STUSAB\": \"NE\", \"STATENS\": 1779792}, {\"state\": \"Nevada\", \"year\": \"2015-16\", \"tuition\": 6667.235801581596, \"pr_change\": 0.14526811896835296, \"pct_change\": 14.5, \"STATE\": 32, \"STUSAB\": \"NV\", \"STATENS\": 1779793}, {\"state\": \"New Hampshire\", \"year\": \"2015-16\", \"tuition\": 15159.895264116578, \"pr_change\": 0.1592667499673311, \"pct_change\": 15.9, \"STATE\": 33, \"STUSAB\": \"NH\", \"STATENS\": 1779794}, {\"state\": \"New Jersey\", \"year\": \"2015-16\", \"tuition\": 13303.419490336193, \"pr_change\": 0.043240238130750674, \"pct_change\": 4.3, \"STATE\": 34, \"STUSAB\": \"NJ\", \"STATENS\": 1779795}, {\"state\": \"New Mexico\", \"year\": \"2015-16\", \"tuition\": 6354.521438963855, \"pr_change\": 0.13199503475559196, \"pct_change\": 13.2, \"STATE\": 35, \"STUSAB\": \"NM\", \"STATENS\": 897535}, {\"state\": \"New York\", \"year\": \"2015-16\", \"tuition\": 7643.525099747241, \"pr_change\": 0.20531304443349338, \"pct_change\": 20.5, \"STATE\": 36, \"STUSAB\": \"NY\", \"STATENS\": 1779796}, {\"state\": \"North Carolina\", \"year\": \"2015-16\", \"tuition\": 6973.066091916937, \"pr_change\": 0.1966771667518363, \"pct_change\": 19.7, \"STATE\": 37, \"STUSAB\": \"NC\", \"STATENS\": 1027616}, {\"state\": \"North Dakota\", \"year\": \"2015-16\", \"tuition\": 7687.698216924241, \"pr_change\": 0.06907150473928414, \"pct_change\": 6.9, \"STATE\": 38, \"STUSAB\": \"ND\", \"STATENS\": 1779797}, {\"state\": \"Ohio\", \"year\": \"2015-16\", \"tuition\": 10195.895607219012, \"pr_change\": 0.028486642197690898, \"pct_change\": 2.8, \"STATE\": 39, \"STUSAB\": \"OH\", \"STATENS\": 1085497}, {\"state\": \"Oklahoma\", \"year\": \"2015-16\", \"tuition\": 7449.698064176078, \"pr_change\": 0.18353339228892104, \"pct_change\": 18.4, \"STATE\": 40, \"STUSAB\": \"OK\", \"STATENS\": 1102857}, {\"state\": \"Oregon\", \"year\": \"2015-16\", \"tuition\": 9371.346119665925, \"pr_change\": 0.15156673420200972, \"pct_change\": 15.2, \"STATE\": 41, \"STUSAB\": \"OR\", \"STATENS\": 1155107}, {\"state\": \"Pennsylvania\", \"year\": \"2015-16\", \"tuition\": 13394.777550376328, \"pr_change\": 0.07988362372374108, \"pct_change\": 8.0, \"STATE\": 42, \"STUSAB\": \"PA\", \"STATENS\": 1779798}, {\"state\": \"Rhode Island\", \"year\": \"2015-16\", \"tuition\": 11390.118397085611, \"pr_change\": 0.11652542199431888, \"pct_change\": 11.7, \"STATE\": 44, \"STUSAB\": \"RI\", \"STATENS\": 1219835}, {\"state\": \"South Carolina\", \"year\": \"2015-16\", \"tuition\": 11816.025925316488, \"pr_change\": 0.07263916860021476, \"pct_change\": 7.3, \"STATE\": 45, \"STUSAB\": \"SC\", \"STATENS\": 1779799}, {\"state\": \"South Dakota\", \"year\": \"2015-16\", \"tuition\": 8054.912800263244, \"pr_change\": 0.1646378783008343, \"pct_change\": 16.5, \"STATE\": 46, \"STUSAB\": \"SD\", \"STATENS\": 1785534}, {\"state\": \"Tennessee\", \"year\": \"2015-16\", \"tuition\": 9263.479110787835, \"pr_change\": 0.29748701799549365, \"pct_change\": 29.7, \"STATE\": 47, \"STUSAB\": \"TN\", \"STATENS\": 1325873}, {\"state\": \"Texas\", \"year\": \"2015-16\", \"tuition\": 9116.732642680614, \"pr_change\": 0.07543350744411828, \"pct_change\": 7.5, \"STATE\": 48, \"STUSAB\": \"TX\", \"STATENS\": 1779801}, {\"state\": \"Utah\", \"year\": \"2015-16\", \"tuition\": 6362.682377404262, \"pr_change\": 0.18232822925502987, \"pct_change\": 18.2, \"STATE\": 49, \"STUSAB\": \"UT\", \"STATENS\": 1455989}, {\"state\": \"Vermont\", \"year\": \"2015-16\", \"tuition\": 14993.026532856751, \"pr_change\": 0.09797704103385027, \"pct_change\": 9.8, \"STATE\": 50, \"STUSAB\": \"VT\", \"STATENS\": 1779802}, {\"state\": \"Virginia\", \"year\": \"2015-16\", \"tuition\": 11818.692852673435, \"pr_change\": 0.2256106479901672, \"pct_change\": 22.6, \"STATE\": 51, \"STUSAB\": \"VA\", \"STATENS\": 1779803}, {\"state\": \"Washington\", \"year\": \"2015-16\", \"tuition\": 10288.352635518957, \"pr_change\": 0.1465700559113816, \"pct_change\": 14.7, \"STATE\": 53, \"STUSAB\": \"WA\", \"STATENS\": 1779804}, {\"state\": \"West Virginia\", \"year\": \"2015-16\", \"tuition\": 7171.450966340447, \"pr_change\": 0.2535663253078056, \"pct_change\": 25.4, \"STATE\": 54, \"STUSAB\": \"WV\", \"STATENS\": 1779805}, {\"state\": \"Wisconsin\", \"year\": \"2015-16\", \"tuition\": 8815.260667850567, \"pr_change\": 0.04432132166290435, \"pct_change\": 4.4, \"STATE\": 55, \"STUSAB\": \"WI\", \"STATENS\": 1779806}, {\"state\": \"Wyoming\", \"year\": \"2015-16\", \"tuition\": 4890.999758220503, \"pr_change\": 0.1377489129787328, \"pct_change\": 13.8, \"STATE\": 56, \"STUSAB\": \"WY\", \"STATENS\": 1779807}]}}, {\"mode\": \"vega-lite\"});\n",
       "</script>"
      ],
      "text/plain": [
       "alt.Chart(...)"
      ]
     },
     "execution_count": 8,
     "metadata": {},
     "output_type": "execute_result"
    }
   ],
   "source": [
    "#| code-summary: 'Plot percentage change in college annual tuition costs'\n",
    "#| code-fold: true\n",
    "_gq = melted_us_avg_tuition.filter(\n",
    "    pl.col('year').apply(lambda x: x in ('2010-11', '2015-16',))\n",
    ").with_column(\n",
    "    pl.col('tuition').pct_change().over('state').alias('pr_change')\n",
    ").with_column(\n",
    "    pl.col('pr_change').apply(lambda x: x * 100).round(1).alias('pct_change')\n",
    ").filter(\n",
    "    pl.col('pct_change').is_not_null()\n",
    ").join(\n",
    "    other=ansi,\n",
    "    left_on='state',\n",
    "    right_on='STATE_NAME',\n",
    "    how='inner'\n",
    ")\n",
    "\n",
    "alt.Chart(_gq.collect().to_pandas()).mark_geoshape(stroke='black').encode(\n",
    "    shape='geo:G',\n",
    "    color=alt.Color(\"pct_change\", scale=alt.Scale(scheme=\"oranges\")),\n",
    "    tooltip=[alt.Tooltip('state', title='State'),\n",
    "             alt.Tooltip('pct_change', title='Change (%))')]\n",
    ").transform_lookup(\n",
    "    lookup='STATE',\n",
    "    from_=alt.LookupData(data=states, key='id'),\n",
    "    as_='geo'\n",
    ").project(\n",
    "    type='albersUsa'\n",
    ").properties(\n",
    "    title='Percentage change in college tuition costs from 2010 to 2015',\n",
    "    width=600,\n",
    "    height=400\n",
    ")"
   ]
  },
  {
   "cell_type": "code",
   "execution_count": 9,
   "id": "ebde85f5-0dad-4b44-be7f-358ff1a37d8a",
   "metadata": {
    "tags": []
   },
   "outputs": [
    {
     "data": {
      "text/html": [
       "\n",
       "<div id=\"altair-viz-9354ac595a9a4689bae61daa47aa5549\"></div>\n",
       "<script type=\"text/javascript\">\n",
       "  var VEGA_DEBUG = (typeof VEGA_DEBUG == \"undefined\") ? {} : VEGA_DEBUG;\n",
       "  (function(spec, embedOpt){\n",
       "    let outputDiv = document.currentScript.previousElementSibling;\n",
       "    if (outputDiv.id !== \"altair-viz-9354ac595a9a4689bae61daa47aa5549\") {\n",
       "      outputDiv = document.getElementById(\"altair-viz-9354ac595a9a4689bae61daa47aa5549\");\n",
       "    }\n",
       "    const paths = {\n",
       "      \"vega\": \"https://cdn.jsdelivr.net/npm//vega@5?noext\",\n",
       "      \"vega-lib\": \"https://cdn.jsdelivr.net/npm//vega-lib?noext\",\n",
       "      \"vega-lite\": \"https://cdn.jsdelivr.net/npm//vega-lite@4.17.0?noext\",\n",
       "      \"vega-embed\": \"https://cdn.jsdelivr.net/npm//vega-embed@6?noext\",\n",
       "    };\n",
       "\n",
       "    function maybeLoadScript(lib, version) {\n",
       "      var key = `${lib.replace(\"-\", \"\")}_version`;\n",
       "      return (VEGA_DEBUG[key] == version) ?\n",
       "        Promise.resolve(paths[lib]) :\n",
       "        new Promise(function(resolve, reject) {\n",
       "          var s = document.createElement('script');\n",
       "          document.getElementsByTagName(\"head\")[0].appendChild(s);\n",
       "          s.async = true;\n",
       "          s.onload = () => {\n",
       "            VEGA_DEBUG[key] = version;\n",
       "            return resolve(paths[lib]);\n",
       "          };\n",
       "          s.onerror = () => reject(`Error loading script: ${paths[lib]}`);\n",
       "          s.src = paths[lib];\n",
       "        });\n",
       "    }\n",
       "\n",
       "    function showError(err) {\n",
       "      outputDiv.innerHTML = `<div class=\"error\" style=\"color:red;\">${err}</div>`;\n",
       "      throw err;\n",
       "    }\n",
       "\n",
       "    function displayChart(vegaEmbed) {\n",
       "      vegaEmbed(outputDiv, spec, embedOpt)\n",
       "        .catch(err => showError(`Javascript Error: ${err.message}<br>This usually means there's a typo in your chart specification. See the javascript console for the full traceback.`));\n",
       "    }\n",
       "\n",
       "    if(typeof define === \"function\" && define.amd) {\n",
       "      requirejs.config({paths});\n",
       "      require([\"vega-embed\"], displayChart, err => showError(`Error loading script: ${err.message}`));\n",
       "    } else {\n",
       "      maybeLoadScript(\"vega\", \"5\")\n",
       "        .then(() => maybeLoadScript(\"vega-lite\", \"4.17.0\"))\n",
       "        .then(() => maybeLoadScript(\"vega-embed\", \"6\"))\n",
       "        .catch(showError)\n",
       "        .then(() => displayChart(vegaEmbed));\n",
       "    }\n",
       "  })({\"usermeta\": {\"embedOptions\": {\"theme\": \"latimes\"}}, \"config\": {\"view\": {\"continuousWidth\": 400, \"continuousHeight\": 300}}, \"data\": {\"name\": \"data-988eb6b07282f382396e50ec644507d1\"}, \"mark\": {\"type\": \"circle\", \"size\": 60}, \"encoding\": {\"x\": {\"field\": \"tuition\", \"title\": \"Tuition ($)\", \"type\": \"quantitative\"}, \"y\": {\"axis\": {\"grid\": true}, \"field\": \"state\", \"sort\": \"-x\", \"title\": \"State\", \"type\": \"nominal\"}}, \"height\": 600, \"title\": \"College tuition costs in the USA in 2015-16\", \"width\": 400, \"$schema\": \"https://vega.github.io/schema/vega-lite/v4.17.0.json\", \"datasets\": {\"data-988eb6b07282f382396e50ec644507d1\": [{\"state\": \"Alabama\", \"year\": \"2015-16\", \"tuition\": 9751.101349251952}, {\"state\": \"Alaska\", \"year\": \"2015-16\", \"tuition\": 6571.340316948697}, {\"state\": \"Arizona\", \"year\": \"2015-16\", \"tuition\": 10646.278351749399}, {\"state\": \"Arkansas\", \"year\": \"2015-16\", \"tuition\": 7867.29673593428}, {\"state\": \"California\", \"year\": \"2015-16\", \"tuition\": 9269.844227224636}, {\"state\": \"Colorado\", \"year\": \"2015-16\", \"tuition\": 9748.187715504646}, {\"state\": \"Connecticut\", \"year\": \"2015-16\", \"tuition\": 11397.336553140489}, {\"state\": \"Delaware\", \"year\": \"2015-16\", \"tuition\": 11676.215597471757}, {\"state\": \"Florida\", \"year\": \"2015-16\", \"tuition\": 6360.159309231394}, {\"state\": \"Georgia\", \"year\": \"2015-16\", \"tuition\": 8446.961426315582}, {\"state\": \"Hawaii\", \"year\": \"2015-16\", \"tuition\": 10174.733720305641}, {\"state\": \"Idaho\", \"year\": \"2015-16\", \"tuition\": 6818.470343746806}, {\"state\": \"Illinois\", \"year\": \"2015-16\", \"tuition\": 13189.100826230002}, {\"state\": \"Indiana\", \"year\": \"2015-16\", \"tuition\": 9119.648545884287}, {\"state\": \"Iowa\", \"year\": \"2015-16\", \"tuition\": 7877.344019168941}, {\"state\": \"Kansas\", \"year\": \"2015-16\", \"tuition\": 8530.493830784435}, {\"state\": \"Kentucky\", \"year\": \"2015-16\", \"tuition\": 9566.67257334121}, {\"state\": \"Louisiana\", \"year\": \"2015-16\", \"tuition\": 7870.959722650475}, {\"state\": \"Maine\", \"year\": \"2015-16\", \"tuition\": 9572.968444568556}, {\"state\": \"Maryland\", \"year\": \"2015-16\", \"tuition\": 9163.29158226419}, {\"state\": \"Massachusetts\", \"year\": \"2015-16\", \"tuition\": 11588.125344457978}, {\"state\": \"Michigan\", \"year\": \"2015-16\", \"tuition\": 11990.52822403027}, {\"state\": \"Minnesota\", \"year\": \"2015-16\", \"tuition\": 10831.360471619942}, {\"state\": \"Mississippi\", \"year\": \"2015-16\", \"tuition\": 7147.2712342461355}, {\"state\": \"Missouri\", \"year\": \"2015-16\", \"tuition\": 8564.109743438288}, {\"state\": \"Montana\", \"year\": \"2015-16\", \"tuition\": 6351.076487252125}, {\"state\": \"Nebraska\", \"year\": \"2015-16\", \"tuition\": 7607.9658656882075}, {\"state\": \"Nevada\", \"year\": \"2015-16\", \"tuition\": 6667.235801581596}, {\"state\": \"New Hampshire\", \"year\": \"2015-16\", \"tuition\": 15159.895264116578}, {\"state\": \"New Jersey\", \"year\": \"2015-16\", \"tuition\": 13303.419490336193}, {\"state\": \"New Mexico\", \"year\": \"2015-16\", \"tuition\": 6354.521438963855}, {\"state\": \"New York\", \"year\": \"2015-16\", \"tuition\": 7643.525099747241}, {\"state\": \"North Carolina\", \"year\": \"2015-16\", \"tuition\": 6973.066091916937}, {\"state\": \"North Dakota\", \"year\": \"2015-16\", \"tuition\": 7687.698216924241}, {\"state\": \"Ohio\", \"year\": \"2015-16\", \"tuition\": 10195.895607219012}, {\"state\": \"Oklahoma\", \"year\": \"2015-16\", \"tuition\": 7449.698064176078}, {\"state\": \"Oregon\", \"year\": \"2015-16\", \"tuition\": 9371.346119665925}, {\"state\": \"Pennsylvania\", \"year\": \"2015-16\", \"tuition\": 13394.777550376328}, {\"state\": \"Rhode Island\", \"year\": \"2015-16\", \"tuition\": 11390.118397085611}, {\"state\": \"South Carolina\", \"year\": \"2015-16\", \"tuition\": 11816.025925316488}, {\"state\": \"South Dakota\", \"year\": \"2015-16\", \"tuition\": 8054.912800263244}, {\"state\": \"Tennessee\", \"year\": \"2015-16\", \"tuition\": 9263.479110787835}, {\"state\": \"Texas\", \"year\": \"2015-16\", \"tuition\": 9116.732642680614}, {\"state\": \"Utah\", \"year\": \"2015-16\", \"tuition\": 6362.682377404262}, {\"state\": \"Vermont\", \"year\": \"2015-16\", \"tuition\": 14993.026532856751}, {\"state\": \"Virginia\", \"year\": \"2015-16\", \"tuition\": 11818.692852673435}, {\"state\": \"Washington\", \"year\": \"2015-16\", \"tuition\": 10288.352635518957}, {\"state\": \"West Virginia\", \"year\": \"2015-16\", \"tuition\": 7171.450966340447}, {\"state\": \"Wisconsin\", \"year\": \"2015-16\", \"tuition\": 8815.260667850567}, {\"state\": \"Wyoming\", \"year\": \"2015-16\", \"tuition\": 4890.999758220503}]}}, {\"mode\": \"vega-lite\"});\n",
       "</script>"
      ],
      "text/plain": [
       "alt.Chart(...)"
      ]
     },
     "execution_count": 9,
     "metadata": {},
     "output_type": "execute_result"
    }
   ],
   "source": [
    "#| code-summary: 'Plot college tuition costs in the USA in 2015'\n",
    "#| code-fold: true\n",
    "_gq = melted_us_avg_tuition.filter(\n",
    "    pl.col('year') == '2015-16'\n",
    ")\n",
    "\n",
    "alt.Chart(_gq.collect().to_pandas()).mark_circle(size=60).encode(\n",
    "    x=alt.X('tuition', title='Tuition ($)'),\n",
    "    y=alt.Y(\n",
    "        'state',\n",
    "        sort='-x',\n",
    "        axis=alt.Axis(grid=True),\n",
    "        title='State'\n",
    "    )\n",
    ").properties(\n",
    "    title='College tuition costs in the USA in 2015-16',\n",
    "    width=400,\n",
    "    height=600\n",
    ")"
   ]
  },
  {
   "cell_type": "code",
   "execution_count": 10,
   "id": "b35bbd29-abd4-4761-9b5a-aaaa0b13fe0b",
   "metadata": {
    "tags": []
   },
   "outputs": [
    {
     "data": {
      "image/png": "[encoded data removed]",
      "text/plain": [
       "<Figure size 600x400 with 1 Axes>"
      ]
     },
     "metadata": {},
     "output_type": "display_data"
    }
   ],
   "source": [
    "#| code-summary: 'Plot the distribution of college tuition costs in the USA in 2015'\n",
    "#| code-fold: true\n",
    "_gq = melted_us_avg_tuition.filter(\n",
    "    pl.col('year') == '2015-16'\n",
    ")\n",
    "\n",
    "_g = sns.catplot(\n",
    "            data=_gq.collect().to_pandas(),\n",
    "            x='tuition',\n",
    "            kind='strip',\n",
    "            height=4,\n",
    "            aspect=1.5\n",
    ")\n",
    "plt.title(\n",
    "    'Distribution of college tuition costs in the USA in 2015-16',\n",
    "    loc='left'\n",
    ")\n",
    "plt.xlabel('Tuition ($)')\n",
    "plt.show()"
   ]
  },
  {
   "cell_type": "markdown",
   "id": "54dc6472",
   "metadata": {},
   "source": [
    "[^1]: This was used to bring in the state ID, which we needed for mapping the data to a chloropleth map.\n",
    "[^2]: 2010-11 and 2015-16 in the first, and just 2015-16 in the second.\n",
    "[^3]: See `'  2007-08 '`\n",
    "[^4]: Actual column name `'  2007-08 '`"
   ]
  },
  {
   "cell_type": "code",
   "execution_count": 11,
   "id": "0a58f034",
   "metadata": {},
   "outputs": [
    {
     "name": "stdout",
     "output_type": "stream",
     "text": [
      "matplotlib: 3.5.3\n",
      "sys       : 3.10.6 (tags/v3.10.6:9c7b4bd, Aug  1 2022, 21:53:49) [MSC v.1932 64 bit (AMD64)]\n",
      "pandas    : 1.4.3\n",
      "seaborn   : 0.11.2\n",
      "altair    : 4.2.0\n",
      "polars    : 0.14.5\n",
      "\n"
     ]
    }
   ],
   "source": [
    "%watermark --iversions"
   ]
  }
 ],
 "metadata": {
  "kernelspec": {
   "display_name": "lr_stats",
   "language": "python",
   "name": "lr_stats"
  },
  "language_info": {
   "codemirror_mode": {
    "name": "ipython",
    "version": 3
   },
   "file_extension": ".py",
   "mimetype": "text/x-python",
   "name": "python",
   "nbconvert_exporter": "python",
   "pygments_lexer": "ipython3",
   "version": "3.10.6"
  }
 },
 "nbformat": 4,
 "nbformat_minor": 5
}
