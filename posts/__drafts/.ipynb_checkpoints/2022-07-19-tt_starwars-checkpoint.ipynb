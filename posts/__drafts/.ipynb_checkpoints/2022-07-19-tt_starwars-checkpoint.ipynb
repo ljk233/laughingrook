{
 "cells": [
  {
   "cell_type": "raw",
   "id": "0104a8e6-e667-44d9-a2e3-3899bbf3cbf7",
   "metadata": {},
   "source": [
    "---\n",
    "title: \"Top 15 European Cities by Number of Starbucks\"\n",
    "author: \"LaughingRook\"\n",
    "date: \"2022-07-05\"\n",
    "categories: [TidyTuesday]\n",
    "draft: true\n",
    "format:\n",
    "  html:\n",
    "    code-fold: false\n",
    "    code-tools: true\n",
    "---"
   ]
  },
  {
   "cell_type": "markdown",
   "id": "c6025a30-df35-4d4b-8bd3-38886a38c0a2",
   "metadata": {},
   "source": [
    "## Summary notes\n",
    "\n",
    "This **#TidyTuesday** project was posted back on 14th May, 2018.\n",
    "Here's the motivating tweet from [@thomas_mock](https://twitter.com/thomas_mock):\n",
    "\n",
    "<blockquote class=\"twitter-tweet\"><p lang=\"en\" dir=\"ltr\">The <a href=\"https://twitter.com/R4DScommunity?ref_src=twsrc%5Etfw\">@R4DScommunity</a> welcomes you to week 7 of <a href=\"https://twitter.com/hashtag/TidyTuesday?src=hash&amp;ref_src=twsrc%5Etfw\">#TidyTuesday</a> !<br><br>We&#39;ll explore survey data of the original 6 Star Wars movies! <br><br>Survey Data: <a href=\"https://t.co/sElb4fcv3u\">https://t.co/sElb4fcv3u</a><br>Article: <a href=\"https://t.co/wvrilKiudh\">https://t.co/wvrilKiudh</a><br>Character Data: <a href=\"https://t.co/h8xgscXH1Z\">https://t.co/h8xgscXH1Z</a><a href=\"https://twitter.com/hashtag/rstats?src=hash&amp;ref_src=twsrc%5Etfw\">#rstats</a> <a href=\"https://twitter.com/hashtag/tidyverse?src=hash&amp;ref_src=twsrc%5Etfw\">#tidyverse</a> <a href=\"https://twitter.com/hashtag/r4ds?src=hash&amp;ref_src=twsrc%5Etfw\">#r4ds</a> <a href=\"https://twitter.com/hashtag/dataviz?src=hash&amp;ref_src=twsrc%5Etfw\">#dataviz</a> <a href=\"https://t.co/lS1QRoropO\">pic.twitter.com/lS1QRoropO</a></p>&mdash; Tom Mock (@thomas_mock) <a href=\"https://twitter.com/thomas_mock/status/996020903363399680?ref_src=twsrc%5Etfw\">May 14, 2018</a></blockquote> <script async src=\"https://platform.twitter.com/widgets.js\" charset=\"utf-8\"></script>\n",
    "\n",
    "*Add data description*\n",
    "\n",
    "The initial problem with the data is that the header is split over two rows."
   ]
  },
  {
   "cell_type": "markdown",
   "id": "33f5a82c-fe3d-4d71-8f8e-22a5afc14e91",
   "metadata": {
    "tags": []
   },
   "source": [
    "## Dependencies"
   ]
  },
  {
   "cell_type": "code",
   "execution_count": 1,
   "id": "98b09c2b-1ba5-4044-8400-f5cfcffe0204",
   "metadata": {},
   "outputs": [],
   "source": [
    "import numpy as np\n",
    "import pandas as pd\n",
    "from pandas.api.types import CategoricalDtype\n",
    "from matplotlib import pyplot as plt\n",
    "import seaborn as sns"
   ]
  },
  {
   "cell_type": "code",
   "execution_count": 2,
   "id": "7de95bc9-04ca-4f19-a480-2035957f0b41",
   "metadata": {},
   "outputs": [],
   "source": [
    "sns.set_theme()"
   ]
  },
  {
   "cell_type": "markdown",
   "id": "89f4475d-0e0a-4099-9451-70917a3b06ac",
   "metadata": {
    "tags": []
   },
   "source": [
    "## Constants"
   ]
  },
  {
   "cell_type": "code",
   "execution_count": 3,
   "id": "de97eaea-b0cc-451f-9ab9-9e792c0362c1",
   "metadata": {},
   "outputs": [],
   "source": [
    "STARWARS_URL = ('https://raw.githubusercontent.com/rfordatascience/'\n",
    "                + 'tidytuesday/master/data/2018/2018-05-14/'\n",
    "                + 'week7_starwars.csv')"
   ]
  },
  {
   "cell_type": "code",
   "execution_count": 4,
   "id": "5476b310-dadb-4a7e-9f30-02faacc1aa3e",
   "metadata": {},
   "outputs": [],
   "source": [
    "COLUMNS = {\n",
    "    'episodes': ['a_phantom_menace',\n",
    "                 'attack_of_the_clones',\n",
    "                 'revenge_of_the_sith',\n",
    "                 'a_new_hope',\n",
    "                 'the_empire_strikes_back',\n",
    "                 'return_of_the_jedi'],\n",
    "    'characters': ['han_solo',\n",
    "                   'luke_skywalker',\n",
    "                   'princess_leia_organa',\n",
    "                   'anakin_skywalker',\n",
    "                   'obi_wan_kenobi',\n",
    "                   'emperor_palpatine',\n",
    "                   'darth_vader',\n",
    "                   'lando_calrissian',\n",
    "                   'boba_fett',\n",
    "                   'c-3p0',\n",
    "                   'r2_d2',\n",
    "                   'jar_jar_binks',\n",
    "                   'padme_amidala',\n",
    "                   'yoda']\n",
    "}"
   ]
  },
  {
   "cell_type": "code",
   "execution_count": 5,
   "id": "ed6895d0-7361-4418-a628-77b490c31d43",
   "metadata": {},
   "outputs": [],
   "source": [
    "CATEGORIES = {\n",
    "    'episode': CategoricalDtype(\n",
    "        COLUMNS['episodes'], ordered=True\n",
    "    ), 'gender': CategoricalDtype(\n",
    "        ['Male', 'Female', 'No response']\n",
    "    ), 'age': CategoricalDtype(\n",
    "            ['18-29', '30-44', '45-60', '> 60', 'No response'],\n",
    "            ordered=True\n",
    "    ), 'household_income': CategoricalDtype(\n",
    "            ['0 - 24,999',\n",
    "             '25,000 - 49,999',\n",
    "             '50,000 - 99,999',\n",
    "             '100,000 - 149,999',\n",
    "             '150,000+',\n",
    "             'No response'],\n",
    "            ordered=True\n",
    "    ), 'education': CategoricalDtype(\n",
    "            ['Less than high school degree',\n",
    "             'High school degree',\n",
    "             'Some college or Associate degree',\n",
    "             'Bachelor degree',\n",
    "             'Graduate degree',\n",
    "             'No response'],\n",
    "            ordered=True\n",
    "    ), 'episode_rank': CategoricalDtype(\n",
    "            [str(n) for n in range(1, 7)] + ['No response'], ordered=True\n",
    "    )\n",
    "}"
   ]
  },
  {
   "cell_type": "markdown",
   "id": "1001f5ae",
   "metadata": {},
   "source": [
    "## Functions"
   ]
  },
  {
   "cell_type": "code",
   "execution_count": 6,
   "id": "34717c41",
   "metadata": {},
   "outputs": [],
   "source": [
    "def col_midx(columns: dict[list]) -> pd.MultiIndex:\n",
    "    cs = np.empty(shape=(2, 37), dtype='object')\n",
    "    cs[0, :] = (['seen_any', 'fan']\n",
    "                + ['episode_seen'] * 6\n",
    "                + ['episode_rank'] * 6\n",
    "                + ['char_view'] * 14\n",
    "                + ['who_shot_first', 'familiar_eu']\n",
    "                + ['fan'] * 2\n",
    "                + ['demographic'] * 5)\n",
    "    cs[1, :] = (['has_seen']\n",
    "                + ['star_wars']\n",
    "                + columns['episodes'] * 2\n",
    "                + columns['characters']\n",
    "                + ['shot_first']\n",
    "                + ['is_familiar']\n",
    "                + ['expanded_universe']\n",
    "                + ['star_trek']\n",
    "                + ['gender']\n",
    "                + ['age']\n",
    "                + ['household_income']\n",
    "                + ['education']\n",
    "                + ['location'])\n",
    "    return pd.MultiIndex.from_arrays(cs)"
   ]
  },
  {
   "cell_type": "code",
   "execution_count": 7,
   "id": "bb31c0b8-236b-4e39-9b29-41d2ad7a911d",
   "metadata": {},
   "outputs": [],
   "source": [
    "def categorise_all(s: pd.Series, ctypes: dict = {}) -> pd.Series:\n",
    "    if s.name in ctypes:\n",
    "        return s.astype(ctypes[s.name])\n",
    "    return s.astype(CategoricalDtype(np.unique(s), ordered=False))"
   ]
  },
  {
   "cell_type": "code",
   "execution_count": 8,
   "id": "a8353ca5-bd1a-4072-9f24-6ad07f8f7e4f",
   "metadata": {},
   "outputs": [],
   "source": [
    "def categorise(s: pd.Series, ctypes: dict = {}) -> pd.Series:\n",
    "    if s.name in ctypes:\n",
    "        return s.astype(ctypes[s.name])\n",
    "    return s"
   ]
  },
  {
   "cell_type": "code",
   "execution_count": 9,
   "id": "5c19e107-93da-4132-95a9-da12f5da3080",
   "metadata": {},
   "outputs": [],
   "source": [
    "def pct(s, dp: int = 1) -> pd.Series:\n",
    "    return s.div(s.sum()).mul(100).round(dp)"
   ]
  },
  {
   "cell_type": "code",
   "execution_count": 10,
   "id": "247c0652-0392-4e52-b541-27e4430b1015",
   "metadata": {},
   "outputs": [],
   "source": [
    "def group_pct(s, group: str = '', dp: int = 1) -> pd.Series:\n",
    "    return s.div(s.groupby(level=group).sum()).mul(100).round(dp)"
   ]
  },
  {
   "cell_type": "markdown",
   "id": "e7df29be-c708-41ad-aeb7-6547930be901",
   "metadata": {
    "tags": []
   },
   "source": [
    "## Main"
   ]
  },
  {
   "cell_type": "markdown",
   "id": "b573e37d-903d-4216-9c95-d1cfe610dffc",
   "metadata": {
    "tags": []
   },
   "source": [
    "### Load the data"
   ]
  },
  {
   "cell_type": "code",
   "execution_count": 11,
   "id": "3a90952a-2e86-45ea-92d7-aa4c3d117edb",
   "metadata": {},
   "outputs": [],
   "source": [
    "starwars = pd.read_csv(STARWARS_URL, encoding='cp1252', header=[0, 1])"
   ]
  },
  {
   "cell_type": "markdown",
   "id": "7be51fcb-3d06-407f-8f43-69fe22893c67",
   "metadata": {
    "tags": []
   },
   "source": [
    "### Process the data"
   ]
  },
  {
   "cell_type": "code",
   "execution_count": 12,
   "id": "98552476",
   "metadata": {},
   "outputs": [],
   "source": [
    "#| code-summary: 'take star wars > set_index > rename_index > set_columns'\n",
    "v_starwars = (\n",
    "    starwars\n",
    "    .set_index(starwars.columns[0])\n",
    "    .rename_axis('id', axis=0)\n",
    "    .set_axis(col_midx(COLUMNS), axis=1)\n",
    ")"
   ]
  },
  {
   "cell_type": "code",
   "execution_count": 13,
   "id": "81d8a8a8-98e7-4319-8eed-19998cfe5603",
   "metadata": {},
   "outputs": [
    {
     "name": "stdout",
     "output_type": "stream",
     "text": [
      "<class 'pandas.core.frame.DataFrame'>\n",
      "Int64Index: 1186 entries, 3292879998 to 3288372923\n",
      "Data columns (total 5 columns):\n",
      " #   Column            Non-Null Count  Dtype   \n",
      "---  ------            --------------  -----   \n",
      " 0   gender            1186 non-null   category\n",
      " 1   age               1186 non-null   category\n",
      " 2   household_income  1186 non-null   category\n",
      " 3   education         1186 non-null   category\n",
      " 4   location          1186 non-null   category\n",
      "dtypes: category(5)\n",
      "memory usage: 16.2 KB\n"
     ]
    }
   ],
   "source": [
    "#| code-summary ''\n",
    "demographic = (\n",
    "    v_starwars\n",
    "    .get('demographic')\n",
    "    .fillna('No response')\n",
    "    .applymap(lambda x: x.replace('$', ''))\n",
    "    .transform(categorise_all, ctypes=CATEGORIES)\n",
    ")\n",
    "demographic.info()"
   ]
  },
  {
   "cell_type": "code",
   "execution_count": 14,
   "id": "f7cc51b6",
   "metadata": {},
   "outputs": [
    {
     "name": "stdout",
     "output_type": "stream",
     "text": [
      "<class 'pandas.core.frame.DataFrame'>\n",
      "Int64Index: 1186 entries, 3292879998 to 3288372923\n",
      "Data columns (total 6 columns):\n",
      " #   Column                   Non-Null Count  Dtype   \n",
      "---  ------                   --------------  -----   \n",
      " 0   a_phantom_menace         1186 non-null   category\n",
      " 1   attack_of_the_clones     1186 non-null   category\n",
      " 2   revenge_of_the_sith      1186 non-null   category\n",
      " 3   a_new_hope               1186 non-null   category\n",
      " 4   the_empire_strikes_back  1186 non-null   category\n",
      " 5   return_of_the_jedi       1186 non-null   category\n",
      "dtypes: category(6)\n",
      "memory usage: 18.3 KB\n"
     ]
    }
   ],
   "source": [
    "#| code-summary: 'Clean the episode_rank table'\n",
    "episode_rank = (\n",
    "    v_starwars\n",
    "    .get('episode_rank')\n",
    "    .fillna('No response')\n",
    "    .applymap(lambda x: str(int(x)) if x != 'No response' else x)\n",
    "    .transform(lambda s: s.astype(CATEGORIES['episode_rank']))\n",
    ")\n",
    "episode_rank.info()"
   ]
  },
  {
   "cell_type": "markdown",
   "id": "362c9462",
   "metadata": {},
   "source": [
    "### Visualise the data"
   ]
  },
  {
   "cell_type": "code",
   "execution_count": 15,
   "id": "4c36e82f",
   "metadata": {},
   "outputs": [
    {
     "data": {
      "image/png": "[encoded data removed]",
      "text/plain": [
       "<Figure size 360x360 with 1 Axes>"
      ]
     },
     "metadata": {
      "needs_background": "light"
     },
     "output_type": "display_data"
    }
   ],
   "source": [
    "#| code-summary: 'What is the best Star Wars film?'\n",
    "gsource = (\n",
    "    episode_rank\n",
    "    .melt(var_name='episode', value_name='rank')\n",
    "    .query(\"rank == '1'\")\n",
    "    .groupby('episode').size()\n",
    "    .transform(pct)\n",
    "    .rename('percent')\n",
    "    .to_frame().reset_index()\n",
    "    .transform(categorise, ctypes=CATEGORIES)\n",
    ")\n",
    "g = sns.catplot(data=gsource, x='percent', y='episode', kind='bar')"
   ]
  },
  {
   "cell_type": "code",
   "execution_count": 16,
   "id": "83bc6e5c-0990-423a-85ab-69bb0cd204c0",
   "metadata": {},
   "outputs": [
    {
     "data": {
      "text/plain": [
       "episode\n",
       "a_new_hope                 19.3\n",
       "a_phantom_menace           20.1\n",
       "attack_of_the_clones       12.2\n",
       "return_of_the_jedi         17.4\n",
       "revenge_of_the_sith        26.0\n",
       "the_empire_strikes_back     4.9\n",
       "dtype: float64"
      ]
     },
     "execution_count": 16,
     "metadata": {},
     "output_type": "execute_result"
    }
   ],
   "source": [
    "#| code-summary: 'What is the worst Star Wars film?'\n",
    "gsource = (\n",
    "    episode_rank\n",
    "    .melt(var_name='episode', value_name='rank')\n",
    "    .query(\"rank == '6'\")\n",
    "    .groupby('episode')\n",
    "    .size()\n",
    "    .transform(pct)\n",
    "    #.rename('percent')\n",
    "    #.to_frame().reset_index()\n",
    "    #.transform(categorise, ctypes=CATEGORIES)\n",
    ")\n",
    "gsource\n",
    "#g = sns.catplot(data=gsource, x='percent', y='episode', kind='bar')"
   ]
  },
  {
   "cell_type": "code",
   "execution_count": 50,
   "id": "eaf362fc-36f2-4780-a163-e8eb91791c62",
   "metadata": {},
   "outputs": [
    {
     "data": {
      "image/png": "[encoded data removed]",
      "text/plain": [
       "<Figure size 724.75x500 with 1 Axes>"
      ]
     },
     "metadata": {},
     "output_type": "display_data"
    }
   ],
   "source": [
    "#| code-summary: 'What is the best Star Wars film by age?'\n",
    "gsource = (\n",
    "    episode_rank\n",
    "    .merge(demographic, left_index=True, right_index=True)\n",
    "    .melt(\n",
    "        id_vars='age',\n",
    "        var_name='episode',\n",
    "        value_name='rank',\n",
    "        ignore_index=False\n",
    "    ).query(\"rank == '1'\")\n",
    "    .groupby(['age', 'episode']).size()\n",
    "    .transform(group_pct, group='age')\n",
    "    .rename('percent')\n",
    "    .to_frame().reset_index()\n",
    "    .transform(categorise, ctypes=CATEGORIES)\n",
    ")\n",
    "gsource\n",
    "g = sns.catplot(data=gsource, x='percent', y='age', hue='episode', kind='bar')"
   ]
  },
  {
   "cell_type": "code",
   "execution_count": 44,
   "id": "8d019f13-a77e-434b-8c10-f9a8ca6dde05",
   "metadata": {},
   "outputs": [
    {
     "data": {
      "image/png": "[encoded data removed]",
      "text/plain": [
       "<Figure size 724.75x500 with 1 Axes>"
      ]
     },
     "metadata": {},
     "output_type": "display_data"
    }
   ],
   "source": [
    "gsource = (\n",
    "    episode_rank\n",
    "    .merge(demographic, left_index=True, right_index=True)\n",
    "    .melt(\n",
    "        id_vars='age',\n",
    "        var_name='episode',\n",
    "        value_name='rank',\n",
    "        ignore_index=False\n",
    "    ).query(\"rank == '6'\")\n",
    "    .groupby(['age', 'episode']).size()\n",
    "    .transform(group_pct, group='age')\n",
    "    .rename('percent')\n",
    "    .to_frame().reset_index()\n",
    "    .transform(categorise, ctypes=CATEGORIES)\n",
    ")\n",
    "gsource\n",
    "g = sns.catplot(data=gsource, x='percent', y='age', hue='episode', kind='bar')"
   ]
  },
  {
   "cell_type": "code",
   "execution_count": null,
   "id": "cab9470c",
   "metadata": {},
   "outputs": [],
   "source": []
  },
  {
   "cell_type": "code",
   "execution_count": null,
   "id": "4783c91b",
   "metadata": {},
   "outputs": [],
   "source": []
  }
 ],
 "metadata": {
  "kernelspec": {
   "display_name": "tidytuesday",
   "language": "python",
   "name": "tidytuesday"
  },
  "language_info": {
   "codemirror_mode": {
    "name": "ipython",
    "version": 3
   },
   "file_extension": ".py",
   "mimetype": "text/x-python",
   "name": "python",
   "nbconvert_exporter": "python",
   "pygments_lexer": "ipython3",
   "version": "3.10.4"
  }
 },
 "nbformat": 4,
 "nbformat_minor": 5
}
