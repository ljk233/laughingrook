{
 "cells": [
  {
   "cell_type": "raw",
   "id": "518c8408-a3c3-40c9-933b-b448dd930f89",
   "metadata": {},
   "source": [
    "---\n",
    "title: Advent of Code 2015\n",
    "date: 2022-11-12\n",
    "categories: [JuliaLang, AdventOfCode]\n",
    "draft: false\n",
    "format:\n",
    "  html:\n",
    "    code-summary: Load the input\n",
    "---"
   ]
  },
  {
   "cell_type": "markdown",
   "id": "8961bc39-5efc-4510-80e1-7850332bd6a6",
   "metadata": {},
   "source": [
    "## Summary\n",
    "\n",
    "These are my solutions to the Advent of Code 2015 in Julia.\n",
    "\n",
    "## History\n",
    "\n",
    "- **(2022-11-12)**\n",
    "Initialised the notebook"
   ]
  },
  {
   "cell_type": "markdown",
   "id": "58467318",
   "metadata": {},
   "source": [
    "## Setup Evironment"
   ]
  },
  {
   "cell_type": "code",
   "execution_count": 1,
   "id": "1d458f3b",
   "metadata": {},
   "outputs": [
    {
     "name": "stderr",
     "output_type": "stream",
     "text": [
      "\u001b[32m\u001b[1m  Activating\u001b[22m\u001b[39m project at `D:\\GitHub\\laughingrook\\venvs\\aoc_jl`\n"
     ]
    }
   ],
   "source": [
    "using Pkg; Pkg.activate(\"..\\\\venvs\\\\aoc_jl\");"
   ]
  },
  {
   "cell_type": "markdown",
   "id": "a7c37b2b-d7d9-40e1-8131-9ad83b731be3",
   "metadata": {},
   "source": [
    "## Dependencies"
   ]
  },
  {
   "cell_type": "code",
   "execution_count": null,
   "id": "83e337e9-0f90-4fba-8c72-74b24bcf8f34",
   "metadata": {},
   "outputs": [],
   "source": []
  },
  {
   "cell_type": "markdown",
   "id": "26097079-0030-496b-9cf8-c18d70f57462",
   "metadata": {},
   "source": [
    "## Constants"
   ]
  },
  {
   "cell_type": "code",
   "execution_count": 2,
   "id": "6e6ccd90-a078-4ee3-af89-672249ddedb5",
   "metadata": {},
   "outputs": [],
   "source": [
    "ADVENT = \"https://raw.githubusercontent.com/ljk233/laughingrook-datasets/main/aoc/\";"
   ]
  },
  {
   "cell_type": "markdown",
   "id": "a75b5bb1-686e-4416-aaba-3193ea73f210",
   "metadata": {
    "tags": []
   },
   "source": [
    "## Functions"
   ]
  },
  {
   "cell_type": "code",
   "execution_count": 3,
   "id": "836ae1c9",
   "metadata": {},
   "outputs": [
    {
     "data": {
      "text/plain": [
       "head (generic function with 1 method)"
      ]
     },
     "execution_count": 3,
     "metadata": {},
     "output_type": "execute_result"
    }
   ],
   "source": [
    "head(a) = a[1:3]"
   ]
  },
  {
   "cell_type": "markdown",
   "id": "4b14146a-e50d-43da-81db-3a47232a3419",
   "metadata": {},
   "source": [
    "## Puzzles"
   ]
  },
  {
   "cell_type": "markdown",
   "id": "e1d7458b-6962-4f87-842c-5a7e6f5c8f08",
   "metadata": {
    "jp-MarkdownHeadingCollapsed": true,
    "tags": []
   },
   "source": [
    "### Day 1\n",
    "\n",
    "[\\-\\-\\- Not Quite Lisp \\-\\-\\-](https://adventofcode.com/2015/day/1)"
   ]
  },
  {
   "cell_type": "code",
   "execution_count": 4,
   "id": "fc7ba4d2-8ce0-46a2-b37c-6f2908082567",
   "metadata": {},
   "outputs": [],
   "source": [
    "#| code-fold: true\n",
    "tinput1 = String[\"(())\", \"()()\", \"(((\", \"(()(()(\", \"))(((((\",\n",
    "                 \"())\", \"))(\", \")))\", \")())())\"];\n",
    "input1 = read(open(download(ADVENT * \"2015/2015_1.txt\")), String);"
   ]
  },
  {
   "cell_type": "markdown",
   "id": "1f852209-faa6-4df6-bd3f-9a053f56f28b",
   "metadata": {},
   "source": [
    "Prepare the input."
   ]
  },
  {
   "cell_type": "code",
   "execution_count": 5,
   "id": "6510873b-3ee0-497f-871e-081419b10ab8",
   "metadata": {},
   "outputs": [
    {
     "data": {
      "text/plain": [
       "3-element Vector{Int64}:\n",
       "  1\n",
       " -1\n",
       "  1"
      ]
     },
     "execution_count": 5,
     "metadata": {},
     "output_type": "execute_result"
    }
   ],
   "source": [
    "floor_direction(d) = d == '(' ? 1 : -1\n",
    "floor_directions = [floor_direction(d) for d ∈ collect(input1)]\n",
    "head(floor_directions)"
   ]
  },
  {
   "cell_type": "markdown",
   "id": "8be4f1c7-7be2-49d7-a179-f4b6ca5064b1",
   "metadata": {
    "tags": []
   },
   "source": [
    "#### Part 1\n",
    "\n",
    "*To what floor do the instructions take Santa?*"
   ]
  },
  {
   "cell_type": "markdown",
   "id": "c599ef4b-09e0-46a9-b97c-4c278f83ac22",
   "metadata": {},
   "source": [
    "Solution ="
   ]
  },
  {
   "cell_type": "code",
   "execution_count": 6,
   "id": "84c9f3d1-359c-4693-a3e1-bf4626da2a8c",
   "metadata": {},
   "outputs": [
    {
     "data": {
      "text/plain": [
       "138"
      ]
     },
     "execution_count": 6,
     "metadata": {},
     "output_type": "execute_result"
    }
   ],
   "source": [
    "sum(floor_directions)"
   ]
  },
  {
   "cell_type": "markdown",
   "id": "822fa3ee-3d11-4926-9c8f-6813cafc8e2e",
   "metadata": {
    "tags": []
   },
   "source": [
    "#### Part 2"
   ]
  },
  {
   "cell_type": "markdown",
   "id": "f5718b66-4f6c-40e6-b4cb-87d648ee2a65",
   "metadata": {},
   "source": [
    "*What is the position of the character that causes Santa to first enter the basement?*"
   ]
  },
  {
   "cell_type": "code",
   "execution_count": 7,
   "id": "a077d29b-992e-4fad-8add-84cdcd0c2001",
   "metadata": {},
   "outputs": [
    {
     "data": {
      "text/plain": [
       "search_basement (generic function with 1 method)"
      ]
     },
     "execution_count": 7,
     "metadata": {},
     "output_type": "execute_result"
    }
   ],
   "source": [
    "function search_basement(fd, s, i)\n",
    "    if i > length(fd)\n",
    "        return Inf\n",
    "    elseif s + fd[i] == -1\n",
    "        return i\n",
    "    else\n",
    "        return search_basement(fd, s + fd[i], i+1)\n",
    "    end\n",
    "end"
   ]
  },
  {
   "cell_type": "markdown",
   "id": "3d58f9c1-5a84-4e5e-84ca-00519bcdebfc",
   "metadata": {},
   "source": [
    "Solution ="
   ]
  },
  {
   "cell_type": "code",
   "execution_count": 8,
   "id": "104ee6b7",
   "metadata": {},
   "outputs": [
    {
     "data": {
      "text/plain": [
       "1771"
      ]
     },
     "execution_count": 8,
     "metadata": {},
     "output_type": "execute_result"
    }
   ],
   "source": [
    "search_basement(floor_directions, 0, 1)"
   ]
  },
  {
   "cell_type": "markdown",
   "id": "cc740a14-ddac-438a-be6c-62c23569dee3",
   "metadata": {
    "tags": []
   },
   "source": [
    "### Day 2\n",
    "\n",
    "[\\-\\-\\- I Was Told There Would Be No Math(s) \\-\\-\\-](https://adventofcode.com/2015/day/2)"
   ]
  },
  {
   "cell_type": "code",
   "execution_count": 9,
   "id": "76f3bfd2-ba0c-482c-9a71-3a15f80bbb53",
   "metadata": {},
   "outputs": [],
   "source": [
    "#| code-fold: true\n",
    "tinput2 = String[\"2x3x4\", \"1x1x10\"];\n",
    "input2 = readlines(open(download(ADVENT * \"2015/2015_2.txt\")));"
   ]
  },
  {
   "cell_type": "markdown",
   "id": "8aa11cdf-299c-4478-bb1e-aba12f1060d9",
   "metadata": {},
   "source": [
    "Prepare the input."
   ]
  },
  {
   "cell_type": "code",
   "execution_count": 10,
   "id": "0d4255aa-058a-45bb-947c-cfd09ef3d199",
   "metadata": {},
   "outputs": [
    {
     "data": {
      "text/plain": [
       "3-element Vector{Vector{Int64}}:\n",
       " [4, 23, 21]\n",
       " [22, 29, 19]\n",
       " [11, 4, 11]"
      ]
     },
     "execution_count": 10,
     "metadata": {},
     "output_type": "execute_result"
    }
   ],
   "source": [
    "ppdims = map(input2) do s\n",
    "    parse.(Int, split(s, 'x'))\n",
    "end\n",
    "head(ppdims)"
   ]
  },
  {
   "cell_type": "markdown",
   "id": "f7f0355a-6a5f-4e1e-822a-429057e449d2",
   "metadata": {
    "tags": []
   },
   "source": [
    "#### Part 1\n",
    "\n",
    "*All numbers in the elves' list are in feet. How many total square feet of wrapping paper should they order?*"
   ]
  },
  {
   "cell_type": "code",
   "execution_count": 11,
   "id": "0434130f-e330-4ba8-879a-a240f4bb03c6",
   "metadata": {
    "tags": []
   },
   "outputs": [
    {
     "data": {
      "text/plain": [
       "paper_needed (generic function with 1 method)"
      ]
     },
     "execution_count": 11,
     "metadata": {},
     "output_type": "execute_result"
    }
   ],
   "source": [
    "function paper_needed(dims)\n",
    "    le, w, h = dims\n",
    "    planes = [le * w, w * h, h * le]\n",
    "    return minimum(planes) + 2 * sum(planes)\n",
    "end"
   ]
  },
  {
   "cell_type": "markdown",
   "id": "1425f597-ec32-4f51-9b94-061506a6f468",
   "metadata": {},
   "source": [
    "Solution ="
   ]
  },
  {
   "cell_type": "code",
   "execution_count": 12,
   "id": "fd1afc61-1ba3-4bb5-abde-81d34e95cc8f",
   "metadata": {},
   "outputs": [
    {
     "data": {
      "text/plain": [
       "1598415"
      ]
     },
     "execution_count": 12,
     "metadata": {},
     "output_type": "execute_result"
    }
   ],
   "source": [
    "sum(paper_needed(pdims) for pdims in ppdims)"
   ]
  },
  {
   "cell_type": "markdown",
   "id": "32276c5a-8ba3-4659-a07e-3a9bc82c591c",
   "metadata": {
    "tags": []
   },
   "source": [
    "#### Part 2"
   ]
  },
  {
   "cell_type": "markdown",
   "id": "257441e9-dcbf-44cd-9eb3-8ed9fbbeaeae",
   "metadata": {},
   "source": [
    "*How many total feet of ribbon should they order?*"
   ]
  },
  {
   "cell_type": "code",
   "execution_count": 13,
   "id": "c24381da-81ef-433f-a5fc-7be2d2f45489",
   "metadata": {},
   "outputs": [
    {
     "data": {
      "text/plain": [
       "ribbon_needed (generic function with 1 method)"
      ]
     },
     "execution_count": 13,
     "metadata": {},
     "output_type": "execute_result"
    }
   ],
   "source": [
    "function ribbon_needed(dims)\n",
    "    bow = prod(dims)\n",
    "    ribbon = 2 * sum(sort(dims)[1:2])\n",
    "    return bow + ribbon\n",
    "end"
   ]
  },
  {
   "cell_type": "markdown",
   "id": "c7c453b4-743d-45c6-86ee-d2e19fb5f85d",
   "metadata": {},
   "source": [
    "Solution ="
   ]
  },
  {
   "cell_type": "code",
   "execution_count": 14,
   "id": "8b6b2ccf-5c92-4be9-8fa6-fc11ecda2e10",
   "metadata": {},
   "outputs": [
    {
     "data": {
      "text/plain": [
       "3812909"
      ]
     },
     "execution_count": 14,
     "metadata": {},
     "output_type": "execute_result"
    }
   ],
   "source": [
    "sum(ribbon_needed(pdims) for pdims in ppdims)"
   ]
  },
  {
   "cell_type": "markdown",
   "id": "b235af0b-c08b-49fa-94d9-f7f1bac3ae51",
   "metadata": {
    "tags": []
   },
   "source": [
    "### Day 3\n",
    "\n",
    "[\\-\\-\\- Perfectly Spherical Houses in a Vacuum \\-\\-\\-](https://adventofcode.com/2015/day/3)"
   ]
  },
  {
   "cell_type": "code",
   "execution_count": 96,
   "id": "08f11a2d-43eb-4f67-bb18-74f976ae7a7c",
   "metadata": {},
   "outputs": [],
   "source": [
    "#| code-fold: true\n",
    "tinput3 = \"^v^v^v^v^v\";\n",
    "input3 = read(open(download(ADVENT * \"2015/2015_3.txt\")), String);"
   ]
  },
  {
   "cell_type": "markdown",
   "id": "ce42d2e5-7a2a-4185-aa3e-2fc023eea8c2",
   "metadata": {},
   "source": [
    "Prepare the input."
   ]
  },
  {
   "cell_type": "code",
   "execution_count": 99,
   "id": "2633eba9-cc30-4d41-aa8f-ee8403c65ac7",
   "metadata": {},
   "outputs": [
    {
     "data": {
      "text/plain": [
       "3-element Vector{Vector{Int64}}:\n",
       " [0, 1]\n",
       " [0, 1]\n",
       " [-1, 0]"
      ]
     },
     "execution_count": 99,
     "metadata": {},
     "output_type": "execute_result"
    }
   ],
   "source": [
    "delivery_deltas = map(collect(input3)) do d\n",
    "    if d == '>'\n",
    "        delta = [1, 0]\n",
    "    elseif d == '<'\n",
    "        delta = [-1, 0] \n",
    "    elseif d == '^'\n",
    "        delta = [0, 1] \n",
    "    else\n",
    "        delta = [0, -1]\n",
    "    end\n",
    "    delta\n",
    "end\n",
    "head(delivery_deltas)"
   ]
  },
  {
   "cell_type": "markdown",
   "id": "0abf5c80-53d4-4c56-b06f-27a52bcfe6b7",
   "metadata": {
    "tags": []
   },
   "source": [
    "#### Part 1\n",
    "\n",
    "*However, the elf back at the north pole has had a little too much eggnog, and so his directions are a little off, and Santa ends up visiting some houses more than once.\n",
    "How many houses receive at least one present?*"
   ]
  },
  {
   "cell_type": "code",
   "execution_count": 108,
   "id": "1ce5e030-c16e-4f28-8c44-45acbbca7493",
   "metadata": {
    "tags": []
   },
   "outputs": [
    {
     "data": {
      "text/plain": [
       "deliver_presents (generic function with 1 method)"
      ]
     },
     "execution_count": 108,
     "metadata": {},
     "output_type": "execute_result"
    }
   ],
   "source": [
    "function deliver_presents(deltas)\n",
    "    houses, pos = Set(), [0, 0]\n",
    "    push!(houses, pos)\n",
    "    for delta in deltas\n",
    "        pos += delta\n",
    "        push!(houses, pos)\n",
    "    end\n",
    "    return houses\n",
    "end"
   ]
  },
  {
   "cell_type": "markdown",
   "id": "a5ac7fb9-15e1-48c0-ac22-89c1ff3bcd99",
   "metadata": {},
   "source": [
    "Solution ="
   ]
  },
  {
   "cell_type": "code",
   "execution_count": 109,
   "id": "42b2910a-45a8-4941-8ff2-a160f354f4a1",
   "metadata": {},
   "outputs": [
    {
     "data": {
      "text/plain": [
       "2565"
      ]
     },
     "execution_count": 109,
     "metadata": {},
     "output_type": "execute_result"
    }
   ],
   "source": [
    "length(deliver_presents(delivery_deltas))"
   ]
  },
  {
   "cell_type": "markdown",
   "id": "7fe553d4-27fc-4847-ab64-800a3c109c24",
   "metadata": {
    "tags": []
   },
   "source": [
    "#### Part 2"
   ]
  },
  {
   "cell_type": "markdown",
   "id": "ba11520a-b792-4cb3-9b2c-6f82af0453cc",
   "metadata": {},
   "source": [
    "*How many houses if you include robo-santa?*"
   ]
  },
  {
   "cell_type": "markdown",
   "id": "6a676e02-8dca-430b-9cc3-e2a68615fd24",
   "metadata": {},
   "source": [
    "Solution ="
   ]
  },
  {
   "cell_type": "code",
   "execution_count": 112,
   "id": "5664b0c7-8f3c-4b43-947a-4535902e16a4",
   "metadata": {},
   "outputs": [
    {
     "data": {
      "text/plain": [
       "2639"
      ]
     },
     "execution_count": 112,
     "metadata": {},
     "output_type": "execute_result"
    }
   ],
   "source": [
    "santa_deliveries = deliver_presents(delivery_deltas[1:2:end])\n",
    "rob_santa_deliveries = deliver_presents(delivery_deltas[2:2:end])\n",
    "length(union(santa_deliveries, rob_santa_deliveries))"
   ]
  }
 ],
 "metadata": {
  "kernelspec": {
   "display_name": "Julia 1.8.2",
   "language": "julia",
   "name": "julia-1.8"
  },
  "language_info": {
   "file_extension": ".jl",
   "mimetype": "application/julia",
   "name": "julia",
   "version": "1.8.2"
  },
  "vscode": {
   "interpreter": {
    "hash": "ee0634d781153be95ebf288c0c255a99ed16ebbc63cb15b4625f2c710e407a31"
   }
  }
 },
 "nbformat": 4,
 "nbformat_minor": 5
}
