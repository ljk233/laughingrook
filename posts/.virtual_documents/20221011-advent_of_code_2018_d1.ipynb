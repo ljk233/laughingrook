import itertools as it
import laughingrook as lr


data = lr.dataio.get_advent_input(2018, 1)
freq_changes = [int(x) for x in data]
freq_changes[:5]


print(f'Part 1 = {sum(freq_changes)}')


def find_first_repeat(freqs: list) -> int:
    f, visited = 0, set([0])
    for df in it.cycle(freqs):
        f += df
        if f in visited:
            return f
        visited.add(f)


print(f'Part 2 = {find_first_repeat(freq_changes)}')
