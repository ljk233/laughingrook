{
 "cells": [
  {
   "cell_type": "raw",
   "metadata": {},
   "source": [
    "---\n",
    "title: Cohort and Case-Control Studies\n",
    "date: 2022-08-15\n",
    "categories: [M249, Statistics]\n",
    "draft: false\n",
    "---"
   ]
  },
  {
   "cell_type": "markdown",
   "metadata": {},
   "source": [
    "## Summary notes\n",
    "\n",
    "Perform an epidemiological study on the results of a cohort study analysing the possible association between compulsory redundancies and incidents of serious self-inflicted injury (SSI) (Keefe, V., et al (2002)).\n",
    "The exposure is being made compulsorily redundant, and the disease is incidents of serious self-inflicted injury.\n",
    "\n",
    "The study results were as follows.\n",
    "\n",
    "|                            | SSI (+) | no SSI (-) |\n",
    "| -------------------------- | ------: | ---------: |\n",
    "| **made redundant (+)**     | 14      | 1931       |\n",
    "| **not made redundant (-)** | 4       | 1763       |\n",
    "\n",
    "The results were initialised as a NumPy `array`, and the analysis was undertaken using (mainly) StatsModels' `Table2x2`[^1] class and SciPy.\n",
    "Measures of association[^2] were calculated, including confidence interval estimates.\n",
    "A chi-squared test of no association was used to test the strength of evidence of an association.\n",
    "We rounded-off the analysis by performing Fisher's exact test.[^3] [^4]\n",
    "\n",
    "Note, some of the results were outputted as Pandas `Series`, rather than using the default return type.\n",
    "This was done done to provide a more standardised results output.\n",
    "\n",
    "These topics are covered by M249 Book 1, Part 1."
   ]
  },
  {
   "cell_type": "markdown",
   "metadata": {},
   "source": [
    "## Dependencies"
   ]
  },
  {
   "cell_type": "code",
   "execution_count": 13,
   "metadata": {},
   "outputs": [
    {
     "name": "stdout",
     "output_type": "stream",
     "text": [
      "The watermark extension is already loaded. To reload it, use:\n",
      "  %reload_ext watermark\n"
     ]
    }
   ],
   "source": [
    "import numpy as np\n",
    "import pandas as pd\n",
    "from scipy import stats as st\n",
    "from statsmodels import api as sm\n",
    "%load_ext watermark"
   ]
  },
  {
   "cell_type": "markdown",
   "metadata": {},
   "source": [
    "## Constants\n",
    "\n",
    "These are the results from the study."
   ]
  },
  {
   "cell_type": "code",
   "execution_count": 14,
   "metadata": {},
   "outputs": [],
   "source": [
    "OBS = np.array([[14, 1931], [4, 1763]])"
   ]
  },
  {
   "cell_type": "markdown",
   "metadata": {},
   "source": [
    "## Main"
   ]
  },
  {
   "cell_type": "markdown",
   "metadata": {},
   "source": [
    "### Initialise the contingency table"
   ]
  },
  {
   "cell_type": "code",
   "execution_count": 15,
   "metadata": {},
   "outputs": [
    {
     "name": "stdout",
     "output_type": "stream",
     "text": [
      "A 2x2 contingency table with counts:\n",
      "[[  14. 1931.]\n",
      " [   4. 1763.]]\n"
     ]
    }
   ],
   "source": [
    "ctable = sm.stats.Table2x2(OBS)\n",
    "print(ctable)"
   ]
  },
  {
   "cell_type": "markdown",
   "metadata": {},
   "source": [
    "### Measures of association"
   ]
  },
  {
   "cell_type": "markdown",
   "metadata": {},
   "source": [
    "Return point and interval estimates of the odds ratio."
   ]
  },
  {
   "cell_type": "code",
   "execution_count": 16,
   "metadata": {},
   "outputs": [
    {
     "data": {
      "text/plain": [
       "point    3.195495\n",
       "lcb      1.049877\n",
       "ucb      9.726081\n",
       "Name: odds ratio, dtype: float64"
      ]
     },
     "execution_count": 16,
     "metadata": {},
     "output_type": "execute_result"
    }
   ],
   "source": [
    "pd.Series(\n",
    "    data=[ctable.oddsratio,\n",
    "          ctable.oddsratio_confint()[0],\n",
    "          ctable.oddsratio_confint()[1]],\n",
    "    index=['point', 'lcb', 'ucb'],\n",
    "    name='odds ratio'\n",
    ")"
   ]
  },
  {
   "cell_type": "markdown",
   "metadata": {},
   "source": [
    "Return point and interval estimates for the relative risk."
   ]
  },
  {
   "cell_type": "code",
   "execution_count": 17,
   "metadata": {},
   "outputs": [
    {
     "data": {
      "text/plain": [
       "point    3.179692\n",
       "lcb      1.048602\n",
       "ucb      9.641829\n",
       "Name: relative risk, dtype: float64"
      ]
     },
     "execution_count": 17,
     "metadata": {},
     "output_type": "execute_result"
    }
   ],
   "source": [
    "pd.Series(\n",
    "    data=[ctable.riskratio,\n",
    "          ctable.riskratio_confint()[0],\n",
    "          ctable.riskratio_confint()[1]],\n",
    "    index=['point', 'lcb', 'ucb'],\n",
    "    name='relative risk'\n",
    ")"
   ]
  },
  {
   "cell_type": "markdown",
   "metadata": {},
   "source": [
    "### Chi-squared test for no association"
   ]
  },
  {
   "cell_type": "markdown",
   "metadata": {},
   "source": [
    "Return the expected frequencies under the null hypothesis of no association."
   ]
  },
  {
   "cell_type": "code",
   "execution_count": 18,
   "metadata": {},
   "outputs": [
    {
     "data": {
      "text/plain": [
       "array([[   9.43157328, 1935.56842672],\n",
       "       [   8.56842672, 1758.43157328]])"
      ]
     },
     "execution_count": 18,
     "metadata": {},
     "output_type": "execute_result"
    }
   ],
   "source": [
    "ctable.fittedvalues"
   ]
  },
  {
   "cell_type": "markdown",
   "metadata": {},
   "source": [
    "Return the differences between the observed and expected frequencies."
   ]
  },
  {
   "cell_type": "code",
   "execution_count": 19,
   "metadata": {},
   "outputs": [
    {
     "data": {
      "text/plain": [
       "array([[ 4.56842672, -4.56842672],\n",
       "       [-4.56842672,  4.56842672]])"
      ]
     },
     "execution_count": 19,
     "metadata": {},
     "output_type": "execute_result"
    }
   ],
   "source": [
    "OBS - ctable.fittedvalues"
   ]
  },
  {
   "cell_type": "markdown",
   "metadata": {},
   "source": [
    "Return the contributions to the chi-squared test statistic."
   ]
  },
  {
   "cell_type": "code",
   "execution_count": 20,
   "metadata": {},
   "outputs": [
    {
     "data": {
      "text/plain": [
       "array([[2.21283577, 0.01078263],\n",
       "       [2.43574736, 0.01186883]])"
      ]
     },
     "execution_count": 20,
     "metadata": {},
     "output_type": "execute_result"
    }
   ],
   "source": [
    "ctable.chi2_contribs"
   ]
  },
  {
   "cell_type": "markdown",
   "metadata": {},
   "source": [
    "Return the results of the chi-squared test.\n",
    "\n",
    "We pass the argument `dtype=object`, so the `Series` can handle both `float` and `int` data types."
   ]
  },
  {
   "cell_type": "code",
   "execution_count": 21,
   "metadata": {},
   "outputs": [
    {
     "data": {
      "text/plain": [
       "statistc    4.671235\n",
       "pvalue      0.030672\n",
       "df                 1\n",
       "Name: chi-squared test, dtype: object"
      ]
     },
     "execution_count": 21,
     "metadata": {},
     "output_type": "execute_result"
    }
   ],
   "source": [
    "res = ctable.test_nominal_association()\n",
    "pd.Series(\n",
    "    data=[res.statistic, res.pvalue, int(res.df)],\n",
    "    index=['statistc', 'pvalue', 'df'],\n",
    "    name='chi-squared test',\n",
    "    dtype=object\n",
    ")"
   ]
  },
  {
   "cell_type": "markdown",
   "metadata": {},
   "source": [
    "### Fisher's exact test"
   ]
  },
  {
   "cell_type": "code",
   "execution_count": 22,
   "metadata": {},
   "outputs": [
    {
     "data": {
      "text/plain": [
       "pvalue    0.033877\n",
       "Name: fishers exact, dtype: float64"
      ]
     },
     "execution_count": 22,
     "metadata": {},
     "output_type": "execute_result"
    }
   ],
   "source": [
    "_, pvalue = st.fisher_exact(ctable.table)\n",
    "pd.Series(\n",
    "    data=[pvalue],\n",
    "    index=['pvalue'],\n",
    "    name='fisher''s exact'\n",
    ")"
   ]
  },
  {
   "cell_type": "markdown",
   "metadata": {},
   "source": [
    "## References\n",
    "\n",
    "Vera Keefe, Papaarangi Reid, Clint Ormsby, Bridget Robson, Gordon Purdie, Joanne Baxter, Ngäti Kahungunu Iwi Incorporated, Serious health events following involuntary job loss in New Zealand meat processing workers, *International Journal of Epidemiology*, Volume 31, Issue 6, December 2002, Pages 1155–1161, https://doi.org/10.1093/ije/31.6.1155"
   ]
  },
  {
   "cell_type": "markdown",
   "metadata": {},
   "source": [
    "[^1]: See [statsmodels.stats.contingency_tables.Table2x2](https://www.statsmodels.org/stable/generated/statsmodels.stats.contingency_tables.Table2x2.html)\n",
    "[^2]: Odds ratio and relative risk.\n",
    "[^3]: Technically this is not needed, given all expected values are greater than five, but we include it for completeness.\n",
    "[^4]: There is no version of Fisher's exact test in StatsModels, so we use SciPy instead. See [scipy.stats.fisher_exact](https://docs.scipy.org/doc/scipy/reference/generated/scipy.stats.fisher_exact.html)"
   ]
  },
  {
   "cell_type": "code",
   "execution_count": 23,
   "metadata": {},
   "outputs": [
    {
     "name": "stdout",
     "output_type": "stream",
     "text": [
      "statsmodels: 0.13.2\n",
      "scipy      : 1.9.0\n",
      "numpy      : 1.23.2\n",
      "sys        : 3.10.6 (tags/v3.10.6:9c7b4bd, Aug  1 2022, 21:53:49) [MSC v.1932 64 bit (AMD64)]\n",
      "pandas     : 1.4.3\n",
      "\n"
     ]
    }
   ],
   "source": [
    "%watermark --iversions"
   ]
  }
 ],
 "metadata": {
  "kernelspec": {
   "display_name": "lr_stats",
   "language": "python",
   "name": "lr_stats"
  },
  "language_info": {
   "codemirror_mode": {
    "name": "ipython",
    "version": 3
   },
   "file_extension": ".py",
   "mimetype": "text/x-python",
   "name": "python",
   "nbconvert_exporter": "python",
   "pygments_lexer": "ipython3",
   "version": "3.10.6"
  },
  "toc-autonumbering": false,
  "vscode": {
   "interpreter": {
    "hash": "1f255b0907b4f1c138efb54996736946dba3a3dfe1a00c362b874b4f63d8edc0"
   }
  }
 },
 "nbformat": 4,
 "nbformat_minor": 4
}
