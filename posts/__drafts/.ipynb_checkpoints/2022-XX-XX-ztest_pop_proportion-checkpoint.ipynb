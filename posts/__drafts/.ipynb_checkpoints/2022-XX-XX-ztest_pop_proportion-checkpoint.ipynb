{
 "cells": [
  {
   "cell_type": "raw",
   "id": "d2857ce9-5a36-465c-bfbc-a3a78f67f1a2",
   "metadata": {},
   "source": [
    "---\n",
    "title: \"Testing Hypotheses: Z-Tests And Population Proportion\"\n",
    "author: LaughingRook\n",
    "date: 2022-07-25\n",
    "categories: [M248, Statistics]\n",
    "format:\n",
    "  html:\n",
    "    code-tools: true\n",
    "---"
   ]
  },
  {
   "cell_type": "markdown",
   "id": "9c3f1aed-7ab4-4309-af31-0c153c937cd2",
   "metadata": {},
   "source": [
    "## Sumary\n",
    "\n",
    "Perform a one-sample, one-sided $z$-test of a population proportion.\n",
    "\n",
    "Data on the full time results of all football games in the English premier Leage 2018/19 season were obtained from [www.football-data.co.uk](https://www.football-data.co.uk/englandm.php).\n",
    "\n",
    "We used a one-sample *z*-test to test the null hypothesis that there is no home advantage.\n",
    "If there was no home advantage, then we would expect that approximately a third of the games would be won by the home team.\n",
    "(This was the null hypothesis.)\n",
    "Otherwise, if there is a home advantage, then we would expect that the proportion of games won by the ome team would be greater than a third.\n",
    "(This was the alternative hypothesis.)\n",
    "\n",
    "More formally, we tested the hypotheses:\n",
    "\n",
    "$$\n",
    "H_{0}: p = \\frac{1}{3};\n",
    "\\hspace{3mm} H_{1}: p > \\frac{1}{3},\n",
    "$$\n",
    "\n",
    "where $p$ is the proportion of games won by the home team.\n",
    "\n",
    "General workflow:\n",
    "\n",
    "1. Load the data\n",
    "1. Describe the data\n",
    "   - Given the data were nominal, we used a frequency table to describe them\n",
    "1. Plot the data\n",
    "1. Get an interval estimate[^1]\n",
    "1. Perform the hypothesis test[^1]\n",
    "\n",
    "This topic was covered in M248, Units 8 and 9."
   ]
  },
  {
   "cell_type": "markdown",
   "id": "85570acf-3bde-4231-8cde-2a88ecd405c2",
   "metadata": {},
   "source": [
    "## Dependencies"
   ]
  },
  {
   "cell_type": "code",
   "execution_count": null,
   "id": "187e31e8-8036-4862-946a-a5d8bbbeb27a",
   "metadata": {},
   "outputs": [],
   "source": [
    "import pandas as pd\n",
    "from statsmodels.stats import proportion as pr\n",
    "from matplotlib import pyplot as plt\n",
    "import seaborn as sns"
   ]
  },
  {
   "cell_type": "code",
   "execution_count": null,
   "id": "42649a4c-1df4-498c-af2c-25a9a57c69c1",
   "metadata": {},
   "outputs": [],
   "source": [
    "sns.set_theme()"
   ]
  },
  {
   "cell_type": "markdown",
   "id": "705488a9-db6f-4d22-b41d-f6ceed03bdc2",
   "metadata": {},
   "source": [
    "## Functions"
   ]
  },
  {
   "cell_type": "code",
   "execution_count": null,
   "id": "222d7117-f60e-4bd2-90f5-603c612dc789",
   "metadata": {},
   "outputs": [],
   "source": [
    "def frequency(s: pd.Series, x: object) -> int:\n",
    "    return s.map(lambda y: 1 if x == y else 0).sum()"
   ]
  },
  {
   "cell_type": "markdown",
   "id": "abc59c9f-666f-4b9b-a686-e1198b6ac449",
   "metadata": {},
   "source": [
    "## Constants"
   ]
  },
  {
   "cell_type": "code",
   "execution_count": null,
   "id": "d5373fde-ea8a-4143-8128-711bb0d4def9",
   "metadata": {},
   "outputs": [],
   "source": [
    "URL = ('https://raw.githubusercontent.com/ljk233/laughingrook-datasets'\n",
    "       + '/main/epl_results/season-1819.csv')"
   ]
  },
  {
   "cell_type": "markdown",
   "id": "f34cf56a-4ac1-4bdb-9d28-817697b241b4",
   "metadata": {},
   "source": [
    "## Main"
   ]
  },
  {
   "cell_type": "markdown",
   "id": "0da8ccea-a0ba-449b-a45a-60ef9de494f8",
   "metadata": {},
   "source": [
    "### Load data"
   ]
  },
  {
   "cell_type": "code",
   "execution_count": null,
   "id": "07813214-83b4-41c3-a992-6d763dc5bd90",
   "metadata": {},
   "outputs": [],
   "source": [
    "results = pd.read_csv(URL)"
   ]
  },
  {
   "cell_type": "markdown",
   "id": "327621c9-5396-4fef-8c85-2a5924fb01a0",
   "metadata": {},
   "source": [
    "### Get data of interest"
   ]
  },
  {
   "cell_type": "code",
   "execution_count": null,
   "id": "c15a141a-743f-4608-a290-593a490e6df3",
   "metadata": {},
   "outputs": [],
   "source": [
    "ftr = results.get(\n",
    "    'FTR'\n",
    ").rename(\n",
    "    'result'\n",
    ").replace(\n",
    "    {'H': 'home_win', 'A': 'away_win', 'D': 'draw'}\n",
    ")\n",
    "ftr.info()"
   ]
  },
  {
   "cell_type": "markdown",
   "id": "b8bf01e5-9e23-4cec-bcb3-39b5814b1fe6",
   "metadata": {},
   "source": [
    "### Describe the data"
   ]
  },
  {
   "cell_type": "code",
   "execution_count": null,
   "id": "9147d12a-f702-42ba-8375-a8d4bb29da61",
   "metadata": {},
   "outputs": [],
   "source": [
    "_g = ftr.groupby(ftr).size().rename('frequency').to_frame()\n",
    "_g['proportion'] = _g['frequency'].transform(lambda x: x / _g.sum())\n",
    "_g"
   ]
  },
  {
   "cell_type": "markdown",
   "id": "e8bc3c1d-3bc5-4989-8dae-2c12986cdf10",
   "metadata": {},
   "source": [
    "### Visualise the data"
   ]
  },
  {
   "cell_type": "code",
   "execution_count": null,
   "id": "2dcbaf64-e2c2-49cd-b614-03fb3d31d50e",
   "metadata": {},
   "outputs": [],
   "source": [
    "_gs = sns.countplot(x=ftr)\n",
    "plt.title('Final results of the English Premier Leage 2018/19 season')\n",
    "plt.ylabel('frequency')\n",
    "plt.show()"
   ]
  },
  {
   "cell_type": "markdown",
   "id": "ececfe7b-e8b6-4bb9-b0bd-62051e0b210d",
   "metadata": {},
   "source": [
    "### Get the results\n",
    "\n",
    "Variable `x` is the number of games won by the home team;\n",
    "and variable `n` is the total number of games in the season."
   ]
  },
  {
   "cell_type": "code",
   "execution_count": null,
   "id": "de38429c-2450-46ee-a7f8-10cbe0b7b3a6",
   "metadata": {},
   "outputs": [],
   "source": [
    "x = ftr.transform(lambda x: 1 if x == 'home_win' else 0).sum()\n",
    "n = ftr.size"
   ]
  },
  {
   "cell_type": "markdown",
   "id": "a7a90926-ff8f-4677-8585-067a0a4233a9",
   "metadata": {},
   "source": [
    "### Interval estimate of the proportion"
   ]
  },
  {
   "cell_type": "code",
   "execution_count": null,
   "id": "97f42b17-d58e-45d0-8523-f6d0833b3c6f",
   "metadata": {},
   "outputs": [],
   "source": [
    "pd.Series(data=pr.proportion_confint(x, n), index=['lcb', 'ucb'])"
   ]
  },
  {
   "cell_type": "markdown",
   "id": "cdf6d2c8-291c-46cf-9220-f3f3958bad5c",
   "metadata": {},
   "source": [
    "### Perform the *z*-test"
   ]
  },
  {
   "cell_type": "code",
   "execution_count": null,
   "id": "77937724-00d3-4777-8fb2-da87afafab98",
   "metadata": {},
   "outputs": [],
   "source": [
    "pd.Series(\n",
    "    data=pr.proportions_ztest(x, n, value=1/3, alternative='larger'),\n",
    "    index=['zstat', 'pvalue']\n",
    ").round(6)"
   ]
  },
  {
   "cell_type": "markdown",
   "id": "1761f633-529e-491a-acb3-01b2682d33bb",
   "metadata": {},
   "source": [
    "## Footnotes\n",
    "\n",
    "[^1]: [statsmodels.stats.proportion.proportion_confint](https://www.statsmodels.org/devel/generated/statsmodels.stats.proportion.proportion_confint.html)\n",
    "[^1]: [statsmodels.stats.proportion.proportions_ztest](https://www.statsmodels.org/devel/generated/statsmodels.stats.proportion.proportions_ztest.html)"
   ]
  }
 ],
 "metadata": {
  "kernelspec": {
   "display_name": "laughingrook",
   "language": "python",
   "name": "laughingrook"
  },
  "language_info": {
   "codemirror_mode": {
    "name": "ipython",
    "version": 3
   },
   "file_extension": ".py",
   "mimetype": "text/x-python",
   "name": "python",
   "nbconvert_exporter": "python",
   "pygments_lexer": "ipython3",
   "version": "3.10.4"
  }
 },
 "nbformat": 4,
 "nbformat_minor": 5
}
