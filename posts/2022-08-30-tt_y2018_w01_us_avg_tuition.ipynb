{
 "cells": [
  {
   "cell_type": "raw",
   "id": "412c281c",
   "metadata": {},
   "source": [
    "---\n",
    "title: College Tuition Fees in the USA\n",
    "date: 2022-08-30\n",
    "categories: [TidyTuesday]\n",
    "draft: false\n",
    "---"
   ]
  },
  {
   "cell_type": "markdown",
   "id": "c6025a30-df35-4d4b-8bd3-38886a38c0a2",
   "metadata": {
    "tags": []
   },
   "source": [
    "## Summary notes\n",
    "\n",
    "Visualising the average annual cost of College tuition fees in the USA.\n",
    "\n",
    "<blockquote class=\"twitter-tweet\"><p lang=\"en\" dir=\"ltr\">Happy to announce the newest <a href=\"https://twitter.com/hashtag/R4DS?src=hash&amp;ref_src=twsrc%5Etfw\">#R4DS</a> online learning community project! <a href=\"https://twitter.com/hashtag/TidyTuesday?src=hash&amp;ref_src=twsrc%5Etfw\">#TidyTuesday</a> is your weekly <a href=\"https://twitter.com/hashtag/tidyverse?src=hash&amp;ref_src=twsrc%5Etfw\">#tidyverse</a> practice!<br><br>Each week we&#39;ll post data and a plot at <a href=\"https://t.co/8NaXR93uIX\">https://t.co/8NaXR93uIX</a> under the datasets link.<br><br>You clean the data and tweak the plot in R!<a href=\"https://twitter.com/hashtag/rstats?src=hash&amp;ref_src=twsrc%5Etfw\">#rstats</a> <a href=\"https://twitter.com/hashtag/ggplot2?src=hash&amp;ref_src=twsrc%5Etfw\">#ggplot2</a> <a href=\"https://t.co/sDaHsB8uwL\">pic.twitter.com/sDaHsB8uwL</a></p>&mdash; Tom Mock ❤️ Quarto (@thomas_mock) <a href=\"https://twitter.com/thomas_mock/status/980921600429252608?ref_src=twsrc%5Etfw\">April 2, 2018</a></blockquote> <script async src=\"https://platform.twitter.com/widgets.js\" charset=\"utf-8\"></script>"
   ]
  },
  {
   "cell_type": "markdown",
   "id": "33f5a82c-fe3d-4d71-8f8e-22a5afc14e91",
   "metadata": {
    "tags": []
   },
   "source": [
    "## Dependencies"
   ]
  },
  {
   "cell_type": "code",
   "execution_count": 1,
   "id": "98b09c2b-1ba5-4044-8400-f5cfcffe0204",
   "metadata": {},
   "outputs": [],
   "source": [
    "import os\n",
    "import requests\n",
    "import pandas as pd\n",
    "import polars as pl\n",
    "import altair as alt\n",
    "from vega_datasets import data as vdata"
   ]
  },
  {
   "cell_type": "markdown",
   "id": "c2c8a27e",
   "metadata": {},
   "source": [
    "## Functions"
   ]
  },
  {
   "cell_type": "code",
   "execution_count": 2,
   "id": "c8d01438",
   "metadata": {},
   "outputs": [],
   "source": [
    "def cache_file(url: str, fname: str, dir_: str = './__cache') -> str:\n",
    "    \"\"\"Cache the file at given url in the given dir_ with the given\n",
    "    fname and return the local path.\n",
    "\n",
    "    Preconditions:\n",
    "    - dir_ exists\n",
    "    \"\"\"\n",
    "    local_path = f'{dir_}/{fname}'\n",
    "    if fname not in os.listdir(dir_):\n",
    "        r = requests.get(url, allow_redirects=True)\n",
    "        open(local_path, 'wb').write(r.content)\n",
    "    return local_path"
   ]
  },
  {
   "cell_type": "markdown",
   "id": "e7df29be-c708-41ad-aeb7-6547930be901",
   "metadata": {
    "tags": []
   },
   "source": [
    "## Main"
   ]
  },
  {
   "cell_type": "markdown",
   "id": "d38a0bd7-fd22-418f-8646-237c5bd37bbf",
   "metadata": {
    "tags": []
   },
   "source": [
    "### Set theme"
   ]
  },
  {
   "cell_type": "code",
   "execution_count": 3,
   "id": "4e9590fe",
   "metadata": {},
   "outputs": [
    {
     "data": {
      "text/plain": [
       "ThemeRegistry.enable('latimes')"
      ]
     },
     "execution_count": 3,
     "metadata": {},
     "output_type": "execute_result"
    }
   ],
   "source": [
    "alt.themes.enable('latimes')"
   ]
  },
  {
   "cell_type": "markdown",
   "id": "54123abf",
   "metadata": {},
   "source": [
    "### Cache the data"
   ]
  },
  {
   "cell_type": "code",
   "execution_count": 4,
   "id": "7ca9905e",
   "metadata": {},
   "outputs": [],
   "source": [
    "us_avg_tuition_path = cache_file(\n",
    "    url=('https://github.com/rfordatascience/tidytuesday/blob/master'\n",
    "         + '/data/2018/2018-04-02/us_avg_tuition.xlsx?raw=true'),\n",
    "    fname='us_avg_tuition.xlsx'\n",
    ")"
   ]
  },
  {
   "cell_type": "code",
   "execution_count": 5,
   "id": "90fcd2f6",
   "metadata": {},
   "outputs": [],
   "source": [
    "ansi_path = cache_file(\n",
    "    url=('https://www2.census.gov/geo/docs/reference/state.txt'),\n",
    "    fname='state.txt'\n",
    ")"
   ]
  },
  {
   "cell_type": "markdown",
   "id": "b573e37d-903d-4216-9c95-d1cfe610dffc",
   "metadata": {
    "tags": []
   },
   "source": [
    "### Load the data"
   ]
  },
  {
   "cell_type": "code",
   "execution_count": 6,
   "id": "3a90952a-2e86-45ea-92d7-aa4c3d117edb",
   "metadata": {},
   "outputs": [
    {
     "data": {
      "text/plain": [
       "{'State': polars.datatypes.Utf8,\n",
       " '2004-05': polars.datatypes.Float64,\n",
       " '2005-06': polars.datatypes.Float64,\n",
       " '2006-07': polars.datatypes.Float64,\n",
       " '  2007-08 ': polars.datatypes.Float64,\n",
       " '2008-09': polars.datatypes.Float64,\n",
       " '2009-10': polars.datatypes.Float64,\n",
       " '2010-11': polars.datatypes.Float64,\n",
       " '2011-12': polars.datatypes.Float64,\n",
       " '2012-13': polars.datatypes.Float64,\n",
       " '2013-14': polars.datatypes.Float64,\n",
       " '2014-15': polars.datatypes.Float64,\n",
       " '2015-16': polars.datatypes.Float64}"
      ]
     },
     "execution_count": 6,
     "metadata": {},
     "output_type": "execute_result"
    }
   ],
   "source": [
    "us_avg_tuition = pl.DataFrame(pd.read_excel(us_avg_tuition_path)).lazy()\n",
    "us_avg_tuition.schema"
   ]
  },
  {
   "cell_type": "code",
   "execution_count": 7,
   "id": "121a5751",
   "metadata": {},
   "outputs": [
    {
     "data": {
      "text/plain": [
       "{'STATE': polars.datatypes.Int64,\n",
       " 'STUSAB': polars.datatypes.Utf8,\n",
       " 'STATE_NAME': polars.datatypes.Utf8,\n",
       " 'STATENS': polars.datatypes.Int64}"
      ]
     },
     "execution_count": 7,
     "metadata": {},
     "output_type": "execute_result"
    }
   ],
   "source": [
    "ansi = pl.DataFrame(pd.read_csv(ansi_path, sep='|')).lazy()\n",
    "ansi.schema"
   ]
  },
  {
   "cell_type": "code",
   "execution_count": 8,
   "id": "61f86b55",
   "metadata": {},
   "outputs": [],
   "source": [
    "states = alt.topo_feature(vdata.us_10m.url, 'states')"
   ]
  },
  {
   "cell_type": "markdown",
   "id": "fc15f6d0-73c2-4019-b801-dc13a6e74b6b",
   "metadata": {
    "tags": []
   },
   "source": [
    "### Prepare the data"
   ]
  },
  {
   "cell_type": "code",
   "execution_count": 9,
   "id": "39d03b1a-f3db-4ae9-a072-396f09aac7fd",
   "metadata": {},
   "outputs": [
    {
     "data": {
      "text/plain": [
       "{'state_id': polars.datatypes.Int64,\n",
       " 'state_name': polars.datatypes.Utf8,\n",
       " 'tuition': polars.datatypes.Float64,\n",
       " 'pct_change': polars.datatypes.Float64}"
      ]
     },
     "execution_count": 9,
     "metadata": {},
     "output_type": "execute_result"
    }
   ],
   "source": [
    "lazy_query = us_avg_tuition.select(\n",
    "    ['State',\n",
    "     '2010-11',\n",
    "     '2015-16']\n",
    ").melt(\n",
    "    id_vars='State',\n",
    "    variable_name='year',\n",
    "    value_name='tuition'\n",
    ").join(\n",
    "    other=ansi,\n",
    "    left_on='State',\n",
    "    right_on='STATE_NAME',\n",
    "    how='inner'\n",
    ").with_column(\n",
    "    pl.col('tuition').pct_change().over('State').alias('pct_change')\n",
    ").filter(\n",
    "    pl.col('pct_change').is_not_null()\n",
    ").select(\n",
    "    [pl.col('STATE').alias('state_id'),\n",
    "     pl.col('State').alias('state_name'),\n",
    "     pl.col('tuition'),\n",
    "     pl.col('pct_change').apply(lambda x: x * 100).round(1)]\n",
    ")\n",
    "lazy_query.schema"
   ]
  },
  {
   "cell_type": "markdown",
   "id": "65aa2a66-ccf8-4c2e-a9a6-da83f384e35f",
   "metadata": {},
   "source": [
    "### Visualise the data\n",
    "\n",
    "Both visualisations will use the same source, so we initialise a single instance of `alt.Chart`."
   ]
  },
  {
   "cell_type": "code",
   "execution_count": 10,
   "id": "3e9a9d4e",
   "metadata": {},
   "outputs": [],
   "source": [
    "ch = alt.Chart(lazy_query.collect().to_pandas())"
   ]
  },
  {
   "cell_type": "markdown",
   "id": "17bb25a3",
   "metadata": {},
   "source": [
    "Plot the percentage change in college annual tuition costs from 2010 to 2015 as a *chloropleth heatmap*."
   ]
  },
  {
   "cell_type": "code",
   "execution_count": 11,
   "id": "4ce4ea08-7dfe-41bf-a5ae-991cb99f061b",
   "metadata": {
    "tags": []
   },
   "outputs": [
    {
     "data": {
      "text/html": [
       "\n",
       "<div id=\"altair-viz-c564c5c59b79466f9a1615d740988906\"></div>\n",
       "<script type=\"text/javascript\">\n",
       "  var VEGA_DEBUG = (typeof VEGA_DEBUG == \"undefined\") ? {} : VEGA_DEBUG;\n",
       "  (function(spec, embedOpt){\n",
       "    let outputDiv = document.currentScript.previousElementSibling;\n",
       "    if (outputDiv.id !== \"altair-viz-c564c5c59b79466f9a1615d740988906\") {\n",
       "      outputDiv = document.getElementById(\"altair-viz-c564c5c59b79466f9a1615d740988906\");\n",
       "    }\n",
       "    const paths = {\n",
       "      \"vega\": \"https://cdn.jsdelivr.net/npm//vega@5?noext\",\n",
       "      \"vega-lib\": \"https://cdn.jsdelivr.net/npm//vega-lib?noext\",\n",
       "      \"vega-lite\": \"https://cdn.jsdelivr.net/npm//vega-lite@4.17.0?noext\",\n",
       "      \"vega-embed\": \"https://cdn.jsdelivr.net/npm//vega-embed@6?noext\",\n",
       "    };\n",
       "\n",
       "    function maybeLoadScript(lib, version) {\n",
       "      var key = `${lib.replace(\"-\", \"\")}_version`;\n",
       "      return (VEGA_DEBUG[key] == version) ?\n",
       "        Promise.resolve(paths[lib]) :\n",
       "        new Promise(function(resolve, reject) {\n",
       "          var s = document.createElement('script');\n",
       "          document.getElementsByTagName(\"head\")[0].appendChild(s);\n",
       "          s.async = true;\n",
       "          s.onload = () => {\n",
       "            VEGA_DEBUG[key] = version;\n",
       "            return resolve(paths[lib]);\n",
       "          };\n",
       "          s.onerror = () => reject(`Error loading script: ${paths[lib]}`);\n",
       "          s.src = paths[lib];\n",
       "        });\n",
       "    }\n",
       "\n",
       "    function showError(err) {\n",
       "      outputDiv.innerHTML = `<div class=\"error\" style=\"color:red;\">${err}</div>`;\n",
       "      throw err;\n",
       "    }\n",
       "\n",
       "    function displayChart(vegaEmbed) {\n",
       "      vegaEmbed(outputDiv, spec, embedOpt)\n",
       "        .catch(err => showError(`Javascript Error: ${err.message}<br>This usually means there's a typo in your chart specification. See the javascript console for the full traceback.`));\n",
       "    }\n",
       "\n",
       "    if(typeof define === \"function\" && define.amd) {\n",
       "      requirejs.config({paths});\n",
       "      require([\"vega-embed\"], displayChart, err => showError(`Error loading script: ${err.message}`));\n",
       "    } else {\n",
       "      maybeLoadScript(\"vega\", \"5\")\n",
       "        .then(() => maybeLoadScript(\"vega-lite\", \"4.17.0\"))\n",
       "        .then(() => maybeLoadScript(\"vega-embed\", \"6\"))\n",
       "        .catch(showError)\n",
       "        .then(() => displayChart(vegaEmbed));\n",
       "    }\n",
       "  })({\"usermeta\": {\"embedOptions\": {\"theme\": \"latimes\"}}, \"config\": {\"view\": {\"continuousWidth\": 400, \"continuousHeight\": 300}}, \"data\": {\"name\": \"data-86a5ded532a6b671d3a1a76ac69213b7\"}, \"mark\": {\"type\": \"geoshape\", \"stroke\": \"black\"}, \"encoding\": {\"color\": {\"field\": \"pct_change\", \"legend\": {\"title\": \"Change (%)\"}, \"scale\": {\"scheme\": \"oranges\"}, \"type\": \"quantitative\"}, \"shape\": {\"field\": \"geo\", \"type\": \"geojson\"}, \"tooltip\": [{\"field\": \"state_name\", \"title\": \"State\", \"type\": \"nominal\"}, {\"field\": \"pct_change\", \"title\": \"Change (%)\", \"type\": \"quantitative\"}]}, \"height\": 400, \"projection\": {\"type\": \"albersUsa\"}, \"title\": \"Percentage change in college tuition costs between 2010 and 2015\", \"transform\": [{\"lookup\": \"state_id\", \"as\": \"geo\", \"from\": {\"data\": {\"url\": \"https://cdn.jsdelivr.net/npm/vega-datasets@v1.29.0/data/us-10m.json\", \"format\": {\"feature\": \"states\", \"type\": \"topojson\"}}, \"key\": \"id\"}}], \"width\": 600, \"$schema\": \"https://vega.github.io/schema/vega-lite/v4.17.0.json\", \"datasets\": {\"data-86a5ded532a6b671d3a1a76ac69213b7\": [{\"state_id\": 1, \"state_name\": \"Alabama\", \"tuition\": 9751.101349251952, \"pct_change\": 20.8}, {\"state_id\": 2, \"state_name\": \"Alaska\", \"tuition\": 6571.340316948697, \"pct_change\": 14.1}, {\"state_id\": 4, \"state_name\": \"Arizona\", \"tuition\": 10646.278351749399, \"pct_change\": 20.4}, {\"state_id\": 5, \"state_name\": \"Arkansas\", \"tuition\": 7867.29673593428, \"pct_change\": 14.0}, {\"state_id\": 6, \"state_name\": \"California\", \"tuition\": 9269.844227224636, \"pct_change\": 13.1}, {\"state_id\": 8, \"state_name\": \"Colorado\", \"tuition\": 9748.187715504646, \"pct_change\": 25.8}, {\"state_id\": 9, \"state_name\": \"Connecticut\", \"tuition\": 11397.336553140489, \"pct_change\": 16.0}, {\"state_id\": 10, \"state_name\": \"Delaware\", \"tuition\": 11676.215597471757, \"pct_change\": 10.8}, {\"state_id\": 12, \"state_name\": \"Florida\", \"tuition\": 6360.159309231394, \"pct_change\": 15.4}, {\"state_id\": 13, \"state_name\": \"Georgia\", \"tuition\": 8446.961426315582, \"pct_change\": 31.4}, {\"state_id\": 15, \"state_name\": \"Hawaii\", \"tuition\": 10174.733720305641, \"pct_change\": 24.6}, {\"state_id\": 16, \"state_name\": \"Idaho\", \"tuition\": 6818.470343746806, \"pct_change\": 16.9}, {\"state_id\": 17, \"state_name\": \"Illinois\", \"tuition\": 13189.100826230002, \"pct_change\": 9.8}, {\"state_id\": 18, \"state_name\": \"Indiana\", \"tuition\": 9119.648545884287, \"pct_change\": 4.3}, {\"state_id\": 19, \"state_name\": \"Iowa\", \"tuition\": 7877.344019168941, \"pct_change\": 0.6}, {\"state_id\": 20, \"state_name\": \"Kansas\", \"tuition\": 8530.493830784435, \"pct_change\": 17.6}, {\"state_id\": 21, \"state_name\": \"Kentucky\", \"tuition\": 9566.67257334121, \"pct_change\": 16.2}, {\"state_id\": 22, \"state_name\": \"Louisiana\", \"tuition\": 7870.959722650475, \"pct_change\": 51.9}, {\"state_id\": 23, \"state_name\": \"Maine\", \"tuition\": 9572.968444568556, \"pct_change\": -2.2}, {\"state_id\": 24, \"state_name\": \"Maryland\", \"tuition\": 9163.29158226419, \"pct_change\": 8.2}, {\"state_id\": 25, \"state_name\": \"Massachusetts\", \"tuition\": 11588.125344457978, \"pct_change\": 11.6}, {\"state_id\": 26, \"state_name\": \"Michigan\", \"tuition\": 11990.52822403027, \"pct_change\": 8.1}, {\"state_id\": 27, \"state_name\": \"Minnesota\", \"tuition\": 10831.360471619942, \"pct_change\": 5.4}, {\"state_id\": 28, \"state_name\": \"Mississippi\", \"tuition\": 7147.2712342461355, \"pct_change\": 23.3}, {\"state_id\": 29, \"state_name\": \"Missouri\", \"tuition\": 8564.109743438288, \"pct_change\": 7.6}, {\"state_id\": 30, \"state_name\": \"Montana\", \"tuition\": 6351.076487252125, \"pct_change\": 3.4}, {\"state_id\": 31, \"state_name\": \"Nebraska\", \"tuition\": 7607.9658656882075, \"pct_change\": 5.3}, {\"state_id\": 32, \"state_name\": \"Nevada\", \"tuition\": 6667.235801581596, \"pct_change\": 14.5}, {\"state_id\": 33, \"state_name\": \"New Hampshire\", \"tuition\": 15159.895264116578, \"pct_change\": 15.9}, {\"state_id\": 34, \"state_name\": \"New Jersey\", \"tuition\": 13303.419490336193, \"pct_change\": 4.3}, {\"state_id\": 35, \"state_name\": \"New Mexico\", \"tuition\": 6354.521438963855, \"pct_change\": 13.2}, {\"state_id\": 36, \"state_name\": \"New York\", \"tuition\": 7643.525099747241, \"pct_change\": 20.5}, {\"state_id\": 37, \"state_name\": \"North Carolina\", \"tuition\": 6973.066091916937, \"pct_change\": 19.7}, {\"state_id\": 38, \"state_name\": \"North Dakota\", \"tuition\": 7687.698216924241, \"pct_change\": 6.9}, {\"state_id\": 39, \"state_name\": \"Ohio\", \"tuition\": 10195.895607219012, \"pct_change\": 2.8}, {\"state_id\": 40, \"state_name\": \"Oklahoma\", \"tuition\": 7449.698064176078, \"pct_change\": 18.4}, {\"state_id\": 41, \"state_name\": \"Oregon\", \"tuition\": 9371.346119665925, \"pct_change\": 15.2}, {\"state_id\": 42, \"state_name\": \"Pennsylvania\", \"tuition\": 13394.777550376328, \"pct_change\": 8.0}, {\"state_id\": 44, \"state_name\": \"Rhode Island\", \"tuition\": 11390.118397085611, \"pct_change\": 11.7}, {\"state_id\": 45, \"state_name\": \"South Carolina\", \"tuition\": 11816.025925316488, \"pct_change\": 7.3}, {\"state_id\": 46, \"state_name\": \"South Dakota\", \"tuition\": 8054.912800263244, \"pct_change\": 16.5}, {\"state_id\": 47, \"state_name\": \"Tennessee\", \"tuition\": 9263.479110787835, \"pct_change\": 29.7}, {\"state_id\": 48, \"state_name\": \"Texas\", \"tuition\": 9116.732642680614, \"pct_change\": 7.5}, {\"state_id\": 49, \"state_name\": \"Utah\", \"tuition\": 6362.682377404262, \"pct_change\": 18.2}, {\"state_id\": 50, \"state_name\": \"Vermont\", \"tuition\": 14993.026532856751, \"pct_change\": 9.8}, {\"state_id\": 51, \"state_name\": \"Virginia\", \"tuition\": 11818.692852673435, \"pct_change\": 22.6}, {\"state_id\": 53, \"state_name\": \"Washington\", \"tuition\": 10288.352635518957, \"pct_change\": 14.7}, {\"state_id\": 54, \"state_name\": \"West Virginia\", \"tuition\": 7171.450966340447, \"pct_change\": 25.4}, {\"state_id\": 55, \"state_name\": \"Wisconsin\", \"tuition\": 8815.260667850567, \"pct_change\": 4.4}, {\"state_id\": 56, \"state_name\": \"Wyoming\", \"tuition\": 4890.999758220503, \"pct_change\": 13.8}]}}, {\"mode\": \"vega-lite\"});\n",
       "</script>"
      ],
      "text/plain": [
       "alt.Chart(...)"
      ]
     },
     "execution_count": 11,
     "metadata": {},
     "output_type": "execute_result"
    }
   ],
   "source": [
    "ch.mark_geoshape(\n",
    "    stroke='black'\n",
    ").encode(\n",
    "    shape='geo:G',\n",
    "    color=alt.Color(\n",
    "                \"pct_change\",\n",
    "                scale=alt.Scale(scheme=\"oranges\"),\n",
    "                legend=alt.Legend(title='Change (%)')\n",
    "    ),\n",
    "    tooltip=[alt.Tooltip('state_name', title='State'),\n",
    "             alt.Tooltip('pct_change', title='Change (%)')]\n",
    ").transform_lookup(\n",
    "    lookup='state_id',\n",
    "    from_=alt.LookupData(data=states, key='id'),\n",
    "    as_='geo'\n",
    ").project(\n",
    "    type='albersUsa'\n",
    ").properties(\n",
    "    title='Percentage change in college tuition costs between 2010 and 2015',\n",
    "    width=600,\n",
    "    height=400\n",
    ")"
   ]
  },
  {
   "cell_type": "markdown",
   "id": "da1adb2c",
   "metadata": {},
   "source": [
    "Plot the annual cost of college tuition in the USA in 2015-16 as a *dot plot*."
   ]
  },
  {
   "cell_type": "code",
   "execution_count": 12,
   "id": "ebde85f5-0dad-4b44-be7f-358ff1a37d8a",
   "metadata": {
    "tags": []
   },
   "outputs": [
    {
     "data": {
      "text/html": [
       "\n",
       "<div id=\"altair-viz-4fc3874b852f45cea7f87978571bbdfc\"></div>\n",
       "<script type=\"text/javascript\">\n",
       "  var VEGA_DEBUG = (typeof VEGA_DEBUG == \"undefined\") ? {} : VEGA_DEBUG;\n",
       "  (function(spec, embedOpt){\n",
       "    let outputDiv = document.currentScript.previousElementSibling;\n",
       "    if (outputDiv.id !== \"altair-viz-4fc3874b852f45cea7f87978571bbdfc\") {\n",
       "      outputDiv = document.getElementById(\"altair-viz-4fc3874b852f45cea7f87978571bbdfc\");\n",
       "    }\n",
       "    const paths = {\n",
       "      \"vega\": \"https://cdn.jsdelivr.net/npm//vega@5?noext\",\n",
       "      \"vega-lib\": \"https://cdn.jsdelivr.net/npm//vega-lib?noext\",\n",
       "      \"vega-lite\": \"https://cdn.jsdelivr.net/npm//vega-lite@4.17.0?noext\",\n",
       "      \"vega-embed\": \"https://cdn.jsdelivr.net/npm//vega-embed@6?noext\",\n",
       "    };\n",
       "\n",
       "    function maybeLoadScript(lib, version) {\n",
       "      var key = `${lib.replace(\"-\", \"\")}_version`;\n",
       "      return (VEGA_DEBUG[key] == version) ?\n",
       "        Promise.resolve(paths[lib]) :\n",
       "        new Promise(function(resolve, reject) {\n",
       "          var s = document.createElement('script');\n",
       "          document.getElementsByTagName(\"head\")[0].appendChild(s);\n",
       "          s.async = true;\n",
       "          s.onload = () => {\n",
       "            VEGA_DEBUG[key] = version;\n",
       "            return resolve(paths[lib]);\n",
       "          };\n",
       "          s.onerror = () => reject(`Error loading script: ${paths[lib]}`);\n",
       "          s.src = paths[lib];\n",
       "        });\n",
       "    }\n",
       "\n",
       "    function showError(err) {\n",
       "      outputDiv.innerHTML = `<div class=\"error\" style=\"color:red;\">${err}</div>`;\n",
       "      throw err;\n",
       "    }\n",
       "\n",
       "    function displayChart(vegaEmbed) {\n",
       "      vegaEmbed(outputDiv, spec, embedOpt)\n",
       "        .catch(err => showError(`Javascript Error: ${err.message}<br>This usually means there's a typo in your chart specification. See the javascript console for the full traceback.`));\n",
       "    }\n",
       "\n",
       "    if(typeof define === \"function\" && define.amd) {\n",
       "      requirejs.config({paths});\n",
       "      require([\"vega-embed\"], displayChart, err => showError(`Error loading script: ${err.message}`));\n",
       "    } else {\n",
       "      maybeLoadScript(\"vega\", \"5\")\n",
       "        .then(() => maybeLoadScript(\"vega-lite\", \"4.17.0\"))\n",
       "        .then(() => maybeLoadScript(\"vega-embed\", \"6\"))\n",
       "        .catch(showError)\n",
       "        .then(() => displayChart(vegaEmbed));\n",
       "    }\n",
       "  })({\"usermeta\": {\"embedOptions\": {\"theme\": \"latimes\"}}, \"config\": {\"view\": {\"continuousWidth\": 400, \"continuousHeight\": 300}}, \"data\": {\"name\": \"data-86a5ded532a6b671d3a1a76ac69213b7\"}, \"mark\": {\"type\": \"circle\", \"size\": 60}, \"encoding\": {\"x\": {\"field\": \"tuition\", \"title\": \"Tuition ($)\", \"type\": \"quantitative\"}, \"y\": {\"axis\": {\"grid\": true}, \"field\": \"state_name\", \"sort\": \"-x\", \"title\": \"State\", \"type\": \"nominal\"}}, \"height\": 600, \"title\": \"College tuition costs in the USA (2015-16)\", \"width\": 400, \"$schema\": \"https://vega.github.io/schema/vega-lite/v4.17.0.json\", \"datasets\": {\"data-86a5ded532a6b671d3a1a76ac69213b7\": [{\"state_id\": 1, \"state_name\": \"Alabama\", \"tuition\": 9751.101349251952, \"pct_change\": 20.8}, {\"state_id\": 2, \"state_name\": \"Alaska\", \"tuition\": 6571.340316948697, \"pct_change\": 14.1}, {\"state_id\": 4, \"state_name\": \"Arizona\", \"tuition\": 10646.278351749399, \"pct_change\": 20.4}, {\"state_id\": 5, \"state_name\": \"Arkansas\", \"tuition\": 7867.29673593428, \"pct_change\": 14.0}, {\"state_id\": 6, \"state_name\": \"California\", \"tuition\": 9269.844227224636, \"pct_change\": 13.1}, {\"state_id\": 8, \"state_name\": \"Colorado\", \"tuition\": 9748.187715504646, \"pct_change\": 25.8}, {\"state_id\": 9, \"state_name\": \"Connecticut\", \"tuition\": 11397.336553140489, \"pct_change\": 16.0}, {\"state_id\": 10, \"state_name\": \"Delaware\", \"tuition\": 11676.215597471757, \"pct_change\": 10.8}, {\"state_id\": 12, \"state_name\": \"Florida\", \"tuition\": 6360.159309231394, \"pct_change\": 15.4}, {\"state_id\": 13, \"state_name\": \"Georgia\", \"tuition\": 8446.961426315582, \"pct_change\": 31.4}, {\"state_id\": 15, \"state_name\": \"Hawaii\", \"tuition\": 10174.733720305641, \"pct_change\": 24.6}, {\"state_id\": 16, \"state_name\": \"Idaho\", \"tuition\": 6818.470343746806, \"pct_change\": 16.9}, {\"state_id\": 17, \"state_name\": \"Illinois\", \"tuition\": 13189.100826230002, \"pct_change\": 9.8}, {\"state_id\": 18, \"state_name\": \"Indiana\", \"tuition\": 9119.648545884287, \"pct_change\": 4.3}, {\"state_id\": 19, \"state_name\": \"Iowa\", \"tuition\": 7877.344019168941, \"pct_change\": 0.6}, {\"state_id\": 20, \"state_name\": \"Kansas\", \"tuition\": 8530.493830784435, \"pct_change\": 17.6}, {\"state_id\": 21, \"state_name\": \"Kentucky\", \"tuition\": 9566.67257334121, \"pct_change\": 16.2}, {\"state_id\": 22, \"state_name\": \"Louisiana\", \"tuition\": 7870.959722650475, \"pct_change\": 51.9}, {\"state_id\": 23, \"state_name\": \"Maine\", \"tuition\": 9572.968444568556, \"pct_change\": -2.2}, {\"state_id\": 24, \"state_name\": \"Maryland\", \"tuition\": 9163.29158226419, \"pct_change\": 8.2}, {\"state_id\": 25, \"state_name\": \"Massachusetts\", \"tuition\": 11588.125344457978, \"pct_change\": 11.6}, {\"state_id\": 26, \"state_name\": \"Michigan\", \"tuition\": 11990.52822403027, \"pct_change\": 8.1}, {\"state_id\": 27, \"state_name\": \"Minnesota\", \"tuition\": 10831.360471619942, \"pct_change\": 5.4}, {\"state_id\": 28, \"state_name\": \"Mississippi\", \"tuition\": 7147.2712342461355, \"pct_change\": 23.3}, {\"state_id\": 29, \"state_name\": \"Missouri\", \"tuition\": 8564.109743438288, \"pct_change\": 7.6}, {\"state_id\": 30, \"state_name\": \"Montana\", \"tuition\": 6351.076487252125, \"pct_change\": 3.4}, {\"state_id\": 31, \"state_name\": \"Nebraska\", \"tuition\": 7607.9658656882075, \"pct_change\": 5.3}, {\"state_id\": 32, \"state_name\": \"Nevada\", \"tuition\": 6667.235801581596, \"pct_change\": 14.5}, {\"state_id\": 33, \"state_name\": \"New Hampshire\", \"tuition\": 15159.895264116578, \"pct_change\": 15.9}, {\"state_id\": 34, \"state_name\": \"New Jersey\", \"tuition\": 13303.419490336193, \"pct_change\": 4.3}, {\"state_id\": 35, \"state_name\": \"New Mexico\", \"tuition\": 6354.521438963855, \"pct_change\": 13.2}, {\"state_id\": 36, \"state_name\": \"New York\", \"tuition\": 7643.525099747241, \"pct_change\": 20.5}, {\"state_id\": 37, \"state_name\": \"North Carolina\", \"tuition\": 6973.066091916937, \"pct_change\": 19.7}, {\"state_id\": 38, \"state_name\": \"North Dakota\", \"tuition\": 7687.698216924241, \"pct_change\": 6.9}, {\"state_id\": 39, \"state_name\": \"Ohio\", \"tuition\": 10195.895607219012, \"pct_change\": 2.8}, {\"state_id\": 40, \"state_name\": \"Oklahoma\", \"tuition\": 7449.698064176078, \"pct_change\": 18.4}, {\"state_id\": 41, \"state_name\": \"Oregon\", \"tuition\": 9371.346119665925, \"pct_change\": 15.2}, {\"state_id\": 42, \"state_name\": \"Pennsylvania\", \"tuition\": 13394.777550376328, \"pct_change\": 8.0}, {\"state_id\": 44, \"state_name\": \"Rhode Island\", \"tuition\": 11390.118397085611, \"pct_change\": 11.7}, {\"state_id\": 45, \"state_name\": \"South Carolina\", \"tuition\": 11816.025925316488, \"pct_change\": 7.3}, {\"state_id\": 46, \"state_name\": \"South Dakota\", \"tuition\": 8054.912800263244, \"pct_change\": 16.5}, {\"state_id\": 47, \"state_name\": \"Tennessee\", \"tuition\": 9263.479110787835, \"pct_change\": 29.7}, {\"state_id\": 48, \"state_name\": \"Texas\", \"tuition\": 9116.732642680614, \"pct_change\": 7.5}, {\"state_id\": 49, \"state_name\": \"Utah\", \"tuition\": 6362.682377404262, \"pct_change\": 18.2}, {\"state_id\": 50, \"state_name\": \"Vermont\", \"tuition\": 14993.026532856751, \"pct_change\": 9.8}, {\"state_id\": 51, \"state_name\": \"Virginia\", \"tuition\": 11818.692852673435, \"pct_change\": 22.6}, {\"state_id\": 53, \"state_name\": \"Washington\", \"tuition\": 10288.352635518957, \"pct_change\": 14.7}, {\"state_id\": 54, \"state_name\": \"West Virginia\", \"tuition\": 7171.450966340447, \"pct_change\": 25.4}, {\"state_id\": 55, \"state_name\": \"Wisconsin\", \"tuition\": 8815.260667850567, \"pct_change\": 4.4}, {\"state_id\": 56, \"state_name\": \"Wyoming\", \"tuition\": 4890.999758220503, \"pct_change\": 13.8}]}}, {\"mode\": \"vega-lite\"});\n",
       "</script>"
      ],
      "text/plain": [
       "alt.Chart(...)"
      ]
     },
     "execution_count": 12,
     "metadata": {},
     "output_type": "execute_result"
    }
   ],
   "source": [
    "ch.mark_circle(\n",
    "    size=60\n",
    ").encode(\n",
    "    x=alt.X('tuition', title='Tuition ($)'),\n",
    "    y=alt.Y('state_name', sort='-x', axis=alt.Axis(grid=True), title='State')\n",
    ").properties(\n",
    "    title='College tuition costs in the USA (2015-16)',\n",
    "    width=400,\n",
    "    height=600\n",
    ")"
   ]
  },
  {
   "cell_type": "code",
   "execution_count": 13,
   "id": "0a58f034",
   "metadata": {},
   "outputs": [
    {
     "name": "stdout",
     "output_type": "stream",
     "text": [
      "sys     : 3.10.6 (tags/v3.10.6:9c7b4bd, Aug  1 2022, 21:53:49) [MSC v.1932 64 bit (AMD64)]\n",
      "polars  : 0.14.6\n",
      "altair  : 4.2.0\n",
      "requests: 2.28.1\n",
      "pandas  : 1.4.3\n",
      "\n"
     ]
    }
   ],
   "source": [
    "%load_ext watermark\n",
    "%watermark --iv"
   ]
  }
 ],
 "metadata": {
  "kernelspec": {
   "display_name": "lr_stats",
   "language": "python",
   "name": "lr_stats"
  },
  "language_info": {
   "codemirror_mode": {
    "name": "ipython",
    "version": 3
   },
   "file_extension": ".py",
   "mimetype": "text/x-python",
   "name": "python",
   "nbconvert_exporter": "python",
   "pygments_lexer": "ipython3",
   "version": "3.10.6"
  }
 },
 "nbformat": 4,
 "nbformat_minor": 5
}
