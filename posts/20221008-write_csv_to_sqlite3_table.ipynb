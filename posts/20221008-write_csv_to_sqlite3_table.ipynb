{
 "cells": [
  {
   "cell_type": "raw",
   "id": "13b2184c-7228-4ea7-9917-845318e54b26",
   "metadata": {},
   "source": [
    "---\n",
    "title: Write a CSV file To A SQLite3 Table\n",
    "date: 2022-10-08\n",
    "categories: [DataIO, SQLite3]\n",
    "---"
   ]
  },
  {
   "cell_type": "markdown",
   "id": "c36e77e9-3471-42db-b362-3c12a23c7564",
   "metadata": {},
   "source": [
    "## Summary notes\n",
    "\n",
    "Write records stored in a local CSV file to a SQL database.\n",
    "\n",
    "Sources:\n",
    "\n",
    "- See [pandas.DataFrame.to_sql](https://pandas.pydata.org/docs/reference/api/pandas.DataFrame.to_sql.html) (*Pandas*) for full signature\n",
    "- [How can I create an in-memory database with sqlite?](https://stackoverflow.com/questions/38676691/how-can-i-create-an-in-memory-database-with-sqlite) (*StackOverflow*)\n",
    "\n",
    "### History\n",
    "\n",
    "- 2022-10-08\n",
    "   - Notebook initialised\n",
    "- 2022-10-09\n",
    "   - Swapped *sqlite3* $\\to$ *sqlalchemy*\n",
    "   - Removed the function, added instead as example script"
   ]
  },
  {
   "cell_type": "markdown",
   "id": "ae54a7b0-f591-41d9-bd4e-d7bfc27ea6b4",
   "metadata": {},
   "source": [
    "## Dependencies"
   ]
  },
  {
   "cell_type": "code",
   "execution_count": 1,
   "id": "3475c9c3-7c1a-4483-9b0f-4ba274a7ad2c",
   "metadata": {},
   "outputs": [],
   "source": [
    "import pandas as pd\n",
    "import sqlalchemy as sql"
   ]
  },
  {
   "cell_type": "markdown",
   "id": "a445bfff-3cd9-4588-b3bf-6ac42ee5d651",
   "metadata": {},
   "source": [
    "## Main\n",
    "\n",
    "Create new trival local CSV file in path, and create an in-memory SQLite database."
   ]
  },
  {
   "cell_type": "code",
   "execution_count": 2,
   "id": "c2ed591c-0a4c-4ae6-8cae-895b851a5335",
   "metadata": {},
   "outputs": [],
   "source": [
    "(pd.DataFrame()\n",
    " .assign(\n",
    "     pk=[1, 2, 3],\n",
    "     user=['user1', 'user2', 'user3'],\n",
    "     join_date=['2001-01-01', '2002-02-02', '2003-03-03']\n",
    " )\n",
    " .to_csv('__cache\\\\club_users.csv')\n",
    ")\n",
    "engine = sql.create_engine('sqlite://', echo=False)"
   ]
  },
  {
   "cell_type": "markdown",
   "id": "13f41967-1cce-49e5-8a62-c2925a94a573",
   "metadata": {},
   "source": [
    "Write the CSV file to a table name *user*."
   ]
  },
  {
   "cell_type": "code",
   "execution_count": 3,
   "id": "f5f71dc2-9664-4639-90d7-2f2eede56fb0",
   "metadata": {},
   "outputs": [
    {
     "data": {
      "text/plain": [
       "3"
      ]
     },
     "execution_count": 3,
     "metadata": {},
     "output_type": "execute_result"
    }
   ],
   "source": [
    "(pd.read_csv('__cache\\\\club_users.csv')\n",
    " .to_sql('user', engine, if_exists='replace', index=False, chunksize=10000)\n",
    ")"
   ]
  },
  {
   "cell_type": "markdown",
   "id": "6160e2ca-627f-4183-bfcd-623eb5949de1",
   "metadata": {},
   "source": [
    "Confirm the new table's schema and content."
   ]
  },
  {
   "cell_type": "code",
   "execution_count": 4,
   "id": "3a75bbf9-b146-4077-92ba-39e8bbba4f67",
   "metadata": {},
   "outputs": [
    {
     "name": "stdout",
     "output_type": "stream",
     "text": [
      "<class 'pandas.core.frame.DataFrame'>\n",
      "RangeIndex: 3 entries, 0 to 2\n",
      "Data columns (total 4 columns):\n",
      " #   Column      Non-Null Count  Dtype \n",
      "---  ------      --------------  ----- \n",
      " 0   Unnamed: 0  3 non-null      int64 \n",
      " 1   pk          3 non-null      int64 \n",
      " 2   user        3 non-null      object\n",
      " 3   join_date   3 non-null      object\n",
      "dtypes: int64(2), object(2)\n",
      "memory usage: 224.0+ bytes\n"
     ]
    }
   ],
   "source": [
    "pd.read_sql('SELECT * FROM user', engine).info()"
   ]
  },
  {
   "cell_type": "code",
   "execution_count": 5,
   "id": "f4cbf474-39d0-4be5-81ce-e144616c65f2",
   "metadata": {},
   "outputs": [
    {
     "data": {
      "text/html": [
       "<div>\n",
       "<style scoped>\n",
       "    .dataframe tbody tr th:only-of-type {\n",
       "        vertical-align: middle;\n",
       "    }\n",
       "\n",
       "    .dataframe tbody tr th {\n",
       "        vertical-align: top;\n",
       "    }\n",
       "\n",
       "    .dataframe thead th {\n",
       "        text-align: right;\n",
       "    }\n",
       "</style>\n",
       "<table border=\"1\" class=\"dataframe\">\n",
       "  <thead>\n",
       "    <tr style=\"text-align: right;\">\n",
       "      <th></th>\n",
       "      <th>Unnamed: 0</th>\n",
       "      <th>pk</th>\n",
       "      <th>user</th>\n",
       "      <th>join_date</th>\n",
       "    </tr>\n",
       "  </thead>\n",
       "  <tbody>\n",
       "    <tr>\n",
       "      <th>0</th>\n",
       "      <td>0</td>\n",
       "      <td>1</td>\n",
       "      <td>user1</td>\n",
       "      <td>2001-01-01</td>\n",
       "    </tr>\n",
       "    <tr>\n",
       "      <th>1</th>\n",
       "      <td>1</td>\n",
       "      <td>2</td>\n",
       "      <td>user2</td>\n",
       "      <td>2002-02-02</td>\n",
       "    </tr>\n",
       "    <tr>\n",
       "      <th>2</th>\n",
       "      <td>2</td>\n",
       "      <td>3</td>\n",
       "      <td>user3</td>\n",
       "      <td>2003-03-03</td>\n",
       "    </tr>\n",
       "  </tbody>\n",
       "</table>\n",
       "</div>"
      ],
      "text/plain": [
       "   Unnamed: 0  pk   user   join_date\n",
       "0           0   1  user1  2001-01-01\n",
       "1           1   2  user2  2002-02-02\n",
       "2           2   3  user3  2003-03-03"
      ]
     },
     "execution_count": 5,
     "metadata": {},
     "output_type": "execute_result"
    }
   ],
   "source": [
    "pd.read_sql('SELECT * FROM user', engine)"
   ]
  },
  {
   "cell_type": "code",
   "execution_count": 6,
   "id": "cbac0134-9eee-4c63-815d-664ba9ef581a",
   "metadata": {},
   "outputs": [
    {
     "name": "stdout",
     "output_type": "stream",
     "text": [
      "sqlalchemy: 1.4.41\n",
      "pandas    : 1.5.0\n",
      "\n"
     ]
    }
   ],
   "source": [
    "%load_ext watermark\n",
    "%watermark --iv"
   ]
  }
 ],
 "metadata": {
  "kernelspec": {
   "display_name": "lr_datavis",
   "language": "python",
   "name": "lr_datavis"
  },
  "language_info": {
   "codemirror_mode": {
    "name": "ipython",
    "version": 3
   },
   "file_extension": ".py",
   "mimetype": "text/x-python",
   "name": "python",
   "nbconvert_exporter": "python",
   "pygments_lexer": "ipython3",
   "version": "3.10.7"
  }
 },
 "nbformat": 4,
 "nbformat_minor": 5
}
