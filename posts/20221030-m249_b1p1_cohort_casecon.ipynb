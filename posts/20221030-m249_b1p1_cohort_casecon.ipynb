{
 "cells": [
  {
   "cell_type": "raw",
   "metadata": {},
   "source": [
    "---\n",
    "title: Analysing Cohort And Case-Control Studies\n",
    "date: 2022-10-30\n",
    "categories: [Statistics, M249]\n",
    "draft: false\n",
    "format:\n",
    "  html:\n",
    "    code-summary: Show the code\n",
    "---"
   ]
  },
  {
   "cell_type": "markdown",
   "metadata": {},
   "source": [
    "## Summary\n",
    "\n",
    "Perform an epidemiological analysis on the results of a cohort or case-control study with two or more categories of exposure using *statsmodels* and *scipy*.\n",
    "\n",
    "There are two main questions addressed in this notebook.\n",
    "\n",
    "1. How do we ensure the instance of `Table2x2` from *statsmodels* initialises correctly?\n",
    "1. How do we handle cases where there are multiple exposures?\n",
    "\n",
    "Both of these questions are solved by defining three functions that will handle the transfromation and initialisation of the needed data structures.\n",
    "They aren't particularly interesting functions, so we don't discuss them beyond noting what the arguments expect.\n",
    "\n",
    "We then show two worked examples, the first involving a cohort study with two exposures, and the second a case-control study with three exposures.\n",
    "This is a recipe book rather than a theoretical overview, so we don't discuss the theory or interpretation of the results."
   ]
  },
  {
   "cell_type": "markdown",
   "metadata": {
    "jp-MarkdownHeadingCollapsed": true,
    "tags": []
   },
   "source": [
    "## Dependencies"
   ]
  },
  {
   "cell_type": "code",
   "execution_count": 1,
   "metadata": {},
   "outputs": [],
   "source": [
    "from collections import defaultdict\n",
    "import pandas as pd\n",
    "from scipy import stats as st\n",
    "from statsmodels import api as sm\n",
    "import lrdataio"
   ]
  },
  {
   "cell_type": "code",
   "execution_count": 2,
   "metadata": {},
   "outputs": [
    {
     "name": "stdout",
     "output_type": "stream",
     "text": [
      "scipy      : 1.9.3\n",
      "statsmodels: 0.13.5\n",
      "lrdataio   : 0.3.0\n",
      "pandas     : 1.5.1\n",
      "\n"
     ]
    }
   ],
   "source": [
    "%load_ext watermark\n",
    "%watermark --iv"
   ]
  },
  {
   "cell_type": "code",
   "execution_count": 3,
   "metadata": {},
   "outputs": [
    {
     "data": {
      "text/plain": [
       "'%.6f'"
      ]
     },
     "execution_count": 3,
     "metadata": {},
     "output_type": "execute_result"
    }
   ],
   "source": [
    "%precision 6"
   ]
  },
  {
   "cell_type": "markdown",
   "metadata": {
    "jp-MarkdownHeadingCollapsed": true,
    "tags": []
   },
   "source": [
    "## Functions"
   ]
  },
  {
   "cell_type": "markdown",
   "metadata": {},
   "source": [
    "`mask(df: pd.DataFrame, exposure: list, outcome: str) -> pd.DataFrame`"
   ]
  },
  {
   "cell_type": "code",
   "execution_count": 4,
   "metadata": {},
   "outputs": [],
   "source": [
    "#| code-fold: true\n",
    "def mask(df, exposures, outcome) -> pd.DataFrame:\n",
    "    e_dict = defaultdict(lambda: 'not exposed')\n",
    "    for n, e in enumerate(exposures):\n",
    "        e_dict[e] = f'exposure{n+1}'\n",
    "    o_dict = defaultdict(lambda: 'no disease')\n",
    "    o_dict[outcome] = 'disease'\n",
    "    return (\n",
    "        pd.DataFrame()\n",
    "        .assign(n=df['n'],\n",
    "                exposure=df['exposure'].map(lambda s: e_dict[s]),\n",
    "                outcome=df['outcome'].map(lambda s: o_dict[s]))\n",
    "        .pivot_table('n', 'exposure', 'outcome')\n",
    "    )"
   ]
  },
  {
   "cell_type": "markdown",
   "metadata": {},
   "source": [
    "Return a masked `DataFrame`, where the exposures and outcomes columns are relabelled with generic labels.\n",
    "\n",
    "Pre-conditions:\n",
    "\n",
    "- *df* has three columns\n",
    "   - 'n', `int`, the number of observations\n",
    "   - 'exposures', `str`, the exposure category\n",
    "   - 'outcomes', `str`, the outcome\n",
    "- *exposure* is a list of the exposures, sans the reference exposure\n",
    "- *outcome* is the label representing a positive outcome, either the disease or the case"
   ]
  },
  {
   "cell_type": "markdown",
   "metadata": {},
   "source": [
    "`collect_table2x2s(df: pd.DataFrame, exposure: list, outcome: str) -> dict[str, sm.Table2x2]`"
   ]
  },
  {
   "cell_type": "code",
   "execution_count": 5,
   "metadata": {},
   "outputs": [],
   "source": [
    "#| code-fold: true\n",
    "def collect_tables(df, exposures, outcome) -> dict[str, pd.DataFrame]:\n",
    "    masked_df = df.pipe(mask, exposures, outcome)\n",
    "    es = [f'exposure{n+1}' for n, e in enumerate(exposures)]\n",
    "\n",
    "    def filter_exposure(e): return (\n",
    "        masked_df\n",
    "        .query('exposure in [@e, \"not exposed\"]')\n",
    "        .to_numpy()\n",
    "    )\n",
    "\n",
    "    return {e: sm.stats.Table2x2(filter_exposure(e)) for e in es}"
   ]
  },
  {
   "cell_type": "markdown",
   "metadata": {},
   "source": [
    "Return a dictionary that maps each exposure to an instance of `Table2x2`.\n",
    "The exposure labels are replaced by the generic labels in the mapping.\n",
    "\n",
    "Pre-conditions:\n",
    "\n",
    "- *df* has three columns\n",
    "   - 'n', `int`, the number of observations\n",
    "   - 'exposures', `str`, the exposure category\n",
    "   - 'outcomes', `str`, the outcome\n",
    "- *exposure* is a list of the exposures, sans the reference exposure\n",
    "- *outcome* is the label representing a positive outcome, either the disease or the case"
   ]
  },
  {
   "cell_type": "markdown",
   "metadata": {},
   "source": [
    "`make_table(df: pd.DataFrame, exposure: list, outcome: str) -> sm.stats.Table`"
   ]
  },
  {
   "cell_type": "code",
   "execution_count": 6,
   "metadata": {},
   "outputs": [],
   "source": [
    "#| code-fold: true\n",
    "def make_table(df, exposures, outcome) -> sm.stats.Table:\n",
    "    arr = (\n",
    "        df\n",
    "        .pipe(mask, exposures, outcome)\n",
    "        .to_numpy()\n",
    "    )\n",
    "\n",
    "    return sm.stats.Table(arr)"
   ]
  },
  {
   "cell_type": "markdown",
   "metadata": {},
   "source": [
    "Return an instance of *statsmodels* table.\n",
    "\n",
    "The returned `Table` is ordered exposure1, exposure2, ..., no exposure, where expsoure1, exposure2, ..., are the items of *exposure*.\n",
    "\n",
    "- *df* has three columns\n",
    "   - 'n', `int`, the number of observations\n",
    "   - 'exposures', `str`, the exposure category\n",
    "   - 'outcomes', `str`, the outcome\n",
    "- *exposure* is a list of the exposures, sans the reference exposure\n",
    "- *outcome* is the label representing a positive outcome, either the disease or the case"
   ]
  },
  {
   "cell_type": "markdown",
   "metadata": {
    "tags": []
   },
   "source": [
    "## Two exposures\n",
    "\n",
    "The data for this worked example is taken from a cohort study that investigated the association compulsory redundancy (the exposure), and incidences of serious self-harm.\n",
    "(Van Keefe *et al*, 2002.)\n",
    "\n",
    "The background of the study is...\n",
    "\n",
    "> *The association between unemployment and poor health outcomes is well documented.*\n",
    "*Significant debate exists as to whether unemployment causes ill health or whether those with poor health find it harder to obtain and maintain employment.*\n",
    "*Factory closure studies are well placed to comment on causation.*\n",
    "*The objective of this study was to investigate associations between involuntary job loss, mortality and serious illness.*"
   ]
  },
  {
   "cell_type": "markdown",
   "metadata": {
    "jp-MarkdownHeadingCollapsed": true,
    "tags": [],
    "toc-hr-collapsed": true
   },
   "source": [
    "### Setup"
   ]
  },
  {
   "cell_type": "markdown",
   "metadata": {},
   "source": [
    "Cache and load the results into a `DataFrame`."
   ]
  },
  {
   "cell_type": "code",
   "execution_count": 7,
   "metadata": {},
   "outputs": [
    {
     "name": "stdout",
     "output_type": "stream",
     "text": [
      "<class 'pandas.core.frame.DataFrame'>\n",
      "RangeIndex: 4 entries, 0 to 3\n",
      "Data columns (total 3 columns):\n",
      " #   Column    Non-Null Count  Dtype \n",
      "---  ------    --------------  ----- \n",
      " 0   n         4 non-null      int64 \n",
      " 1   exposure  4 non-null      object\n",
      " 2   outcome   4 non-null      object\n",
      "dtypes: int64(1), object(2)\n",
      "memory usage: 224.0+ bytes\n"
     ]
    }
   ],
   "source": [
    "_temp_path = lrdataio.cache_url('https://raw.githubusercontent.com/ljk233/laughingrook-datasets/main/m249/medical/redundancy_ssi.csv')  # noqa\n",
    "redundancy_df = pd.read_csv(_temp_path)\n",
    "redundancy_df.info()"
   ]
  },
  {
   "cell_type": "code",
   "execution_count": 8,
   "metadata": {},
   "outputs": [
    {
     "data": {
      "text/html": [
       "<div>\n",
       "<style scoped>\n",
       "    .dataframe tbody tr th:only-of-type {\n",
       "        vertical-align: middle;\n",
       "    }\n",
       "\n",
       "    .dataframe tbody tr th {\n",
       "        vertical-align: top;\n",
       "    }\n",
       "\n",
       "    .dataframe thead th {\n",
       "        text-align: right;\n",
       "    }\n",
       "</style>\n",
       "<table border=\"1\" class=\"dataframe\">\n",
       "  <thead>\n",
       "    <tr style=\"text-align: right;\">\n",
       "      <th></th>\n",
       "      <th>n</th>\n",
       "      <th>exposure</th>\n",
       "      <th>outcome</th>\n",
       "    </tr>\n",
       "  </thead>\n",
       "  <tbody>\n",
       "    <tr>\n",
       "      <th>0</th>\n",
       "      <td>14</td>\n",
       "      <td>redundant</td>\n",
       "      <td>ssi</td>\n",
       "    </tr>\n",
       "    <tr>\n",
       "      <th>1</th>\n",
       "      <td>1931</td>\n",
       "      <td>redundant</td>\n",
       "      <td>no ssi</td>\n",
       "    </tr>\n",
       "    <tr>\n",
       "      <th>2</th>\n",
       "      <td>4</td>\n",
       "      <td>not redundant</td>\n",
       "      <td>ssi</td>\n",
       "    </tr>\n",
       "    <tr>\n",
       "      <th>3</th>\n",
       "      <td>1763</td>\n",
       "      <td>not redundant</td>\n",
       "      <td>no ssi</td>\n",
       "    </tr>\n",
       "  </tbody>\n",
       "</table>\n",
       "</div>"
      ],
      "text/plain": [
       "      n       exposure outcome\n",
       "0    14      redundant     ssi\n",
       "1  1931      redundant  no ssi\n",
       "2     4  not redundant     ssi\n",
       "3  1763  not redundant  no ssi"
      ]
     },
     "execution_count": 8,
     "metadata": {},
     "output_type": "execute_result"
    }
   ],
   "source": [
    "redundancy_df"
   ]
  },
  {
   "cell_type": "markdown",
   "metadata": {},
   "source": [
    "Use the `collect_table2x2s` function to collect the instances of `Table2x2` as a `dict`, where each item in the `dict` maps an exposure to an instance of `Table2x2`.\n",
    "\n",
    "Given there are only two exposures here, there will be only be a single item in the returned `dict`.\n",
    "We therefore bypass the `dict` and directly assign the item to a variable."
   ]
  },
  {
   "cell_type": "code",
   "execution_count": 9,
   "metadata": {},
   "outputs": [],
   "source": [
    "_exposures = ['redundant']  # exposure list\n",
    "_outcome = 'ssi'\n",
    "redundancy_table = (\n",
    "    redundancy_df\n",
    "    .pipe(collect_tables, _exposures, _outcome)\n",
    "    ['exposure1']\n",
    ")"
   ]
  },
  {
   "cell_type": "markdown",
   "metadata": {},
   "source": [
    "Output the table to ensure they have initialised successfully."
   ]
  },
  {
   "cell_type": "code",
   "execution_count": 10,
   "metadata": {},
   "outputs": [
    {
     "name": "stdout",
     "output_type": "stream",
     "text": [
      "A 2x2 contingency table with counts:\n",
      "[[  14. 1931.]\n",
      " [   4. 1763.]]\n"
     ]
    }
   ],
   "source": [
    "print(redundancy_table)"
   ]
  },
  {
   "cell_type": "markdown",
   "metadata": {
    "tags": [],
    "toc-hr-collapsed": true
   },
   "source": [
    "### Measures of association"
   ]
  },
  {
   "cell_type": "markdown",
   "metadata": {},
   "source": [
    "Output a summary table of the measures of association.\n",
    "\n",
    ":::{.callout-note}\n",
    "If you coming here from **M249**, then we are only interested in the Odds ratio and Risk ratio rows.\n",
    "Also, the risk ratio is the *relative risk*.\n",
    ":::"
   ]
  },
  {
   "cell_type": "code",
   "execution_count": 11,
   "metadata": {},
   "outputs": [
    {
     "data": {
      "text/html": [
       "<table class=\"simpletable\">\n",
       "<tr>\n",
       "         <td></td>        <th>Estimate</th>  <th>SE</th>    <th>LCB</th>   <th>UCB</th>  <th>p-value</th>\n",
       "</tr>\n",
       "<tr>\n",
       "  <th>Odds ratio</th>        <td>3.195</td>      <td></td> <td>1.050</td> <td>9.726</td>   <td>0.041</td>\n",
       "</tr>\n",
       "<tr>\n",
       "  <th>Log odds ratio</th>    <td>1.162</td> <td>0.568</td> <td>0.049</td> <td>2.275</td>   <td>0.041</td>\n",
       "</tr>\n",
       "<tr>\n",
       "  <th>Risk ratio</th>        <td>3.180</td>      <td></td> <td>1.049</td> <td>9.642</td>   <td>0.041</td>\n",
       "</tr>\n",
       "<tr>\n",
       "  <th>Log risk ratio</th>    <td>1.157</td> <td>0.566</td> <td>0.047</td> <td>2.266</td>   <td>0.041</td>\n",
       "</tr>\n",
       "</table>"
      ],
      "text/plain": [
       "<class 'statsmodels.iolib.table.SimpleTable'>"
      ]
     },
     "execution_count": 11,
     "metadata": {},
     "output_type": "execute_result"
    }
   ],
   "source": [
    "redundancy_table.summary()"
   ]
  },
  {
   "cell_type": "markdown",
   "metadata": {
    "jp-MarkdownHeadingCollapsed": true,
    "tags": [],
    "toc-hr-collapsed": true
   },
   "source": [
    "### Tests for no association"
   ]
  },
  {
   "cell_type": "markdown",
   "metadata": {
    "jp-MarkdownHeadingCollapsed": true,
    "tags": []
   },
   "source": [
    "#### Chi-squared test"
   ]
  },
  {
   "cell_type": "markdown",
   "metadata": {},
   "source": [
    "Expected frequencies under the null hypothesis of no association."
   ]
  },
  {
   "cell_type": "code",
   "execution_count": 12,
   "metadata": {},
   "outputs": [
    {
     "data": {
      "text/plain": [
       "array([[   9.431573, 1935.568427],\n",
       "       [   8.568427, 1758.431573]])"
      ]
     },
     "execution_count": 12,
     "metadata": {},
     "output_type": "execute_result"
    }
   ],
   "source": [
    "redundancy_table.fittedvalues"
   ]
  },
  {
   "cell_type": "markdown",
   "metadata": {},
   "source": [
    "Differences between the observed and expected frequencies."
   ]
  },
  {
   "cell_type": "code",
   "execution_count": 13,
   "metadata": {},
   "outputs": [
    {
     "data": {
      "text/plain": [
       "array([[ 4.568427, -4.568427],\n",
       "       [-4.568427,  4.568427]])"
      ]
     },
     "execution_count": 13,
     "metadata": {},
     "output_type": "execute_result"
    }
   ],
   "source": [
    "redundancy_table.table - redundancy_table.fittedvalues"
   ]
  },
  {
   "cell_type": "markdown",
   "metadata": {},
   "source": [
    "Contributions to the chi-squared test statistic."
   ]
  },
  {
   "cell_type": "code",
   "execution_count": 14,
   "metadata": {},
   "outputs": [
    {
     "data": {
      "text/plain": [
       "array([[2.212836, 0.010783],\n",
       "       [2.435747, 0.011869]])"
      ]
     },
     "execution_count": 14,
     "metadata": {},
     "output_type": "execute_result"
    }
   ],
   "source": [
    "redundancy_table.chi2_contribs"
   ]
  },
  {
   "cell_type": "markdown",
   "metadata": {},
   "source": [
    "Chi-squared test result."
   ]
  },
  {
   "cell_type": "code",
   "execution_count": 15,
   "metadata": {},
   "outputs": [
    {
     "name": "stdout",
     "output_type": "stream",
     "text": [
      "df          1\n",
      "pvalue      0.030671871146104812\n",
      "statistic   4.671234588585282\n"
     ]
    }
   ],
   "source": [
    "print(redundancy_table.test_nominal_association())"
   ]
  },
  {
   "cell_type": "markdown",
   "metadata": {
    "jp-MarkdownHeadingCollapsed": true,
    "tags": []
   },
   "source": [
    "#### Fisher's exact test\n",
    "\n",
    ":::{.callout-note}\n",
    "There is no implementation of Fisher's exact test is *statsmodels*, so we use *scipy* implementation.\n",
    ":::"
   ]
  },
  {
   "cell_type": "code",
   "execution_count": 16,
   "metadata": {},
   "outputs": [
    {
     "data": {
      "text/plain": [
       "pvalue    0.033877\n",
       "Name: fishers exact, dtype: float64"
      ]
     },
     "execution_count": 16,
     "metadata": {},
     "output_type": "execute_result"
    }
   ],
   "source": [
    "pd.Series(\n",
    "    data=st.fisher_exact(redundancy_table.table)[1],\n",
    "    index=['pvalue'],\n",
    "    name='fisher''s exact'\n",
    ")"
   ]
  },
  {
   "cell_type": "markdown",
   "metadata": {
    "tags": []
   },
   "source": [
    "## Three or more exposures\n",
    "\n",
    "Data are taken from a cohort study that investigated the association the duration of the pregnancy (the exposure), and incidences of early childhood asthma.\n",
    "(Yuan *et al*, 2002.)\n",
    "\n",
    "The background of the study is...\n",
    "\n",
    "> *Childhood asthma may have a fetal origin.*\n",
    "*In order to examine this hypothesis we examined the association between fetal growth indicators and hospitalization with asthma during early childhood.*"
   ]
  },
  {
   "cell_type": "markdown",
   "metadata": {
    "tags": [],
    "toc-hr-collapsed": true
   },
   "source": [
    "### Setup"
   ]
  },
  {
   "cell_type": "markdown",
   "metadata": {},
   "source": [
    "Cache and load the results into a `DataFrame`."
   ]
  },
  {
   "cell_type": "code",
   "execution_count": 17,
   "metadata": {},
   "outputs": [
    {
     "name": "stdout",
     "output_type": "stream",
     "text": [
      "<class 'pandas.core.frame.DataFrame'>\n",
      "RangeIndex: 6 entries, 0 to 5\n",
      "Data columns (total 3 columns):\n",
      " #   Column    Non-Null Count  Dtype \n",
      "---  ------    --------------  ----- \n",
      " 0   n         6 non-null      int64 \n",
      " 1   exposure  6 non-null      object\n",
      " 2   outcome   6 non-null      object\n",
      "dtypes: int64(1), object(2)\n",
      "memory usage: 272.0+ bytes\n"
     ]
    }
   ],
   "source": [
    "_temp_path = lrdataio.cache_url('https://raw.githubusercontent.com/ljk233/laughingrook-datasets/main/m249/medical/asthmagest.csv')  # noqa\n",
    "asthma_df = pd.read_csv(_temp_path)\n",
    "asthma_df.info()"
   ]
  },
  {
   "cell_type": "code",
   "execution_count": 18,
   "metadata": {},
   "outputs": [
    {
     "data": {
      "text/html": [
       "<div>\n",
       "<style scoped>\n",
       "    .dataframe tbody tr th:only-of-type {\n",
       "        vertical-align: middle;\n",
       "    }\n",
       "\n",
       "    .dataframe tbody tr th {\n",
       "        vertical-align: top;\n",
       "    }\n",
       "\n",
       "    .dataframe thead th {\n",
       "        text-align: right;\n",
       "    }\n",
       "</style>\n",
       "<table border=\"1\" class=\"dataframe\">\n",
       "  <thead>\n",
       "    <tr style=\"text-align: right;\">\n",
       "      <th></th>\n",
       "      <th>n</th>\n",
       "      <th>exposure</th>\n",
       "      <th>outcome</th>\n",
       "    </tr>\n",
       "  </thead>\n",
       "  <tbody>\n",
       "    <tr>\n",
       "      <th>0</th>\n",
       "      <td>18</td>\n",
       "      <td>pre-term</td>\n",
       "      <td>hospitalised</td>\n",
       "    </tr>\n",
       "    <tr>\n",
       "      <th>1</th>\n",
       "      <td>266</td>\n",
       "      <td>pre-term</td>\n",
       "      <td>not hospitalised</td>\n",
       "    </tr>\n",
       "    <tr>\n",
       "      <th>2</th>\n",
       "      <td>402</td>\n",
       "      <td>term</td>\n",
       "      <td>hospitalised</td>\n",
       "    </tr>\n",
       "    <tr>\n",
       "      <th>3</th>\n",
       "      <td>8565</td>\n",
       "      <td>term</td>\n",
       "      <td>not hospitalised</td>\n",
       "    </tr>\n",
       "    <tr>\n",
       "      <th>4</th>\n",
       "      <td>45</td>\n",
       "      <td>post-term</td>\n",
       "      <td>hospitalised</td>\n",
       "    </tr>\n",
       "    <tr>\n",
       "      <th>5</th>\n",
       "      <td>1100</td>\n",
       "      <td>post-term</td>\n",
       "      <td>not hospitalised</td>\n",
       "    </tr>\n",
       "  </tbody>\n",
       "</table>\n",
       "</div>"
      ],
      "text/plain": [
       "      n   exposure           outcome\n",
       "0    18   pre-term      hospitalised\n",
       "1   266   pre-term  not hospitalised\n",
       "2   402       term      hospitalised\n",
       "3  8565       term  not hospitalised\n",
       "4    45  post-term      hospitalised\n",
       "5  1100  post-term  not hospitalised"
      ]
     },
     "execution_count": 18,
     "metadata": {},
     "output_type": "execute_result"
    }
   ],
   "source": [
    "asthma_df"
   ]
  },
  {
   "cell_type": "markdown",
   "metadata": {},
   "source": [
    "Use the `collect_tables2x2s` function to collect the instances of `Table2x2` as a `dict`.\n",
    "\n",
    "We take the 'term' exposure to be the reference exposure, so we do not add it to the exposures list."
   ]
  },
  {
   "cell_type": "code",
   "execution_count": 19,
   "metadata": {},
   "outputs": [],
   "source": [
    "_exposures = ['pre-term', 'post-term']  # exposure list\n",
    "_outcome = 'hospitalised'\n",
    "asthma_tables = asthma_df.pipe(collect_tables, _exposures, _outcome)"
   ]
  },
  {
   "cell_type": "markdown",
   "metadata": {},
   "source": [
    "Output the tables to ensure they have initialised successfully."
   ]
  },
  {
   "cell_type": "code",
   "execution_count": 20,
   "metadata": {},
   "outputs": [
    {
     "name": "stdout",
     "output_type": "stream",
     "text": [
      "exposure=exposure1\n",
      "A 2x2 contingency table with counts:\n",
      "[[  18.  266.]\n",
      " [ 402. 8565.]] \n",
      "\n",
      "exposure=exposure2\n",
      "A 2x2 contingency table with counts:\n",
      "[[  45. 1100.]\n",
      " [ 402. 8565.]] \n",
      "\n"
     ]
    }
   ],
   "source": [
    "for e, t in asthma_tables.items():\n",
    "    print(f'exposure={e}')\n",
    "    print(t, '\\n')"
   ]
  },
  {
   "cell_type": "markdown",
   "metadata": {
    "tags": [],
    "toc-hr-collapsed": true
   },
   "source": [
    "### Measures of association"
   ]
  },
  {
   "cell_type": "markdown",
   "metadata": {},
   "source": [
    "Output two summary tables, one for each exposure.\n",
    "\n",
    ":::{.callout-note}\n",
    "This is a case-control study, so only the Odds ratio is relevant.\n",
    ":::"
   ]
  },
  {
   "cell_type": "code",
   "execution_count": 21,
   "metadata": {},
   "outputs": [
    {
     "name": "stdout",
     "output_type": "stream",
     "text": [
      "exposure=exposure1\n",
      "               Estimate   SE   LCB    UCB  p-value\n",
      "--------------------------------------------------\n",
      "Odds ratio        1.442        0.885 2.348   0.141\n",
      "Log odds ratio    0.366 0.249 -0.122 0.854   0.141\n",
      "Risk ratio        1.414        0.895 2.233   0.138\n",
      "Log risk ratio    0.346 0.233 -0.111 0.803   0.138\n",
      "-------------------------------------------------- \n",
      "\n",
      "exposure=exposure2\n",
      "               Estimate   SE   LCB    UCB  p-value\n",
      "--------------------------------------------------\n",
      "Odds ratio        0.872        0.636 1.194   0.392\n",
      "Log odds ratio   -0.137 0.160 -0.452 0.177   0.392\n",
      "Risk ratio        0.877        0.648 1.186   0.393\n",
      "Log risk ratio   -0.132 0.154 -0.434 0.170   0.393\n",
      "-------------------------------------------------- \n",
      "\n"
     ]
    }
   ],
   "source": [
    "for e, t in asthma_tables.items():\n",
    "    print(f'exposure={e}')\n",
    "    print(t.summary(), '\\n')"
   ]
  },
  {
   "cell_type": "markdown",
   "metadata": {
    "tags": [],
    "toc-hr-collapsed": true
   },
   "source": [
    "### Tests for no association"
   ]
  },
  {
   "cell_type": "markdown",
   "metadata": {
    "tags": []
   },
   "source": [
    "#### Chi-squared test\n",
    "\n",
    "Initialise the instance of `Table`."
   ]
  },
  {
   "cell_type": "code",
   "execution_count": 22,
   "metadata": {},
   "outputs": [],
   "source": [
    "_exposures = ['pre-term', 'post-term']  # exposure list\n",
    "_outcome = 'hospitalised'\n",
    "asthma_table = asthma_df.pipe(make_table, _exposures, _outcome)"
   ]
  },
  {
   "cell_type": "markdown",
   "metadata": {},
   "source": [
    "Output the table to ensure they have initialised successfully.\n",
    "\n",
    ":::{.callout-note}\n",
    "The rows are ordered: pre-term, post-term, term, and columns are ordered hospitalised, not hospitalised.\n",
    ":::"
   ]
  },
  {
   "cell_type": "code",
   "execution_count": 23,
   "metadata": {},
   "outputs": [
    {
     "name": "stdout",
     "output_type": "stream",
     "text": [
      "A 3x2 contingency table with counts:\n",
      "[[  18.  266.]\n",
      " [  45. 1100.]\n",
      " [ 402. 8565.]]\n"
     ]
    }
   ],
   "source": [
    "print(asthma_table)"
   ]
  },
  {
   "cell_type": "markdown",
   "metadata": {},
   "source": [
    "Expected frequencies under the null hypothesis of no association."
   ]
  },
  {
   "cell_type": "code",
   "execution_count": 24,
   "metadata": {},
   "outputs": [
    {
     "data": {
      "text/plain": [
       "array([[  12.702963,  271.297037],\n",
       "       [  51.214409, 1093.785591],\n",
       "       [ 401.082628, 8565.917372]])"
      ]
     },
     "execution_count": 24,
     "metadata": {},
     "output_type": "execute_result"
    }
   ],
   "source": [
    "asthma_table.fittedvalues"
   ]
  },
  {
   "cell_type": "markdown",
   "metadata": {},
   "source": [
    "Differences between the observed and expected frequencies."
   ]
  },
  {
   "cell_type": "code",
   "execution_count": 25,
   "metadata": {},
   "outputs": [
    {
     "data": {
      "text/plain": [
       "array([[ 5.297037, -5.297037],\n",
       "       [-6.214409,  6.214409],\n",
       "       [ 0.917372, -0.917372]])"
      ]
     },
     "execution_count": 25,
     "metadata": {},
     "output_type": "execute_result"
    }
   ],
   "source": [
    "asthma_table.table - asthma_table.fittedvalues"
   ]
  },
  {
   "cell_type": "markdown",
   "metadata": {},
   "source": [
    "Contributions to the chi-squared test statistic."
   ]
  },
  {
   "cell_type": "code",
   "execution_count": 26,
   "metadata": {},
   "outputs": [
    {
     "data": {
      "text/plain": [
       "array([[2.208824e+00, 1.034239e-01],\n",
       "       [7.540629e-01, 3.530755e-02],\n",
       "       [2.098250e-03, 9.824651e-05]])"
      ]
     },
     "execution_count": 26,
     "metadata": {},
     "output_type": "execute_result"
    }
   ],
   "source": [
    "asthma_table.chi2_contribs"
   ]
  },
  {
   "cell_type": "markdown",
   "metadata": {},
   "source": [
    "Chi-squared test result."
   ]
  },
  {
   "cell_type": "code",
   "execution_count": 27,
   "metadata": {},
   "outputs": [
    {
     "name": "stdout",
     "output_type": "stream",
     "text": [
      "df          2\n",
      "pvalue      0.21184355211692685\n",
      "statistic   3.1038144769010287\n"
     ]
    }
   ],
   "source": [
    "print(asthma_table.test_nominal_association())"
   ]
  },
  {
   "cell_type": "markdown",
   "metadata": {},
   "source": [
    "## References\n",
    "\n",
    "Keefe V, Reid P, Ormsby C, et al. Serious health events following involuntary job loss in New Zealand meat processing workers. Int J Epidemiol. 2002;31(6):1155-1161\n",
    "doi:10.1093/ije/31.6.1155\n",
    "\n",
    "Yuan W, Basso O, Sorensen HT, Olsen J. Fetal growth and hospitalization with asthma during early childhood: a follow-up study in Denmark. Int J Epidemiol. 2002;31(6):1240-1245.\n",
    "doi:10.1093/ije/31.6.1240"
   ]
  }
 ],
 "metadata": {
  "kernelspec": {
   "display_name": "lr_stats",
   "language": "python",
   "name": "lr_stats"
  },
  "language_info": {
   "codemirror_mode": {
    "name": "ipython",
    "version": 3
   },
   "file_extension": ".py",
   "mimetype": "text/x-python",
   "name": "python",
   "nbconvert_exporter": "python",
   "pygments_lexer": "ipython3",
   "version": "3.10.7"
  },
  "toc-autonumbering": false,
  "toc-showcode": false,
  "toc-showtags": false,
  "vscode": {
   "interpreter": {
    "hash": "1f255b0907b4f1c138efb54996736946dba3a3dfe1a00c362b874b4f63d8edc0"
   }
  }
 },
 "nbformat": 4,
 "nbformat_minor": 4
}
