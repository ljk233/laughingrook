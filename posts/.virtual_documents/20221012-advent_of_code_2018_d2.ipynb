from collections import Counter
import itertools as it
import laughingrook as lr


data = lr.dataio.get_advent_input(2018, 2)
data[:5]


def checksum(boxes: list) -> int:
    box_counters = [Counter(box) for box in boxes]
    char_sets = [set(box_counter.values()) for box_counter in box_counters]
    char_counts = Counter([char_count for char_set in char_sets
                           for char_count in char_set])
    return char_counts[2] * char_counts[3]


print(f'Part 1 = {checksum(data)}')


def find_matching_pattern(boxes: list[str]):
    n_chars = len(boxes[0])
    for idx in range(len(boxes)):
        ibox = boxes[idx]
        for jbox in boxes[idx+1:]:
            common_chars = ''
            for ichar, jchar in zip(ibox, jbox):
                if ichar == jchar:
                    common_chars += ichar
            if len(common_chars) == n_chars - 1:
                return common_chars


print(f'Part 2 = {find_matching_pattern(data)}')
