{
 "cells": [
  {
   "cell_type": "raw",
   "metadata": {},
   "source": [
    "---\n",
    "title: Stack ADT\n",
    "author: LaughingRook\n",
    "date: 2022-05-26\n",
    "categories: [AbstractDataType]\n",
    "format:\n",
    "  html:\n",
    "    code-fold: false\n",
    "    code-tools: true\n",
    "---"
   ]
  },
  {
   "cell_type": "markdown",
   "metadata": {},
   "source": [
    "## Summary notes\n",
    "\n",
    "Implementation of the Stack ADT.\n",
    "\n",
    "A stack is....\n",
    "\n",
    "> *an ordered collection of items where the addition of new items and the removal of existing items always takes place at the same end.*\n",
    "> *This end is commonly referred to as the “top.”*\n",
    "> *The end opposite the top is known as the “base.”*\n",
    ">\n",
    "> *The base of the stack is significant since items stored in the stack that are closer to the base represent those that have been in the stack the longest.*\n",
    "> *The most recently added item is the one that is in position to be removed first. This ordering principle is sometimes called LIFO, last-in first-out.*\n",
    "> *It provides an ordering based on length of time in the collection. Newer items are near the top, while older items are near the base.*\n",
    ">\n",
    "> [What is a Stack?](https://runestone.academy/ns/books/published/pythonds/BasicDS/WhatisaStack.html) (Problem Solving with Algorithms and Data Structures using Python)\n",
    "\n",
    "The Stack ADT....\n",
    "\n",
    "| operation  | description                           | signature                 |\n",
    "| ---------- | ------------------------------------- | ------------------------- |\n",
    "| *new*      | Initialise an empty stack             | `Stack()`                 |\n",
    "| *is empty* | Return if the stack contains no items | `is_empty() -> bool`      |\n",
    "| *push*     | Add `x` to the top of the stack       | `push(x: object) -> None` |\n",
    "| *peek*     | Return the top item of the stack       | `peek() -> object`       |\n",
    "| *pop*      | Remove the top item from the stack    | `pop() -> None`           |"
   ]
  },
  {
   "cell_type": "markdown",
   "metadata": {},
   "source": [
    "## Class"
   ]
  },
  {
   "cell_type": "code",
   "execution_count": 1,
   "metadata": {},
   "outputs": [],
   "source": [
    "class Stack:\n",
    "    \"\"\"Implementation of the Stack ADT using a Python list.\n",
    "\n",
    "    The underlying data structure is a list.\n",
    "    \"\"\"\n",
    "    def __init__(self):\n",
    "        \"\"\"Initialise an empty stack.\n",
    "        \"\"\"\n",
    "        self.items: list[object] = []\n",
    "\n",
    "    def is_empty(self) -> bool:\n",
    "        \"\"\"Return true if the stack is empty, otherwise false.\n",
    "        \"\"\"\n",
    "        return len(self.items) == 0\n",
    "\n",
    "    def push(self, x: object) -> None:\n",
    "        \"\"\"Add x to the top of the stack.\n",
    "        \"\"\"\n",
    "        self.items.append(x)\n",
    "\n",
    "    def peek(self) -> object:\n",
    "        \"\"\"Return the top of the stack.\n",
    "\n",
    "        Preconditions:\n",
    "        - self is not empty.\n",
    "        \"\"\"\n",
    "        return self.items[-1]\n",
    "\n",
    "    def pop(self) -> None:\n",
    "        \"\"\"Remove the top of the stack.\n",
    "\n",
    "        Preconditions:\n",
    "        - self is not empty.\n",
    "        \"\"\"\n",
    "        self.items.pop()\n",
    "\n",
    "    def __str__(self) -> str:\n",
    "        return f\"stack({self.items})\""
   ]
  },
  {
   "cell_type": "markdown",
   "metadata": {},
   "source": [
    "## Example usage\n",
    "\n",
    "Initialise a new stack."
   ]
  },
  {
   "cell_type": "code",
   "execution_count": 2,
   "metadata": {},
   "outputs": [
    {
     "name": "stdout",
     "output_type": "stream",
     "text": [
      "s = stack([])\n"
     ]
    }
   ],
   "source": [
    "s = Stack()\n",
    "print(f\"s = {s}\")"
   ]
  },
  {
   "cell_type": "markdown",
   "metadata": {},
   "source": [
    "Populate a stack."
   ]
  },
  {
   "cell_type": "code",
   "execution_count": 3,
   "metadata": {},
   "outputs": [
    {
     "name": "stdout",
     "output_type": "stream",
     "text": [
      "push(s, 0)\n",
      "push(s, 1)\n",
      "push(s, 2)\n",
      "s = stack([0, 1, 2])\n"
     ]
    }
   ],
   "source": [
    "s = Stack()\n",
    "for x in range(3):\n",
    "    s.push(x)\n",
    "    print(f\"push(s, {x})\")\n",
    "print(f\"s = {s}\")"
   ]
  },
  {
   "cell_type": "markdown",
   "metadata": {},
   "source": [
    "Check if stack is empty."
   ]
  },
  {
   "cell_type": "code",
   "execution_count": 4,
   "metadata": {},
   "outputs": [
    {
     "name": "stdout",
     "output_type": "stream",
     "text": [
      "Pre-push: is empty(s) = True\n",
      "push(s, 0)...\n",
      "Post-push: is empty(s) = False\n"
     ]
    }
   ],
   "source": [
    "s = Stack()\n",
    "print(f\"Pre-push: is empty(s) = {s.is_empty()}\")\n",
    "print('push(s, 0)...')\n",
    "s.push(0)\n",
    "print(f\"Post-push: is empty(s) = {s.is_empty()}\")"
   ]
  },
  {
   "cell_type": "markdown",
   "metadata": {},
   "source": [
    "Peek at the top of the stack."
   ]
  },
  {
   "cell_type": "code",
   "execution_count": 5,
   "metadata": {},
   "outputs": [
    {
     "name": "stdout",
     "output_type": "stream",
     "text": [
      "peek(s) = 0\n"
     ]
    }
   ],
   "source": [
    "s = Stack()\n",
    "s.push(0)\n",
    "print(f\"peek(s) = {s.peek()}\")"
   ]
  },
  {
   "cell_type": "markdown",
   "metadata": {},
   "source": [
    "Empty the stack."
   ]
  },
  {
   "cell_type": "code",
   "execution_count": 6,
   "metadata": {},
   "outputs": [
    {
     "name": "stdout",
     "output_type": "stream",
     "text": [
      "Pre-populate: is empty(s) = True\n",
      "Populate the stack...\n",
      "  push(s, 0)\n",
      "  push(s, 1)\n",
      "  push(s, 2)\n",
      "Post-populate: is empty(s) = False\n",
      "***\n",
      "Empty the stack...\n",
      "  peek(s) = 2; pop(s)...\n",
      "  peek(s) = 1; pop(s)...\n",
      "  peek(s) = 0; pop(s)...\n",
      "Post-emptying: is empty(s) = True\n"
     ]
    }
   ],
   "source": [
    "s = Stack()\n",
    "print(f'Pre-populate: is empty(s) = {s.is_empty()}')\n",
    "print('Populate the stack...')\n",
    "for x in range(3):\n",
    "    s.push(x)\n",
    "    print(f\"  push(s, {x})\")\n",
    "print(f'Post-populate: is empty(s) = {s.is_empty()}')\n",
    "print('***')\n",
    "print('Empty the stack...')\n",
    "while not s.is_empty():\n",
    "    print(f'  peek(s) = {s.peek()}; pop(s)...')\n",
    "    s.pop()\n",
    "print(f'Post-emptying: is empty(s) = {s.is_empty()}')"
   ]
  }
 ],
 "metadata": {
  "kernelspec": {
   "display_name": "Python 3.10.4 ('laughingrook')",
   "language": "python",
   "name": "python3"
  },
  "language_info": {
   "codemirror_mode": {
    "name": "ipython",
    "version": 3
   },
   "file_extension": ".py",
   "mimetype": "text/x-python",
   "name": "python",
   "nbconvert_exporter": "python",
   "pygments_lexer": "ipython3",
   "version": "3.10.4"
  },
  "vscode": {
   "interpreter": {
    "hash": "a68adfb4704822cfa48b801e8085761e09ea1bdf6f9740ae22fa7c3a7495d3d0"
   }
  }
 },
 "nbformat": 4,
 "nbformat_minor": 4
}
