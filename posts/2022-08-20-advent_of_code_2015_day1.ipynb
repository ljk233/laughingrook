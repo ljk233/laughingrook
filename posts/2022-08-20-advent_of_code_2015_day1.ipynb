{
 "cells": [
  {
   "cell_type": "raw",
   "id": "b9969a53-35e3-49ce-b2cc-7c30a8dc7f0a",
   "metadata": {},
   "source": [
    "---\n",
    "title: Advent of Code 2015, Day 1\n",
    "author: LaughingRook\n",
    "date: 2022-08-20\n",
    "categories: [AdventOfCode]\n",
    "draft: false\n",
    "format:\n",
    "  html:\n",
    "    code-fold: false\n",
    "    code-tools: true\n",
    "---"
   ]
  },
  {
   "cell_type": "markdown",
   "id": "a3f5b9c6-8bc1-4bbf-b23a-452b4d93cafd",
   "metadata": {},
   "source": [
    "## Summary notes\n",
    "\n",
    "This is my solution to Advent of Code 2015, Day 1: *Not Quite Lisp*."
   ]
  },
  {
   "cell_type": "markdown",
   "id": "ec3862e7",
   "metadata": {},
   "source": [
    "## Dependencies"
   ]
  },
  {
   "cell_type": "code",
   "execution_count": 1,
   "id": "5ae2d97f",
   "metadata": {},
   "outputs": [],
   "source": [
    "from itertools import accumulate\n",
    "import laughingrook as lr"
   ]
  },
  {
   "cell_type": "markdown",
   "id": "2e92bfd9-63fc-4d05-9a94-c91f4e54490f",
   "metadata": {},
   "source": [
    "## Functions"
   ]
  },
  {
   "cell_type": "code",
   "execution_count": 2,
   "id": "d1d9e56a-6f67-4127-88ff-01a975ed4dc7",
   "metadata": {},
   "outputs": [],
   "source": [
    "def find_first(x, A) -> int:\n",
    "    \"\"\"Find the first index i where A[i] = x.\n",
    "\n",
    "    Precondtions:\n",
    "    - x in A\n",
    "    - A is 1-dimensional\n",
    "    - A support iteration\n",
    "    \"\"\"\n",
    "    return next(i for i, a in enumerate(A) if a == x)"
   ]
  },
  {
   "cell_type": "markdown",
   "id": "b2720366-f3fb-4ade-970b-3e98c2063c96",
   "metadata": {},
   "source": [
    "## Main"
   ]
  },
  {
   "cell_type": "markdown",
   "id": "316c8a99",
   "metadata": {},
   "source": [
    "### Load the input"
   ]
  },
  {
   "cell_type": "code",
   "execution_count": 3,
   "id": "57e812e4",
   "metadata": {},
   "outputs": [
    {
     "name": "stdout",
     "output_type": "stream",
     "text": [
      "line = '()((('\n"
     ]
    }
   ],
   "source": [
    "line = lr.datasets.get_advent_input(2015, 1)\n",
    "print(f\"line = '{line[:5]}'\")"
   ]
  },
  {
   "cell_type": "markdown",
   "id": "993d24d9-eb02-422c-93b4-16c29f2dbb0f",
   "metadata": {},
   "source": [
    "### Transform the input"
   ]
  },
  {
   "cell_type": "code",
   "execution_count": 4,
   "id": "546d4388-9178-4227-ba8a-8c6c6e9a3c15",
   "metadata": {},
   "outputs": [
    {
     "name": "stdout",
     "output_type": "stream",
     "text": [
      "directions = [1, -1, 1, 1, 1]\n"
     ]
    }
   ],
   "source": [
    "m = {'(': 1, ')': -1}\n",
    "directions = [m[bracket] for bracket in line]\n",
    "print(f\"directions = {directions[:5]}\")"
   ]
  },
  {
   "cell_type": "markdown",
   "id": "7ae61f5a-2a55-4c52-a4b3-51f8be1ef079",
   "metadata": {},
   "source": [
    "### Part 1"
   ]
  },
  {
   "cell_type": "code",
   "execution_count": 5,
   "id": "6a75c2a4",
   "metadata": {},
   "outputs": [
    {
     "name": "stdout",
     "output_type": "stream",
     "text": [
      "Solution = 138\n"
     ]
    }
   ],
   "source": [
    "print(f\"Solution = {sum(directions)}\")"
   ]
  },
  {
   "cell_type": "markdown",
   "id": "2efc596d",
   "metadata": {},
   "source": [
    "### Part 2"
   ]
  },
  {
   "cell_type": "code",
   "execution_count": 6,
   "id": "3ad290a8-cc6b-4b51-b6de-803a582e08e7",
   "metadata": {},
   "outputs": [
    {
     "name": "stdout",
     "output_type": "stream",
     "text": [
      "Solution = 1771\n"
     ]
    }
   ],
   "source": [
    "print(f\"Solution = {find_first(-1, accumulate(directions)) + 1}\")"
   ]
  },
  {
   "cell_type": "markdown",
   "id": "341869b5",
   "metadata": {},
   "source": [
    "### Performance"
   ]
  },
  {
   "cell_type": "code",
   "execution_count": 7,
   "id": "d781c69a",
   "metadata": {},
   "outputs": [
    {
     "name": "stdout",
     "output_type": "stream",
     "text": [
      "Part 1 =\n",
      "62.5 µs ± 1.03 µs per loop (mean ± std. dev. of 7 runs, 10,000 loops each)\n",
      "Part 2 =\n",
      "73.6 µs ± 468 ns per loop (mean ± std. dev. of 7 runs, 10,000 loops each)\n"
     ]
    }
   ],
   "source": [
    "print('Part 1 =')\n",
    "%timeit sum(directions)\n",
    "print('Part 2 =')\n",
    "%timeit find_first(-1, accumulate(directions)) + 1"
   ]
  }
 ],
 "metadata": {
  "kernelspec": {
   "display_name": "laughingrook",
   "language": "python",
   "name": "laughingrook"
  },
  "language_info": {
   "codemirror_mode": {
    "name": "ipython",
    "version": 3
   },
   "file_extension": ".py",
   "mimetype": "text/x-python",
   "name": "python",
   "nbconvert_exporter": "python",
   "pygments_lexer": "ipython3",
   "version": "3.10.4"
  }
 },
 "nbformat": 4,
 "nbformat_minor": 5
}
