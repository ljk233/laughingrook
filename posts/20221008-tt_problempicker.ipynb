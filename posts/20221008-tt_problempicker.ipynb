{
 "cells": [
  {
   "cell_type": "raw",
   "id": "13b2184c-7228-4ea7-9917-845318e54b26",
   "metadata": {},
   "source": [
    "---\n",
    "title: TidyTuesday Project Tracker\n",
    "date: 2022-10-08\n",
    "categories: [TidyTuesday, Recipe]\n",
    "draft: false\n",
    "---"
   ]
  },
  {
   "cell_type": "code",
   "execution_count": 1,
   "id": "8267c7e9-85ca-4e07-bdc6-a01180d1a066",
   "metadata": {},
   "outputs": [],
   "source": [
    "from random import randrange\n",
    "import datetime\n",
    "import pandas as pd\n",
    "from IPython.core.display import HTML"
   ]
  },
  {
   "cell_type": "markdown",
   "id": "933adff0-204c-4c73-918b-1fc021e356b9",
   "metadata": {},
   "source": [
    "## History"
   ]
  },
  {
   "cell_type": "code",
   "execution_count": 2,
   "id": "2b6869d4-9df0-4d2a-9c00-cdc1fe07c185",
   "metadata": {},
   "outputs": [
    {
     "data": {
      "text/html": [
       "<table border=\"1\" class=\"dataframe\">\n",
       "  <thead>\n",
       "    <tr style=\"text-align: right;\">\n",
       "      <th></th>\n",
       "      <th>project</th>\n",
       "      <th>initial date</th>\n",
       "      <th>selection date</th>\n",
       "      <th>status</th>\n",
       "      <th>source</th>\n",
       "    </tr>\n",
       "    <tr>\n",
       "      <th>#</th>\n",
       "      <th></th>\n",
       "      <th></th>\n",
       "      <th></th>\n",
       "      <th></th>\n",
       "      <th></th>\n",
       "    </tr>\n",
       "  </thead>\n",
       "  <tbody>\n",
       "    <tr>\n",
       "      <th>1</th>\n",
       "      <td>Transit costs</td>\n",
       "      <td>2021-01-05</td>\n",
       "      <td>2022-11-02</td>\n",
       "      <td>in draft</td>\n",
       "      <td><a href=\"https://github.com/rfordatascience/tidytuesday/tree/master/data/2021/2021-01-05\" target=\"_blank\">https://github.com/rfordatascience/tidytuesday/tree/master/data/2021/2021-01-05</a></td>\n",
       "    </tr>\n",
       "    <tr>\n",
       "      <th>2</th>\n",
       "      <td>National Park Visits</td>\n",
       "      <td>2019-09-17</td>\n",
       "      <td>2022-11-04</td>\n",
       "      <td>in backlog</td>\n",
       "      <td><a href=\"https://github.com/rfordatascience/tidytuesday/tree/master/data/2019/2019-09-17\" target=\"_blank\">https://github.com/rfordatascience/tidytuesday/tree/master/data/2019/2019-09-17</a></td>\n",
       "    </tr>\n",
       "    <tr>\n",
       "      <th>3</th>\n",
       "      <td>French Train stats</td>\n",
       "      <td>2019-02-26</td>\n",
       "      <td>2022-11-04</td>\n",
       "      <td>in draft</td>\n",
       "      <td><a href=\"https://github.com/rfordatascience/tidytuesday/tree/master/data/2019/2019-02-26\" target=\"_blank\">https://github.com/rfordatascience/tidytuesday/tree/master/data/2019/2019-02-26</a></td>\n",
       "    </tr>\n",
       "  </tbody>\n",
       "</table>"
      ],
      "text/plain": [
       "<IPython.core.display.HTML object>"
      ]
     },
     "execution_count": 2,
     "metadata": {},
     "output_type": "execute_result"
    }
   ],
   "source": [
    "#| code-fold: true\n",
    "tt_projects_df = pd.read_csv(\n",
    "    'https://raw.githubusercontent.com/ljk233/laughingrook-datasets/main/tidytuesday/project_tracker.csv',  # noqa\n",
    "    index_col=0,\n",
    "    parse_dates=[2, 3],\n",
    "    dayfirst=True\n",
    ")\n",
    "HTML(tt_projects_df.to_html(render_links=True, escape=False, ))"
   ]
  },
  {
   "cell_type": "markdown",
   "id": "2b8384f8-813f-4742-9ba9-0dc65d6b9837",
   "metadata": {},
   "source": [
    "## Project picker"
   ]
  },
  {
   "cell_type": "markdown",
   "id": "c36e77e9-3471-42db-b362-3c12a23c7564",
   "metadata": {},
   "source": [
    "A recipe to select a random a problem from the #tidytuesday back catalogue."
   ]
  },
  {
   "cell_type": "code",
   "execution_count": 4,
   "id": "3475c9c3-7c1a-4483-9b0f-4ba274a7ad2c",
   "metadata": {},
   "outputs": [
    {
     "name": "stdout",
     "output_type": "stream",
     "text": [
      "Selected project = 2022-05-10\n"
     ]
    }
   ],
   "source": [
    "# set the parameters\n",
    "start_date = datetime.date(2018, 4, 2)\n",
    "today = datetime.date.today()\n",
    "oneday = datetime.timedelta(days=1)\n",
    "\n",
    "# select the candidate day\n",
    "days_between_dates = (today - start_date).days\n",
    "random_number_of_days = randrange(days_between_dates)\n",
    "selected_day = start_date + datetime.timedelta(days=random_number_of_days)\n",
    "\n",
    "# find the previous tuesday\n",
    "while selected_day.isoweekday() != 2:\n",
    "    selected_day -= oneday\n",
    "\n",
    "print(f'Selected project = {selected_day}')"
   ]
  }
 ],
 "metadata": {
  "kernelspec": {
   "display_name": "lr_stats",
   "language": "python",
   "name": "lr_stats"
  },
  "language_info": {
   "codemirror_mode": {
    "name": "ipython",
    "version": 3
   },
   "file_extension": ".py",
   "mimetype": "text/x-python",
   "name": "python",
   "nbconvert_exporter": "python",
   "pygments_lexer": "ipython3",
   "version": "3.10.7"
  }
 },
 "nbformat": 4,
 "nbformat_minor": 5
}
