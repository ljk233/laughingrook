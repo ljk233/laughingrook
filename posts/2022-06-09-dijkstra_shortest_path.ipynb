{
 "cells": [
  {
   "cell_type": "raw",
   "id": "1b3cc508-f0ec-4b8f-81c9-aa5d744811b0",
   "metadata": {},
   "source": [
    "---\n",
    "title: Dijkstra’s Shortest Path\n",
    "author: LaughingRook\n",
    "date: 2022-06-09\n",
    "categories: [Algorithm]\n",
    "format:\n",
    "  html:\n",
    "    code-fold: false\n",
    "    code-tools: true\n",
    "---"
   ]
  },
  {
   "cell_type": "markdown",
   "id": "6f223ca2-26cc-4a99-8167-c8eed9658a94",
   "metadata": {},
   "source": [
    "## Summary notes\n",
    "\n",
    "Implement a function that will return the single shortest path between any two nodes in a graph.\n",
    "\n",
    "Dijkstra's shortest path solves:\n",
    "\n",
    "> *Given a graph and a source vertex in the graph, find the shortest paths from the source to all vertices in the given graph.*\n",
    ">\n",
    "> [Dijkstra’s shortest path algorithm | Greedy Algo-7](https://www.geeksforgeeks.org/dijkstras-shortest-path-algorithm-greedy-algo-7/) (GeeksForGeeks)\n",
    "\n",
    "We first implement the algorithm outlined in [Dijkstra's algorithm](https://en.wikipedia.org/wiki/Dijkstra%27s_algorithm) (Wikipedia).\n",
    "\n",
    "We then show two use cases:\n",
    "the first is an example on how to use the function;\n",
    "and the second shows how to collect all shortest paths from every city using dictionary comprehension."
   ]
  },
  {
   "cell_type": "markdown",
   "id": "33f5a82c-fe3d-4d71-8f8e-22a5afc14e91",
   "metadata": {},
   "source": [
    "## Dependencies"
   ]
  },
  {
   "cell_type": "code",
   "execution_count": 1,
   "id": "98b09c2b-1ba5-4044-8400-f5cfcffe0204",
   "metadata": {},
   "outputs": [],
   "source": [
    "import heapq\n",
    "from collections import defaultdict\n",
    "import math\n",
    "import networkx as nx\n",
    "import laughingrook as lr"
   ]
  },
  {
   "cell_type": "markdown",
   "id": "3f159a02-c220-4eea-960d-76c312911539",
   "metadata": {},
   "source": [
    "## Functions"
   ]
  },
  {
   "cell_type": "code",
   "execution_count": 2,
   "id": "4144822b-602b-4fc8-9b63-a47778b2ccbb",
   "metadata": {},
   "outputs": [],
   "source": [
    "def shortest_paths(g: nx.Graph, start: object) -> dict[dict]:\n",
    "    \"\"\"Return the single shortest path from start to all other nodes in\n",
    "    G.\n",
    "\n",
    "    This is an implementation of Dijkstra's algorithm.\n",
    "\n",
    "    Returns a dictionary with key=node, value={'dist', 'path'}.\n",
    "\n",
    "    Preconditions:\n",
    "    - start in G\n",
    "    - edge weights held in key='weight'\n",
    "    \"\"\"\n",
    "    visited = set()\n",
    "    dist = defaultdict(lambda: math.inf)\n",
    "    prev = defaultdict(list)\n",
    "    dist[start], prev[start] = 0, [start]\n",
    "    pq = [(0, start)]\n",
    "    while len(pq) >= 1:\n",
    "        _, u = heapq.heappop(pq)\n",
    "        if u not in visited:\n",
    "            visited.add(u)\n",
    "            for v in g.neighbors(u):\n",
    "                if dist[u] + g.edges[u, v]['weight'] < dist[v]:\n",
    "                    dist[v] = dist[u] + g.edges[u, v]['weight']\n",
    "                    prev[v] = prev[u] + [v]\n",
    "                    heapq.heappush(pq, (dist[v], v))\n",
    "\n",
    "    return {n: {'dist': dist[n], 'path': prev[n]} for n in g.nodes}"
   ]
  },
  {
   "cell_type": "code",
   "execution_count": 3,
   "id": "3a26b3a8",
   "metadata": {},
   "outputs": [],
   "source": [
    "def print_shortest_path(ssp, city):\n",
    "    \"\"\"Print the distance and shortest path from Cardiff to the given city.\n",
    "    \"\"\"\n",
    "    print(f\"Cardiff -> {city}:\\n{ssp[city]['dist']}mi {ssp[city]['path']}\")"
   ]
  },
  {
   "cell_type": "markdown",
   "id": "805d7200-cffb-41a0-888d-739da9515152",
   "metadata": {},
   "source": [
    "## Main\n",
    "\n",
    "We will use the \"The International E-road Network\" dataset[^1] for this example."
   ]
  },
  {
   "cell_type": "markdown",
   "id": "519d0e45",
   "metadata": {},
   "source": [
    "### Load the data"
   ]
  },
  {
   "cell_type": "code",
   "execution_count": 4,
   "id": "5b79a187",
   "metadata": {},
   "outputs": [
    {
     "name": "stdout",
     "output_type": "stream",
     "text": [
      "<class 'pandas.core.frame.DataFrame'>\n",
      "RangeIndex: 1250 entries, 0 to 1249\n",
      "Data columns (total 7 columns):\n",
      " #   Column                       Non-Null Count  Dtype \n",
      "---  ------                       --------------  ----- \n",
      " 0   road_number                  1250 non-null   object\n",
      " 1   origin_country_code          1250 non-null   object\n",
      " 2   origin_reference_place       1250 non-null   object\n",
      " 3   destination_country_code     1250 non-null   object\n",
      " 4   destination_reference_place  1250 non-null   object\n",
      " 5   distance                     1250 non-null   int64 \n",
      " 6   watercrossing                1250 non-null   bool  \n",
      "dtypes: bool(1), int64(1), object(5)\n",
      "memory usage: 59.9+ KB\n"
     ]
    }
   ],
   "source": [
    "eroads = lr.datasets.get_csv_file('graphs/eroads_edge_list.csv')\n",
    "eroads.info()"
   ]
  },
  {
   "cell_type": "markdown",
   "id": "696377b8",
   "metadata": {},
   "source": [
    "### Initialise the graph"
   ]
  },
  {
   "cell_type": "code",
   "execution_count": 5,
   "id": "75bd6d43-bdad-4894-b2f2-7c45bcdd0ed3",
   "metadata": {},
   "outputs": [
    {
     "name": "stdout",
     "output_type": "stream",
     "text": [
      "Graph with 894 nodes and 1198 edges\n"
     ]
    }
   ],
   "source": [
    "eroads = lr.datasets.get_csv_file('graphs/eroads_edge_list.csv')\n",
    "U = 'origin_reference_place'\n",
    "V = 'destination_reference_place'\n",
    "W = 'distance'\n",
    "edges = eroads.to_dict(orient='records')\n",
    "g = nx.Graph((e[U], e[V], {'weight': e[W]}) for e in edges)\n",
    "print(g)"
   ]
  },
  {
   "cell_type": "markdown",
   "id": "3030f652-a35f-448b-97f7-22c2ba3d3328",
   "metadata": {},
   "source": [
    "### Example 1: Shortest paths from Cardiff\n",
    "\n",
    "Find the shortest paths from Cardiff to all other cities."
   ]
  },
  {
   "cell_type": "code",
   "execution_count": 6,
   "id": "8e0c8c45",
   "metadata": {},
   "outputs": [],
   "source": [
    "ssp = shortest_paths(g, 'Cardiff')"
   ]
  },
  {
   "cell_type": "markdown",
   "id": "08f549bd",
   "metadata": {},
   "source": [
    "Output the shortest paths connect Cardiff to London, Dublin, and Calais."
   ]
  },
  {
   "cell_type": "code",
   "execution_count": 7,
   "id": "346b8621",
   "metadata": {},
   "outputs": [
    {
     "name": "stdout",
     "output_type": "stream",
     "text": [
      "Cardiff -> London:\n",
      "264mi ['Cardiff', 'Newport', 'Bristol', 'London']\n",
      "Cardiff -> Dublin:\n",
      "456mi ['Cardiff', 'Swansea', 'Fishguard', 'Rosslare', 'Wexford', 'Dublin']\n",
      "Cardiff -> Calais:\n",
      "429mi ['Cardiff', 'Newport', 'Bristol', 'London', 'Folkestone', 'Dover', 'Calais']\n"
     ]
    }
   ],
   "source": [
    "for city in ('London', 'Dublin', 'Calais'):\n",
    "    print(f\"Cardiff -> {city}:\\n{ssp[city]['dist']}mi {ssp[city]['path']}\")"
   ]
  },
  {
   "cell_type": "markdown",
   "id": "23d95af8",
   "metadata": {},
   "source": [
    "### Example 2: Collect all shortest paths\n",
    "\n",
    "Return a collection of all the shortest paths, from each city to all other cities.\n",
    "\n",
    "This returns a nested dictionary `dict[dict[dict]]`."
   ]
  },
  {
   "cell_type": "code",
   "execution_count": 8,
   "id": "8c0ac5b9",
   "metadata": {},
   "outputs": [],
   "source": [
    "all_ssp = {n: shortest_paths(g, n) for n in g.nodes}"
   ]
  },
  {
   "cell_type": "markdown",
   "id": "b92d7cde",
   "metadata": {},
   "source": [
    "Repeat the example above, this time printing the shortest paths from London, Dublin, and Calais to Cardiff."
   ]
  },
  {
   "cell_type": "code",
   "execution_count": 9,
   "id": "9688a4c7-d5fb-4fd7-a246-bc33abb47026",
   "metadata": {},
   "outputs": [
    {
     "name": "stdout",
     "output_type": "stream",
     "text": [
      "London -> Cardiff:\n",
      "264mi ['London', 'Bristol', 'Newport', 'Cardiff']\n",
      "Dublin -> Cardiff:\n",
      "456mi ['Dublin', 'Wexford', 'Rosslare', 'Fishguard', 'Swansea', 'Cardiff']\n",
      "Calais -> Cardiff:\n",
      "429mi ['Calais', 'Dover', 'Folkestone', 'London', 'Bristol', 'Newport', 'Cardiff']\n"
     ]
    }
   ],
   "source": [
    "ca = 'Cardiff'\n",
    "for city in ('London', 'Dublin', 'Calais'):\n",
    "    print(\n",
    "        f\"{city} -> {ca}:\"\n",
    "        + f\"\\n{all_ssp[city][ca]['dist']}mi {all_ssp[city][ca]['path']}\"\n",
    "    )"
   ]
  },
  {
   "cell_type": "markdown",
   "id": "1129a1b5-d54e-4d0f-9edf-1813b0ef6ee5",
   "metadata": {},
   "source": [
    "### Performance"
   ]
  },
  {
   "cell_type": "code",
   "execution_count": 10,
   "id": "35dc8944-2db0-458d-8fa1-68916b7d8787",
   "metadata": {},
   "outputs": [
    {
     "name": "stdout",
     "output_type": "stream",
     "text": [
      "Time to completion, shortest_paths =\n",
      "3.59 ms ± 53 µs per loop (mean ± std. dev. of 7 runs, 100 loops each)\n",
      "\n",
      "Time to completion, all_shortest_paths =\n",
      "3.42 s ± 24.7 ms per loop (mean ± std. dev. of 7 runs, 1 loop each)\n"
     ]
    }
   ],
   "source": [
    "print('Time to completion, shortest_paths =')\n",
    "%timeit shortest_paths(g, 'Cardiff')\n",
    "print('\\nTime to completion, all_shortest_paths =')\n",
    "%timeit {n: shortest_paths(g, n) for n in g.nodes}"
   ]
  },
  {
   "cell_type": "markdown",
   "id": "bb54276a",
   "metadata": {},
   "source": [
    "[^1]: (See [ljk233/laughingrook-datasets/graphs](https://github.com/ljk233/laughingrook-datasets/tree/main/graphs).)"
   ]
  }
 ],
 "metadata": {
  "kernelspec": {
   "display_name": "laughingrook",
   "language": "python",
   "name": "laughingrook"
  },
  "language_info": {
   "codemirror_mode": {
    "name": "ipython",
    "version": 3
   },
   "file_extension": ".py",
   "mimetype": "text/x-python",
   "name": "python",
   "nbconvert_exporter": "python",
   "pygments_lexer": "ipython3",
   "version": "3.10.4"
  }
 },
 "nbformat": 4,
 "nbformat_minor": 5
}
