{
 "cells": [
  {
   "cell_type": "raw",
   "id": "8fc10b81-573e-40b6-b3e2-c7b860a63af4",
   "metadata": {},
   "source": [
    "---\n",
    "title: Incarceration Trends\n",
    "date: 2022-11-07\n",
    "categories: [TidyTuesday]\n",
    "draft: false\n",
    "format:\n",
    "  html:\n",
    "    code-fold: true\n",
    "    code-summary: Show the code\n",
    "---"
   ]
  },
  {
   "cell_type": "markdown",
   "id": "da66d388-08d5-436f-b9ec-93ee7e195138",
   "metadata": {},
   "source": [
    "[#tidytuesday](https://twitter.com/hashtag/TidyTuesday)\n",
    "| [Incarceration trends](https://github.com/rfordatascience/tidytuesday/tree/master/data/2019/2019-01-22)\n",
    "| [source](https://github.com/vera-institute/incarceration-trends)"
   ]
  },
  {
   "cell_type": "markdown",
   "id": "f1735c3c-da04-4d32-b2db-ba586b6953c5",
   "metadata": {
    "jp-MarkdownHeadingCollapsed": true,
    "tags": []
   },
   "source": [
    "## Dependencies"
   ]
  },
  {
   "cell_type": "code",
   "execution_count": 1,
   "id": "3fcc756e-1240-41fe-9694-b4560e511930",
   "metadata": {},
   "outputs": [],
   "source": [
    "from collections import Counter\n",
    "import pandas as pd\n",
    "from parse import parse\n",
    "import seaborn as sns\n",
    "from seaborn import objects as so\n",
    "from matplotlib import style\n",
    "import lrdataio"
   ]
  },
  {
   "cell_type": "code",
   "execution_count": 2,
   "id": "cf86e8e2-5ecf-492b-8b08-c09bdacd8ca0",
   "metadata": {},
   "outputs": [
    {
     "name": "stdout",
     "output_type": "stream",
     "text": [
      "matplotlib: 3.6.0\n",
      "lrdataio  : 0.3.0\n",
      "seaborn   : 0.12.1\n",
      "pandas    : 1.4.4\n",
      "\n"
     ]
    }
   ],
   "source": [
    "%load_ext watermark\n",
    "%watermark -iv"
   ]
  },
  {
   "cell_type": "markdown",
   "id": "ac8f7455-89fe-4488-9a71-a532232d3f26",
   "metadata": {
    "tags": []
   },
   "source": [
    "## DataIO"
   ]
  },
  {
   "cell_type": "markdown",
   "id": "a8703c6e-181b-4b2f-b48e-1101a25ca68d",
   "metadata": {},
   "source": [
    "`source_df`"
   ]
  },
  {
   "cell_type": "code",
   "execution_count": 3,
   "id": "8c74e63d-ffc6-4f7a-930a-5a03fb16f26c",
   "metadata": {
    "jupyter": {
     "source_hidden": true
    },
    "tags": []
   },
   "outputs": [],
   "source": [
    "#source_url = 'https://raw.githubusercontent.com/vera-institute/incarceration-trends/master/incarceration_trends.csv'  # noqa\n",
    "source_url = 'https://raw.githubusercontent.com/rfordatascience/tidytuesday/master/data/2019/2019-01-22/incarceration_trends.csv'  # noqa\n",
    "source_df = pd.read_csv(lrdataio.cache_url(source_url))"
   ]
  },
  {
   "cell_type": "markdown",
   "id": "fbb89830-dfb6-4cba-9955-731aeb53a131",
   "metadata": {},
   "source": [
    "`fips_df`"
   ]
  },
  {
   "cell_type": "code",
   "execution_count": 4,
   "id": "7d22130c-dfc1-4b0e-8a8b-d73913478bda",
   "metadata": {
    "jupyter": {
     "source_hidden": true
    },
    "tags": []
   },
   "outputs": [],
   "source": [
    "fips_url = 'https://raw.githubusercontent.com/ljk233/laughingrook-datasets/main/fips/fips_table.csv'  # noqa\n",
    "fips_df = pd.read_csv(lrdataio.cache_url(fips_url), encoding='cp1252')"
   ]
  },
  {
   "cell_type": "markdown",
   "id": "9b2a9c34-23ed-494f-9042-99f2fa6fbc1e",
   "metadata": {
    "tags": []
   },
   "source": [
    "## Views"
   ]
  },
  {
   "cell_type": "markdown",
   "id": "efe2e3b9-0f57-4ce6-b4ed-39c45924eb9d",
   "metadata": {},
   "source": [
    "`v_source() -> pd.DataFrame`"
   ]
  },
  {
   "cell_type": "code",
   "execution_count": 5,
   "id": "1dbcc68d-17c6-4b46-997d-ff3281e08a84",
   "metadata": {
    "jupyter": {
     "source_hidden": true
    },
    "tags": []
   },
   "outputs": [],
   "source": [
    "def v_source() -> pd.DataFrame:\n",
    "    return (\n",
    "        source_df\n",
    "        .rename(columns={'yfips': 'id', 'fips': 'county_id'})\n",
    "        .set_index(['county_id', 'year'])\n",
    "    )"
   ]
  },
  {
   "cell_type": "markdown",
   "id": "9357e479-9cba-44c0-82a4-f3f769c09fe4",
   "metadata": {},
   "source": [
    "`v_county() -> pd.DataFrame`"
   ]
  },
  {
   "cell_type": "code",
   "execution_count": 6,
   "id": "8da815a1-2d54-431c-b98f-ee2cf9d92429",
   "metadata": {
    "jupyter": {
     "source_hidden": true
    },
    "tags": []
   },
   "outputs": [],
   "source": [
    "def v_county() -> pd.DataFrame:\n",
    "    return (\n",
    "        fips_df\n",
    "        .merge(\n",
    "            right=source_df[['fips',\n",
    "                             'capacity',\n",
    "                             'commuting_zone',\n",
    "                             'land_area',\n",
    "                             'metro_area',\n",
    "                             'num_employees',\n",
    "                             'urbanicity']],\n",
    "            left_on='county_id',\n",
    "            right_on='fips'\n",
    "        )\n",
    "        .drop_duplicates()\n",
    "        .drop(columns='fips')\n",
    "        .reset_index(drop=True)\n",
    "    )"
   ]
  },
  {
   "cell_type": "markdown",
   "id": "30c0bc42-671a-40c8-aba2-0c954f3f1eb0",
   "metadata": {},
   "source": [
    "`v_crime() -> pd.DataFrame`"
   ]
  },
  {
   "cell_type": "code",
   "execution_count": 7,
   "id": "c14b2020-73fe-4b25-b900-0f0157e3e9b8",
   "metadata": {
    "jupyter": {
     "source_hidden": true
    },
    "tags": []
   },
   "outputs": [],
   "source": [
    "def v_crime() -> pd.DataFrame:\n",
    "    selected_cols = (['county_id', 'year']\n",
    "                     + [c for c in v_source().columns if '_crime' in c])\n",
    "    return (\n",
    "        v_source()[selected_cols]\n",
    "        .dropna(how='all', subset=selected_cols[2:])\n",
    "        .rename(columns={c: c.replace('_crime', '') for c in selected_cols})\n",
    "        .rename(columns={'index': 'crime_index'})\n",
    "    )"
   ]
  },
  {
   "cell_type": "markdown",
   "id": "7bd824cb-f800-4cb8-89d3-0617886e7b25",
   "metadata": {},
   "source": [
    "`v_pop() -> pd.DataFrame()` "
   ]
  },
  {
   "cell_type": "code",
   "execution_count": 10,
   "id": "a329613a-9f86-4324-a606-3ddc05fd9296",
   "metadata": {
    "jupyter": {
     "source_hidden": true
    },
    "tags": []
   },
   "outputs": [],
   "source": [
    "def v_pop() -> pd.DataFrame:\n",
    "    return (\n",
    "        mv_pcp\n",
    "        # SELECT ONE OF THE VARIABLES\n",
    "        .query('variable == \"ethnicity\"')\n",
    "        .groupby(['county_id', 'year', 'area'])[['value']].sum()\n",
    "        .reset_index()\n",
    "    )"
   ]
  },
  {
   "cell_type": "markdown",
   "id": "9e73958b-ced7-4280-9265-0b3b0b59884f",
   "metadata": {
    "tags": []
   },
   "source": [
    "`mv_pcpop`"
   ]
  },
  {
   "cell_type": "code",
   "execution_count": 17,
   "id": "eed778ce-5f17-4eda-ab36-2f824d126195",
   "metadata": {
    "tags": []
   },
   "outputs": [
    {
     "data": {
      "text/html": [
       "<div>\n",
       "<style scoped>\n",
       "    .dataframe tbody tr th:only-of-type {\n",
       "        vertical-align: middle;\n",
       "    }\n",
       "\n",
       "    .dataframe tbody tr th {\n",
       "        vertical-align: top;\n",
       "    }\n",
       "\n",
       "    .dataframe thead th {\n",
       "        text-align: right;\n",
       "    }\n",
       "</style>\n",
       "<table border=\"1\" class=\"dataframe\">\n",
       "  <thead>\n",
       "    <tr style=\"text-align: right;\">\n",
       "      <th></th>\n",
       "      <th>county_id</th>\n",
       "      <th>year</th>\n",
       "      <th>area</th>\n",
       "      <th>variable</th>\n",
       "      <th>group</th>\n",
       "      <th>value</th>\n",
       "    </tr>\n",
       "  </thead>\n",
       "  <tbody>\n",
       "    <tr>\n",
       "      <th>0</th>\n",
       "      <td>1001</td>\n",
       "      <td>1990</td>\n",
       "      <td>county</td>\n",
       "      <td>ethnicity</td>\n",
       "      <td>asian</td>\n",
       "      <td>0.096</td>\n",
       "    </tr>\n",
       "    <tr>\n",
       "      <th>1</th>\n",
       "      <td>1001</td>\n",
       "      <td>1991</td>\n",
       "      <td>county</td>\n",
       "      <td>ethnicity</td>\n",
       "      <td>asian</td>\n",
       "      <td>0.102</td>\n",
       "    </tr>\n",
       "    <tr>\n",
       "      <th>2</th>\n",
       "      <td>1001</td>\n",
       "      <td>1992</td>\n",
       "      <td>county</td>\n",
       "      <td>ethnicity</td>\n",
       "      <td>asian</td>\n",
       "      <td>0.111</td>\n",
       "    </tr>\n",
       "    <tr>\n",
       "      <th>3</th>\n",
       "      <td>1001</td>\n",
       "      <td>1993</td>\n",
       "      <td>county</td>\n",
       "      <td>ethnicity</td>\n",
       "      <td>asian</td>\n",
       "      <td>0.120</td>\n",
       "    </tr>\n",
       "    <tr>\n",
       "      <th>4</th>\n",
       "      <td>1001</td>\n",
       "      <td>1994</td>\n",
       "      <td>county</td>\n",
       "      <td>ethnicity</td>\n",
       "      <td>asian</td>\n",
       "      <td>0.126</td>\n",
       "    </tr>\n",
       "    <tr>\n",
       "      <th>...</th>\n",
       "      <td>...</td>\n",
       "      <td>...</td>\n",
       "      <td>...</td>\n",
       "      <td>...</td>\n",
       "      <td>...</td>\n",
       "      <td>...</td>\n",
       "    </tr>\n",
       "    <tr>\n",
       "      <th>1026201</th>\n",
       "      <td>56041</td>\n",
       "      <td>2014</td>\n",
       "      <td>prison</td>\n",
       "      <td>gender</td>\n",
       "      <td>male</td>\n",
       "      <td>0.031</td>\n",
       "    </tr>\n",
       "    <tr>\n",
       "      <th>1026202</th>\n",
       "      <td>56043</td>\n",
       "      <td>2005</td>\n",
       "      <td>prison</td>\n",
       "      <td>gender</td>\n",
       "      <td>male</td>\n",
       "      <td>0.010</td>\n",
       "    </tr>\n",
       "    <tr>\n",
       "      <th>1026203</th>\n",
       "      <td>56043</td>\n",
       "      <td>2006</td>\n",
       "      <td>prison</td>\n",
       "      <td>gender</td>\n",
       "      <td>male</td>\n",
       "      <td>0.010</td>\n",
       "    </tr>\n",
       "    <tr>\n",
       "      <th>1026204</th>\n",
       "      <td>56043</td>\n",
       "      <td>2007</td>\n",
       "      <td>prison</td>\n",
       "      <td>gender</td>\n",
       "      <td>male</td>\n",
       "      <td>0.010</td>\n",
       "    </tr>\n",
       "    <tr>\n",
       "      <th>1026205</th>\n",
       "      <td>56043</td>\n",
       "      <td>2008</td>\n",
       "      <td>prison</td>\n",
       "      <td>gender</td>\n",
       "      <td>male</td>\n",
       "      <td>0.011</td>\n",
       "    </tr>\n",
       "  </tbody>\n",
       "</table>\n",
       "<p>1026206 rows × 6 columns</p>\n",
       "</div>"
      ],
      "text/plain": [
       "         county_id  year    area   variable  group  value\n",
       "0             1001  1990  county  ethnicity  asian  0.096\n",
       "1             1001  1991  county  ethnicity  asian  0.102\n",
       "2             1001  1992  county  ethnicity  asian  0.111\n",
       "3             1001  1993  county  ethnicity  asian  0.120\n",
       "4             1001  1994  county  ethnicity  asian  0.126\n",
       "...            ...   ...     ...        ...    ...    ...\n",
       "1026201      56041  2014  prison     gender   male  0.031\n",
       "1026202      56043  2005  prison     gender   male  0.010\n",
       "1026203      56043  2006  prison     gender   male  0.010\n",
       "1026204      56043  2007  prison     gender   male  0.010\n",
       "1026205      56043  2008  prison     gender   male  0.011\n",
       "\n",
       "[1026206 rows x 6 columns]"
      ]
     },
     "execution_count": 17,
     "metadata": {},
     "output_type": "execute_result"
    }
   ],
   "source": [
    "def _parse_variable(s):\n",
    "    ls = s.split('_')\n",
    "    if ls[1] == 'pop':\n",
    "        ls[1] = 'county'\n",
    "    if ls[0] in ['male', 'female']:\n",
    "        ls.append('gender')\n",
    "    else:\n",
    "        ls.append('ethnicity')\n",
    "    return ls[1], ls[-1], ls[0]\n",
    "\n",
    "\n",
    "selected_cols = [c for c in v_source().columns\n",
    "                 if ('pop' in c\n",
    "                     and not ('_adm' in c\n",
    "                              or '_dcrp' in c\n",
    "                              or 'total_' in c\n",
    "                              or 'jail' in c\n",
    "                              or Counter(c)['_'] == 1))]\n",
    "mapper = {sc: _parse_variable(sc) for sc in selected_cols}\n",
    "\n",
    "mv_pcp = (\n",
    "    v_source()\n",
    "    .query('year >= 1990')\n",
    "    [[*mapper.keys()]]\n",
    "    .melt(var_name='col', ignore_index=False)\n",
    "    .dropna(subset='value')\n",
    "    .assign(\n",
    "        area=lambda x: x['col'].apply(lambda s: mapper[s][0]),\n",
    "        variable=lambda x: x['col'].apply(lambda s: mapper[s][1]),\n",
    "        group=lambda x: x['col'].apply(lambda s: mapper[s][2]),\n",
    "        value=lambda x: x['value'].mul(0.001)\n",
    "    )\n",
    "    .sort_values(by=['area', 'variable', 'group'])\n",
    "    [['area', 'variable', 'group', 'value']]\n",
    "    .reset_index()\n",
    ")"
   ]
  },
  {
   "cell_type": "markdown",
   "id": "41863ea6-dc8f-4811-b107-472a9a260c56",
   "metadata": {},
   "source": [
    "`v_county_pop() -> pd.DataFrame`"
   ]
  },
  {
   "cell_type": "code",
   "execution_count": 9,
   "id": "9feb1d77-6692-4285-9124-e21f235a6085",
   "metadata": {
    "jupyter": {
     "source_hidden": true
    },
    "tags": []
   },
   "outputs": [],
   "source": [
    "def v_county_pop() -> pd.DataFrame:\n",
    "    return (\n",
    "        mv_pcp\n",
    "        .query('area == \"county\"')\n",
    "        .drop(columns='area')\n",
    "    )"
   ]
  },
  {
   "cell_type": "markdown",
   "id": "5c3956db-5191-4bd2-a607-95161e7307db",
   "metadata": {},
   "source": [
    "`v_prison_pop() -> pd.DataFrame`"
   ]
  },
  {
   "cell_type": "code",
   "execution_count": 11,
   "id": "f1a20b8b-0b3b-4846-b28b-26dd3e021771",
   "metadata": {
    "tags": []
   },
   "outputs": [],
   "source": [
    "def v_prison_pop() -> pd.DataFrame:\n",
    "    return (\n",
    "        mv_pcp\n",
    "        .query('area == \"prison\"')\n",
    "        .drop(columns='area')\n",
    "    )"
   ]
  },
  {
   "cell_type": "markdown",
   "id": "88394fb2-221f-41f7-9f44-27bb51183030",
   "metadata": {
    "tags": []
   },
   "source": [
    "## Visualisations"
   ]
  },
  {
   "cell_type": "markdown",
   "id": "e613e504-8cb3-49bf-a423-32b864767f21",
   "metadata": {
    "tags": []
   },
   "source": [
    "### Longitudinal\n",
    "\n",
    "We start by visualising the changes in different types of populations over time."
   ]
  },
  {
   "cell_type": "markdown",
   "id": "0fea21eb-45e5-41c3-b74b-7d359a01b066",
   "metadata": {},
   "source": [
    "#### Prison population change against that of the country"
   ]
  },
  {
   "cell_type": "code",
   "execution_count": 12,
   "id": "064dfe1c-1f71-4f9e-a001-9d36bc4754ea",
   "metadata": {
    "tags": []
   },
   "outputs": [
    {
     "data": {
      "image/png": "[encoded data removed]",
      "text/plain": [
       "<seaborn._core.plot.Plot at 0x1ed19436f20>"
      ]
     },
     "execution_count": 12,
     "metadata": {
      "image/png": {
       "height": 373.575,
       "width": 598.8249999999999
      }
     },
     "output_type": "execute_result"
    }
   ],
   "source": [
    "def _plot(df) -> so.Plot:\n",
    "    return (\n",
    "        so.Plot(df, x='year', y='value', color='area')\n",
    "        .add(so.Line())\n",
    "        .theme({**style.library[\"fivethirtyeight\"]})\n",
    "    )\n",
    "\n",
    "\n",
    "(\n",
    "    v_pop()\n",
    "    .groupby(['year', 'area'])[['value']].sum()\n",
    "    .groupby('area')[['value']].pct_change()\n",
    "    .pipe(_plot)\n",
    ")"
   ]
  },
  {
   "cell_type": "markdown",
   "id": "eaee7689-697f-4b0f-910b-a5cae405ad92",
   "metadata": {},
   "source": [
    "## Schemas"
   ]
  },
  {
   "cell_type": "code",
   "execution_count": 14,
   "id": "2b4d0440-111f-4360-af84-27044807fb91",
   "metadata": {
    "tags": []
   },
   "outputs": [
    {
     "data": {
      "text/plain": [
       "['agr_assault_crime',\n",
       " 'arson_crime',\n",
       " 'asian_jail_pop',\n",
       " 'asian_pop_15to64',\n",
       " 'asian_prison_adm',\n",
       " 'asian_prison_pop',\n",
       " 'black_jail_pop',\n",
       " 'black_pop_15to64',\n",
       " 'black_prison_adm',\n",
       " 'black_prison_pop',\n",
       " 'burglary_crime',\n",
       " 'capacity',\n",
       " 'commuting_zone',\n",
       " 'confined_pop',\n",
       " 'county_name',\n",
       " 'division',\n",
       " 'female_jail_adm_dcrp',\n",
       " 'female_jail_pop',\n",
       " 'female_jail_pop_dcrp',\n",
       " 'female_jail_pretrial',\n",
       " 'female_pop_15to64',\n",
       " 'female_prison_adm',\n",
       " 'female_prison_pop',\n",
       " 'id',\n",
       " 'index_crime',\n",
       " 'jail_from_fed',\n",
       " 'jail_from_ice',\n",
       " 'jail_from_other_state_jail',\n",
       " 'jail_from_other_state_prison',\n",
       " 'jail_from_state_jail',\n",
       " 'jail_from_state_prison',\n",
       " 'land_area',\n",
       " 'larceny_crime',\n",
       " 'latino_jail_pop',\n",
       " 'latino_pop_15to64',\n",
       " 'latino_prison_adm',\n",
       " 'latino_prison_pop',\n",
       " 'male_jail_adm_dcrp',\n",
       " 'male_jail_pop',\n",
       " 'male_jail_pop_dcrp',\n",
       " 'male_jail_pretrial',\n",
       " 'male_pop_15to64',\n",
       " 'male_prison_adm',\n",
       " 'male_prison_pop',\n",
       " 'metro_area',\n",
       " 'murder_crime',\n",
       " 'mv_theft_crime',\n",
       " 'native_jail_pop',\n",
       " 'native_pop_15to64',\n",
       " 'native_prison_adm',\n",
       " 'native_prison_pop',\n",
       " 'num_employees',\n",
       " 'num_facilites',\n",
       " 'other_pop_15to64',\n",
       " 'other_prison_adm',\n",
       " 'other_prison_pop',\n",
       " 'property_crime',\n",
       " 'rape_crime',\n",
       " 'region',\n",
       " 'robbery_crime',\n",
       " 'state',\n",
       " 'total_jail_adm',\n",
       " 'total_jail_adm_dcrp',\n",
       " 'total_jail_pop',\n",
       " 'total_jail_pop_dcrp',\n",
       " 'total_jail_pretrial',\n",
       " 'total_pop',\n",
       " 'total_pop_15to64',\n",
       " 'total_prison_adm',\n",
       " 'total_prison_pop',\n",
       " 'ucr_population',\n",
       " 'urbanicity',\n",
       " 'violent_crime',\n",
       " 'white_jail_pop',\n",
       " 'white_pop_15to64',\n",
       " 'white_prison_adm',\n",
       " 'white_prison_pop']"
      ]
     },
     "execution_count": 14,
     "metadata": {},
     "output_type": "execute_result"
    }
   ],
   "source": [
    "v_source().columns.sort_values().to_list()"
   ]
  },
  {
   "cell_type": "markdown",
   "id": "68e2a13c-e851-4162-9131-2525ba3c76c0",
   "metadata": {},
   "source": [
    "`v_county`"
   ]
  },
  {
   "cell_type": "code",
   "execution_count": 15,
   "id": "0dc0d279-916a-4c08-9b6e-0632da16aeb3",
   "metadata": {
    "jupyter": {
     "source_hidden": true
    },
    "tags": []
   },
   "outputs": [
    {
     "name": "stdout",
     "output_type": "stream",
     "text": [
      "<class 'pandas.core.frame.DataFrame'>\n",
      "RangeIndex: 3139 entries, 0 to 3138\n",
      "Data columns (total 16 columns):\n",
      " #   Column             Non-Null Count  Dtype  \n",
      "---  ------             --------------  -----  \n",
      " 0   county_id          3139 non-null   int64  \n",
      " 1   county_short_name  3139 non-null   object \n",
      " 2   county_name        3139 non-null   object \n",
      " 3   state_id           3139 non-null   int64  \n",
      " 4   state_short_name   3139 non-null   object \n",
      " 5   state_name         3139 non-null   object \n",
      " 6   division_id        3139 non-null   int64  \n",
      " 7   division_name      3139 non-null   object \n",
      " 8   region_id          3139 non-null   int64  \n",
      " 9   region_name        3139 non-null   object \n",
      " 10  capacity           3136 non-null   float64\n",
      " 11  commuting_zone     3138 non-null   float64\n",
      " 12  land_area          3138 non-null   float64\n",
      " 13  metro_area         1803 non-null   float64\n",
      " 14  num_employees      3136 non-null   float64\n",
      " 15  urbanicity         3139 non-null   object \n",
      "dtypes: float64(5), int64(4), object(7)\n",
      "memory usage: 392.5+ KB\n"
     ]
    }
   ],
   "source": [
    "v_county().info()"
   ]
  },
  {
   "cell_type": "markdown",
   "id": "79aed1fe-3f5c-4039-aa36-39224d54e1f8",
   "metadata": {},
   "source": [
    "`v_crime`"
   ]
  },
  {
   "cell_type": "code",
   "execution_count": 16,
   "id": "169f2ae0-fc10-49c2-8fdf-2dbb796ad9b7",
   "metadata": {
    "jupyter": {
     "source_hidden": true
    },
    "tags": []
   },
   "outputs": [
    {
     "ename": "KeyError",
     "evalue": "\"['county_id', 'year'] not in index\"",
     "output_type": "error",
     "traceback": [
      "\u001b[1;31m---------------------------------------------------------------------------\u001b[0m",
      "\u001b[1;31mKeyError\u001b[0m                                  Traceback (most recent call last)",
      "Cell \u001b[1;32mIn [16], line 1\u001b[0m\n\u001b[1;32m----> 1\u001b[0m \u001b[43mv_crime\u001b[49m\u001b[43m(\u001b[49m\u001b[43m)\u001b[49m\u001b[38;5;241m.\u001b[39minfo()\n",
      "Cell \u001b[1;32mIn [7], line 5\u001b[0m, in \u001b[0;36mv_crime\u001b[1;34m()\u001b[0m\n\u001b[0;32m      1\u001b[0m \u001b[38;5;28;01mdef\u001b[39;00m \u001b[38;5;21mv_crime\u001b[39m() \u001b[38;5;241m-\u001b[39m\u001b[38;5;241m>\u001b[39m pd\u001b[38;5;241m.\u001b[39mDataFrame:\n\u001b[0;32m      2\u001b[0m     selected_cols \u001b[38;5;241m=\u001b[39m ([\u001b[38;5;124m'\u001b[39m\u001b[38;5;124mcounty_id\u001b[39m\u001b[38;5;124m'\u001b[39m, \u001b[38;5;124m'\u001b[39m\u001b[38;5;124myear\u001b[39m\u001b[38;5;124m'\u001b[39m]\n\u001b[0;32m      3\u001b[0m                      \u001b[38;5;241m+\u001b[39m [c \u001b[38;5;28;01mfor\u001b[39;00m c \u001b[38;5;129;01min\u001b[39;00m v_source()\u001b[38;5;241m.\u001b[39mcolumns \u001b[38;5;28;01mif\u001b[39;00m \u001b[38;5;124m'\u001b[39m\u001b[38;5;124m_crime\u001b[39m\u001b[38;5;124m'\u001b[39m \u001b[38;5;129;01min\u001b[39;00m c])\n\u001b[0;32m      4\u001b[0m     \u001b[38;5;28;01mreturn\u001b[39;00m (\n\u001b[1;32m----> 5\u001b[0m         \u001b[43mv_source\u001b[49m\u001b[43m(\u001b[49m\u001b[43m)\u001b[49m\u001b[43m[\u001b[49m\u001b[43mselected_cols\u001b[49m\u001b[43m]\u001b[49m\n\u001b[0;32m      6\u001b[0m         \u001b[38;5;241m.\u001b[39mdropna(how\u001b[38;5;241m=\u001b[39m\u001b[38;5;124m'\u001b[39m\u001b[38;5;124mall\u001b[39m\u001b[38;5;124m'\u001b[39m, subset\u001b[38;5;241m=\u001b[39mselected_cols[\u001b[38;5;241m2\u001b[39m:])\n\u001b[0;32m      7\u001b[0m         \u001b[38;5;241m.\u001b[39mrename(columns\u001b[38;5;241m=\u001b[39m{c: c\u001b[38;5;241m.\u001b[39mreplace(\u001b[38;5;124m'\u001b[39m\u001b[38;5;124m_crime\u001b[39m\u001b[38;5;124m'\u001b[39m, \u001b[38;5;124m'\u001b[39m\u001b[38;5;124m'\u001b[39m) \u001b[38;5;28;01mfor\u001b[39;00m c \u001b[38;5;129;01min\u001b[39;00m selected_cols})\n\u001b[0;32m      8\u001b[0m         \u001b[38;5;241m.\u001b[39mrename(columns\u001b[38;5;241m=\u001b[39m{\u001b[38;5;124m'\u001b[39m\u001b[38;5;124mindex\u001b[39m\u001b[38;5;124m'\u001b[39m: \u001b[38;5;124m'\u001b[39m\u001b[38;5;124mcrime_index\u001b[39m\u001b[38;5;124m'\u001b[39m})\n\u001b[0;32m      9\u001b[0m     )\n",
      "File \u001b[1;32mD:\\GitHub\\laughingrook\\.venv\\lrdatavis\\lib\\site-packages\\pandas\\core\\frame.py:3511\u001b[0m, in \u001b[0;36mDataFrame.__getitem__\u001b[1;34m(self, key)\u001b[0m\n\u001b[0;32m   3509\u001b[0m     \u001b[38;5;28;01mif\u001b[39;00m is_iterator(key):\n\u001b[0;32m   3510\u001b[0m         key \u001b[38;5;241m=\u001b[39m \u001b[38;5;28mlist\u001b[39m(key)\n\u001b[1;32m-> 3511\u001b[0m     indexer \u001b[38;5;241m=\u001b[39m \u001b[38;5;28;43mself\u001b[39;49m\u001b[38;5;241;43m.\u001b[39;49m\u001b[43mcolumns\u001b[49m\u001b[38;5;241;43m.\u001b[39;49m\u001b[43m_get_indexer_strict\u001b[49m\u001b[43m(\u001b[49m\u001b[43mkey\u001b[49m\u001b[43m,\u001b[49m\u001b[43m \u001b[49m\u001b[38;5;124;43m\"\u001b[39;49m\u001b[38;5;124;43mcolumns\u001b[39;49m\u001b[38;5;124;43m\"\u001b[39;49m\u001b[43m)\u001b[49m[\u001b[38;5;241m1\u001b[39m]\n\u001b[0;32m   3513\u001b[0m \u001b[38;5;66;03m# take() does not accept boolean indexers\u001b[39;00m\n\u001b[0;32m   3514\u001b[0m \u001b[38;5;28;01mif\u001b[39;00m \u001b[38;5;28mgetattr\u001b[39m(indexer, \u001b[38;5;124m\"\u001b[39m\u001b[38;5;124mdtype\u001b[39m\u001b[38;5;124m\"\u001b[39m, \u001b[38;5;28;01mNone\u001b[39;00m) \u001b[38;5;241m==\u001b[39m \u001b[38;5;28mbool\u001b[39m:\n",
      "File \u001b[1;32mD:\\GitHub\\laughingrook\\.venv\\lrdatavis\\lib\\site-packages\\pandas\\core\\indexes\\base.py:5796\u001b[0m, in \u001b[0;36mIndex._get_indexer_strict\u001b[1;34m(self, key, axis_name)\u001b[0m\n\u001b[0;32m   5793\u001b[0m \u001b[38;5;28;01melse\u001b[39;00m:\n\u001b[0;32m   5794\u001b[0m     keyarr, indexer, new_indexer \u001b[38;5;241m=\u001b[39m \u001b[38;5;28mself\u001b[39m\u001b[38;5;241m.\u001b[39m_reindex_non_unique(keyarr)\n\u001b[1;32m-> 5796\u001b[0m \u001b[38;5;28;43mself\u001b[39;49m\u001b[38;5;241;43m.\u001b[39;49m\u001b[43m_raise_if_missing\u001b[49m\u001b[43m(\u001b[49m\u001b[43mkeyarr\u001b[49m\u001b[43m,\u001b[49m\u001b[43m \u001b[49m\u001b[43mindexer\u001b[49m\u001b[43m,\u001b[49m\u001b[43m \u001b[49m\u001b[43maxis_name\u001b[49m\u001b[43m)\u001b[49m\n\u001b[0;32m   5798\u001b[0m keyarr \u001b[38;5;241m=\u001b[39m \u001b[38;5;28mself\u001b[39m\u001b[38;5;241m.\u001b[39mtake(indexer)\n\u001b[0;32m   5799\u001b[0m \u001b[38;5;28;01mif\u001b[39;00m \u001b[38;5;28misinstance\u001b[39m(key, Index):\n\u001b[0;32m   5800\u001b[0m     \u001b[38;5;66;03m# GH 42790 - Preserve name from an Index\u001b[39;00m\n",
      "File \u001b[1;32mD:\\GitHub\\laughingrook\\.venv\\lrdatavis\\lib\\site-packages\\pandas\\core\\indexes\\base.py:5859\u001b[0m, in \u001b[0;36mIndex._raise_if_missing\u001b[1;34m(self, key, indexer, axis_name)\u001b[0m\n\u001b[0;32m   5856\u001b[0m     \u001b[38;5;28;01mraise\u001b[39;00m \u001b[38;5;167;01mKeyError\u001b[39;00m(\u001b[38;5;124mf\u001b[39m\u001b[38;5;124m\"\u001b[39m\u001b[38;5;124mNone of [\u001b[39m\u001b[38;5;132;01m{\u001b[39;00mkey\u001b[38;5;132;01m}\u001b[39;00m\u001b[38;5;124m] are in the [\u001b[39m\u001b[38;5;132;01m{\u001b[39;00maxis_name\u001b[38;5;132;01m}\u001b[39;00m\u001b[38;5;124m]\u001b[39m\u001b[38;5;124m\"\u001b[39m)\n\u001b[0;32m   5858\u001b[0m not_found \u001b[38;5;241m=\u001b[39m \u001b[38;5;28mlist\u001b[39m(ensure_index(key)[missing_mask\u001b[38;5;241m.\u001b[39mnonzero()[\u001b[38;5;241m0\u001b[39m]]\u001b[38;5;241m.\u001b[39munique())\n\u001b[1;32m-> 5859\u001b[0m \u001b[38;5;28;01mraise\u001b[39;00m \u001b[38;5;167;01mKeyError\u001b[39;00m(\u001b[38;5;124mf\u001b[39m\u001b[38;5;124m\"\u001b[39m\u001b[38;5;132;01m{\u001b[39;00mnot_found\u001b[38;5;132;01m}\u001b[39;00m\u001b[38;5;124m not in index\u001b[39m\u001b[38;5;124m\"\u001b[39m)\n",
      "\u001b[1;31mKeyError\u001b[0m: \"['county_id', 'year'] not in index\""
     ]
    }
   ],
   "source": [
    "v_crime().info()"
   ]
  },
  {
   "cell_type": "markdown",
   "id": "6062447e-407c-4397-ae0e-84cd73b8e72f",
   "metadata": {
    "tags": []
   },
   "source": [
    "`mv_population`"
   ]
  },
  {
   "cell_type": "code",
   "execution_count": null,
   "id": "d8481310-d0bf-4456-97c2-ec172dfe8944",
   "metadata": {
    "tags": []
   },
   "outputs": [],
   "source": [
    "mv_population.info()"
   ]
  },
  {
   "cell_type": "markdown",
   "id": "4390a380-84c7-4449-bdc8-ff4f4fbc5c65",
   "metadata": {
    "tags": []
   },
   "source": [
    "## Discarded"
   ]
  },
  {
   "cell_type": "markdown",
   "id": "66dbafa7-910f-4da4-b7eb-dadba228a375",
   "metadata": {
    "tags": []
   },
   "source": [
    "`mv_admissions`"
   ]
  },
  {
   "cell_type": "raw",
   "id": "c02a918e-c491-418a-ac01-c87b34781c58",
   "metadata": {
    "jupyter": {
     "source_hidden": true
    },
    "tags": []
   },
   "source": [
    "def materialise_admissions() -> pd.DataFrame:\n",
    "    def _parse_variable(s):\n",
    "        ls = s.split('_')\n",
    "        if ls[0] == 'total':\n",
    "            return ls[1], 'total', 'all'\n",
    "        if ls[0] in ['male', 'female']:\n",
    "            ls.append('gender')\n",
    "        else:\n",
    "            ls.append('ethnicity')\n",
    "        return ls[1], ls[-1], ls[0]\n",
    "\n",
    "    selected_cols = [c for c in v_source().columns\n",
    "                     if 'adm' in c and 'dcrp' not in c]\n",
    "    mapper = {sc: _parse_variable(sc) for sc in selected_cols}\n",
    "    return (\n",
    "        v_source()[['county_id', 'year'] + [*mapper.keys()]]\n",
    "        .melt(id_vars=['year', 'county_id'])\n",
    "        .dropna(subset='value')\n",
    "        .assign(\n",
    "            area=lambda x: x['variable'].apply(lambda s: mapper[s][0]),\n",
    "            feature=lambda x: x['variable'].apply(lambda s: mapper[s][1]),\n",
    "            group=lambda x: x['variable'].apply(lambda s: mapper[s][2])\n",
    "        )\n",
    "        .sort_values(by=['county_id', 'year', 'area', 'feature', 'group'])\n",
    "        .reset_index(drop=True)\n",
    "        [['county_id', 'year', 'area', 'feature', 'group', 'value']]\n",
    "    )\n",
    "\n",
    "\n",
    "mv_admissions = materialise_admissions()"
   ]
  },
  {
   "cell_type": "markdown",
   "id": "b4872943-fedb-42ce-931a-4e5623d89486",
   "metadata": {},
   "source": [
    "`v_jail_pop() -> pd.DataFrame`"
   ]
  },
  {
   "cell_type": "raw",
   "id": "ce0ded6d-e7b7-4733-8c6a-4b9d199e77ed",
   "metadata": {
    "tags": []
   },
   "source": [
    "def v_jail_pop() -> pd.DataFrame:\n",
    "    return (\n",
    "        mv_population\n",
    "        .query('area == \"jail\"')\n",
    "        .drop(columns='table')\n",
    "    )"
   ]
  },
  {
   "cell_type": "markdown",
   "id": "50b1c873-253a-4e6b-8ca4-165cc923cdb8",
   "metadata": {},
   "source": [
    "`v_jail_vector() -> pd.DataFrame`"
   ]
  },
  {
   "cell_type": "raw",
   "id": "1993cca0-92e5-4c53-b5f6-6ff81f6c150b",
   "metadata": {
    "jupyter": {
     "source_hidden": true
    },
    "tags": []
   },
   "source": [
    "def v_jail_vector() -> pd.DataFrame:\n",
    "    selected_cols = (['county_id', 'year']\n",
    "                     + [c for c in v_source().columns if 'jail_from_' in c])\n",
    "    return (\n",
    "        v_source()[selected_cols]\n",
    "        .dropna(how='all', subset=selected_cols[2:])\n",
    "        .reset_index(drop=True)\n",
    "        .rename(columns={c: c.replace('jail_from_', '')\n",
    "                         for c in selected_cols})\n",
    "    )"
   ]
  }
 ],
 "metadata": {
  "kernelspec": {
   "display_name": "data visualisations",
   "language": "python",
   "name": "lrdatavis"
  },
  "language_info": {
   "codemirror_mode": {
    "name": "ipython",
    "version": 3
   },
   "file_extension": ".py",
   "mimetype": "text/x-python",
   "name": "python",
   "nbconvert_exporter": "python",
   "pygments_lexer": "ipython3",
   "version": "3.10.7"
  },
  "vscode": {
   "interpreter": {
    "hash": "303f9db850557970fc81ae8f0eb9bcd5f7660ed42110334f3f51564b82247190"
   }
  }
 },
 "nbformat": 4,
 "nbformat_minor": 5
}
