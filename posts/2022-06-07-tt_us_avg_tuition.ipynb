{
 "cells": [
  {
   "cell_type": "raw",
   "id": "412c281c",
   "metadata": {},
   "source": [
    "---\n",
    "title: Average State Tuition Fee in the USA from 2004 to 2015\n",
    "author: LaughingRook\n",
    "date: 2022-06-07\n",
    "categories: [TidyTuesday]\n",
    "draft: false\n",
    "format:\n",
    "  html:\n",
    "    code-tools: true\n",
    "---"
   ]
  },
  {
   "cell_type": "markdown",
   "id": "c6025a30-df35-4d4b-8bd3-38886a38c0a2",
   "metadata": {},
   "source": [
    "## Summary notes\n",
    "\n",
    "This was the initial **#TidyTuesday** project, posted back on April 2nd, 2018.\n",
    "Here's the motivating tweet from [@Thomas_Mock](https://twitter.com/thomas_mock):\n",
    "\n",
    "<blockquote class=\"twitter-tweet\"><p lang=\"en\" dir=\"ltr\">This week we will be exploring average US tuition costs! <br><br>The dataset is pre-cleaned but not fully tidy, so do your best to tidy it up and make an interesting (but quick!) plot! <br><br>The full rules, data, and more will always be at <a href=\"https://t.co/8NaXR93uIX\">https://t.co/8NaXR93uIX</a></p>&mdash; Tom Mock ❤️ Quarto (@thomas_mock) <a href=\"https://twitter.com/thomas_mock/status/980921605407768577?ref_src=twsrc%5Etfw\">April 2, 2018</a></blockquote> <script async src=\"https://platform.twitter.com/widgets.js\" charset=\"utf-8\"></script>\n",
    "\n",
    "Source data was taken from [http://trends.collegeboard.org](http://trends.collegeboard.org).\n",
    "Further data on the US states was taken from the [American National Standards Institute](https://www.ansi.org/) (ANSI).\n",
    "The ANSI data was used to bring in the state ID[^1] and the state abbreviations.\n",
    "\n",
    "The tuition fee data was tidy, but there were some irritating formatting errors in the column titles.\n",
    "These were cleaned up in the tidying pipeline with the help of several functions.\n",
    "The ANSI data also needed some minor cleaning of the column titles so they were in snake case.\n",
    "We did this with a dictionary that mapped the title case to snake cases.\n",
    "\n",
    "We rescaled the percentage change data so that it was consistent with the example plot.\n",
    "\n",
    "Two visualisations were produced:\n",
    "The first is a **chloropleth heatmap** of the percentage change in fees from 2010 to 2015;\n",
    "and the second is a **simple horiziontal bar chart** of the cost of tuition in 2015."
   ]
  },
  {
   "cell_type": "markdown",
   "id": "33f5a82c-fe3d-4d71-8f8e-22a5afc14e91",
   "metadata": {
    "jp-MarkdownHeadingCollapsed": true,
    "tags": []
   },
   "source": [
    "## Dependencies"
   ]
  },
  {
   "cell_type": "code",
   "execution_count": 1,
   "id": "98b09c2b-1ba5-4044-8400-f5cfcffe0204",
   "metadata": {},
   "outputs": [],
   "source": [
    "import pandas as pd\n",
    "import altair as alt\n",
    "from vega_datasets import data as vdata"
   ]
  },
  {
   "cell_type": "markdown",
   "id": "89f4475d-0e0a-4099-9451-70917a3b06ac",
   "metadata": {
    "jp-MarkdownHeadingCollapsed": true,
    "tags": []
   },
   "source": [
    "## Constants"
   ]
  },
  {
   "cell_type": "code",
   "execution_count": 2,
   "id": "de97eaea-b0cc-451f-9ab9-9e792c0362c1",
   "metadata": {},
   "outputs": [],
   "source": [
    "FEE_URL = ('https://github.com/rfordatascience/tidytuesday/blob/master/'\n",
    "           + 'data/2018/2018-04-02/us_avg_tuition.xlsx?raw=true')"
   ]
  },
  {
   "cell_type": "code",
   "execution_count": 3,
   "id": "062336df-9824-4d49-b07e-7b3976471763",
   "metadata": {},
   "outputs": [],
   "source": [
    "ANSI_URL = 'https://www2.census.gov/geo/docs/reference/state.txt'"
   ]
  },
  {
   "cell_type": "markdown",
   "id": "e7df29be-c708-41ad-aeb7-6547930be901",
   "metadata": {
    "tags": []
   },
   "source": [
    "## Main"
   ]
  },
  {
   "cell_type": "markdown",
   "id": "b573e37d-903d-4216-9c95-d1cfe610dffc",
   "metadata": {
    "tags": []
   },
   "source": [
    "### Load the data"
   ]
  },
  {
   "cell_type": "code",
   "execution_count": 7,
   "id": "3a90952a-2e86-45ea-92d7-aa4c3d117edb",
   "metadata": {},
   "outputs": [
    {
     "name": "stdout",
     "output_type": "stream",
     "text": [
      "<class 'pandas.core.frame.DataFrame'>\n",
      "RangeIndex: 50 entries, 0 to 49\n",
      "Data columns (total 13 columns):\n",
      " #   Column      Non-Null Count  Dtype  \n",
      "---  ------      --------------  -----  \n",
      " 0   State       50 non-null     object \n",
      " 1   2004-05     50 non-null     float64\n",
      " 2   2005-06     50 non-null     float64\n",
      " 3   2006-07     50 non-null     float64\n",
      " 4     2007-08   50 non-null     float64\n",
      " 5   2008-09     50 non-null     float64\n",
      " 6   2009-10     50 non-null     float64\n",
      " 7   2010-11     50 non-null     float64\n",
      " 8   2011-12     50 non-null     float64\n",
      " 9   2012-13     50 non-null     float64\n",
      " 10  2013-14     50 non-null     float64\n",
      " 11  2014-15     50 non-null     float64\n",
      " 12  2015-16     50 non-null     float64\n",
      "dtypes: float64(12), object(1)\n",
      "memory usage: 5.2+ KB\n"
     ]
    }
   ],
   "source": [
    "fee = pd.read_excel(FEE_URL)\n",
    "fee.info()"
   ]
  },
  {
   "cell_type": "code",
   "execution_count": 8,
   "id": "0d4c4d11-03e8-4fc8-bb6c-d57c9f406a31",
   "metadata": {},
   "outputs": [
    {
     "name": "stdout",
     "output_type": "stream",
     "text": [
      "<class 'pandas.core.frame.DataFrame'>\n",
      "RangeIndex: 57 entries, 0 to 56\n",
      "Data columns (total 4 columns):\n",
      " #   Column      Non-Null Count  Dtype \n",
      "---  ------      --------------  ----- \n",
      " 0   STATE       57 non-null     int64 \n",
      " 1   STUSAB      57 non-null     object\n",
      " 2   STATE_NAME  57 non-null     object\n",
      " 3   STATENS     57 non-null     int64 \n",
      "dtypes: int64(2), object(2)\n",
      "memory usage: 1.9+ KB\n"
     ]
    }
   ],
   "source": [
    "ansi = pd.read_csv(ANSI_URL, sep='|')\n",
    "ansi.info()"
   ]
  },
  {
   "cell_type": "code",
   "execution_count": 9,
   "id": "5e9f6709-5322-4131-867f-50f8434ff68e",
   "metadata": {},
   "outputs": [],
   "source": [
    "states = alt.topo_feature(vdata.us_10m.url, 'states')"
   ]
  },
  {
   "cell_type": "markdown",
   "id": "7be51fcb-3d06-407f-8f43-69fe22893c67",
   "metadata": {
    "tags": []
   },
   "source": [
    "### Prepare the data"
   ]
  },
  {
   "cell_type": "code",
   "execution_count": 10,
   "id": "e20cd953-a403-4d7d-9574-5deb533c3ce2",
   "metadata": {},
   "outputs": [
    {
     "name": "stdout",
     "output_type": "stream",
     "text": [
      "<class 'pandas.core.frame.DataFrame'>\n",
      "RangeIndex: 600 entries, 0 to 599\n",
      "Data columns (total 3 columns):\n",
      " #   Column      Non-Null Count  Dtype  \n",
      "---  ------      --------------  -----  \n",
      " 0   state_name  600 non-null    object \n",
      " 1   year        600 non-null    object \n",
      " 2   fee         600 non-null    float64\n",
      "dtypes: float64(1), object(2)\n",
      "memory usage: 14.2+ KB\n"
     ]
    }
   ],
   "source": [
    "v_fee = fee.melt(\n",
    "    id_vars='State', var_name='year', value_name='fee'\n",
    ").rename(\n",
    "    columns={'State': 'state_name'}\n",
    ")\n",
    "v_fee['year'] = v_fee['year'].str[:-3]\n",
    "v_fee['year'] = v_fee['year'].str.strip()\n",
    "v_fee.info()"
   ]
  },
  {
   "cell_type": "code",
   "execution_count": 11,
   "id": "2d065f82",
   "metadata": {},
   "outputs": [
    {
     "name": "stdout",
     "output_type": "stream",
     "text": [
      "<class 'pandas.core.frame.DataFrame'>\n",
      "RangeIndex: 57 entries, 0 to 56\n",
      "Data columns (total 4 columns):\n",
      " #   Column      Non-Null Count  Dtype \n",
      "---  ------      --------------  ----- \n",
      " 0   id          57 non-null     int64 \n",
      " 1   state_abbr  57 non-null     object\n",
      " 2   state_name  57 non-null     object\n",
      " 3   STATENS     57 non-null     int64 \n",
      "dtypes: int64(2), object(2)\n",
      "memory usage: 1.9+ KB\n"
     ]
    }
   ],
   "source": [
    "v_ansi = ansi.rename(\n",
    "    columns={\n",
    "        'STATE': 'id',\n",
    "        'STUSAB': 'state_abbr',\n",
    "        'STATE_NAME': 'state_name'\n",
    "    }\n",
    ")\n",
    "v_ansi.info()"
   ]
  },
  {
   "cell_type": "markdown",
   "id": "fd972217-71af-4c21-ac66-ccf8c51ed4c8",
   "metadata": {
    "tags": []
   },
   "source": [
    "### Visualise the data\n",
    "\n",
    "Percentage Change in State Average Annual Tuition Fees (2010-2015)"
   ]
  },
  {
   "cell_type": "code",
   "execution_count": 12,
   "id": "b6f8f15c-89b2-449f-81f1-4069a3b11c63",
   "metadata": {},
   "outputs": [
    {
     "data": {
      "text/html": [
       "\n",
       "<div id=\"altair-viz-23e3470cfafd47cebeb443b80bf1a3a3\"></div>\n",
       "<script type=\"text/javascript\">\n",
       "  var VEGA_DEBUG = (typeof VEGA_DEBUG == \"undefined\") ? {} : VEGA_DEBUG;\n",
       "  (function(spec, embedOpt){\n",
       "    let outputDiv = document.currentScript.previousElementSibling;\n",
       "    if (outputDiv.id !== \"altair-viz-23e3470cfafd47cebeb443b80bf1a3a3\") {\n",
       "      outputDiv = document.getElementById(\"altair-viz-23e3470cfafd47cebeb443b80bf1a3a3\");\n",
       "    }\n",
       "    const paths = {\n",
       "      \"vega\": \"https://cdn.jsdelivr.net/npm//vega@5?noext\",\n",
       "      \"vega-lib\": \"https://cdn.jsdelivr.net/npm//vega-lib?noext\",\n",
       "      \"vega-lite\": \"https://cdn.jsdelivr.net/npm//vega-lite@4.17.0?noext\",\n",
       "      \"vega-embed\": \"https://cdn.jsdelivr.net/npm//vega-embed@6?noext\",\n",
       "    };\n",
       "\n",
       "    function maybeLoadScript(lib, version) {\n",
       "      var key = `${lib.replace(\"-\", \"\")}_version`;\n",
       "      return (VEGA_DEBUG[key] == version) ?\n",
       "        Promise.resolve(paths[lib]) :\n",
       "        new Promise(function(resolve, reject) {\n",
       "          var s = document.createElement('script');\n",
       "          document.getElementsByTagName(\"head\")[0].appendChild(s);\n",
       "          s.async = true;\n",
       "          s.onload = () => {\n",
       "            VEGA_DEBUG[key] = version;\n",
       "            return resolve(paths[lib]);\n",
       "          };\n",
       "          s.onerror = () => reject(`Error loading script: ${paths[lib]}`);\n",
       "          s.src = paths[lib];\n",
       "        });\n",
       "    }\n",
       "\n",
       "    function showError(err) {\n",
       "      outputDiv.innerHTML = `<div class=\"error\" style=\"color:red;\">${err}</div>`;\n",
       "      throw err;\n",
       "    }\n",
       "\n",
       "    function displayChart(vegaEmbed) {\n",
       "      vegaEmbed(outputDiv, spec, embedOpt)\n",
       "        .catch(err => showError(`Javascript Error: ${err.message}<br>This usually means there's a typo in your chart specification. See the javascript console for the full traceback.`));\n",
       "    }\n",
       "\n",
       "    if(typeof define === \"function\" && define.amd) {\n",
       "      requirejs.config({paths});\n",
       "      require([\"vega-embed\"], displayChart, err => showError(`Error loading script: ${err.message}`));\n",
       "    } else {\n",
       "      maybeLoadScript(\"vega\", \"5\")\n",
       "        .then(() => maybeLoadScript(\"vega-lite\", \"4.17.0\"))\n",
       "        .then(() => maybeLoadScript(\"vega-embed\", \"6\"))\n",
       "        .catch(showError)\n",
       "        .then(() => displayChart(vegaEmbed));\n",
       "    }\n",
       "  })({\"config\": {\"view\": {\"continuousWidth\": 400, \"continuousHeight\": 300}, \"title\": {\"anchor\": \"start\", \"fontSize\": 16}}, \"data\": {\"name\": \"data-16d5ae4c73b87292c4544484eb16f286\"}, \"mark\": {\"type\": \"geoshape\", \"stroke\": \"black\"}, \"encoding\": {\"color\": {\"field\": \"diff (%)\", \"scale\": {\"scheme\": \"blues\"}, \"type\": \"quantitative\"}, \"shape\": {\"field\": \"geo\", \"type\": \"geojson\"}, \"tooltip\": [{\"field\": \"state_abbr\", \"type\": \"nominal\"}, {\"field\": \"diff (%)\", \"type\": \"quantitative\"}]}, \"height\": 600, \"projection\": {\"type\": \"albersUsa\"}, \"title\": \"Percentage Change in State Average Annual Tuition Fees (2010-2015)\", \"transform\": [{\"lookup\": \"id\", \"as\": \"geo\", \"from\": {\"data\": {\"url\": \"https://cdn.jsdelivr.net/npm/vega-datasets@v1.29.0/data/us-10m.json\", \"format\": {\"feature\": \"states\", \"type\": \"topojson\"}}, \"key\": \"id\"}}], \"width\": 800, \"$schema\": \"https://vega.github.io/schema/vega-lite/v4.17.0.json\", \"datasets\": {\"data-16d5ae4c73b87292c4544484eb16f286\": [{\"state_name\": \"Alabama\", \"diff (%)\": 20, \"id\": 1, \"state_abbr\": \"AL\", \"STATENS\": 1779775}, {\"state_name\": \"Alaska\", \"diff (%)\": 14, \"id\": 2, \"state_abbr\": \"AK\", \"STATENS\": 1785533}, {\"state_name\": \"Arizona\", \"diff (%)\": 20, \"id\": 4, \"state_abbr\": \"AZ\", \"STATENS\": 1779777}, {\"state_name\": \"Arkansas\", \"diff (%)\": 14, \"id\": 5, \"state_abbr\": \"AR\", \"STATENS\": 68085}, {\"state_name\": \"California\", \"diff (%)\": 13, \"id\": 6, \"state_abbr\": \"CA\", \"STATENS\": 1779778}, {\"state_name\": \"Colorado\", \"diff (%)\": 25, \"id\": 8, \"state_abbr\": \"CO\", \"STATENS\": 1779779}, {\"state_name\": \"Connecticut\", \"diff (%)\": 15, \"id\": 9, \"state_abbr\": \"CT\", \"STATENS\": 1779780}, {\"state_name\": \"Delaware\", \"diff (%)\": 10, \"id\": 10, \"state_abbr\": \"DE\", \"STATENS\": 1779781}, {\"state_name\": \"Florida\", \"diff (%)\": 15, \"id\": 12, \"state_abbr\": \"FL\", \"STATENS\": 294478}, {\"state_name\": \"Georgia\", \"diff (%)\": 31, \"id\": 13, \"state_abbr\": \"GA\", \"STATENS\": 1705317}, {\"state_name\": \"Hawaii\", \"diff (%)\": 24, \"id\": 15, \"state_abbr\": \"HI\", \"STATENS\": 1779782}, {\"state_name\": \"Idaho\", \"diff (%)\": 16, \"id\": 16, \"state_abbr\": \"ID\", \"STATENS\": 1779783}, {\"state_name\": \"Illinois\", \"diff (%)\": 9, \"id\": 17, \"state_abbr\": \"IL\", \"STATENS\": 1779784}, {\"state_name\": \"Indiana\", \"diff (%)\": 4, \"id\": 18, \"state_abbr\": \"IN\", \"STATENS\": 448508}, {\"state_name\": \"Iowa\", \"diff (%)\": 0, \"id\": 19, \"state_abbr\": \"IA\", \"STATENS\": 1779785}, {\"state_name\": \"Kansas\", \"diff (%)\": 17, \"id\": 20, \"state_abbr\": \"KS\", \"STATENS\": 481813}, {\"state_name\": \"Kentucky\", \"diff (%)\": 16, \"id\": 21, \"state_abbr\": \"KY\", \"STATENS\": 1779786}, {\"state_name\": \"Louisiana\", \"diff (%)\": 51, \"id\": 22, \"state_abbr\": \"LA\", \"STATENS\": 1629543}, {\"state_name\": \"Maine\", \"diff (%)\": -2, \"id\": 23, \"state_abbr\": \"ME\", \"STATENS\": 1779787}, {\"state_name\": \"Maryland\", \"diff (%)\": 8, \"id\": 24, \"state_abbr\": \"MD\", \"STATENS\": 1714934}, {\"state_name\": \"Massachusetts\", \"diff (%)\": 11, \"id\": 25, \"state_abbr\": \"MA\", \"STATENS\": 606926}, {\"state_name\": \"Michigan\", \"diff (%)\": 8, \"id\": 26, \"state_abbr\": \"MI\", \"STATENS\": 1779789}, {\"state_name\": \"Minnesota\", \"diff (%)\": 5, \"id\": 27, \"state_abbr\": \"MN\", \"STATENS\": 662849}, {\"state_name\": \"Mississippi\", \"diff (%)\": 23, \"id\": 28, \"state_abbr\": \"MS\", \"STATENS\": 1779790}, {\"state_name\": \"Missouri\", \"diff (%)\": 7, \"id\": 29, \"state_abbr\": \"MO\", \"STATENS\": 1779791}, {\"state_name\": \"Montana\", \"diff (%)\": 3, \"id\": 30, \"state_abbr\": \"MT\", \"STATENS\": 767982}, {\"state_name\": \"Nebraska\", \"diff (%)\": 5, \"id\": 31, \"state_abbr\": \"NE\", \"STATENS\": 1779792}, {\"state_name\": \"Nevada\", \"diff (%)\": 14, \"id\": 32, \"state_abbr\": \"NV\", \"STATENS\": 1779793}, {\"state_name\": \"New Hampshire\", \"diff (%)\": 15, \"id\": 33, \"state_abbr\": \"NH\", \"STATENS\": 1779794}, {\"state_name\": \"New Jersey\", \"diff (%)\": 4, \"id\": 34, \"state_abbr\": \"NJ\", \"STATENS\": 1779795}, {\"state_name\": \"New Mexico\", \"diff (%)\": 13, \"id\": 35, \"state_abbr\": \"NM\", \"STATENS\": 897535}, {\"state_name\": \"New York\", \"diff (%)\": 20, \"id\": 36, \"state_abbr\": \"NY\", \"STATENS\": 1779796}, {\"state_name\": \"North Carolina\", \"diff (%)\": 19, \"id\": 37, \"state_abbr\": \"NC\", \"STATENS\": 1027616}, {\"state_name\": \"North Dakota\", \"diff (%)\": 6, \"id\": 38, \"state_abbr\": \"ND\", \"STATENS\": 1779797}, {\"state_name\": \"Ohio\", \"diff (%)\": 2, \"id\": 39, \"state_abbr\": \"OH\", \"STATENS\": 1085497}, {\"state_name\": \"Oklahoma\", \"diff (%)\": 18, \"id\": 40, \"state_abbr\": \"OK\", \"STATENS\": 1102857}, {\"state_name\": \"Oregon\", \"diff (%)\": 15, \"id\": 41, \"state_abbr\": \"OR\", \"STATENS\": 1155107}, {\"state_name\": \"Pennsylvania\", \"diff (%)\": 7, \"id\": 42, \"state_abbr\": \"PA\", \"STATENS\": 1779798}, {\"state_name\": \"Rhode Island\", \"diff (%)\": 11, \"id\": 44, \"state_abbr\": \"RI\", \"STATENS\": 1219835}, {\"state_name\": \"South Carolina\", \"diff (%)\": 7, \"id\": 45, \"state_abbr\": \"SC\", \"STATENS\": 1779799}, {\"state_name\": \"South Dakota\", \"diff (%)\": 16, \"id\": 46, \"state_abbr\": \"SD\", \"STATENS\": 1785534}, {\"state_name\": \"Tennessee\", \"diff (%)\": 29, \"id\": 47, \"state_abbr\": \"TN\", \"STATENS\": 1325873}, {\"state_name\": \"Texas\", \"diff (%)\": 7, \"id\": 48, \"state_abbr\": \"TX\", \"STATENS\": 1779801}, {\"state_name\": \"Utah\", \"diff (%)\": 18, \"id\": 49, \"state_abbr\": \"UT\", \"STATENS\": 1455989}, {\"state_name\": \"Vermont\", \"diff (%)\": 9, \"id\": 50, \"state_abbr\": \"VT\", \"STATENS\": 1779802}, {\"state_name\": \"Virginia\", \"diff (%)\": 22, \"id\": 51, \"state_abbr\": \"VA\", \"STATENS\": 1779803}, {\"state_name\": \"Washington\", \"diff (%)\": 14, \"id\": 53, \"state_abbr\": \"WA\", \"STATENS\": 1779804}, {\"state_name\": \"West Virginia\", \"diff (%)\": 25, \"id\": 54, \"state_abbr\": \"WV\", \"STATENS\": 1779805}, {\"state_name\": \"Wisconsin\", \"diff (%)\": 4, \"id\": 55, \"state_abbr\": \"WI\", \"STATENS\": 1779806}, {\"state_name\": \"Wyoming\", \"diff (%)\": 13, \"id\": 56, \"state_abbr\": \"WY\", \"STATENS\": 1779807}]}}, {\"mode\": \"vega-lite\"});\n",
       "</script>"
      ],
      "text/plain": [
       "alt.Chart(...)"
      ]
     },
     "execution_count": 12,
     "metadata": {},
     "output_type": "execute_result"
    }
   ],
   "source": [
    "_gsource = (\n",
    "    v_fee.query(\"year in ['2010', '2015']\")\n",
    "    .groupby('state_name')['fee']\n",
    "    .pct_change()\n",
    "    .dropna()\n",
    "    .set_axis(v_fee['state_name'].drop_duplicates())\n",
    "    .rename('diff (%)')\n",
    "    .mul(100)\n",
    "    .astype('int')\n",
    "    .to_frame()\n",
    "    .merge(v_ansi, on='state_name')\n",
    ")\n",
    "\n",
    "alt.Chart(_gsource).mark_geoshape(\n",
    "    stroke='black'  # add state borders\n",
    ").encode(\n",
    "    shape='geo:G',\n",
    "    color=alt.Color(\"diff (%)\", scale=alt.Scale(scheme=\"blues\")),\n",
    "    tooltip=['state_abbr', 'diff (%)']\n",
    ").transform_lookup(\n",
    "    lookup='id',\n",
    "    from_=alt.LookupData(data=states, key='id'),\n",
    "    as_='geo'\n",
    ").project(\n",
    "    type='albersUsa'\n",
    ").properties(\n",
    "    title=('Percentage Change in State Average Annual Tuition Fees'\n",
    "           + ' (2010-2015)'),\n",
    "    width=800,\n",
    "    height=600\n",
    ").configure_title(\n",
    "    fontSize=16,\n",
    "    anchor='start'\n",
    ")"
   ]
  },
  {
   "cell_type": "markdown",
   "id": "d1a55c90",
   "metadata": {},
   "source": [
    "Average State Tuition Fee in the USA in 2015."
   ]
  },
  {
   "cell_type": "code",
   "execution_count": 13,
   "id": "54bd5f43",
   "metadata": {},
   "outputs": [
    {
     "data": {
      "text/html": [
       "\n",
       "<div id=\"altair-viz-71215ad6f8334eed9609fd0e9f9037fa\"></div>\n",
       "<script type=\"text/javascript\">\n",
       "  var VEGA_DEBUG = (typeof VEGA_DEBUG == \"undefined\") ? {} : VEGA_DEBUG;\n",
       "  (function(spec, embedOpt){\n",
       "    let outputDiv = document.currentScript.previousElementSibling;\n",
       "    if (outputDiv.id !== \"altair-viz-71215ad6f8334eed9609fd0e9f9037fa\") {\n",
       "      outputDiv = document.getElementById(\"altair-viz-71215ad6f8334eed9609fd0e9f9037fa\");\n",
       "    }\n",
       "    const paths = {\n",
       "      \"vega\": \"https://cdn.jsdelivr.net/npm//vega@5?noext\",\n",
       "      \"vega-lib\": \"https://cdn.jsdelivr.net/npm//vega-lib?noext\",\n",
       "      \"vega-lite\": \"https://cdn.jsdelivr.net/npm//vega-lite@4.17.0?noext\",\n",
       "      \"vega-embed\": \"https://cdn.jsdelivr.net/npm//vega-embed@6?noext\",\n",
       "    };\n",
       "\n",
       "    function maybeLoadScript(lib, version) {\n",
       "      var key = `${lib.replace(\"-\", \"\")}_version`;\n",
       "      return (VEGA_DEBUG[key] == version) ?\n",
       "        Promise.resolve(paths[lib]) :\n",
       "        new Promise(function(resolve, reject) {\n",
       "          var s = document.createElement('script');\n",
       "          document.getElementsByTagName(\"head\")[0].appendChild(s);\n",
       "          s.async = true;\n",
       "          s.onload = () => {\n",
       "            VEGA_DEBUG[key] = version;\n",
       "            return resolve(paths[lib]);\n",
       "          };\n",
       "          s.onerror = () => reject(`Error loading script: ${paths[lib]}`);\n",
       "          s.src = paths[lib];\n",
       "        });\n",
       "    }\n",
       "\n",
       "    function showError(err) {\n",
       "      outputDiv.innerHTML = `<div class=\"error\" style=\"color:red;\">${err}</div>`;\n",
       "      throw err;\n",
       "    }\n",
       "\n",
       "    function displayChart(vegaEmbed) {\n",
       "      vegaEmbed(outputDiv, spec, embedOpt)\n",
       "        .catch(err => showError(`Javascript Error: ${err.message}<br>This usually means there's a typo in your chart specification. See the javascript console for the full traceback.`));\n",
       "    }\n",
       "\n",
       "    if(typeof define === \"function\" && define.amd) {\n",
       "      requirejs.config({paths});\n",
       "      require([\"vega-embed\"], displayChart, err => showError(`Error loading script: ${err.message}`));\n",
       "    } else {\n",
       "      maybeLoadScript(\"vega\", \"5\")\n",
       "        .then(() => maybeLoadScript(\"vega-lite\", \"4.17.0\"))\n",
       "        .then(() => maybeLoadScript(\"vega-embed\", \"6\"))\n",
       "        .catch(showError)\n",
       "        .then(() => displayChart(vegaEmbed));\n",
       "    }\n",
       "  })({\"config\": {\"view\": {\"continuousWidth\": 400, \"continuousHeight\": 300}, \"title\": {\"anchor\": \"start\", \"fontSize\": 16}}, \"data\": {\"name\": \"data-023c9b4cff1194e18cb576d43c556e4a\"}, \"mark\": \"bar\", \"encoding\": {\"x\": {\"field\": \"fee\", \"title\": \"fee (USD)\", \"type\": \"quantitative\"}, \"y\": {\"field\": \"state_name\", \"sort\": \"-x\", \"title\": \"state\", \"type\": \"nominal\"}}, \"height\": 800, \"title\": \"Average State Tuition Fee in the USA in 2015\", \"width\": 600, \"$schema\": \"https://vega.github.io/schema/vega-lite/v4.17.0.json\", \"datasets\": {\"data-023c9b4cff1194e18cb576d43c556e4a\": [{\"state_name\": \"Alabama\", \"year\": \"2015\", \"fee\": 9751.101349251952}, {\"state_name\": \"Alaska\", \"year\": \"2015\", \"fee\": 6571.340316948697}, {\"state_name\": \"Arizona\", \"year\": \"2015\", \"fee\": 10646.278351749399}, {\"state_name\": \"Arkansas\", \"year\": \"2015\", \"fee\": 7867.29673593428}, {\"state_name\": \"California\", \"year\": \"2015\", \"fee\": 9269.844227224636}, {\"state_name\": \"Colorado\", \"year\": \"2015\", \"fee\": 9748.187715504646}, {\"state_name\": \"Connecticut\", \"year\": \"2015\", \"fee\": 11397.336553140489}, {\"state_name\": \"Delaware\", \"year\": \"2015\", \"fee\": 11676.215597471757}, {\"state_name\": \"Florida\", \"year\": \"2015\", \"fee\": 6360.159309231394}, {\"state_name\": \"Georgia\", \"year\": \"2015\", \"fee\": 8446.961426315582}, {\"state_name\": \"Hawaii\", \"year\": \"2015\", \"fee\": 10174.733720305641}, {\"state_name\": \"Idaho\", \"year\": \"2015\", \"fee\": 6818.470343746806}, {\"state_name\": \"Illinois\", \"year\": \"2015\", \"fee\": 13189.100826230002}, {\"state_name\": \"Indiana\", \"year\": \"2015\", \"fee\": 9119.648545884287}, {\"state_name\": \"Iowa\", \"year\": \"2015\", \"fee\": 7877.344019168941}, {\"state_name\": \"Kansas\", \"year\": \"2015\", \"fee\": 8530.493830784435}, {\"state_name\": \"Kentucky\", \"year\": \"2015\", \"fee\": 9566.67257334121}, {\"state_name\": \"Louisiana\", \"year\": \"2015\", \"fee\": 7870.959722650475}, {\"state_name\": \"Maine\", \"year\": \"2015\", \"fee\": 9572.968444568556}, {\"state_name\": \"Maryland\", \"year\": \"2015\", \"fee\": 9163.29158226419}, {\"state_name\": \"Massachusetts\", \"year\": \"2015\", \"fee\": 11588.125344457978}, {\"state_name\": \"Michigan\", \"year\": \"2015\", \"fee\": 11990.52822403027}, {\"state_name\": \"Minnesota\", \"year\": \"2015\", \"fee\": 10831.360471619942}, {\"state_name\": \"Mississippi\", \"year\": \"2015\", \"fee\": 7147.2712342461355}, {\"state_name\": \"Missouri\", \"year\": \"2015\", \"fee\": 8564.109743438288}, {\"state_name\": \"Montana\", \"year\": \"2015\", \"fee\": 6351.076487252125}, {\"state_name\": \"Nebraska\", \"year\": \"2015\", \"fee\": 7607.9658656882075}, {\"state_name\": \"Nevada\", \"year\": \"2015\", \"fee\": 6667.235801581596}, {\"state_name\": \"New Hampshire\", \"year\": \"2015\", \"fee\": 15159.895264116578}, {\"state_name\": \"New Jersey\", \"year\": \"2015\", \"fee\": 13303.419490336193}, {\"state_name\": \"New Mexico\", \"year\": \"2015\", \"fee\": 6354.521438963855}, {\"state_name\": \"New York\", \"year\": \"2015\", \"fee\": 7643.525099747241}, {\"state_name\": \"North Carolina\", \"year\": \"2015\", \"fee\": 6973.066091916937}, {\"state_name\": \"North Dakota\", \"year\": \"2015\", \"fee\": 7687.698216924241}, {\"state_name\": \"Ohio\", \"year\": \"2015\", \"fee\": 10195.895607219012}, {\"state_name\": \"Oklahoma\", \"year\": \"2015\", \"fee\": 7449.698064176078}, {\"state_name\": \"Oregon\", \"year\": \"2015\", \"fee\": 9371.346119665925}, {\"state_name\": \"Pennsylvania\", \"year\": \"2015\", \"fee\": 13394.777550376328}, {\"state_name\": \"Rhode Island\", \"year\": \"2015\", \"fee\": 11390.118397085611}, {\"state_name\": \"South Carolina\", \"year\": \"2015\", \"fee\": 11816.025925316488}, {\"state_name\": \"South Dakota\", \"year\": \"2015\", \"fee\": 8054.912800263244}, {\"state_name\": \"Tennessee\", \"year\": \"2015\", \"fee\": 9263.479110787835}, {\"state_name\": \"Texas\", \"year\": \"2015\", \"fee\": 9116.732642680614}, {\"state_name\": \"Utah\", \"year\": \"2015\", \"fee\": 6362.682377404262}, {\"state_name\": \"Vermont\", \"year\": \"2015\", \"fee\": 14993.026532856751}, {\"state_name\": \"Virginia\", \"year\": \"2015\", \"fee\": 11818.692852673435}, {\"state_name\": \"Washington\", \"year\": \"2015\", \"fee\": 10288.352635518957}, {\"state_name\": \"West Virginia\", \"year\": \"2015\", \"fee\": 7171.450966340447}, {\"state_name\": \"Wisconsin\", \"year\": \"2015\", \"fee\": 8815.260667850567}, {\"state_name\": \"Wyoming\", \"year\": \"2015\", \"fee\": 4890.999758220503}]}}, {\"mode\": \"vega-lite\"});\n",
       "</script>"
      ],
      "text/plain": [
       "alt.Chart(...)"
      ]
     },
     "execution_count": 13,
     "metadata": {},
     "output_type": "execute_result"
    }
   ],
   "source": [
    "_gsource = v_fee.query(\"year == '2015'\")\n",
    "\n",
    "alt.Chart(_gsource).mark_bar().encode(\n",
    "    x=alt.X('fee', title='fee (USD)'),\n",
    "    y=alt.Y('state_name', title='state', sort='-x')\n",
    ").properties(\n",
    "    title=('Average State Tuition Fee in the USA in 2015'),\n",
    "    width=600,\n",
    "    height=800\n",
    ").configure_title(\n",
    "    fontSize=16,\n",
    "    anchor='start'\n",
    ")"
   ]
  },
  {
   "cell_type": "markdown",
   "id": "54dc6472",
   "metadata": {},
   "source": [
    "[^1]: Used for mapping the data on a chloropleth map."
   ]
  }
 ],
 "metadata": {
  "kernelspec": {
   "display_name": "tidytuesday",
   "language": "python",
   "name": "tidytuesday"
  },
  "language_info": {
   "codemirror_mode": {
    "name": "ipython",
    "version": 3
   },
   "file_extension": ".py",
   "mimetype": "text/x-python",
   "name": "python",
   "nbconvert_exporter": "python",
   "pygments_lexer": "ipython3",
   "version": "3.10.4"
  }
 },
 "nbformat": 4,
 "nbformat_minor": 5
}
