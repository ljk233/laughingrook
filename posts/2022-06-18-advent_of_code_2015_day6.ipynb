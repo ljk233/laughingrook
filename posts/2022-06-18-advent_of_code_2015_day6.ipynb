{
 "cells": [
  {
   "cell_type": "raw",
   "id": "b1801a88",
   "metadata": {},
   "source": [
    "---\n",
    "title: Advent of Code 2015, Day 6\n",
    "author: LaughingRook\n",
    "date: 2022-06-18\n",
    "categories: [AdventOfCode]\n",
    "format:\n",
    "  html:\n",
    "    code-fold: false\n",
    "    code-tools: true\n",
    "---"
   ]
  },
  {
   "cell_type": "markdown",
   "id": "34932036",
   "metadata": {},
   "source": [
    "## Summary notes\n",
    "\n",
    "This is my solution to Advent of Code 2015, Day 1: *Probably a Fire Hazard*."
   ]
  },
  {
   "cell_type": "markdown",
   "id": "ec3862e7",
   "metadata": {},
   "source": [
    "## Dependencies"
   ]
  },
  {
   "cell_type": "code",
   "execution_count": 1,
   "id": "5ae2d97f",
   "metadata": {},
   "outputs": [],
   "source": [
    "import laughingrook as lr"
   ]
  },
  {
   "cell_type": "markdown",
   "id": "75ada2d1",
   "metadata": {},
   "source": [
    "## Functions"
   ]
  },
  {
   "cell_type": "code",
   "execution_count": 2,
   "id": "121c8773",
   "metadata": {},
   "outputs": [],
   "source": [
    "def is_toggle(line) -> bool:\n",
    "    \"\"\"Return true if line is a toggle instruction.\n",
    "    \"\"\"\n",
    "    return 'toggle' in line"
   ]
  },
  {
   "cell_type": "code",
   "execution_count": 3,
   "id": "55f44f27",
   "metadata": {},
   "outputs": [],
   "source": [
    "def count_lights(q: list) -> int:\n",
    "    \"\"\"Return the number of lights on in the grid after executing the\n",
    "    instructions\n",
    "    \"\"\"\n",
    "    grid = [[False for _ in range(1000)] for _ in range(1000)]\n",
    "    for instruction in q:\n",
    "        inst, rows, cols = instruction\n",
    "        for r in range(rows[0], rows[1]):\n",
    "            for c in range(cols[0], cols[1]):\n",
    "                if inst == -1:  # is toggle\n",
    "                    grid[r][c] = not grid[r][c]\n",
    "                elif inst == 0:  # turn off\n",
    "                    grid[r][c] = False\n",
    "                else:            # turn on\n",
    "                    grid[r][c] = True\n",
    "\n",
    "    lights_on = 0\n",
    "    for row in grid:\n",
    "        lights_on += sum(row)\n",
    "\n",
    "    return lights_on"
   ]
  },
  {
   "cell_type": "code",
   "execution_count": 4,
   "id": "671c598b",
   "metadata": {},
   "outputs": [],
   "source": [
    "def sum_brightness(q: list) -> int:\n",
    "    \"\"\"Return the sum of the brightness of all lights in the grid after\n",
    "    executing the instructions.\n",
    "    \"\"\"\n",
    "    grid = [[0 for _ in range(1000)] for _ in range(1000)]\n",
    "    for instruction in q:\n",
    "        inst, rows, cols = instruction\n",
    "        for r in range(rows[0], rows[1]):\n",
    "            for c in range(cols[0], cols[1]):\n",
    "                if inst == -1:  # is toggle\n",
    "                    grid[r][c] = grid[r][c] + 2\n",
    "                elif inst == 0:  # dim light\n",
    "                    if grid[r][c] > 0:\n",
    "                        grid[r][c] = grid[r][c] - 1\n",
    "                else:            # brighten light\n",
    "                    grid[r][c] = grid[r][c] + 1\n",
    "\n",
    "    total_brightness = 0\n",
    "    for row in grid:\n",
    "        total_brightness += sum(row)\n",
    "\n",
    "    return total_brightness"
   ]
  },
  {
   "cell_type": "markdown",
   "id": "2bc2b37f",
   "metadata": {},
   "source": [
    "## Main"
   ]
  },
  {
   "cell_type": "markdown",
   "id": "316c8a99",
   "metadata": {},
   "source": [
    "### Load the input"
   ]
  },
  {
   "cell_type": "code",
   "execution_count": 5,
   "id": "57e812e4",
   "metadata": {},
   "outputs": [
    {
     "name": "stdout",
     "output_type": "stream",
     "text": [
      "file was cached.\n",
      "lines = ['toggle 461,550 through 564,900', 'turn off 370,39 through 425,839', 'turn off 464,858 through 833,915', 'turn off 812,389 through 865,874', 'turn on 599,989 through 806,993']\n"
     ]
    }
   ],
   "source": [
    "lines = lr.datasets.get_advent_input(2015, 6)\n",
    "print(f'lines = {lines[:5]}')"
   ]
  },
  {
   "cell_type": "markdown",
   "id": "f5768bb8",
   "metadata": {},
   "source": [
    "### Prepare the input"
   ]
  },
  {
   "cell_type": "code",
   "execution_count": 6,
   "id": "57566bdc",
   "metadata": {},
   "outputs": [
    {
     "name": "stdout",
     "output_type": "stream",
     "text": [
      "q = [(-1, (461, 565), (550, 901)), (0, (370, 426), (39, 840)), (0, (464, 834), (858, 916))]\n"
     ]
    }
   ],
   "source": [
    "q = []\n",
    "for line in lines:\n",
    "    arr = line.split(' ')\n",
    "    if arr[0] == 'toggle':\n",
    "        inst, start, end = -1, arr[1], arr[3]\n",
    "    elif arr[1] == 'off':\n",
    "        inst, start, end = 0, arr[2], arr[4]\n",
    "    else:\n",
    "        inst, start, end = 1, arr[2], arr[4]\n",
    "    start = [int(x) for x in start.split(',')]\n",
    "    end = [int(x) for x in end.split(',')]\n",
    "    rows = start[0], end[0]+1\n",
    "    cols = start[1], end[1]+1\n",
    "    q.append((inst, rows, cols))\n",
    "print(f'q = {q[:3]}')"
   ]
  },
  {
   "cell_type": "markdown",
   "id": "244926a9",
   "metadata": {},
   "source": [
    "### Part 1"
   ]
  },
  {
   "cell_type": "code",
   "execution_count": 7,
   "id": "8c64f672",
   "metadata": {},
   "outputs": [
    {
     "name": "stdout",
     "output_type": "stream",
     "text": [
      "Solution = 543903\n"
     ]
    }
   ],
   "source": [
    "print(f\"Solution = {count_lights(q)}\")"
   ]
  },
  {
   "cell_type": "markdown",
   "id": "2efc596d",
   "metadata": {},
   "source": [
    "### Part 2"
   ]
  },
  {
   "cell_type": "code",
   "execution_count": 8,
   "id": "a87340da",
   "metadata": {},
   "outputs": [
    {
     "name": "stdout",
     "output_type": "stream",
     "text": [
      "Solution = 14687245\n"
     ]
    }
   ],
   "source": [
    "print(f\"Solution = {sum_brightness(q)}\")"
   ]
  },
  {
   "cell_type": "markdown",
   "id": "279ecfff",
   "metadata": {},
   "source": [
    "### Performance"
   ]
  },
  {
   "cell_type": "code",
   "execution_count": 9,
   "id": "27a306ec",
   "metadata": {},
   "outputs": [
    {
     "name": "stdout",
     "output_type": "stream",
     "text": [
      "Part 1 =\n",
      "1.29 s ± 25.3 ms per loop (mean ± std. dev. of 7 runs, 1 loop each)\n",
      "Part 2 =\n",
      "1.94 s ± 19.1 ms per loop (mean ± std. dev. of 7 runs, 1 loop each)\n"
     ]
    }
   ],
   "source": [
    "print('Part 1 =')\n",
    "%timeit count_lights(q)\n",
    "print('Part 2 =')\n",
    "%timeit sum_brightness(q)"
   ]
  }
 ],
 "metadata": {
  "kernelspec": {
   "display_name": "laughingrook",
   "language": "python",
   "name": "laughingrook"
  },
  "language_info": {
   "codemirror_mode": {
    "name": "ipython",
    "version": 3
   },
   "file_extension": ".py",
   "mimetype": "text/x-python",
   "name": "python",
   "nbconvert_exporter": "python",
   "pygments_lexer": "ipython3",
   "version": "3.10.4"
  }
 },
 "nbformat": 4,
 "nbformat_minor": 5
}
