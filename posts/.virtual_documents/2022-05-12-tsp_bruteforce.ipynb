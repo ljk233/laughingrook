import random as rand
import math
import itertools as it
import networkx as nx


def bruteforce_tsp(G: nx.Graph, start: object) -> float | int:
    """Return the shortest route that visits every city exactly once and
    ends back at the start.

    Solves the travelling salesperson with a brute-force search using
    permutations.

    Preconditions:
    - G is a complete weighted graph
    - start in G
    - WG[u, v]['weight'] is the distance u -> v
    """
    neighbours = set((node for node in G.nodes if node != start))
    min_dist = math.inf
    for path in it.permutations(neighbours):
        u, dist = start, 0
        for v in path:
            dist += G.edges[u, v]['weight']
            u = v
        min_dist = min(min_dist, dist + G.edges[u, start]['weight'])

    return min_dist


cg = nx.complete_graph(['origin', 'a', 'b', 'c', 'd'])
g = nx.Graph((u, v, {'weight': rand.randint(1, 10)}) for u, v in cg.edges)
print(f"g = {g}")


print(f"Shortest path from the origin = {bruteforce_tsp(g, 'origin')}")


for n in [4, 6, 8, 10]:
    print(f"|nodes(g)| = {n}")
    cg = nx.complete_graph(n)
    g = nx.Graph((u, v, {'weight': rand.randint(1, 10)}) for u, v in cg.edges)
    get_ipython().run_line_magic("timeit", " bruteforce_tsp(g, 1)")
