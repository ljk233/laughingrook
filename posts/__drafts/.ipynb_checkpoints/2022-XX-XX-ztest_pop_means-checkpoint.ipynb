{
 "cells": [
  {
   "cell_type": "raw",
   "id": "cf052ab4-2e71-4eda-8e76-081223da83b3",
   "metadata": {},
   "source": [
    "---\n",
    "title: \"Testing Hypotheses: Z-Tests And Population Means\"\n",
    "author: LaughingRook\n",
    "date: 2022-07-25\n",
    "categories: [M248, Statistics]\n",
    "format:\n",
    "  html:\n",
    "    code-tools: true\n",
    "---"
   ]
  },
  {
   "cell_type": "markdown",
   "id": "9c3f1aed-7ab4-4309-af31-0c153c937cd2",
   "metadata": {},
   "source": [
    "## Sumary\n",
    "\n",
    "Perform a one-sample $z$-test of a population mean and a two-sample $z$-test of the difference between two population means.\n",
    "\n",
    "Data on the mean pass rate across all UK test centres during the period from April 2014 to March 2015 was obtained and analysed using an approximate normal model.\n",
    "(Data were taken from the Open University, who did not provide the primary source.)\n",
    "\n",
    "Two two-sided $z$-tests were performed:\n",
    "\n",
    "1. A one-sample $z$-test of the null hypothesis that the mean total pass rate for the UK practical driving test in 2014/15 was the same as the 2013/2014 (which was given as 47.1%).[^1]\n",
    "2. A two-sample $z$-test of the null hypothesis that the mean total pass rate of females for the UK practical driving test in 2014/15 was the same as that of males.[^1]\n",
    "\n",
    "Normality of the three data were checked using normal probability plots.[^1]\n",
    "\n",
    "General workflow:\n",
    "\n",
    "1. Load the data\n",
    "1. Describe the data\n",
    "1. Plot the data\n",
    "1. Get an interval estimate\n",
    "1. Check the normality of the data\n",
    "1. Perform the hypothesis test\n",
    "\n",
    "These topics were covered in M248, Units 8 and 9."
   ]
  },
  {
   "cell_type": "markdown",
   "id": "85570acf-3bde-4231-8cde-2a88ecd405c2",
   "metadata": {},
   "source": [
    "## Dependencies"
   ]
  },
  {
   "cell_type": "code",
   "execution_count": null,
   "id": "187e31e8-8036-4862-946a-a5d8bbbeb27a",
   "metadata": {},
   "outputs": [],
   "source": [
    "import pandas as pd\n",
    "from scipy import stats as st\n",
    "from statsmodels.stats import weightstats as ws\n",
    "from matplotlib import pyplot as plt\n",
    "import seaborn as sns"
   ]
  },
  {
   "cell_type": "code",
   "execution_count": null,
   "id": "42649a4c-1df4-498c-af2c-25a9a57c69c1",
   "metadata": {},
   "outputs": [],
   "source": [
    "sns.set_theme()"
   ]
  },
  {
   "cell_type": "markdown",
   "id": "abc59c9f-666f-4b9b-a686-e1198b6ac449",
   "metadata": {},
   "source": [
    "## Constants"
   ]
  },
  {
   "cell_type": "code",
   "execution_count": null,
   "id": "d5373fde-ea8a-4143-8128-711bb0d4def9",
   "metadata": {},
   "outputs": [],
   "source": [
    "URL = ('https://raw.githubusercontent.com/ljk233/laughingrook-datasets'\n",
    "       + '/main/uk_prac_driving_tests/pass_rates.csv')"
   ]
  },
  {
   "cell_type": "markdown",
   "id": "f34cf56a-4ac1-4bdb-9d28-817697b241b4",
   "metadata": {},
   "source": [
    "## Main"
   ]
  },
  {
   "cell_type": "markdown",
   "id": "0da8ccea-a0ba-449b-a45a-60ef9de494f8",
   "metadata": {},
   "source": [
    "### Load data"
   ]
  },
  {
   "cell_type": "code",
   "execution_count": null,
   "id": "07813214-83b4-41c3-a992-6d763dc5bd90",
   "metadata": {},
   "outputs": [],
   "source": [
    "pass_rates = pd.read_csv(URL)\n",
    "pass_rates.info()"
   ]
  },
  {
   "cell_type": "markdown",
   "id": "b8bf01e5-9e23-4cec-bcb3-39b5814b1fe6",
   "metadata": {},
   "source": [
    "### Test 1: Was the mean total pass rate in 2014/15 equal to that in 2013/14?\n",
    "\n",
    "Here we test the hypotheses:\n",
    "\n",
    "$$\n",
    "H_{0}: \\mu_{2014} = \\mu_{2013};\n",
    "\\hspace{3mm} H_{1}: \\mu_{2014} \\ne \\mu_{2013},\n",
    "$$\n",
    "\n",
    "where $\\mu_{2013}=$ 47.1%."
   ]
  },
  {
   "cell_type": "markdown",
   "id": "902345c4",
   "metadata": {},
   "source": [
    "Describe the total pass rate."
   ]
  },
  {
   "cell_type": "code",
   "execution_count": null,
   "id": "ae2db12f",
   "metadata": {},
   "outputs": [],
   "source": [
    "pass_rates['total'].describe()"
   ]
  },
  {
   "cell_type": "markdown",
   "id": "d47ce7ca",
   "metadata": {},
   "source": [
    "Inititialise an instance of `DescrStatsW`."
   ]
  },
  {
   "cell_type": "code",
   "execution_count": null,
   "id": "c15a141a-743f-4608-a290-593a490e6df3",
   "metadata": {},
   "outputs": [],
   "source": [
    "d = ws.DescrStatsW(pass_rates['total'])"
   ]
  },
  {
   "cell_type": "markdown",
   "id": "ce545c20",
   "metadata": {},
   "source": [
    "Plot the distribution of total pass rates in 2014/15."
   ]
  },
  {
   "cell_type": "code",
   "execution_count": null,
   "id": "2dcbaf64-e2c2-49cd-b614-03fb3d31d50e",
   "metadata": {},
   "outputs": [],
   "source": [
    "_g = sns.displot(\n",
    "            x=d.data,\n",
    "            kind='hist',\n",
    "            kde=True,\n",
    "            stat='density',\n",
    "            aspect=2\n",
    ")"
   ]
  },
  {
   "cell_type": "markdown",
   "id": "03cb052d",
   "metadata": {},
   "source": [
    "Return an interval estimate of the mean total pass rate."
   ]
  },
  {
   "cell_type": "code",
   "execution_count": null,
   "id": "af7ae84a-12f8-48df-b4b8-9e4c14fda506",
   "metadata": {},
   "outputs": [],
   "source": [
    "pd.Series(data=d.zconfint_mean(), index=['lcb', 'ucb']).round(6)"
   ]
  },
  {
   "cell_type": "markdown",
   "id": "47cc3f54",
   "metadata": {},
   "source": [
    "Check the normality of the data."
   ]
  },
  {
   "cell_type": "code",
   "execution_count": null,
   "id": "90cbf5b9-1431-4507-8192-15aafa3ea7a4",
   "metadata": {},
   "outputs": [],
   "source": [
    "_f, _ax = plt.subplots(figsize=(11.8, 6))\n",
    "_res = st.probplot(x=d.data, plot=_ax)"
   ]
  },
  {
   "cell_type": "markdown",
   "id": "c222664e",
   "metadata": {},
   "source": [
    "Perform the one-sample $z$-test."
   ]
  },
  {
   "cell_type": "code",
   "execution_count": null,
   "id": "77937724-00d3-4777-8fb2-da87afafab98",
   "metadata": {},
   "outputs": [],
   "source": [
    "pd.Series(data=d.ztest_mean(value=47.1), index=['zstat', 'pvalue']).round(6)"
   ]
  },
  {
   "cell_type": "markdown",
   "id": "cdf6d2c8-291c-46cf-9220-f3f3958bad5c",
   "metadata": {},
   "source": [
    "### Test 2: Was the mean pass rate of females equal to that of males?\n",
    "\n",
    "Here we test the hypotheses:\n",
    "\n",
    "$$\n",
    "H_{0}: \\mu_{f} = \\mu_{m};\n",
    "\\hspace{3mm} H_{1}: \\mu_{f} \\ne \\mu_{m}.\n",
    "$$\n",
    "\n",
    "Describe the data."
   ]
  },
  {
   "cell_type": "code",
   "execution_count": null,
   "id": "174482f1",
   "metadata": {},
   "outputs": [],
   "source": [
    "pass_rates[['female', 'male']].describe().T"
   ]
  },
  {
   "cell_type": "markdown",
   "id": "9e97aa49",
   "metadata": {},
   "source": [
    "Initialise instance of `CompareMeans`."
   ]
  },
  {
   "cell_type": "code",
   "execution_count": null,
   "id": "d829b35f",
   "metadata": {},
   "outputs": [],
   "source": [
    "cm = ws.CompareMeans(\n",
    "    ws.DescrStatsW(pass_rates['female']),\n",
    "    ws.DescrStatsW(pass_rates['male'])\n",
    ")"
   ]
  },
  {
   "cell_type": "markdown",
   "id": "d7fa299a",
   "metadata": {},
   "source": [
    "Return interval estimates of the mean female and male pass rates."
   ]
  },
  {
   "cell_type": "code",
   "execution_count": null,
   "id": "ea63f846",
   "metadata": {},
   "outputs": [],
   "source": [
    "pd.DataFrame(\n",
    "    data=[cm.d1.zconfint_mean(), cm.d2.zconfint_mean()],\n",
    "    columns=['lcb', 'ucb'],\n",
    "    index=['female', 'male']\n",
    ")"
   ]
  },
  {
   "cell_type": "markdown",
   "id": "53a495ef",
   "metadata": {},
   "source": [
    "Plot the distributions of the pass rates."
   ]
  },
  {
   "cell_type": "code",
   "execution_count": null,
   "id": "0ba73f69",
   "metadata": {},
   "outputs": [],
   "source": [
    "_g = sns.displot(\n",
    "            data=pass_rates[['female', 'male']].melt(),\n",
    "            x='value',\n",
    "            kind='hist',\n",
    "            col='variable',\n",
    "            hue='variable',\n",
    "            legend=False,\n",
    "            kde=True,\n",
    "            stat='density'\n",
    ")"
   ]
  },
  {
   "cell_type": "markdown",
   "id": "8ff57fb8",
   "metadata": {},
   "source": [
    "Check the normality of both data."
   ]
  },
  {
   "cell_type": "code",
   "execution_count": null,
   "id": "3f1abd54",
   "metadata": {},
   "outputs": [],
   "source": [
    "_f, _axs = plt.subplots(1, 2, figsize=(11.8, 6), sharey=True)\n",
    "st.probplot(x=cm.d1.data, plot=_axs[0])\n",
    "st.probplot(x=cm.d2.data, plot=_axs[1])\n",
    "_f.suptitle('Probability Plots', fontsize=16)\n",
    "_axs[0].set_title('female')\n",
    "_axs[1].set_title('male')\n",
    "plt.show()"
   ]
  },
  {
   "cell_type": "markdown",
   "id": "69641826",
   "metadata": {},
   "source": [
    "Perform the two-sample $z$-test."
   ]
  },
  {
   "cell_type": "code",
   "execution_count": null,
   "id": "e5bad079",
   "metadata": {},
   "outputs": [],
   "source": [
    "pd.Series(data=cm.ztest_ind(), index=['zstat', 'pvalue']).round(6)"
   ]
  },
  {
   "cell_type": "markdown",
   "id": "065ea033",
   "metadata": {},
   "source": [
    "## Footnotes\n",
    "\n",
    "[^1]: [statsmodels.stats.weightstats.DescrStatsW](https://www.statsmodels.org/devel/generated/statsmodels.stats.weightstats.DescrStatsW.html)\n",
    "[^1]: [statsmodels.stats.weightstats.CompareMeans](https://www.statsmodels.org/devel/generated/statsmodels.stats.weightstats.CompareMeans.html)\n",
    "[^1]: [scipy.stats.probplot](https://docs.scipy.org/doc/scipy/reference/generated/scipy.stats.probplot.html)"
   ]
  }
 ],
 "metadata": {
  "kernelspec": {
   "display_name": "laughingrook",
   "language": "python",
   "name": "laughingrook"
  },
  "language_info": {
   "codemirror_mode": {
    "name": "ipython",
    "version": 3
   },
   "file_extension": ".py",
   "mimetype": "text/x-python",
   "name": "python",
   "nbconvert_exporter": "python",
   "pygments_lexer": "ipython3",
   "version": "3.10.4"
  }
 },
 "nbformat": 4,
 "nbformat_minor": 5
}
