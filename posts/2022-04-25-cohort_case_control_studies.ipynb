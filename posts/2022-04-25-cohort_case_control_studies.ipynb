{
 "cells": [
  {
   "cell_type": "raw",
   "metadata": {},
   "source": [
    "---\n",
    "title: Cohort and Case-Control Studies\n",
    "author: LaughingRook\n",
    "date: 2022-04-25\n",
    "categories: [M249, Statistics]\n",
    "format:\n",
    "  html:\n",
    "    code-fold: false\n",
    "    code-tools: true\n",
    "---"
   ]
  },
  {
   "cell_type": "markdown",
   "metadata": {},
   "source": [
    "## Summary notes\n",
    "\n",
    "Perform an epidemiological study on the results of a cohort study analysing the possible association between compulsory redundancies and incidents of serious self-inflicted injury (SSI) (Keefe, V., et al (2002)).\n",
    "The exposure is being made compulsorily redundant;\n",
    "and the disease is incidents of serious self-inflicted injury.\n",
    "\n",
    "The study results were as follows.\n",
    "\n",
    "|                            | SSI (+) | no SSI (-) |\n",
    "| -------------------------- | ------: | ---------: |\n",
    "| **made redundant (+)**     | 14      | 1931       |\n",
    "| **not made redundant (-)** | 4       | 1763       |\n",
    "\n",
    "\n",
    "The results were initialised as a NumPy `array`.\n",
    "Measures of association (odds ratio and relative risk) were calculated, including confidence interval estimates.\n",
    "A chi-squared test of no association was used to test the strength of evidence of an association.\n",
    "For completeness, we rounded-off the analysis by performing Fisher's exact test.\n",
    "\n",
    "Note, some of the results were outputted as Pandas `Series`, rather than using the default return type.\n",
    "This is optional, and only done to provide a more standardised results output.\n",
    "\n",
    "These topics are covered by M249, Book 1, Part 1."
   ]
  },
  {
   "cell_type": "markdown",
   "metadata": {},
   "source": [
    "## Dependencies"
   ]
  },
  {
   "cell_type": "code",
   "execution_count": 1,
   "metadata": {},
   "outputs": [],
   "source": [
    "import numpy as np\n",
    "import pandas as pd\n",
    "from scipy import stats as st\n",
    "from statsmodels import api as sm"
   ]
  },
  {
   "cell_type": "markdown",
   "metadata": {},
   "source": [
    "## Global constants\n",
    "\n",
    "These are the results from the study."
   ]
  },
  {
   "cell_type": "code",
   "execution_count": 2,
   "metadata": {},
   "outputs": [],
   "source": [
    "OBS = np.array([[14, 1931], [4, 1763]])"
   ]
  },
  {
   "cell_type": "markdown",
   "metadata": {},
   "source": [
    "## Main"
   ]
  },
  {
   "cell_type": "markdown",
   "metadata": {},
   "source": [
    "### Initialise the results"
   ]
  },
  {
   "cell_type": "code",
   "execution_count": 3,
   "metadata": {},
   "outputs": [
    {
     "name": "stdout",
     "output_type": "stream",
     "text": [
      "A 2x2 contingency table with counts:\n",
      "[[  14. 1931.]\n",
      " [   4. 1763.]]\n"
     ]
    }
   ],
   "source": [
    "ctable = sm.stats.Table2x2(OBS)\n",
    "print(ctable)"
   ]
  },
  {
   "cell_type": "markdown",
   "metadata": {},
   "source": [
    "### Measures of association"
   ]
  },
  {
   "cell_type": "markdown",
   "metadata": {},
   "source": [
    "#### Odds ratio\n",
    "\n",
    "Return the point and interval estimates of the odds ratio."
   ]
  },
  {
   "cell_type": "code",
   "execution_count": 4,
   "metadata": {},
   "outputs": [
    {
     "data": {
      "text/plain": [
       "point    3.195495\n",
       "lcb      1.049877\n",
       "ucb      9.726081\n",
       "Name: odds ratio, dtype: float64"
      ]
     },
     "execution_count": 4,
     "metadata": {},
     "output_type": "execute_result"
    }
   ],
   "source": [
    "pd.Series(\n",
    "    data={\n",
    "        'point': ctable.oddsratio,\n",
    "        'lcb': ctable.oddsratio_confint()[0],\n",
    "        'ucb': ctable.oddsratio_confint()[1],\n",
    "    },\n",
    "    name='odds ratio'\n",
    ")"
   ]
  },
  {
   "cell_type": "markdown",
   "metadata": {},
   "source": [
    "#### Relative risk\n",
    "\n",
    "Return a point and interval estimate for the relative risk."
   ]
  },
  {
   "cell_type": "code",
   "execution_count": 5,
   "metadata": {},
   "outputs": [
    {
     "data": {
      "text/plain": [
       "point    3.179692\n",
       "lcb      1.048602\n",
       "ucb      9.641829\n",
       "Name: relative risk, dtype: float64"
      ]
     },
     "execution_count": 5,
     "metadata": {},
     "output_type": "execute_result"
    }
   ],
   "source": [
    "pd.Series(\n",
    "    data={\n",
    "        'point': ctable.riskratio,\n",
    "        'lcb': ctable.riskratio_confint()[0],\n",
    "        'ucb': ctable.riskratio_confint()[1],\n",
    "    },\n",
    "    name='relative risk'\n",
    ")"
   ]
  },
  {
   "cell_type": "markdown",
   "metadata": {},
   "source": [
    "### Chi-squared test for no association"
   ]
  },
  {
   "cell_type": "markdown",
   "metadata": {},
   "source": [
    "The expected frequencies under the null hypothesis of no association."
   ]
  },
  {
   "cell_type": "code",
   "execution_count": 6,
   "metadata": {},
   "outputs": [
    {
     "data": {
      "text/plain": [
       "array([[   9.43157328, 1935.56842672],\n",
       "       [   8.56842672, 1758.43157328]])"
      ]
     },
     "execution_count": 6,
     "metadata": {},
     "output_type": "execute_result"
    }
   ],
   "source": [
    "ctable.fittedvalues"
   ]
  },
  {
   "cell_type": "markdown",
   "metadata": {},
   "source": [
    "The differences between the observed and expected frequencies."
   ]
  },
  {
   "cell_type": "code",
   "execution_count": 7,
   "metadata": {},
   "outputs": [
    {
     "data": {
      "text/plain": [
       "array([[ 4.56842672, -4.56842672],\n",
       "       [-4.56842672,  4.56842672]])"
      ]
     },
     "execution_count": 7,
     "metadata": {},
     "output_type": "execute_result"
    }
   ],
   "source": [
    "OBS - ctable.fittedvalues"
   ]
  },
  {
   "cell_type": "markdown",
   "metadata": {},
   "source": [
    "The contributions to the chi-squared test statistic."
   ]
  },
  {
   "cell_type": "code",
   "execution_count": 8,
   "metadata": {},
   "outputs": [
    {
     "data": {
      "text/plain": [
       "array([[2.21283577, 0.01078263],\n",
       "       [2.43574736, 0.01186883]])"
      ]
     },
     "execution_count": 8,
     "metadata": {},
     "output_type": "execute_result"
    }
   ],
   "source": [
    "ctable.chi2_contribs"
   ]
  },
  {
   "cell_type": "markdown",
   "metadata": {},
   "source": [
    "The results of the chi-squared test."
   ]
  },
  {
   "cell_type": "code",
   "execution_count": 9,
   "metadata": {},
   "outputs": [
    {
     "data": {
      "text/plain": [
       "statistic    4.671235\n",
       "pval         0.030672\n",
       "df                  1\n",
       "Name: chi-squared test, dtype: object"
      ]
     },
     "execution_count": 9,
     "metadata": {},
     "output_type": "execute_result"
    }
   ],
   "source": [
    "res = ctable.test_nominal_association()\n",
    "pd.Series(\n",
    "    data={'statistic': res.statistic, 'pval': res.pvalue, 'df': int(res.df)},\n",
    "    name='chi-squared test',\n",
    "    dtype=object\n",
    ")"
   ]
  },
  {
   "cell_type": "markdown",
   "metadata": {},
   "source": [
    "### Fisher's exact test\n",
    "\n",
    "This study would not need Fisher's exact test, given all expected frequencies are greater than 5, but we show it for completeness.\n",
    "There is no version of Fisher's exact test in StatsModels, so we use SciPy instead."
   ]
  },
  {
   "cell_type": "code",
   "execution_count": 10,
   "metadata": {},
   "outputs": [
    {
     "data": {
      "text/plain": [
       "pval    0.033877\n",
       "Name: fishers exact, dtype: float64"
      ]
     },
     "execution_count": 10,
     "metadata": {},
     "output_type": "execute_result"
    }
   ],
   "source": [
    "_, pval = st.fisher_exact(ctable.table)\n",
    "pd.Series(data={'pval': pval}, name='fisher''s exact')"
   ]
  },
  {
   "cell_type": "markdown",
   "metadata": {},
   "source": [
    "## References\n",
    "\n",
    "Vera Keefe, Papaarangi Reid, Clint Ormsby, Bridget Robson, Gordon Purdie, Joanne Baxter, Ngäti Kahungunu Iwi Incorporated, Serious health events following involuntary job loss in New Zealand meat processing workers, *International Journal of Epidemiology*, Volume 31, Issue 6, December 2002, Pages 1155–1161, https://doi.org/10.1093/ije/31.6.1155"
   ]
  }
 ],
 "metadata": {
  "interpreter": {
   "hash": "e3664f357c2b2734ea2c6777198af464a1d586bce7a4eafd7e49c68ceedc6949"
  },
  "kernelspec": {
   "display_name": "laughingrook",
   "language": "python",
   "name": "laughingrook"
  },
  "language_info": {
   "codemirror_mode": {
    "name": "ipython",
    "version": 3
   },
   "file_extension": ".py",
   "mimetype": "text/x-python",
   "name": "python",
   "nbconvert_exporter": "python",
   "pygments_lexer": "ipython3",
   "version": "3.10.4"
  },
  "toc-autonumbering": false
 },
 "nbformat": 4,
 "nbformat_minor": 4
}
