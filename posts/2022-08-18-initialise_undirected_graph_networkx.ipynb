{
 "cells": [
  {
   "cell_type": "raw",
   "id": "7417c058-c860-4907-8ede-04bc53940440",
   "metadata": {},
   "source": [
    "---\n",
    "title: Initialising an Undirected Graph in NetworkX\n",
    "date: 2022-08-18\n",
    "categories: [Graph]\n",
    "draft: false\n",
    "---"
   ]
  },
  {
   "cell_type": "markdown",
   "id": "42e1b058-0145-4980-9140-42388a2b0d48",
   "metadata": {},
   "source": [
    "## Summary notes\n",
    "\n",
    "Initialise and populate an undirected weighted graph using NetworkX.\n",
    "\n",
    "The source data is a CSV file listing the road network in Europe as an *edge list*.[^1]\n",
    "\n",
    "We first imported the data into a Pandas `DataFrame`.[^2]\n",
    "Next, we exported the `DataFrame` as a collection of dictionaries.[^3]\n",
    "We initialised an empty graph,[^4] and populated it.\n",
    "We closed the notebook by showing how to access the nodes, neighbors, and edges of the graph.\n",
    "\n",
    "Whilst we could populate the graph during initialisation, we found it added unneeded complexity.\n",
    "\n",
    "The |*edges*| ≠ |*edge list*| because NetworkX's `Graph` class does not permit parallel edges between two nodes.[^5]"
   ]
  },
  {
   "cell_type": "markdown",
   "id": "33f5a82c-fe3d-4d71-8f8e-22a5afc14e91",
   "metadata": {},
   "source": [
    "## Dependencies"
   ]
  },
  {
   "cell_type": "code",
   "execution_count": 1,
   "id": "98b09c2b-1ba5-4044-8400-f5cfcffe0204",
   "metadata": {},
   "outputs": [],
   "source": [
    "from dataclasses import dataclass\n",
    "import pandas as pd\n",
    "import networkx as nx"
   ]
  },
  {
   "cell_type": "markdown",
   "id": "97cb5406",
   "metadata": {},
   "source": [
    "### Classes"
   ]
  },
  {
   "cell_type": "code",
   "execution_count": 2,
   "id": "3917f7cd",
   "metadata": {},
   "outputs": [],
   "source": [
    "@dataclass(frozen=True)\n",
    "class PandasERoad:\n",
    "    \"\"\"A dataclass to help the conversion of the raod network data as a\n",
    "    graph.\n",
    "\n",
    "    Stores the remote url and maps the column titles to common graph\n",
    "    terminology\n",
    "    \"\"\"\n",
    "\n",
    "    url: str = ('https://raw.githubusercontent.com/ljk233'\n",
    "                + '/laughingrook-datasets/main/graphs/eroads_edge_list.csv')\n",
    "    u: str = 'origin_reference_place'\n",
    "    v: str = 'destination_reference_place'\n",
    "    uco: str = 'origin_country_code'\n",
    "    vco: str = 'destination_country_code'\n",
    "    w: str = 'distance'\n",
    "    rn: str = 'road_number'\n",
    "    wc: str = 'watercrossing'"
   ]
  },
  {
   "cell_type": "markdown",
   "id": "0e5c0dba",
   "metadata": {},
   "source": [
    "## Functions"
   ]
  },
  {
   "cell_type": "code",
   "execution_count": 4,
   "id": "fe5474f9",
   "metadata": {},
   "outputs": [],
   "source": [
    "def edge_to_tuple(edge: dict, er: PandasERoad) -> tuple:\n",
    "    return (\n",
    "        edge[er.u],\n",
    "        edge[er.v],\n",
    "        {'weight': edge[er.w], er.rn: edge[er.rn], er.wc: edge[er.wc]}\n",
    "    )"
   ]
  },
  {
   "cell_type": "markdown",
   "id": "a6d6b51a-f973-4e35-8552-9f2efe4ca70b",
   "metadata": {},
   "source": [
    "## Main"
   ]
  },
  {
   "cell_type": "code",
   "execution_count": 5,
   "id": "2a0084a1",
   "metadata": {},
   "outputs": [],
   "source": [
    "er = PandasERoad()"
   ]
  },
  {
   "cell_type": "markdown",
   "id": "3021213a-716e-4a19-bc1c-16dc46bdcb33",
   "metadata": {},
   "source": [
    "### Import the data"
   ]
  },
  {
   "cell_type": "code",
   "execution_count": 6,
   "id": "75bd6d43-bdad-4894-b2f2-7c45bcdd0ed3",
   "metadata": {},
   "outputs": [
    {
     "name": "stdout",
     "output_type": "stream",
     "text": [
      "<class 'pandas.core.frame.DataFrame'>\n",
      "RangeIndex: 1250 entries, 0 to 1249\n",
      "Data columns (total 7 columns):\n",
      " #   Column                       Non-Null Count  Dtype \n",
      "---  ------                       --------------  ----- \n",
      " 0   road_number                  1250 non-null   object\n",
      " 1   origin_country_code          1250 non-null   object\n",
      " 2   origin_reference_place       1250 non-null   object\n",
      " 3   destination_country_code     1250 non-null   object\n",
      " 4   destination_reference_place  1250 non-null   object\n",
      " 5   distance                     1250 non-null   int64 \n",
      " 6   watercrossing                1250 non-null   bool  \n",
      "dtypes: bool(1), int64(1), object(5)\n",
      "memory usage: 59.9+ KB\n"
     ]
    }
   ],
   "source": [
    "eroads = pd.read_csv(er.url)\n",
    "eroads.info()"
   ]
  },
  {
   "cell_type": "markdown",
   "id": "805d7200-cffb-41a0-888d-739da9515152",
   "metadata": {},
   "source": [
    "### Export data to a dictionary\n",
    "\n",
    "Each entry in the list is a dictionary representing a single row, where the keys are the column titles."
   ]
  },
  {
   "cell_type": "code",
   "execution_count": 7,
   "id": "08334d22-6091-4f7a-acd2-b4bde53b413b",
   "metadata": {},
   "outputs": [
    {
     "data": {
      "text/plain": [
       "{'road_number': 'E01',\n",
       " 'origin_country_code': 'GB',\n",
       " 'origin_reference_place': 'Larne',\n",
       " 'destination_country_code': 'GB',\n",
       " 'destination_reference_place': 'Belfast',\n",
       " 'distance': 36,\n",
       " 'watercrossing': False}"
      ]
     },
     "execution_count": 7,
     "metadata": {},
     "output_type": "execute_result"
    }
   ],
   "source": [
    "edges = eroads.to_dict(orient='records')\n",
    "edges[0]"
   ]
  },
  {
   "cell_type": "markdown",
   "id": "05db7b85-7474-4baa-b151-d5191636f87d",
   "metadata": {},
   "source": [
    "### Initalise and populate the graph"
   ]
  },
  {
   "cell_type": "code",
   "execution_count": 8,
   "id": "445ac8e3-60d1-47ce-8858-ce48b8e21efd",
   "metadata": {},
   "outputs": [],
   "source": [
    "g = nx.Graph()"
   ]
  },
  {
   "cell_type": "markdown",
   "id": "455e6d63",
   "metadata": {},
   "source": [
    "Adds the nodes.\n",
    "We perform it on both the source and destination nodes in the *edge list* to ensure we populate all the cities, given there's a chance that a city does not appear as a source city in the data."
   ]
  },
  {
   "cell_type": "code",
   "execution_count": 9,
   "id": "bd00a086",
   "metadata": {},
   "outputs": [],
   "source": [
    "g.add_nodes_from((e[er.u], {'country': e[er.uco]}) for e in edges)\n",
    "g.add_nodes_from((e[er.v], {'country': e[er.vco]}) for e in edges)"
   ]
  },
  {
   "cell_type": "markdown",
   "id": "39cbee3f",
   "metadata": {},
   "source": [
    "Add the edges.\n",
    "Given this is an undirected graph, there is no need to add the reverse edges *V* → *U*.\n",
    "\n",
    "Example of output from `edge_to_tuple`"
   ]
  },
  {
   "cell_type": "code",
   "execution_count": 10,
   "id": "c8532ad7",
   "metadata": {},
   "outputs": [
    {
     "data": {
      "text/plain": [
       "('Larne',\n",
       " 'Belfast',\n",
       " {'weight': 36, 'road_number': 'E01', 'watercrossing': False})"
      ]
     },
     "execution_count": 10,
     "metadata": {},
     "output_type": "execute_result"
    }
   ],
   "source": [
    "edge_to_tuple(edges[0], er)"
   ]
  },
  {
   "cell_type": "markdown",
   "id": "9b1bbc66",
   "metadata": {},
   "source": [
    "Populate the edges."
   ]
  },
  {
   "cell_type": "code",
   "execution_count": 11,
   "id": "31302f40",
   "metadata": {},
   "outputs": [],
   "source": [
    "g.add_edges_from(edge_to_tuple(edge, er) for edge in edges)"
   ]
  },
  {
   "cell_type": "markdown",
   "id": "fbac4230-940a-4228-91fc-078c9fa51447",
   "metadata": {},
   "source": [
    "### Inspect the graph\n",
    "\n",
    "Get a description of the graph."
   ]
  },
  {
   "cell_type": "code",
   "execution_count": 12,
   "id": "4b08fbb9-de64-4b2d-b217-0c7cae5447c3",
   "metadata": {},
   "outputs": [
    {
     "name": "stdout",
     "output_type": "stream",
     "text": [
      "Graph with 894 nodes and 1198 edges\n"
     ]
    }
   ],
   "source": [
    "print(g)"
   ]
  },
  {
   "cell_type": "markdown",
   "id": "4b32df5d-e4a9-4758-80bf-c821604fc2e9",
   "metadata": {},
   "source": [
    "Get a selection of the nodes."
   ]
  },
  {
   "cell_type": "code",
   "execution_count": 13,
   "id": "6ea6dba1-9415-469f-8e68-7cf5107201bd",
   "metadata": {},
   "outputs": [
    {
     "data": {
      "text/plain": [
       "['Larne', 'Belfast', 'Dublin', 'Wexford', 'Rosslare']"
      ]
     },
     "execution_count": 13,
     "metadata": {},
     "output_type": "execute_result"
    }
   ],
   "source": [
    "[n for n in g][:5]"
   ]
  },
  {
   "cell_type": "markdown",
   "id": "71a5c3bf-d4f2-4c60-9499-9c456d61143e",
   "metadata": {},
   "source": [
    "Output a more descriptive list of nodes by calling the `nodes()` method."
   ]
  },
  {
   "cell_type": "code",
   "execution_count": 14,
   "id": "725c9a2f-8194-4b03-be0c-48e596290a92",
   "metadata": {},
   "outputs": [
    {
     "data": {
      "text/plain": [
       "[('Larne', {'country': 'GB'}),\n",
       " ('Belfast', {'country': 'GB'}),\n",
       " ('Dublin', {'country': 'IRL'}),\n",
       " ('Wexford', {'country': 'IRL'}),\n",
       " ('Rosslare', {'country': 'IRL'})]"
      ]
     },
     "execution_count": 14,
     "metadata": {},
     "output_type": "execute_result"
    }
   ],
   "source": [
    "[n for n in g.nodes(data=True)][:5]"
   ]
  },
  {
   "cell_type": "markdown",
   "id": "29445c5f-82fe-4d98-846c-43ad930fe181",
   "metadata": {},
   "source": [
    "View the neighbours of the Roma node."
   ]
  },
  {
   "cell_type": "code",
   "execution_count": 15,
   "id": "5a613711-8941-4e4c-83c9-4f276ea7d469",
   "metadata": {},
   "outputs": [
    {
     "data": {
      "text/plain": [
       "['Arezzo', 'Grosseto', 'Pescara', 'San Cesareo']"
      ]
     },
     "execution_count": 15,
     "metadata": {},
     "output_type": "execute_result"
    }
   ],
   "source": [
    "[neighbor for neighbor in g['Roma']]"
   ]
  },
  {
   "cell_type": "markdown",
   "id": "cca4b71b-6340-4bbf-a136-34841579f25d",
   "metadata": {},
   "source": [
    "We can get a more descriptive output of a node's neighbours by not using list comprehension."
   ]
  },
  {
   "cell_type": "code",
   "execution_count": 16,
   "id": "69b065e4-e540-4cb7-b8e3-6ea30922959b",
   "metadata": {},
   "outputs": [
    {
     "data": {
      "text/plain": [
       "AtlasView({'Arezzo': {'weight': 219, 'road_number': 'E35', 'watercrossing': False}, 'Grosseto': {'weight': 182, 'road_number': 'E80', 'watercrossing': False}, 'Pescara': {'weight': 209, 'road_number': 'E80', 'watercrossing': False}, 'San Cesareo': {'weight': 36, 'road_number': 'E821', 'watercrossing': False}})"
      ]
     },
     "execution_count": 16,
     "metadata": {},
     "output_type": "execute_result"
    }
   ],
   "source": [
    "g['Roma']"
   ]
  },
  {
   "cell_type": "markdown",
   "id": "1b6522ae-ab39-4af9-a45f-64ee31ea1f05",
   "metadata": {},
   "source": [
    "Finally, we can simply output the edges of the Roma node."
   ]
  },
  {
   "cell_type": "code",
   "execution_count": 17,
   "id": "660d3d48-7b8d-40ad-8fa7-35dfecc99156",
   "metadata": {},
   "outputs": [
    {
     "data": {
      "text/plain": [
       "[('Roma',\n",
       "  'Arezzo',\n",
       "  {'weight': 219, 'road_number': 'E35', 'watercrossing': False}),\n",
       " ('Roma',\n",
       "  'Grosseto',\n",
       "  {'weight': 182, 'road_number': 'E80', 'watercrossing': False}),\n",
       " ('Roma',\n",
       "  'Pescara',\n",
       "  {'weight': 209, 'road_number': 'E80', 'watercrossing': False}),\n",
       " ('Roma',\n",
       "  'San Cesareo',\n",
       "  {'weight': 36, 'road_number': 'E821', 'watercrossing': False})]"
      ]
     },
     "execution_count": 17,
     "metadata": {},
     "output_type": "execute_result"
    }
   ],
   "source": [
    "[e for e in g.edges('Roma', data=True)]"
   ]
  },
  {
   "cell_type": "markdown",
   "id": "5a4ec55d",
   "metadata": {},
   "source": [
    "[^1]: Nodes are cities, and the edges represent roads connecting cities.\n",
    "[^2]: You don't have to use a `DataFrame` to hold the source data, but there are special characters in the source data, so we outsourced dealing with them to Pandas.\n",
    "[^3]: See [pandas.DataFrame.to_dict](https://pandas.pydata.org/docs/reference/api/pandas.DataFrame.to_dict.html)\n",
    "[^4]: See [networkx.Graph](https://networkx.org/documentation/stable/reference/classes/graph.html#graph-undirected-graphs-with-self-loops)\n",
    "[^5]: In other words, the source list has multiple roads connecting some cities."
   ]
  },
  {
   "cell_type": "code",
   "execution_count": 18,
   "id": "b008071b",
   "metadata": {},
   "outputs": [
    {
     "name": "stdout",
     "output_type": "stream",
     "text": [
      "networkx: 2.8.6\n",
      "pandas  : 1.4.3\n",
      "sys     : 3.10.6 (tags/v3.10.6:9c7b4bd, Aug  1 2022, 21:53:49) [MSC v.1932 64 bit (AMD64)]\n",
      "\n"
     ]
    }
   ],
   "source": [
    "%load_ext watermark\n",
    "%watermark --iversions"
   ]
  }
 ],
 "metadata": {
  "kernelspec": {
   "display_name": "lr_compsci",
   "language": "python",
   "name": "lr_compsci"
  },
  "language_info": {
   "codemirror_mode": {
    "name": "ipython",
    "version": 3
   },
   "file_extension": ".py",
   "mimetype": "text/x-python",
   "name": "python",
   "nbconvert_exporter": "python",
   "pygments_lexer": "ipython3",
   "version": "3.10.6"
  }
 },
 "nbformat": 4,
 "nbformat_minor": 5
}
