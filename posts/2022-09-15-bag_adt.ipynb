{
 "cells": [
  {
   "cell_type": "raw",
   "metadata": {},
   "source": [
    "---\n",
    "title: Bag ADT\n",
    "date: 2022-09-15\n",
    "categories: [AbstractDataType]\n",
    "draft: true\n",
    "---"
   ]
  },
  {
   "cell_type": "markdown",
   "metadata": {},
   "source": [
    "## Dependencies"
   ]
  },
  {
   "cell_type": "code",
   "execution_count": 1,
   "metadata": {},
   "outputs": [],
   "source": [
    "import collections"
   ]
  },
  {
   "cell_type": "markdown",
   "metadata": {},
   "source": [
    "## What is a Bag?\n",
    "\n",
    "A **Bag** is an unordered collection of values that may have duplicates.\n",
    "It is also known as a *multiset*."
   ]
  },
  {
   "cell_type": "markdown",
   "metadata": {},
   "source": [
    "## The Bag ADT\n",
    "\n",
    "| Operation      | Description                                           | Python         |\n",
    "| -------------- | ----------------------------------------------------- | -------------- |\n",
    "| *new*          | Initialise a new empty bag                            | `Bag()`        |\n",
    "| *size*         | Return the number of items in the bag                 | `len(bag)`     |\n",
    "| *contains*     | Return if an item is in the bag                       | `item in bag`  |\n",
    "| *is equal*     | Return true if *b1* and *b2* are equal                | `b1 == b2`     |\n",
    "| *add*          | Add a single item  to the bag                         | `b[item] += 1` |\n",
    "| *remove*       | Remove a single occurence of item from the bag        | `b[item] -= 1` |\n",
    "| *multiplicity* | Return the number of times the item occurs in the bag | `b[item]`      |\n",
    "| *intersection* | Return the intersection of *b1* and *b2*              | `b1 * b2`      |\n",
    "| *difference*   | Return the difference of *b1* and *b2*                | `b1 - b2`      |\n",
    "| *union*        | Return the union of *b1* and *b2*                     | `b1 + b2`      |"
   ]
  },
  {
   "cell_type": "markdown",
   "metadata": {},
   "source": [
    "## Note\n",
    "\n",
    "We implement the Bag ADT by extending Python's `collecions.Counter()` class."
   ]
  },
  {
   "cell_type": "markdown",
   "metadata": {},
   "source": [
    "## Implementation"
   ]
  },
  {
   "cell_type": "code",
   "execution_count": 2,
   "metadata": {},
   "outputs": [],
   "source": [
    "class Bag(collections.Counter):\n",
    "    \"\"\"Implementation of the Bag ADT.\n",
    "\n",
    "    Extends the `Counter` class in Python's `collections` module.\n",
    "    \"\"\"\n",
    "    def __len__(self) -> int:\n",
    "        \"\"\"Return the number of items in the bag\n",
    "        \"\"\"\n",
    "        return sum(self.values())\n",
    "        \n",
    "    def __mul__(self, other):\n",
    "        \"\"\"Return the intersection of the bag and other as a new bag\n",
    "        containing the smallest number of each item.\n",
    "        \"\"\"\n",
    "        nb = Bag()\n",
    "        items = {x for x in self}.union({y for y in other})\n",
    "        for x in items:\n",
    "            nb[x] += min(self[x], other[x])\n",
    "        return nb\n",
    "\n",
    "    def __add__(self, other):\n",
    "        \"\"\"Return the union of the bag and other as a new bag containing\n",
    "        the largest number of each item.\n",
    "        \"\"\"\n",
    "        nb = Bag()\n",
    "        items = {x for x in self}.union({y for y in other})\n",
    "        for x in items:\n",
    "            nb[x] += max(self[x], other[x])\n",
    "        return nb\n",
    "\n",
    "    def __sub__(self, other):\n",
    "        \"\"\"Return the difference of the bag and other.\n",
    "        \"\"\"\n",
    "        nb = Bag()\n",
    "        items = {x for x in self}.union({y for y in other})\n",
    "        for x in items:\n",
    "            nb[x] += abs(self[x] - other[x])\n",
    "        return nb"
   ]
  },
  {
   "cell_type": "markdown",
   "metadata": {},
   "source": [
    "## Example usage\n",
    "\n",
    "Initialise a new bag."
   ]
  },
  {
   "cell_type": "code",
   "execution_count": 3,
   "metadata": {},
   "outputs": [
    {
     "name": "stdout",
     "output_type": "stream",
     "text": [
      "b = Bag()\n"
     ]
    }
   ],
   "source": [
    "b = Bag()\n",
    "print(f\"b = {b}\")"
   ]
  },
  {
   "cell_type": "markdown",
   "metadata": {},
   "source": [
    "Add an item to the bag."
   ]
  },
  {
   "cell_type": "code",
   "execution_count": 4,
   "metadata": {},
   "outputs": [
    {
     "name": "stdout",
     "output_type": "stream",
     "text": [
      "b = Bag({1: 1})\n"
     ]
    }
   ],
   "source": [
    "b = Bag()\n",
    "b[1] += 1\n",
    "print(f\"b = {b}\")"
   ]
  },
  {
   "cell_type": "markdown",
   "metadata": {},
   "source": [
    "Remove an item from the bag."
   ]
  },
  {
   "cell_type": "code",
   "execution_count": 5,
   "metadata": {},
   "outputs": [
    {
     "name": "stdout",
     "output_type": "stream",
     "text": [
      "After adding item, b = Bag({1: 1})\n",
      "After removing items, b = Bag()\n"
     ]
    }
   ],
   "source": [
    "b = Bag()\n",
    "b[1] += 1\n",
    "print(f\"After adding item, b = {b}\")\n",
    "b[1] -= 1\n",
    "print(f\"After removing items, b = {b}\")"
   ]
  },
  {
   "cell_type": "markdown",
   "metadata": {},
   "source": [
    "Add and remove multiple occurences of an item from the bag."
   ]
  },
  {
   "cell_type": "code",
   "execution_count": 6,
   "metadata": {},
   "outputs": [
    {
     "name": "stdout",
     "output_type": "stream",
     "text": [
      "After adding items, b = Bag({5: 4})\n",
      "After removing items, b = Bag({5: 1})\n"
     ]
    }
   ],
   "source": [
    "b = Bag()\n",
    "b[5] += 4\n",
    "print(f\"After adding items, b = {b}\")\n",
    "b[5] -= 3\n",
    "print(f\"After removing items, b = {b}\")"
   ]
  },
  {
   "cell_type": "markdown",
   "metadata": {},
   "source": [
    "Return the number of *unique* items in a bag with `len` function."
   ]
  },
  {
   "cell_type": "code",
   "execution_count": 7,
   "metadata": {},
   "outputs": [
    {
     "name": "stdout",
     "output_type": "stream",
     "text": [
      "b = Bag({1: 100, 2: 100, 3: 100}) -> so |b| = 300\n"
     ]
    }
   ],
   "source": [
    "b = Bag()\n",
    "for x in range(1, 4):\n",
    "    b[x] += 100\n",
    "print(f\"b = {b} -> so |b| = {len(b)}\")"
   ]
  },
  {
   "cell_type": "markdown",
   "metadata": {},
   "source": [
    "Get the multiplicity of an item."
   ]
  },
  {
   "cell_type": "code",
   "execution_count": 20,
   "metadata": {},
   "outputs": [
    {
     "name": "stdout",
     "output_type": "stream",
     "text": [
      "b[1] = 100\n"
     ]
    }
   ],
   "source": [
    "b = Bag()\n",
    "b[1] += 100\n",
    "print(f'b[1] = {b[1]}')"
   ]
  },
  {
   "cell_type": "markdown",
   "metadata": {},
   "source": [
    "Check if a bag contains an item with the `in` operator."
   ]
  },
  {
   "cell_type": "code",
   "execution_count": 21,
   "metadata": {},
   "outputs": [
    {
     "name": "stdout",
     "output_type": "stream",
     "text": [
      "1 in b = True\n",
      "3 in b = False\n"
     ]
    }
   ],
   "source": [
    "b = Bag()\n",
    "b[1] += 1\n",
    "print(f'1 in b = {1 in b}')\n",
    "print(f'3 in b = {3 in b}')"
   ]
  },
  {
   "cell_type": "markdown",
   "metadata": {},
   "source": [
    "Iterate over a bag."
   ]
  },
  {
   "cell_type": "code",
   "execution_count": 10,
   "metadata": {},
   "outputs": [
    {
     "name": "stdout",
     "output_type": "stream",
     "text": [
      "0: 0\n",
      "1: 3\n",
      "2: 6\n"
     ]
    }
   ],
   "source": [
    "b = Bag()\n",
    "for x in range(3):\n",
    "    b[x] += (3 * x)\n",
    "for x, n in b.items():\n",
    "    print(f\"{x}: {n}\")"
   ]
  },
  {
   "cell_type": "markdown",
   "metadata": {},
   "source": [
    "Initialise two new bags and populate them."
   ]
  },
  {
   "cell_type": "code",
   "execution_count": 23,
   "metadata": {},
   "outputs": [
    {
     "name": "stdout",
     "output_type": "stream",
     "text": [
      "left = Bag({'a': 3, 'b': 1})\n",
      "right = Bag({'d': 3, 'a': 1})\n"
     ]
    }
   ],
   "source": [
    "left = Bag(char for char in 'aaab')\n",
    "right = Bag(char for char in 'addd')\n",
    "print(f'left = {left}')\n",
    "print(f'right = {right}')"
   ]
  },
  {
   "cell_type": "markdown",
   "metadata": {},
   "source": [
    "Check for equality between two bags with the `==` operator."
   ]
  },
  {
   "cell_type": "code",
   "execution_count": 12,
   "metadata": {},
   "outputs": [
    {
     "name": "stdout",
     "output_type": "stream",
     "text": [
      "left == left is True\n",
      "left == right is False\n"
     ]
    }
   ],
   "source": [
    "print(f\"left == left is {left == left}\")\n",
    "print(f\"left == right is {left == right}\")"
   ]
  },
  {
   "cell_type": "markdown",
   "metadata": {},
   "source": [
    "Get the intersection of two bags with the `*` operator."
   ]
  },
  {
   "cell_type": "code",
   "execution_count": 13,
   "metadata": {},
   "outputs": [
    {
     "data": {
      "text/plain": [
       "Bag({'a': 1, 'b': 0, 'd': 0})"
      ]
     },
     "execution_count": 13,
     "metadata": {},
     "output_type": "execute_result"
    }
   ],
   "source": [
    "left * right"
   ]
  },
  {
   "cell_type": "markdown",
   "metadata": {},
   "source": [
    "Get the union of two bags with the `+` operator."
   ]
  },
  {
   "cell_type": "code",
   "execution_count": 14,
   "metadata": {},
   "outputs": [
    {
     "data": {
      "text/plain": [
       "Bag({'a': 3, 'b': 1, 'd': 3})"
      ]
     },
     "execution_count": 14,
     "metadata": {},
     "output_type": "execute_result"
    }
   ],
   "source": [
    "left + right"
   ]
  },
  {
   "cell_type": "markdown",
   "metadata": {},
   "source": [
    "Get the difference of *left* and *right* with the `-` operator."
   ]
  },
  {
   "cell_type": "code",
   "execution_count": 15,
   "metadata": {},
   "outputs": [
    {
     "data": {
      "text/plain": [
       "Bag({'a': 2, 'b': 1, 'd': 3})"
      ]
     },
     "execution_count": 15,
     "metadata": {},
     "output_type": "execute_result"
    }
   ],
   "source": [
    "left - right"
   ]
  }
 ],
 "metadata": {
  "interpreter": {
   "hash": "a68adfb4704822cfa48b801e8085761e09ea1bdf6f9740ae22fa7c3a7495d3d0"
  },
  "kernelspec": {
   "display_name": "Python 3.10.4 ('laughingrook')",
   "language": "python",
   "name": "python3"
  },
  "language_info": {
   "codemirror_mode": {
    "name": "ipython",
    "version": 3
   },
   "file_extension": ".py",
   "mimetype": "text/x-python",
   "name": "python",
   "nbconvert_exporter": "python",
   "pygments_lexer": "ipython3",
   "version": "3.10.4"
  }
 },
 "nbformat": 4,
 "nbformat_minor": 4
}
